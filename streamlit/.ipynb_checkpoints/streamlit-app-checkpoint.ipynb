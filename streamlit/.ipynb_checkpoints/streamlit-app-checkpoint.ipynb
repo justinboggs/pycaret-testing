{
 "cells": [
  {
   "cell_type": "code",
   "execution_count": 1,
   "metadata": {},
   "outputs": [],
   "source": [
    "from pycaret.classification import *\n",
    "import streamlit as st\n",
    "import pandas as pd\n",
    "import numpy as np"
   ]
  },
  {
   "cell_type": "code",
   "execution_count": 2,
   "metadata": {},
   "outputs": [
    {
     "name": "stdout",
     "output_type": "stream",
     "text": [
      "Transformation Pipeline and Model Sucessfully Loaded\n"
     ]
    }
   ],
   "source": [
    "def predict_quality(model, df):\n",
    "    predictions_data = predict_model(estimator=model, data=df)\n",
    "    return predictions_data['Label'][0]\n",
    "\n",
    "model = load_model('extra_tree_model')\n",
    "\n",
    "st.title('Wine Quality Classifier Web App')\n",
    "st.write('This is the web app to classify the quality of your wine based on\\\n",
    "        several features that you can see in the sidebar. Please adjust the\\\n",
    "        value of each feature. After that, click on the Predict button at the bottom to\\\n",
    "        see the prediction of the classifier.')"
   ]
  },
  {
   "cell_type": "code",
   "execution_count": 3,
   "metadata": {},
   "outputs": [],
   "source": [
    "fixed_acidity = st.sidebar.slider(label='Fixed Acidity', min_value=4.0, max_value=16.0, value=10.0, step=0.1)\n",
    "\n",
    "volatile_acidity = st.sidebar.slider(label='Volatile Acidity', min_value=0.00, max_value=2.00, value=1.00, step=0.01)\n",
    "\n",
    "citric_acid = st.sidebar.slider(label='Citric Acid', min_value=0.00, max_value=1.00, value=0.50, step=0.01)                          \n",
    "\n",
    "residual_sugar = st.sidebar.slider(label='Residual Sugar', min_value=0.0, max_value=16.0 , value=8.0, step=0.1)\n",
    "\n",
    "chlorides = st.sidebar.slider(label='Chlorides', min_value=0.000, max_value=1.000 , value=0.500, step=0.001)\n",
    "   \n",
    "f_sulf_diox = st.sidebar.slider(label='Free Sulfur Dioxide', min_value=1, max_value=72, value=36, step=1)\n",
    "\n",
    "t_sulf_diox = st.sidebar.slider(label='Total Sulfur Dioxide', min_value=6, max_value=289 , value=144, step=1)\n",
    "\n",
    "density = st.sidebar.slider(label='Density', min_value=0.0000, max_value=2.0000 , value=0.9900, step=0.0001)\n",
    "\n",
    "ph = st.sidebar.slider(label='pH', min_value=2.00, max_value=5.00 , value=3.00, step=0.01)\n",
    "                          \n",
    "sulphates = st.sidebar.slider(label='Sulphates', min_value=0.00, max_value=2.00, value=0.50, step=0.01)\n",
    "\n",
    "alcohol = st.sidebar.slider(label='Alcohol', min_value=8.0, max_value=15.0, value=10.5, step=0.1)"
   ]
  },
  {
   "cell_type": "code",
   "execution_count": 6,
   "metadata": {},
   "outputs": [],
   "source": [
    "features = {'fixed acidity': fixed_acidity, 'volatile acidity': volatile_acidity, 'citric acid': citric_acid, \n",
    "           'residual sugar': residual_sugar, 'chlorides': chlorides, 'free sulfur dioxide': f_sulf_diox, \n",
    "           'total sulfur dioxide': t_sulf_diox, 'density': density, 'pH': ph, 'sulphates': sulphates,\n",
    "            'alcohol': alcohol}\n",
    "\n",
    "features_df = pd.DataFrame([features])\n",
    "\n",
    "st.table(features_df)\n",
    "\n",
    "if st.button('Predict'):\n",
    "    prediction = predict_quality(model, features_df)\n",
    "    st.write(' Based on feature values, your wine quality is ' + str(prediction))"
   ]
  },
  {
   "cell_type": "code",
   "execution_count": null,
   "metadata": {},
   "outputs": [],
   "source": []
  }
 ],
 "metadata": {
  "kernelspec": {
   "display_name": "Python 3",
   "language": "python",
   "name": "python3"
  },
  "language_info": {
   "codemirror_mode": {
    "name": "ipython",
    "version": 3
   },
   "file_extension": ".py",
   "mimetype": "text/x-python",
   "name": "python",
   "nbconvert_exporter": "python",
   "pygments_lexer": "ipython3",
   "version": "3.7.6"
  }
 },
 "nbformat": 4,
 "nbformat_minor": 4
}
