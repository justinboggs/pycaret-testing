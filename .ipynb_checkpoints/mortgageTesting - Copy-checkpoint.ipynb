{
 "cells": [
  {
   "cell_type": "markdown",
   "metadata": {},
   "source": [
    "#### Importing Required Packages"
   ]
  },
  {
   "cell_type": "code",
   "execution_count": 57,
   "metadata": {
    "_cell_guid": "79c7e3d0-c299-4dcb-8224-4455121ee9b0",
    "_kg_hide-output": true,
    "_uuid": "d629ff2d2480ee46fbb7e2d37f6b5fab8052498a"
   },
   "outputs": [
    {
     "name": "stdout",
     "output_type": "stream",
     "text": [
      "Requirement already satisfied: pycaret in c:\\users\\justin\\anaconda3\\lib\\site-packages (1.0.0)\n",
      "Requirement already satisfied: shap==0.32.1 in c:\\users\\justin\\anaconda3\\lib\\site-packages (from pycaret) (0.32.1)\n",
      "Requirement already satisfied: umap-learn in c:\\users\\justin\\anaconda3\\lib\\site-packages (from pycaret) (0.4.2)\n",
      "Requirement already satisfied: joblib in c:\\users\\justin\\anaconda3\\lib\\site-packages (from pycaret) (0.14.1)\n",
      "Requirement already satisfied: plotly==4.4.1 in c:\\users\\justin\\anaconda3\\lib\\site-packages (from pycaret) (4.4.1)\n",
      "Requirement already satisfied: pandas-profiling==2.3.0 in c:\\users\\justin\\anaconda3\\lib\\site-packages (from pycaret) (2.3.0)\n",
      "Requirement already satisfied: spacy in c:\\users\\justin\\anaconda3\\lib\\site-packages (from pycaret) (2.2.4)\n",
      "Requirement already satisfied: seaborn in c:\\users\\justin\\anaconda3\\lib\\site-packages (from pycaret) (0.9.0)\n",
      "Requirement already satisfied: pyod in c:\\users\\justin\\anaconda3\\lib\\site-packages (from pycaret) (0.7.9)\n",
      "Requirement already satisfied: ipywidgets in c:\\users\\justin\\anaconda3\\lib\\site-packages (from pycaret) (7.5.1)\n",
      "Requirement already satisfied: wordcloud in c:\\users\\justin\\anaconda3\\lib\\site-packages (from pycaret) (1.7.0)\n",
      "Requirement already satisfied: gensim in c:\\users\\justin\\anaconda3\\lib\\site-packages (from pycaret) (3.8.3)\n",
      "Requirement already satisfied: numpy in c:\\users\\justin\\anaconda3\\lib\\site-packages (from pycaret) (1.18.1)\n",
      "Requirement already satisfied: kmodes==0.10.1 in c:\\users\\justin\\anaconda3\\lib\\site-packages (from pycaret) (0.10.1)\n",
      "Requirement already satisfied: datetime in c:\\users\\justin\\anaconda3\\lib\\site-packages (from pycaret) (4.3)\n",
      "Requirement already satisfied: lightgbm==2.3.1 in c:\\users\\justin\\anaconda3\\lib\\site-packages (from pycaret) (2.3.1)\n",
      "Requirement already satisfied: scikit-learn==0.22 in c:\\users\\justin\\anaconda3\\lib\\site-packages (from pycaret) (0.22)\n",
      "Requirement already satisfied: yellowbrick==1.0.1 in c:\\users\\justin\\anaconda3\\lib\\site-packages (from pycaret) (1.0.1)\n",
      "Requirement already satisfied: mlxtend in c:\\users\\justin\\anaconda3\\lib\\site-packages (from pycaret) (0.17.2)\n",
      "Requirement already satisfied: xgboost==0.90 in c:\\users\\justin\\anaconda3\\lib\\site-packages (from pycaret) (0.90)\n",
      "Requirement already satisfied: cufflinks==0.17.0 in c:\\users\\justin\\anaconda3\\lib\\site-packages (from pycaret) (0.17.0)\n",
      "Requirement already satisfied: matplotlib in c:\\users\\justin\\appdata\\roaming\\python\\python37\\site-packages (from pycaret) (3.1.2)\n",
      "Requirement already satisfied: pandas in c:\\users\\justin\\anaconda3\\lib\\site-packages (from pycaret) (0.25.3)\n",
      "Requirement already satisfied: pyLDAvis in c:\\users\\justin\\anaconda3\\lib\\site-packages (from pycaret) (2.1.2)\n",
      "Requirement already satisfied: datefinder==0.7.0 in c:\\users\\justin\\anaconda3\\lib\\site-packages (from pycaret) (0.7.0)\n",
      "Requirement already satisfied: IPython in c:\\users\\justin\\anaconda3\\lib\\site-packages (from pycaret) (7.11.1)\n",
      "Requirement already satisfied: nltk in c:\\users\\justin\\anaconda3\\lib\\site-packages (from pycaret) (3.4.5)\n",
      "Requirement already satisfied: catboost==0.20.2 in c:\\users\\justin\\anaconda3\\lib\\site-packages (from pycaret) (0.20.2)\n",
      "Requirement already satisfied: awscli in c:\\users\\justin\\anaconda3\\lib\\site-packages (from pycaret) (1.18.57)\n",
      "Requirement already satisfied: textblob in c:\\users\\justin\\anaconda3\\lib\\site-packages (from pycaret) (0.15.3)\n",
      "Requirement already satisfied: tqdm>4.25.0 in c:\\users\\justin\\anaconda3\\lib\\site-packages (from shap==0.32.1->pycaret) (4.41.1)\n",
      "Requirement already satisfied: scipy in c:\\users\\justin\\anaconda3\\lib\\site-packages (from shap==0.32.1->pycaret) (1.3.2)\n",
      "Requirement already satisfied: numba!=0.47,>=0.46 in c:\\users\\justin\\anaconda3\\lib\\site-packages (from umap-learn->pycaret) (0.49.1)\n",
      "Requirement already satisfied: tbb>=2019.0 in c:\\users\\justin\\anaconda3\\lib\\site-packages (from umap-learn->pycaret) (2019.0)\n",
      "Requirement already satisfied: retrying>=1.3.3 in c:\\users\\justin\\anaconda3\\lib\\site-packages (from plotly==4.4.1->pycaret) (1.3.3)\n",
      "Requirement already satisfied: six in c:\\users\\justin\\anaconda3\\lib\\site-packages (from plotly==4.4.1->pycaret) (1.13.0)\n",
      "Requirement already satisfied: phik>=0.9.8 in c:\\users\\justin\\anaconda3\\lib\\site-packages (from pandas-profiling==2.3.0->pycaret) (0.9.11)\n",
      "Requirement already satisfied: jinja2>=2.8 in c:\\users\\justin\\anaconda3\\lib\\site-packages (from pandas-profiling==2.3.0->pycaret) (2.10.3)\n",
      "Requirement already satisfied: confuse>=1.0.0 in c:\\users\\justin\\anaconda3\\lib\\site-packages (from pandas-profiling==2.3.0->pycaret) (1.1.0)\n",
      "Requirement already satisfied: astropy in c:\\users\\justin\\anaconda3\\lib\\site-packages (from pandas-profiling==2.3.0->pycaret) (4.0)\n",
      "Requirement already satisfied: htmlmin>=0.1.12 in c:\\users\\justin\\anaconda3\\lib\\site-packages (from pandas-profiling==2.3.0->pycaret) (0.1.12)\n",
      "Requirement already satisfied: missingno>=0.4.2 in c:\\users\\justin\\anaconda3\\lib\\site-packages (from pandas-profiling==2.3.0->pycaret) (0.4.2)\n",
      "Requirement already satisfied: wasabi<1.1.0,>=0.4.0 in c:\\users\\justin\\anaconda3\\lib\\site-packages (from spacy->pycaret) (0.6.0)\n",
      "Requirement already satisfied: srsly<1.1.0,>=1.0.2 in c:\\users\\justin\\anaconda3\\lib\\site-packages (from spacy->pycaret) (1.0.2)\n",
      "Requirement already satisfied: plac<1.2.0,>=0.9.6 in c:\\users\\justin\\anaconda3\\lib\\site-packages (from spacy->pycaret) (1.1.3)\n",
      "Requirement already satisfied: blis<0.5.0,>=0.4.0 in c:\\users\\justin\\anaconda3\\lib\\site-packages (from spacy->pycaret) (0.4.1)\n",
      "Requirement already satisfied: setuptools in c:\\users\\justin\\anaconda3\\lib\\site-packages (from spacy->pycaret) (44.0.0.post20200106)\n",
      "Requirement already satisfied: murmurhash<1.1.0,>=0.28.0 in c:\\users\\justin\\anaconda3\\lib\\site-packages (from spacy->pycaret) (1.0.2)\n",
      "Requirement already satisfied: catalogue<1.1.0,>=0.0.7 in c:\\users\\justin\\anaconda3\\lib\\site-packages (from spacy->pycaret) (1.0.0)\n",
      "Requirement already satisfied: cymem<2.1.0,>=2.0.2 in c:\\users\\justin\\anaconda3\\lib\\site-packages (from spacy->pycaret) (2.0.3)\n",
      "Requirement already satisfied: thinc==7.4.0 in c:\\users\\justin\\anaconda3\\lib\\site-packages (from spacy->pycaret) (7.4.0)\n",
      "Requirement already satisfied: preshed<3.1.0,>=3.0.2 in c:\\users\\justin\\anaconda3\\lib\\site-packages (from spacy->pycaret) (3.0.2)\n",
      "Requirement already satisfied: requests<3.0.0,>=2.13.0 in c:\\users\\justin\\anaconda3\\lib\\site-packages (from spacy->pycaret) (2.22.0)\n",
      "Requirement already satisfied: suod in c:\\users\\justin\\anaconda3\\lib\\site-packages (from pyod->pycaret) (0.0.4)\n",
      "Requirement already satisfied: combo in c:\\users\\justin\\anaconda3\\lib\\site-packages (from pyod->pycaret) (0.1.0)\n",
      "Requirement already satisfied: traitlets>=4.3.1 in c:\\users\\justin\\anaconda3\\lib\\site-packages (from ipywidgets->pycaret) (4.3.3)\n",
      "Requirement already satisfied: ipykernel>=4.5.1 in c:\\users\\justin\\anaconda3\\lib\\site-packages (from ipywidgets->pycaret) (5.1.3)\n",
      "Requirement already satisfied: nbformat>=4.2.0 in c:\\users\\justin\\anaconda3\\lib\\site-packages (from ipywidgets->pycaret) (4.4.0)\n",
      "Requirement already satisfied: widgetsnbextension~=3.5.0 in c:\\users\\justin\\anaconda3\\lib\\site-packages (from ipywidgets->pycaret) (3.5.1)\n",
      "Requirement already satisfied: pillow in c:\\users\\justin\\anaconda3\\lib\\site-packages (from wordcloud->pycaret) (7.0.0)\n",
      "Requirement already satisfied: Cython==0.29.14 in c:\\users\\justin\\anaconda3\\lib\\site-packages (from gensim->pycaret) (0.29.14)\n",
      "Requirement already satisfied: smart-open>=1.8.1 in c:\\users\\justin\\anaconda3\\lib\\site-packages (from gensim->pycaret) (2.0.0)\n",
      "Requirement already satisfied: zope.interface in c:\\users\\justin\\anaconda3\\lib\\site-packages (from datetime->pycaret) (5.1.0)\n",
      "Requirement already satisfied: pytz in c:\\users\\justin\\anaconda3\\lib\\site-packages (from datetime->pycaret) (2019.3)\n",
      "Requirement already satisfied: cycler>=0.10.0 in c:\\users\\justin\\anaconda3\\lib\\site-packages (from yellowbrick==1.0.1->pycaret) (0.10.0)\n",
      "Requirement already satisfied: chart-studio>=1.0.0 in c:\\users\\justin\\anaconda3\\lib\\site-packages (from cufflinks==0.17.0->pycaret) (1.1.0)\n",
      "Requirement already satisfied: colorlover>=0.2.1 in c:\\users\\justin\\anaconda3\\lib\\site-packages (from cufflinks==0.17.0->pycaret) (0.3.0)\n",
      "Requirement already satisfied: pyparsing!=2.0.4,!=2.1.2,!=2.1.6,>=2.0.1 in c:\\users\\justin\\anaconda3\\lib\\site-packages (from matplotlib->pycaret) (2.4.6)\n",
      "Requirement already satisfied: kiwisolver>=1.0.1 in c:\\users\\justin\\anaconda3\\lib\\site-packages (from matplotlib->pycaret) (1.1.0)\n",
      "Requirement already satisfied: python-dateutil>=2.1 in c:\\users\\justin\\anaconda3\\lib\\site-packages (from matplotlib->pycaret) (2.8.1)\n",
      "Requirement already satisfied: future in c:\\users\\justin\\anaconda3\\lib\\site-packages (from pyLDAvis->pycaret) (0.18.2)\n",
      "Requirement already satisfied: wheel>=0.23.0 in c:\\users\\justin\\anaconda3\\lib\\site-packages (from pyLDAvis->pycaret) (0.33.6)\n",
      "Requirement already satisfied: funcy in c:\\users\\justin\\anaconda3\\lib\\site-packages (from pyLDAvis->pycaret) (1.14)\n",
      "Requirement already satisfied: pytest in c:\\users\\justin\\anaconda3\\lib\\site-packages (from pyLDAvis->pycaret) (5.3.2)\n",
      "Requirement already satisfied: numexpr in c:\\users\\justin\\anaconda3\\lib\\site-packages (from pyLDAvis->pycaret) (2.7.0)\n",
      "Requirement already satisfied: regex>=2017.02.08 in c:\\users\\justin\\anaconda3\\lib\\site-packages (from datefinder==0.7.0->pycaret) (2020.5.7)\n",
      "Requirement already satisfied: pickleshare in c:\\users\\justin\\anaconda3\\lib\\site-packages (from IPython->pycaret) (0.7.5)\n",
      "Requirement already satisfied: colorama; sys_platform == \"win32\" in c:\\users\\justin\\anaconda3\\lib\\site-packages (from IPython->pycaret) (0.4.3)\n",
      "Requirement already satisfied: decorator in c:\\users\\justin\\anaconda3\\lib\\site-packages (from IPython->pycaret) (4.4.1)\n",
      "Requirement already satisfied: pygments in c:\\users\\justin\\anaconda3\\lib\\site-packages (from IPython->pycaret) (2.5.2)\n",
      "Requirement already satisfied: backcall in c:\\users\\justin\\anaconda3\\lib\\site-packages (from IPython->pycaret) (0.1.0)\n",
      "Requirement already satisfied: jedi>=0.10 in c:\\users\\justin\\anaconda3\\lib\\site-packages (from IPython->pycaret) (0.15.2)\n",
      "Requirement already satisfied: prompt-toolkit!=3.0.0,!=3.0.1,<3.1.0,>=2.0.0 in c:\\users\\justin\\anaconda3\\lib\\site-packages (from IPython->pycaret) (2.0.10)\n",
      "Requirement already satisfied: graphviz in c:\\users\\justin\\anaconda3\\lib\\site-packages (from catboost==0.20.2->pycaret) (0.14)\n",
      "Requirement already satisfied: botocore==1.16.7 in c:\\users\\justin\\anaconda3\\lib\\site-packages (from awscli->pycaret) (1.16.7)\n",
      "Requirement already satisfied: docutils<0.16,>=0.10 in c:\\users\\justin\\anaconda3\\lib\\site-packages (from awscli->pycaret) (0.15.2)\n",
      "Requirement already satisfied: rsa<=3.5.0,>=3.1.2 in c:\\users\\justin\\anaconda3\\lib\\site-packages (from awscli->pycaret) (3.4.2)\n",
      "Requirement already satisfied: PyYAML<5.4,>=3.10; python_version != \"3.4\" in c:\\users\\justin\\anaconda3\\lib\\site-packages (from awscli->pycaret) (5.2)\n",
      "Requirement already satisfied: s3transfer<0.4.0,>=0.3.0 in c:\\users\\justin\\anaconda3\\lib\\site-packages (from awscli->pycaret) (0.3.3)\n",
      "Requirement already satisfied: llvmlite<=0.33.0.dev0,>=0.31.0.dev0 in c:\\users\\justin\\anaconda3\\lib\\site-packages (from numba!=0.47,>=0.46->umap-learn->pycaret) (0.31.0)\n",
      "Requirement already satisfied: MarkupSafe>=0.23 in c:\\users\\justin\\anaconda3\\lib\\site-packages (from jinja2>=2.8->pandas-profiling==2.3.0->pycaret) (1.1.1)\n",
      "Requirement already satisfied: importlib-metadata>=0.20; python_version < \"3.8\" in c:\\users\\justin\\anaconda3\\lib\\site-packages (from catalogue<1.1.0,>=0.0.7->spacy->pycaret) (1.3.0)\n",
      "Requirement already satisfied: urllib3!=1.25.0,!=1.25.1,<1.26,>=1.21.1 in c:\\users\\justin\\anaconda3\\lib\\site-packages (from requests<3.0.0,>=2.13.0->spacy->pycaret) (1.25.7)\n",
      "Requirement already satisfied: idna<2.9,>=2.5 in c:\\users\\justin\\anaconda3\\lib\\site-packages (from requests<3.0.0,>=2.13.0->spacy->pycaret) (2.8)\n",
      "Requirement already satisfied: chardet<3.1.0,>=3.0.2 in c:\\users\\justin\\anaconda3\\lib\\site-packages (from requests<3.0.0,>=2.13.0->spacy->pycaret) (3.0.4)\n",
      "Requirement already satisfied: certifi>=2017.4.17 in c:\\users\\justin\\anaconda3\\lib\\site-packages (from requests<3.0.0,>=2.13.0->spacy->pycaret) (2020.4.5.1)\n",
      "Requirement already satisfied: ipython-genutils in c:\\users\\justin\\anaconda3\\lib\\site-packages (from traitlets>=4.3.1->ipywidgets->pycaret) (0.2.0)\n",
      "Requirement already satisfied: tornado>=4.2 in c:\\users\\justin\\anaconda3\\lib\\site-packages (from ipykernel>=4.5.1->ipywidgets->pycaret) (6.0.3)\n",
      "Requirement already satisfied: jupyter-client in c:\\users\\justin\\anaconda3\\lib\\site-packages (from ipykernel>=4.5.1->ipywidgets->pycaret) (5.3.4)\n",
      "Requirement already satisfied: jupyter-core in c:\\users\\justin\\anaconda3\\lib\\site-packages (from nbformat>=4.2.0->ipywidgets->pycaret) (4.6.1)\n",
      "Requirement already satisfied: jsonschema!=2.5.0,>=2.4 in c:\\users\\justin\\anaconda3\\lib\\site-packages (from nbformat>=4.2.0->ipywidgets->pycaret) (3.2.0)\n",
      "Requirement already satisfied: notebook>=4.4.1 in c:\\users\\justin\\anaconda3\\lib\\site-packages (from widgetsnbextension~=3.5.0->ipywidgets->pycaret) (6.0.2)\n",
      "Requirement already satisfied: boto in c:\\users\\justin\\anaconda3\\lib\\site-packages (from smart-open>=1.8.1->gensim->pycaret) (2.49.0)\n",
      "Requirement already satisfied: boto3 in c:\\users\\justin\\anaconda3\\lib\\site-packages (from smart-open>=1.8.1->gensim->pycaret) (1.13.7)\n",
      "Requirement already satisfied: py>=1.5.0 in c:\\users\\justin\\anaconda3\\lib\\site-packages (from pytest->pyLDAvis->pycaret) (1.8.1)\n",
      "Requirement already satisfied: packaging in c:\\users\\justin\\anaconda3\\lib\\site-packages (from pytest->pyLDAvis->pycaret) (20.0)\n",
      "Requirement already satisfied: attrs>=17.4.0 in c:\\users\\justin\\anaconda3\\lib\\site-packages (from pytest->pyLDAvis->pycaret) (19.3.0)\n",
      "Requirement already satisfied: more-itertools>=4.0.0 in c:\\users\\justin\\anaconda3\\lib\\site-packages (from pytest->pyLDAvis->pycaret) (8.0.2)\n",
      "Requirement already satisfied: pluggy<1.0,>=0.12 in c:\\users\\justin\\anaconda3\\lib\\site-packages (from pytest->pyLDAvis->pycaret) (0.13.1)\n",
      "Requirement already satisfied: wcwidth in c:\\users\\justin\\anaconda3\\lib\\site-packages (from pytest->pyLDAvis->pycaret) (0.1.7)\n",
      "Requirement already satisfied: atomicwrites>=1.0 in c:\\users\\justin\\anaconda3\\lib\\site-packages (from pytest->pyLDAvis->pycaret) (1.3.0)\n",
      "Requirement already satisfied: parso>=0.5.2 in c:\\users\\justin\\anaconda3\\lib\\site-packages (from jedi>=0.10->IPython->pycaret) (0.5.2)\n",
      "Requirement already satisfied: jmespath<1.0.0,>=0.7.1 in c:\\users\\justin\\anaconda3\\lib\\site-packages (from botocore==1.16.7->awscli->pycaret) (0.9.5)\n",
      "Requirement already satisfied: pyasn1>=0.1.3 in c:\\users\\justin\\anaconda3\\lib\\site-packages (from rsa<=3.5.0,>=3.1.2->awscli->pycaret) (0.4.8)\n",
      "Requirement already satisfied: zipp>=0.5 in c:\\users\\justin\\anaconda3\\lib\\site-packages (from importlib-metadata>=0.20; python_version < \"3.8\"->catalogue<1.1.0,>=0.0.7->spacy->pycaret) (0.6.0)\n",
      "Requirement already satisfied: pyzmq>=13 in c:\\users\\justin\\anaconda3\\lib\\site-packages (from jupyter-client->ipykernel>=4.5.1->ipywidgets->pycaret) (18.1.0)\n",
      "Requirement already satisfied: pywin32>=1.0; sys_platform == \"win32\" in c:\\users\\justin\\anaconda3\\lib\\site-packages (from jupyter-client->ipykernel>=4.5.1->ipywidgets->pycaret) (227)\n",
      "Requirement already satisfied: pyrsistent>=0.14.0 in c:\\users\\justin\\anaconda3\\lib\\site-packages (from jsonschema!=2.5.0,>=2.4->nbformat>=4.2.0->ipywidgets->pycaret) (0.15.6)\n",
      "Requirement already satisfied: prometheus-client in c:\\users\\justin\\anaconda3\\lib\\site-packages (from notebook>=4.4.1->widgetsnbextension~=3.5.0->ipywidgets->pycaret) (0.7.1)\n",
      "Requirement already satisfied: nbconvert in c:\\users\\justin\\anaconda3\\lib\\site-packages (from notebook>=4.4.1->widgetsnbextension~=3.5.0->ipywidgets->pycaret) (5.6.1)\n",
      "Requirement already satisfied: terminado>=0.8.1 in c:\\users\\justin\\anaconda3\\lib\\site-packages (from notebook>=4.4.1->widgetsnbextension~=3.5.0->ipywidgets->pycaret) (0.8.3)\n",
      "Requirement already satisfied: Send2Trash in c:\\users\\justin\\anaconda3\\lib\\site-packages (from notebook>=4.4.1->widgetsnbextension~=3.5.0->ipywidgets->pycaret) (1.5.0)\n",
      "Requirement already satisfied: mistune<2,>=0.8.1 in c:\\users\\justin\\anaconda3\\lib\\site-packages (from nbconvert->notebook>=4.4.1->widgetsnbextension~=3.5.0->ipywidgets->pycaret) (0.8.4)\n",
      "Requirement already satisfied: entrypoints>=0.2.2 in c:\\users\\justin\\anaconda3\\lib\\site-packages (from nbconvert->notebook>=4.4.1->widgetsnbextension~=3.5.0->ipywidgets->pycaret) (0.3)\n",
      "Requirement already satisfied: defusedxml in c:\\users\\justin\\anaconda3\\lib\\site-packages (from nbconvert->notebook>=4.4.1->widgetsnbextension~=3.5.0->ipywidgets->pycaret) (0.6.0)\n",
      "Requirement already satisfied: pandocfilters>=1.4.1 in c:\\users\\justin\\anaconda3\\lib\\site-packages (from nbconvert->notebook>=4.4.1->widgetsnbextension~=3.5.0->ipywidgets->pycaret) (1.4.2)\n",
      "Requirement already satisfied: testpath in c:\\users\\justin\\anaconda3\\lib\\site-packages (from nbconvert->notebook>=4.4.1->widgetsnbextension~=3.5.0->ipywidgets->pycaret) (0.4.4)\n",
      "Requirement already satisfied: bleach in c:\\users\\justin\\anaconda3\\lib\\site-packages (from nbconvert->notebook>=4.4.1->widgetsnbextension~=3.5.0->ipywidgets->pycaret) (3.1.0)\n",
      "Requirement already satisfied: webencodings in c:\\users\\justin\\anaconda3\\lib\\site-packages (from bleach->nbconvert->notebook>=4.4.1->widgetsnbextension~=3.5.0->ipywidgets->pycaret) (0.5.1)\n"
     ]
    }
   ],
   "source": [
    "import pandas as pd\n",
    "import numpy as np\n",
    "import matplotlib.pyplot as plt\n",
    "import scipy.stats as ss\n",
    "from scipy.stats import chi2_contingency\n",
    "from sklearn.preprocessing import LabelEncoder\n",
    "le=LabelEncoder()\n",
    "from sklearn.ensemble import RandomForestClassifier\n",
    "!pip install pycaret\n",
    "from pycaret.classification import *\n",
    "from pycaret.regression import *"
   ]
  },
  {
   "cell_type": "markdown",
   "metadata": {},
   "source": [
    "#### Importing the data"
   ]
  },
  {
   "cell_type": "code",
   "execution_count": 15,
   "metadata": {},
   "outputs": [
    {
     "data": {
      "text/html": [
       "<div>\n",
       "<style scoped>\n",
       "    .dataframe tbody tr th:only-of-type {\n",
       "        vertical-align: middle;\n",
       "    }\n",
       "\n",
       "    .dataframe tbody tr th {\n",
       "        vertical-align: top;\n",
       "    }\n",
       "\n",
       "    .dataframe thead th {\n",
       "        text-align: right;\n",
       "    }\n",
       "</style>\n",
       "<table border=\"1\" class=\"dataframe\">\n",
       "  <thead>\n",
       "    <tr style=\"text-align: right;\">\n",
       "      <th></th>\n",
       "      <th>Unnamed: 0</th>\n",
       "      <th>sellerName</th>\n",
       "      <th>origChannel</th>\n",
       "      <th>origIntRate</th>\n",
       "      <th>origUPB</th>\n",
       "      <th>origDate</th>\n",
       "      <th>firstPmtDate</th>\n",
       "      <th>origLTV</th>\n",
       "      <th>origCLTV</th>\n",
       "      <th>numBorrowers</th>\n",
       "      <th>...</th>\n",
       "      <th>loanPurp</th>\n",
       "      <th>propState</th>\n",
       "      <th>zipCode</th>\n",
       "      <th>pMIperct</th>\n",
       "      <th>mortInsType</th>\n",
       "      <th>fmacRate</th>\n",
       "      <th>fredRate</th>\n",
       "      <th>rateDiff</th>\n",
       "      <th>rateDiffPct</th>\n",
       "      <th>rank</th>\n",
       "    </tr>\n",
       "  </thead>\n",
       "  <tbody>\n",
       "    <tr>\n",
       "      <th>0</th>\n",
       "      <td>0</td>\n",
       "      <td>UNITED SHORE FINANCIAL SERVICES, LLC DBA UNITE...</td>\n",
       "      <td>1</td>\n",
       "      <td>4.625</td>\n",
       "      <td>160000</td>\n",
       "      <td>2019-02-01</td>\n",
       "      <td>4/1/2019</td>\n",
       "      <td>80</td>\n",
       "      <td>80</td>\n",
       "      <td>2</td>\n",
       "      <td>...</td>\n",
       "      <td>C</td>\n",
       "      <td>IN</td>\n",
       "      <td>462</td>\n",
       "      <td>0</td>\n",
       "      <td>0</td>\n",
       "      <td>4.46</td>\n",
       "      <td>2.7</td>\n",
       "      <td>0.165</td>\n",
       "      <td>0.036996</td>\n",
       "      <td>3</td>\n",
       "    </tr>\n",
       "    <tr>\n",
       "      <th>1</th>\n",
       "      <td>1</td>\n",
       "      <td>UNITED SHORE FINANCIAL SERVICES, LLC DBA UNITE...</td>\n",
       "      <td>1</td>\n",
       "      <td>4.500</td>\n",
       "      <td>510000</td>\n",
       "      <td>2019-02-01</td>\n",
       "      <td>4/1/2019</td>\n",
       "      <td>64</td>\n",
       "      <td>64</td>\n",
       "      <td>2</td>\n",
       "      <td>...</td>\n",
       "      <td>C</td>\n",
       "      <td>CA</td>\n",
       "      <td>913</td>\n",
       "      <td>0</td>\n",
       "      <td>0</td>\n",
       "      <td>4.46</td>\n",
       "      <td>2.7</td>\n",
       "      <td>0.040</td>\n",
       "      <td>0.008969</td>\n",
       "      <td>2</td>\n",
       "    </tr>\n",
       "    <tr>\n",
       "      <th>2</th>\n",
       "      <td>2</td>\n",
       "      <td>QUICKEN LOANS INC.</td>\n",
       "      <td>0</td>\n",
       "      <td>4.750</td>\n",
       "      <td>143000</td>\n",
       "      <td>2019-02-01</td>\n",
       "      <td>4/1/2019</td>\n",
       "      <td>68</td>\n",
       "      <td>68</td>\n",
       "      <td>1</td>\n",
       "      <td>...</td>\n",
       "      <td>C</td>\n",
       "      <td>NC</td>\n",
       "      <td>286</td>\n",
       "      <td>0</td>\n",
       "      <td>0</td>\n",
       "      <td>4.46</td>\n",
       "      <td>2.7</td>\n",
       "      <td>0.290</td>\n",
       "      <td>0.065022</td>\n",
       "      <td>3</td>\n",
       "    </tr>\n",
       "    <tr>\n",
       "      <th>3</th>\n",
       "      <td>3</td>\n",
       "      <td>UNITED SHORE FINANCIAL SERVICES, LLC DBA UNITE...</td>\n",
       "      <td>1</td>\n",
       "      <td>4.500</td>\n",
       "      <td>160000</td>\n",
       "      <td>2019-02-01</td>\n",
       "      <td>4/1/2019</td>\n",
       "      <td>17</td>\n",
       "      <td>17</td>\n",
       "      <td>1</td>\n",
       "      <td>...</td>\n",
       "      <td>C</td>\n",
       "      <td>CA</td>\n",
       "      <td>920</td>\n",
       "      <td>0</td>\n",
       "      <td>0</td>\n",
       "      <td>4.46</td>\n",
       "      <td>2.7</td>\n",
       "      <td>0.040</td>\n",
       "      <td>0.008969</td>\n",
       "      <td>2</td>\n",
       "    </tr>\n",
       "    <tr>\n",
       "      <th>4</th>\n",
       "      <td>4</td>\n",
       "      <td>PENNYMAC CORP.</td>\n",
       "      <td>2</td>\n",
       "      <td>4.500</td>\n",
       "      <td>320000</td>\n",
       "      <td>2019-02-01</td>\n",
       "      <td>4/1/2019</td>\n",
       "      <td>74</td>\n",
       "      <td>74</td>\n",
       "      <td>2</td>\n",
       "      <td>...</td>\n",
       "      <td>R</td>\n",
       "      <td>LA</td>\n",
       "      <td>707</td>\n",
       "      <td>0</td>\n",
       "      <td>0</td>\n",
       "      <td>4.46</td>\n",
       "      <td>2.7</td>\n",
       "      <td>0.040</td>\n",
       "      <td>0.008969</td>\n",
       "      <td>2</td>\n",
       "    </tr>\n",
       "  </tbody>\n",
       "</table>\n",
       "<p>5 rows × 25 columns</p>\n",
       "</div>"
      ],
      "text/plain": [
       "   Unnamed: 0                                         sellerName  origChannel  \\\n",
       "0           0  UNITED SHORE FINANCIAL SERVICES, LLC DBA UNITE...            1   \n",
       "1           1  UNITED SHORE FINANCIAL SERVICES, LLC DBA UNITE...            1   \n",
       "2           2                                 QUICKEN LOANS INC.            0   \n",
       "3           3  UNITED SHORE FINANCIAL SERVICES, LLC DBA UNITE...            1   \n",
       "4           4                                     PENNYMAC CORP.            2   \n",
       "\n",
       "   origIntRate  origUPB    origDate firstPmtDate  origLTV  origCLTV  \\\n",
       "0        4.625   160000  2019-02-01     4/1/2019       80        80   \n",
       "1        4.500   510000  2019-02-01     4/1/2019       64        64   \n",
       "2        4.750   143000  2019-02-01     4/1/2019       68        68   \n",
       "3        4.500   160000  2019-02-01     4/1/2019       17        17   \n",
       "4        4.500   320000  2019-02-01     4/1/2019       74        74   \n",
       "\n",
       "   numBorrowers  ...  loanPurp  propState  zipCode  pMIperct  mortInsType  \\\n",
       "0             2  ...         C         IN      462         0            0   \n",
       "1             2  ...         C         CA      913         0            0   \n",
       "2             1  ...         C         NC      286         0            0   \n",
       "3             1  ...         C         CA      920         0            0   \n",
       "4             2  ...         R         LA      707         0            0   \n",
       "\n",
       "  fmacRate fredRate  rateDiff  rateDiffPct  rank  \n",
       "0     4.46      2.7     0.165     0.036996     3  \n",
       "1     4.46      2.7     0.040     0.008969     2  \n",
       "2     4.46      2.7     0.290     0.065022     3  \n",
       "3     4.46      2.7     0.040     0.008969     2  \n",
       "4     4.46      2.7     0.040     0.008969     2  \n",
       "\n",
       "[5 rows x 25 columns]"
      ]
     },
     "execution_count": 15,
     "metadata": {},
     "output_type": "execute_result"
    }
   ],
   "source": [
    "data=pd.read_csv(\"data/FannieAcq2019Q1FMac30bin9.csv\")\n",
    "data.head()"
   ]
  },
  {
   "cell_type": "code",
   "execution_count": 16,
   "metadata": {},
   "outputs": [],
   "source": [
    "data.rename(columns={'Unnamed: 0':'namedCol'}, inplace=True )"
   ]
  },
  {
   "cell_type": "code",
   "execution_count": 17,
   "metadata": {},
   "outputs": [
    {
     "data": {
      "text/plain": [
       "(28939, 25)"
      ]
     },
     "execution_count": 17,
     "metadata": {},
     "output_type": "execute_result"
    }
   ],
   "source": [
    "data.shape"
   ]
  },
  {
   "cell_type": "code",
   "execution_count": 18,
   "metadata": {},
   "outputs": [
    {
     "data": {
      "text/plain": [
       "namedCol            0\n",
       "sellerName          0\n",
       "origChannel         0\n",
       "origIntRate         0\n",
       "origUPB             0\n",
       "origDate            0\n",
       "firstPmtDate        0\n",
       "origLTV             0\n",
       "origCLTV            0\n",
       "numBorrowers        0\n",
       "origDebtIncRatio    0\n",
       "borrCreditScore     0\n",
       "BestCreditScore     0\n",
       "WorstCreditScore    0\n",
       "AvgCreditScore      0\n",
       "loanPurp            0\n",
       "propState           0\n",
       "zipCode             0\n",
       "pMIperct            0\n",
       "mortInsType         0\n",
       "fmacRate            0\n",
       "fredRate            0\n",
       "rateDiff            0\n",
       "rateDiffPct         0\n",
       "rank                0\n",
       "dtype: int64"
      ]
     },
     "execution_count": 18,
     "metadata": {},
     "output_type": "execute_result"
    }
   ],
   "source": [
    "#Checking for missing values\n",
    "data.isnull().sum()"
   ]
  },
  {
   "cell_type": "code",
   "execution_count": 19,
   "metadata": {},
   "outputs": [
    {
     "data": {
      "text/plain": [
       "namedCol              int64\n",
       "sellerName           object\n",
       "origChannel           int64\n",
       "origIntRate         float64\n",
       "origUPB               int64\n",
       "origDate             object\n",
       "firstPmtDate         object\n",
       "origLTV               int64\n",
       "origCLTV              int64\n",
       "numBorrowers          int64\n",
       "origDebtIncRatio      int64\n",
       "borrCreditScore       int64\n",
       "BestCreditScore       int64\n",
       "WorstCreditScore      int64\n",
       "AvgCreditScore      float64\n",
       "loanPurp             object\n",
       "propState            object\n",
       "zipCode               int64\n",
       "pMIperct              int64\n",
       "mortInsType           int64\n",
       "fmacRate            float64\n",
       "fredRate            float64\n",
       "rateDiff            float64\n",
       "rateDiffPct         float64\n",
       "rank                  int64\n",
       "dtype: object"
      ]
     },
     "execution_count": 19,
     "metadata": {},
     "output_type": "execute_result"
    }
   ],
   "source": [
    "#Checking datatypes of individual feature\n",
    "data.dtypes"
   ]
  },
  {
   "cell_type": "code",
   "execution_count": 56,
   "metadata": {},
   "outputs": [
    {
     "ename": "KeyError",
     "evalue": "\"['namedCol' 'sellerName' 'origChannel' 'origDate' 'firstPmtDate'\\n 'borrCreditScore' 'BestCreditScore' 'WorstCreditScore' 'loanPurp'\\n 'propState' 'zipCode' 'pMIperct' 'mortInsType' 'rank'] not found in axis\"",
     "output_type": "error",
     "traceback": [
      "\u001b[1;31m---------------------------------------------------------------------------\u001b[0m",
      "\u001b[1;31mKeyError\u001b[0m                                  Traceback (most recent call last)",
      "\u001b[1;32m<ipython-input-56-c2c7d7b5f172>\u001b[0m in \u001b[0;36m<module>\u001b[1;34m\u001b[0m\n\u001b[0;32m      2\u001b[0m data.drop(['namedCol', 'sellerName', 'origChannel', 'origDate', 'firstPmtDate', 'borrCreditScore', 'BestCreditScore', 'WorstCreditScore',\n\u001b[0;32m      3\u001b[0m            \u001b[1;34m'loanPurp'\u001b[0m\u001b[1;33m,\u001b[0m \u001b[1;34m'propState'\u001b[0m\u001b[1;33m,\u001b[0m \u001b[1;34m'zipCode'\u001b[0m\u001b[1;33m,\u001b[0m \u001b[1;34m'pMIperct'\u001b[0m\u001b[1;33m,\u001b[0m \u001b[1;34m'mortInsType'\u001b[0m\u001b[1;33m,\u001b[0m \u001b[1;34m'numBorrowers'\u001b[0m\u001b[1;33m,\u001b[0m\u001b[1;33m\u001b[0m\u001b[1;33m\u001b[0m\u001b[0m\n\u001b[1;32m----> 4\u001b[1;33m           'rank'],1,inplace=True)\n\u001b[0m",
      "\u001b[1;32m~\\Anaconda3\\lib\\site-packages\\pandas\\core\\frame.py\u001b[0m in \u001b[0;36mdrop\u001b[1;34m(self, labels, axis, index, columns, level, inplace, errors)\u001b[0m\n\u001b[0;32m   4115\u001b[0m             \u001b[0mlevel\u001b[0m\u001b[1;33m=\u001b[0m\u001b[0mlevel\u001b[0m\u001b[1;33m,\u001b[0m\u001b[1;33m\u001b[0m\u001b[1;33m\u001b[0m\u001b[0m\n\u001b[0;32m   4116\u001b[0m             \u001b[0minplace\u001b[0m\u001b[1;33m=\u001b[0m\u001b[0minplace\u001b[0m\u001b[1;33m,\u001b[0m\u001b[1;33m\u001b[0m\u001b[1;33m\u001b[0m\u001b[0m\n\u001b[1;32m-> 4117\u001b[1;33m             \u001b[0merrors\u001b[0m\u001b[1;33m=\u001b[0m\u001b[0merrors\u001b[0m\u001b[1;33m,\u001b[0m\u001b[1;33m\u001b[0m\u001b[1;33m\u001b[0m\u001b[0m\n\u001b[0m\u001b[0;32m   4118\u001b[0m         )\n\u001b[0;32m   4119\u001b[0m \u001b[1;33m\u001b[0m\u001b[0m\n",
      "\u001b[1;32m~\\Anaconda3\\lib\\site-packages\\pandas\\core\\generic.py\u001b[0m in \u001b[0;36mdrop\u001b[1;34m(self, labels, axis, index, columns, level, inplace, errors)\u001b[0m\n\u001b[0;32m   3912\u001b[0m         \u001b[1;32mfor\u001b[0m \u001b[0maxis\u001b[0m\u001b[1;33m,\u001b[0m \u001b[0mlabels\u001b[0m \u001b[1;32min\u001b[0m \u001b[0maxes\u001b[0m\u001b[1;33m.\u001b[0m\u001b[0mitems\u001b[0m\u001b[1;33m(\u001b[0m\u001b[1;33m)\u001b[0m\u001b[1;33m:\u001b[0m\u001b[1;33m\u001b[0m\u001b[1;33m\u001b[0m\u001b[0m\n\u001b[0;32m   3913\u001b[0m             \u001b[1;32mif\u001b[0m \u001b[0mlabels\u001b[0m \u001b[1;32mis\u001b[0m \u001b[1;32mnot\u001b[0m \u001b[1;32mNone\u001b[0m\u001b[1;33m:\u001b[0m\u001b[1;33m\u001b[0m\u001b[1;33m\u001b[0m\u001b[0m\n\u001b[1;32m-> 3914\u001b[1;33m                 \u001b[0mobj\u001b[0m \u001b[1;33m=\u001b[0m \u001b[0mobj\u001b[0m\u001b[1;33m.\u001b[0m\u001b[0m_drop_axis\u001b[0m\u001b[1;33m(\u001b[0m\u001b[0mlabels\u001b[0m\u001b[1;33m,\u001b[0m \u001b[0maxis\u001b[0m\u001b[1;33m,\u001b[0m \u001b[0mlevel\u001b[0m\u001b[1;33m=\u001b[0m\u001b[0mlevel\u001b[0m\u001b[1;33m,\u001b[0m \u001b[0merrors\u001b[0m\u001b[1;33m=\u001b[0m\u001b[0merrors\u001b[0m\u001b[1;33m)\u001b[0m\u001b[1;33m\u001b[0m\u001b[1;33m\u001b[0m\u001b[0m\n\u001b[0m\u001b[0;32m   3915\u001b[0m \u001b[1;33m\u001b[0m\u001b[0m\n\u001b[0;32m   3916\u001b[0m         \u001b[1;32mif\u001b[0m \u001b[0minplace\u001b[0m\u001b[1;33m:\u001b[0m\u001b[1;33m\u001b[0m\u001b[1;33m\u001b[0m\u001b[0m\n",
      "\u001b[1;32m~\\Anaconda3\\lib\\site-packages\\pandas\\core\\generic.py\u001b[0m in \u001b[0;36m_drop_axis\u001b[1;34m(self, labels, axis, level, errors)\u001b[0m\n\u001b[0;32m   3944\u001b[0m                 \u001b[0mnew_axis\u001b[0m \u001b[1;33m=\u001b[0m \u001b[0maxis\u001b[0m\u001b[1;33m.\u001b[0m\u001b[0mdrop\u001b[0m\u001b[1;33m(\u001b[0m\u001b[0mlabels\u001b[0m\u001b[1;33m,\u001b[0m \u001b[0mlevel\u001b[0m\u001b[1;33m=\u001b[0m\u001b[0mlevel\u001b[0m\u001b[1;33m,\u001b[0m \u001b[0merrors\u001b[0m\u001b[1;33m=\u001b[0m\u001b[0merrors\u001b[0m\u001b[1;33m)\u001b[0m\u001b[1;33m\u001b[0m\u001b[1;33m\u001b[0m\u001b[0m\n\u001b[0;32m   3945\u001b[0m             \u001b[1;32melse\u001b[0m\u001b[1;33m:\u001b[0m\u001b[1;33m\u001b[0m\u001b[1;33m\u001b[0m\u001b[0m\n\u001b[1;32m-> 3946\u001b[1;33m                 \u001b[0mnew_axis\u001b[0m \u001b[1;33m=\u001b[0m \u001b[0maxis\u001b[0m\u001b[1;33m.\u001b[0m\u001b[0mdrop\u001b[0m\u001b[1;33m(\u001b[0m\u001b[0mlabels\u001b[0m\u001b[1;33m,\u001b[0m \u001b[0merrors\u001b[0m\u001b[1;33m=\u001b[0m\u001b[0merrors\u001b[0m\u001b[1;33m)\u001b[0m\u001b[1;33m\u001b[0m\u001b[1;33m\u001b[0m\u001b[0m\n\u001b[0m\u001b[0;32m   3947\u001b[0m             \u001b[0mresult\u001b[0m \u001b[1;33m=\u001b[0m \u001b[0mself\u001b[0m\u001b[1;33m.\u001b[0m\u001b[0mreindex\u001b[0m\u001b[1;33m(\u001b[0m\u001b[1;33m**\u001b[0m\u001b[1;33m{\u001b[0m\u001b[0maxis_name\u001b[0m\u001b[1;33m:\u001b[0m \u001b[0mnew_axis\u001b[0m\u001b[1;33m}\u001b[0m\u001b[1;33m)\u001b[0m\u001b[1;33m\u001b[0m\u001b[1;33m\u001b[0m\u001b[0m\n\u001b[0;32m   3948\u001b[0m \u001b[1;33m\u001b[0m\u001b[0m\n",
      "\u001b[1;32m~\\Anaconda3\\lib\\site-packages\\pandas\\core\\indexes\\base.py\u001b[0m in \u001b[0;36mdrop\u001b[1;34m(self, labels, errors)\u001b[0m\n\u001b[0;32m   5338\u001b[0m         \u001b[1;32mif\u001b[0m \u001b[0mmask\u001b[0m\u001b[1;33m.\u001b[0m\u001b[0many\u001b[0m\u001b[1;33m(\u001b[0m\u001b[1;33m)\u001b[0m\u001b[1;33m:\u001b[0m\u001b[1;33m\u001b[0m\u001b[1;33m\u001b[0m\u001b[0m\n\u001b[0;32m   5339\u001b[0m             \u001b[1;32mif\u001b[0m \u001b[0merrors\u001b[0m \u001b[1;33m!=\u001b[0m \u001b[1;34m\"ignore\"\u001b[0m\u001b[1;33m:\u001b[0m\u001b[1;33m\u001b[0m\u001b[1;33m\u001b[0m\u001b[0m\n\u001b[1;32m-> 5340\u001b[1;33m                 \u001b[1;32mraise\u001b[0m \u001b[0mKeyError\u001b[0m\u001b[1;33m(\u001b[0m\u001b[1;34m\"{} not found in axis\"\u001b[0m\u001b[1;33m.\u001b[0m\u001b[0mformat\u001b[0m\u001b[1;33m(\u001b[0m\u001b[0mlabels\u001b[0m\u001b[1;33m[\u001b[0m\u001b[0mmask\u001b[0m\u001b[1;33m]\u001b[0m\u001b[1;33m)\u001b[0m\u001b[1;33m)\u001b[0m\u001b[1;33m\u001b[0m\u001b[1;33m\u001b[0m\u001b[0m\n\u001b[0m\u001b[0;32m   5341\u001b[0m             \u001b[0mindexer\u001b[0m \u001b[1;33m=\u001b[0m \u001b[0mindexer\u001b[0m\u001b[1;33m[\u001b[0m\u001b[1;33m~\u001b[0m\u001b[0mmask\u001b[0m\u001b[1;33m]\u001b[0m\u001b[1;33m\u001b[0m\u001b[1;33m\u001b[0m\u001b[0m\n\u001b[0;32m   5342\u001b[0m         \u001b[1;32mreturn\u001b[0m \u001b[0mself\u001b[0m\u001b[1;33m.\u001b[0m\u001b[0mdelete\u001b[0m\u001b[1;33m(\u001b[0m\u001b[0mindexer\u001b[0m\u001b[1;33m)\u001b[0m\u001b[1;33m\u001b[0m\u001b[1;33m\u001b[0m\u001b[0m\n",
      "\u001b[1;31mKeyError\u001b[0m: \"['namedCol' 'sellerName' 'origChannel' 'origDate' 'firstPmtDate'\\n 'borrCreditScore' 'BestCreditScore' 'WorstCreditScore' 'loanPurp'\\n 'propState' 'zipCode' 'pMIperct' 'mortInsType' 'rank'] not found in axis\""
     ]
    }
   ],
   "source": [
    "#Dropping 'gameId' feature as it's not required in model building and prediction\n",
    "data.drop(['namedCol', 'sellerName', 'origChannel', 'origDate', 'firstPmtDate', 'borrCreditScore', 'BestCreditScore', 'WorstCreditScore',\n",
    "           'loanPurp', 'propState', 'zipCode', 'pMIperct', 'mortInsType', 'numBorrowers',\n",
    "          'rank'],1,inplace=True)"
   ]
  },
  {
   "cell_type": "code",
   "execution_count": 21,
   "metadata": {},
   "outputs": [
    {
     "data": {
      "text/html": [
       "<div>\n",
       "<style scoped>\n",
       "    .dataframe tbody tr th:only-of-type {\n",
       "        vertical-align: middle;\n",
       "    }\n",
       "\n",
       "    .dataframe tbody tr th {\n",
       "        vertical-align: top;\n",
       "    }\n",
       "\n",
       "    .dataframe thead th {\n",
       "        text-align: right;\n",
       "    }\n",
       "</style>\n",
       "<table border=\"1\" class=\"dataframe\">\n",
       "  <thead>\n",
       "    <tr style=\"text-align: right;\">\n",
       "      <th></th>\n",
       "      <th>origIntRate</th>\n",
       "      <th>origUPB</th>\n",
       "      <th>origLTV</th>\n",
       "      <th>origCLTV</th>\n",
       "      <th>numBorrowers</th>\n",
       "      <th>origDebtIncRatio</th>\n",
       "      <th>AvgCreditScore</th>\n",
       "      <th>fmacRate</th>\n",
       "      <th>fredRate</th>\n",
       "      <th>rateDiff</th>\n",
       "      <th>rateDiffPct</th>\n",
       "    </tr>\n",
       "  </thead>\n",
       "  <tbody>\n",
       "    <tr>\n",
       "      <th>0</th>\n",
       "      <td>4.625</td>\n",
       "      <td>160000</td>\n",
       "      <td>80</td>\n",
       "      <td>80</td>\n",
       "      <td>2</td>\n",
       "      <td>34</td>\n",
       "      <td>755.0</td>\n",
       "      <td>4.46</td>\n",
       "      <td>2.7</td>\n",
       "      <td>0.165</td>\n",
       "      <td>0.036996</td>\n",
       "    </tr>\n",
       "    <tr>\n",
       "      <th>1</th>\n",
       "      <td>4.500</td>\n",
       "      <td>510000</td>\n",
       "      <td>64</td>\n",
       "      <td>64</td>\n",
       "      <td>2</td>\n",
       "      <td>40</td>\n",
       "      <td>769.5</td>\n",
       "      <td>4.46</td>\n",
       "      <td>2.7</td>\n",
       "      <td>0.040</td>\n",
       "      <td>0.008969</td>\n",
       "    </tr>\n",
       "    <tr>\n",
       "      <th>2</th>\n",
       "      <td>4.750</td>\n",
       "      <td>143000</td>\n",
       "      <td>68</td>\n",
       "      <td>68</td>\n",
       "      <td>1</td>\n",
       "      <td>16</td>\n",
       "      <td>674.0</td>\n",
       "      <td>4.46</td>\n",
       "      <td>2.7</td>\n",
       "      <td>0.290</td>\n",
       "      <td>0.065022</td>\n",
       "    </tr>\n",
       "    <tr>\n",
       "      <th>3</th>\n",
       "      <td>4.500</td>\n",
       "      <td>160000</td>\n",
       "      <td>17</td>\n",
       "      <td>17</td>\n",
       "      <td>1</td>\n",
       "      <td>43</td>\n",
       "      <td>738.0</td>\n",
       "      <td>4.46</td>\n",
       "      <td>2.7</td>\n",
       "      <td>0.040</td>\n",
       "      <td>0.008969</td>\n",
       "    </tr>\n",
       "    <tr>\n",
       "      <th>4</th>\n",
       "      <td>4.500</td>\n",
       "      <td>320000</td>\n",
       "      <td>74</td>\n",
       "      <td>74</td>\n",
       "      <td>2</td>\n",
       "      <td>26</td>\n",
       "      <td>729.0</td>\n",
       "      <td>4.46</td>\n",
       "      <td>2.7</td>\n",
       "      <td>0.040</td>\n",
       "      <td>0.008969</td>\n",
       "    </tr>\n",
       "  </tbody>\n",
       "</table>\n",
       "</div>"
      ],
      "text/plain": [
       "   origIntRate  origUPB  origLTV  origCLTV  numBorrowers  origDebtIncRatio  \\\n",
       "0        4.625   160000       80        80             2                34   \n",
       "1        4.500   510000       64        64             2                40   \n",
       "2        4.750   143000       68        68             1                16   \n",
       "3        4.500   160000       17        17             1                43   \n",
       "4        4.500   320000       74        74             2                26   \n",
       "\n",
       "   AvgCreditScore  fmacRate  fredRate  rateDiff  rateDiffPct  \n",
       "0           755.0      4.46       2.7     0.165     0.036996  \n",
       "1           769.5      4.46       2.7     0.040     0.008969  \n",
       "2           674.0      4.46       2.7     0.290     0.065022  \n",
       "3           738.0      4.46       2.7     0.040     0.008969  \n",
       "4           729.0      4.46       2.7     0.040     0.008969  "
      ]
     },
     "execution_count": 21,
     "metadata": {},
     "output_type": "execute_result"
    }
   ],
   "source": [
    "data.head()"
   ]
  },
  {
   "cell_type": "code",
   "execution_count": 22,
   "metadata": {},
   "outputs": [],
   "source": [
    "# #Dividing features into numerical and categorical features\n",
    "# categorical=[]\n",
    "# numerical=[]\n",
    "# for col in list(data):\n",
    "#     if(len(data[col].unique())<=30):\n",
    "#         categorical.append(col)\n",
    "#     else:\n",
    "#         numerical.append(col)"
   ]
  },
  {
   "cell_type": "markdown",
   "metadata": {},
   "source": [
    "### Chi-Square test for Feature Importance of Categorical Features"
   ]
  },
  {
   "cell_type": "markdown",
   "metadata": {},
   "source": [
    "As majority of the features in the data are categorical, also the target feature is categorical we can use Chi-Square test for to get the feature importance."
   ]
  },
  {
   "cell_type": "code",
   "execution_count": 23,
   "metadata": {
    "scrolled": true
   },
   "outputs": [
    {
     "name": "stdout",
     "output_type": "stream",
     "text": [
      "origIntRate  is required\n",
      "origUPB  is required\n",
      "origLTV  is required\n",
      "origCLTV  is required\n",
      "numBorrowers  is not required\n",
      "origDebtIncRatio  is not required\n",
      "AvgCreditScore  is required\n",
      "fmacRate  is required\n",
      "fredRate  is required\n",
      "rateDiff  is required\n",
      "rateDiffPct  is required\n"
     ]
    }
   ],
   "source": [
    "def Chi_square(col_1,col_2):\n",
    "    X=data[col_1].astype('str')\n",
    "    Y=data[col_2].astype('str')\n",
    "    observed_values=pd.crosstab(Y,X)\n",
    "    chi2, p, dof, expected = ss.chi2_contingency(observed_values)\n",
    "    if(p>0.05):\n",
    "        print(col_1,\" is not required\")\n",
    "    else:\n",
    "        print(col_1,\" is required\")\n",
    "        \n",
    "for col in data:\n",
    "    Chi_square(col,\"origIntRate\")"
   ]
  },
  {
   "cell_type": "markdown",
   "metadata": {},
   "source": [
    "### Feature Selection using Backward Elimination for Numerical Features"
   ]
  },
  {
   "cell_type": "markdown",
   "metadata": {},
   "source": [
    "Using Backward Elimination method for numerical features"
   ]
  },
  {
   "cell_type": "code",
   "execution_count": 24,
   "metadata": {},
   "outputs": [
    {
     "name": "stdout",
     "output_type": "stream",
     "text": [
      "Best features using Backward Elimination:  ['origUPB', 'origLTV', 'origCLTV', 'origDebtIncRatio', 'AvgCreditScore', 'fmacRate', 'rateDiff', 'rateDiffPct']\n"
     ]
    }
   ],
   "source": [
    "X=data.drop(['origIntRate'],1)\n",
    "y=le.fit_transform(data[\"origIntRate\"])\n",
    "\n",
    "import statsmodels.api as sm\n",
    "cols = list(X.columns)\n",
    "pmax = 1\n",
    "while (pmax>0.05):\n",
    "    p=[]\n",
    "    X_1 = X[cols]\n",
    "    X_1 = sm.add_constant(X_1)\n",
    "    model = sm.OLS(y,X_1).fit()\n",
    "    p = pd.Series(model.pvalues.values[1:],index = cols)      \n",
    "    pmax = max(p)\n",
    "    feature_with_p_max = p.idxmax()\n",
    "    if(pmax>0.05):\n",
    "        cols.remove(feature_with_p_max)\n",
    "    else:\n",
    "        breakselected_features_BE = cols\n",
    "print(\"Best features using Backward Elimination: \",cols)"
   ]
  },
  {
   "cell_type": "markdown",
   "metadata": {},
   "source": [
    "### Feature Importance using Random Forest Classifier"
   ]
  },
  {
   "cell_type": "markdown",
   "metadata": {},
   "source": [
    "Random Forest is considered to be one of the most unbiased model. As it creates multiple Decision Trees taking into account Random Features for each Decision Tree.\n",
    "\n",
    "Because of this randomness the Random Forest Classifier considerd to be giving most unbiased Feature Importance"
   ]
  },
  {
   "cell_type": "code",
   "execution_count": 38,
   "metadata": {},
   "outputs": [],
   "source": [
    "X_rfc=data.drop([\"origIntRate\"],1)\n",
    "y_rfc=data[\"origIntRate\"]"
   ]
  },
  {
   "cell_type": "code",
   "execution_count": 39,
   "metadata": {},
   "outputs": [],
   "source": [
    "# rfc=RandomForestClassifier(criterion='entropy',random_state=0,n_estimators=10)\n",
    "# rfc.fit(X_rfc,y_rfc)"
   ]
  },
  {
   "cell_type": "code",
   "execution_count": 40,
   "metadata": {},
   "outputs": [],
   "source": [
    "# plt.figure(figsize=(10,10))\n",
    "# plt.barh(list(X_rfc),rfc.feature_importances_)\n",
    "# plt.title(\"Feature Importance using Random Forest Classifier\")\n",
    "# plt.ylabel(\"Features\")\n",
    "# plt.xlabel('Feature Importance Value')"
   ]
  },
  {
   "cell_type": "code",
   "execution_count": 49,
   "metadata": {},
   "outputs": [
    {
     "data": {
      "text/html": [
       "<div>\n",
       "<style scoped>\n",
       "    .dataframe tbody tr th:only-of-type {\n",
       "        vertical-align: middle;\n",
       "    }\n",
       "\n",
       "    .dataframe tbody tr th {\n",
       "        vertical-align: top;\n",
       "    }\n",
       "\n",
       "    .dataframe thead th {\n",
       "        text-align: right;\n",
       "    }\n",
       "</style>\n",
       "<table border=\"1\" class=\"dataframe\">\n",
       "  <thead>\n",
       "    <tr style=\"text-align: right;\">\n",
       "      <th></th>\n",
       "      <th>origIntRate</th>\n",
       "      <th>origUPB</th>\n",
       "      <th>origLTV</th>\n",
       "      <th>origCLTV</th>\n",
       "      <th>numBorrowers</th>\n",
       "      <th>origDebtIncRatio</th>\n",
       "      <th>AvgCreditScore</th>\n",
       "      <th>fmacRate</th>\n",
       "      <th>fredRate</th>\n",
       "      <th>rateDiff</th>\n",
       "      <th>rateDiffPct</th>\n",
       "    </tr>\n",
       "  </thead>\n",
       "  <tbody>\n",
       "    <tr>\n",
       "      <th>0</th>\n",
       "      <td>4.625</td>\n",
       "      <td>160000</td>\n",
       "      <td>80</td>\n",
       "      <td>80</td>\n",
       "      <td>2</td>\n",
       "      <td>34</td>\n",
       "      <td>755.0</td>\n",
       "      <td>4.46</td>\n",
       "      <td>2.7</td>\n",
       "      <td>0.165</td>\n",
       "      <td>0.036996</td>\n",
       "    </tr>\n",
       "    <tr>\n",
       "      <th>1</th>\n",
       "      <td>4.500</td>\n",
       "      <td>510000</td>\n",
       "      <td>64</td>\n",
       "      <td>64</td>\n",
       "      <td>2</td>\n",
       "      <td>40</td>\n",
       "      <td>769.5</td>\n",
       "      <td>4.46</td>\n",
       "      <td>2.7</td>\n",
       "      <td>0.040</td>\n",
       "      <td>0.008969</td>\n",
       "    </tr>\n",
       "    <tr>\n",
       "      <th>2</th>\n",
       "      <td>4.750</td>\n",
       "      <td>143000</td>\n",
       "      <td>68</td>\n",
       "      <td>68</td>\n",
       "      <td>1</td>\n",
       "      <td>16</td>\n",
       "      <td>674.0</td>\n",
       "      <td>4.46</td>\n",
       "      <td>2.7</td>\n",
       "      <td>0.290</td>\n",
       "      <td>0.065022</td>\n",
       "    </tr>\n",
       "    <tr>\n",
       "      <th>3</th>\n",
       "      <td>4.500</td>\n",
       "      <td>160000</td>\n",
       "      <td>17</td>\n",
       "      <td>17</td>\n",
       "      <td>1</td>\n",
       "      <td>43</td>\n",
       "      <td>738.0</td>\n",
       "      <td>4.46</td>\n",
       "      <td>2.7</td>\n",
       "      <td>0.040</td>\n",
       "      <td>0.008969</td>\n",
       "    </tr>\n",
       "    <tr>\n",
       "      <th>4</th>\n",
       "      <td>4.500</td>\n",
       "      <td>320000</td>\n",
       "      <td>74</td>\n",
       "      <td>74</td>\n",
       "      <td>2</td>\n",
       "      <td>26</td>\n",
       "      <td>729.0</td>\n",
       "      <td>4.46</td>\n",
       "      <td>2.7</td>\n",
       "      <td>0.040</td>\n",
       "      <td>0.008969</td>\n",
       "    </tr>\n",
       "  </tbody>\n",
       "</table>\n",
       "</div>"
      ],
      "text/plain": [
       "   origIntRate  origUPB  origLTV  origCLTV  numBorrowers  origDebtIncRatio  \\\n",
       "0        4.625   160000       80        80             2                34   \n",
       "1        4.500   510000       64        64             2                40   \n",
       "2        4.750   143000       68        68             1                16   \n",
       "3        4.500   160000       17        17             1                43   \n",
       "4        4.500   320000       74        74             2                26   \n",
       "\n",
       "   AvgCreditScore  fmacRate  fredRate  rateDiff  rateDiffPct  \n",
       "0           755.0      4.46       2.7     0.165     0.036996  \n",
       "1           769.5      4.46       2.7     0.040     0.008969  \n",
       "2           674.0      4.46       2.7     0.290     0.065022  \n",
       "3           738.0      4.46       2.7     0.040     0.008969  \n",
       "4           729.0      4.46       2.7     0.040     0.008969  "
      ]
     },
     "execution_count": 49,
     "metadata": {},
     "output_type": "execute_result"
    }
   ],
   "source": [
    "data.head()"
   ]
  },
  {
   "cell_type": "markdown",
   "metadata": {},
   "source": [
    "### Model building using Pycaret Library"
   ]
  },
  {
   "cell_type": "code",
   "execution_count": 55,
   "metadata": {},
   "outputs": [
    {
     "data": {
      "application/vnd.jupyter.widget-view+json": {
       "model_id": "dbe0720931c541078eea50b738a8bc7d",
       "version_major": 2,
       "version_minor": 0
      },
      "text/plain": [
       "IntProgress(value=0, description='Processing: ', max=13)"
      ]
     },
     "metadata": {},
     "output_type": "display_data"
    },
    {
     "data": {
      "text/html": [
       "<div>\n",
       "<style scoped>\n",
       "    .dataframe tbody tr th:only-of-type {\n",
       "        vertical-align: middle;\n",
       "    }\n",
       "\n",
       "    .dataframe tbody tr th {\n",
       "        vertical-align: top;\n",
       "    }\n",
       "\n",
       "    .dataframe thead th {\n",
       "        text-align: right;\n",
       "    }\n",
       "</style>\n",
       "<table border=\"1\" class=\"dataframe\">\n",
       "  <thead>\n",
       "    <tr style=\"text-align: right;\">\n",
       "      <th></th>\n",
       "      <th></th>\n",
       "      <th></th>\n",
       "    </tr>\n",
       "    <tr>\n",
       "      <th></th>\n",
       "      <th></th>\n",
       "      <th></th>\n",
       "    </tr>\n",
       "  </thead>\n",
       "  <tbody>\n",
       "    <tr>\n",
       "      <th>Initiated</th>\n",
       "      <td>. . . . . . . . . . . . . . . . . .</td>\n",
       "      <td>09:45:08</td>\n",
       "    </tr>\n",
       "    <tr>\n",
       "      <th>Status</th>\n",
       "      <td>. . . . . . . . . . . . . . . . . .</td>\n",
       "      <td>Fitting Model on 10% sample</td>\n",
       "    </tr>\n",
       "    <tr>\n",
       "      <th>ETC</th>\n",
       "      <td>. . . . . . . . . . . . . . . . . .</td>\n",
       "      <td>Calculating ETC</td>\n",
       "    </tr>\n",
       "  </tbody>\n",
       "</table>\n",
       "</div>"
      ],
      "text/plain": [
       "                                                                           \n",
       "                                                                           \n",
       "Initiated  . . . . . . . . . . . . . . . . . .                     09:45:08\n",
       "Status     . . . . . . . . . . . . . . . . . .  Fitting Model on 10% sample\n",
       "ETC        . . . . . . . . . . . . . . . . . .              Calculating ETC"
      ]
     },
     "metadata": {},
     "output_type": "display_data"
    },
    {
     "data": {
      "text/html": [
       "        <script type=\"text/javascript\">\n",
       "        window.PlotlyConfig = {MathJaxConfig: 'local'};\n",
       "        if (window.MathJax) {MathJax.Hub.Config({SVG: {font: \"STIX-Web\"}});}\n",
       "        if (typeof require !== 'undefined') {\n",
       "        require.undef(\"plotly\");\n",
       "        requirejs.config({\n",
       "            paths: {\n",
       "                'plotly': ['https://cdn.plot.ly/plotly-latest.min']\n",
       "            }\n",
       "        });\n",
       "        require(['plotly'], function(Plotly) {\n",
       "            window._Plotly = Plotly;\n",
       "        });\n",
       "        }\n",
       "        </script>\n",
       "        "
      ]
     },
     "metadata": {},
     "output_type": "display_data"
    },
    {
     "data": {
      "application/vnd.jupyter.widget-view+json": {
       "model_id": "92f403e335414c5d8ea0fb4bc63fccff",
       "version_major": 2,
       "version_minor": 0
      },
      "text/plain": [
       "Text(value=\"Following data types have been inferred automatically, if they are correct press enter to continue…"
      ]
     },
     "metadata": {},
     "output_type": "display_data"
    },
    {
     "data": {
      "text/html": [
       "<div>\n",
       "<style scoped>\n",
       "    .dataframe tbody tr th:only-of-type {\n",
       "        vertical-align: middle;\n",
       "    }\n",
       "\n",
       "    .dataframe tbody tr th {\n",
       "        vertical-align: top;\n",
       "    }\n",
       "\n",
       "    .dataframe thead th {\n",
       "        text-align: right;\n",
       "    }\n",
       "</style>\n",
       "<table border=\"1\" class=\"dataframe\">\n",
       "  <thead>\n",
       "    <tr style=\"text-align: right;\">\n",
       "      <th></th>\n",
       "      <th>Data Type</th>\n",
       "    </tr>\n",
       "  </thead>\n",
       "  <tbody>\n",
       "    <tr>\n",
       "      <th>origIntRate</th>\n",
       "      <td>Label</td>\n",
       "    </tr>\n",
       "    <tr>\n",
       "      <th>origUPB</th>\n",
       "      <td>Numeric</td>\n",
       "    </tr>\n",
       "    <tr>\n",
       "      <th>origLTV</th>\n",
       "      <td>Numeric</td>\n",
       "    </tr>\n",
       "    <tr>\n",
       "      <th>origCLTV</th>\n",
       "      <td>Numeric</td>\n",
       "    </tr>\n",
       "    <tr>\n",
       "      <th>numBorrowers</th>\n",
       "      <td>Categorical</td>\n",
       "    </tr>\n",
       "    <tr>\n",
       "      <th>origDebtIncRatio</th>\n",
       "      <td>Numeric</td>\n",
       "    </tr>\n",
       "    <tr>\n",
       "      <th>AvgCreditScore</th>\n",
       "      <td>Numeric</td>\n",
       "    </tr>\n",
       "    <tr>\n",
       "      <th>fmacRate</th>\n",
       "      <td>Numeric</td>\n",
       "    </tr>\n",
       "    <tr>\n",
       "      <th>fredRate</th>\n",
       "      <td>Numeric</td>\n",
       "    </tr>\n",
       "    <tr>\n",
       "      <th>rateDiff</th>\n",
       "      <td>Numeric</td>\n",
       "    </tr>\n",
       "    <tr>\n",
       "      <th>rateDiffPct</th>\n",
       "      <td>Numeric</td>\n",
       "    </tr>\n",
       "  </tbody>\n",
       "</table>\n",
       "</div>"
      ],
      "text/plain": [
       "                    Data Type\n",
       "origIntRate             Label\n",
       "origUPB               Numeric\n",
       "origLTV               Numeric\n",
       "origCLTV              Numeric\n",
       "numBorrowers      Categorical\n",
       "origDebtIncRatio      Numeric\n",
       "AvgCreditScore        Numeric\n",
       "fmacRate              Numeric\n",
       "fredRate              Numeric\n",
       "rateDiff              Numeric\n",
       "rateDiffPct           Numeric"
      ]
     },
     "metadata": {},
     "output_type": "display_data"
    },
    {
     "name": "stdout",
     "output_type": "stream",
     "text": [
      "\n"
     ]
    },
    {
     "ename": "ValueError",
     "evalue": "The least populated class in y has only 1 member, which is too few. The minimum number of groups for any class cannot be less than 2.",
     "output_type": "error",
     "traceback": [
      "\u001b[1;31m---------------------------------------------------------------------------\u001b[0m",
      "\u001b[1;31mValueError\u001b[0m                                Traceback (most recent call last)",
      "\u001b[1;32m<ipython-input-55-27997f126e73>\u001b[0m in \u001b[0;36m<module>\u001b[1;34m\u001b[0m\n\u001b[1;32m----> 1\u001b[1;33m \u001b[0mmodels\u001b[0m\u001b[1;33m=\u001b[0m\u001b[0msetup\u001b[0m\u001b[1;33m(\u001b[0m\u001b[0mdata\u001b[0m\u001b[1;33m,\u001b[0m \u001b[0mtarget\u001b[0m \u001b[1;33m=\u001b[0m \u001b[1;34m'origIntRate'\u001b[0m\u001b[1;33m)\u001b[0m\u001b[1;33m\u001b[0m\u001b[1;33m\u001b[0m\u001b[0m\n\u001b[0m",
      "\u001b[1;32m~\\Anaconda3\\lib\\site-packages\\pycaret\\classification.py\u001b[0m in \u001b[0;36msetup\u001b[1;34m(data, target, train_size, sampling, sample_estimator, categorical_features, categorical_imputation, ordinal_features, high_cardinality_features, high_cardinality_method, numeric_features, numeric_imputation, date_features, ignore_features, normalize, normalize_method, transformation, transformation_method, handle_unknown_categorical, unknown_categorical_method, pca, pca_method, pca_components, ignore_low_variance, combine_rare_levels, rare_level_threshold, bin_numeric_features, remove_outliers, outliers_threshold, remove_multicollinearity, multicollinearity_threshold, create_clusters, cluster_iter, polynomial_features, polynomial_degree, trigonometry_features, polynomial_threshold, group_features, group_names, feature_selection, feature_selection_threshold, feature_interaction, feature_ratio, interaction_threshold, session_id, silent, profile)\u001b[0m\n\u001b[0;32m   1131\u001b[0m             '''\n\u001b[0;32m   1132\u001b[0m \u001b[1;33m\u001b[0m\u001b[0m\n\u001b[1;32m-> 1133\u001b[1;33m             \u001b[0mX_\u001b[0m\u001b[1;33m,\u001b[0m \u001b[0mX__\u001b[0m\u001b[1;33m,\u001b[0m \u001b[0my_\u001b[0m\u001b[1;33m,\u001b[0m \u001b[0my__\u001b[0m \u001b[1;33m=\u001b[0m \u001b[0mtrain_test_split\u001b[0m\u001b[1;33m(\u001b[0m\u001b[0mX\u001b[0m\u001b[1;33m,\u001b[0m \u001b[0my\u001b[0m\u001b[1;33m,\u001b[0m \u001b[0mtest_size\u001b[0m\u001b[1;33m=\u001b[0m\u001b[1;36m1\u001b[0m\u001b[1;33m-\u001b[0m\u001b[0mi\u001b[0m\u001b[1;33m,\u001b[0m \u001b[0mstratify\u001b[0m\u001b[1;33m=\u001b[0m\u001b[0my\u001b[0m\u001b[1;33m,\u001b[0m \u001b[0mrandom_state\u001b[0m\u001b[1;33m=\u001b[0m\u001b[0mseed\u001b[0m\u001b[1;33m)\u001b[0m\u001b[1;33m\u001b[0m\u001b[1;33m\u001b[0m\u001b[0m\n\u001b[0m\u001b[0;32m   1134\u001b[0m             \u001b[0mX_train\u001b[0m\u001b[1;33m,\u001b[0m \u001b[0mX_test\u001b[0m\u001b[1;33m,\u001b[0m \u001b[0my_train\u001b[0m\u001b[1;33m,\u001b[0m \u001b[0my_test\u001b[0m \u001b[1;33m=\u001b[0m \u001b[0mtrain_test_split\u001b[0m\u001b[1;33m(\u001b[0m\u001b[0mX_\u001b[0m\u001b[1;33m,\u001b[0m \u001b[0my_\u001b[0m\u001b[1;33m,\u001b[0m \u001b[0mtest_size\u001b[0m\u001b[1;33m=\u001b[0m\u001b[1;36m0.3\u001b[0m\u001b[1;33m,\u001b[0m \u001b[0mstratify\u001b[0m\u001b[1;33m=\u001b[0m\u001b[0my_\u001b[0m\u001b[1;33m,\u001b[0m \u001b[0mrandom_state\u001b[0m\u001b[1;33m=\u001b[0m\u001b[0mseed\u001b[0m\u001b[1;33m)\u001b[0m\u001b[1;33m\u001b[0m\u001b[1;33m\u001b[0m\u001b[0m\n\u001b[0;32m   1135\u001b[0m             \u001b[0mmodel\u001b[0m\u001b[1;33m.\u001b[0m\u001b[0mfit\u001b[0m\u001b[1;33m(\u001b[0m\u001b[0mX_train\u001b[0m\u001b[1;33m,\u001b[0m\u001b[0my_train\u001b[0m\u001b[1;33m)\u001b[0m\u001b[1;33m\u001b[0m\u001b[1;33m\u001b[0m\u001b[0m\n",
      "\u001b[1;32m~\\Anaconda3\\lib\\site-packages\\sklearn\\model_selection\\_split.py\u001b[0m in \u001b[0;36mtrain_test_split\u001b[1;34m(*arrays, **options)\u001b[0m\n\u001b[0;32m   2139\u001b[0m                      random_state=random_state)\n\u001b[0;32m   2140\u001b[0m \u001b[1;33m\u001b[0m\u001b[0m\n\u001b[1;32m-> 2141\u001b[1;33m         \u001b[0mtrain\u001b[0m\u001b[1;33m,\u001b[0m \u001b[0mtest\u001b[0m \u001b[1;33m=\u001b[0m \u001b[0mnext\u001b[0m\u001b[1;33m(\u001b[0m\u001b[0mcv\u001b[0m\u001b[1;33m.\u001b[0m\u001b[0msplit\u001b[0m\u001b[1;33m(\u001b[0m\u001b[0mX\u001b[0m\u001b[1;33m=\u001b[0m\u001b[0marrays\u001b[0m\u001b[1;33m[\u001b[0m\u001b[1;36m0\u001b[0m\u001b[1;33m]\u001b[0m\u001b[1;33m,\u001b[0m \u001b[0my\u001b[0m\u001b[1;33m=\u001b[0m\u001b[0mstratify\u001b[0m\u001b[1;33m)\u001b[0m\u001b[1;33m)\u001b[0m\u001b[1;33m\u001b[0m\u001b[1;33m\u001b[0m\u001b[0m\n\u001b[0m\u001b[0;32m   2142\u001b[0m \u001b[1;33m\u001b[0m\u001b[0m\n\u001b[0;32m   2143\u001b[0m     return list(chain.from_iterable((_safe_indexing(a, train),\n",
      "\u001b[1;32m~\\Anaconda3\\lib\\site-packages\\sklearn\\model_selection\\_split.py\u001b[0m in \u001b[0;36msplit\u001b[1;34m(self, X, y, groups)\u001b[0m\n\u001b[0;32m   1327\u001b[0m         \"\"\"\n\u001b[0;32m   1328\u001b[0m         \u001b[0mX\u001b[0m\u001b[1;33m,\u001b[0m \u001b[0my\u001b[0m\u001b[1;33m,\u001b[0m \u001b[0mgroups\u001b[0m \u001b[1;33m=\u001b[0m \u001b[0mindexable\u001b[0m\u001b[1;33m(\u001b[0m\u001b[0mX\u001b[0m\u001b[1;33m,\u001b[0m \u001b[0my\u001b[0m\u001b[1;33m,\u001b[0m \u001b[0mgroups\u001b[0m\u001b[1;33m)\u001b[0m\u001b[1;33m\u001b[0m\u001b[1;33m\u001b[0m\u001b[0m\n\u001b[1;32m-> 1329\u001b[1;33m         \u001b[1;32mfor\u001b[0m \u001b[0mtrain\u001b[0m\u001b[1;33m,\u001b[0m \u001b[0mtest\u001b[0m \u001b[1;32min\u001b[0m \u001b[0mself\u001b[0m\u001b[1;33m.\u001b[0m\u001b[0m_iter_indices\u001b[0m\u001b[1;33m(\u001b[0m\u001b[0mX\u001b[0m\u001b[1;33m,\u001b[0m \u001b[0my\u001b[0m\u001b[1;33m,\u001b[0m \u001b[0mgroups\u001b[0m\u001b[1;33m)\u001b[0m\u001b[1;33m:\u001b[0m\u001b[1;33m\u001b[0m\u001b[1;33m\u001b[0m\u001b[0m\n\u001b[0m\u001b[0;32m   1330\u001b[0m             \u001b[1;32myield\u001b[0m \u001b[0mtrain\u001b[0m\u001b[1;33m,\u001b[0m \u001b[0mtest\u001b[0m\u001b[1;33m\u001b[0m\u001b[1;33m\u001b[0m\u001b[0m\n\u001b[0;32m   1331\u001b[0m \u001b[1;33m\u001b[0m\u001b[0m\n",
      "\u001b[1;32m~\\Anaconda3\\lib\\site-packages\\sklearn\\model_selection\\_split.py\u001b[0m in \u001b[0;36m_iter_indices\u001b[1;34m(self, X, y, groups)\u001b[0m\n\u001b[0;32m   1657\u001b[0m         \u001b[0mclass_counts\u001b[0m \u001b[1;33m=\u001b[0m \u001b[0mnp\u001b[0m\u001b[1;33m.\u001b[0m\u001b[0mbincount\u001b[0m\u001b[1;33m(\u001b[0m\u001b[0my_indices\u001b[0m\u001b[1;33m)\u001b[0m\u001b[1;33m\u001b[0m\u001b[1;33m\u001b[0m\u001b[0m\n\u001b[0;32m   1658\u001b[0m         \u001b[1;32mif\u001b[0m \u001b[0mnp\u001b[0m\u001b[1;33m.\u001b[0m\u001b[0mmin\u001b[0m\u001b[1;33m(\u001b[0m\u001b[0mclass_counts\u001b[0m\u001b[1;33m)\u001b[0m \u001b[1;33m<\u001b[0m \u001b[1;36m2\u001b[0m\u001b[1;33m:\u001b[0m\u001b[1;33m\u001b[0m\u001b[1;33m\u001b[0m\u001b[0m\n\u001b[1;32m-> 1659\u001b[1;33m             raise ValueError(\"The least populated class in y has only 1\"\n\u001b[0m\u001b[0;32m   1660\u001b[0m                              \u001b[1;34m\" member, which is too few. The minimum\"\u001b[0m\u001b[1;33m\u001b[0m\u001b[1;33m\u001b[0m\u001b[0m\n\u001b[0;32m   1661\u001b[0m                              \u001b[1;34m\" number of groups for any class cannot\"\u001b[0m\u001b[1;33m\u001b[0m\u001b[1;33m\u001b[0m\u001b[0m\n",
      "\u001b[1;31mValueError\u001b[0m: The least populated class in y has only 1 member, which is too few. The minimum number of groups for any class cannot be less than 2."
     ]
    }
   ],
   "source": [
    "models=setup(data, target = 'origIntRate')"
   ]
  },
  {
   "cell_type": "code",
   "execution_count": 38,
   "metadata": {},
   "outputs": [
    {
     "ename": "NameError",
     "evalue": "name 'y' is not defined",
     "output_type": "error",
     "traceback": [
      "\u001b[1;31m---------------------------------------------------------------------------\u001b[0m",
      "\u001b[1;31mNameError\u001b[0m                                 Traceback (most recent call last)",
      "\u001b[1;32m<ipython-input-38-e0f743debc5d>\u001b[0m in \u001b[0;36m<module>\u001b[1;34m\u001b[0m\n\u001b[1;32m----> 1\u001b[1;33m \u001b[0mmodel_results\u001b[0m\u001b[1;33m=\u001b[0m\u001b[0mcompare_models\u001b[0m\u001b[1;33m(\u001b[0m\u001b[1;33m)\u001b[0m\u001b[1;33m\u001b[0m\u001b[1;33m\u001b[0m\u001b[0m\n\u001b[0m\u001b[0;32m      2\u001b[0m \u001b[0mmodel_results\u001b[0m\u001b[1;33m\u001b[0m\u001b[1;33m\u001b[0m\u001b[0m\n",
      "\u001b[1;32m~\\Anaconda3\\lib\\site-packages\\pycaret\\classification.py\u001b[0m in \u001b[0;36mcompare_models\u001b[1;34m(blacklist, fold, round, sort, turbo)\u001b[0m\n\u001b[0;32m   3141\u001b[0m \u001b[1;33m\u001b[0m\u001b[0m\n\u001b[0;32m   3142\u001b[0m     \u001b[1;31m#checking optimize parameter for multiclass\u001b[0m\u001b[1;33m\u001b[0m\u001b[1;33m\u001b[0m\u001b[1;33m\u001b[0m\u001b[0m\n\u001b[1;32m-> 3143\u001b[1;33m     \u001b[1;32mif\u001b[0m \u001b[0my\u001b[0m\u001b[1;33m.\u001b[0m\u001b[0mvalue_counts\u001b[0m\u001b[1;33m(\u001b[0m\u001b[1;33m)\u001b[0m\u001b[1;33m.\u001b[0m\u001b[0mcount\u001b[0m\u001b[1;33m(\u001b[0m\u001b[1;33m)\u001b[0m \u001b[1;33m>\u001b[0m \u001b[1;36m2\u001b[0m\u001b[1;33m:\u001b[0m\u001b[1;33m\u001b[0m\u001b[1;33m\u001b[0m\u001b[0m\n\u001b[0m\u001b[0;32m   3144\u001b[0m         \u001b[1;32mif\u001b[0m \u001b[0msort\u001b[0m \u001b[1;33m==\u001b[0m \u001b[1;34m'AUC'\u001b[0m\u001b[1;33m:\u001b[0m\u001b[1;33m\u001b[0m\u001b[1;33m\u001b[0m\u001b[0m\n\u001b[0;32m   3145\u001b[0m             \u001b[0msys\u001b[0m\u001b[1;33m.\u001b[0m\u001b[0mexit\u001b[0m\u001b[1;33m(\u001b[0m\u001b[1;34m'(Type Error): AUC metric not supported for multiclass problems. See docstring for list of other optimization parameters.'\u001b[0m\u001b[1;33m)\u001b[0m\u001b[1;33m\u001b[0m\u001b[1;33m\u001b[0m\u001b[0m\n",
      "\u001b[1;31mNameError\u001b[0m: name 'y' is not defined"
     ]
    }
   ],
   "source": [
    "model_results=compare_models()\n",
    "model_results"
   ]
  },
  {
   "cell_type": "code",
   "execution_count": null,
   "metadata": {},
   "outputs": [],
   "source": [
    "logreg_model=create_model('lr')"
   ]
  },
  {
   "cell_type": "code",
   "execution_count": null,
   "metadata": {},
   "outputs": [],
   "source": [
    "tunned_logreg_model=tune_model('lr')"
   ]
  },
  {
   "cell_type": "code",
   "execution_count": null,
   "metadata": {},
   "outputs": [],
   "source": [
    "plot_model(estimator=tunned_logreg_model,plot='parameter')"
   ]
  },
  {
   "cell_type": "code",
   "execution_count": null,
   "metadata": {},
   "outputs": [],
   "source": [
    "plot_model(estimator=tunned_logreg_model,plot='feature')"
   ]
  },
  {
   "cell_type": "code",
   "execution_count": null,
   "metadata": {},
   "outputs": [],
   "source": [
    "plot_model(estimator=tunned_logreg_model,plot='pr')"
   ]
  },
  {
   "cell_type": "code",
   "execution_count": null,
   "metadata": {},
   "outputs": [],
   "source": [
    "plot_model(estimator=tunned_logreg_model,plot='confusion_matrix')"
   ]
  },
  {
   "cell_type": "code",
   "execution_count": null,
   "metadata": {},
   "outputs": [],
   "source": [
    "plot_model(estimator=tunned_logreg_model,plot='class_report')"
   ]
  },
  {
   "cell_type": "code",
   "execution_count": null,
   "metadata": {},
   "outputs": [],
   "source": [
    "plot_model(tunned_logreg_model)"
   ]
  },
  {
   "cell_type": "code",
   "execution_count": null,
   "metadata": {},
   "outputs": [],
   "source": []
  }
 ],
 "metadata": {
  "kernelspec": {
   "display_name": "Python 3",
   "language": "python",
   "name": "python3"
  },
  "language_info": {
   "codemirror_mode": {
    "name": "ipython",
    "version": 3
   },
   "file_extension": ".py",
   "mimetype": "text/x-python",
   "name": "python",
   "nbconvert_exporter": "python",
   "pygments_lexer": "ipython3",
   "version": "3.7.4"
  }
 },
 "nbformat": 4,
 "nbformat_minor": 4
}
