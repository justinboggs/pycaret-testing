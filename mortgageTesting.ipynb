{
 "cells": [
  {
   "cell_type": "markdown",
   "metadata": {},
   "source": [
    "#### Importing Required Packages"
   ]
  },
  {
   "cell_type": "code",
   "execution_count": 1,
   "metadata": {
    "_cell_guid": "79c7e3d0-c299-4dcb-8224-4455121ee9b0",
    "_kg_hide-output": true,
    "_uuid": "d629ff2d2480ee46fbb7e2d37f6b5fab8052498a"
   },
   "outputs": [
    {
     "name": "stdout",
     "output_type": "stream",
     "text": [
      "Requirement already satisfied: pycaret in c:\\users\\jbogg\\anaconda3\\lib\\site-packages (1.0.0)\n",
      "Requirement already satisfied: cufflinks==0.17.0 in c:\\users\\jbogg\\anaconda3\\lib\\site-packages (from pycaret) (0.17.0)\n",
      "Requirement already satisfied: lightgbm==2.3.1 in c:\\users\\jbogg\\anaconda3\\lib\\site-packages (from pycaret) (2.3.1)\n",
      "Requirement already satisfied: IPython in c:\\users\\jbogg\\anaconda3\\lib\\site-packages (from pycaret) (7.14.0)\n",
      "Requirement already satisfied: xgboost==0.90 in c:\\users\\jbogg\\anaconda3\\lib\\site-packages (from pycaret) (0.90)\n",
      "Requirement already satisfied: pandas in c:\\users\\jbogg\\anaconda3\\lib\\site-packages (from pycaret) (0.25.1)\n",
      "Requirement already satisfied: spacy in c:\\users\\jbogg\\anaconda3\\lib\\site-packages (from pycaret) (2.2.4)\n",
      "Requirement already satisfied: mlxtend in c:\\users\\jbogg\\anaconda3\\lib\\site-packages (from pycaret) (0.17.2)\n",
      "Requirement already satisfied: kmodes==0.10.1 in c:\\users\\jbogg\\anaconda3\\lib\\site-packages (from pycaret) (0.10.1)\n",
      "Requirement already satisfied: textblob in c:\\users\\jbogg\\anaconda3\\lib\\site-packages (from pycaret) (0.15.3)\n",
      "Requirement already satisfied: scikit-learn==0.22 in c:\\users\\jbogg\\anaconda3\\lib\\site-packages (from pycaret) (0.22)\n",
      "Requirement already satisfied: plotly==4.4.1 in c:\\users\\jbogg\\anaconda3\\lib\\site-packages (from pycaret) (4.4.1)\n",
      "Requirement already satisfied: gensim in c:\\users\\jbogg\\anaconda3\\lib\\site-packages (from pycaret) (3.8.3)\n",
      "Requirement already satisfied: seaborn in c:\\users\\jbogg\\anaconda3\\lib\\site-packages (from pycaret) (0.9.0)\n",
      "Requirement already satisfied: datetime in c:\\users\\jbogg\\anaconda3\\lib\\site-packages (from pycaret) (4.3)\n",
      "Requirement already satisfied: catboost==0.20.2 in c:\\users\\jbogg\\anaconda3\\lib\\site-packages (from pycaret) (0.20.2)\n",
      "Requirement already satisfied: pyLDAvis in c:\\users\\jbogg\\anaconda3\\lib\\site-packages (from pycaret) (2.1.2)\n",
      "Requirement already satisfied: pyod in c:\\users\\jbogg\\anaconda3\\lib\\site-packages (from pycaret) (0.7.9)\n",
      "Requirement already satisfied: matplotlib in c:\\users\\jbogg\\anaconda3\\lib\\site-packages (from pycaret) (3.1.2)\n",
      "Requirement already satisfied: wordcloud in c:\\users\\jbogg\\anaconda3\\lib\\site-packages (from pycaret) (1.7.0)\n",
      "Requirement already satisfied: umap-learn in c:\\users\\jbogg\\anaconda3\\lib\\site-packages (from pycaret) (0.4.2)\n",
      "Requirement already satisfied: pandas-profiling==2.3.0 in c:\\users\\jbogg\\anaconda3\\lib\\site-packages (from pycaret) (2.3.0)\n",
      "Requirement already satisfied: awscli in c:\\users\\jbogg\\anaconda3\\lib\\site-packages (from pycaret) (1.18.59)\n",
      "Requirement already satisfied: joblib in c:\\users\\jbogg\\anaconda3\\lib\\site-packages (from pycaret) (0.14.1)\n",
      "Requirement already satisfied: nltk in c:\\users\\jbogg\\anaconda3\\lib\\site-packages (from pycaret) (3.4.5)\n",
      "Requirement already satisfied: datefinder==0.7.0 in c:\\users\\jbogg\\anaconda3\\lib\\site-packages (from pycaret) (0.7.0)\n",
      "Requirement already satisfied: ipywidgets in c:\\users\\jbogg\\anaconda3\\lib\\site-packages (from pycaret) (7.5.1)\n",
      "Requirement already satisfied: numpy in c:\\users\\jbogg\\anaconda3\\lib\\site-packages (from pycaret) (1.18.4)\n",
      "Requirement already satisfied: shap==0.32.1 in c:\\users\\jbogg\\anaconda3\\lib\\site-packages (from pycaret) (0.32.1)\n",
      "Requirement already satisfied: yellowbrick==1.0.1 in c:\\users\\jbogg\\anaconda3\\lib\\site-packages (from pycaret) (1.0.1)\n",
      "Requirement already satisfied: chart-studio>=1.0.0 in c:\\users\\jbogg\\anaconda3\\lib\\site-packages (from cufflinks==0.17.0->pycaret) (1.1.0)\n",
      "Requirement already satisfied: setuptools>=34.4.1 in c:\\users\\jbogg\\anaconda3\\lib\\site-packages (from cufflinks==0.17.0->pycaret) (46.3.0)\n",
      "Requirement already satisfied: six>=1.9.0 in c:\\users\\jbogg\\anaconda3\\lib\\site-packages (from cufflinks==0.17.0->pycaret) (1.14.0)\n",
      "Requirement already satisfied: colorlover>=0.2.1 in c:\\users\\jbogg\\anaconda3\\lib\\site-packages (from cufflinks==0.17.0->pycaret) (0.3.0)\n",
      "Requirement already satisfied: scipy in c:\\users\\jbogg\\anaconda3\\lib\\site-packages (from lightgbm==2.3.1->pycaret) (1.3.1)\n",
      "Requirement already satisfied: jedi>=0.10 in c:\\users\\jbogg\\anaconda3\\lib\\site-packages (from IPython->pycaret) (0.17.0)\n",
      "Requirement already satisfied: decorator in c:\\users\\jbogg\\anaconda3\\lib\\site-packages (from IPython->pycaret) (4.4.2)\n",
      "Requirement already satisfied: pygments in c:\\users\\jbogg\\anaconda3\\lib\\site-packages (from IPython->pycaret) (2.6.1)\n",
      "Requirement already satisfied: pickleshare in c:\\users\\jbogg\\anaconda3\\lib\\site-packages (from IPython->pycaret) (0.7.5)\n",
      "Requirement already satisfied: colorama; sys_platform == \"win32\" in c:\\users\\jbogg\\anaconda3\\lib\\site-packages (from IPython->pycaret) (0.4.3)\n",
      "Requirement already satisfied: backcall in c:\\users\\jbogg\\anaconda3\\lib\\site-packages (from IPython->pycaret) (0.1.0)\n",
      "Requirement already satisfied: prompt-toolkit!=3.0.0,!=3.0.1,<3.1.0,>=2.0.0 in c:\\users\\jbogg\\anaconda3\\lib\\site-packages (from IPython->pycaret) (3.0.5)\n",
      "Requirement already satisfied: traitlets>=4.2 in c:\\users\\jbogg\\anaconda3\\lib\\site-packages (from IPython->pycaret) (4.3.3)\n",
      "Requirement already satisfied: python-dateutil>=2.6.1 in c:\\users\\jbogg\\anaconda3\\lib\\site-packages (from pandas->pycaret) (2.8.0)\n",
      "Requirement already satisfied: pytz>=2017.2 in c:\\users\\jbogg\\anaconda3\\lib\\site-packages (from pandas->pycaret) (2019.3)\n",
      "Requirement already satisfied: tqdm<5.0.0,>=4.38.0 in c:\\users\\jbogg\\anaconda3\\lib\\site-packages (from spacy->pycaret) (4.46.0)\n",
      "Requirement already satisfied: plac<1.2.0,>=0.9.6 in c:\\users\\jbogg\\anaconda3\\lib\\site-packages (from spacy->pycaret) (1.1.3)\n",
      "Requirement already satisfied: blis<0.5.0,>=0.4.0 in c:\\users\\jbogg\\anaconda3\\lib\\site-packages (from spacy->pycaret) (0.4.1)\n",
      "Requirement already satisfied: wasabi<1.1.0,>=0.4.0 in c:\\users\\jbogg\\anaconda3\\lib\\site-packages (from spacy->pycaret) (0.6.0)\n",
      "Requirement already satisfied: catalogue<1.1.0,>=0.0.7 in c:\\users\\jbogg\\anaconda3\\lib\\site-packages (from spacy->pycaret) (1.0.0)\n",
      "Requirement already satisfied: cymem<2.1.0,>=2.0.2 in c:\\users\\jbogg\\anaconda3\\lib\\site-packages (from spacy->pycaret) (2.0.3)\n",
      "Requirement already satisfied: requests<3.0.0,>=2.13.0 in c:\\users\\jbogg\\anaconda3\\lib\\site-packages (from spacy->pycaret) (2.22.0)\n",
      "Requirement already satisfied: preshed<3.1.0,>=3.0.2 in c:\\users\\jbogg\\anaconda3\\lib\\site-packages (from spacy->pycaret) (3.0.2)\n",
      "Requirement already satisfied: murmurhash<1.1.0,>=0.28.0 in c:\\users\\jbogg\\anaconda3\\lib\\site-packages (from spacy->pycaret) (1.0.2)\n",
      "Requirement already satisfied: srsly<1.1.0,>=1.0.2 in c:\\users\\jbogg\\anaconda3\\lib\\site-packages (from spacy->pycaret) (1.0.2)\n",
      "Requirement already satisfied: thinc==7.4.0 in c:\\users\\jbogg\\anaconda3\\lib\\site-packages (from spacy->pycaret) (7.4.0)\n",
      "Requirement already satisfied: retrying>=1.3.3 in c:\\users\\jbogg\\anaconda3\\lib\\site-packages (from plotly==4.4.1->pycaret) (1.3.3)\n",
      "Requirement already satisfied: smart-open>=1.8.1 in c:\\users\\jbogg\\anaconda3\\lib\\site-packages (from gensim->pycaret) (2.0.0)\n",
      "Requirement already satisfied: Cython==0.29.14 in c:\\users\\jbogg\\anaconda3\\lib\\site-packages (from gensim->pycaret) (0.29.14)\n",
      "Requirement already satisfied: zope.interface in c:\\users\\jbogg\\anaconda3\\lib\\site-packages (from datetime->pycaret) (5.1.0)\n",
      "Requirement already satisfied: graphviz in c:\\users\\jbogg\\anaconda3\\lib\\site-packages (from catboost==0.20.2->pycaret) (0.14)\n",
      "Requirement already satisfied: numexpr in c:\\users\\jbogg\\anaconda3\\lib\\site-packages (from pyLDAvis->pycaret) (2.7.0)\n",
      "Requirement already satisfied: funcy in c:\\users\\jbogg\\anaconda3\\lib\\site-packages (from pyLDAvis->pycaret) (1.14)\n",
      "Requirement already satisfied: future in c:\\users\\jbogg\\anaconda3\\lib\\site-packages (from pyLDAvis->pycaret) (0.18.2)\n",
      "Requirement already satisfied: jinja2>=2.7.2 in c:\\users\\jbogg\\anaconda3\\lib\\site-packages (from pyLDAvis->pycaret) (2.10.3)\n",
      "Requirement already satisfied: wheel>=0.23.0 in c:\\users\\jbogg\\anaconda3\\lib\\site-packages (from pyLDAvis->pycaret) (0.33.6)\n",
      "Requirement already satisfied: pytest in c:\\users\\jbogg\\anaconda3\\lib\\site-packages (from pyLDAvis->pycaret) (5.2.1)\n",
      "Requirement already satisfied: suod in c:\\users\\jbogg\\anaconda3\\lib\\site-packages (from pyod->pycaret) (0.0.4)\n",
      "Requirement already satisfied: combo in c:\\users\\jbogg\\anaconda3\\lib\\site-packages (from pyod->pycaret) (0.1.0)\n",
      "Requirement already satisfied: numba>=0.35 in c:\\users\\jbogg\\anaconda3\\lib\\site-packages (from pyod->pycaret) (0.45.1)\n",
      "Requirement already satisfied: pyparsing!=2.0.4,!=2.1.2,!=2.1.6,>=2.0.1 in c:\\users\\jbogg\\anaconda3\\lib\\site-packages (from matplotlib->pycaret) (2.4.2)\n",
      "Requirement already satisfied: kiwisolver>=1.0.1 in c:\\users\\jbogg\\anaconda3\\lib\\site-packages (from matplotlib->pycaret) (1.1.0)\n",
      "Requirement already satisfied: cycler>=0.10 in c:\\users\\jbogg\\anaconda3\\lib\\site-packages (from matplotlib->pycaret) (0.10.0)\n",
      "Requirement already satisfied: pillow in c:\\users\\jbogg\\anaconda3\\lib\\site-packages (from wordcloud->pycaret) (6.2.0)\n",
      "Requirement already satisfied: tbb>=2019.0 in c:\\users\\jbogg\\anaconda3\\lib\\site-packages (from umap-learn->pycaret) (2019.0)\n",
      "Requirement already satisfied: htmlmin>=0.1.12 in c:\\users\\jbogg\\anaconda3\\lib\\site-packages (from pandas-profiling==2.3.0->pycaret) (0.1.12)\n",
      "Requirement already satisfied: phik>=0.9.8 in c:\\users\\jbogg\\anaconda3\\lib\\site-packages (from pandas-profiling==2.3.0->pycaret) (0.9.11)\n",
      "Requirement already satisfied: confuse>=1.0.0 in c:\\users\\jbogg\\anaconda3\\lib\\site-packages (from pandas-profiling==2.3.0->pycaret) (1.1.0)\n",
      "Requirement already satisfied: astropy in c:\\users\\jbogg\\anaconda3\\lib\\site-packages (from pandas-profiling==2.3.0->pycaret) (3.2.1)\n",
      "Requirement already satisfied: missingno>=0.4.2 in c:\\users\\jbogg\\anaconda3\\lib\\site-packages (from pandas-profiling==2.3.0->pycaret) (0.4.2)\n",
      "Requirement already satisfied: s3transfer<0.4.0,>=0.3.0 in c:\\users\\jbogg\\anaconda3\\lib\\site-packages (from awscli->pycaret) (0.3.3)\n",
      "Requirement already satisfied: PyYAML<5.4,>=3.10; python_version != \"3.4\" in c:\\users\\jbogg\\anaconda3\\lib\\site-packages (from awscli->pycaret) (5.1.2)\n",
      "Requirement already satisfied: docutils<0.16,>=0.10 in c:\\users\\jbogg\\anaconda3\\lib\\site-packages (from awscli->pycaret) (0.15.2)\n",
      "Requirement already satisfied: botocore==1.16.9 in c:\\users\\jbogg\\anaconda3\\lib\\site-packages (from awscli->pycaret) (1.16.9)\n",
      "Requirement already satisfied: rsa<=3.5.0,>=3.1.2 in c:\\users\\jbogg\\anaconda3\\lib\\site-packages (from awscli->pycaret) (3.4.2)\n",
      "Requirement already satisfied: regex>=2017.02.08 in c:\\users\\jbogg\\anaconda3\\lib\\site-packages (from datefinder==0.7.0->pycaret) (2020.5.14)\n",
      "Requirement already satisfied: nbformat>=4.2.0 in c:\\users\\jbogg\\anaconda3\\lib\\site-packages (from ipywidgets->pycaret) (4.4.0)\n",
      "Requirement already satisfied: ipykernel>=4.5.1 in c:\\users\\jbogg\\anaconda3\\lib\\site-packages (from ipywidgets->pycaret) (5.1.2)\n",
      "Requirement already satisfied: widgetsnbextension~=3.5.0 in c:\\users\\jbogg\\anaconda3\\lib\\site-packages (from ipywidgets->pycaret) (3.5.1)\n",
      "Requirement already satisfied: parso>=0.7.0 in c:\\users\\jbogg\\anaconda3\\lib\\site-packages (from jedi>=0.10->IPython->pycaret) (0.7.0)\n",
      "Requirement already satisfied: wcwidth in c:\\users\\jbogg\\anaconda3\\lib\\site-packages (from prompt-toolkit!=3.0.0,!=3.0.1,<3.1.0,>=2.0.0->IPython->pycaret) (0.1.9)\n",
      "Requirement already satisfied: ipython-genutils in c:\\users\\jbogg\\anaconda3\\lib\\site-packages (from traitlets>=4.2->IPython->pycaret) (0.2.0)\n",
      "Requirement already satisfied: importlib-metadata>=0.20; python_version < \"3.8\" in c:\\users\\jbogg\\anaconda3\\lib\\site-packages (from catalogue<1.1.0,>=0.0.7->spacy->pycaret) (0.23)\n",
      "Requirement already satisfied: urllib3!=1.25.0,!=1.25.1,<1.26,>=1.21.1 in c:\\users\\jbogg\\anaconda3\\lib\\site-packages (from requests<3.0.0,>=2.13.0->spacy->pycaret) (1.24.2)\n",
      "Requirement already satisfied: certifi>=2017.4.17 in c:\\users\\jbogg\\anaconda3\\lib\\site-packages (from requests<3.0.0,>=2.13.0->spacy->pycaret) (2019.9.11)\n",
      "Requirement already satisfied: chardet<3.1.0,>=3.0.2 in c:\\users\\jbogg\\anaconda3\\lib\\site-packages (from requests<3.0.0,>=2.13.0->spacy->pycaret) (3.0.4)\n",
      "Requirement already satisfied: idna<2.9,>=2.5 in c:\\users\\jbogg\\anaconda3\\lib\\site-packages (from requests<3.0.0,>=2.13.0->spacy->pycaret) (2.8)\n",
      "Requirement already satisfied: boto in c:\\users\\jbogg\\anaconda3\\lib\\site-packages (from smart-open>=1.8.1->gensim->pycaret) (2.49.0)\n",
      "Requirement already satisfied: boto3 in c:\\users\\jbogg\\anaconda3\\lib\\site-packages (from smart-open>=1.8.1->gensim->pycaret) (1.13.9)\n",
      "Requirement already satisfied: MarkupSafe>=0.23 in c:\\users\\jbogg\\anaconda3\\lib\\site-packages (from jinja2>=2.7.2->pyLDAvis->pycaret) (1.1.1)\n",
      "Requirement already satisfied: py>=1.5.0 in c:\\users\\jbogg\\anaconda3\\lib\\site-packages (from pytest->pyLDAvis->pycaret) (1.8.0)\n",
      "Requirement already satisfied: packaging in c:\\users\\jbogg\\anaconda3\\lib\\site-packages (from pytest->pyLDAvis->pycaret) (19.2)\n",
      "Requirement already satisfied: attrs>=17.4.0 in c:\\users\\jbogg\\anaconda3\\lib\\site-packages (from pytest->pyLDAvis->pycaret) (19.2.0)\n",
      "Requirement already satisfied: more-itertools>=4.0.0 in c:\\users\\jbogg\\anaconda3\\lib\\site-packages (from pytest->pyLDAvis->pycaret) (7.2.0)\n",
      "Requirement already satisfied: atomicwrites>=1.0 in c:\\users\\jbogg\\anaconda3\\lib\\site-packages (from pytest->pyLDAvis->pycaret) (1.3.0)\n",
      "Requirement already satisfied: pluggy<1.0,>=0.12 in c:\\users\\jbogg\\anaconda3\\lib\\site-packages (from pytest->pyLDAvis->pycaret) (0.13.0)\n",
      "Requirement already satisfied: llvmlite>=0.29.0dev0 in c:\\users\\jbogg\\anaconda3\\lib\\site-packages (from numba>=0.35->pyod->pycaret) (0.29.0)\n",
      "Requirement already satisfied: jmespath<1.0.0,>=0.7.1 in c:\\users\\jbogg\\anaconda3\\lib\\site-packages (from botocore==1.16.9->awscli->pycaret) (0.10.0)\n",
      "Requirement already satisfied: pyasn1>=0.1.3 in c:\\users\\jbogg\\anaconda3\\lib\\site-packages (from rsa<=3.5.0,>=3.1.2->awscli->pycaret) (0.4.8)\n",
      "Requirement already satisfied: jupyter-core in c:\\users\\jbogg\\anaconda3\\lib\\site-packages (from nbformat>=4.2.0->ipywidgets->pycaret) (4.5.0)\n",
      "Requirement already satisfied: jsonschema!=2.5.0,>=2.4 in c:\\users\\jbogg\\anaconda3\\lib\\site-packages (from nbformat>=4.2.0->ipywidgets->pycaret) (3.0.2)\n",
      "Requirement already satisfied: tornado>=4.2 in c:\\users\\jbogg\\anaconda3\\lib\\site-packages (from ipykernel>=4.5.1->ipywidgets->pycaret) (6.0.4)\n",
      "Requirement already satisfied: jupyter-client in c:\\users\\jbogg\\anaconda3\\lib\\site-packages (from ipykernel>=4.5.1->ipywidgets->pycaret) (5.3.3)\n",
      "Requirement already satisfied: notebook>=4.4.1 in c:\\users\\jbogg\\anaconda3\\lib\\site-packages (from widgetsnbextension~=3.5.0->ipywidgets->pycaret) (6.0.1)\n",
      "Requirement already satisfied: zipp>=0.5 in c:\\users\\jbogg\\anaconda3\\lib\\site-packages (from importlib-metadata>=0.20; python_version < \"3.8\"->catalogue<1.1.0,>=0.0.7->spacy->pycaret) (0.6.0)\n",
      "Requirement already satisfied: pyrsistent>=0.14.0 in c:\\users\\jbogg\\anaconda3\\lib\\site-packages (from jsonschema!=2.5.0,>=2.4->nbformat>=4.2.0->ipywidgets->pycaret) (0.15.4)\n",
      "Requirement already satisfied: pywin32>=1.0; sys_platform == \"win32\" in c:\\users\\jbogg\\anaconda3\\lib\\site-packages (from jupyter-client->ipykernel>=4.5.1->ipywidgets->pycaret) (225)\n",
      "Requirement already satisfied: pyzmq>=13 in c:\\users\\jbogg\\anaconda3\\lib\\site-packages (from jupyter-client->ipykernel>=4.5.1->ipywidgets->pycaret) (18.1.0)\n",
      "Requirement already satisfied: prometheus-client in c:\\users\\jbogg\\anaconda3\\lib\\site-packages (from notebook>=4.4.1->widgetsnbextension~=3.5.0->ipywidgets->pycaret) (0.7.1)\n",
      "Requirement already satisfied: nbconvert in c:\\users\\jbogg\\anaconda3\\lib\\site-packages (from notebook>=4.4.1->widgetsnbextension~=3.5.0->ipywidgets->pycaret) (5.6.0)\n",
      "Requirement already satisfied: Send2Trash in c:\\users\\jbogg\\anaconda3\\lib\\site-packages (from notebook>=4.4.1->widgetsnbextension~=3.5.0->ipywidgets->pycaret) (1.5.0)\n",
      "Requirement already satisfied: terminado>=0.8.1 in c:\\users\\jbogg\\anaconda3\\lib\\site-packages (from notebook>=4.4.1->widgetsnbextension~=3.5.0->ipywidgets->pycaret) (0.8.3)\n",
      "Requirement already satisfied: defusedxml in c:\\users\\jbogg\\anaconda3\\lib\\site-packages (from nbconvert->notebook>=4.4.1->widgetsnbextension~=3.5.0->ipywidgets->pycaret) (0.6.0)\n",
      "Requirement already satisfied: testpath in c:\\users\\jbogg\\anaconda3\\lib\\site-packages (from nbconvert->notebook>=4.4.1->widgetsnbextension~=3.5.0->ipywidgets->pycaret) (0.4.2)\n",
      "Requirement already satisfied: entrypoints>=0.2.2 in c:\\users\\jbogg\\anaconda3\\lib\\site-packages (from nbconvert->notebook>=4.4.1->widgetsnbextension~=3.5.0->ipywidgets->pycaret) (0.3)\n",
      "Requirement already satisfied: bleach in c:\\users\\jbogg\\anaconda3\\lib\\site-packages (from nbconvert->notebook>=4.4.1->widgetsnbextension~=3.5.0->ipywidgets->pycaret) (3.1.0)\n",
      "Requirement already satisfied: mistune<2,>=0.8.1 in c:\\users\\jbogg\\anaconda3\\lib\\site-packages (from nbconvert->notebook>=4.4.1->widgetsnbextension~=3.5.0->ipywidgets->pycaret) (0.8.4)\n",
      "Requirement already satisfied: pandocfilters>=1.4.1 in c:\\users\\jbogg\\anaconda3\\lib\\site-packages (from nbconvert->notebook>=4.4.1->widgetsnbextension~=3.5.0->ipywidgets->pycaret) (1.4.2)\n",
      "Requirement already satisfied: pywinpty>=0.5; os_name == \"nt\" in c:\\users\\jbogg\\anaconda3\\lib\\site-packages (from terminado>=0.8.1->notebook>=4.4.1->widgetsnbextension~=3.5.0->ipywidgets->pycaret) (0.5.7)\n",
      "Requirement already satisfied: webencodings in c:\\users\\jbogg\\anaconda3\\lib\\site-packages (from bleach->nbconvert->notebook>=4.4.1->widgetsnbextension~=3.5.0->ipywidgets->pycaret) (0.5.1)\n"
     ]
    }
   ],
   "source": [
    "import pandas as pd\n",
    "import numpy as np\n",
    "import matplotlib.pyplot as plt\n",
    "import scipy.stats as ss\n",
    "from scipy.stats import chi2_contingency\n",
    "from sklearn.preprocessing import LabelEncoder\n",
    "le=LabelEncoder()\n",
    "from sklearn.ensemble import RandomForestClassifier\n",
    "!pip install pycaret\n",
    "from pycaret.classification import *"
   ]
  },
  {
   "cell_type": "markdown",
   "metadata": {},
   "source": [
    "#### Importing the data"
   ]
  },
  {
   "cell_type": "code",
   "execution_count": 12,
   "metadata": {},
   "outputs": [
    {
     "data": {
      "text/html": [
       "<div>\n",
       "<style scoped>\n",
       "    .dataframe tbody tr th:only-of-type {\n",
       "        vertical-align: middle;\n",
       "    }\n",
       "\n",
       "    .dataframe tbody tr th {\n",
       "        vertical-align: top;\n",
       "    }\n",
       "\n",
       "    .dataframe thead th {\n",
       "        text-align: right;\n",
       "    }\n",
       "</style>\n",
       "<table border=\"1\" class=\"dataframe\">\n",
       "  <thead>\n",
       "    <tr style=\"text-align: right;\">\n",
       "      <th></th>\n",
       "      <th>Unnamed: 0</th>\n",
       "      <th>sellerName</th>\n",
       "      <th>origChannel</th>\n",
       "      <th>origIntRate</th>\n",
       "      <th>origUPB</th>\n",
       "      <th>origDate</th>\n",
       "      <th>firstPmtDate</th>\n",
       "      <th>origLTV</th>\n",
       "      <th>origCLTV</th>\n",
       "      <th>numBorrowers</th>\n",
       "      <th>...</th>\n",
       "      <th>loanPurp</th>\n",
       "      <th>propState</th>\n",
       "      <th>zipCode</th>\n",
       "      <th>pMIperct</th>\n",
       "      <th>mortInsType</th>\n",
       "      <th>fmacRate</th>\n",
       "      <th>fredRate</th>\n",
       "      <th>rateDiff</th>\n",
       "      <th>rateDiffPct</th>\n",
       "      <th>rank</th>\n",
       "    </tr>\n",
       "  </thead>\n",
       "  <tbody>\n",
       "    <tr>\n",
       "      <td>0</td>\n",
       "      <td>0</td>\n",
       "      <td>UNITED SHORE FINANCIAL SERVICES, LLC DBA UNITE...</td>\n",
       "      <td>1</td>\n",
       "      <td>4.625</td>\n",
       "      <td>160000</td>\n",
       "      <td>2019-02-01</td>\n",
       "      <td>4/1/2019</td>\n",
       "      <td>80</td>\n",
       "      <td>80</td>\n",
       "      <td>2</td>\n",
       "      <td>...</td>\n",
       "      <td>C</td>\n",
       "      <td>IN</td>\n",
       "      <td>462</td>\n",
       "      <td>0</td>\n",
       "      <td>0</td>\n",
       "      <td>4.46</td>\n",
       "      <td>2.7</td>\n",
       "      <td>0.165</td>\n",
       "      <td>0.036996</td>\n",
       "      <td>3</td>\n",
       "    </tr>\n",
       "    <tr>\n",
       "      <td>1</td>\n",
       "      <td>1</td>\n",
       "      <td>UNITED SHORE FINANCIAL SERVICES, LLC DBA UNITE...</td>\n",
       "      <td>1</td>\n",
       "      <td>4.500</td>\n",
       "      <td>510000</td>\n",
       "      <td>2019-02-01</td>\n",
       "      <td>4/1/2019</td>\n",
       "      <td>64</td>\n",
       "      <td>64</td>\n",
       "      <td>2</td>\n",
       "      <td>...</td>\n",
       "      <td>C</td>\n",
       "      <td>CA</td>\n",
       "      <td>913</td>\n",
       "      <td>0</td>\n",
       "      <td>0</td>\n",
       "      <td>4.46</td>\n",
       "      <td>2.7</td>\n",
       "      <td>0.040</td>\n",
       "      <td>0.008969</td>\n",
       "      <td>2</td>\n",
       "    </tr>\n",
       "    <tr>\n",
       "      <td>2</td>\n",
       "      <td>2</td>\n",
       "      <td>QUICKEN LOANS INC.</td>\n",
       "      <td>0</td>\n",
       "      <td>4.750</td>\n",
       "      <td>143000</td>\n",
       "      <td>2019-02-01</td>\n",
       "      <td>4/1/2019</td>\n",
       "      <td>68</td>\n",
       "      <td>68</td>\n",
       "      <td>1</td>\n",
       "      <td>...</td>\n",
       "      <td>C</td>\n",
       "      <td>NC</td>\n",
       "      <td>286</td>\n",
       "      <td>0</td>\n",
       "      <td>0</td>\n",
       "      <td>4.46</td>\n",
       "      <td>2.7</td>\n",
       "      <td>0.290</td>\n",
       "      <td>0.065022</td>\n",
       "      <td>3</td>\n",
       "    </tr>\n",
       "    <tr>\n",
       "      <td>3</td>\n",
       "      <td>3</td>\n",
       "      <td>UNITED SHORE FINANCIAL SERVICES, LLC DBA UNITE...</td>\n",
       "      <td>1</td>\n",
       "      <td>4.500</td>\n",
       "      <td>160000</td>\n",
       "      <td>2019-02-01</td>\n",
       "      <td>4/1/2019</td>\n",
       "      <td>17</td>\n",
       "      <td>17</td>\n",
       "      <td>1</td>\n",
       "      <td>...</td>\n",
       "      <td>C</td>\n",
       "      <td>CA</td>\n",
       "      <td>920</td>\n",
       "      <td>0</td>\n",
       "      <td>0</td>\n",
       "      <td>4.46</td>\n",
       "      <td>2.7</td>\n",
       "      <td>0.040</td>\n",
       "      <td>0.008969</td>\n",
       "      <td>2</td>\n",
       "    </tr>\n",
       "    <tr>\n",
       "      <td>4</td>\n",
       "      <td>4</td>\n",
       "      <td>PENNYMAC CORP.</td>\n",
       "      <td>2</td>\n",
       "      <td>4.500</td>\n",
       "      <td>320000</td>\n",
       "      <td>2019-02-01</td>\n",
       "      <td>4/1/2019</td>\n",
       "      <td>74</td>\n",
       "      <td>74</td>\n",
       "      <td>2</td>\n",
       "      <td>...</td>\n",
       "      <td>R</td>\n",
       "      <td>LA</td>\n",
       "      <td>707</td>\n",
       "      <td>0</td>\n",
       "      <td>0</td>\n",
       "      <td>4.46</td>\n",
       "      <td>2.7</td>\n",
       "      <td>0.040</td>\n",
       "      <td>0.008969</td>\n",
       "      <td>2</td>\n",
       "    </tr>\n",
       "  </tbody>\n",
       "</table>\n",
       "<p>5 rows × 25 columns</p>\n",
       "</div>"
      ],
      "text/plain": [
       "   Unnamed: 0                                         sellerName  origChannel  \\\n",
       "0           0  UNITED SHORE FINANCIAL SERVICES, LLC DBA UNITE...            1   \n",
       "1           1  UNITED SHORE FINANCIAL SERVICES, LLC DBA UNITE...            1   \n",
       "2           2                                 QUICKEN LOANS INC.            0   \n",
       "3           3  UNITED SHORE FINANCIAL SERVICES, LLC DBA UNITE...            1   \n",
       "4           4                                     PENNYMAC CORP.            2   \n",
       "\n",
       "   origIntRate  origUPB    origDate firstPmtDate  origLTV  origCLTV  \\\n",
       "0        4.625   160000  2019-02-01     4/1/2019       80        80   \n",
       "1        4.500   510000  2019-02-01     4/1/2019       64        64   \n",
       "2        4.750   143000  2019-02-01     4/1/2019       68        68   \n",
       "3        4.500   160000  2019-02-01     4/1/2019       17        17   \n",
       "4        4.500   320000  2019-02-01     4/1/2019       74        74   \n",
       "\n",
       "   numBorrowers  ...  loanPurp  propState  zipCode  pMIperct  mortInsType  \\\n",
       "0             2  ...         C         IN      462         0            0   \n",
       "1             2  ...         C         CA      913         0            0   \n",
       "2             1  ...         C         NC      286         0            0   \n",
       "3             1  ...         C         CA      920         0            0   \n",
       "4             2  ...         R         LA      707         0            0   \n",
       "\n",
       "  fmacRate fredRate  rateDiff  rateDiffPct  rank  \n",
       "0     4.46      2.7     0.165     0.036996     3  \n",
       "1     4.46      2.7     0.040     0.008969     2  \n",
       "2     4.46      2.7     0.290     0.065022     3  \n",
       "3     4.46      2.7     0.040     0.008969     2  \n",
       "4     4.46      2.7     0.040     0.008969     2  \n",
       "\n",
       "[5 rows x 25 columns]"
      ]
     },
     "execution_count": 12,
     "metadata": {},
     "output_type": "execute_result"
    }
   ],
   "source": [
    "data=pd.read_csv(\"data/FannieAcq2019Q1FMac30bin9.csv\")\n",
    "data.head()"
   ]
  },
  {
   "cell_type": "code",
   "execution_count": 13,
   "metadata": {},
   "outputs": [],
   "source": [
    "data.rename(columns={'Unnamed: 0':'namedCol'}, inplace=True )"
   ]
  },
  {
   "cell_type": "code",
   "execution_count": 14,
   "metadata": {},
   "outputs": [
    {
     "data": {
      "text/html": [
       "<div>\n",
       "<style scoped>\n",
       "    .dataframe tbody tr th:only-of-type {\n",
       "        vertical-align: middle;\n",
       "    }\n",
       "\n",
       "    .dataframe tbody tr th {\n",
       "        vertical-align: top;\n",
       "    }\n",
       "\n",
       "    .dataframe thead th {\n",
       "        text-align: right;\n",
       "    }\n",
       "</style>\n",
       "<table border=\"1\" class=\"dataframe\">\n",
       "  <thead>\n",
       "    <tr style=\"text-align: right;\">\n",
       "      <th></th>\n",
       "      <th>namedCol</th>\n",
       "      <th>sellerName</th>\n",
       "      <th>origChannel</th>\n",
       "      <th>origIntRate</th>\n",
       "      <th>origUPB</th>\n",
       "      <th>origDate</th>\n",
       "      <th>firstPmtDate</th>\n",
       "      <th>origLTV</th>\n",
       "      <th>origCLTV</th>\n",
       "      <th>numBorrowers</th>\n",
       "      <th>...</th>\n",
       "      <th>loanPurp</th>\n",
       "      <th>propState</th>\n",
       "      <th>zipCode</th>\n",
       "      <th>pMIperct</th>\n",
       "      <th>mortInsType</th>\n",
       "      <th>fmacRate</th>\n",
       "      <th>fredRate</th>\n",
       "      <th>rateDiff</th>\n",
       "      <th>rateDiffPct</th>\n",
       "      <th>rank</th>\n",
       "    </tr>\n",
       "  </thead>\n",
       "  <tbody>\n",
       "    <tr>\n",
       "      <td>0</td>\n",
       "      <td>0</td>\n",
       "      <td>UNITED SHORE FINANCIAL SERVICES, LLC DBA UNITE...</td>\n",
       "      <td>1</td>\n",
       "      <td>4.625</td>\n",
       "      <td>160000</td>\n",
       "      <td>2019-02-01</td>\n",
       "      <td>4/1/2019</td>\n",
       "      <td>80</td>\n",
       "      <td>80</td>\n",
       "      <td>2</td>\n",
       "      <td>...</td>\n",
       "      <td>C</td>\n",
       "      <td>IN</td>\n",
       "      <td>462</td>\n",
       "      <td>0</td>\n",
       "      <td>0</td>\n",
       "      <td>4.46</td>\n",
       "      <td>2.7</td>\n",
       "      <td>0.165</td>\n",
       "      <td>0.036996</td>\n",
       "      <td>3</td>\n",
       "    </tr>\n",
       "    <tr>\n",
       "      <td>1</td>\n",
       "      <td>1</td>\n",
       "      <td>UNITED SHORE FINANCIAL SERVICES, LLC DBA UNITE...</td>\n",
       "      <td>1</td>\n",
       "      <td>4.500</td>\n",
       "      <td>510000</td>\n",
       "      <td>2019-02-01</td>\n",
       "      <td>4/1/2019</td>\n",
       "      <td>64</td>\n",
       "      <td>64</td>\n",
       "      <td>2</td>\n",
       "      <td>...</td>\n",
       "      <td>C</td>\n",
       "      <td>CA</td>\n",
       "      <td>913</td>\n",
       "      <td>0</td>\n",
       "      <td>0</td>\n",
       "      <td>4.46</td>\n",
       "      <td>2.7</td>\n",
       "      <td>0.040</td>\n",
       "      <td>0.008969</td>\n",
       "      <td>2</td>\n",
       "    </tr>\n",
       "    <tr>\n",
       "      <td>2</td>\n",
       "      <td>2</td>\n",
       "      <td>QUICKEN LOANS INC.</td>\n",
       "      <td>0</td>\n",
       "      <td>4.750</td>\n",
       "      <td>143000</td>\n",
       "      <td>2019-02-01</td>\n",
       "      <td>4/1/2019</td>\n",
       "      <td>68</td>\n",
       "      <td>68</td>\n",
       "      <td>1</td>\n",
       "      <td>...</td>\n",
       "      <td>C</td>\n",
       "      <td>NC</td>\n",
       "      <td>286</td>\n",
       "      <td>0</td>\n",
       "      <td>0</td>\n",
       "      <td>4.46</td>\n",
       "      <td>2.7</td>\n",
       "      <td>0.290</td>\n",
       "      <td>0.065022</td>\n",
       "      <td>3</td>\n",
       "    </tr>\n",
       "    <tr>\n",
       "      <td>3</td>\n",
       "      <td>3</td>\n",
       "      <td>UNITED SHORE FINANCIAL SERVICES, LLC DBA UNITE...</td>\n",
       "      <td>1</td>\n",
       "      <td>4.500</td>\n",
       "      <td>160000</td>\n",
       "      <td>2019-02-01</td>\n",
       "      <td>4/1/2019</td>\n",
       "      <td>17</td>\n",
       "      <td>17</td>\n",
       "      <td>1</td>\n",
       "      <td>...</td>\n",
       "      <td>C</td>\n",
       "      <td>CA</td>\n",
       "      <td>920</td>\n",
       "      <td>0</td>\n",
       "      <td>0</td>\n",
       "      <td>4.46</td>\n",
       "      <td>2.7</td>\n",
       "      <td>0.040</td>\n",
       "      <td>0.008969</td>\n",
       "      <td>2</td>\n",
       "    </tr>\n",
       "    <tr>\n",
       "      <td>4</td>\n",
       "      <td>4</td>\n",
       "      <td>PENNYMAC CORP.</td>\n",
       "      <td>2</td>\n",
       "      <td>4.500</td>\n",
       "      <td>320000</td>\n",
       "      <td>2019-02-01</td>\n",
       "      <td>4/1/2019</td>\n",
       "      <td>74</td>\n",
       "      <td>74</td>\n",
       "      <td>2</td>\n",
       "      <td>...</td>\n",
       "      <td>R</td>\n",
       "      <td>LA</td>\n",
       "      <td>707</td>\n",
       "      <td>0</td>\n",
       "      <td>0</td>\n",
       "      <td>4.46</td>\n",
       "      <td>2.7</td>\n",
       "      <td>0.040</td>\n",
       "      <td>0.008969</td>\n",
       "      <td>2</td>\n",
       "    </tr>\n",
       "  </tbody>\n",
       "</table>\n",
       "<p>5 rows × 25 columns</p>\n",
       "</div>"
      ],
      "text/plain": [
       "   namedCol                                         sellerName  origChannel  \\\n",
       "0         0  UNITED SHORE FINANCIAL SERVICES, LLC DBA UNITE...            1   \n",
       "1         1  UNITED SHORE FINANCIAL SERVICES, LLC DBA UNITE...            1   \n",
       "2         2                                 QUICKEN LOANS INC.            0   \n",
       "3         3  UNITED SHORE FINANCIAL SERVICES, LLC DBA UNITE...            1   \n",
       "4         4                                     PENNYMAC CORP.            2   \n",
       "\n",
       "   origIntRate  origUPB    origDate firstPmtDate  origLTV  origCLTV  \\\n",
       "0        4.625   160000  2019-02-01     4/1/2019       80        80   \n",
       "1        4.500   510000  2019-02-01     4/1/2019       64        64   \n",
       "2        4.750   143000  2019-02-01     4/1/2019       68        68   \n",
       "3        4.500   160000  2019-02-01     4/1/2019       17        17   \n",
       "4        4.500   320000  2019-02-01     4/1/2019       74        74   \n",
       "\n",
       "   numBorrowers  ...  loanPurp  propState  zipCode  pMIperct  mortInsType  \\\n",
       "0             2  ...         C         IN      462         0            0   \n",
       "1             2  ...         C         CA      913         0            0   \n",
       "2             1  ...         C         NC      286         0            0   \n",
       "3             1  ...         C         CA      920         0            0   \n",
       "4             2  ...         R         LA      707         0            0   \n",
       "\n",
       "  fmacRate fredRate  rateDiff  rateDiffPct  rank  \n",
       "0     4.46      2.7     0.165     0.036996     3  \n",
       "1     4.46      2.7     0.040     0.008969     2  \n",
       "2     4.46      2.7     0.290     0.065022     3  \n",
       "3     4.46      2.7     0.040     0.008969     2  \n",
       "4     4.46      2.7     0.040     0.008969     2  \n",
       "\n",
       "[5 rows x 25 columns]"
      ]
     },
     "execution_count": 14,
     "metadata": {},
     "output_type": "execute_result"
    }
   ],
   "source": [
    "data.head()"
   ]
  },
  {
   "cell_type": "code",
   "execution_count": 15,
   "metadata": {},
   "outputs": [
    {
     "data": {
      "text/plain": [
       "(28939, 25)"
      ]
     },
     "execution_count": 15,
     "metadata": {},
     "output_type": "execute_result"
    }
   ],
   "source": [
    "data.shape"
   ]
  },
  {
   "cell_type": "code",
   "execution_count": 16,
   "metadata": {},
   "outputs": [
    {
     "data": {
      "text/plain": [
       "namedCol            0\n",
       "sellerName          0\n",
       "origChannel         0\n",
       "origIntRate         0\n",
       "origUPB             0\n",
       "origDate            0\n",
       "firstPmtDate        0\n",
       "origLTV             0\n",
       "origCLTV            0\n",
       "numBorrowers        0\n",
       "origDebtIncRatio    0\n",
       "borrCreditScore     0\n",
       "BestCreditScore     0\n",
       "WorstCreditScore    0\n",
       "AvgCreditScore      0\n",
       "loanPurp            0\n",
       "propState           0\n",
       "zipCode             0\n",
       "pMIperct            0\n",
       "mortInsType         0\n",
       "fmacRate            0\n",
       "fredRate            0\n",
       "rateDiff            0\n",
       "rateDiffPct         0\n",
       "rank                0\n",
       "dtype: int64"
      ]
     },
     "execution_count": 16,
     "metadata": {},
     "output_type": "execute_result"
    }
   ],
   "source": [
    "#Checking for missing values\n",
    "data.isnull().sum()"
   ]
  },
  {
   "cell_type": "code",
   "execution_count": 17,
   "metadata": {},
   "outputs": [
    {
     "data": {
      "text/plain": [
       "namedCol              int64\n",
       "sellerName           object\n",
       "origChannel           int64\n",
       "origIntRate         float64\n",
       "origUPB               int64\n",
       "origDate             object\n",
       "firstPmtDate         object\n",
       "origLTV               int64\n",
       "origCLTV              int64\n",
       "numBorrowers          int64\n",
       "origDebtIncRatio      int64\n",
       "borrCreditScore       int64\n",
       "BestCreditScore       int64\n",
       "WorstCreditScore      int64\n",
       "AvgCreditScore      float64\n",
       "loanPurp             object\n",
       "propState            object\n",
       "zipCode               int64\n",
       "pMIperct              int64\n",
       "mortInsType           int64\n",
       "fmacRate            float64\n",
       "fredRate            float64\n",
       "rateDiff            float64\n",
       "rateDiffPct         float64\n",
       "rank                  int64\n",
       "dtype: object"
      ]
     },
     "execution_count": 17,
     "metadata": {},
     "output_type": "execute_result"
    }
   ],
   "source": [
    "#Checking datatypes of individual feature\n",
    "data.dtypes"
   ]
  },
  {
   "cell_type": "code",
   "execution_count": 18,
   "metadata": {},
   "outputs": [],
   "source": [
    "#Dropping 'gameId' feature as it's not required in model building and prediction\n",
    "data.drop(['namedCol', 'sellerName', 'origChannel', 'origDate', 'firstPmtDate', 'borrCreditScore', 'BestCreditScore', 'WorstCreditScore',\n",
    "           'loanPurp', 'propState', 'zipCode', 'pMIperct', 'mortInsType',\n",
    "          'rank'],1,inplace=True)"
   ]
  },
  {
   "cell_type": "code",
   "execution_count": 19,
   "metadata": {},
   "outputs": [
    {
     "data": {
      "text/html": [
       "<div>\n",
       "<style scoped>\n",
       "    .dataframe tbody tr th:only-of-type {\n",
       "        vertical-align: middle;\n",
       "    }\n",
       "\n",
       "    .dataframe tbody tr th {\n",
       "        vertical-align: top;\n",
       "    }\n",
       "\n",
       "    .dataframe thead th {\n",
       "        text-align: right;\n",
       "    }\n",
       "</style>\n",
       "<table border=\"1\" class=\"dataframe\">\n",
       "  <thead>\n",
       "    <tr style=\"text-align: right;\">\n",
       "      <th></th>\n",
       "      <th>origIntRate</th>\n",
       "      <th>origUPB</th>\n",
       "      <th>origLTV</th>\n",
       "      <th>origCLTV</th>\n",
       "      <th>numBorrowers</th>\n",
       "      <th>origDebtIncRatio</th>\n",
       "      <th>AvgCreditScore</th>\n",
       "      <th>fmacRate</th>\n",
       "      <th>fredRate</th>\n",
       "      <th>rateDiff</th>\n",
       "      <th>rateDiffPct</th>\n",
       "    </tr>\n",
       "  </thead>\n",
       "  <tbody>\n",
       "    <tr>\n",
       "      <td>0</td>\n",
       "      <td>4.625</td>\n",
       "      <td>160000</td>\n",
       "      <td>80</td>\n",
       "      <td>80</td>\n",
       "      <td>2</td>\n",
       "      <td>34</td>\n",
       "      <td>755.0</td>\n",
       "      <td>4.46</td>\n",
       "      <td>2.7</td>\n",
       "      <td>0.165</td>\n",
       "      <td>0.036996</td>\n",
       "    </tr>\n",
       "    <tr>\n",
       "      <td>1</td>\n",
       "      <td>4.500</td>\n",
       "      <td>510000</td>\n",
       "      <td>64</td>\n",
       "      <td>64</td>\n",
       "      <td>2</td>\n",
       "      <td>40</td>\n",
       "      <td>769.5</td>\n",
       "      <td>4.46</td>\n",
       "      <td>2.7</td>\n",
       "      <td>0.040</td>\n",
       "      <td>0.008969</td>\n",
       "    </tr>\n",
       "    <tr>\n",
       "      <td>2</td>\n",
       "      <td>4.750</td>\n",
       "      <td>143000</td>\n",
       "      <td>68</td>\n",
       "      <td>68</td>\n",
       "      <td>1</td>\n",
       "      <td>16</td>\n",
       "      <td>674.0</td>\n",
       "      <td>4.46</td>\n",
       "      <td>2.7</td>\n",
       "      <td>0.290</td>\n",
       "      <td>0.065022</td>\n",
       "    </tr>\n",
       "    <tr>\n",
       "      <td>3</td>\n",
       "      <td>4.500</td>\n",
       "      <td>160000</td>\n",
       "      <td>17</td>\n",
       "      <td>17</td>\n",
       "      <td>1</td>\n",
       "      <td>43</td>\n",
       "      <td>738.0</td>\n",
       "      <td>4.46</td>\n",
       "      <td>2.7</td>\n",
       "      <td>0.040</td>\n",
       "      <td>0.008969</td>\n",
       "    </tr>\n",
       "    <tr>\n",
       "      <td>4</td>\n",
       "      <td>4.500</td>\n",
       "      <td>320000</td>\n",
       "      <td>74</td>\n",
       "      <td>74</td>\n",
       "      <td>2</td>\n",
       "      <td>26</td>\n",
       "      <td>729.0</td>\n",
       "      <td>4.46</td>\n",
       "      <td>2.7</td>\n",
       "      <td>0.040</td>\n",
       "      <td>0.008969</td>\n",
       "    </tr>\n",
       "  </tbody>\n",
       "</table>\n",
       "</div>"
      ],
      "text/plain": [
       "   origIntRate  origUPB  origLTV  origCLTV  numBorrowers  origDebtIncRatio  \\\n",
       "0        4.625   160000       80        80             2                34   \n",
       "1        4.500   510000       64        64             2                40   \n",
       "2        4.750   143000       68        68             1                16   \n",
       "3        4.500   160000       17        17             1                43   \n",
       "4        4.500   320000       74        74             2                26   \n",
       "\n",
       "   AvgCreditScore  fmacRate  fredRate  rateDiff  rateDiffPct  \n",
       "0           755.0      4.46       2.7     0.165     0.036996  \n",
       "1           769.5      4.46       2.7     0.040     0.008969  \n",
       "2           674.0      4.46       2.7     0.290     0.065022  \n",
       "3           738.0      4.46       2.7     0.040     0.008969  \n",
       "4           729.0      4.46       2.7     0.040     0.008969  "
      ]
     },
     "execution_count": 19,
     "metadata": {},
     "output_type": "execute_result"
    }
   ],
   "source": [
    "data.head()"
   ]
  },
  {
   "cell_type": "code",
   "execution_count": 8,
   "metadata": {},
   "outputs": [],
   "source": [
    "# #Dividing features into numerical and categorical features\n",
    "# categorical=[]\n",
    "# numerical=[]\n",
    "# for col in list(data):\n",
    "#     if(len(data[col].unique())<=30):\n",
    "#         categorical.append(col)\n",
    "#     else:\n",
    "#         numerical.append(col)"
   ]
  },
  {
   "cell_type": "markdown",
   "metadata": {},
   "source": [
    "### Chi-Square test for Feature Importance of Categorical Features"
   ]
  },
  {
   "cell_type": "markdown",
   "metadata": {},
   "source": [
    "As majority of the features in the data are categorical, also the target feature is categorical we can use Chi-Square test for to get the feature importance."
   ]
  },
  {
   "cell_type": "code",
   "execution_count": 20,
   "metadata": {},
   "outputs": [
    {
     "name": "stdout",
     "output_type": "stream",
     "text": [
      "origIntRate  is required\n",
      "origUPB  is required\n",
      "origLTV  is required\n",
      "origCLTV  is required\n",
      "numBorrowers  is not required\n",
      "origDebtIncRatio  is not required\n",
      "AvgCreditScore  is required\n",
      "fmacRate  is required\n",
      "fredRate  is required\n",
      "rateDiff  is required\n",
      "rateDiffPct  is required\n"
     ]
    }
   ],
   "source": [
    "def Chi_square(col_1,col_2):\n",
    "    X=data[col_1].astype('str')\n",
    "    Y=data[col_2].astype('str')\n",
    "    observed_values=pd.crosstab(Y,X)\n",
    "    chi2, p, dof, expected = ss.chi2_contingency(observed_values)\n",
    "    if(p>0.05):\n",
    "        print(col_1,\" is not required\")\n",
    "    else:\n",
    "        print(col_1,\" is required\")\n",
    "        \n",
    "for col in data:\n",
    "    Chi_square(col,\"origIntRate\")"
   ]
  },
  {
   "cell_type": "markdown",
   "metadata": {},
   "source": [
    "### Feature Selection using Backward Elimination for Numerical Features"
   ]
  },
  {
   "cell_type": "markdown",
   "metadata": {},
   "source": [
    "Using Backward Elimination method for numerical features"
   ]
  },
  {
   "cell_type": "code",
   "execution_count": 26,
   "metadata": {},
   "outputs": [
    {
     "name": "stdout",
     "output_type": "stream",
     "text": [
      "Best features using Backward Elimination:  ['origUPB', 'origLTV', 'origCLTV', 'origDebtIncRatio', 'AvgCreditScore', 'fmacRate', 'rateDiff', 'rateDiffPct']\n"
     ]
    },
    {
     "name": "stderr",
     "output_type": "stream",
     "text": [
      "C:\\Users\\jbogg\\Anaconda3\\lib\\site-packages\\numpy\\core\\fromnumeric.py:2542: FutureWarning: Method .ptp is deprecated and will be removed in a future version. Use numpy.ptp instead.\n",
      "  return ptp(axis=axis, out=out, **kwargs)\n"
     ]
    }
   ],
   "source": [
    "X=data.drop(['origIntRate'],1)\n",
    "y=le.fit_transform(data[\"origIntRate\"])\n",
    "\n",
    "import statsmodels.api as sm\n",
    "cols = list(X.columns)\n",
    "pmax = 1\n",
    "while (pmax>0.05):\n",
    "    p=[]\n",
    "    X_1 = X[cols]\n",
    "    X_1 = sm.add_constant(X_1)\n",
    "    model = sm.OLS(y,X_1).fit()\n",
    "    p = pd.Series(model.pvalues.values[1:],index = cols)      \n",
    "    pmax = max(p)\n",
    "    feature_with_p_max = p.idxmax()\n",
    "    if(pmax>0.05):\n",
    "        cols.remove(feature_with_p_max)\n",
    "    else:\n",
    "        breakselected_features_BE = cols\n",
    "print(\"Best features using Backward Elimination: \",cols)"
   ]
  },
  {
   "cell_type": "markdown",
   "metadata": {},
   "source": [
    "### Feature Importance using Random Forest Classifier"
   ]
  },
  {
   "cell_type": "markdown",
   "metadata": {},
   "source": [
    "Random Forest is considered to be one of the most unbiased model. As it creates multiple Decision Trees taking into account Random Features for each Decision Tree.\n",
    "\n",
    "Because of this randomness the Random Forest Classifier considerd to be giving most unbiased Feature Importance"
   ]
  },
  {
   "cell_type": "code",
   "execution_count": 27,
   "metadata": {},
   "outputs": [],
   "source": [
    "X_rfc=data.drop([\"origIntRate\"],1)\n",
    "y_rfc=data[\"origIntRate\"]"
   ]
  },
  {
   "cell_type": "code",
   "execution_count": 33,
   "metadata": {},
   "outputs": [
    {
     "ename": "ValueError",
     "evalue": "Unknown label type: 'continuous'",
     "output_type": "error",
     "traceback": [
      "\u001b[1;31m---------------------------------------------------------------------------\u001b[0m",
      "\u001b[1;31mValueError\u001b[0m                                Traceback (most recent call last)",
      "\u001b[1;32m<ipython-input-33-8671bd62d56c>\u001b[0m in \u001b[0;36m<module>\u001b[1;34m\u001b[0m\n\u001b[0;32m      1\u001b[0m \u001b[0mrfc\u001b[0m\u001b[1;33m=\u001b[0m\u001b[0mRandomForestClassifier\u001b[0m\u001b[1;33m(\u001b[0m\u001b[0mcriterion\u001b[0m\u001b[1;33m=\u001b[0m\u001b[1;34m'entropy'\u001b[0m\u001b[1;33m,\u001b[0m\u001b[0mrandom_state\u001b[0m\u001b[1;33m=\u001b[0m\u001b[1;36m0\u001b[0m\u001b[1;33m,\u001b[0m\u001b[0mn_estimators\u001b[0m\u001b[1;33m=\u001b[0m\u001b[1;36m10\u001b[0m\u001b[1;33m)\u001b[0m\u001b[1;33m\u001b[0m\u001b[1;33m\u001b[0m\u001b[0m\n\u001b[1;32m----> 2\u001b[1;33m \u001b[0mrfc\u001b[0m\u001b[1;33m.\u001b[0m\u001b[0mfit\u001b[0m\u001b[1;33m(\u001b[0m\u001b[0mX_rfc\u001b[0m\u001b[1;33m,\u001b[0m\u001b[0my_rfc\u001b[0m\u001b[1;33m)\u001b[0m\u001b[1;33m\u001b[0m\u001b[1;33m\u001b[0m\u001b[0m\n\u001b[0m",
      "\u001b[1;32m~\\Anaconda3\\lib\\site-packages\\sklearn\\ensemble\\_forest.py\u001b[0m in \u001b[0;36mfit\u001b[1;34m(self, X, y, sample_weight)\u001b[0m\n\u001b[0;32m    319\u001b[0m         \u001b[0mself\u001b[0m\u001b[1;33m.\u001b[0m\u001b[0mn_outputs_\u001b[0m \u001b[1;33m=\u001b[0m \u001b[0my\u001b[0m\u001b[1;33m.\u001b[0m\u001b[0mshape\u001b[0m\u001b[1;33m[\u001b[0m\u001b[1;36m1\u001b[0m\u001b[1;33m]\u001b[0m\u001b[1;33m\u001b[0m\u001b[1;33m\u001b[0m\u001b[0m\n\u001b[0;32m    320\u001b[0m \u001b[1;33m\u001b[0m\u001b[0m\n\u001b[1;32m--> 321\u001b[1;33m         \u001b[0my\u001b[0m\u001b[1;33m,\u001b[0m \u001b[0mexpanded_class_weight\u001b[0m \u001b[1;33m=\u001b[0m \u001b[0mself\u001b[0m\u001b[1;33m.\u001b[0m\u001b[0m_validate_y_class_weight\u001b[0m\u001b[1;33m(\u001b[0m\u001b[0my\u001b[0m\u001b[1;33m)\u001b[0m\u001b[1;33m\u001b[0m\u001b[1;33m\u001b[0m\u001b[0m\n\u001b[0m\u001b[0;32m    322\u001b[0m \u001b[1;33m\u001b[0m\u001b[0m\n\u001b[0;32m    323\u001b[0m         \u001b[1;32mif\u001b[0m \u001b[0mgetattr\u001b[0m\u001b[1;33m(\u001b[0m\u001b[0my\u001b[0m\u001b[1;33m,\u001b[0m \u001b[1;34m\"dtype\"\u001b[0m\u001b[1;33m,\u001b[0m \u001b[1;32mNone\u001b[0m\u001b[1;33m)\u001b[0m \u001b[1;33m!=\u001b[0m \u001b[0mDOUBLE\u001b[0m \u001b[1;32mor\u001b[0m \u001b[1;32mnot\u001b[0m \u001b[0my\u001b[0m\u001b[1;33m.\u001b[0m\u001b[0mflags\u001b[0m\u001b[1;33m.\u001b[0m\u001b[0mcontiguous\u001b[0m\u001b[1;33m:\u001b[0m\u001b[1;33m\u001b[0m\u001b[1;33m\u001b[0m\u001b[0m\n",
      "\u001b[1;32m~\\Anaconda3\\lib\\site-packages\\sklearn\\ensemble\\_forest.py\u001b[0m in \u001b[0;36m_validate_y_class_weight\u001b[1;34m(self, y)\u001b[0m\n\u001b[0;32m    539\u001b[0m \u001b[1;33m\u001b[0m\u001b[0m\n\u001b[0;32m    540\u001b[0m     \u001b[1;32mdef\u001b[0m \u001b[0m_validate_y_class_weight\u001b[0m\u001b[1;33m(\u001b[0m\u001b[0mself\u001b[0m\u001b[1;33m,\u001b[0m \u001b[0my\u001b[0m\u001b[1;33m)\u001b[0m\u001b[1;33m:\u001b[0m\u001b[1;33m\u001b[0m\u001b[1;33m\u001b[0m\u001b[0m\n\u001b[1;32m--> 541\u001b[1;33m         \u001b[0mcheck_classification_targets\u001b[0m\u001b[1;33m(\u001b[0m\u001b[0my\u001b[0m\u001b[1;33m)\u001b[0m\u001b[1;33m\u001b[0m\u001b[1;33m\u001b[0m\u001b[0m\n\u001b[0m\u001b[0;32m    542\u001b[0m \u001b[1;33m\u001b[0m\u001b[0m\n\u001b[0;32m    543\u001b[0m         \u001b[0my\u001b[0m \u001b[1;33m=\u001b[0m \u001b[0mnp\u001b[0m\u001b[1;33m.\u001b[0m\u001b[0mcopy\u001b[0m\u001b[1;33m(\u001b[0m\u001b[0my\u001b[0m\u001b[1;33m)\u001b[0m\u001b[1;33m\u001b[0m\u001b[1;33m\u001b[0m\u001b[0m\n",
      "\u001b[1;32m~\\Anaconda3\\lib\\site-packages\\sklearn\\utils\\multiclass.py\u001b[0m in \u001b[0;36mcheck_classification_targets\u001b[1;34m(y)\u001b[0m\n\u001b[0;32m    167\u001b[0m     if y_type not in ['binary', 'multiclass', 'multiclass-multioutput',\n\u001b[0;32m    168\u001b[0m                       'multilabel-indicator', 'multilabel-sequences']:\n\u001b[1;32m--> 169\u001b[1;33m         \u001b[1;32mraise\u001b[0m \u001b[0mValueError\u001b[0m\u001b[1;33m(\u001b[0m\u001b[1;34m\"Unknown label type: %r\"\u001b[0m \u001b[1;33m%\u001b[0m \u001b[0my_type\u001b[0m\u001b[1;33m)\u001b[0m\u001b[1;33m\u001b[0m\u001b[1;33m\u001b[0m\u001b[0m\n\u001b[0m\u001b[0;32m    170\u001b[0m \u001b[1;33m\u001b[0m\u001b[0m\n\u001b[0;32m    171\u001b[0m \u001b[1;33m\u001b[0m\u001b[0m\n",
      "\u001b[1;31mValueError\u001b[0m: Unknown label type: 'continuous'"
     ]
    }
   ],
   "source": [
    "rfc=RandomForestClassifier(criterion='entropy',random_state=0,n_estimators=10)\n",
    "rfc.fit(X_rfc,y_rfc)"
   ]
  },
  {
   "cell_type": "code",
   "execution_count": 12,
   "metadata": {},
   "outputs": [
    {
     "ename": "AttributeError",
     "evalue": "'RandomForestClassifier' object has no attribute 'estimators_'",
     "output_type": "error",
     "traceback": [
      "\u001b[1;31m---------------------------------------------------------------------------\u001b[0m",
      "\u001b[1;31mAttributeError\u001b[0m                            Traceback (most recent call last)",
      "\u001b[1;32m<ipython-input-12-a5dedbc07c39>\u001b[0m in \u001b[0;36m<module>\u001b[1;34m\u001b[0m\n\u001b[0;32m      1\u001b[0m \u001b[0mplt\u001b[0m\u001b[1;33m.\u001b[0m\u001b[0mfigure\u001b[0m\u001b[1;33m(\u001b[0m\u001b[0mfigsize\u001b[0m\u001b[1;33m=\u001b[0m\u001b[1;33m(\u001b[0m\u001b[1;36m10\u001b[0m\u001b[1;33m,\u001b[0m\u001b[1;36m10\u001b[0m\u001b[1;33m)\u001b[0m\u001b[1;33m)\u001b[0m\u001b[1;33m\u001b[0m\u001b[1;33m\u001b[0m\u001b[0m\n\u001b[1;32m----> 2\u001b[1;33m \u001b[0mplt\u001b[0m\u001b[1;33m.\u001b[0m\u001b[0mbarh\u001b[0m\u001b[1;33m(\u001b[0m\u001b[0mlist\u001b[0m\u001b[1;33m(\u001b[0m\u001b[0mX_rfc\u001b[0m\u001b[1;33m)\u001b[0m\u001b[1;33m,\u001b[0m\u001b[0mrfc\u001b[0m\u001b[1;33m.\u001b[0m\u001b[0mfeature_importances_\u001b[0m\u001b[1;33m)\u001b[0m\u001b[1;33m\u001b[0m\u001b[1;33m\u001b[0m\u001b[0m\n\u001b[0m\u001b[0;32m      3\u001b[0m \u001b[0mplt\u001b[0m\u001b[1;33m.\u001b[0m\u001b[0mtitle\u001b[0m\u001b[1;33m(\u001b[0m\u001b[1;34m\"Feature Imporatance using Random Forest Classifier\"\u001b[0m\u001b[1;33m)\u001b[0m\u001b[1;33m\u001b[0m\u001b[1;33m\u001b[0m\u001b[0m\n\u001b[0;32m      4\u001b[0m \u001b[0mplt\u001b[0m\u001b[1;33m.\u001b[0m\u001b[0mylabel\u001b[0m\u001b[1;33m(\u001b[0m\u001b[1;34m\"Features\"\u001b[0m\u001b[1;33m)\u001b[0m\u001b[1;33m\u001b[0m\u001b[1;33m\u001b[0m\u001b[0m\n\u001b[0;32m      5\u001b[0m \u001b[0mplt\u001b[0m\u001b[1;33m.\u001b[0m\u001b[0mxlabel\u001b[0m\u001b[1;33m(\u001b[0m\u001b[1;34m'Feature Importance Value'\u001b[0m\u001b[1;33m)\u001b[0m\u001b[1;33m\u001b[0m\u001b[1;33m\u001b[0m\u001b[0m\n",
      "\u001b[1;32m~\\Anaconda3\\lib\\site-packages\\sklearn\\ensemble\\_forest.py\u001b[0m in \u001b[0;36mfeature_importances_\u001b[1;34m(self)\u001b[0m\n\u001b[0;32m    430\u001b[0m                                    \u001b[1;33m**\u001b[0m\u001b[0m_joblib_parallel_args\u001b[0m\u001b[1;33m(\u001b[0m\u001b[0mprefer\u001b[0m\u001b[1;33m=\u001b[0m\u001b[1;34m'threads'\u001b[0m\u001b[1;33m)\u001b[0m\u001b[1;33m)\u001b[0m\u001b[1;33m(\u001b[0m\u001b[1;33m\u001b[0m\u001b[1;33m\u001b[0m\u001b[0m\n\u001b[0;32m    431\u001b[0m             \u001b[0mdelayed\u001b[0m\u001b[1;33m(\u001b[0m\u001b[0mgetattr\u001b[0m\u001b[1;33m)\u001b[0m\u001b[1;33m(\u001b[0m\u001b[0mtree\u001b[0m\u001b[1;33m,\u001b[0m \u001b[1;34m'feature_importances_'\u001b[0m\u001b[1;33m)\u001b[0m\u001b[1;33m\u001b[0m\u001b[1;33m\u001b[0m\u001b[0m\n\u001b[1;32m--> 432\u001b[1;33m             for tree in self.estimators_ if tree.tree_.node_count > 1)\n\u001b[0m\u001b[0;32m    433\u001b[0m \u001b[1;33m\u001b[0m\u001b[0m\n\u001b[0;32m    434\u001b[0m         \u001b[1;32mif\u001b[0m \u001b[1;32mnot\u001b[0m \u001b[0mall_importances\u001b[0m\u001b[1;33m:\u001b[0m\u001b[1;33m\u001b[0m\u001b[1;33m\u001b[0m\u001b[0m\n",
      "\u001b[1;31mAttributeError\u001b[0m: 'RandomForestClassifier' object has no attribute 'estimators_'"
     ]
    },
    {
     "data": {
      "text/plain": [
       "<Figure size 720x720 with 0 Axes>"
      ]
     },
     "metadata": {},
     "output_type": "display_data"
    }
   ],
   "source": [
    "plt.figure(figsize=(10,10))\n",
    "plt.barh(list(X_rfc),rfc.feature_importances_)\n",
    "plt.title(\"Feature Importance using Random Forest Classifier\")\n",
    "plt.ylabel(\"Features\")\n",
    "plt.xlabel('Feature Importance Value')"
   ]
  },
  {
   "cell_type": "markdown",
   "metadata": {},
   "source": [
    "### Model building using Pycaret Library"
   ]
  },
  {
   "cell_type": "code",
   "execution_count": 37,
   "metadata": {},
   "outputs": [
    {
     "ename": "KeyError",
     "evalue": "\"['origIntRate'] not found in axis\"",
     "output_type": "error",
     "traceback": [
      "\u001b[1;31m---------------------------------------------------------------------------\u001b[0m",
      "\u001b[1;31mKeyError\u001b[0m                                  Traceback (most recent call last)",
      "\u001b[1;32m<ipython-input-37-d26a12ba43a2>\u001b[0m in \u001b[0;36m<module>\u001b[1;34m\u001b[0m\n\u001b[0;32m      1\u001b[0m models=setup(data=data,\n\u001b[1;32m----> 2\u001b[1;33m             \u001b[0mdata_features\u001b[0m\u001b[1;33m=\u001b[0m\u001b[0mdata\u001b[0m\u001b[1;33m.\u001b[0m\u001b[0mdrop\u001b[0m\u001b[1;33m(\u001b[0m\u001b[1;34m'origIntRate'\u001b[0m\u001b[1;33m)\u001b[0m\u001b[1;33m,\u001b[0m\u001b[1;33m\u001b[0m\u001b[1;33m\u001b[0m\u001b[0m\n\u001b[0m\u001b[0;32m      3\u001b[0m             \u001b[0mtarget\u001b[0m\u001b[1;33m=\u001b[0m\u001b[1;34m'origIntRate'\u001b[0m\u001b[1;33m,\u001b[0m\u001b[1;33m\u001b[0m\u001b[1;33m\u001b[0m\u001b[0m\n\u001b[0;32m      4\u001b[0m             \u001b[0mignore_features\u001b[0m\u001b[1;33m=\u001b[0m\u001b[0mlist\u001b[0m\u001b[1;33m(\u001b[0m\u001b[0mset\u001b[0m\u001b[1;33m(\u001b[0m\u001b[0mdata\u001b[0m\u001b[1;33m)\u001b[0m\u001b[1;33m-\u001b[0m\u001b[0mset\u001b[0m\u001b[1;33m(\u001b[0m\u001b[0mcols\u001b[0m\u001b[1;33m)\u001b[0m\u001b[1;33m)\u001b[0m\u001b[1;33m,\u001b[0m\u001b[1;33m\u001b[0m\u001b[1;33m\u001b[0m\u001b[0m\n\u001b[0;32m      5\u001b[0m             \u001b[0msilent\u001b[0m\u001b[1;33m=\u001b[0m\u001b[1;32mTrue\u001b[0m\u001b[1;33m,\u001b[0m\u001b[1;33m\u001b[0m\u001b[1;33m\u001b[0m\u001b[0m\n",
      "\u001b[1;32m~\\Anaconda3\\lib\\site-packages\\pandas\\core\\frame.py\u001b[0m in \u001b[0;36mdrop\u001b[1;34m(self, labels, axis, index, columns, level, inplace, errors)\u001b[0m\n\u001b[0;32m   4100\u001b[0m             \u001b[0mlevel\u001b[0m\u001b[1;33m=\u001b[0m\u001b[0mlevel\u001b[0m\u001b[1;33m,\u001b[0m\u001b[1;33m\u001b[0m\u001b[1;33m\u001b[0m\u001b[0m\n\u001b[0;32m   4101\u001b[0m             \u001b[0minplace\u001b[0m\u001b[1;33m=\u001b[0m\u001b[0minplace\u001b[0m\u001b[1;33m,\u001b[0m\u001b[1;33m\u001b[0m\u001b[1;33m\u001b[0m\u001b[0m\n\u001b[1;32m-> 4102\u001b[1;33m             \u001b[0merrors\u001b[0m\u001b[1;33m=\u001b[0m\u001b[0merrors\u001b[0m\u001b[1;33m,\u001b[0m\u001b[1;33m\u001b[0m\u001b[1;33m\u001b[0m\u001b[0m\n\u001b[0m\u001b[0;32m   4103\u001b[0m         )\n\u001b[0;32m   4104\u001b[0m \u001b[1;33m\u001b[0m\u001b[0m\n",
      "\u001b[1;32m~\\Anaconda3\\lib\\site-packages\\pandas\\core\\generic.py\u001b[0m in \u001b[0;36mdrop\u001b[1;34m(self, labels, axis, index, columns, level, inplace, errors)\u001b[0m\n\u001b[0;32m   3912\u001b[0m         \u001b[1;32mfor\u001b[0m \u001b[0maxis\u001b[0m\u001b[1;33m,\u001b[0m \u001b[0mlabels\u001b[0m \u001b[1;32min\u001b[0m \u001b[0maxes\u001b[0m\u001b[1;33m.\u001b[0m\u001b[0mitems\u001b[0m\u001b[1;33m(\u001b[0m\u001b[1;33m)\u001b[0m\u001b[1;33m:\u001b[0m\u001b[1;33m\u001b[0m\u001b[1;33m\u001b[0m\u001b[0m\n\u001b[0;32m   3913\u001b[0m             \u001b[1;32mif\u001b[0m \u001b[0mlabels\u001b[0m \u001b[1;32mis\u001b[0m \u001b[1;32mnot\u001b[0m \u001b[1;32mNone\u001b[0m\u001b[1;33m:\u001b[0m\u001b[1;33m\u001b[0m\u001b[1;33m\u001b[0m\u001b[0m\n\u001b[1;32m-> 3914\u001b[1;33m                 \u001b[0mobj\u001b[0m \u001b[1;33m=\u001b[0m \u001b[0mobj\u001b[0m\u001b[1;33m.\u001b[0m\u001b[0m_drop_axis\u001b[0m\u001b[1;33m(\u001b[0m\u001b[0mlabels\u001b[0m\u001b[1;33m,\u001b[0m \u001b[0maxis\u001b[0m\u001b[1;33m,\u001b[0m \u001b[0mlevel\u001b[0m\u001b[1;33m=\u001b[0m\u001b[0mlevel\u001b[0m\u001b[1;33m,\u001b[0m \u001b[0merrors\u001b[0m\u001b[1;33m=\u001b[0m\u001b[0merrors\u001b[0m\u001b[1;33m)\u001b[0m\u001b[1;33m\u001b[0m\u001b[1;33m\u001b[0m\u001b[0m\n\u001b[0m\u001b[0;32m   3915\u001b[0m \u001b[1;33m\u001b[0m\u001b[0m\n\u001b[0;32m   3916\u001b[0m         \u001b[1;32mif\u001b[0m \u001b[0minplace\u001b[0m\u001b[1;33m:\u001b[0m\u001b[1;33m\u001b[0m\u001b[1;33m\u001b[0m\u001b[0m\n",
      "\u001b[1;32m~\\Anaconda3\\lib\\site-packages\\pandas\\core\\generic.py\u001b[0m in \u001b[0;36m_drop_axis\u001b[1;34m(self, labels, axis, level, errors)\u001b[0m\n\u001b[0;32m   3944\u001b[0m                 \u001b[0mnew_axis\u001b[0m \u001b[1;33m=\u001b[0m \u001b[0maxis\u001b[0m\u001b[1;33m.\u001b[0m\u001b[0mdrop\u001b[0m\u001b[1;33m(\u001b[0m\u001b[0mlabels\u001b[0m\u001b[1;33m,\u001b[0m \u001b[0mlevel\u001b[0m\u001b[1;33m=\u001b[0m\u001b[0mlevel\u001b[0m\u001b[1;33m,\u001b[0m \u001b[0merrors\u001b[0m\u001b[1;33m=\u001b[0m\u001b[0merrors\u001b[0m\u001b[1;33m)\u001b[0m\u001b[1;33m\u001b[0m\u001b[1;33m\u001b[0m\u001b[0m\n\u001b[0;32m   3945\u001b[0m             \u001b[1;32melse\u001b[0m\u001b[1;33m:\u001b[0m\u001b[1;33m\u001b[0m\u001b[1;33m\u001b[0m\u001b[0m\n\u001b[1;32m-> 3946\u001b[1;33m                 \u001b[0mnew_axis\u001b[0m \u001b[1;33m=\u001b[0m \u001b[0maxis\u001b[0m\u001b[1;33m.\u001b[0m\u001b[0mdrop\u001b[0m\u001b[1;33m(\u001b[0m\u001b[0mlabels\u001b[0m\u001b[1;33m,\u001b[0m \u001b[0merrors\u001b[0m\u001b[1;33m=\u001b[0m\u001b[0merrors\u001b[0m\u001b[1;33m)\u001b[0m\u001b[1;33m\u001b[0m\u001b[1;33m\u001b[0m\u001b[0m\n\u001b[0m\u001b[0;32m   3947\u001b[0m             \u001b[0mresult\u001b[0m \u001b[1;33m=\u001b[0m \u001b[0mself\u001b[0m\u001b[1;33m.\u001b[0m\u001b[0mreindex\u001b[0m\u001b[1;33m(\u001b[0m\u001b[1;33m**\u001b[0m\u001b[1;33m{\u001b[0m\u001b[0maxis_name\u001b[0m\u001b[1;33m:\u001b[0m \u001b[0mnew_axis\u001b[0m\u001b[1;33m}\u001b[0m\u001b[1;33m)\u001b[0m\u001b[1;33m\u001b[0m\u001b[1;33m\u001b[0m\u001b[0m\n\u001b[0;32m   3948\u001b[0m \u001b[1;33m\u001b[0m\u001b[0m\n",
      "\u001b[1;32m~\\Anaconda3\\lib\\site-packages\\pandas\\core\\indexes\\base.py\u001b[0m in \u001b[0;36mdrop\u001b[1;34m(self, labels, errors)\u001b[0m\n\u001b[0;32m   5338\u001b[0m         \u001b[1;32mif\u001b[0m \u001b[0mmask\u001b[0m\u001b[1;33m.\u001b[0m\u001b[0many\u001b[0m\u001b[1;33m(\u001b[0m\u001b[1;33m)\u001b[0m\u001b[1;33m:\u001b[0m\u001b[1;33m\u001b[0m\u001b[1;33m\u001b[0m\u001b[0m\n\u001b[0;32m   5339\u001b[0m             \u001b[1;32mif\u001b[0m \u001b[0merrors\u001b[0m \u001b[1;33m!=\u001b[0m \u001b[1;34m\"ignore\"\u001b[0m\u001b[1;33m:\u001b[0m\u001b[1;33m\u001b[0m\u001b[1;33m\u001b[0m\u001b[0m\n\u001b[1;32m-> 5340\u001b[1;33m                 \u001b[1;32mraise\u001b[0m \u001b[0mKeyError\u001b[0m\u001b[1;33m(\u001b[0m\u001b[1;34m\"{} not found in axis\"\u001b[0m\u001b[1;33m.\u001b[0m\u001b[0mformat\u001b[0m\u001b[1;33m(\u001b[0m\u001b[0mlabels\u001b[0m\u001b[1;33m[\u001b[0m\u001b[0mmask\u001b[0m\u001b[1;33m]\u001b[0m\u001b[1;33m)\u001b[0m\u001b[1;33m)\u001b[0m\u001b[1;33m\u001b[0m\u001b[1;33m\u001b[0m\u001b[0m\n\u001b[0m\u001b[0;32m   5341\u001b[0m             \u001b[0mindexer\u001b[0m \u001b[1;33m=\u001b[0m \u001b[0mindexer\u001b[0m\u001b[1;33m[\u001b[0m\u001b[1;33m~\u001b[0m\u001b[0mmask\u001b[0m\u001b[1;33m]\u001b[0m\u001b[1;33m\u001b[0m\u001b[1;33m\u001b[0m\u001b[0m\n\u001b[0;32m   5342\u001b[0m         \u001b[1;32mreturn\u001b[0m \u001b[0mself\u001b[0m\u001b[1;33m.\u001b[0m\u001b[0mdelete\u001b[0m\u001b[1;33m(\u001b[0m\u001b[0mindexer\u001b[0m\u001b[1;33m)\u001b[0m\u001b[1;33m\u001b[0m\u001b[1;33m\u001b[0m\u001b[0m\n",
      "\u001b[1;31mKeyError\u001b[0m: \"['origIntRate'] not found in axis\""
     ]
    }
   ],
   "source": [
    "models=setup(data=data,\n",
    "            data_features=data.drop('origIntRate'),\n",
    "            target='origIntRate',\n",
    "            ignore_features=list(set(data)-set(cols)),\n",
    "            silent=True,\n",
    "            session_id=100)"
   ]
  },
  {
   "cell_type": "code",
   "execution_count": 38,
   "metadata": {},
   "outputs": [
    {
     "ename": "NameError",
     "evalue": "name 'y' is not defined",
     "output_type": "error",
     "traceback": [
      "\u001b[1;31m---------------------------------------------------------------------------\u001b[0m",
      "\u001b[1;31mNameError\u001b[0m                                 Traceback (most recent call last)",
      "\u001b[1;32m<ipython-input-38-e0f743debc5d>\u001b[0m in \u001b[0;36m<module>\u001b[1;34m\u001b[0m\n\u001b[1;32m----> 1\u001b[1;33m \u001b[0mmodel_results\u001b[0m\u001b[1;33m=\u001b[0m\u001b[0mcompare_models\u001b[0m\u001b[1;33m(\u001b[0m\u001b[1;33m)\u001b[0m\u001b[1;33m\u001b[0m\u001b[1;33m\u001b[0m\u001b[0m\n\u001b[0m\u001b[0;32m      2\u001b[0m \u001b[0mmodel_results\u001b[0m\u001b[1;33m\u001b[0m\u001b[1;33m\u001b[0m\u001b[0m\n",
      "\u001b[1;32m~\\Anaconda3\\lib\\site-packages\\pycaret\\classification.py\u001b[0m in \u001b[0;36mcompare_models\u001b[1;34m(blacklist, fold, round, sort, turbo)\u001b[0m\n\u001b[0;32m   3141\u001b[0m \u001b[1;33m\u001b[0m\u001b[0m\n\u001b[0;32m   3142\u001b[0m     \u001b[1;31m#checking optimize parameter for multiclass\u001b[0m\u001b[1;33m\u001b[0m\u001b[1;33m\u001b[0m\u001b[1;33m\u001b[0m\u001b[0m\n\u001b[1;32m-> 3143\u001b[1;33m     \u001b[1;32mif\u001b[0m \u001b[0my\u001b[0m\u001b[1;33m.\u001b[0m\u001b[0mvalue_counts\u001b[0m\u001b[1;33m(\u001b[0m\u001b[1;33m)\u001b[0m\u001b[1;33m.\u001b[0m\u001b[0mcount\u001b[0m\u001b[1;33m(\u001b[0m\u001b[1;33m)\u001b[0m \u001b[1;33m>\u001b[0m \u001b[1;36m2\u001b[0m\u001b[1;33m:\u001b[0m\u001b[1;33m\u001b[0m\u001b[1;33m\u001b[0m\u001b[0m\n\u001b[0m\u001b[0;32m   3144\u001b[0m         \u001b[1;32mif\u001b[0m \u001b[0msort\u001b[0m \u001b[1;33m==\u001b[0m \u001b[1;34m'AUC'\u001b[0m\u001b[1;33m:\u001b[0m\u001b[1;33m\u001b[0m\u001b[1;33m\u001b[0m\u001b[0m\n\u001b[0;32m   3145\u001b[0m             \u001b[0msys\u001b[0m\u001b[1;33m.\u001b[0m\u001b[0mexit\u001b[0m\u001b[1;33m(\u001b[0m\u001b[1;34m'(Type Error): AUC metric not supported for multiclass problems. See docstring for list of other optimization parameters.'\u001b[0m\u001b[1;33m)\u001b[0m\u001b[1;33m\u001b[0m\u001b[1;33m\u001b[0m\u001b[0m\n",
      "\u001b[1;31mNameError\u001b[0m: name 'y' is not defined"
     ]
    }
   ],
   "source": [
    "model_results=compare_models()\n",
    "model_results"
   ]
  },
  {
   "cell_type": "code",
   "execution_count": null,
   "metadata": {},
   "outputs": [],
   "source": [
    "logreg_model=create_model('lr')"
   ]
  },
  {
   "cell_type": "code",
   "execution_count": null,
   "metadata": {},
   "outputs": [],
   "source": [
    "tunned_logreg_model=tune_model('lr')"
   ]
  },
  {
   "cell_type": "code",
   "execution_count": null,
   "metadata": {},
   "outputs": [],
   "source": [
    "plot_model(estimator=tunned_logreg_model,plot='parameter')"
   ]
  },
  {
   "cell_type": "code",
   "execution_count": null,
   "metadata": {},
   "outputs": [],
   "source": [
    "plot_model(estimator=tunned_logreg_model,plot='feature')"
   ]
  },
  {
   "cell_type": "code",
   "execution_count": null,
   "metadata": {},
   "outputs": [],
   "source": [
    "plot_model(estimator=tunned_logreg_model,plot='pr')"
   ]
  },
  {
   "cell_type": "code",
   "execution_count": null,
   "metadata": {},
   "outputs": [],
   "source": [
    "plot_model(estimator=tunned_logreg_model,plot='confusion_matrix')"
   ]
  },
  {
   "cell_type": "code",
   "execution_count": null,
   "metadata": {},
   "outputs": [],
   "source": [
    "plot_model(estimator=tunned_logreg_model,plot='class_report')"
   ]
  },
  {
   "cell_type": "code",
   "execution_count": null,
   "metadata": {},
   "outputs": [],
   "source": [
    "plot_model(tunned_logreg_model)"
   ]
  },
  {
   "cell_type": "code",
   "execution_count": null,
   "metadata": {},
   "outputs": [],
   "source": []
  }
 ],
 "metadata": {
  "kernelspec": {
   "display_name": "Python 3",
   "language": "python",
   "name": "python3"
  },
  "language_info": {
   "codemirror_mode": {
    "name": "ipython",
    "version": 3
   },
   "file_extension": ".py",
   "mimetype": "text/x-python",
   "name": "python",
   "nbconvert_exporter": "python",
   "pygments_lexer": "ipython3",
   "version": "3.7.4"
  }
 },
 "nbformat": 4,
 "nbformat_minor": 4
}
