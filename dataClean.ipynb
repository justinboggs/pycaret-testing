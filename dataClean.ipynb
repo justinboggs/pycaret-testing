{
 "cells": [
  {
   "cell_type": "code",
   "execution_count": 110,
   "metadata": {
    "_cell_guid": "79c7e3d0-c299-4dcb-8224-4455121ee9b0",
    "_kg_hide-output": true,
    "_uuid": "d629ff2d2480ee46fbb7e2d37f6b5fab8052498a"
   },
   "outputs": [],
   "source": [
    "import pandas as pd\n",
    "import numpy as np\n",
    "import matplotlib.pyplot as plt\n",
    "from sklearn.model_selection import train_test_split\n",
    "#!pip install pycaret\n",
    "# from imblearn.over_sampling import RandomOverSampler\n",
    "from pycaret.classification import *\n",
    "#from pycaret.regression import *"
   ]
  },
  {
   "cell_type": "markdown",
   "metadata": {},
   "source": [
    "# Importing the data - only use *.ML.csv files!!!\n",
    "If you have *.MLReady.csv then [click here](#MLReady)"
   ]
  },
  {
   "cell_type": "code",
   "execution_count": 111,
   "metadata": {
    "scrolled": true
   },
   "outputs": [
    {
     "data": {
      "text/html": [
       "<div>\n",
       "<style scoped>\n",
       "    .dataframe tbody tr th:only-of-type {\n",
       "        vertical-align: middle;\n",
       "    }\n",
       "\n",
       "    .dataframe tbody tr th {\n",
       "        vertical-align: top;\n",
       "    }\n",
       "\n",
       "    .dataframe thead th {\n",
       "        text-align: right;\n",
       "    }\n",
       "</style>\n",
       "<table border=\"1\" class=\"dataframe\">\n",
       "  <thead>\n",
       "    <tr style=\"text-align: right;\">\n",
       "      <th></th>\n",
       "      <th>Unnamed: 0</th>\n",
       "      <th>Unnamed: 0.1</th>\n",
       "      <th>id</th>\n",
       "      <th>origChannel</th>\n",
       "      <th>origIntRate</th>\n",
       "      <th>origUPB</th>\n",
       "      <th>origDate</th>\n",
       "      <th>firstPmtDate</th>\n",
       "      <th>origLTV</th>\n",
       "      <th>numBorrowers</th>\n",
       "      <th>...</th>\n",
       "      <th>fmacRateMin</th>\n",
       "      <th>fmacRateAvg</th>\n",
       "      <th>fmacRateVolatility</th>\n",
       "      <th>fredRate</th>\n",
       "      <th>rateDiffAbove</th>\n",
       "      <th>rateDiffBelow</th>\n",
       "      <th>rateDiffAvg</th>\n",
       "      <th>rateDiffAbovePct</th>\n",
       "      <th>rateDiffBelowPct</th>\n",
       "      <th>rateDiffAvgPct</th>\n",
       "    </tr>\n",
       "  </thead>\n",
       "  <tbody>\n",
       "    <tr>\n",
       "      <th>0</th>\n",
       "      <td>1133339</td>\n",
       "      <td>1133339</td>\n",
       "      <td>100209956357</td>\n",
       "      <td>2</td>\n",
       "      <td>5.125</td>\n",
       "      <td>348000</td>\n",
       "      <td>2009-02-01</td>\n",
       "      <td>2009-04-01</td>\n",
       "      <td>87.0</td>\n",
       "      <td>1.0</td>\n",
       "      <td>...</td>\n",
       "      <td>5.04</td>\n",
       "      <td>5.13</td>\n",
       "      <td>0.041667</td>\n",
       "      <td>2.87</td>\n",
       "      <td>-0.125</td>\n",
       "      <td>-0.085</td>\n",
       "      <td>-0.005</td>\n",
       "      <td>-0.023810</td>\n",
       "      <td>-0.016865</td>\n",
       "      <td>-0.000975</td>\n",
       "    </tr>\n",
       "    <tr>\n",
       "      <th>1</th>\n",
       "      <td>1133340</td>\n",
       "      <td>1133340</td>\n",
       "      <td>100392775700</td>\n",
       "      <td>3</td>\n",
       "      <td>4.625</td>\n",
       "      <td>195000</td>\n",
       "      <td>2009-02-01</td>\n",
       "      <td>2009-04-01</td>\n",
       "      <td>52.0</td>\n",
       "      <td>2.0</td>\n",
       "      <td>...</td>\n",
       "      <td>5.04</td>\n",
       "      <td>5.13</td>\n",
       "      <td>0.041667</td>\n",
       "      <td>2.87</td>\n",
       "      <td>-0.625</td>\n",
       "      <td>0.415</td>\n",
       "      <td>-0.505</td>\n",
       "      <td>-0.119048</td>\n",
       "      <td>0.082341</td>\n",
       "      <td>-0.098441</td>\n",
       "    </tr>\n",
       "    <tr>\n",
       "      <th>2</th>\n",
       "      <td>1133341</td>\n",
       "      <td>1133341</td>\n",
       "      <td>100621428854</td>\n",
       "      <td>2</td>\n",
       "      <td>4.875</td>\n",
       "      <td>342000</td>\n",
       "      <td>2009-02-01</td>\n",
       "      <td>2009-04-01</td>\n",
       "      <td>80.0</td>\n",
       "      <td>1.0</td>\n",
       "      <td>...</td>\n",
       "      <td>5.04</td>\n",
       "      <td>5.13</td>\n",
       "      <td>0.041667</td>\n",
       "      <td>2.87</td>\n",
       "      <td>-0.375</td>\n",
       "      <td>0.165</td>\n",
       "      <td>-0.255</td>\n",
       "      <td>-0.071429</td>\n",
       "      <td>0.032738</td>\n",
       "      <td>-0.049708</td>\n",
       "    </tr>\n",
       "    <tr>\n",
       "      <th>3</th>\n",
       "      <td>1133342</td>\n",
       "      <td>1133342</td>\n",
       "      <td>100720959726</td>\n",
       "      <td>1</td>\n",
       "      <td>5.375</td>\n",
       "      <td>93000</td>\n",
       "      <td>2009-02-01</td>\n",
       "      <td>2009-05-01</td>\n",
       "      <td>70.0</td>\n",
       "      <td>1.0</td>\n",
       "      <td>...</td>\n",
       "      <td>5.04</td>\n",
       "      <td>5.13</td>\n",
       "      <td>0.041667</td>\n",
       "      <td>2.87</td>\n",
       "      <td>0.125</td>\n",
       "      <td>-0.335</td>\n",
       "      <td>0.245</td>\n",
       "      <td>0.023810</td>\n",
       "      <td>-0.066468</td>\n",
       "      <td>0.047758</td>\n",
       "    </tr>\n",
       "    <tr>\n",
       "      <th>4</th>\n",
       "      <td>1133343</td>\n",
       "      <td>1133343</td>\n",
       "      <td>100783704799</td>\n",
       "      <td>1</td>\n",
       "      <td>4.875</td>\n",
       "      <td>182000</td>\n",
       "      <td>2009-02-01</td>\n",
       "      <td>2009-04-01</td>\n",
       "      <td>76.0</td>\n",
       "      <td>2.0</td>\n",
       "      <td>...</td>\n",
       "      <td>5.04</td>\n",
       "      <td>5.13</td>\n",
       "      <td>0.041667</td>\n",
       "      <td>2.87</td>\n",
       "      <td>-0.375</td>\n",
       "      <td>0.165</td>\n",
       "      <td>-0.255</td>\n",
       "      <td>-0.071429</td>\n",
       "      <td>0.032738</td>\n",
       "      <td>-0.049708</td>\n",
       "    </tr>\n",
       "  </tbody>\n",
       "</table>\n",
       "<p>5 rows × 60 columns</p>\n",
       "</div>"
      ],
      "text/plain": [
       "   Unnamed: 0  Unnamed: 0.1            id  origChannel  origIntRate  origUPB  \\\n",
       "0     1133339       1133339  100209956357            2        5.125   348000   \n",
       "1     1133340       1133340  100392775700            3        4.625   195000   \n",
       "2     1133341       1133341  100621428854            2        4.875   342000   \n",
       "3     1133342       1133342  100720959726            1        5.375    93000   \n",
       "4     1133343       1133343  100783704799            1        4.875   182000   \n",
       "\n",
       "     origDate firstPmtDate  origLTV  numBorrowers  ...  fmacRateMin  \\\n",
       "0  2009-02-01   2009-04-01     87.0           1.0  ...         5.04   \n",
       "1  2009-02-01   2009-04-01     52.0           2.0  ...         5.04   \n",
       "2  2009-02-01   2009-04-01     80.0           1.0  ...         5.04   \n",
       "3  2009-02-01   2009-05-01     70.0           1.0  ...         5.04   \n",
       "4  2009-02-01   2009-04-01     76.0           2.0  ...         5.04   \n",
       "\n",
       "   fmacRateAvg  fmacRateVolatility  fredRate  rateDiffAbove  rateDiffBelow  \\\n",
       "0         5.13            0.041667      2.87         -0.125         -0.085   \n",
       "1         5.13            0.041667      2.87         -0.625          0.415   \n",
       "2         5.13            0.041667      2.87         -0.375          0.165   \n",
       "3         5.13            0.041667      2.87          0.125         -0.335   \n",
       "4         5.13            0.041667      2.87         -0.375          0.165   \n",
       "\n",
       "   rateDiffAvg  rateDiffAbovePct  rateDiffBelowPct  rateDiffAvgPct  \n",
       "0       -0.005         -0.023810         -0.016865       -0.000975  \n",
       "1       -0.505         -0.119048          0.082341       -0.098441  \n",
       "2       -0.255         -0.071429          0.032738       -0.049708  \n",
       "3        0.245          0.023810         -0.066468        0.047758  \n",
       "4       -0.255         -0.071429          0.032738       -0.049708  \n",
       "\n",
       "[5 rows x 60 columns]"
      ]
     },
     "execution_count": 111,
     "metadata": {},
     "output_type": "execute_result"
    }
   ],
   "source": [
    "df=pd.read_csv(\"../../data/FM_Acq_Perf_FMAC_EPOCH2_ML.csv\")\n",
    "df.head()"
   ]
  },
  {
   "cell_type": "markdown",
   "metadata": {},
   "source": [
    "## Remove columns not involved in 'Foreclosure or Not' query"
   ]
  },
  {
   "cell_type": "code",
   "execution_count": 112,
   "metadata": {},
   "outputs": [],
   "source": [
    "df.drop(['Unnamed: 0','Unnamed: 0.1','id','firstPmtDate','rptPeriod','currIntRate','currUPB','loanAge','monMatur',\\\n",
    "         'zeroBalDate','lastPdInstDate','forecloDate','dispDate','forecloCost','propRepCost','recovCosts',\\\n",
    "         'miscCost','holdTaxCost','saleProceed','credEnhProceed','repurchProceed','otherForecloProceed',\\\n",
    "         'nonIntUPB','prinForgivBal','repurchMakeWholeProceedFlg','forecloPrinWriteOffAmnt','servActivIndicator',\\\n",
    "         'deliqGood','deliqBad','deliqMax'],1,inplace=True)"
   ]
  },
  {
   "cell_type": "markdown",
   "metadata": {},
   "source": [
    "## Engineer originDate into Date features"
   ]
  },
  {
   "cell_type": "code",
   "execution_count": 113,
   "metadata": {},
   "outputs": [],
   "source": [
    "df['origDate'] = pd.to_datetime(df['origDate'])"
   ]
  },
  {
   "cell_type": "code",
   "execution_count": 114,
   "metadata": {},
   "outputs": [],
   "source": [
    "df['origYear'] = df['origDate'].dt.year\n",
    "df['origMonth'] = df['origDate'].dt.month"
   ]
  },
  {
   "cell_type": "code",
   "execution_count": 115,
   "metadata": {},
   "outputs": [],
   "source": [
    "df.drop(['origDate'],1,inplace=True)"
   ]
  },
  {
   "cell_type": "code",
   "execution_count": 80,
   "metadata": {
    "scrolled": true
   },
   "outputs": [
    {
     "data": {
      "text/html": [
       "<div>\n",
       "<style scoped>\n",
       "    .dataframe tbody tr th:only-of-type {\n",
       "        vertical-align: middle;\n",
       "    }\n",
       "\n",
       "    .dataframe tbody tr th {\n",
       "        vertical-align: top;\n",
       "    }\n",
       "\n",
       "    .dataframe thead th {\n",
       "        text-align: right;\n",
       "    }\n",
       "</style>\n",
       "<table border=\"1\" class=\"dataframe\">\n",
       "  <thead>\n",
       "    <tr style=\"text-align: right;\">\n",
       "      <th></th>\n",
       "      <th>origYear</th>\n",
       "      <th>origMonth</th>\n",
       "    </tr>\n",
       "  </thead>\n",
       "  <tbody>\n",
       "    <tr>\n",
       "      <th>0</th>\n",
       "      <td>2009</td>\n",
       "      <td>2</td>\n",
       "    </tr>\n",
       "    <tr>\n",
       "      <th>1</th>\n",
       "      <td>2009</td>\n",
       "      <td>2</td>\n",
       "    </tr>\n",
       "    <tr>\n",
       "      <th>2</th>\n",
       "      <td>2009</td>\n",
       "      <td>2</td>\n",
       "    </tr>\n",
       "    <tr>\n",
       "      <th>3</th>\n",
       "      <td>2009</td>\n",
       "      <td>2</td>\n",
       "    </tr>\n",
       "    <tr>\n",
       "      <th>4</th>\n",
       "      <td>2009</td>\n",
       "      <td>2</td>\n",
       "    </tr>\n",
       "  </tbody>\n",
       "</table>\n",
       "</div>"
      ],
      "text/plain": [
       "   origYear  origMonth\n",
       "0      2009          2\n",
       "1      2009          2\n",
       "2      2009          2\n",
       "3      2009          2\n",
       "4      2009          2"
      ]
     },
     "execution_count": 80,
     "metadata": {},
     "output_type": "execute_result"
    }
   ],
   "source": [
    "df[['origYear','origMonth']].head()"
   ]
  },
  {
   "cell_type": "markdown",
   "metadata": {},
   "source": [
    "# Turn zero Balance Code Into binary \"0\" GOOD and \"1\" BAD"
   ]
  },
  {
   "cell_type": "code",
   "execution_count": 116,
   "metadata": {},
   "outputs": [],
   "source": [
    "df = df[~(df['zeroBalCode'].isin(['6','16', '3', '2', '15']))]"
   ]
  },
  {
   "cell_type": "code",
   "execution_count": 117,
   "metadata": {},
   "outputs": [
    {
     "data": {
      "text/plain": [
       "array([9., 1.])"
      ]
     },
     "execution_count": 117,
     "metadata": {},
     "output_type": "execute_result"
    }
   ],
   "source": [
    "df.zeroBalCode.unique()"
   ]
  },
  {
   "cell_type": "code",
   "execution_count": 118,
   "metadata": {},
   "outputs": [],
   "source": [
    "df['zeroBalCode'] = df.zeroBalCode.replace(1,0)\n",
    "df['zeroBalCode'] = df.zeroBalCode.replace(9,1)"
   ]
  },
  {
   "cell_type": "code",
   "execution_count": 119,
   "metadata": {},
   "outputs": [
    {
     "data": {
      "text/plain": [
       "array([1., 0.])"
      ]
     },
     "execution_count": 119,
     "metadata": {},
     "output_type": "execute_result"
    }
   ],
   "source": [
    "df.zeroBalCode.unique()"
   ]
  },
  {
   "cell_type": "code",
   "execution_count": 120,
   "metadata": {
    "scrolled": false
   },
   "outputs": [
    {
     "name": "stdout",
     "output_type": "stream",
     "text": [
      "<class 'pandas.core.frame.DataFrame'>\n",
      "Int64Index: 112532 entries, 0 to 119695\n",
      "Data columns (total 31 columns):\n",
      " #   Column              Non-Null Count   Dtype  \n",
      "---  ------              --------------   -----  \n",
      " 0   origChannel         112532 non-null  int64  \n",
      " 1   origIntRate         112532 non-null  float64\n",
      " 2   origUPB             112532 non-null  int64  \n",
      " 3   origLTV             112532 non-null  float64\n",
      " 4   numBorrowers        112532 non-null  float64\n",
      " 5   origDebtIncRatio    112532 non-null  float64\n",
      " 6   borrCreditScore     112532 non-null  float64\n",
      " 7   loanPurp            112532 non-null  int64  \n",
      " 8   zipCode             112532 non-null  int64  \n",
      " 9   pMIperct            112532 non-null  float64\n",
      " 10  mortInsType         112532 non-null  float64\n",
      " 11  bestCreditScore     112532 non-null  float64\n",
      " 12  worstCreditScore    112532 non-null  float64\n",
      " 13  avgCreditScore      112532 non-null  float64\n",
      " 14  bankNumber          112532 non-null  int64  \n",
      " 15  stateNumber         112532 non-null  int64  \n",
      " 16  mSA                 112532 non-null  int64  \n",
      " 17  zeroBalCode         112532 non-null  float64\n",
      " 18  fmacRateMax         112532 non-null  float64\n",
      " 19  fmacRateMin         112532 non-null  float64\n",
      " 20  fmacRateAvg         112532 non-null  float64\n",
      " 21  fmacRateVolatility  112532 non-null  float64\n",
      " 22  fredRate            112532 non-null  float64\n",
      " 23  rateDiffAbove       112532 non-null  float64\n",
      " 24  rateDiffBelow       112532 non-null  float64\n",
      " 25  rateDiffAvg         112532 non-null  float64\n",
      " 26  rateDiffAbovePct    112532 non-null  float64\n",
      " 27  rateDiffBelowPct    112532 non-null  float64\n",
      " 28  rateDiffAvgPct      112532 non-null  float64\n",
      " 29  origYear            112532 non-null  int64  \n",
      " 30  origMonth           112532 non-null  int64  \n",
      "dtypes: float64(22), int64(9)\n",
      "memory usage: 27.5 MB\n"
     ]
    }
   ],
   "source": [
    "#Checking datatypes of individual feature\n",
    "df.info()"
   ]
  },
  {
   "cell_type": "markdown",
   "metadata": {},
   "source": [
    "# Review values for dates and slice (if needed) the timeframe you want"
   ]
  },
  {
   "cell_type": "code",
   "execution_count": 121,
   "metadata": {},
   "outputs": [
    {
     "data": {
      "text/plain": [
       "array([2009, 2010, 2011, 2012, 2013], dtype=int64)"
      ]
     },
     "execution_count": 121,
     "metadata": {},
     "output_type": "execute_result"
    }
   ],
   "source": [
    "df.origYear.unique()"
   ]
  },
  {
   "cell_type": "code",
   "execution_count": 122,
   "metadata": {},
   "outputs": [
    {
     "data": {
      "text/plain": [
       "array([ 2,  3,  5,  4,  6,  7,  8,  9, 10, 11, 12,  1], dtype=int64)"
      ]
     },
     "execution_count": 122,
     "metadata": {},
     "output_type": "execute_result"
    }
   ],
   "source": [
    "df['origMonth'].unique()"
   ]
  },
  {
   "cell_type": "markdown",
   "metadata": {},
   "source": [
    "# Coerce the column dtype (int in this case)"
   ]
  },
  {
   "cell_type": "code",
   "execution_count": 123,
   "metadata": {},
   "outputs": [],
   "source": [
    "df = df.astype({'origLTV':'int','numBorrowers':'int','origDebtIncRatio':'int',\\\n",
    "               'borrCreditScore':'int','mortInsType':'int','bestCreditScore':'int',\\\n",
    "               'worstCreditScore':'int','avgCreditScore':'int','zeroBalCode':'int'})\n",
    "#,'zeroBalCode':'int'"
   ]
  },
  {
   "cell_type": "code",
   "execution_count": 124,
   "metadata": {},
   "outputs": [
    {
     "name": "stdout",
     "output_type": "stream",
     "text": [
      "<class 'pandas.core.frame.DataFrame'>\n",
      "Int64Index: 112532 entries, 0 to 119695\n",
      "Data columns (total 31 columns):\n",
      " #   Column              Non-Null Count   Dtype  \n",
      "---  ------              --------------   -----  \n",
      " 0   origChannel         112532 non-null  int64  \n",
      " 1   origIntRate         112532 non-null  float64\n",
      " 2   origUPB             112532 non-null  int64  \n",
      " 3   origLTV             112532 non-null  int32  \n",
      " 4   numBorrowers        112532 non-null  int32  \n",
      " 5   origDebtIncRatio    112532 non-null  int32  \n",
      " 6   borrCreditScore     112532 non-null  int32  \n",
      " 7   loanPurp            112532 non-null  int64  \n",
      " 8   zipCode             112532 non-null  int64  \n",
      " 9   pMIperct            112532 non-null  float64\n",
      " 10  mortInsType         112532 non-null  int32  \n",
      " 11  bestCreditScore     112532 non-null  int32  \n",
      " 12  worstCreditScore    112532 non-null  int32  \n",
      " 13  avgCreditScore      112532 non-null  int32  \n",
      " 14  bankNumber          112532 non-null  int64  \n",
      " 15  stateNumber         112532 non-null  int64  \n",
      " 16  mSA                 112532 non-null  int64  \n",
      " 17  zeroBalCode         112532 non-null  int32  \n",
      " 18  fmacRateMax         112532 non-null  float64\n",
      " 19  fmacRateMin         112532 non-null  float64\n",
      " 20  fmacRateAvg         112532 non-null  float64\n",
      " 21  fmacRateVolatility  112532 non-null  float64\n",
      " 22  fredRate            112532 non-null  float64\n",
      " 23  rateDiffAbove       112532 non-null  float64\n",
      " 24  rateDiffBelow       112532 non-null  float64\n",
      " 25  rateDiffAvg         112532 non-null  float64\n",
      " 26  rateDiffAbovePct    112532 non-null  float64\n",
      " 27  rateDiffBelowPct    112532 non-null  float64\n",
      " 28  rateDiffAvgPct      112532 non-null  float64\n",
      " 29  origYear            112532 non-null  int64  \n",
      " 30  origMonth           112532 non-null  int64  \n",
      "dtypes: float64(13), int32(9), int64(9)\n",
      "memory usage: 23.6 MB\n"
     ]
    }
   ],
   "source": [
    "df.info()"
   ]
  },
  {
   "cell_type": "code",
   "execution_count": 125,
   "metadata": {},
   "outputs": [],
   "source": [
    "years = ['2011']\n",
    "years2 = ['2012']"
   ]
  },
  {
   "cell_type": "code",
   "execution_count": 126,
   "metadata": {},
   "outputs": [],
   "source": [
    "df1 = df.loc[df['origYear'].isin(years)]\n",
    "df2 = df.loc[df['origYear'].isin(years2)]"
   ]
  },
  {
   "cell_type": "code",
   "execution_count": 127,
   "metadata": {},
   "outputs": [
    {
     "data": {
      "text/html": [
       "<div>\n",
       "<style scoped>\n",
       "    .dataframe tbody tr th:only-of-type {\n",
       "        vertical-align: middle;\n",
       "    }\n",
       "\n",
       "    .dataframe tbody tr th {\n",
       "        vertical-align: top;\n",
       "    }\n",
       "\n",
       "    .dataframe thead th {\n",
       "        text-align: right;\n",
       "    }\n",
       "</style>\n",
       "<table border=\"1\" class=\"dataframe\">\n",
       "  <thead>\n",
       "    <tr style=\"text-align: right;\">\n",
       "      <th></th>\n",
       "      <th>origChannel</th>\n",
       "      <th>origIntRate</th>\n",
       "      <th>origUPB</th>\n",
       "      <th>origLTV</th>\n",
       "      <th>numBorrowers</th>\n",
       "      <th>origDebtIncRatio</th>\n",
       "      <th>borrCreditScore</th>\n",
       "      <th>loanPurp</th>\n",
       "      <th>zipCode</th>\n",
       "      <th>pMIperct</th>\n",
       "      <th>...</th>\n",
       "      <th>fmacRateVolatility</th>\n",
       "      <th>fredRate</th>\n",
       "      <th>rateDiffAbove</th>\n",
       "      <th>rateDiffBelow</th>\n",
       "      <th>rateDiffAvg</th>\n",
       "      <th>rateDiffAbovePct</th>\n",
       "      <th>rateDiffBelowPct</th>\n",
       "      <th>rateDiffAvgPct</th>\n",
       "      <th>origYear</th>\n",
       "      <th>origMonth</th>\n",
       "    </tr>\n",
       "  </thead>\n",
       "  <tbody>\n",
       "    <tr>\n",
       "      <th>77166</th>\n",
       "      <td>3</td>\n",
       "      <td>4.750</td>\n",
       "      <td>112000</td>\n",
       "      <td>80</td>\n",
       "      <td>1</td>\n",
       "      <td>36</td>\n",
       "      <td>697</td>\n",
       "      <td>2</td>\n",
       "      <td>609</td>\n",
       "      <td>0.0</td>\n",
       "      <td>...</td>\n",
       "      <td>0.019108</td>\n",
       "      <td>3.3</td>\n",
       "      <td>-0.050</td>\n",
       "      <td>-0.040</td>\n",
       "      <td>-0.005</td>\n",
       "      <td>-0.010417</td>\n",
       "      <td>-0.008493</td>\n",
       "      <td>-0.001052</td>\n",
       "      <td>2011</td>\n",
       "      <td>1</td>\n",
       "    </tr>\n",
       "    <tr>\n",
       "      <th>77167</th>\n",
       "      <td>1</td>\n",
       "      <td>4.600</td>\n",
       "      <td>101000</td>\n",
       "      <td>60</td>\n",
       "      <td>1</td>\n",
       "      <td>32</td>\n",
       "      <td>704</td>\n",
       "      <td>1</td>\n",
       "      <td>547</td>\n",
       "      <td>0.0</td>\n",
       "      <td>...</td>\n",
       "      <td>0.019108</td>\n",
       "      <td>3.3</td>\n",
       "      <td>-0.200</td>\n",
       "      <td>0.110</td>\n",
       "      <td>-0.155</td>\n",
       "      <td>-0.041667</td>\n",
       "      <td>0.023355</td>\n",
       "      <td>-0.032597</td>\n",
       "      <td>2011</td>\n",
       "      <td>1</td>\n",
       "    </tr>\n",
       "    <tr>\n",
       "      <th>77168</th>\n",
       "      <td>1</td>\n",
       "      <td>5.375</td>\n",
       "      <td>123000</td>\n",
       "      <td>70</td>\n",
       "      <td>1</td>\n",
       "      <td>30</td>\n",
       "      <td>681</td>\n",
       "      <td>1</td>\n",
       "      <td>606</td>\n",
       "      <td>0.0</td>\n",
       "      <td>...</td>\n",
       "      <td>0.019108</td>\n",
       "      <td>3.3</td>\n",
       "      <td>0.575</td>\n",
       "      <td>-0.665</td>\n",
       "      <td>0.620</td>\n",
       "      <td>0.119792</td>\n",
       "      <td>-0.141189</td>\n",
       "      <td>0.130389</td>\n",
       "      <td>2011</td>\n",
       "      <td>1</td>\n",
       "    </tr>\n",
       "    <tr>\n",
       "      <th>77169</th>\n",
       "      <td>1</td>\n",
       "      <td>4.375</td>\n",
       "      <td>185000</td>\n",
       "      <td>79</td>\n",
       "      <td>1</td>\n",
       "      <td>31</td>\n",
       "      <td>804</td>\n",
       "      <td>1</td>\n",
       "      <td>194</td>\n",
       "      <td>0.0</td>\n",
       "      <td>...</td>\n",
       "      <td>0.019108</td>\n",
       "      <td>3.3</td>\n",
       "      <td>-0.425</td>\n",
       "      <td>0.335</td>\n",
       "      <td>-0.380</td>\n",
       "      <td>-0.088542</td>\n",
       "      <td>0.071125</td>\n",
       "      <td>-0.079916</td>\n",
       "      <td>2011</td>\n",
       "      <td>1</td>\n",
       "    </tr>\n",
       "    <tr>\n",
       "      <th>77170</th>\n",
       "      <td>3</td>\n",
       "      <td>4.375</td>\n",
       "      <td>176000</td>\n",
       "      <td>78</td>\n",
       "      <td>2</td>\n",
       "      <td>30</td>\n",
       "      <td>732</td>\n",
       "      <td>2</td>\n",
       "      <td>670</td>\n",
       "      <td>0.0</td>\n",
       "      <td>...</td>\n",
       "      <td>0.019108</td>\n",
       "      <td>3.3</td>\n",
       "      <td>-0.425</td>\n",
       "      <td>0.335</td>\n",
       "      <td>-0.380</td>\n",
       "      <td>-0.088542</td>\n",
       "      <td>0.071125</td>\n",
       "      <td>-0.079916</td>\n",
       "      <td>2011</td>\n",
       "      <td>1</td>\n",
       "    </tr>\n",
       "  </tbody>\n",
       "</table>\n",
       "<p>5 rows × 31 columns</p>\n",
       "</div>"
      ],
      "text/plain": [
       "       origChannel  origIntRate  origUPB  origLTV  numBorrowers  \\\n",
       "77166            3        4.750   112000       80             1   \n",
       "77167            1        4.600   101000       60             1   \n",
       "77168            1        5.375   123000       70             1   \n",
       "77169            1        4.375   185000       79             1   \n",
       "77170            3        4.375   176000       78             2   \n",
       "\n",
       "       origDebtIncRatio  borrCreditScore  loanPurp  zipCode  pMIperct  ...  \\\n",
       "77166                36              697         2      609       0.0  ...   \n",
       "77167                32              704         1      547       0.0  ...   \n",
       "77168                30              681         1      606       0.0  ...   \n",
       "77169                31              804         1      194       0.0  ...   \n",
       "77170                30              732         2      670       0.0  ...   \n",
       "\n",
       "       fmacRateVolatility  fredRate  rateDiffAbove  rateDiffBelow  \\\n",
       "77166            0.019108       3.3         -0.050         -0.040   \n",
       "77167            0.019108       3.3         -0.200          0.110   \n",
       "77168            0.019108       3.3          0.575         -0.665   \n",
       "77169            0.019108       3.3         -0.425          0.335   \n",
       "77170            0.019108       3.3         -0.425          0.335   \n",
       "\n",
       "       rateDiffAvg  rateDiffAbovePct  rateDiffBelowPct  rateDiffAvgPct  \\\n",
       "77166       -0.005         -0.010417         -0.008493       -0.001052   \n",
       "77167       -0.155         -0.041667          0.023355       -0.032597   \n",
       "77168        0.620          0.119792         -0.141189        0.130389   \n",
       "77169       -0.380         -0.088542          0.071125       -0.079916   \n",
       "77170       -0.380         -0.088542          0.071125       -0.079916   \n",
       "\n",
       "       origYear  origMonth  \n",
       "77166      2011          1  \n",
       "77167      2011          1  \n",
       "77168      2011          1  \n",
       "77169      2011          1  \n",
       "77170      2011          1  \n",
       "\n",
       "[5 rows x 31 columns]"
      ]
     },
     "execution_count": 127,
     "metadata": {},
     "output_type": "execute_result"
    }
   ],
   "source": [
    "df1.head()"
   ]
  },
  {
   "cell_type": "code",
   "execution_count": 128,
   "metadata": {},
   "outputs": [
    {
     "data": {
      "text/plain": [
       "(18505, 31)"
      ]
     },
     "execution_count": 128,
     "metadata": {},
     "output_type": "execute_result"
    }
   ],
   "source": [
    "df2.shape"
   ]
  },
  {
   "cell_type": "code",
   "execution_count": 129,
   "metadata": {},
   "outputs": [
    {
     "data": {
      "text/plain": [
       "(14111, 31)"
      ]
     },
     "execution_count": 129,
     "metadata": {},
     "output_type": "execute_result"
    }
   ],
   "source": [
    "df1.shape"
   ]
  },
  {
   "cell_type": "markdown",
   "metadata": {},
   "source": [
    "<a id='MLReady'></a>"
   ]
  },
  {
   "cell_type": "code",
   "execution_count": 130,
   "metadata": {},
   "outputs": [],
   "source": [
    "df1 = df1[['origIntRate', 'origUPB', 'origLTV', 'origDebtIncRatio', 'worstCreditScore', 'zeroBalCode', 'mSA']]"
   ]
  },
  {
   "cell_type": "code",
   "execution_count": 131,
   "metadata": {},
   "outputs": [],
   "source": [
    "df2 = df2[['origIntRate', 'origUPB', 'origLTV', 'origDebtIncRatio', 'worstCreditScore', 'zeroBalCode', 'mSA']]"
   ]
  },
  {
   "cell_type": "code",
   "execution_count": 134,
   "metadata": {},
   "outputs": [],
   "source": [
    "df1.to_csv('data/2011.csv')"
   ]
  },
  {
   "cell_type": "code",
   "execution_count": 135,
   "metadata": {},
   "outputs": [],
   "source": [
    "df2.to_csv('data/2012.csv')"
   ]
  },
  {
   "cell_type": "code",
   "execution_count": null,
   "metadata": {},
   "outputs": [],
   "source": []
  }
 ],
 "metadata": {
  "kernelspec": {
   "display_name": "Python 3",
   "language": "python",
   "name": "python3"
  },
  "language_info": {
   "codemirror_mode": {
    "name": "ipython",
    "version": 3
   },
   "file_extension": ".py",
   "mimetype": "text/x-python",
   "name": "python",
   "nbconvert_exporter": "python",
   "pygments_lexer": "ipython3",
   "version": "3.7.7"
  }
 },
 "nbformat": 4,
 "nbformat_minor": 4
}
