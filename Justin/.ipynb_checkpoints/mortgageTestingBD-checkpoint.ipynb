{
 "cells": [
  {
   "cell_type": "markdown",
   "metadata": {},
   "source": [
    "#### Importing Required Packages"
   ]
  },
  {
   "cell_type": "code",
   "execution_count": null,
   "metadata": {
    "_cell_guid": "79c7e3d0-c299-4dcb-8224-4455121ee9b0",
    "_kg_hide-output": true,
    "_uuid": "d629ff2d2480ee46fbb7e2d37f6b5fab8052498a"
   },
   "outputs": [],
   "source": [
    "import pandas as pd\n",
    "import numpy as np\n",
    "import matplotlib.pyplot as plt\n",
    "import scipy.stats as ss\n",
    "from scipy.stats import chi2_contingency\n",
    "from sklearn.preprocessing import LabelEncoder\n",
    "le=LabelEncoder()\n",
    "from sklearn.ensemble import RandomForestClassifier\n",
    "# !pip install pycaret\n",
    "from pycaret.regression import *"
   ]
  },
  {
   "cell_type": "markdown",
   "metadata": {},
   "source": [
    "#### Importing the data"
   ]
  },
  {
   "cell_type": "code",
   "execution_count": null,
   "metadata": {},
   "outputs": [],
   "source": [
    "data=pd.read_csv(\"data/FannieAcq2000-19FMac30-sample25.csv\")\n",
    "data.head()"
   ]
  },
  {
   "cell_type": "code",
   "execution_count": null,
   "metadata": {},
   "outputs": [],
   "source": [
    "data.rename(columns={'Unnamed: 0':'namedCol'}, inplace=True )"
   ]
  },
  {
   "cell_type": "code",
   "execution_count": null,
   "metadata": {},
   "outputs": [],
   "source": [
    "data.shape"
   ]
  },
  {
   "cell_type": "code",
   "execution_count": null,
   "metadata": {},
   "outputs": [],
   "source": [
    "data.columns"
   ]
  },
  {
   "cell_type": "code",
   "execution_count": null,
   "metadata": {},
   "outputs": [],
   "source": [
    "data['sellerNameCat'] = data['sellerName'].astype('category')"
   ]
  },
  {
   "cell_type": "code",
   "execution_count": null,
   "metadata": {},
   "outputs": [],
   "source": [
    "data['sellerNameCat'] = data['sellerNameCat'].cat.codes"
   ]
  },
  {
   "cell_type": "code",
   "execution_count": null,
   "metadata": {},
   "outputs": [],
   "source": [
    "data.head()"
   ]
  },
  {
   "cell_type": "code",
   "execution_count": null,
   "metadata": {},
   "outputs": [],
   "source": [
    "# Create categories out of loan purpose that can be fed into ML models: \n",
    "# data['loanPurpCat'] = data['loanPurp'].replace(['C','R'],[0,1])\n",
    "# data['loanPurpCat'].unique()"
   ]
  },
  {
   "cell_type": "code",
   "execution_count": null,
   "metadata": {},
   "outputs": [],
   "source": [
    "# # Create categories out of Bank Name that can be fed into ML models: \n",
    "# data['bankNumber'] = data['sellerName'].replace(['UNITED SHORE FINANCIAL SERVICES, LLC DBA UNITED WHOLESALE MORTGAGE',\n",
    "#        'QUICKEN LOANS INC.', 'PENNYMAC CORP.',\n",
    "#        'FAIRWAY INDEPENDENT MORTGAGE CORPORATION', 'OTHER',\n",
    "#        'JPMORGAN CHASE BANK, NATIONAL ASSOCIATION',\n",
    "#        'WELLS FARGO BANK, N.A.', 'LAKEVIEW LOAN SERVICING, LLC',\n",
    "#        'AMERIHOME MORTGAGE COMPANY, LLC', 'DITECH FINANCIAL LLC',\n",
    "#        'FLAGSTAR BANK, FSB', 'FREEDOM MORTGAGE CORP.',\n",
    "#        'TRUIST BANK (FORMERLY SUNTRUST BANK)', 'U.S. BANK N.A.',\n",
    "#        'EAGLE HOME MORTGAGE, LLC', 'MOVEMENT MORTGAGE, LLC',\n",
    "#        'NATIONSTAR MORTGAGE, LLC'],[0,1,2,3,4,5,6,7,8,9,10,11,12,13,14,15,16])\n",
    "# bankNumber = data['bankNumber'].unique()\n",
    "# bankNumber"
   ]
  },
  {
   "cell_type": "code",
   "execution_count": null,
   "metadata": {},
   "outputs": [],
   "source": [
    "# Create categories out of State Name that can be fed into ML models: \n",
    "data['stateNumber'] = data['propState'].replace(['IN', 'CA', 'NC', 'LA', 'AZ', 'GA', 'CT', 'MN', 'MI', 'TX', 'TN',\n",
    "       'MD', 'IL', 'KY', 'VA', 'WI', 'PA', 'OR', 'FL', 'MA', 'WA', 'MS',\n",
    "       'SC', 'NJ', 'AL', 'RI', 'CO', 'NY', 'NE', 'NM', 'ID', 'AR', 'DC',\n",
    "       'MO', 'IA', 'OH', 'DE', 'UT', 'MT', 'KS', 'ND', 'OK', 'WY', 'SD',\n",
    "       'NV', 'ME', 'AK', 'NH', 'VT', 'HI', 'WV', 'PR', 'GU'],[0,1,2,3,4,5,6,7,8,9,10,11,12,13,14,15,16,17,18,19,20,21,22,23,24,25,26,27,28,29,30,31,32,33,34,35,36,37,38,39,40,41,4,43,44,45,46,47,48,49,50,51,52])\n",
    "stateNumber = data['stateNumber'].unique()\n",
    "stateNumber"
   ]
  },
  {
   "cell_type": "code",
   "execution_count": null,
   "metadata": {},
   "outputs": [],
   "source": [
    "data.head()"
   ]
  },
  {
   "cell_type": "code",
   "execution_count": null,
   "metadata": {},
   "outputs": [],
   "source": [
    "#Checking for missing values\n",
    "data.isnull().sum()"
   ]
  },
  {
   "cell_type": "code",
   "execution_count": null,
   "metadata": {},
   "outputs": [],
   "source": [
    "#Checking datatypes of individual feature\n",
    "data.dtypes"
   ]
  },
  {
   "cell_type": "code",
   "execution_count": null,
   "metadata": {},
   "outputs": [],
   "source": [
    "#Dropping features  not required in model building and prediction\n",
    "data.drop(['namedCol', 'loanIdentifier', 'sellerName', 'firstPmtDate', 'borrCreditScore', 'propState', 'bestCreditScore',\n",
    "           'avgCreditScore', 'fredRate', 'rateDiff', 'rank'],1,inplace=True)"
   ]
  },
  {
   "cell_type": "code",
   "execution_count": null,
   "metadata": {},
   "outputs": [],
   "source": [
    "data.head()"
   ]
  },
  {
   "cell_type": "code",
   "execution_count": null,
   "metadata": {},
   "outputs": [],
   "source": [
    "# #Dividing features into numerical and categorical features\n",
    "# categorical=[]\n",
    "# numerical=[]\n",
    "# for col in list(data):\n",
    "#     if(len(data[col].unique())<=30):\n",
    "#         categorical.append(col)\n",
    "#     else:\n",
    "#         numerical.append(col)"
   ]
  },
  {
   "cell_type": "markdown",
   "metadata": {},
   "source": [
    "### Chi-Square test for Feature Importance of Categorical Features"
   ]
  },
  {
   "cell_type": "markdown",
   "metadata": {},
   "source": [
    "As majority of the features in the data are categorical, also the target feature is categorical we can use Chi-Square test for to get the feature importance."
   ]
  },
  {
   "cell_type": "code",
   "execution_count": null,
   "metadata": {
    "scrolled": true
   },
   "outputs": [],
   "source": [
    "def Chi_square(col_1,col_2):\n",
    "    X=data[col_1].astype('str')\n",
    "    Y=data[col_2].astype('str')\n",
    "    observed_values=pd.crosstab(Y,X)\n",
    "    chi2, p, dof, expected = ss.chi2_contingency(observed_values)\n",
    "    if(p>0.05):\n",
    "        print(col_1,\" is not required\")\n",
    "    else:\n",
    "        print(col_1,\" is required\")\n",
    "        \n",
    "for col in data:\n",
    "    Chi_square(col,\"origIntRate\")"
   ]
  },
  {
   "cell_type": "markdown",
   "metadata": {},
   "source": [
    "### Feature Selection using Backward Elimination for Numerical Features"
   ]
  },
  {
   "cell_type": "markdown",
   "metadata": {},
   "source": [
    "Using Backward Elimination method for numerical features"
   ]
  },
  {
   "cell_type": "code",
   "execution_count": null,
   "metadata": {},
   "outputs": [],
   "source": [
    "# X=data.drop(['origIntRate'],1)\n",
    "# y=le.fit_transform(data[\"origIntRate\"])\n",
    "\n",
    "# import statsmodels.api as sm\n",
    "# cols = list(X.columns)\n",
    "# pmax = 1\n",
    "# while (pmax>0.05):\n",
    "#     p=[]\n",
    "#     X_1 = X[cols]\n",
    "#     X_1 = sm.add_constant(X_1)\n",
    "#     model = sm.OLS(y,X_1).fit()\n",
    "#     p = pd.Series(model.pvalues.values[1:],index = cols)      \n",
    "#     pmax = max(p)\n",
    "#     feature_with_p_max = p.idxmax()\n",
    "#     if(pmax>0.05):\n",
    "#         cols.remove(feature_with_p_max)\n",
    "#     else:\n",
    "#         breakselected_features_BE = cols\n",
    "# print(\"Best features using Backward Elimination: \",cols)"
   ]
  },
  {
   "cell_type": "markdown",
   "metadata": {},
   "source": [
    "### Feature Importance using Random Forest Classifier"
   ]
  },
  {
   "cell_type": "markdown",
   "metadata": {},
   "source": [
    "Random Forest is considered to be one of the most unbiased model. As it creates multiple Decision Trees taking into account Random Features for each Decision Tree.\n",
    "\n",
    "Because of this randomness the Random Forest Classifier considerd to be giving most unbiased Feature Importance"
   ]
  },
  {
   "cell_type": "code",
   "execution_count": null,
   "metadata": {},
   "outputs": [],
   "source": [
    "# X_rfc=data.drop([\"origIntRate\"],1)\n",
    "# y_rfc=data[\"origIntRate\"]"
   ]
  },
  {
   "cell_type": "code",
   "execution_count": null,
   "metadata": {},
   "outputs": [],
   "source": [
    "# rfc=RandomForestClassifier(criterion='entropy',random_state=0,n_estimators=10)\n",
    "# rfc.fit(X_rfc,y_rfc)"
   ]
  },
  {
   "cell_type": "code",
   "execution_count": null,
   "metadata": {},
   "outputs": [],
   "source": [
    "# plt.figure(figsize=(10,10))\n",
    "# plt.barh(list(X_rfc),rfc.feature_importances_)\n",
    "# plt.title(\"Feature Importance using Random Forest Classifier\")\n",
    "# plt.ylabel(\"Features\")\n",
    "# plt.xlabel('Feature Importance Value')"
   ]
  },
  {
   "cell_type": "code",
   "execution_count": null,
   "metadata": {},
   "outputs": [],
   "source": [
    "data.head()"
   ]
  },
  {
   "cell_type": "code",
   "execution_count": null,
   "metadata": {},
   "outputs": [],
   "source": [
    "#Dropping 'gameId' feature as it's not required in model building and prediction\n",
    "data.drop(['origIntRate'],1,inplace=True)"
   ]
  },
  {
   "cell_type": "code",
   "execution_count": null,
   "metadata": {
    "scrolled": true
   },
   "outputs": [],
   "source": [
    "data.head()"
   ]
  },
  {
   "cell_type": "markdown",
   "metadata": {},
   "source": [
    "### Model building using Pycaret Library"
   ]
  },
  {
   "cell_type": "code",
   "execution_count": null,
   "metadata": {},
   "outputs": [],
   "source": [
    "models=setup(data, target = 'rateDiffPct', categorical_features = ['zipCode', 'stateNumber', 'sellerNameCat'])"
   ]
  },
  {
   "cell_type": "code",
   "execution_count": null,
   "metadata": {},
   "outputs": [],
   "source": [
    "model_results=compare_models(blacklist = ['tr'])\n",
    "model_results"
   ]
  },
  {
   "cell_type": "code",
   "execution_count": null,
   "metadata": {},
   "outputs": [],
   "source": [
    "logreg_model=create_model('catboost')"
   ]
  },
  {
   "cell_type": "code",
   "execution_count": null,
   "metadata": {},
   "outputs": [],
   "source": [
    "interpret_model(estimator=logreg_model,plot='summary')"
   ]
  },
  {
   "cell_type": "code",
   "execution_count": null,
   "metadata": {},
   "outputs": [],
   "source": [
    "interpret_model(estimator=logreg_model, plot='correlation')"
   ]
  },
  {
   "cell_type": "code",
   "execution_count": null,
   "metadata": {
    "scrolled": false
   },
   "outputs": [],
   "source": [
    "interpret_model(estimator=logreg_model, plot='reason')"
   ]
  },
  {
   "cell_type": "code",
   "execution_count": null,
   "metadata": {},
   "outputs": [],
   "source": [
    "logreg_model2=create_model('xgboost')"
   ]
  },
  {
   "cell_type": "code",
   "execution_count": null,
   "metadata": {},
   "outputs": [],
   "source": [
    "plot_model(estimator=logreg_model2, plot='feature')"
   ]
  },
  {
   "cell_type": "code",
   "execution_count": null,
   "metadata": {},
   "outputs": [],
   "source": [
    "plot_model(estimator=logreg_model2)"
   ]
  },
  {
   "cell_type": "code",
   "execution_count": null,
   "metadata": {},
   "outputs": [],
   "source": [
    "tunned_logreg_model=tune_model('catboost')"
   ]
  },
  {
   "cell_type": "code",
   "execution_count": null,
   "metadata": {},
   "outputs": [],
   "source": [
    "interpret_model(estimator=tunned_logreg_model,plot='summary')"
   ]
  },
  {
   "cell_type": "code",
   "execution_count": null,
   "metadata": {},
   "outputs": [],
   "source": [
    "plot_model(estimator=tunned_logreg_model,plot='feature')"
   ]
  },
  {
   "cell_type": "code",
   "execution_count": null,
   "metadata": {},
   "outputs": [],
   "source": []
  }
 ],
 "metadata": {
  "kernelspec": {
   "display_name": "Python 3",
   "language": "python",
   "name": "python3"
  },
  "language_info": {
   "codemirror_mode": {
    "name": "ipython",
    "version": 3
   },
   "file_extension": ".py",
   "mimetype": "text/x-python",
   "name": "python",
   "nbconvert_exporter": "python",
   "pygments_lexer": "ipython3",
   "version": "3.7.4"
  }
 },
 "nbformat": 4,
 "nbformat_minor": 4
}
