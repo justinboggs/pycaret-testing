{
 "cells": [
  {
   "cell_type": "code",
   "execution_count": 1,
   "metadata": {},
   "outputs": [
    {
     "data": {
      "text/html": [
       "<div>\n",
       "<style scoped>\n",
       "    .dataframe tbody tr th:only-of-type {\n",
       "        vertical-align: middle;\n",
       "    }\n",
       "\n",
       "    .dataframe tbody tr th {\n",
       "        vertical-align: top;\n",
       "    }\n",
       "\n",
       "    .dataframe thead th {\n",
       "        text-align: right;\n",
       "    }\n",
       "</style>\n",
       "<table border=\"1\" class=\"dataframe\">\n",
       "  <thead>\n",
       "    <tr style=\"text-align: right;\">\n",
       "      <th></th>\n",
       "      <th>country</th>\n",
       "      <th>en</th>\n",
       "      <th>gender</th>\n",
       "      <th>loan_amount</th>\n",
       "      <th>nonpayment</th>\n",
       "      <th>sector</th>\n",
       "      <th>status</th>\n",
       "    </tr>\n",
       "  </thead>\n",
       "  <tbody>\n",
       "    <tr>\n",
       "      <th>0</th>\n",
       "      <td>Dominican Republic</td>\n",
       "      <td>\"Banco Esperanza\" is a group of 10 women looki...</td>\n",
       "      <td>F</td>\n",
       "      <td>1225</td>\n",
       "      <td>partner</td>\n",
       "      <td>Retail</td>\n",
       "      <td>0</td>\n",
       "    </tr>\n",
       "    <tr>\n",
       "      <th>1</th>\n",
       "      <td>Dominican Republic</td>\n",
       "      <td>\"Caminemos Hacia Adelante\" or \"Walking Forward...</td>\n",
       "      <td>F</td>\n",
       "      <td>1975</td>\n",
       "      <td>lender</td>\n",
       "      <td>Clothing</td>\n",
       "      <td>0</td>\n",
       "    </tr>\n",
       "    <tr>\n",
       "      <th>2</th>\n",
       "      <td>Dominican Republic</td>\n",
       "      <td>\"Creciendo Por La Union\" is a group of 10 peop...</td>\n",
       "      <td>F</td>\n",
       "      <td>2175</td>\n",
       "      <td>partner</td>\n",
       "      <td>Clothing</td>\n",
       "      <td>0</td>\n",
       "    </tr>\n",
       "    <tr>\n",
       "      <th>3</th>\n",
       "      <td>Dominican Republic</td>\n",
       "      <td>\"Cristo Vive\" (\"Christ lives\" is a group of 10...</td>\n",
       "      <td>F</td>\n",
       "      <td>1425</td>\n",
       "      <td>partner</td>\n",
       "      <td>Clothing</td>\n",
       "      <td>0</td>\n",
       "    </tr>\n",
       "    <tr>\n",
       "      <th>4</th>\n",
       "      <td>Dominican Republic</td>\n",
       "      <td>\"Cristo Vive\" is a large group of 35 people, 2...</td>\n",
       "      <td>F</td>\n",
       "      <td>4025</td>\n",
       "      <td>partner</td>\n",
       "      <td>Food</td>\n",
       "      <td>0</td>\n",
       "    </tr>\n",
       "  </tbody>\n",
       "</table>\n",
       "</div>"
      ],
      "text/plain": [
       "              country                                                 en  \\\n",
       "0  Dominican Republic  \"Banco Esperanza\" is a group of 10 women looki...   \n",
       "1  Dominican Republic  \"Caminemos Hacia Adelante\" or \"Walking Forward...   \n",
       "2  Dominican Republic  \"Creciendo Por La Union\" is a group of 10 peop...   \n",
       "3  Dominican Republic  \"Cristo Vive\" (\"Christ lives\" is a group of 10...   \n",
       "4  Dominican Republic  \"Cristo Vive\" is a large group of 35 people, 2...   \n",
       "\n",
       "  gender  loan_amount nonpayment    sector  status  \n",
       "0      F         1225    partner    Retail       0  \n",
       "1      F         1975     lender  Clothing       0  \n",
       "2      F         2175    partner  Clothing       0  \n",
       "3      F         1425    partner  Clothing       0  \n",
       "4      F         4025    partner      Food       0  "
      ]
     },
     "metadata": {},
     "output_type": "display_data"
    }
   ],
   "source": [
    "from pycaret.datasets import get_data\n",
    "data = get_data('kiva')"
   ]
  },
  {
   "cell_type": "code",
   "execution_count": 2,
   "metadata": {},
   "outputs": [
    {
     "data": {
      "text/plain": [
       "(6818, 7)"
      ]
     },
     "execution_count": 2,
     "metadata": {},
     "output_type": "execute_result"
    }
   ],
   "source": [
    "data.shape"
   ]
  },
  {
   "cell_type": "code",
   "execution_count": 3,
   "metadata": {},
   "outputs": [
    {
     "data": {
      "text/plain": [
       "(1000, 7)"
      ]
     },
     "execution_count": 3,
     "metadata": {},
     "output_type": "execute_result"
    }
   ],
   "source": [
    "data = data.sample(1000, random_state=786).reset_index(drop=True)\n",
    "data.shape"
   ]
  },
  {
   "cell_type": "code",
   "execution_count": 4,
   "metadata": {},
   "outputs": [
    {
     "data": {
      "text/html": [
       "<style  type=\"text/css\" >\n",
       "</style><table id=\"T_81b27a1a_344e_11eb_b215_e45e37cb2ced\" ><thead>    <tr>        <th class=\"col_heading level0 col0\" >Description</th>        <th class=\"col_heading level0 col1\" >Value</th>    </tr></thead><tbody>\n",
       "                <tr>\n",
       "                                <td id=\"T_81b27a1a_344e_11eb_b215_e45e37cb2cedrow0_col0\" class=\"data row0 col0\" >session_id</td>\n",
       "                        <td id=\"T_81b27a1a_344e_11eb_b215_e45e37cb2cedrow0_col1\" class=\"data row0 col1\" >123</td>\n",
       "            </tr>\n",
       "            <tr>\n",
       "                                <td id=\"T_81b27a1a_344e_11eb_b215_e45e37cb2cedrow1_col0\" class=\"data row1 col0\" >Documents</td>\n",
       "                        <td id=\"T_81b27a1a_344e_11eb_b215_e45e37cb2cedrow1_col1\" class=\"data row1 col1\" >1000</td>\n",
       "            </tr>\n",
       "            <tr>\n",
       "                                <td id=\"T_81b27a1a_344e_11eb_b215_e45e37cb2cedrow2_col0\" class=\"data row2 col0\" >Vocab Size</td>\n",
       "                        <td id=\"T_81b27a1a_344e_11eb_b215_e45e37cb2cedrow2_col1\" class=\"data row2 col1\" >4654</td>\n",
       "            </tr>\n",
       "            <tr>\n",
       "                                <td id=\"T_81b27a1a_344e_11eb_b215_e45e37cb2cedrow3_col0\" class=\"data row3 col0\" >Custom Stopwords</td>\n",
       "                        <td id=\"T_81b27a1a_344e_11eb_b215_e45e37cb2cedrow3_col1\" class=\"data row3 col1\" >False</td>\n",
       "            </tr>\n",
       "    </tbody></table>"
      ],
      "text/plain": [
       "<pandas.io.formats.style.Styler at 0x2069772fdc8>"
      ]
     },
     "metadata": {},
     "output_type": "display_data"
    }
   ],
   "source": [
    "from pycaret.nlp import *\n",
    "exp_nlp101 = setup(data=data, target='en', session_id=123)"
   ]
  },
  {
   "cell_type": "code",
   "execution_count": 5,
   "metadata": {},
   "outputs": [],
   "source": [
    "lda = create_model('lda')"
   ]
  },
  {
   "cell_type": "code",
   "execution_count": 6,
   "metadata": {},
   "outputs": [
    {
     "name": "stdout",
     "output_type": "stream",
     "text": [
      "LdaModel(num_terms=4654, num_topics=4, decay=0.5, chunksize=100)\n"
     ]
    }
   ],
   "source": [
    "print(lda)"
   ]
  },
  {
   "cell_type": "code",
   "execution_count": 7,
   "metadata": {},
   "outputs": [],
   "source": [
    "lda2 = create_model('lda', num_topics=6, multi_core=True)"
   ]
  },
  {
   "cell_type": "code",
   "execution_count": 8,
   "metadata": {},
   "outputs": [
    {
     "name": "stdout",
     "output_type": "stream",
     "text": [
      "LdaModel(num_terms=4654, num_topics=6, decay=0.5, chunksize=100)\n"
     ]
    }
   ],
   "source": [
    "print(lda2)"
   ]
  },
  {
   "cell_type": "code",
   "execution_count": 9,
   "metadata": {},
   "outputs": [
    {
     "data": {
      "text/html": [
       "<div>\n",
       "<style scoped>\n",
       "    .dataframe tbody tr th:only-of-type {\n",
       "        vertical-align: middle;\n",
       "    }\n",
       "\n",
       "    .dataframe tbody tr th {\n",
       "        vertical-align: top;\n",
       "    }\n",
       "\n",
       "    .dataframe thead th {\n",
       "        text-align: right;\n",
       "    }\n",
       "</style>\n",
       "<table border=\"1\" class=\"dataframe\">\n",
       "  <thead>\n",
       "    <tr style=\"text-align: right;\">\n",
       "      <th></th>\n",
       "      <th>country</th>\n",
       "      <th>en</th>\n",
       "      <th>gender</th>\n",
       "      <th>loan_amount</th>\n",
       "      <th>nonpayment</th>\n",
       "      <th>sector</th>\n",
       "      <th>status</th>\n",
       "      <th>Topic_0</th>\n",
       "      <th>Topic_1</th>\n",
       "      <th>Topic_2</th>\n",
       "      <th>Topic_3</th>\n",
       "      <th>Dominant_Topic</th>\n",
       "      <th>Perc_Dominant_Topic</th>\n",
       "    </tr>\n",
       "  </thead>\n",
       "  <tbody>\n",
       "    <tr>\n",
       "      <th>0</th>\n",
       "      <td>Kenya</td>\n",
       "      <td>praxide marry child primary school train tailo...</td>\n",
       "      <td>F</td>\n",
       "      <td>75</td>\n",
       "      <td>partner</td>\n",
       "      <td>Services</td>\n",
       "      <td>0</td>\n",
       "      <td>0.824200</td>\n",
       "      <td>0.172317</td>\n",
       "      <td>0.003055</td>\n",
       "      <td>0.000429</td>\n",
       "      <td>Topic 0</td>\n",
       "      <td>0.82</td>\n",
       "    </tr>\n",
       "    <tr>\n",
       "      <th>1</th>\n",
       "      <td>Kenya</td>\n",
       "      <td>run year old life wife child biological adopt ...</td>\n",
       "      <td>M</td>\n",
       "      <td>1200</td>\n",
       "      <td>partner</td>\n",
       "      <td>Health</td>\n",
       "      <td>0</td>\n",
       "      <td>0.664231</td>\n",
       "      <td>0.332275</td>\n",
       "      <td>0.003065</td>\n",
       "      <td>0.000429</td>\n",
       "      <td>Topic 0</td>\n",
       "      <td>0.66</td>\n",
       "    </tr>\n",
       "    <tr>\n",
       "      <th>2</th>\n",
       "      <td>Dominican Republic</td>\n",
       "      <td>live child boy girl range year old sell use cl...</td>\n",
       "      <td>F</td>\n",
       "      <td>150</td>\n",
       "      <td>partner</td>\n",
       "      <td>Clothing</td>\n",
       "      <td>0</td>\n",
       "      <td>0.125461</td>\n",
       "      <td>0.792853</td>\n",
       "      <td>0.081170</td>\n",
       "      <td>0.000517</td>\n",
       "      <td>Topic 1</td>\n",
       "      <td>0.79</td>\n",
       "    </tr>\n",
       "    <tr>\n",
       "      <th>3</th>\n",
       "      <td>Kenya</td>\n",
       "      <td>phanice marry child daughter secondary school ...</td>\n",
       "      <td>F</td>\n",
       "      <td>150</td>\n",
       "      <td>lender</td>\n",
       "      <td>Services</td>\n",
       "      <td>1</td>\n",
       "      <td>0.635879</td>\n",
       "      <td>0.359823</td>\n",
       "      <td>0.003771</td>\n",
       "      <td>0.000528</td>\n",
       "      <td>Topic 0</td>\n",
       "      <td>0.64</td>\n",
       "    </tr>\n",
       "    <tr>\n",
       "      <th>4</th>\n",
       "      <td>Kenya</td>\n",
       "      <td>fredrice year old hotel operate hotel last yea...</td>\n",
       "      <td>F</td>\n",
       "      <td>300</td>\n",
       "      <td>lender</td>\n",
       "      <td>Food</td>\n",
       "      <td>1</td>\n",
       "      <td>0.608233</td>\n",
       "      <td>0.388068</td>\n",
       "      <td>0.003244</td>\n",
       "      <td>0.000455</td>\n",
       "      <td>Topic 0</td>\n",
       "      <td>0.61</td>\n",
       "    </tr>\n",
       "  </tbody>\n",
       "</table>\n",
       "</div>"
      ],
      "text/plain": [
       "              country                                                 en  \\\n",
       "0               Kenya  praxide marry child primary school train tailo...   \n",
       "1               Kenya  run year old life wife child biological adopt ...   \n",
       "2  Dominican Republic  live child boy girl range year old sell use cl...   \n",
       "3               Kenya  phanice marry child daughter secondary school ...   \n",
       "4               Kenya  fredrice year old hotel operate hotel last yea...   \n",
       "\n",
       "  gender  loan_amount nonpayment    sector  status   Topic_0   Topic_1  \\\n",
       "0      F           75    partner  Services       0  0.824200  0.172317   \n",
       "1      M         1200    partner    Health       0  0.664231  0.332275   \n",
       "2      F          150    partner  Clothing       0  0.125461  0.792853   \n",
       "3      F          150     lender  Services       1  0.635879  0.359823   \n",
       "4      F          300     lender      Food       1  0.608233  0.388068   \n",
       "\n",
       "    Topic_2   Topic_3 Dominant_Topic  Perc_Dominant_Topic  \n",
       "0  0.003055  0.000429        Topic 0                 0.82  \n",
       "1  0.003065  0.000429        Topic 0                 0.66  \n",
       "2  0.081170  0.000517        Topic 1                 0.79  \n",
       "3  0.003771  0.000528        Topic 0                 0.64  \n",
       "4  0.003244  0.000455        Topic 0                 0.61  "
      ]
     },
     "execution_count": 9,
     "metadata": {},
     "output_type": "execute_result"
    }
   ],
   "source": [
    "lda_results = assign_model(lda)\n",
    "lda_results.head()"
   ]
  },
  {
   "cell_type": "code",
   "execution_count": 10,
   "metadata": {},
   "outputs": [
    {
     "data": {
      "text/html": [
       "        <script type=\"text/javascript\">\n",
       "        window.PlotlyConfig = {MathJaxConfig: 'local'};\n",
       "        if (window.MathJax) {MathJax.Hub.Config({SVG: {font: \"STIX-Web\"}});}\n",
       "        if (typeof require !== 'undefined') {\n",
       "        require.undef(\"plotly\");\n",
       "        requirejs.config({\n",
       "            paths: {\n",
       "                'plotly': ['https://cdn.plot.ly/plotly-latest.min']\n",
       "            }\n",
       "        });\n",
       "        require(['plotly'], function(Plotly) {\n",
       "            window._Plotly = Plotly;\n",
       "        });\n",
       "        }\n",
       "        </script>\n",
       "        "
      ]
     },
     "metadata": {},
     "output_type": "display_data"
    },
    {
     "data": {
      "application/vnd.plotly.v1+json": {
       "config": {
        "linkText": "Export to plot.ly",
        "plotlyServerURL": "https://plot.ly",
        "showLink": true
       },
       "data": [
        {
         "marker": {
          "color": "rgba(255, 153, 51, 0.6)",
          "line": {
           "color": "rgba(255, 153, 51, 1.0)",
           "width": 1
          }
         },
         "name": "count",
         "orientation": "v",
         "text": "",
         "type": "bar",
         "x": [
          "loan",
          "business",
          "child",
          "sell",
          "year",
          "buy",
          "school",
          "also",
          "work",
          "use",
          "old",
          "family",
          "make",
          "able",
          "start",
          "help",
          "small",
          "group",
          "husband",
          "live",
          "purchase",
          "product",
          "well",
          "income",
          "increase",
          "home",
          "woman",
          "customer",
          "community",
          "good",
          "marry",
          "order",
          "need",
          "hope",
          "request",
          "pay",
          "member",
          "stock",
          "expand",
          "grow",
          "new",
          "want",
          "time",
          "store",
          "people",
          "provide",
          "get",
          "many",
          "client",
          "go",
          "first",
          "farmer",
          "money",
          "clothing",
          "area",
          "support",
          "improve",
          "give",
          "rice",
          "market",
          "entrepreneur",
          "hard",
          "sale",
          "life",
          "food",
          "shop",
          "ago",
          "invest",
          "plan",
          "run",
          "take",
          "profit",
          "mother",
          "education",
          "high",
          "service",
          "continue",
          "capital",
          "clothe",
          "enable",
          "farm",
          "young",
          "month",
          "house",
          "local",
          "item",
          "fee",
          "demand",
          "part",
          "large",
          "wife",
          "operate",
          "day",
          "receive",
          "say",
          "meet",
          "supply",
          "offer",
          "still",
          "age"
         ],
         "y": [
          1928,
          1861,
          1195,
          1085,
          1072,
          807,
          653,
          646,
          609,
          590,
          566,
          564,
          528,
          524,
          485,
          472,
          464,
          438,
          429,
          422,
          388,
          385,
          362,
          361,
          353,
          336,
          332,
          315,
          310,
          305,
          295,
          289,
          282,
          271,
          271,
          264,
          260,
          255,
          253,
          253,
          249,
          246,
          241,
          237,
          235,
          234,
          223,
          216,
          216,
          211,
          211,
          210,
          209,
          207,
          205,
          204,
          203,
          200,
          197,
          195,
          189,
          188,
          187,
          184,
          179,
          178,
          178,
          177,
          176,
          173,
          171,
          171,
          170,
          166,
          163,
          159,
          158,
          157,
          157,
          154,
          151,
          149,
          149,
          149,
          146,
          142,
          141,
          139,
          139,
          136,
          135,
          135,
          132,
          132,
          132,
          131,
          127,
          126,
          126,
          122
         ]
        }
       ],
       "layout": {
        "legend": {
         "bgcolor": "#F5F6F9",
         "font": {
          "color": "#4D5663"
         }
        },
        "paper_bgcolor": "#F5F6F9",
        "plot_bgcolor": "#F5F6F9",
        "template": {
         "data": {
          "bar": [
           {
            "error_x": {
             "color": "#2a3f5f"
            },
            "error_y": {
             "color": "#2a3f5f"
            },
            "marker": {
             "line": {
              "color": "#E5ECF6",
              "width": 0.5
             }
            },
            "type": "bar"
           }
          ],
          "barpolar": [
           {
            "marker": {
             "line": {
              "color": "#E5ECF6",
              "width": 0.5
             }
            },
            "type": "barpolar"
           }
          ],
          "carpet": [
           {
            "aaxis": {
             "endlinecolor": "#2a3f5f",
             "gridcolor": "white",
             "linecolor": "white",
             "minorgridcolor": "white",
             "startlinecolor": "#2a3f5f"
            },
            "baxis": {
             "endlinecolor": "#2a3f5f",
             "gridcolor": "white",
             "linecolor": "white",
             "minorgridcolor": "white",
             "startlinecolor": "#2a3f5f"
            },
            "type": "carpet"
           }
          ],
          "choropleth": [
           {
            "colorbar": {
             "outlinewidth": 0,
             "ticks": ""
            },
            "type": "choropleth"
           }
          ],
          "contour": [
           {
            "colorbar": {
             "outlinewidth": 0,
             "ticks": ""
            },
            "colorscale": [
             [
              0,
              "#0d0887"
             ],
             [
              0.1111111111111111,
              "#46039f"
             ],
             [
              0.2222222222222222,
              "#7201a8"
             ],
             [
              0.3333333333333333,
              "#9c179e"
             ],
             [
              0.4444444444444444,
              "#bd3786"
             ],
             [
              0.5555555555555556,
              "#d8576b"
             ],
             [
              0.6666666666666666,
              "#ed7953"
             ],
             [
              0.7777777777777778,
              "#fb9f3a"
             ],
             [
              0.8888888888888888,
              "#fdca26"
             ],
             [
              1,
              "#f0f921"
             ]
            ],
            "type": "contour"
           }
          ],
          "contourcarpet": [
           {
            "colorbar": {
             "outlinewidth": 0,
             "ticks": ""
            },
            "type": "contourcarpet"
           }
          ],
          "heatmap": [
           {
            "colorbar": {
             "outlinewidth": 0,
             "ticks": ""
            },
            "colorscale": [
             [
              0,
              "#0d0887"
             ],
             [
              0.1111111111111111,
              "#46039f"
             ],
             [
              0.2222222222222222,
              "#7201a8"
             ],
             [
              0.3333333333333333,
              "#9c179e"
             ],
             [
              0.4444444444444444,
              "#bd3786"
             ],
             [
              0.5555555555555556,
              "#d8576b"
             ],
             [
              0.6666666666666666,
              "#ed7953"
             ],
             [
              0.7777777777777778,
              "#fb9f3a"
             ],
             [
              0.8888888888888888,
              "#fdca26"
             ],
             [
              1,
              "#f0f921"
             ]
            ],
            "type": "heatmap"
           }
          ],
          "heatmapgl": [
           {
            "colorbar": {
             "outlinewidth": 0,
             "ticks": ""
            },
            "colorscale": [
             [
              0,
              "#0d0887"
             ],
             [
              0.1111111111111111,
              "#46039f"
             ],
             [
              0.2222222222222222,
              "#7201a8"
             ],
             [
              0.3333333333333333,
              "#9c179e"
             ],
             [
              0.4444444444444444,
              "#bd3786"
             ],
             [
              0.5555555555555556,
              "#d8576b"
             ],
             [
              0.6666666666666666,
              "#ed7953"
             ],
             [
              0.7777777777777778,
              "#fb9f3a"
             ],
             [
              0.8888888888888888,
              "#fdca26"
             ],
             [
              1,
              "#f0f921"
             ]
            ],
            "type": "heatmapgl"
           }
          ],
          "histogram": [
           {
            "marker": {
             "colorbar": {
              "outlinewidth": 0,
              "ticks": ""
             }
            },
            "type": "histogram"
           }
          ],
          "histogram2d": [
           {
            "colorbar": {
             "outlinewidth": 0,
             "ticks": ""
            },
            "colorscale": [
             [
              0,
              "#0d0887"
             ],
             [
              0.1111111111111111,
              "#46039f"
             ],
             [
              0.2222222222222222,
              "#7201a8"
             ],
             [
              0.3333333333333333,
              "#9c179e"
             ],
             [
              0.4444444444444444,
              "#bd3786"
             ],
             [
              0.5555555555555556,
              "#d8576b"
             ],
             [
              0.6666666666666666,
              "#ed7953"
             ],
             [
              0.7777777777777778,
              "#fb9f3a"
             ],
             [
              0.8888888888888888,
              "#fdca26"
             ],
             [
              1,
              "#f0f921"
             ]
            ],
            "type": "histogram2d"
           }
          ],
          "histogram2dcontour": [
           {
            "colorbar": {
             "outlinewidth": 0,
             "ticks": ""
            },
            "colorscale": [
             [
              0,
              "#0d0887"
             ],
             [
              0.1111111111111111,
              "#46039f"
             ],
             [
              0.2222222222222222,
              "#7201a8"
             ],
             [
              0.3333333333333333,
              "#9c179e"
             ],
             [
              0.4444444444444444,
              "#bd3786"
             ],
             [
              0.5555555555555556,
              "#d8576b"
             ],
             [
              0.6666666666666666,
              "#ed7953"
             ],
             [
              0.7777777777777778,
              "#fb9f3a"
             ],
             [
              0.8888888888888888,
              "#fdca26"
             ],
             [
              1,
              "#f0f921"
             ]
            ],
            "type": "histogram2dcontour"
           }
          ],
          "mesh3d": [
           {
            "colorbar": {
             "outlinewidth": 0,
             "ticks": ""
            },
            "type": "mesh3d"
           }
          ],
          "parcoords": [
           {
            "line": {
             "colorbar": {
              "outlinewidth": 0,
              "ticks": ""
             }
            },
            "type": "parcoords"
           }
          ],
          "pie": [
           {
            "automargin": true,
            "type": "pie"
           }
          ],
          "scatter": [
           {
            "marker": {
             "colorbar": {
              "outlinewidth": 0,
              "ticks": ""
             }
            },
            "type": "scatter"
           }
          ],
          "scatter3d": [
           {
            "line": {
             "colorbar": {
              "outlinewidth": 0,
              "ticks": ""
             }
            },
            "marker": {
             "colorbar": {
              "outlinewidth": 0,
              "ticks": ""
             }
            },
            "type": "scatter3d"
           }
          ],
          "scattercarpet": [
           {
            "marker": {
             "colorbar": {
              "outlinewidth": 0,
              "ticks": ""
             }
            },
            "type": "scattercarpet"
           }
          ],
          "scattergeo": [
           {
            "marker": {
             "colorbar": {
              "outlinewidth": 0,
              "ticks": ""
             }
            },
            "type": "scattergeo"
           }
          ],
          "scattergl": [
           {
            "marker": {
             "colorbar": {
              "outlinewidth": 0,
              "ticks": ""
             }
            },
            "type": "scattergl"
           }
          ],
          "scattermapbox": [
           {
            "marker": {
             "colorbar": {
              "outlinewidth": 0,
              "ticks": ""
             }
            },
            "type": "scattermapbox"
           }
          ],
          "scatterpolar": [
           {
            "marker": {
             "colorbar": {
              "outlinewidth": 0,
              "ticks": ""
             }
            },
            "type": "scatterpolar"
           }
          ],
          "scatterpolargl": [
           {
            "marker": {
             "colorbar": {
              "outlinewidth": 0,
              "ticks": ""
             }
            },
            "type": "scatterpolargl"
           }
          ],
          "scatterternary": [
           {
            "marker": {
             "colorbar": {
              "outlinewidth": 0,
              "ticks": ""
             }
            },
            "type": "scatterternary"
           }
          ],
          "surface": [
           {
            "colorbar": {
             "outlinewidth": 0,
             "ticks": ""
            },
            "colorscale": [
             [
              0,
              "#0d0887"
             ],
             [
              0.1111111111111111,
              "#46039f"
             ],
             [
              0.2222222222222222,
              "#7201a8"
             ],
             [
              0.3333333333333333,
              "#9c179e"
             ],
             [
              0.4444444444444444,
              "#bd3786"
             ],
             [
              0.5555555555555556,
              "#d8576b"
             ],
             [
              0.6666666666666666,
              "#ed7953"
             ],
             [
              0.7777777777777778,
              "#fb9f3a"
             ],
             [
              0.8888888888888888,
              "#fdca26"
             ],
             [
              1,
              "#f0f921"
             ]
            ],
            "type": "surface"
           }
          ],
          "table": [
           {
            "cells": {
             "fill": {
              "color": "#EBF0F8"
             },
             "line": {
              "color": "white"
             }
            },
            "header": {
             "fill": {
              "color": "#C8D4E3"
             },
             "line": {
              "color": "white"
             }
            },
            "type": "table"
           }
          ]
         },
         "layout": {
          "annotationdefaults": {
           "arrowcolor": "#2a3f5f",
           "arrowhead": 0,
           "arrowwidth": 1
          },
          "coloraxis": {
           "colorbar": {
            "outlinewidth": 0,
            "ticks": ""
           }
          },
          "colorscale": {
           "diverging": [
            [
             0,
             "#8e0152"
            ],
            [
             0.1,
             "#c51b7d"
            ],
            [
             0.2,
             "#de77ae"
            ],
            [
             0.3,
             "#f1b6da"
            ],
            [
             0.4,
             "#fde0ef"
            ],
            [
             0.5,
             "#f7f7f7"
            ],
            [
             0.6,
             "#e6f5d0"
            ],
            [
             0.7,
             "#b8e186"
            ],
            [
             0.8,
             "#7fbc41"
            ],
            [
             0.9,
             "#4d9221"
            ],
            [
             1,
             "#276419"
            ]
           ],
           "sequential": [
            [
             0,
             "#0d0887"
            ],
            [
             0.1111111111111111,
             "#46039f"
            ],
            [
             0.2222222222222222,
             "#7201a8"
            ],
            [
             0.3333333333333333,
             "#9c179e"
            ],
            [
             0.4444444444444444,
             "#bd3786"
            ],
            [
             0.5555555555555556,
             "#d8576b"
            ],
            [
             0.6666666666666666,
             "#ed7953"
            ],
            [
             0.7777777777777778,
             "#fb9f3a"
            ],
            [
             0.8888888888888888,
             "#fdca26"
            ],
            [
             1,
             "#f0f921"
            ]
           ],
           "sequentialminus": [
            [
             0,
             "#0d0887"
            ],
            [
             0.1111111111111111,
             "#46039f"
            ],
            [
             0.2222222222222222,
             "#7201a8"
            ],
            [
             0.3333333333333333,
             "#9c179e"
            ],
            [
             0.4444444444444444,
             "#bd3786"
            ],
            [
             0.5555555555555556,
             "#d8576b"
            ],
            [
             0.6666666666666666,
             "#ed7953"
            ],
            [
             0.7777777777777778,
             "#fb9f3a"
            ],
            [
             0.8888888888888888,
             "#fdca26"
            ],
            [
             1,
             "#f0f921"
            ]
           ]
          },
          "colorway": [
           "#636efa",
           "#EF553B",
           "#00cc96",
           "#ab63fa",
           "#FFA15A",
           "#19d3f3",
           "#FF6692",
           "#B6E880",
           "#FF97FF",
           "#FECB52"
          ],
          "font": {
           "color": "#2a3f5f"
          },
          "geo": {
           "bgcolor": "white",
           "lakecolor": "white",
           "landcolor": "#E5ECF6",
           "showlakes": true,
           "showland": true,
           "subunitcolor": "white"
          },
          "hoverlabel": {
           "align": "left"
          },
          "hovermode": "closest",
          "mapbox": {
           "style": "light"
          },
          "paper_bgcolor": "white",
          "plot_bgcolor": "#E5ECF6",
          "polar": {
           "angularaxis": {
            "gridcolor": "white",
            "linecolor": "white",
            "ticks": ""
           },
           "bgcolor": "#E5ECF6",
           "radialaxis": {
            "gridcolor": "white",
            "linecolor": "white",
            "ticks": ""
           }
          },
          "scene": {
           "xaxis": {
            "backgroundcolor": "#E5ECF6",
            "gridcolor": "white",
            "gridwidth": 2,
            "linecolor": "white",
            "showbackground": true,
            "ticks": "",
            "zerolinecolor": "white"
           },
           "yaxis": {
            "backgroundcolor": "#E5ECF6",
            "gridcolor": "white",
            "gridwidth": 2,
            "linecolor": "white",
            "showbackground": true,
            "ticks": "",
            "zerolinecolor": "white"
           },
           "zaxis": {
            "backgroundcolor": "#E5ECF6",
            "gridcolor": "white",
            "gridwidth": 2,
            "linecolor": "white",
            "showbackground": true,
            "ticks": "",
            "zerolinecolor": "white"
           }
          },
          "shapedefaults": {
           "line": {
            "color": "#2a3f5f"
           }
          },
          "ternary": {
           "aaxis": {
            "gridcolor": "white",
            "linecolor": "white",
            "ticks": ""
           },
           "baxis": {
            "gridcolor": "white",
            "linecolor": "white",
            "ticks": ""
           },
           "bgcolor": "#E5ECF6",
           "caxis": {
            "gridcolor": "white",
            "linecolor": "white",
            "ticks": ""
           }
          },
          "title": {
           "x": 0.05
          },
          "xaxis": {
           "automargin": true,
           "gridcolor": "white",
           "linecolor": "white",
           "ticks": "",
           "title": {
            "standoff": 15
           },
           "zerolinecolor": "white",
           "zerolinewidth": 2
          },
          "yaxis": {
           "automargin": true,
           "gridcolor": "white",
           "linecolor": "white",
           "ticks": "",
           "title": {
            "standoff": 15
           },
           "zerolinecolor": "white",
           "zerolinewidth": 2
          }
         }
        },
        "title": {
         "font": {
          "color": "#4D5663"
         },
         "text": "Top 100 words after removing stop words"
        },
        "xaxis": {
         "gridcolor": "#E1E5ED",
         "linecolor": "black",
         "showgrid": true,
         "tickfont": {
          "color": "#4D5663"
         },
         "title": {
          "font": {
           "color": "#4D5663"
          },
          "text": ""
         },
         "zerolinecolor": "#E1E5ED"
        },
        "yaxis": {
         "gridcolor": "#E1E5ED",
         "linecolor": "black",
         "showgrid": true,
         "tickfont": {
          "color": "#4D5663"
         },
         "title": {
          "font": {
           "color": "#4D5663"
          },
          "text": "Count"
         },
         "zerolinecolor": "#E1E5ED"
        }
       }
      },
      "text/html": [
       "<div>\n",
       "        \n",
       "        \n",
       "            <div id=\"5e82fe7f-924d-4ad6-b6ae-44ec06cb01b6\" class=\"plotly-graph-div\" style=\"height:525px; width:100%;\"></div>\n",
       "            <script type=\"text/javascript\">\n",
       "                require([\"plotly\"], function(Plotly) {\n",
       "                    window.PLOTLYENV=window.PLOTLYENV || {};\n",
       "                    window.PLOTLYENV.BASE_URL='https://plot.ly';\n",
       "                    \n",
       "                if (document.getElementById(\"5e82fe7f-924d-4ad6-b6ae-44ec06cb01b6\")) {\n",
       "                    Plotly.newPlot(\n",
       "                        '5e82fe7f-924d-4ad6-b6ae-44ec06cb01b6',\n",
       "                        [{\"marker\": {\"color\": \"rgba(255, 153, 51, 0.6)\", \"line\": {\"color\": \"rgba(255, 153, 51, 1.0)\", \"width\": 1}}, \"name\": \"count\", \"orientation\": \"v\", \"text\": \"\", \"type\": \"bar\", \"x\": [\"loan\", \"business\", \"child\", \"sell\", \"year\", \"buy\", \"school\", \"also\", \"work\", \"use\", \"old\", \"family\", \"make\", \"able\", \"start\", \"help\", \"small\", \"group\", \"husband\", \"live\", \"purchase\", \"product\", \"well\", \"income\", \"increase\", \"home\", \"woman\", \"customer\", \"community\", \"good\", \"marry\", \"order\", \"need\", \"hope\", \"request\", \"pay\", \"member\", \"stock\", \"expand\", \"grow\", \"new\", \"want\", \"time\", \"store\", \"people\", \"provide\", \"get\", \"many\", \"client\", \"go\", \"first\", \"farmer\", \"money\", \"clothing\", \"area\", \"support\", \"improve\", \"give\", \"rice\", \"market\", \"entrepreneur\", \"hard\", \"sale\", \"life\", \"food\", \"shop\", \"ago\", \"invest\", \"plan\", \"run\", \"take\", \"profit\", \"mother\", \"education\", \"high\", \"service\", \"continue\", \"capital\", \"clothe\", \"enable\", \"farm\", \"young\", \"month\", \"house\", \"local\", \"item\", \"fee\", \"demand\", \"part\", \"large\", \"wife\", \"operate\", \"day\", \"receive\", \"say\", \"meet\", \"supply\", \"offer\", \"still\", \"age\"], \"y\": [1928, 1861, 1195, 1085, 1072, 807, 653, 646, 609, 590, 566, 564, 528, 524, 485, 472, 464, 438, 429, 422, 388, 385, 362, 361, 353, 336, 332, 315, 310, 305, 295, 289, 282, 271, 271, 264, 260, 255, 253, 253, 249, 246, 241, 237, 235, 234, 223, 216, 216, 211, 211, 210, 209, 207, 205, 204, 203, 200, 197, 195, 189, 188, 187, 184, 179, 178, 178, 177, 176, 173, 171, 171, 170, 166, 163, 159, 158, 157, 157, 154, 151, 149, 149, 149, 146, 142, 141, 139, 139, 136, 135, 135, 132, 132, 132, 131, 127, 126, 126, 122]}],\n",
       "                        {\"legend\": {\"bgcolor\": \"#F5F6F9\", \"font\": {\"color\": \"#4D5663\"}}, \"paper_bgcolor\": \"#F5F6F9\", \"plot_bgcolor\": \"#F5F6F9\", \"template\": {\"data\": {\"bar\": [{\"error_x\": {\"color\": \"#2a3f5f\"}, \"error_y\": {\"color\": \"#2a3f5f\"}, \"marker\": {\"line\": {\"color\": \"#E5ECF6\", \"width\": 0.5}}, \"type\": \"bar\"}], \"barpolar\": [{\"marker\": {\"line\": {\"color\": \"#E5ECF6\", \"width\": 0.5}}, \"type\": \"barpolar\"}], \"carpet\": [{\"aaxis\": {\"endlinecolor\": \"#2a3f5f\", \"gridcolor\": \"white\", \"linecolor\": \"white\", \"minorgridcolor\": \"white\", \"startlinecolor\": \"#2a3f5f\"}, \"baxis\": {\"endlinecolor\": \"#2a3f5f\", \"gridcolor\": \"white\", \"linecolor\": \"white\", \"minorgridcolor\": \"white\", \"startlinecolor\": \"#2a3f5f\"}, \"type\": \"carpet\"}], \"choropleth\": [{\"colorbar\": {\"outlinewidth\": 0, \"ticks\": \"\"}, \"type\": \"choropleth\"}], \"contour\": [{\"colorbar\": {\"outlinewidth\": 0, \"ticks\": \"\"}, \"colorscale\": [[0.0, \"#0d0887\"], [0.1111111111111111, \"#46039f\"], [0.2222222222222222, \"#7201a8\"], [0.3333333333333333, \"#9c179e\"], [0.4444444444444444, \"#bd3786\"], [0.5555555555555556, \"#d8576b\"], [0.6666666666666666, \"#ed7953\"], [0.7777777777777778, \"#fb9f3a\"], [0.8888888888888888, \"#fdca26\"], [1.0, \"#f0f921\"]], \"type\": \"contour\"}], \"contourcarpet\": [{\"colorbar\": {\"outlinewidth\": 0, \"ticks\": \"\"}, \"type\": \"contourcarpet\"}], \"heatmap\": [{\"colorbar\": {\"outlinewidth\": 0, \"ticks\": \"\"}, \"colorscale\": [[0.0, \"#0d0887\"], [0.1111111111111111, \"#46039f\"], [0.2222222222222222, \"#7201a8\"], [0.3333333333333333, \"#9c179e\"], [0.4444444444444444, \"#bd3786\"], [0.5555555555555556, \"#d8576b\"], [0.6666666666666666, \"#ed7953\"], [0.7777777777777778, \"#fb9f3a\"], [0.8888888888888888, \"#fdca26\"], [1.0, \"#f0f921\"]], \"type\": \"heatmap\"}], \"heatmapgl\": [{\"colorbar\": {\"outlinewidth\": 0, \"ticks\": \"\"}, \"colorscale\": [[0.0, \"#0d0887\"], [0.1111111111111111, \"#46039f\"], [0.2222222222222222, \"#7201a8\"], [0.3333333333333333, \"#9c179e\"], [0.4444444444444444, \"#bd3786\"], [0.5555555555555556, \"#d8576b\"], [0.6666666666666666, \"#ed7953\"], [0.7777777777777778, \"#fb9f3a\"], [0.8888888888888888, \"#fdca26\"], [1.0, \"#f0f921\"]], \"type\": \"heatmapgl\"}], \"histogram\": [{\"marker\": {\"colorbar\": {\"outlinewidth\": 0, \"ticks\": \"\"}}, \"type\": \"histogram\"}], \"histogram2d\": [{\"colorbar\": {\"outlinewidth\": 0, \"ticks\": \"\"}, \"colorscale\": [[0.0, \"#0d0887\"], [0.1111111111111111, \"#46039f\"], [0.2222222222222222, \"#7201a8\"], [0.3333333333333333, \"#9c179e\"], [0.4444444444444444, \"#bd3786\"], [0.5555555555555556, \"#d8576b\"], [0.6666666666666666, \"#ed7953\"], [0.7777777777777778, \"#fb9f3a\"], [0.8888888888888888, \"#fdca26\"], [1.0, \"#f0f921\"]], \"type\": \"histogram2d\"}], \"histogram2dcontour\": [{\"colorbar\": {\"outlinewidth\": 0, \"ticks\": \"\"}, \"colorscale\": [[0.0, \"#0d0887\"], [0.1111111111111111, \"#46039f\"], [0.2222222222222222, \"#7201a8\"], [0.3333333333333333, \"#9c179e\"], [0.4444444444444444, \"#bd3786\"], [0.5555555555555556, \"#d8576b\"], [0.6666666666666666, \"#ed7953\"], [0.7777777777777778, \"#fb9f3a\"], [0.8888888888888888, \"#fdca26\"], [1.0, \"#f0f921\"]], \"type\": \"histogram2dcontour\"}], \"mesh3d\": [{\"colorbar\": {\"outlinewidth\": 0, \"ticks\": \"\"}, \"type\": \"mesh3d\"}], \"parcoords\": [{\"line\": {\"colorbar\": {\"outlinewidth\": 0, \"ticks\": \"\"}}, \"type\": \"parcoords\"}], \"pie\": [{\"automargin\": true, \"type\": \"pie\"}], \"scatter\": [{\"marker\": {\"colorbar\": {\"outlinewidth\": 0, \"ticks\": \"\"}}, \"type\": \"scatter\"}], \"scatter3d\": [{\"line\": {\"colorbar\": {\"outlinewidth\": 0, \"ticks\": \"\"}}, \"marker\": {\"colorbar\": {\"outlinewidth\": 0, \"ticks\": \"\"}}, \"type\": \"scatter3d\"}], \"scattercarpet\": [{\"marker\": {\"colorbar\": {\"outlinewidth\": 0, \"ticks\": \"\"}}, \"type\": \"scattercarpet\"}], \"scattergeo\": [{\"marker\": {\"colorbar\": {\"outlinewidth\": 0, \"ticks\": \"\"}}, \"type\": \"scattergeo\"}], \"scattergl\": [{\"marker\": {\"colorbar\": {\"outlinewidth\": 0, \"ticks\": \"\"}}, \"type\": \"scattergl\"}], \"scattermapbox\": [{\"marker\": {\"colorbar\": {\"outlinewidth\": 0, \"ticks\": \"\"}}, \"type\": \"scattermapbox\"}], \"scatterpolar\": [{\"marker\": {\"colorbar\": {\"outlinewidth\": 0, \"ticks\": \"\"}}, \"type\": \"scatterpolar\"}], \"scatterpolargl\": [{\"marker\": {\"colorbar\": {\"outlinewidth\": 0, \"ticks\": \"\"}}, \"type\": \"scatterpolargl\"}], \"scatterternary\": [{\"marker\": {\"colorbar\": {\"outlinewidth\": 0, \"ticks\": \"\"}}, \"type\": \"scatterternary\"}], \"surface\": [{\"colorbar\": {\"outlinewidth\": 0, \"ticks\": \"\"}, \"colorscale\": [[0.0, \"#0d0887\"], [0.1111111111111111, \"#46039f\"], [0.2222222222222222, \"#7201a8\"], [0.3333333333333333, \"#9c179e\"], [0.4444444444444444, \"#bd3786\"], [0.5555555555555556, \"#d8576b\"], [0.6666666666666666, \"#ed7953\"], [0.7777777777777778, \"#fb9f3a\"], [0.8888888888888888, \"#fdca26\"], [1.0, \"#f0f921\"]], \"type\": \"surface\"}], \"table\": [{\"cells\": {\"fill\": {\"color\": \"#EBF0F8\"}, \"line\": {\"color\": \"white\"}}, \"header\": {\"fill\": {\"color\": \"#C8D4E3\"}, \"line\": {\"color\": \"white\"}}, \"type\": \"table\"}]}, \"layout\": {\"annotationdefaults\": {\"arrowcolor\": \"#2a3f5f\", \"arrowhead\": 0, \"arrowwidth\": 1}, \"coloraxis\": {\"colorbar\": {\"outlinewidth\": 0, \"ticks\": \"\"}}, \"colorscale\": {\"diverging\": [[0, \"#8e0152\"], [0.1, \"#c51b7d\"], [0.2, \"#de77ae\"], [0.3, \"#f1b6da\"], [0.4, \"#fde0ef\"], [0.5, \"#f7f7f7\"], [0.6, \"#e6f5d0\"], [0.7, \"#b8e186\"], [0.8, \"#7fbc41\"], [0.9, \"#4d9221\"], [1, \"#276419\"]], \"sequential\": [[0.0, \"#0d0887\"], [0.1111111111111111, \"#46039f\"], [0.2222222222222222, \"#7201a8\"], [0.3333333333333333, \"#9c179e\"], [0.4444444444444444, \"#bd3786\"], [0.5555555555555556, \"#d8576b\"], [0.6666666666666666, \"#ed7953\"], [0.7777777777777778, \"#fb9f3a\"], [0.8888888888888888, \"#fdca26\"], [1.0, \"#f0f921\"]], \"sequentialminus\": [[0.0, \"#0d0887\"], [0.1111111111111111, \"#46039f\"], [0.2222222222222222, \"#7201a8\"], [0.3333333333333333, \"#9c179e\"], [0.4444444444444444, \"#bd3786\"], [0.5555555555555556, \"#d8576b\"], [0.6666666666666666, \"#ed7953\"], [0.7777777777777778, \"#fb9f3a\"], [0.8888888888888888, \"#fdca26\"], [1.0, \"#f0f921\"]]}, \"colorway\": [\"#636efa\", \"#EF553B\", \"#00cc96\", \"#ab63fa\", \"#FFA15A\", \"#19d3f3\", \"#FF6692\", \"#B6E880\", \"#FF97FF\", \"#FECB52\"], \"font\": {\"color\": \"#2a3f5f\"}, \"geo\": {\"bgcolor\": \"white\", \"lakecolor\": \"white\", \"landcolor\": \"#E5ECF6\", \"showlakes\": true, \"showland\": true, \"subunitcolor\": \"white\"}, \"hoverlabel\": {\"align\": \"left\"}, \"hovermode\": \"closest\", \"mapbox\": {\"style\": \"light\"}, \"paper_bgcolor\": \"white\", \"plot_bgcolor\": \"#E5ECF6\", \"polar\": {\"angularaxis\": {\"gridcolor\": \"white\", \"linecolor\": \"white\", \"ticks\": \"\"}, \"bgcolor\": \"#E5ECF6\", \"radialaxis\": {\"gridcolor\": \"white\", \"linecolor\": \"white\", \"ticks\": \"\"}}, \"scene\": {\"xaxis\": {\"backgroundcolor\": \"#E5ECF6\", \"gridcolor\": \"white\", \"gridwidth\": 2, \"linecolor\": \"white\", \"showbackground\": true, \"ticks\": \"\", \"zerolinecolor\": \"white\"}, \"yaxis\": {\"backgroundcolor\": \"#E5ECF6\", \"gridcolor\": \"white\", \"gridwidth\": 2, \"linecolor\": \"white\", \"showbackground\": true, \"ticks\": \"\", \"zerolinecolor\": \"white\"}, \"zaxis\": {\"backgroundcolor\": \"#E5ECF6\", \"gridcolor\": \"white\", \"gridwidth\": 2, \"linecolor\": \"white\", \"showbackground\": true, \"ticks\": \"\", \"zerolinecolor\": \"white\"}}, \"shapedefaults\": {\"line\": {\"color\": \"#2a3f5f\"}}, \"ternary\": {\"aaxis\": {\"gridcolor\": \"white\", \"linecolor\": \"white\", \"ticks\": \"\"}, \"baxis\": {\"gridcolor\": \"white\", \"linecolor\": \"white\", \"ticks\": \"\"}, \"bgcolor\": \"#E5ECF6\", \"caxis\": {\"gridcolor\": \"white\", \"linecolor\": \"white\", \"ticks\": \"\"}}, \"title\": {\"x\": 0.05}, \"xaxis\": {\"automargin\": true, \"gridcolor\": \"white\", \"linecolor\": \"white\", \"ticks\": \"\", \"title\": {\"standoff\": 15}, \"zerolinecolor\": \"white\", \"zerolinewidth\": 2}, \"yaxis\": {\"automargin\": true, \"gridcolor\": \"white\", \"linecolor\": \"white\", \"ticks\": \"\", \"title\": {\"standoff\": 15}, \"zerolinecolor\": \"white\", \"zerolinewidth\": 2}}}, \"title\": {\"font\": {\"color\": \"#4D5663\"}, \"text\": \"Top 100 words after removing stop words\"}, \"xaxis\": {\"gridcolor\": \"#E1E5ED\", \"linecolor\": \"black\", \"showgrid\": true, \"tickfont\": {\"color\": \"#4D5663\"}, \"title\": {\"font\": {\"color\": \"#4D5663\"}, \"text\": \"\"}, \"zerolinecolor\": \"#E1E5ED\"}, \"yaxis\": {\"gridcolor\": \"#E1E5ED\", \"linecolor\": \"black\", \"showgrid\": true, \"tickfont\": {\"color\": \"#4D5663\"}, \"title\": {\"font\": {\"color\": \"#4D5663\"}, \"text\": \"Count\"}, \"zerolinecolor\": \"#E1E5ED\"}},\n",
       "                        {\"showLink\": true, \"linkText\": \"Export to plot.ly\", \"plotlyServerURL\": \"https://plot.ly\", \"responsive\": true}\n",
       "                    ).then(function(){\n",
       "                            \n",
       "var gd = document.getElementById('5e82fe7f-924d-4ad6-b6ae-44ec06cb01b6');\n",
       "var x = new MutationObserver(function (mutations, observer) {{\n",
       "        var display = window.getComputedStyle(gd).display;\n",
       "        if (!display || display === 'none') {{\n",
       "            console.log([gd, 'removed!']);\n",
       "            Plotly.purge(gd);\n",
       "            observer.disconnect();\n",
       "        }}\n",
       "}});\n",
       "\n",
       "// Listen for the removal of the full notebook cells\n",
       "var notebookContainer = gd.closest('#notebook-container');\n",
       "if (notebookContainer) {{\n",
       "    x.observe(notebookContainer, {childList: true});\n",
       "}}\n",
       "\n",
       "// Listen for the clearing of the current output cell\n",
       "var outputEl = gd.closest('.output');\n",
       "if (outputEl) {{\n",
       "    x.observe(outputEl, {childList: true});\n",
       "}}\n",
       "\n",
       "                        })\n",
       "                };\n",
       "                });\n",
       "            </script>\n",
       "        </div>"
      ]
     },
     "metadata": {},
     "output_type": "display_data"
    }
   ],
   "source": [
    "plot_model()"
   ]
  },
  {
   "cell_type": "code",
   "execution_count": 11,
   "metadata": {},
   "outputs": [
    {
     "data": {
      "text/html": [
       "        <script type=\"text/javascript\">\n",
       "        window.PlotlyConfig = {MathJaxConfig: 'local'};\n",
       "        if (window.MathJax) {MathJax.Hub.Config({SVG: {font: \"STIX-Web\"}});}\n",
       "        if (typeof require !== 'undefined') {\n",
       "        require.undef(\"plotly\");\n",
       "        requirejs.config({\n",
       "            paths: {\n",
       "                'plotly': ['https://cdn.plot.ly/plotly-latest.min']\n",
       "            }\n",
       "        });\n",
       "        require(['plotly'], function(Plotly) {\n",
       "            window._Plotly = Plotly;\n",
       "        });\n",
       "        }\n",
       "        </script>\n",
       "        "
      ]
     },
     "metadata": {},
     "output_type": "display_data"
    },
    {
     "data": {
      "application/vnd.plotly.v1+json": {
       "config": {
        "linkText": "Export to plot.ly",
        "plotlyServerURL": "https://plot.ly",
        "showLink": true
       },
       "data": [
        {
         "marker": {
          "color": "rgba(255, 153, 51, 0.6)",
          "line": {
           "color": "rgba(255, 153, 51, 1.0)",
           "width": 1
          }
         },
         "name": "count",
         "orientation": "v",
         "text": "",
         "type": "bar",
         "x": [
          "year old",
          "request loan",
          "marry child",
          "start business",
          "loan buy",
          "year ago",
          "expand business",
          "use loan",
          "business year",
          "school fee",
          "loan use",
          "first loan",
          "child school",
          "old child",
          "old marry",
          "business sell",
          "second loan",
          "work hard",
          "loan purchase",
          "hard work",
          "small business",
          "repay loan",
          "primary school",
          "mother child",
          "woman group",
          "pay school",
          "old married",
          "educate child",
          "use buy",
          "business able",
          "increase stock",
          "increase income",
          "loan order",
          "secondary school",
          "child live",
          "married child",
          "loan able",
          "husband work",
          "start small",
          "last year",
          "business grow",
          "business training_educational_programs_information",
          "support family",
          "training_educational_programs_information microfinance_ecuador_services_please",
          "group member",
          "apply loan",
          "run business",
          "microfinance_ecuador_services_please visit_href_http_www",
          "mifex_org_www_mifex org",
          "start sell",
          "visit_href_http_www mifex_org_www_mifex",
          "help business",
          "able buy",
          "husband child",
          "mifex_offers_client business",
          "also sell",
          "sell product",
          "high school",
          "need loan",
          "sell clothing",
          "farmer also",
          "child age",
          "receive loan",
          "give loan",
          "business help",
          "child child",
          "operate business",
          "begin business",
          "go school",
          "loan help",
          "attend school",
          "loan intend",
          "provide family",
          "year experience",
          "loan group",
          "loan invest",
          "loan loan",
          "person group",
          "loan enable",
          "risk_willing_accept_additional risk_making",
          "may_represent_higher_default risk_willing_accept_additional",
          "pay loan",
          "many local_businesses_lender",
          "loan may_represent_higher_default",
          "risk_making loan",
          "local_businesses_lender loan",
          "loan usd",
          "communities_remains_unsettled_affecte many",
          "able provide",
          "child primary",
          "fee child",
          "loan month",
          "plan use",
          "run small",
          "high demand",
          "grow business",
          "child also",
          "live husband",
          "buy new",
          "loan together"
         ],
         "y": [
          400,
          192,
          181,
          173,
          169,
          156,
          145,
          140,
          107,
          104,
          97,
          97,
          91,
          89,
          89,
          78,
          78,
          70,
          65,
          64,
          63,
          62,
          59,
          59,
          58,
          58,
          58,
          57,
          57,
          57,
          53,
          52,
          52,
          51,
          51,
          49,
          49,
          49,
          47,
          47,
          47,
          46,
          46,
          46,
          46,
          46,
          45,
          44,
          44,
          44,
          44,
          44,
          44,
          43,
          43,
          42,
          42,
          41,
          41,
          41,
          40,
          40,
          40,
          40,
          39,
          39,
          39,
          38,
          38,
          37,
          37,
          37,
          35,
          34,
          34,
          33,
          33,
          32,
          32,
          32,
          32,
          32,
          32,
          32,
          32,
          32,
          32,
          32,
          31,
          31,
          31,
          30,
          29,
          29,
          28,
          28,
          28,
          28,
          27,
          27
         ]
        }
       ],
       "layout": {
        "legend": {
         "bgcolor": "#F5F6F9",
         "font": {
          "color": "#4D5663"
         }
        },
        "paper_bgcolor": "#F5F6F9",
        "plot_bgcolor": "#F5F6F9",
        "template": {
         "data": {
          "bar": [
           {
            "error_x": {
             "color": "#2a3f5f"
            },
            "error_y": {
             "color": "#2a3f5f"
            },
            "marker": {
             "line": {
              "color": "#E5ECF6",
              "width": 0.5
             }
            },
            "type": "bar"
           }
          ],
          "barpolar": [
           {
            "marker": {
             "line": {
              "color": "#E5ECF6",
              "width": 0.5
             }
            },
            "type": "barpolar"
           }
          ],
          "carpet": [
           {
            "aaxis": {
             "endlinecolor": "#2a3f5f",
             "gridcolor": "white",
             "linecolor": "white",
             "minorgridcolor": "white",
             "startlinecolor": "#2a3f5f"
            },
            "baxis": {
             "endlinecolor": "#2a3f5f",
             "gridcolor": "white",
             "linecolor": "white",
             "minorgridcolor": "white",
             "startlinecolor": "#2a3f5f"
            },
            "type": "carpet"
           }
          ],
          "choropleth": [
           {
            "colorbar": {
             "outlinewidth": 0,
             "ticks": ""
            },
            "type": "choropleth"
           }
          ],
          "contour": [
           {
            "colorbar": {
             "outlinewidth": 0,
             "ticks": ""
            },
            "colorscale": [
             [
              0,
              "#0d0887"
             ],
             [
              0.1111111111111111,
              "#46039f"
             ],
             [
              0.2222222222222222,
              "#7201a8"
             ],
             [
              0.3333333333333333,
              "#9c179e"
             ],
             [
              0.4444444444444444,
              "#bd3786"
             ],
             [
              0.5555555555555556,
              "#d8576b"
             ],
             [
              0.6666666666666666,
              "#ed7953"
             ],
             [
              0.7777777777777778,
              "#fb9f3a"
             ],
             [
              0.8888888888888888,
              "#fdca26"
             ],
             [
              1,
              "#f0f921"
             ]
            ],
            "type": "contour"
           }
          ],
          "contourcarpet": [
           {
            "colorbar": {
             "outlinewidth": 0,
             "ticks": ""
            },
            "type": "contourcarpet"
           }
          ],
          "heatmap": [
           {
            "colorbar": {
             "outlinewidth": 0,
             "ticks": ""
            },
            "colorscale": [
             [
              0,
              "#0d0887"
             ],
             [
              0.1111111111111111,
              "#46039f"
             ],
             [
              0.2222222222222222,
              "#7201a8"
             ],
             [
              0.3333333333333333,
              "#9c179e"
             ],
             [
              0.4444444444444444,
              "#bd3786"
             ],
             [
              0.5555555555555556,
              "#d8576b"
             ],
             [
              0.6666666666666666,
              "#ed7953"
             ],
             [
              0.7777777777777778,
              "#fb9f3a"
             ],
             [
              0.8888888888888888,
              "#fdca26"
             ],
             [
              1,
              "#f0f921"
             ]
            ],
            "type": "heatmap"
           }
          ],
          "heatmapgl": [
           {
            "colorbar": {
             "outlinewidth": 0,
             "ticks": ""
            },
            "colorscale": [
             [
              0,
              "#0d0887"
             ],
             [
              0.1111111111111111,
              "#46039f"
             ],
             [
              0.2222222222222222,
              "#7201a8"
             ],
             [
              0.3333333333333333,
              "#9c179e"
             ],
             [
              0.4444444444444444,
              "#bd3786"
             ],
             [
              0.5555555555555556,
              "#d8576b"
             ],
             [
              0.6666666666666666,
              "#ed7953"
             ],
             [
              0.7777777777777778,
              "#fb9f3a"
             ],
             [
              0.8888888888888888,
              "#fdca26"
             ],
             [
              1,
              "#f0f921"
             ]
            ],
            "type": "heatmapgl"
           }
          ],
          "histogram": [
           {
            "marker": {
             "colorbar": {
              "outlinewidth": 0,
              "ticks": ""
             }
            },
            "type": "histogram"
           }
          ],
          "histogram2d": [
           {
            "colorbar": {
             "outlinewidth": 0,
             "ticks": ""
            },
            "colorscale": [
             [
              0,
              "#0d0887"
             ],
             [
              0.1111111111111111,
              "#46039f"
             ],
             [
              0.2222222222222222,
              "#7201a8"
             ],
             [
              0.3333333333333333,
              "#9c179e"
             ],
             [
              0.4444444444444444,
              "#bd3786"
             ],
             [
              0.5555555555555556,
              "#d8576b"
             ],
             [
              0.6666666666666666,
              "#ed7953"
             ],
             [
              0.7777777777777778,
              "#fb9f3a"
             ],
             [
              0.8888888888888888,
              "#fdca26"
             ],
             [
              1,
              "#f0f921"
             ]
            ],
            "type": "histogram2d"
           }
          ],
          "histogram2dcontour": [
           {
            "colorbar": {
             "outlinewidth": 0,
             "ticks": ""
            },
            "colorscale": [
             [
              0,
              "#0d0887"
             ],
             [
              0.1111111111111111,
              "#46039f"
             ],
             [
              0.2222222222222222,
              "#7201a8"
             ],
             [
              0.3333333333333333,
              "#9c179e"
             ],
             [
              0.4444444444444444,
              "#bd3786"
             ],
             [
              0.5555555555555556,
              "#d8576b"
             ],
             [
              0.6666666666666666,
              "#ed7953"
             ],
             [
              0.7777777777777778,
              "#fb9f3a"
             ],
             [
              0.8888888888888888,
              "#fdca26"
             ],
             [
              1,
              "#f0f921"
             ]
            ],
            "type": "histogram2dcontour"
           }
          ],
          "mesh3d": [
           {
            "colorbar": {
             "outlinewidth": 0,
             "ticks": ""
            },
            "type": "mesh3d"
           }
          ],
          "parcoords": [
           {
            "line": {
             "colorbar": {
              "outlinewidth": 0,
              "ticks": ""
             }
            },
            "type": "parcoords"
           }
          ],
          "pie": [
           {
            "automargin": true,
            "type": "pie"
           }
          ],
          "scatter": [
           {
            "marker": {
             "colorbar": {
              "outlinewidth": 0,
              "ticks": ""
             }
            },
            "type": "scatter"
           }
          ],
          "scatter3d": [
           {
            "line": {
             "colorbar": {
              "outlinewidth": 0,
              "ticks": ""
             }
            },
            "marker": {
             "colorbar": {
              "outlinewidth": 0,
              "ticks": ""
             }
            },
            "type": "scatter3d"
           }
          ],
          "scattercarpet": [
           {
            "marker": {
             "colorbar": {
              "outlinewidth": 0,
              "ticks": ""
             }
            },
            "type": "scattercarpet"
           }
          ],
          "scattergeo": [
           {
            "marker": {
             "colorbar": {
              "outlinewidth": 0,
              "ticks": ""
             }
            },
            "type": "scattergeo"
           }
          ],
          "scattergl": [
           {
            "marker": {
             "colorbar": {
              "outlinewidth": 0,
              "ticks": ""
             }
            },
            "type": "scattergl"
           }
          ],
          "scattermapbox": [
           {
            "marker": {
             "colorbar": {
              "outlinewidth": 0,
              "ticks": ""
             }
            },
            "type": "scattermapbox"
           }
          ],
          "scatterpolar": [
           {
            "marker": {
             "colorbar": {
              "outlinewidth": 0,
              "ticks": ""
             }
            },
            "type": "scatterpolar"
           }
          ],
          "scatterpolargl": [
           {
            "marker": {
             "colorbar": {
              "outlinewidth": 0,
              "ticks": ""
             }
            },
            "type": "scatterpolargl"
           }
          ],
          "scatterternary": [
           {
            "marker": {
             "colorbar": {
              "outlinewidth": 0,
              "ticks": ""
             }
            },
            "type": "scatterternary"
           }
          ],
          "surface": [
           {
            "colorbar": {
             "outlinewidth": 0,
             "ticks": ""
            },
            "colorscale": [
             [
              0,
              "#0d0887"
             ],
             [
              0.1111111111111111,
              "#46039f"
             ],
             [
              0.2222222222222222,
              "#7201a8"
             ],
             [
              0.3333333333333333,
              "#9c179e"
             ],
             [
              0.4444444444444444,
              "#bd3786"
             ],
             [
              0.5555555555555556,
              "#d8576b"
             ],
             [
              0.6666666666666666,
              "#ed7953"
             ],
             [
              0.7777777777777778,
              "#fb9f3a"
             ],
             [
              0.8888888888888888,
              "#fdca26"
             ],
             [
              1,
              "#f0f921"
             ]
            ],
            "type": "surface"
           }
          ],
          "table": [
           {
            "cells": {
             "fill": {
              "color": "#EBF0F8"
             },
             "line": {
              "color": "white"
             }
            },
            "header": {
             "fill": {
              "color": "#C8D4E3"
             },
             "line": {
              "color": "white"
             }
            },
            "type": "table"
           }
          ]
         },
         "layout": {
          "annotationdefaults": {
           "arrowcolor": "#2a3f5f",
           "arrowhead": 0,
           "arrowwidth": 1
          },
          "coloraxis": {
           "colorbar": {
            "outlinewidth": 0,
            "ticks": ""
           }
          },
          "colorscale": {
           "diverging": [
            [
             0,
             "#8e0152"
            ],
            [
             0.1,
             "#c51b7d"
            ],
            [
             0.2,
             "#de77ae"
            ],
            [
             0.3,
             "#f1b6da"
            ],
            [
             0.4,
             "#fde0ef"
            ],
            [
             0.5,
             "#f7f7f7"
            ],
            [
             0.6,
             "#e6f5d0"
            ],
            [
             0.7,
             "#b8e186"
            ],
            [
             0.8,
             "#7fbc41"
            ],
            [
             0.9,
             "#4d9221"
            ],
            [
             1,
             "#276419"
            ]
           ],
           "sequential": [
            [
             0,
             "#0d0887"
            ],
            [
             0.1111111111111111,
             "#46039f"
            ],
            [
             0.2222222222222222,
             "#7201a8"
            ],
            [
             0.3333333333333333,
             "#9c179e"
            ],
            [
             0.4444444444444444,
             "#bd3786"
            ],
            [
             0.5555555555555556,
             "#d8576b"
            ],
            [
             0.6666666666666666,
             "#ed7953"
            ],
            [
             0.7777777777777778,
             "#fb9f3a"
            ],
            [
             0.8888888888888888,
             "#fdca26"
            ],
            [
             1,
             "#f0f921"
            ]
           ],
           "sequentialminus": [
            [
             0,
             "#0d0887"
            ],
            [
             0.1111111111111111,
             "#46039f"
            ],
            [
             0.2222222222222222,
             "#7201a8"
            ],
            [
             0.3333333333333333,
             "#9c179e"
            ],
            [
             0.4444444444444444,
             "#bd3786"
            ],
            [
             0.5555555555555556,
             "#d8576b"
            ],
            [
             0.6666666666666666,
             "#ed7953"
            ],
            [
             0.7777777777777778,
             "#fb9f3a"
            ],
            [
             0.8888888888888888,
             "#fdca26"
            ],
            [
             1,
             "#f0f921"
            ]
           ]
          },
          "colorway": [
           "#636efa",
           "#EF553B",
           "#00cc96",
           "#ab63fa",
           "#FFA15A",
           "#19d3f3",
           "#FF6692",
           "#B6E880",
           "#FF97FF",
           "#FECB52"
          ],
          "font": {
           "color": "#2a3f5f"
          },
          "geo": {
           "bgcolor": "white",
           "lakecolor": "white",
           "landcolor": "#E5ECF6",
           "showlakes": true,
           "showland": true,
           "subunitcolor": "white"
          },
          "hoverlabel": {
           "align": "left"
          },
          "hovermode": "closest",
          "mapbox": {
           "style": "light"
          },
          "paper_bgcolor": "white",
          "plot_bgcolor": "#E5ECF6",
          "polar": {
           "angularaxis": {
            "gridcolor": "white",
            "linecolor": "white",
            "ticks": ""
           },
           "bgcolor": "#E5ECF6",
           "radialaxis": {
            "gridcolor": "white",
            "linecolor": "white",
            "ticks": ""
           }
          },
          "scene": {
           "xaxis": {
            "backgroundcolor": "#E5ECF6",
            "gridcolor": "white",
            "gridwidth": 2,
            "linecolor": "white",
            "showbackground": true,
            "ticks": "",
            "zerolinecolor": "white"
           },
           "yaxis": {
            "backgroundcolor": "#E5ECF6",
            "gridcolor": "white",
            "gridwidth": 2,
            "linecolor": "white",
            "showbackground": true,
            "ticks": "",
            "zerolinecolor": "white"
           },
           "zaxis": {
            "backgroundcolor": "#E5ECF6",
            "gridcolor": "white",
            "gridwidth": 2,
            "linecolor": "white",
            "showbackground": true,
            "ticks": "",
            "zerolinecolor": "white"
           }
          },
          "shapedefaults": {
           "line": {
            "color": "#2a3f5f"
           }
          },
          "ternary": {
           "aaxis": {
            "gridcolor": "white",
            "linecolor": "white",
            "ticks": ""
           },
           "baxis": {
            "gridcolor": "white",
            "linecolor": "white",
            "ticks": ""
           },
           "bgcolor": "#E5ECF6",
           "caxis": {
            "gridcolor": "white",
            "linecolor": "white",
            "ticks": ""
           }
          },
          "title": {
           "x": 0.05
          },
          "xaxis": {
           "automargin": true,
           "gridcolor": "white",
           "linecolor": "white",
           "ticks": "",
           "title": {
            "standoff": 15
           },
           "zerolinecolor": "white",
           "zerolinewidth": 2
          },
          "yaxis": {
           "automargin": true,
           "gridcolor": "white",
           "linecolor": "white",
           "ticks": "",
           "title": {
            "standoff": 15
           },
           "zerolinecolor": "white",
           "zerolinewidth": 2
          }
         }
        },
        "title": {
         "font": {
          "color": "#4D5663"
         },
         "text": "Top 100 bigrams after removing stop words"
        },
        "xaxis": {
         "gridcolor": "#E1E5ED",
         "linecolor": "black",
         "showgrid": true,
         "tickfont": {
          "color": "#4D5663"
         },
         "title": {
          "font": {
           "color": "#4D5663"
          },
          "text": ""
         },
         "zerolinecolor": "#E1E5ED"
        },
        "yaxis": {
         "gridcolor": "#E1E5ED",
         "linecolor": "black",
         "showgrid": true,
         "tickfont": {
          "color": "#4D5663"
         },
         "title": {
          "font": {
           "color": "#4D5663"
          },
          "text": "Count"
         },
         "zerolinecolor": "#E1E5ED"
        }
       }
      },
      "text/html": [
       "<div>\n",
       "        \n",
       "        \n",
       "            <div id=\"c0a29791-8b96-4b73-a8ab-1923621793ee\" class=\"plotly-graph-div\" style=\"height:525px; width:100%;\"></div>\n",
       "            <script type=\"text/javascript\">\n",
       "                require([\"plotly\"], function(Plotly) {\n",
       "                    window.PLOTLYENV=window.PLOTLYENV || {};\n",
       "                    window.PLOTLYENV.BASE_URL='https://plot.ly';\n",
       "                    \n",
       "                if (document.getElementById(\"c0a29791-8b96-4b73-a8ab-1923621793ee\")) {\n",
       "                    Plotly.newPlot(\n",
       "                        'c0a29791-8b96-4b73-a8ab-1923621793ee',\n",
       "                        [{\"marker\": {\"color\": \"rgba(255, 153, 51, 0.6)\", \"line\": {\"color\": \"rgba(255, 153, 51, 1.0)\", \"width\": 1}}, \"name\": \"count\", \"orientation\": \"v\", \"text\": \"\", \"type\": \"bar\", \"x\": [\"year old\", \"request loan\", \"marry child\", \"start business\", \"loan buy\", \"year ago\", \"expand business\", \"use loan\", \"business year\", \"school fee\", \"loan use\", \"first loan\", \"child school\", \"old child\", \"old marry\", \"business sell\", \"second loan\", \"work hard\", \"loan purchase\", \"hard work\", \"small business\", \"repay loan\", \"primary school\", \"mother child\", \"woman group\", \"pay school\", \"old married\", \"educate child\", \"use buy\", \"business able\", \"increase stock\", \"increase income\", \"loan order\", \"secondary school\", \"child live\", \"married child\", \"loan able\", \"husband work\", \"start small\", \"last year\", \"business grow\", \"business training_educational_programs_information\", \"support family\", \"training_educational_programs_information microfinance_ecuador_services_please\", \"group member\", \"apply loan\", \"run business\", \"microfinance_ecuador_services_please visit_href_http_www\", \"mifex_org_www_mifex org\", \"start sell\", \"visit_href_http_www mifex_org_www_mifex\", \"help business\", \"able buy\", \"husband child\", \"mifex_offers_client business\", \"also sell\", \"sell product\", \"high school\", \"need loan\", \"sell clothing\", \"farmer also\", \"child age\", \"receive loan\", \"give loan\", \"business help\", \"child child\", \"operate business\", \"begin business\", \"go school\", \"loan help\", \"attend school\", \"loan intend\", \"provide family\", \"year experience\", \"loan group\", \"loan invest\", \"loan loan\", \"person group\", \"loan enable\", \"risk_willing_accept_additional risk_making\", \"may_represent_higher_default risk_willing_accept_additional\", \"pay loan\", \"many local_businesses_lender\", \"loan may_represent_higher_default\", \"risk_making loan\", \"local_businesses_lender loan\", \"loan usd\", \"communities_remains_unsettled_affecte many\", \"able provide\", \"child primary\", \"fee child\", \"loan month\", \"plan use\", \"run small\", \"high demand\", \"grow business\", \"child also\", \"live husband\", \"buy new\", \"loan together\"], \"y\": [400, 192, 181, 173, 169, 156, 145, 140, 107, 104, 97, 97, 91, 89, 89, 78, 78, 70, 65, 64, 63, 62, 59, 59, 58, 58, 58, 57, 57, 57, 53, 52, 52, 51, 51, 49, 49, 49, 47, 47, 47, 46, 46, 46, 46, 46, 45, 44, 44, 44, 44, 44, 44, 43, 43, 42, 42, 41, 41, 41, 40, 40, 40, 40, 39, 39, 39, 38, 38, 37, 37, 37, 35, 34, 34, 33, 33, 32, 32, 32, 32, 32, 32, 32, 32, 32, 32, 32, 31, 31, 31, 30, 29, 29, 28, 28, 28, 28, 27, 27]}],\n",
       "                        {\"legend\": {\"bgcolor\": \"#F5F6F9\", \"font\": {\"color\": \"#4D5663\"}}, \"paper_bgcolor\": \"#F5F6F9\", \"plot_bgcolor\": \"#F5F6F9\", \"template\": {\"data\": {\"bar\": [{\"error_x\": {\"color\": \"#2a3f5f\"}, \"error_y\": {\"color\": \"#2a3f5f\"}, \"marker\": {\"line\": {\"color\": \"#E5ECF6\", \"width\": 0.5}}, \"type\": \"bar\"}], \"barpolar\": [{\"marker\": {\"line\": {\"color\": \"#E5ECF6\", \"width\": 0.5}}, \"type\": \"barpolar\"}], \"carpet\": [{\"aaxis\": {\"endlinecolor\": \"#2a3f5f\", \"gridcolor\": \"white\", \"linecolor\": \"white\", \"minorgridcolor\": \"white\", \"startlinecolor\": \"#2a3f5f\"}, \"baxis\": {\"endlinecolor\": \"#2a3f5f\", \"gridcolor\": \"white\", \"linecolor\": \"white\", \"minorgridcolor\": \"white\", \"startlinecolor\": \"#2a3f5f\"}, \"type\": \"carpet\"}], \"choropleth\": [{\"colorbar\": {\"outlinewidth\": 0, \"ticks\": \"\"}, \"type\": \"choropleth\"}], \"contour\": [{\"colorbar\": {\"outlinewidth\": 0, \"ticks\": \"\"}, \"colorscale\": [[0.0, \"#0d0887\"], [0.1111111111111111, \"#46039f\"], [0.2222222222222222, \"#7201a8\"], [0.3333333333333333, \"#9c179e\"], [0.4444444444444444, \"#bd3786\"], [0.5555555555555556, \"#d8576b\"], [0.6666666666666666, \"#ed7953\"], [0.7777777777777778, \"#fb9f3a\"], [0.8888888888888888, \"#fdca26\"], [1.0, \"#f0f921\"]], \"type\": \"contour\"}], \"contourcarpet\": [{\"colorbar\": {\"outlinewidth\": 0, \"ticks\": \"\"}, \"type\": \"contourcarpet\"}], \"heatmap\": [{\"colorbar\": {\"outlinewidth\": 0, \"ticks\": \"\"}, \"colorscale\": [[0.0, \"#0d0887\"], [0.1111111111111111, \"#46039f\"], [0.2222222222222222, \"#7201a8\"], [0.3333333333333333, \"#9c179e\"], [0.4444444444444444, \"#bd3786\"], [0.5555555555555556, \"#d8576b\"], [0.6666666666666666, \"#ed7953\"], [0.7777777777777778, \"#fb9f3a\"], [0.8888888888888888, \"#fdca26\"], [1.0, \"#f0f921\"]], \"type\": \"heatmap\"}], \"heatmapgl\": [{\"colorbar\": {\"outlinewidth\": 0, \"ticks\": \"\"}, \"colorscale\": [[0.0, \"#0d0887\"], [0.1111111111111111, \"#46039f\"], [0.2222222222222222, \"#7201a8\"], [0.3333333333333333, \"#9c179e\"], [0.4444444444444444, \"#bd3786\"], [0.5555555555555556, \"#d8576b\"], [0.6666666666666666, \"#ed7953\"], [0.7777777777777778, \"#fb9f3a\"], [0.8888888888888888, \"#fdca26\"], [1.0, \"#f0f921\"]], \"type\": \"heatmapgl\"}], \"histogram\": [{\"marker\": {\"colorbar\": {\"outlinewidth\": 0, \"ticks\": \"\"}}, \"type\": \"histogram\"}], \"histogram2d\": [{\"colorbar\": {\"outlinewidth\": 0, \"ticks\": \"\"}, \"colorscale\": [[0.0, \"#0d0887\"], [0.1111111111111111, \"#46039f\"], [0.2222222222222222, \"#7201a8\"], [0.3333333333333333, \"#9c179e\"], [0.4444444444444444, \"#bd3786\"], [0.5555555555555556, \"#d8576b\"], [0.6666666666666666, \"#ed7953\"], [0.7777777777777778, \"#fb9f3a\"], [0.8888888888888888, \"#fdca26\"], [1.0, \"#f0f921\"]], \"type\": \"histogram2d\"}], \"histogram2dcontour\": [{\"colorbar\": {\"outlinewidth\": 0, \"ticks\": \"\"}, \"colorscale\": [[0.0, \"#0d0887\"], [0.1111111111111111, \"#46039f\"], [0.2222222222222222, \"#7201a8\"], [0.3333333333333333, \"#9c179e\"], [0.4444444444444444, \"#bd3786\"], [0.5555555555555556, \"#d8576b\"], [0.6666666666666666, \"#ed7953\"], [0.7777777777777778, \"#fb9f3a\"], [0.8888888888888888, \"#fdca26\"], [1.0, \"#f0f921\"]], \"type\": \"histogram2dcontour\"}], \"mesh3d\": [{\"colorbar\": {\"outlinewidth\": 0, \"ticks\": \"\"}, \"type\": \"mesh3d\"}], \"parcoords\": [{\"line\": {\"colorbar\": {\"outlinewidth\": 0, \"ticks\": \"\"}}, \"type\": \"parcoords\"}], \"pie\": [{\"automargin\": true, \"type\": \"pie\"}], \"scatter\": [{\"marker\": {\"colorbar\": {\"outlinewidth\": 0, \"ticks\": \"\"}}, \"type\": \"scatter\"}], \"scatter3d\": [{\"line\": {\"colorbar\": {\"outlinewidth\": 0, \"ticks\": \"\"}}, \"marker\": {\"colorbar\": {\"outlinewidth\": 0, \"ticks\": \"\"}}, \"type\": \"scatter3d\"}], \"scattercarpet\": [{\"marker\": {\"colorbar\": {\"outlinewidth\": 0, \"ticks\": \"\"}}, \"type\": \"scattercarpet\"}], \"scattergeo\": [{\"marker\": {\"colorbar\": {\"outlinewidth\": 0, \"ticks\": \"\"}}, \"type\": \"scattergeo\"}], \"scattergl\": [{\"marker\": {\"colorbar\": {\"outlinewidth\": 0, \"ticks\": \"\"}}, \"type\": \"scattergl\"}], \"scattermapbox\": [{\"marker\": {\"colorbar\": {\"outlinewidth\": 0, \"ticks\": \"\"}}, \"type\": \"scattermapbox\"}], \"scatterpolar\": [{\"marker\": {\"colorbar\": {\"outlinewidth\": 0, \"ticks\": \"\"}}, \"type\": \"scatterpolar\"}], \"scatterpolargl\": [{\"marker\": {\"colorbar\": {\"outlinewidth\": 0, \"ticks\": \"\"}}, \"type\": \"scatterpolargl\"}], \"scatterternary\": [{\"marker\": {\"colorbar\": {\"outlinewidth\": 0, \"ticks\": \"\"}}, \"type\": \"scatterternary\"}], \"surface\": [{\"colorbar\": {\"outlinewidth\": 0, \"ticks\": \"\"}, \"colorscale\": [[0.0, \"#0d0887\"], [0.1111111111111111, \"#46039f\"], [0.2222222222222222, \"#7201a8\"], [0.3333333333333333, \"#9c179e\"], [0.4444444444444444, \"#bd3786\"], [0.5555555555555556, \"#d8576b\"], [0.6666666666666666, \"#ed7953\"], [0.7777777777777778, \"#fb9f3a\"], [0.8888888888888888, \"#fdca26\"], [1.0, \"#f0f921\"]], \"type\": \"surface\"}], \"table\": [{\"cells\": {\"fill\": {\"color\": \"#EBF0F8\"}, \"line\": {\"color\": \"white\"}}, \"header\": {\"fill\": {\"color\": \"#C8D4E3\"}, \"line\": {\"color\": \"white\"}}, \"type\": \"table\"}]}, \"layout\": {\"annotationdefaults\": {\"arrowcolor\": \"#2a3f5f\", \"arrowhead\": 0, \"arrowwidth\": 1}, \"coloraxis\": {\"colorbar\": {\"outlinewidth\": 0, \"ticks\": \"\"}}, \"colorscale\": {\"diverging\": [[0, \"#8e0152\"], [0.1, \"#c51b7d\"], [0.2, \"#de77ae\"], [0.3, \"#f1b6da\"], [0.4, \"#fde0ef\"], [0.5, \"#f7f7f7\"], [0.6, \"#e6f5d0\"], [0.7, \"#b8e186\"], [0.8, \"#7fbc41\"], [0.9, \"#4d9221\"], [1, \"#276419\"]], \"sequential\": [[0.0, \"#0d0887\"], [0.1111111111111111, \"#46039f\"], [0.2222222222222222, \"#7201a8\"], [0.3333333333333333, \"#9c179e\"], [0.4444444444444444, \"#bd3786\"], [0.5555555555555556, \"#d8576b\"], [0.6666666666666666, \"#ed7953\"], [0.7777777777777778, \"#fb9f3a\"], [0.8888888888888888, \"#fdca26\"], [1.0, \"#f0f921\"]], \"sequentialminus\": [[0.0, \"#0d0887\"], [0.1111111111111111, \"#46039f\"], [0.2222222222222222, \"#7201a8\"], [0.3333333333333333, \"#9c179e\"], [0.4444444444444444, \"#bd3786\"], [0.5555555555555556, \"#d8576b\"], [0.6666666666666666, \"#ed7953\"], [0.7777777777777778, \"#fb9f3a\"], [0.8888888888888888, \"#fdca26\"], [1.0, \"#f0f921\"]]}, \"colorway\": [\"#636efa\", \"#EF553B\", \"#00cc96\", \"#ab63fa\", \"#FFA15A\", \"#19d3f3\", \"#FF6692\", \"#B6E880\", \"#FF97FF\", \"#FECB52\"], \"font\": {\"color\": \"#2a3f5f\"}, \"geo\": {\"bgcolor\": \"white\", \"lakecolor\": \"white\", \"landcolor\": \"#E5ECF6\", \"showlakes\": true, \"showland\": true, \"subunitcolor\": \"white\"}, \"hoverlabel\": {\"align\": \"left\"}, \"hovermode\": \"closest\", \"mapbox\": {\"style\": \"light\"}, \"paper_bgcolor\": \"white\", \"plot_bgcolor\": \"#E5ECF6\", \"polar\": {\"angularaxis\": {\"gridcolor\": \"white\", \"linecolor\": \"white\", \"ticks\": \"\"}, \"bgcolor\": \"#E5ECF6\", \"radialaxis\": {\"gridcolor\": \"white\", \"linecolor\": \"white\", \"ticks\": \"\"}}, \"scene\": {\"xaxis\": {\"backgroundcolor\": \"#E5ECF6\", \"gridcolor\": \"white\", \"gridwidth\": 2, \"linecolor\": \"white\", \"showbackground\": true, \"ticks\": \"\", \"zerolinecolor\": \"white\"}, \"yaxis\": {\"backgroundcolor\": \"#E5ECF6\", \"gridcolor\": \"white\", \"gridwidth\": 2, \"linecolor\": \"white\", \"showbackground\": true, \"ticks\": \"\", \"zerolinecolor\": \"white\"}, \"zaxis\": {\"backgroundcolor\": \"#E5ECF6\", \"gridcolor\": \"white\", \"gridwidth\": 2, \"linecolor\": \"white\", \"showbackground\": true, \"ticks\": \"\", \"zerolinecolor\": \"white\"}}, \"shapedefaults\": {\"line\": {\"color\": \"#2a3f5f\"}}, \"ternary\": {\"aaxis\": {\"gridcolor\": \"white\", \"linecolor\": \"white\", \"ticks\": \"\"}, \"baxis\": {\"gridcolor\": \"white\", \"linecolor\": \"white\", \"ticks\": \"\"}, \"bgcolor\": \"#E5ECF6\", \"caxis\": {\"gridcolor\": \"white\", \"linecolor\": \"white\", \"ticks\": \"\"}}, \"title\": {\"x\": 0.05}, \"xaxis\": {\"automargin\": true, \"gridcolor\": \"white\", \"linecolor\": \"white\", \"ticks\": \"\", \"title\": {\"standoff\": 15}, \"zerolinecolor\": \"white\", \"zerolinewidth\": 2}, \"yaxis\": {\"automargin\": true, \"gridcolor\": \"white\", \"linecolor\": \"white\", \"ticks\": \"\", \"title\": {\"standoff\": 15}, \"zerolinecolor\": \"white\", \"zerolinewidth\": 2}}}, \"title\": {\"font\": {\"color\": \"#4D5663\"}, \"text\": \"Top 100 bigrams after removing stop words\"}, \"xaxis\": {\"gridcolor\": \"#E1E5ED\", \"linecolor\": \"black\", \"showgrid\": true, \"tickfont\": {\"color\": \"#4D5663\"}, \"title\": {\"font\": {\"color\": \"#4D5663\"}, \"text\": \"\"}, \"zerolinecolor\": \"#E1E5ED\"}, \"yaxis\": {\"gridcolor\": \"#E1E5ED\", \"linecolor\": \"black\", \"showgrid\": true, \"tickfont\": {\"color\": \"#4D5663\"}, \"title\": {\"font\": {\"color\": \"#4D5663\"}, \"text\": \"Count\"}, \"zerolinecolor\": \"#E1E5ED\"}},\n",
       "                        {\"showLink\": true, \"linkText\": \"Export to plot.ly\", \"plotlyServerURL\": \"https://plot.ly\", \"responsive\": true}\n",
       "                    ).then(function(){\n",
       "                            \n",
       "var gd = document.getElementById('c0a29791-8b96-4b73-a8ab-1923621793ee');\n",
       "var x = new MutationObserver(function (mutations, observer) {{\n",
       "        var display = window.getComputedStyle(gd).display;\n",
       "        if (!display || display === 'none') {{\n",
       "            console.log([gd, 'removed!']);\n",
       "            Plotly.purge(gd);\n",
       "            observer.disconnect();\n",
       "        }}\n",
       "}});\n",
       "\n",
       "// Listen for the removal of the full notebook cells\n",
       "var notebookContainer = gd.closest('#notebook-container');\n",
       "if (notebookContainer) {{\n",
       "    x.observe(notebookContainer, {childList: true});\n",
       "}}\n",
       "\n",
       "// Listen for the clearing of the current output cell\n",
       "var outputEl = gd.closest('.output');\n",
       "if (outputEl) {{\n",
       "    x.observe(outputEl, {childList: true});\n",
       "}}\n",
       "\n",
       "                        })\n",
       "                };\n",
       "                });\n",
       "            </script>\n",
       "        </div>"
      ]
     },
     "metadata": {},
     "output_type": "display_data"
    }
   ],
   "source": [
    "plot_model(plot='bigram')"
   ]
  },
  {
   "cell_type": "code",
   "execution_count": 12,
   "metadata": {},
   "outputs": [
    {
     "data": {
      "text/html": [
       "        <script type=\"text/javascript\">\n",
       "        window.PlotlyConfig = {MathJaxConfig: 'local'};\n",
       "        if (window.MathJax) {MathJax.Hub.Config({SVG: {font: \"STIX-Web\"}});}\n",
       "        if (typeof require !== 'undefined') {\n",
       "        require.undef(\"plotly\");\n",
       "        requirejs.config({\n",
       "            paths: {\n",
       "                'plotly': ['https://cdn.plot.ly/plotly-latest.min']\n",
       "            }\n",
       "        });\n",
       "        require(['plotly'], function(Plotly) {\n",
       "            window._Plotly = Plotly;\n",
       "        });\n",
       "        }\n",
       "        </script>\n",
       "        "
      ]
     },
     "metadata": {},
     "output_type": "display_data"
    },
    {
     "data": {
      "application/vnd.plotly.v1+json": {
       "config": {
        "linkText": "Export to plot.ly",
        "plotlyServerURL": "https://plot.ly",
        "showLink": true
       },
       "data": [
        {
         "marker": {
          "color": "rgba(255, 153, 51, 0.6)",
          "line": {
           "color": "rgba(255, 153, 51, 1.0)",
           "width": 1
          }
         },
         "name": "count",
         "orientation": "v",
         "text": "",
         "type": "bar",
         "x": [
          "business",
          "loan",
          "sell",
          "year",
          "child",
          "buy",
          "work",
          "make",
          "product",
          "old",
          "help",
          "use",
          "family",
          "husband",
          "start",
          "home",
          "also",
          "live",
          "well",
          "small",
          "able",
          "hope",
          "customer",
          "community",
          "store",
          "purchase",
          "school",
          "good",
          "order",
          "new",
          "woman",
          "clothing",
          "increase",
          "need",
          "want",
          "income",
          "entrepreneur",
          "group",
          "people",
          "improve",
          "time",
          "money",
          "provide",
          "client",
          "first",
          "invest",
          "request",
          "grow",
          "life",
          "item",
          "continue",
          "support",
          "food",
          "go",
          "hard",
          "sale",
          "run",
          "house",
          "ago",
          "take",
          "clothe",
          "expand",
          "mother",
          "day",
          "offer",
          "give",
          "say",
          "education",
          "son",
          "receive",
          "plan",
          "member",
          "merchandise",
          "begin",
          "large",
          "marry",
          "shop",
          "profit",
          "allow",
          "open",
          "second",
          "currently",
          "get",
          "capital",
          "many",
          "keep",
          "wife",
          "shoe",
          "stock",
          "operate",
          "experience",
          "great",
          "goal",
          "young",
          "market",
          "age",
          "area",
          "supply",
          "attend",
          "would"
         ],
         "y": [
          1155,
          959,
          773,
          638,
          583,
          423,
          421,
          351,
          341,
          340,
          330,
          322,
          312,
          310,
          287,
          271,
          270,
          266,
          264,
          261,
          257,
          222,
          219,
          213,
          211,
          209,
          207,
          204,
          203,
          198,
          189,
          188,
          180,
          169,
          163,
          161,
          160,
          154,
          146,
          145,
          142,
          142,
          139,
          137,
          136,
          135,
          133,
          129,
          127,
          125,
          123,
          122,
          122,
          120,
          118,
          118,
          118,
          117,
          115,
          115,
          112,
          112,
          110,
          104,
          103,
          102,
          101,
          98,
          98,
          98,
          97,
          93,
          93,
          91,
          90,
          90,
          90,
          85,
          85,
          85,
          84,
          82,
          82,
          82,
          81,
          81,
          80,
          79,
          79,
          76,
          74,
          71,
          71,
          70,
          69,
          69,
          68,
          67,
          67,
          67
         ]
        }
       ],
       "layout": {
        "legend": {
         "bgcolor": "#F5F6F9",
         "font": {
          "color": "#4D5663"
         }
        },
        "paper_bgcolor": "#F5F6F9",
        "plot_bgcolor": "#F5F6F9",
        "template": {
         "data": {
          "bar": [
           {
            "error_x": {
             "color": "#2a3f5f"
            },
            "error_y": {
             "color": "#2a3f5f"
            },
            "marker": {
             "line": {
              "color": "#E5ECF6",
              "width": 0.5
             }
            },
            "type": "bar"
           }
          ],
          "barpolar": [
           {
            "marker": {
             "line": {
              "color": "#E5ECF6",
              "width": 0.5
             }
            },
            "type": "barpolar"
           }
          ],
          "carpet": [
           {
            "aaxis": {
             "endlinecolor": "#2a3f5f",
             "gridcolor": "white",
             "linecolor": "white",
             "minorgridcolor": "white",
             "startlinecolor": "#2a3f5f"
            },
            "baxis": {
             "endlinecolor": "#2a3f5f",
             "gridcolor": "white",
             "linecolor": "white",
             "minorgridcolor": "white",
             "startlinecolor": "#2a3f5f"
            },
            "type": "carpet"
           }
          ],
          "choropleth": [
           {
            "colorbar": {
             "outlinewidth": 0,
             "ticks": ""
            },
            "type": "choropleth"
           }
          ],
          "contour": [
           {
            "colorbar": {
             "outlinewidth": 0,
             "ticks": ""
            },
            "colorscale": [
             [
              0,
              "#0d0887"
             ],
             [
              0.1111111111111111,
              "#46039f"
             ],
             [
              0.2222222222222222,
              "#7201a8"
             ],
             [
              0.3333333333333333,
              "#9c179e"
             ],
             [
              0.4444444444444444,
              "#bd3786"
             ],
             [
              0.5555555555555556,
              "#d8576b"
             ],
             [
              0.6666666666666666,
              "#ed7953"
             ],
             [
              0.7777777777777778,
              "#fb9f3a"
             ],
             [
              0.8888888888888888,
              "#fdca26"
             ],
             [
              1,
              "#f0f921"
             ]
            ],
            "type": "contour"
           }
          ],
          "contourcarpet": [
           {
            "colorbar": {
             "outlinewidth": 0,
             "ticks": ""
            },
            "type": "contourcarpet"
           }
          ],
          "heatmap": [
           {
            "colorbar": {
             "outlinewidth": 0,
             "ticks": ""
            },
            "colorscale": [
             [
              0,
              "#0d0887"
             ],
             [
              0.1111111111111111,
              "#46039f"
             ],
             [
              0.2222222222222222,
              "#7201a8"
             ],
             [
              0.3333333333333333,
              "#9c179e"
             ],
             [
              0.4444444444444444,
              "#bd3786"
             ],
             [
              0.5555555555555556,
              "#d8576b"
             ],
             [
              0.6666666666666666,
              "#ed7953"
             ],
             [
              0.7777777777777778,
              "#fb9f3a"
             ],
             [
              0.8888888888888888,
              "#fdca26"
             ],
             [
              1,
              "#f0f921"
             ]
            ],
            "type": "heatmap"
           }
          ],
          "heatmapgl": [
           {
            "colorbar": {
             "outlinewidth": 0,
             "ticks": ""
            },
            "colorscale": [
             [
              0,
              "#0d0887"
             ],
             [
              0.1111111111111111,
              "#46039f"
             ],
             [
              0.2222222222222222,
              "#7201a8"
             ],
             [
              0.3333333333333333,
              "#9c179e"
             ],
             [
              0.4444444444444444,
              "#bd3786"
             ],
             [
              0.5555555555555556,
              "#d8576b"
             ],
             [
              0.6666666666666666,
              "#ed7953"
             ],
             [
              0.7777777777777778,
              "#fb9f3a"
             ],
             [
              0.8888888888888888,
              "#fdca26"
             ],
             [
              1,
              "#f0f921"
             ]
            ],
            "type": "heatmapgl"
           }
          ],
          "histogram": [
           {
            "marker": {
             "colorbar": {
              "outlinewidth": 0,
              "ticks": ""
             }
            },
            "type": "histogram"
           }
          ],
          "histogram2d": [
           {
            "colorbar": {
             "outlinewidth": 0,
             "ticks": ""
            },
            "colorscale": [
             [
              0,
              "#0d0887"
             ],
             [
              0.1111111111111111,
              "#46039f"
             ],
             [
              0.2222222222222222,
              "#7201a8"
             ],
             [
              0.3333333333333333,
              "#9c179e"
             ],
             [
              0.4444444444444444,
              "#bd3786"
             ],
             [
              0.5555555555555556,
              "#d8576b"
             ],
             [
              0.6666666666666666,
              "#ed7953"
             ],
             [
              0.7777777777777778,
              "#fb9f3a"
             ],
             [
              0.8888888888888888,
              "#fdca26"
             ],
             [
              1,
              "#f0f921"
             ]
            ],
            "type": "histogram2d"
           }
          ],
          "histogram2dcontour": [
           {
            "colorbar": {
             "outlinewidth": 0,
             "ticks": ""
            },
            "colorscale": [
             [
              0,
              "#0d0887"
             ],
             [
              0.1111111111111111,
              "#46039f"
             ],
             [
              0.2222222222222222,
              "#7201a8"
             ],
             [
              0.3333333333333333,
              "#9c179e"
             ],
             [
              0.4444444444444444,
              "#bd3786"
             ],
             [
              0.5555555555555556,
              "#d8576b"
             ],
             [
              0.6666666666666666,
              "#ed7953"
             ],
             [
              0.7777777777777778,
              "#fb9f3a"
             ],
             [
              0.8888888888888888,
              "#fdca26"
             ],
             [
              1,
              "#f0f921"
             ]
            ],
            "type": "histogram2dcontour"
           }
          ],
          "mesh3d": [
           {
            "colorbar": {
             "outlinewidth": 0,
             "ticks": ""
            },
            "type": "mesh3d"
           }
          ],
          "parcoords": [
           {
            "line": {
             "colorbar": {
              "outlinewidth": 0,
              "ticks": ""
             }
            },
            "type": "parcoords"
           }
          ],
          "pie": [
           {
            "automargin": true,
            "type": "pie"
           }
          ],
          "scatter": [
           {
            "marker": {
             "colorbar": {
              "outlinewidth": 0,
              "ticks": ""
             }
            },
            "type": "scatter"
           }
          ],
          "scatter3d": [
           {
            "line": {
             "colorbar": {
              "outlinewidth": 0,
              "ticks": ""
             }
            },
            "marker": {
             "colorbar": {
              "outlinewidth": 0,
              "ticks": ""
             }
            },
            "type": "scatter3d"
           }
          ],
          "scattercarpet": [
           {
            "marker": {
             "colorbar": {
              "outlinewidth": 0,
              "ticks": ""
             }
            },
            "type": "scattercarpet"
           }
          ],
          "scattergeo": [
           {
            "marker": {
             "colorbar": {
              "outlinewidth": 0,
              "ticks": ""
             }
            },
            "type": "scattergeo"
           }
          ],
          "scattergl": [
           {
            "marker": {
             "colorbar": {
              "outlinewidth": 0,
              "ticks": ""
             }
            },
            "type": "scattergl"
           }
          ],
          "scattermapbox": [
           {
            "marker": {
             "colorbar": {
              "outlinewidth": 0,
              "ticks": ""
             }
            },
            "type": "scattermapbox"
           }
          ],
          "scatterpolar": [
           {
            "marker": {
             "colorbar": {
              "outlinewidth": 0,
              "ticks": ""
             }
            },
            "type": "scatterpolar"
           }
          ],
          "scatterpolargl": [
           {
            "marker": {
             "colorbar": {
              "outlinewidth": 0,
              "ticks": ""
             }
            },
            "type": "scatterpolargl"
           }
          ],
          "scatterternary": [
           {
            "marker": {
             "colorbar": {
              "outlinewidth": 0,
              "ticks": ""
             }
            },
            "type": "scatterternary"
           }
          ],
          "surface": [
           {
            "colorbar": {
             "outlinewidth": 0,
             "ticks": ""
            },
            "colorscale": [
             [
              0,
              "#0d0887"
             ],
             [
              0.1111111111111111,
              "#46039f"
             ],
             [
              0.2222222222222222,
              "#7201a8"
             ],
             [
              0.3333333333333333,
              "#9c179e"
             ],
             [
              0.4444444444444444,
              "#bd3786"
             ],
             [
              0.5555555555555556,
              "#d8576b"
             ],
             [
              0.6666666666666666,
              "#ed7953"
             ],
             [
              0.7777777777777778,
              "#fb9f3a"
             ],
             [
              0.8888888888888888,
              "#fdca26"
             ],
             [
              1,
              "#f0f921"
             ]
            ],
            "type": "surface"
           }
          ],
          "table": [
           {
            "cells": {
             "fill": {
              "color": "#EBF0F8"
             },
             "line": {
              "color": "white"
             }
            },
            "header": {
             "fill": {
              "color": "#C8D4E3"
             },
             "line": {
              "color": "white"
             }
            },
            "type": "table"
           }
          ]
         },
         "layout": {
          "annotationdefaults": {
           "arrowcolor": "#2a3f5f",
           "arrowhead": 0,
           "arrowwidth": 1
          },
          "coloraxis": {
           "colorbar": {
            "outlinewidth": 0,
            "ticks": ""
           }
          },
          "colorscale": {
           "diverging": [
            [
             0,
             "#8e0152"
            ],
            [
             0.1,
             "#c51b7d"
            ],
            [
             0.2,
             "#de77ae"
            ],
            [
             0.3,
             "#f1b6da"
            ],
            [
             0.4,
             "#fde0ef"
            ],
            [
             0.5,
             "#f7f7f7"
            ],
            [
             0.6,
             "#e6f5d0"
            ],
            [
             0.7,
             "#b8e186"
            ],
            [
             0.8,
             "#7fbc41"
            ],
            [
             0.9,
             "#4d9221"
            ],
            [
             1,
             "#276419"
            ]
           ],
           "sequential": [
            [
             0,
             "#0d0887"
            ],
            [
             0.1111111111111111,
             "#46039f"
            ],
            [
             0.2222222222222222,
             "#7201a8"
            ],
            [
             0.3333333333333333,
             "#9c179e"
            ],
            [
             0.4444444444444444,
             "#bd3786"
            ],
            [
             0.5555555555555556,
             "#d8576b"
            ],
            [
             0.6666666666666666,
             "#ed7953"
            ],
            [
             0.7777777777777778,
             "#fb9f3a"
            ],
            [
             0.8888888888888888,
             "#fdca26"
            ],
            [
             1,
             "#f0f921"
            ]
           ],
           "sequentialminus": [
            [
             0,
             "#0d0887"
            ],
            [
             0.1111111111111111,
             "#46039f"
            ],
            [
             0.2222222222222222,
             "#7201a8"
            ],
            [
             0.3333333333333333,
             "#9c179e"
            ],
            [
             0.4444444444444444,
             "#bd3786"
            ],
            [
             0.5555555555555556,
             "#d8576b"
            ],
            [
             0.6666666666666666,
             "#ed7953"
            ],
            [
             0.7777777777777778,
             "#fb9f3a"
            ],
            [
             0.8888888888888888,
             "#fdca26"
            ],
            [
             1,
             "#f0f921"
            ]
           ]
          },
          "colorway": [
           "#636efa",
           "#EF553B",
           "#00cc96",
           "#ab63fa",
           "#FFA15A",
           "#19d3f3",
           "#FF6692",
           "#B6E880",
           "#FF97FF",
           "#FECB52"
          ],
          "font": {
           "color": "#2a3f5f"
          },
          "geo": {
           "bgcolor": "white",
           "lakecolor": "white",
           "landcolor": "#E5ECF6",
           "showlakes": true,
           "showland": true,
           "subunitcolor": "white"
          },
          "hoverlabel": {
           "align": "left"
          },
          "hovermode": "closest",
          "mapbox": {
           "style": "light"
          },
          "paper_bgcolor": "white",
          "plot_bgcolor": "#E5ECF6",
          "polar": {
           "angularaxis": {
            "gridcolor": "white",
            "linecolor": "white",
            "ticks": ""
           },
           "bgcolor": "#E5ECF6",
           "radialaxis": {
            "gridcolor": "white",
            "linecolor": "white",
            "ticks": ""
           }
          },
          "scene": {
           "xaxis": {
            "backgroundcolor": "#E5ECF6",
            "gridcolor": "white",
            "gridwidth": 2,
            "linecolor": "white",
            "showbackground": true,
            "ticks": "",
            "zerolinecolor": "white"
           },
           "yaxis": {
            "backgroundcolor": "#E5ECF6",
            "gridcolor": "white",
            "gridwidth": 2,
            "linecolor": "white",
            "showbackground": true,
            "ticks": "",
            "zerolinecolor": "white"
           },
           "zaxis": {
            "backgroundcolor": "#E5ECF6",
            "gridcolor": "white",
            "gridwidth": 2,
            "linecolor": "white",
            "showbackground": true,
            "ticks": "",
            "zerolinecolor": "white"
           }
          },
          "shapedefaults": {
           "line": {
            "color": "#2a3f5f"
           }
          },
          "ternary": {
           "aaxis": {
            "gridcolor": "white",
            "linecolor": "white",
            "ticks": ""
           },
           "baxis": {
            "gridcolor": "white",
            "linecolor": "white",
            "ticks": ""
           },
           "bgcolor": "#E5ECF6",
           "caxis": {
            "gridcolor": "white",
            "linecolor": "white",
            "ticks": ""
           }
          },
          "title": {
           "x": 0.05
          },
          "xaxis": {
           "automargin": true,
           "gridcolor": "white",
           "linecolor": "white",
           "ticks": "",
           "title": {
            "standoff": 15
           },
           "zerolinecolor": "white",
           "zerolinewidth": 2
          },
          "yaxis": {
           "automargin": true,
           "gridcolor": "white",
           "linecolor": "white",
           "ticks": "",
           "title": {
            "standoff": 15
           },
           "zerolinecolor": "white",
           "zerolinewidth": 2
          }
         }
        },
        "title": {
         "font": {
          "color": "#4D5663"
         },
         "text": "Topic 1: Top 100 words after removing stop words"
        },
        "xaxis": {
         "gridcolor": "#E1E5ED",
         "linecolor": "black",
         "showgrid": true,
         "tickfont": {
          "color": "#4D5663"
         },
         "title": {
          "font": {
           "color": "#4D5663"
          },
          "text": ""
         },
         "zerolinecolor": "#E1E5ED"
        },
        "yaxis": {
         "gridcolor": "#E1E5ED",
         "linecolor": "black",
         "showgrid": true,
         "tickfont": {
          "color": "#4D5663"
         },
         "title": {
          "font": {
           "color": "#4D5663"
          },
          "text": "Count"
         },
         "zerolinecolor": "#E1E5ED"
        }
       }
      },
      "text/html": [
       "<div>\n",
       "        \n",
       "        \n",
       "            <div id=\"41fff5f2-dcdf-4065-a154-eee07e7a203c\" class=\"plotly-graph-div\" style=\"height:525px; width:100%;\"></div>\n",
       "            <script type=\"text/javascript\">\n",
       "                require([\"plotly\"], function(Plotly) {\n",
       "                    window.PLOTLYENV=window.PLOTLYENV || {};\n",
       "                    window.PLOTLYENV.BASE_URL='https://plot.ly';\n",
       "                    \n",
       "                if (document.getElementById(\"41fff5f2-dcdf-4065-a154-eee07e7a203c\")) {\n",
       "                    Plotly.newPlot(\n",
       "                        '41fff5f2-dcdf-4065-a154-eee07e7a203c',\n",
       "                        [{\"marker\": {\"color\": \"rgba(255, 153, 51, 0.6)\", \"line\": {\"color\": \"rgba(255, 153, 51, 1.0)\", \"width\": 1}}, \"name\": \"count\", \"orientation\": \"v\", \"text\": \"\", \"type\": \"bar\", \"x\": [\"business\", \"loan\", \"sell\", \"year\", \"child\", \"buy\", \"work\", \"make\", \"product\", \"old\", \"help\", \"use\", \"family\", \"husband\", \"start\", \"home\", \"also\", \"live\", \"well\", \"small\", \"able\", \"hope\", \"customer\", \"community\", \"store\", \"purchase\", \"school\", \"good\", \"order\", \"new\", \"woman\", \"clothing\", \"increase\", \"need\", \"want\", \"income\", \"entrepreneur\", \"group\", \"people\", \"improve\", \"time\", \"money\", \"provide\", \"client\", \"first\", \"invest\", \"request\", \"grow\", \"life\", \"item\", \"continue\", \"support\", \"food\", \"go\", \"hard\", \"sale\", \"run\", \"house\", \"ago\", \"take\", \"clothe\", \"expand\", \"mother\", \"day\", \"offer\", \"give\", \"say\", \"education\", \"son\", \"receive\", \"plan\", \"member\", \"merchandise\", \"begin\", \"large\", \"marry\", \"shop\", \"profit\", \"allow\", \"open\", \"second\", \"currently\", \"get\", \"capital\", \"many\", \"keep\", \"wife\", \"shoe\", \"stock\", \"operate\", \"experience\", \"great\", \"goal\", \"young\", \"market\", \"age\", \"area\", \"supply\", \"attend\", \"would\"], \"y\": [1155, 959, 773, 638, 583, 423, 421, 351, 341, 340, 330, 322, 312, 310, 287, 271, 270, 266, 264, 261, 257, 222, 219, 213, 211, 209, 207, 204, 203, 198, 189, 188, 180, 169, 163, 161, 160, 154, 146, 145, 142, 142, 139, 137, 136, 135, 133, 129, 127, 125, 123, 122, 122, 120, 118, 118, 118, 117, 115, 115, 112, 112, 110, 104, 103, 102, 101, 98, 98, 98, 97, 93, 93, 91, 90, 90, 90, 85, 85, 85, 84, 82, 82, 82, 81, 81, 80, 79, 79, 76, 74, 71, 71, 70, 69, 69, 68, 67, 67, 67]}],\n",
       "                        {\"legend\": {\"bgcolor\": \"#F5F6F9\", \"font\": {\"color\": \"#4D5663\"}}, \"paper_bgcolor\": \"#F5F6F9\", \"plot_bgcolor\": \"#F5F6F9\", \"template\": {\"data\": {\"bar\": [{\"error_x\": {\"color\": \"#2a3f5f\"}, \"error_y\": {\"color\": \"#2a3f5f\"}, \"marker\": {\"line\": {\"color\": \"#E5ECF6\", \"width\": 0.5}}, \"type\": \"bar\"}], \"barpolar\": [{\"marker\": {\"line\": {\"color\": \"#E5ECF6\", \"width\": 0.5}}, \"type\": \"barpolar\"}], \"carpet\": [{\"aaxis\": {\"endlinecolor\": \"#2a3f5f\", \"gridcolor\": \"white\", \"linecolor\": \"white\", \"minorgridcolor\": \"white\", \"startlinecolor\": \"#2a3f5f\"}, \"baxis\": {\"endlinecolor\": \"#2a3f5f\", \"gridcolor\": \"white\", \"linecolor\": \"white\", \"minorgridcolor\": \"white\", \"startlinecolor\": \"#2a3f5f\"}, \"type\": \"carpet\"}], \"choropleth\": [{\"colorbar\": {\"outlinewidth\": 0, \"ticks\": \"\"}, \"type\": \"choropleth\"}], \"contour\": [{\"colorbar\": {\"outlinewidth\": 0, \"ticks\": \"\"}, \"colorscale\": [[0.0, \"#0d0887\"], [0.1111111111111111, \"#46039f\"], [0.2222222222222222, \"#7201a8\"], [0.3333333333333333, \"#9c179e\"], [0.4444444444444444, \"#bd3786\"], [0.5555555555555556, \"#d8576b\"], [0.6666666666666666, \"#ed7953\"], [0.7777777777777778, \"#fb9f3a\"], [0.8888888888888888, \"#fdca26\"], [1.0, \"#f0f921\"]], \"type\": \"contour\"}], \"contourcarpet\": [{\"colorbar\": {\"outlinewidth\": 0, \"ticks\": \"\"}, \"type\": \"contourcarpet\"}], \"heatmap\": [{\"colorbar\": {\"outlinewidth\": 0, \"ticks\": \"\"}, \"colorscale\": [[0.0, \"#0d0887\"], [0.1111111111111111, \"#46039f\"], [0.2222222222222222, \"#7201a8\"], [0.3333333333333333, \"#9c179e\"], [0.4444444444444444, \"#bd3786\"], [0.5555555555555556, \"#d8576b\"], [0.6666666666666666, \"#ed7953\"], [0.7777777777777778, \"#fb9f3a\"], [0.8888888888888888, \"#fdca26\"], [1.0, \"#f0f921\"]], \"type\": \"heatmap\"}], \"heatmapgl\": [{\"colorbar\": {\"outlinewidth\": 0, \"ticks\": \"\"}, \"colorscale\": [[0.0, \"#0d0887\"], [0.1111111111111111, \"#46039f\"], [0.2222222222222222, \"#7201a8\"], [0.3333333333333333, \"#9c179e\"], [0.4444444444444444, \"#bd3786\"], [0.5555555555555556, \"#d8576b\"], [0.6666666666666666, \"#ed7953\"], [0.7777777777777778, \"#fb9f3a\"], [0.8888888888888888, \"#fdca26\"], [1.0, \"#f0f921\"]], \"type\": \"heatmapgl\"}], \"histogram\": [{\"marker\": {\"colorbar\": {\"outlinewidth\": 0, \"ticks\": \"\"}}, \"type\": \"histogram\"}], \"histogram2d\": [{\"colorbar\": {\"outlinewidth\": 0, \"ticks\": \"\"}, \"colorscale\": [[0.0, \"#0d0887\"], [0.1111111111111111, \"#46039f\"], [0.2222222222222222, \"#7201a8\"], [0.3333333333333333, \"#9c179e\"], [0.4444444444444444, \"#bd3786\"], [0.5555555555555556, \"#d8576b\"], [0.6666666666666666, \"#ed7953\"], [0.7777777777777778, \"#fb9f3a\"], [0.8888888888888888, \"#fdca26\"], [1.0, \"#f0f921\"]], \"type\": \"histogram2d\"}], \"histogram2dcontour\": [{\"colorbar\": {\"outlinewidth\": 0, \"ticks\": \"\"}, \"colorscale\": [[0.0, \"#0d0887\"], [0.1111111111111111, \"#46039f\"], [0.2222222222222222, \"#7201a8\"], [0.3333333333333333, \"#9c179e\"], [0.4444444444444444, \"#bd3786\"], [0.5555555555555556, \"#d8576b\"], [0.6666666666666666, \"#ed7953\"], [0.7777777777777778, \"#fb9f3a\"], [0.8888888888888888, \"#fdca26\"], [1.0, \"#f0f921\"]], \"type\": \"histogram2dcontour\"}], \"mesh3d\": [{\"colorbar\": {\"outlinewidth\": 0, \"ticks\": \"\"}, \"type\": \"mesh3d\"}], \"parcoords\": [{\"line\": {\"colorbar\": {\"outlinewidth\": 0, \"ticks\": \"\"}}, \"type\": \"parcoords\"}], \"pie\": [{\"automargin\": true, \"type\": \"pie\"}], \"scatter\": [{\"marker\": {\"colorbar\": {\"outlinewidth\": 0, \"ticks\": \"\"}}, \"type\": \"scatter\"}], \"scatter3d\": [{\"line\": {\"colorbar\": {\"outlinewidth\": 0, \"ticks\": \"\"}}, \"marker\": {\"colorbar\": {\"outlinewidth\": 0, \"ticks\": \"\"}}, \"type\": \"scatter3d\"}], \"scattercarpet\": [{\"marker\": {\"colorbar\": {\"outlinewidth\": 0, \"ticks\": \"\"}}, \"type\": \"scattercarpet\"}], \"scattergeo\": [{\"marker\": {\"colorbar\": {\"outlinewidth\": 0, \"ticks\": \"\"}}, \"type\": \"scattergeo\"}], \"scattergl\": [{\"marker\": {\"colorbar\": {\"outlinewidth\": 0, \"ticks\": \"\"}}, \"type\": \"scattergl\"}], \"scattermapbox\": [{\"marker\": {\"colorbar\": {\"outlinewidth\": 0, \"ticks\": \"\"}}, \"type\": \"scattermapbox\"}], \"scatterpolar\": [{\"marker\": {\"colorbar\": {\"outlinewidth\": 0, \"ticks\": \"\"}}, \"type\": \"scatterpolar\"}], \"scatterpolargl\": [{\"marker\": {\"colorbar\": {\"outlinewidth\": 0, \"ticks\": \"\"}}, \"type\": \"scatterpolargl\"}], \"scatterternary\": [{\"marker\": {\"colorbar\": {\"outlinewidth\": 0, \"ticks\": \"\"}}, \"type\": \"scatterternary\"}], \"surface\": [{\"colorbar\": {\"outlinewidth\": 0, \"ticks\": \"\"}, \"colorscale\": [[0.0, \"#0d0887\"], [0.1111111111111111, \"#46039f\"], [0.2222222222222222, \"#7201a8\"], [0.3333333333333333, \"#9c179e\"], [0.4444444444444444, \"#bd3786\"], [0.5555555555555556, \"#d8576b\"], [0.6666666666666666, \"#ed7953\"], [0.7777777777777778, \"#fb9f3a\"], [0.8888888888888888, \"#fdca26\"], [1.0, \"#f0f921\"]], \"type\": \"surface\"}], \"table\": [{\"cells\": {\"fill\": {\"color\": \"#EBF0F8\"}, \"line\": {\"color\": \"white\"}}, \"header\": {\"fill\": {\"color\": \"#C8D4E3\"}, \"line\": {\"color\": \"white\"}}, \"type\": \"table\"}]}, \"layout\": {\"annotationdefaults\": {\"arrowcolor\": \"#2a3f5f\", \"arrowhead\": 0, \"arrowwidth\": 1}, \"coloraxis\": {\"colorbar\": {\"outlinewidth\": 0, \"ticks\": \"\"}}, \"colorscale\": {\"diverging\": [[0, \"#8e0152\"], [0.1, \"#c51b7d\"], [0.2, \"#de77ae\"], [0.3, \"#f1b6da\"], [0.4, \"#fde0ef\"], [0.5, \"#f7f7f7\"], [0.6, \"#e6f5d0\"], [0.7, \"#b8e186\"], [0.8, \"#7fbc41\"], [0.9, \"#4d9221\"], [1, \"#276419\"]], \"sequential\": [[0.0, \"#0d0887\"], [0.1111111111111111, \"#46039f\"], [0.2222222222222222, \"#7201a8\"], [0.3333333333333333, \"#9c179e\"], [0.4444444444444444, \"#bd3786\"], [0.5555555555555556, \"#d8576b\"], [0.6666666666666666, \"#ed7953\"], [0.7777777777777778, \"#fb9f3a\"], [0.8888888888888888, \"#fdca26\"], [1.0, \"#f0f921\"]], \"sequentialminus\": [[0.0, \"#0d0887\"], [0.1111111111111111, \"#46039f\"], [0.2222222222222222, \"#7201a8\"], [0.3333333333333333, \"#9c179e\"], [0.4444444444444444, \"#bd3786\"], [0.5555555555555556, \"#d8576b\"], [0.6666666666666666, \"#ed7953\"], [0.7777777777777778, \"#fb9f3a\"], [0.8888888888888888, \"#fdca26\"], [1.0, \"#f0f921\"]]}, \"colorway\": [\"#636efa\", \"#EF553B\", \"#00cc96\", \"#ab63fa\", \"#FFA15A\", \"#19d3f3\", \"#FF6692\", \"#B6E880\", \"#FF97FF\", \"#FECB52\"], \"font\": {\"color\": \"#2a3f5f\"}, \"geo\": {\"bgcolor\": \"white\", \"lakecolor\": \"white\", \"landcolor\": \"#E5ECF6\", \"showlakes\": true, \"showland\": true, \"subunitcolor\": \"white\"}, \"hoverlabel\": {\"align\": \"left\"}, \"hovermode\": \"closest\", \"mapbox\": {\"style\": \"light\"}, \"paper_bgcolor\": \"white\", \"plot_bgcolor\": \"#E5ECF6\", \"polar\": {\"angularaxis\": {\"gridcolor\": \"white\", \"linecolor\": \"white\", \"ticks\": \"\"}, \"bgcolor\": \"#E5ECF6\", \"radialaxis\": {\"gridcolor\": \"white\", \"linecolor\": \"white\", \"ticks\": \"\"}}, \"scene\": {\"xaxis\": {\"backgroundcolor\": \"#E5ECF6\", \"gridcolor\": \"white\", \"gridwidth\": 2, \"linecolor\": \"white\", \"showbackground\": true, \"ticks\": \"\", \"zerolinecolor\": \"white\"}, \"yaxis\": {\"backgroundcolor\": \"#E5ECF6\", \"gridcolor\": \"white\", \"gridwidth\": 2, \"linecolor\": \"white\", \"showbackground\": true, \"ticks\": \"\", \"zerolinecolor\": \"white\"}, \"zaxis\": {\"backgroundcolor\": \"#E5ECF6\", \"gridcolor\": \"white\", \"gridwidth\": 2, \"linecolor\": \"white\", \"showbackground\": true, \"ticks\": \"\", \"zerolinecolor\": \"white\"}}, \"shapedefaults\": {\"line\": {\"color\": \"#2a3f5f\"}}, \"ternary\": {\"aaxis\": {\"gridcolor\": \"white\", \"linecolor\": \"white\", \"ticks\": \"\"}, \"baxis\": {\"gridcolor\": \"white\", \"linecolor\": \"white\", \"ticks\": \"\"}, \"bgcolor\": \"#E5ECF6\", \"caxis\": {\"gridcolor\": \"white\", \"linecolor\": \"white\", \"ticks\": \"\"}}, \"title\": {\"x\": 0.05}, \"xaxis\": {\"automargin\": true, \"gridcolor\": \"white\", \"linecolor\": \"white\", \"ticks\": \"\", \"title\": {\"standoff\": 15}, \"zerolinecolor\": \"white\", \"zerolinewidth\": 2}, \"yaxis\": {\"automargin\": true, \"gridcolor\": \"white\", \"linecolor\": \"white\", \"ticks\": \"\", \"title\": {\"standoff\": 15}, \"zerolinecolor\": \"white\", \"zerolinewidth\": 2}}}, \"title\": {\"font\": {\"color\": \"#4D5663\"}, \"text\": \"Topic 1: Top 100 words after removing stop words\"}, \"xaxis\": {\"gridcolor\": \"#E1E5ED\", \"linecolor\": \"black\", \"showgrid\": true, \"tickfont\": {\"color\": \"#4D5663\"}, \"title\": {\"font\": {\"color\": \"#4D5663\"}, \"text\": \"\"}, \"zerolinecolor\": \"#E1E5ED\"}, \"yaxis\": {\"gridcolor\": \"#E1E5ED\", \"linecolor\": \"black\", \"showgrid\": true, \"tickfont\": {\"color\": \"#4D5663\"}, \"title\": {\"font\": {\"color\": \"#4D5663\"}, \"text\": \"Count\"}, \"zerolinecolor\": \"#E1E5ED\"}},\n",
       "                        {\"showLink\": true, \"linkText\": \"Export to plot.ly\", \"plotlyServerURL\": \"https://plot.ly\", \"responsive\": true}\n",
       "                    ).then(function(){\n",
       "                            \n",
       "var gd = document.getElementById('41fff5f2-dcdf-4065-a154-eee07e7a203c');\n",
       "var x = new MutationObserver(function (mutations, observer) {{\n",
       "        var display = window.getComputedStyle(gd).display;\n",
       "        if (!display || display === 'none') {{\n",
       "            console.log([gd, 'removed!']);\n",
       "            Plotly.purge(gd);\n",
       "            observer.disconnect();\n",
       "        }}\n",
       "}});\n",
       "\n",
       "// Listen for the removal of the full notebook cells\n",
       "var notebookContainer = gd.closest('#notebook-container');\n",
       "if (notebookContainer) {{\n",
       "    x.observe(notebookContainer, {childList: true});\n",
       "}}\n",
       "\n",
       "// Listen for the clearing of the current output cell\n",
       "var outputEl = gd.closest('.output');\n",
       "if (outputEl) {{\n",
       "    x.observe(outputEl, {childList: true});\n",
       "}}\n",
       "\n",
       "                        })\n",
       "                };\n",
       "                });\n",
       "            </script>\n",
       "        </div>"
      ]
     },
     "metadata": {},
     "output_type": "display_data"
    }
   ],
   "source": [
    "plot_model(lda, plot='frequency', topic_num='Topic 1')"
   ]
  },
  {
   "cell_type": "code",
   "execution_count": 13,
   "metadata": {},
   "outputs": [
    {
     "data": {
      "text/html": [
       "        <script type=\"text/javascript\">\n",
       "        window.PlotlyConfig = {MathJaxConfig: 'local'};\n",
       "        if (window.MathJax) {MathJax.Hub.Config({SVG: {font: \"STIX-Web\"}});}\n",
       "        if (typeof require !== 'undefined') {\n",
       "        require.undef(\"plotly\");\n",
       "        requirejs.config({\n",
       "            paths: {\n",
       "                'plotly': ['https://cdn.plot.ly/plotly-latest.min']\n",
       "            }\n",
       "        });\n",
       "        require(['plotly'], function(Plotly) {\n",
       "            window._Plotly = Plotly;\n",
       "        });\n",
       "        }\n",
       "        </script>\n",
       "        "
      ]
     },
     "metadata": {},
     "output_type": "display_data"
    },
    {
     "data": {
      "application/vnd.plotly.v1+json": {
       "config": {
        "plotlyServerURL": "https://plot.ly"
       },
       "data": [
        {
         "alignmentgroup": "True",
         "customdata": [
          [
           "loan, child, business, school, year, buy, able, stock, pay, marry"
          ],
          [
           "business, loan, sell, year, child, work, buy, product, make, help"
          ],
          [
           "group, loan, member, water, woman, sell, make, come, must, strong"
          ],
          [
           "loan, rice, also, farmer, land, use, small, sector, many, area"
          ]
         ],
         "hoverlabel": {
          "namelength": 0
         },
         "hovertemplate": "Topic=%{x}<br>Documents=%{y}<br>Keyword=%{customdata[0]}",
         "legendgroup": "",
         "marker": {
          "color": "#636efa"
         },
         "name": "",
         "offsetgroup": "",
         "orientation": "v",
         "showlegend": false,
         "textposition": "auto",
         "type": "bar",
         "x": [
          "Topic 0",
          "Topic 1",
          "Topic 2",
          "Topic 3"
         ],
         "xaxis": "x",
         "y": [
          370,
          555,
          45,
          30
         ],
         "yaxis": "y"
        }
       ],
       "layout": {
        "barmode": "relative",
        "legend": {
         "tracegroupgap": 0
        },
        "template": {
         "data": {
          "bar": [
           {
            "error_x": {
             "color": "#2a3f5f"
            },
            "error_y": {
             "color": "#2a3f5f"
            },
            "marker": {
             "line": {
              "color": "#E5ECF6",
              "width": 0.5
             }
            },
            "type": "bar"
           }
          ],
          "barpolar": [
           {
            "marker": {
             "line": {
              "color": "#E5ECF6",
              "width": 0.5
             }
            },
            "type": "barpolar"
           }
          ],
          "carpet": [
           {
            "aaxis": {
             "endlinecolor": "#2a3f5f",
             "gridcolor": "white",
             "linecolor": "white",
             "minorgridcolor": "white",
             "startlinecolor": "#2a3f5f"
            },
            "baxis": {
             "endlinecolor": "#2a3f5f",
             "gridcolor": "white",
             "linecolor": "white",
             "minorgridcolor": "white",
             "startlinecolor": "#2a3f5f"
            },
            "type": "carpet"
           }
          ],
          "choropleth": [
           {
            "colorbar": {
             "outlinewidth": 0,
             "ticks": ""
            },
            "type": "choropleth"
           }
          ],
          "contour": [
           {
            "colorbar": {
             "outlinewidth": 0,
             "ticks": ""
            },
            "colorscale": [
             [
              0,
              "#0d0887"
             ],
             [
              0.1111111111111111,
              "#46039f"
             ],
             [
              0.2222222222222222,
              "#7201a8"
             ],
             [
              0.3333333333333333,
              "#9c179e"
             ],
             [
              0.4444444444444444,
              "#bd3786"
             ],
             [
              0.5555555555555556,
              "#d8576b"
             ],
             [
              0.6666666666666666,
              "#ed7953"
             ],
             [
              0.7777777777777778,
              "#fb9f3a"
             ],
             [
              0.8888888888888888,
              "#fdca26"
             ],
             [
              1,
              "#f0f921"
             ]
            ],
            "type": "contour"
           }
          ],
          "contourcarpet": [
           {
            "colorbar": {
             "outlinewidth": 0,
             "ticks": ""
            },
            "type": "contourcarpet"
           }
          ],
          "heatmap": [
           {
            "colorbar": {
             "outlinewidth": 0,
             "ticks": ""
            },
            "colorscale": [
             [
              0,
              "#0d0887"
             ],
             [
              0.1111111111111111,
              "#46039f"
             ],
             [
              0.2222222222222222,
              "#7201a8"
             ],
             [
              0.3333333333333333,
              "#9c179e"
             ],
             [
              0.4444444444444444,
              "#bd3786"
             ],
             [
              0.5555555555555556,
              "#d8576b"
             ],
             [
              0.6666666666666666,
              "#ed7953"
             ],
             [
              0.7777777777777778,
              "#fb9f3a"
             ],
             [
              0.8888888888888888,
              "#fdca26"
             ],
             [
              1,
              "#f0f921"
             ]
            ],
            "type": "heatmap"
           }
          ],
          "heatmapgl": [
           {
            "colorbar": {
             "outlinewidth": 0,
             "ticks": ""
            },
            "colorscale": [
             [
              0,
              "#0d0887"
             ],
             [
              0.1111111111111111,
              "#46039f"
             ],
             [
              0.2222222222222222,
              "#7201a8"
             ],
             [
              0.3333333333333333,
              "#9c179e"
             ],
             [
              0.4444444444444444,
              "#bd3786"
             ],
             [
              0.5555555555555556,
              "#d8576b"
             ],
             [
              0.6666666666666666,
              "#ed7953"
             ],
             [
              0.7777777777777778,
              "#fb9f3a"
             ],
             [
              0.8888888888888888,
              "#fdca26"
             ],
             [
              1,
              "#f0f921"
             ]
            ],
            "type": "heatmapgl"
           }
          ],
          "histogram": [
           {
            "marker": {
             "colorbar": {
              "outlinewidth": 0,
              "ticks": ""
             }
            },
            "type": "histogram"
           }
          ],
          "histogram2d": [
           {
            "colorbar": {
             "outlinewidth": 0,
             "ticks": ""
            },
            "colorscale": [
             [
              0,
              "#0d0887"
             ],
             [
              0.1111111111111111,
              "#46039f"
             ],
             [
              0.2222222222222222,
              "#7201a8"
             ],
             [
              0.3333333333333333,
              "#9c179e"
             ],
             [
              0.4444444444444444,
              "#bd3786"
             ],
             [
              0.5555555555555556,
              "#d8576b"
             ],
             [
              0.6666666666666666,
              "#ed7953"
             ],
             [
              0.7777777777777778,
              "#fb9f3a"
             ],
             [
              0.8888888888888888,
              "#fdca26"
             ],
             [
              1,
              "#f0f921"
             ]
            ],
            "type": "histogram2d"
           }
          ],
          "histogram2dcontour": [
           {
            "colorbar": {
             "outlinewidth": 0,
             "ticks": ""
            },
            "colorscale": [
             [
              0,
              "#0d0887"
             ],
             [
              0.1111111111111111,
              "#46039f"
             ],
             [
              0.2222222222222222,
              "#7201a8"
             ],
             [
              0.3333333333333333,
              "#9c179e"
             ],
             [
              0.4444444444444444,
              "#bd3786"
             ],
             [
              0.5555555555555556,
              "#d8576b"
             ],
             [
              0.6666666666666666,
              "#ed7953"
             ],
             [
              0.7777777777777778,
              "#fb9f3a"
             ],
             [
              0.8888888888888888,
              "#fdca26"
             ],
             [
              1,
              "#f0f921"
             ]
            ],
            "type": "histogram2dcontour"
           }
          ],
          "mesh3d": [
           {
            "colorbar": {
             "outlinewidth": 0,
             "ticks": ""
            },
            "type": "mesh3d"
           }
          ],
          "parcoords": [
           {
            "line": {
             "colorbar": {
              "outlinewidth": 0,
              "ticks": ""
             }
            },
            "type": "parcoords"
           }
          ],
          "pie": [
           {
            "automargin": true,
            "type": "pie"
           }
          ],
          "scatter": [
           {
            "marker": {
             "colorbar": {
              "outlinewidth": 0,
              "ticks": ""
             }
            },
            "type": "scatter"
           }
          ],
          "scatter3d": [
           {
            "line": {
             "colorbar": {
              "outlinewidth": 0,
              "ticks": ""
             }
            },
            "marker": {
             "colorbar": {
              "outlinewidth": 0,
              "ticks": ""
             }
            },
            "type": "scatter3d"
           }
          ],
          "scattercarpet": [
           {
            "marker": {
             "colorbar": {
              "outlinewidth": 0,
              "ticks": ""
             }
            },
            "type": "scattercarpet"
           }
          ],
          "scattergeo": [
           {
            "marker": {
             "colorbar": {
              "outlinewidth": 0,
              "ticks": ""
             }
            },
            "type": "scattergeo"
           }
          ],
          "scattergl": [
           {
            "marker": {
             "colorbar": {
              "outlinewidth": 0,
              "ticks": ""
             }
            },
            "type": "scattergl"
           }
          ],
          "scattermapbox": [
           {
            "marker": {
             "colorbar": {
              "outlinewidth": 0,
              "ticks": ""
             }
            },
            "type": "scattermapbox"
           }
          ],
          "scatterpolar": [
           {
            "marker": {
             "colorbar": {
              "outlinewidth": 0,
              "ticks": ""
             }
            },
            "type": "scatterpolar"
           }
          ],
          "scatterpolargl": [
           {
            "marker": {
             "colorbar": {
              "outlinewidth": 0,
              "ticks": ""
             }
            },
            "type": "scatterpolargl"
           }
          ],
          "scatterternary": [
           {
            "marker": {
             "colorbar": {
              "outlinewidth": 0,
              "ticks": ""
             }
            },
            "type": "scatterternary"
           }
          ],
          "surface": [
           {
            "colorbar": {
             "outlinewidth": 0,
             "ticks": ""
            },
            "colorscale": [
             [
              0,
              "#0d0887"
             ],
             [
              0.1111111111111111,
              "#46039f"
             ],
             [
              0.2222222222222222,
              "#7201a8"
             ],
             [
              0.3333333333333333,
              "#9c179e"
             ],
             [
              0.4444444444444444,
              "#bd3786"
             ],
             [
              0.5555555555555556,
              "#d8576b"
             ],
             [
              0.6666666666666666,
              "#ed7953"
             ],
             [
              0.7777777777777778,
              "#fb9f3a"
             ],
             [
              0.8888888888888888,
              "#fdca26"
             ],
             [
              1,
              "#f0f921"
             ]
            ],
            "type": "surface"
           }
          ],
          "table": [
           {
            "cells": {
             "fill": {
              "color": "#EBF0F8"
             },
             "line": {
              "color": "white"
             }
            },
            "header": {
             "fill": {
              "color": "#C8D4E3"
             },
             "line": {
              "color": "white"
             }
            },
            "type": "table"
           }
          ]
         },
         "layout": {
          "annotationdefaults": {
           "arrowcolor": "#2a3f5f",
           "arrowhead": 0,
           "arrowwidth": 1
          },
          "coloraxis": {
           "colorbar": {
            "outlinewidth": 0,
            "ticks": ""
           }
          },
          "colorscale": {
           "diverging": [
            [
             0,
             "#8e0152"
            ],
            [
             0.1,
             "#c51b7d"
            ],
            [
             0.2,
             "#de77ae"
            ],
            [
             0.3,
             "#f1b6da"
            ],
            [
             0.4,
             "#fde0ef"
            ],
            [
             0.5,
             "#f7f7f7"
            ],
            [
             0.6,
             "#e6f5d0"
            ],
            [
             0.7,
             "#b8e186"
            ],
            [
             0.8,
             "#7fbc41"
            ],
            [
             0.9,
             "#4d9221"
            ],
            [
             1,
             "#276419"
            ]
           ],
           "sequential": [
            [
             0,
             "#0d0887"
            ],
            [
             0.1111111111111111,
             "#46039f"
            ],
            [
             0.2222222222222222,
             "#7201a8"
            ],
            [
             0.3333333333333333,
             "#9c179e"
            ],
            [
             0.4444444444444444,
             "#bd3786"
            ],
            [
             0.5555555555555556,
             "#d8576b"
            ],
            [
             0.6666666666666666,
             "#ed7953"
            ],
            [
             0.7777777777777778,
             "#fb9f3a"
            ],
            [
             0.8888888888888888,
             "#fdca26"
            ],
            [
             1,
             "#f0f921"
            ]
           ],
           "sequentialminus": [
            [
             0,
             "#0d0887"
            ],
            [
             0.1111111111111111,
             "#46039f"
            ],
            [
             0.2222222222222222,
             "#7201a8"
            ],
            [
             0.3333333333333333,
             "#9c179e"
            ],
            [
             0.4444444444444444,
             "#bd3786"
            ],
            [
             0.5555555555555556,
             "#d8576b"
            ],
            [
             0.6666666666666666,
             "#ed7953"
            ],
            [
             0.7777777777777778,
             "#fb9f3a"
            ],
            [
             0.8888888888888888,
             "#fdca26"
            ],
            [
             1,
             "#f0f921"
            ]
           ]
          },
          "colorway": [
           "#636efa",
           "#EF553B",
           "#00cc96",
           "#ab63fa",
           "#FFA15A",
           "#19d3f3",
           "#FF6692",
           "#B6E880",
           "#FF97FF",
           "#FECB52"
          ],
          "font": {
           "color": "#2a3f5f"
          },
          "geo": {
           "bgcolor": "white",
           "lakecolor": "white",
           "landcolor": "#E5ECF6",
           "showlakes": true,
           "showland": true,
           "subunitcolor": "white"
          },
          "hoverlabel": {
           "align": "left"
          },
          "hovermode": "closest",
          "mapbox": {
           "style": "light"
          },
          "paper_bgcolor": "white",
          "plot_bgcolor": "#E5ECF6",
          "polar": {
           "angularaxis": {
            "gridcolor": "white",
            "linecolor": "white",
            "ticks": ""
           },
           "bgcolor": "#E5ECF6",
           "radialaxis": {
            "gridcolor": "white",
            "linecolor": "white",
            "ticks": ""
           }
          },
          "scene": {
           "xaxis": {
            "backgroundcolor": "#E5ECF6",
            "gridcolor": "white",
            "gridwidth": 2,
            "linecolor": "white",
            "showbackground": true,
            "ticks": "",
            "zerolinecolor": "white"
           },
           "yaxis": {
            "backgroundcolor": "#E5ECF6",
            "gridcolor": "white",
            "gridwidth": 2,
            "linecolor": "white",
            "showbackground": true,
            "ticks": "",
            "zerolinecolor": "white"
           },
           "zaxis": {
            "backgroundcolor": "#E5ECF6",
            "gridcolor": "white",
            "gridwidth": 2,
            "linecolor": "white",
            "showbackground": true,
            "ticks": "",
            "zerolinecolor": "white"
           }
          },
          "shapedefaults": {
           "line": {
            "color": "#2a3f5f"
           }
          },
          "ternary": {
           "aaxis": {
            "gridcolor": "white",
            "linecolor": "white",
            "ticks": ""
           },
           "baxis": {
            "gridcolor": "white",
            "linecolor": "white",
            "ticks": ""
           },
           "bgcolor": "#E5ECF6",
           "caxis": {
            "gridcolor": "white",
            "linecolor": "white",
            "ticks": ""
           }
          },
          "title": {
           "x": 0.05
          },
          "xaxis": {
           "automargin": true,
           "gridcolor": "white",
           "linecolor": "white",
           "ticks": "",
           "title": {
            "standoff": 15
           },
           "zerolinecolor": "white",
           "zerolinewidth": 2
          },
          "yaxis": {
           "automargin": true,
           "gridcolor": "white",
           "linecolor": "white",
           "ticks": "",
           "title": {
            "standoff": 15
           },
           "zerolinecolor": "white",
           "zerolinewidth": 2
          }
         }
        },
        "title": {
         "text": "Document Distribution by Topics"
        },
        "xaxis": {
         "anchor": "y",
         "domain": [
          0,
          1
         ],
         "title": {
          "text": "Topic"
         }
        },
        "yaxis": {
         "anchor": "x",
         "domain": [
          0,
          1
         ],
         "title": {
          "text": "Documents"
         }
        }
       }
      },
      "text/html": [
       "<div>\n",
       "        \n",
       "        \n",
       "            <div id=\"3aee6e75-8d2c-44b1-8720-04da75a80bdf\" class=\"plotly-graph-div\" style=\"height:525px; width:100%;\"></div>\n",
       "            <script type=\"text/javascript\">\n",
       "                require([\"plotly\"], function(Plotly) {\n",
       "                    window.PLOTLYENV=window.PLOTLYENV || {};\n",
       "                    \n",
       "                if (document.getElementById(\"3aee6e75-8d2c-44b1-8720-04da75a80bdf\")) {\n",
       "                    Plotly.newPlot(\n",
       "                        '3aee6e75-8d2c-44b1-8720-04da75a80bdf',\n",
       "                        [{\"alignmentgroup\": \"True\", \"customdata\": [[\"loan, child, business, school, year, buy, able, stock, pay, marry\"], [\"business, loan, sell, year, child, work, buy, product, make, help\"], [\"group, loan, member, water, woman, sell, make, come, must, strong\"], [\"loan, rice, also, farmer, land, use, small, sector, many, area\"]], \"hoverlabel\": {\"namelength\": 0}, \"hovertemplate\": \"Topic=%{x}<br>Documents=%{y}<br>Keyword=%{customdata[0]}\", \"legendgroup\": \"\", \"marker\": {\"color\": \"#636efa\"}, \"name\": \"\", \"offsetgroup\": \"\", \"orientation\": \"v\", \"showlegend\": false, \"textposition\": \"auto\", \"type\": \"bar\", \"x\": [\"Topic 0\", \"Topic 1\", \"Topic 2\", \"Topic 3\"], \"xaxis\": \"x\", \"y\": [370, 555, 45, 30], \"yaxis\": \"y\"}],\n",
       "                        {\"barmode\": \"relative\", \"legend\": {\"tracegroupgap\": 0}, \"template\": {\"data\": {\"bar\": [{\"error_x\": {\"color\": \"#2a3f5f\"}, \"error_y\": {\"color\": \"#2a3f5f\"}, \"marker\": {\"line\": {\"color\": \"#E5ECF6\", \"width\": 0.5}}, \"type\": \"bar\"}], \"barpolar\": [{\"marker\": {\"line\": {\"color\": \"#E5ECF6\", \"width\": 0.5}}, \"type\": \"barpolar\"}], \"carpet\": [{\"aaxis\": {\"endlinecolor\": \"#2a3f5f\", \"gridcolor\": \"white\", \"linecolor\": \"white\", \"minorgridcolor\": \"white\", \"startlinecolor\": \"#2a3f5f\"}, \"baxis\": {\"endlinecolor\": \"#2a3f5f\", \"gridcolor\": \"white\", \"linecolor\": \"white\", \"minorgridcolor\": \"white\", \"startlinecolor\": \"#2a3f5f\"}, \"type\": \"carpet\"}], \"choropleth\": [{\"colorbar\": {\"outlinewidth\": 0, \"ticks\": \"\"}, \"type\": \"choropleth\"}], \"contour\": [{\"colorbar\": {\"outlinewidth\": 0, \"ticks\": \"\"}, \"colorscale\": [[0.0, \"#0d0887\"], [0.1111111111111111, \"#46039f\"], [0.2222222222222222, \"#7201a8\"], [0.3333333333333333, \"#9c179e\"], [0.4444444444444444, \"#bd3786\"], [0.5555555555555556, \"#d8576b\"], [0.6666666666666666, \"#ed7953\"], [0.7777777777777778, \"#fb9f3a\"], [0.8888888888888888, \"#fdca26\"], [1.0, \"#f0f921\"]], \"type\": \"contour\"}], \"contourcarpet\": [{\"colorbar\": {\"outlinewidth\": 0, \"ticks\": \"\"}, \"type\": \"contourcarpet\"}], \"heatmap\": [{\"colorbar\": {\"outlinewidth\": 0, \"ticks\": \"\"}, \"colorscale\": [[0.0, \"#0d0887\"], [0.1111111111111111, \"#46039f\"], [0.2222222222222222, \"#7201a8\"], [0.3333333333333333, \"#9c179e\"], [0.4444444444444444, \"#bd3786\"], [0.5555555555555556, \"#d8576b\"], [0.6666666666666666, \"#ed7953\"], [0.7777777777777778, \"#fb9f3a\"], [0.8888888888888888, \"#fdca26\"], [1.0, \"#f0f921\"]], \"type\": \"heatmap\"}], \"heatmapgl\": [{\"colorbar\": {\"outlinewidth\": 0, \"ticks\": \"\"}, \"colorscale\": [[0.0, \"#0d0887\"], [0.1111111111111111, \"#46039f\"], [0.2222222222222222, \"#7201a8\"], [0.3333333333333333, \"#9c179e\"], [0.4444444444444444, \"#bd3786\"], [0.5555555555555556, \"#d8576b\"], [0.6666666666666666, \"#ed7953\"], [0.7777777777777778, \"#fb9f3a\"], [0.8888888888888888, \"#fdca26\"], [1.0, \"#f0f921\"]], \"type\": \"heatmapgl\"}], \"histogram\": [{\"marker\": {\"colorbar\": {\"outlinewidth\": 0, \"ticks\": \"\"}}, \"type\": \"histogram\"}], \"histogram2d\": [{\"colorbar\": {\"outlinewidth\": 0, \"ticks\": \"\"}, \"colorscale\": [[0.0, \"#0d0887\"], [0.1111111111111111, \"#46039f\"], [0.2222222222222222, \"#7201a8\"], [0.3333333333333333, \"#9c179e\"], [0.4444444444444444, \"#bd3786\"], [0.5555555555555556, \"#d8576b\"], [0.6666666666666666, \"#ed7953\"], [0.7777777777777778, \"#fb9f3a\"], [0.8888888888888888, \"#fdca26\"], [1.0, \"#f0f921\"]], \"type\": \"histogram2d\"}], \"histogram2dcontour\": [{\"colorbar\": {\"outlinewidth\": 0, \"ticks\": \"\"}, \"colorscale\": [[0.0, \"#0d0887\"], [0.1111111111111111, \"#46039f\"], [0.2222222222222222, \"#7201a8\"], [0.3333333333333333, \"#9c179e\"], [0.4444444444444444, \"#bd3786\"], [0.5555555555555556, \"#d8576b\"], [0.6666666666666666, \"#ed7953\"], [0.7777777777777778, \"#fb9f3a\"], [0.8888888888888888, \"#fdca26\"], [1.0, \"#f0f921\"]], \"type\": \"histogram2dcontour\"}], \"mesh3d\": [{\"colorbar\": {\"outlinewidth\": 0, \"ticks\": \"\"}, \"type\": \"mesh3d\"}], \"parcoords\": [{\"line\": {\"colorbar\": {\"outlinewidth\": 0, \"ticks\": \"\"}}, \"type\": \"parcoords\"}], \"pie\": [{\"automargin\": true, \"type\": \"pie\"}], \"scatter\": [{\"marker\": {\"colorbar\": {\"outlinewidth\": 0, \"ticks\": \"\"}}, \"type\": \"scatter\"}], \"scatter3d\": [{\"line\": {\"colorbar\": {\"outlinewidth\": 0, \"ticks\": \"\"}}, \"marker\": {\"colorbar\": {\"outlinewidth\": 0, \"ticks\": \"\"}}, \"type\": \"scatter3d\"}], \"scattercarpet\": [{\"marker\": {\"colorbar\": {\"outlinewidth\": 0, \"ticks\": \"\"}}, \"type\": \"scattercarpet\"}], \"scattergeo\": [{\"marker\": {\"colorbar\": {\"outlinewidth\": 0, \"ticks\": \"\"}}, \"type\": \"scattergeo\"}], \"scattergl\": [{\"marker\": {\"colorbar\": {\"outlinewidth\": 0, \"ticks\": \"\"}}, \"type\": \"scattergl\"}], \"scattermapbox\": [{\"marker\": {\"colorbar\": {\"outlinewidth\": 0, \"ticks\": \"\"}}, \"type\": \"scattermapbox\"}], \"scatterpolar\": [{\"marker\": {\"colorbar\": {\"outlinewidth\": 0, \"ticks\": \"\"}}, \"type\": \"scatterpolar\"}], \"scatterpolargl\": [{\"marker\": {\"colorbar\": {\"outlinewidth\": 0, \"ticks\": \"\"}}, \"type\": \"scatterpolargl\"}], \"scatterternary\": [{\"marker\": {\"colorbar\": {\"outlinewidth\": 0, \"ticks\": \"\"}}, \"type\": \"scatterternary\"}], \"surface\": [{\"colorbar\": {\"outlinewidth\": 0, \"ticks\": \"\"}, \"colorscale\": [[0.0, \"#0d0887\"], [0.1111111111111111, \"#46039f\"], [0.2222222222222222, \"#7201a8\"], [0.3333333333333333, \"#9c179e\"], [0.4444444444444444, \"#bd3786\"], [0.5555555555555556, \"#d8576b\"], [0.6666666666666666, \"#ed7953\"], [0.7777777777777778, \"#fb9f3a\"], [0.8888888888888888, \"#fdca26\"], [1.0, \"#f0f921\"]], \"type\": \"surface\"}], \"table\": [{\"cells\": {\"fill\": {\"color\": \"#EBF0F8\"}, \"line\": {\"color\": \"white\"}}, \"header\": {\"fill\": {\"color\": \"#C8D4E3\"}, \"line\": {\"color\": \"white\"}}, \"type\": \"table\"}]}, \"layout\": {\"annotationdefaults\": {\"arrowcolor\": \"#2a3f5f\", \"arrowhead\": 0, \"arrowwidth\": 1}, \"coloraxis\": {\"colorbar\": {\"outlinewidth\": 0, \"ticks\": \"\"}}, \"colorscale\": {\"diverging\": [[0, \"#8e0152\"], [0.1, \"#c51b7d\"], [0.2, \"#de77ae\"], [0.3, \"#f1b6da\"], [0.4, \"#fde0ef\"], [0.5, \"#f7f7f7\"], [0.6, \"#e6f5d0\"], [0.7, \"#b8e186\"], [0.8, \"#7fbc41\"], [0.9, \"#4d9221\"], [1, \"#276419\"]], \"sequential\": [[0.0, \"#0d0887\"], [0.1111111111111111, \"#46039f\"], [0.2222222222222222, \"#7201a8\"], [0.3333333333333333, \"#9c179e\"], [0.4444444444444444, \"#bd3786\"], [0.5555555555555556, \"#d8576b\"], [0.6666666666666666, \"#ed7953\"], [0.7777777777777778, \"#fb9f3a\"], [0.8888888888888888, \"#fdca26\"], [1.0, \"#f0f921\"]], \"sequentialminus\": [[0.0, \"#0d0887\"], [0.1111111111111111, \"#46039f\"], [0.2222222222222222, \"#7201a8\"], [0.3333333333333333, \"#9c179e\"], [0.4444444444444444, \"#bd3786\"], [0.5555555555555556, \"#d8576b\"], [0.6666666666666666, \"#ed7953\"], [0.7777777777777778, \"#fb9f3a\"], [0.8888888888888888, \"#fdca26\"], [1.0, \"#f0f921\"]]}, \"colorway\": [\"#636efa\", \"#EF553B\", \"#00cc96\", \"#ab63fa\", \"#FFA15A\", \"#19d3f3\", \"#FF6692\", \"#B6E880\", \"#FF97FF\", \"#FECB52\"], \"font\": {\"color\": \"#2a3f5f\"}, \"geo\": {\"bgcolor\": \"white\", \"lakecolor\": \"white\", \"landcolor\": \"#E5ECF6\", \"showlakes\": true, \"showland\": true, \"subunitcolor\": \"white\"}, \"hoverlabel\": {\"align\": \"left\"}, \"hovermode\": \"closest\", \"mapbox\": {\"style\": \"light\"}, \"paper_bgcolor\": \"white\", \"plot_bgcolor\": \"#E5ECF6\", \"polar\": {\"angularaxis\": {\"gridcolor\": \"white\", \"linecolor\": \"white\", \"ticks\": \"\"}, \"bgcolor\": \"#E5ECF6\", \"radialaxis\": {\"gridcolor\": \"white\", \"linecolor\": \"white\", \"ticks\": \"\"}}, \"scene\": {\"xaxis\": {\"backgroundcolor\": \"#E5ECF6\", \"gridcolor\": \"white\", \"gridwidth\": 2, \"linecolor\": \"white\", \"showbackground\": true, \"ticks\": \"\", \"zerolinecolor\": \"white\"}, \"yaxis\": {\"backgroundcolor\": \"#E5ECF6\", \"gridcolor\": \"white\", \"gridwidth\": 2, \"linecolor\": \"white\", \"showbackground\": true, \"ticks\": \"\", \"zerolinecolor\": \"white\"}, \"zaxis\": {\"backgroundcolor\": \"#E5ECF6\", \"gridcolor\": \"white\", \"gridwidth\": 2, \"linecolor\": \"white\", \"showbackground\": true, \"ticks\": \"\", \"zerolinecolor\": \"white\"}}, \"shapedefaults\": {\"line\": {\"color\": \"#2a3f5f\"}}, \"ternary\": {\"aaxis\": {\"gridcolor\": \"white\", \"linecolor\": \"white\", \"ticks\": \"\"}, \"baxis\": {\"gridcolor\": \"white\", \"linecolor\": \"white\", \"ticks\": \"\"}, \"bgcolor\": \"#E5ECF6\", \"caxis\": {\"gridcolor\": \"white\", \"linecolor\": \"white\", \"ticks\": \"\"}}, \"title\": {\"x\": 0.05}, \"xaxis\": {\"automargin\": true, \"gridcolor\": \"white\", \"linecolor\": \"white\", \"ticks\": \"\", \"title\": {\"standoff\": 15}, \"zerolinecolor\": \"white\", \"zerolinewidth\": 2}, \"yaxis\": {\"automargin\": true, \"gridcolor\": \"white\", \"linecolor\": \"white\", \"ticks\": \"\", \"title\": {\"standoff\": 15}, \"zerolinecolor\": \"white\", \"zerolinewidth\": 2}}}, \"title\": {\"text\": \"Document Distribution by Topics\"}, \"xaxis\": {\"anchor\": \"y\", \"domain\": [0.0, 1.0], \"title\": {\"text\": \"Topic\"}}, \"yaxis\": {\"anchor\": \"x\", \"domain\": [0.0, 1.0], \"title\": {\"text\": \"Documents\"}}},\n",
       "                        {\"responsive\": true}\n",
       "                    ).then(function(){\n",
       "                            \n",
       "var gd = document.getElementById('3aee6e75-8d2c-44b1-8720-04da75a80bdf');\n",
       "var x = new MutationObserver(function (mutations, observer) {{\n",
       "        var display = window.getComputedStyle(gd).display;\n",
       "        if (!display || display === 'none') {{\n",
       "            console.log([gd, 'removed!']);\n",
       "            Plotly.purge(gd);\n",
       "            observer.disconnect();\n",
       "        }}\n",
       "}});\n",
       "\n",
       "// Listen for the removal of the full notebook cells\n",
       "var notebookContainer = gd.closest('#notebook-container');\n",
       "if (notebookContainer) {{\n",
       "    x.observe(notebookContainer, {childList: true});\n",
       "}}\n",
       "\n",
       "// Listen for the clearing of the current output cell\n",
       "var outputEl = gd.closest('.output');\n",
       "if (outputEl) {{\n",
       "    x.observe(outputEl, {childList: true});\n",
       "}}\n",
       "\n",
       "                        })\n",
       "                };\n",
       "                });\n",
       "            </script>\n",
       "        </div>"
      ]
     },
     "metadata": {},
     "output_type": "display_data"
    }
   ],
   "source": [
    "plot_model(lda, plot='topic_distribution')"
   ]
  },
  {
   "cell_type": "code",
   "execution_count": 14,
   "metadata": {},
   "outputs": [
    {
     "data": {
      "text/html": [
       "        <script type=\"text/javascript\">\n",
       "        window.PlotlyConfig = {MathJaxConfig: 'local'};\n",
       "        if (window.MathJax) {MathJax.Hub.Config({SVG: {font: \"STIX-Web\"}});}\n",
       "        if (typeof require !== 'undefined') {\n",
       "        require.undef(\"plotly\");\n",
       "        requirejs.config({\n",
       "            paths: {\n",
       "                'plotly': ['https://cdn.plot.ly/plotly-latest.min']\n",
       "            }\n",
       "        });\n",
       "        require(['plotly'], function(Plotly) {\n",
       "            window._Plotly = Plotly;\n",
       "        });\n",
       "        }\n",
       "        </script>\n",
       "        "
      ]
     },
     "metadata": {},
     "output_type": "display_data"
    },
    {
     "data": {
      "application/vnd.plotly.v1+json": {
       "config": {
        "plotlyServerURL": "https://plot.ly"
       },
       "data": [
        {
         "hoverlabel": {
          "namelength": 0
         },
         "hovertemplate": "Dominant_Topic=Topic 0<br>0=%{x}<br>1=%{y}<br>2=%{z}",
         "legendgroup": "Dominant_Topic=Topic 0",
         "marker": {
          "color": "#636efa",
          "opacity": 0.7,
          "symbol": "circle"
         },
         "mode": "markers",
         "name": "Dominant_Topic=Topic 0",
         "scene": "scene",
         "showlegend": true,
         "type": "scatter3d",
         "x": [
          7.053063869476318,
          6.558353900909424,
          1.9877070188522339,
          4.646115303039551,
          9.120402336120605,
          1.519485354423523,
          1.7297816276550293,
          4.084320545196533,
          8.826656341552734,
          6.134588718414307,
          8.030576705932617,
          1.3525525331497192,
          8.381407737731934,
          3.285348415374756,
          7.31822395324707,
          2.24601411819458,
          8.951757431030273,
          4.54672908782959,
          4.493456840515137,
          0.9936066269874573,
          4.479258060455322,
          5.024648189544678,
          0.022148847579956055,
          3.002436399459839,
          1.559126853942871,
          1.577924132347107,
          2.263366460800171,
          9.102282524108887,
          -1.512367844581604,
          -0.2205590456724167,
          8.026413917541504,
          8.634143829345703,
          5.263862609863281,
          0.334359347820282,
          2.4672598838806152,
          1.3793010711669922,
          2.413492202758789,
          1.4952691793441772,
          6.471972942352295,
          4.300720691680908,
          2.1029324531555176,
          6.277258396148682,
          2.1006994247436523,
          7.9853973388671875,
          -0.021784139797091484,
          -0.3676498532295227,
          7.697486400604248,
          2.8799917697906494,
          9.18256664276123,
          8.903286933898926,
          1.488759994506836,
          9.041994094848633,
          2.4475326538085938,
          2.8936874866485596,
          1.5371276140213013,
          1.5073171854019165,
          7.295436859130859,
          -0.7940815687179565,
          2.609588861465454,
          9.106216430664062,
          4.4395270347595215,
          6.2713422775268555,
          6.5661187171936035,
          -1.1782132387161255,
          6.300302505493164,
          1.538939118385315,
          2.8173866271972656,
          5.230616092681885,
          0.1056043952703476,
          4.843777179718018,
          2.2153215408325195,
          9.216448783874512,
          8.64117431640625,
          8.866440773010254,
          8.82355785369873,
          8.266502380371094,
          6.563072204589844,
          3.64381742477417,
          2.9068984985351562,
          8.104161262512207,
          5.77927827835083,
          0.9451544880867004,
          4.700770378112793,
          8.095481872558594,
          9.223134994506836,
          -1.656143307685852,
          9.271489143371582,
          -0.25001606345176697,
          8.194125175476074,
          -1.8547742366790771,
          -1.5412160158157349,
          1.5001161098480225,
          1.4942084550857544,
          6.003311634063721,
          7.772985935211182,
          8.016533851623535,
          0.7420654892921448,
          4.404661655426025,
          3.13171648979187,
          7.422083854675293,
          5.580757141113281,
          3.426302433013916,
          8.164430618286133,
          1.5693645477294922,
          3.2629387378692627,
          9.113212585449219,
          7.757998943328857,
          5.227792739868164,
          3.1802423000335693,
          6.542876720428467,
          2.2223808765411377,
          4.8834919929504395,
          4.906094551086426,
          3.1125845909118652,
          -0.3550984561443329,
          7.893769264221191,
          1.631803274154663,
          0.2018328607082367,
          4.397491931915283,
          4.550929546356201,
          -0.4553290903568268,
          2.3762240409851074,
          0.9719667434692383,
          3.7948801517486572,
          -0.13941630721092224,
          7.057028293609619,
          2.4793753623962402,
          3.848674774169922,
          2.1942760944366455,
          0.997204065322876,
          2.935905694961548,
          0.467641144990921,
          -1.0843608379364014,
          -0.05112496763467789,
          2.280252456665039,
          6.724576950073242,
          7.4730329513549805,
          8.8087739944458,
          5.01632022857666,
          2.2112693786621094,
          8.029534339904785,
          0.1759779304265976,
          7.5123419761657715,
          7.931038856506348,
          8.609344482421875,
          5.3886919021606445,
          -1.3157140016555786,
          4.135657787322998,
          8.18471622467041,
          5.327916622161865,
          7.275993824005127,
          5.860598564147949,
          8.228081703186035,
          4.8034563064575195,
          4.865518569946289,
          3.5521464347839355,
          2.5012192726135254,
          -0.4689188301563263,
          3.268010377883911,
          0.7136157751083374,
          6.887424468994141,
          0.9284431338310242,
          0.955657958984375,
          3.9986977577209473,
          1.7278159856796265,
          3.497136354446411,
          4.141244888305664,
          0.09005321562290192,
          8.080721855163574,
          3.8583202362060547,
          -0.23950450122356415,
          3.0906360149383545,
          9.242867469787598,
          3.438474655151367,
          1.1272594928741455,
          1.115728497505188,
          5.230917453765869,
          5.563546657562256,
          -0.5791503190994263,
          4.315652370452881,
          8.567503929138184,
          8.772027969360352,
          2.407390832901001,
          4.684851169586182,
          8.903624534606934,
          4.187480926513672,
          0.42481184005737305,
          3.003182888031006,
          7.9756340980529785,
          4.665838241577148,
          0.18484915792942047,
          1.5054055452346802,
          2.273592472076416,
          2.6226303577423096,
          2.6230227947235107,
          0.06720956414937973,
          7.013244152069092,
          4.2715044021606445,
          0.5778474807739258,
          6.096981525421143,
          3.782493829727173,
          0.45803511142730713,
          4.799919128417969,
          5.8191142082214355,
          0.383584588766098,
          1.4856091737747192,
          0.4748866856098175,
          4.332545280456543,
          1.2369822263717651,
          9.189558029174805,
          1.6303431987762451,
          7.691367149353027,
          0.6886730194091797,
          -1.7326476573944092,
          1.3669102191925049,
          -0.3338339328765869,
          1.9163973331451416,
          1.7204114198684692,
          8.903459548950195,
          -1.3858816623687744,
          2.1921603679656982,
          -0.855586051940918,
          0.6163409948348999,
          4.946388244628906,
          6.171464443206787,
          8.844127655029297,
          2.6569747924804688,
          7.576679229736328,
          6.956993103027344,
          5.221012115478516,
          3.6856460571289062,
          4.534834384918213,
          8.001938819885254,
          5.637176036834717,
          1.4030526876449585,
          8.920035362243652,
          8.265707015991211,
          7.504887104034424,
          1.0596925020217896,
          8.975191116333008,
          4.868480682373047,
          7.662945747375488,
          7.484078407287598,
          3.065389394760132,
          -0.3355637192726135,
          1.2566052675247192,
          -1.6423965692520142,
          1.0645569562911987,
          1.5362601280212402,
          5.86750602722168,
          0.8910378813743591,
          7.738369464874268,
          8.944744110107422,
          0.0016230273758992553,
          3.491960287094116,
          3.031428098678589,
          4.746972560882568,
          5.257223129272461,
          1.5928056240081787,
          4.749638557434082,
          9.218496322631836,
          6.503338813781738,
          0.8177285194396973,
          -1.7328417301177979,
          8.01872730255127,
          4.345350742340088,
          0.44981732964515686,
          1.6196125745773315,
          4.527320861816406,
          5.877325534820557,
          8.327923774719238,
          -0.9168788194656372,
          -1.4979041814804077,
          2.251307487487793,
          0.1968730390071869,
          -1.1458696126937866,
          2.6985888481140137,
          6.946079254150391,
          1.7465507984161377,
          7.135509967803955,
          -1.1234418153762817,
          7.331822872161865,
          7.7098774909973145,
          6.931975841522217,
          6.65686559677124,
          8.773303985595703,
          5.348268032073975,
          1.111246109008789,
          2.9429469108581543,
          4.931722164154053,
          1.2538200616836548,
          8.146151542663574,
          7.478183269500732,
          1.3039885759353638,
          1.0409306287765503,
          -1.8377726078033447,
          -0.43624722957611084,
          5.777039051055908,
          7.087909698486328,
          8.226943016052246,
          1.5061416625976562,
          4.062352657318115,
          0.03134145960211754,
          8.89890193939209,
          3.2226877212524414,
          7.46294641494751,
          5.3242902755737305,
          3.055055618286133,
          5.069754600524902,
          2.422987699508667,
          -0.3059808909893036,
          7.027273178100586,
          8.285571098327637,
          1.4494094848632812,
          1.7638084888458252,
          2.7822747230529785,
          1.9031909704208374,
          -0.3589229881763458,
          7.456543445587158,
          3.5392117500305176,
          0.8705608248710632,
          8.94362735748291,
          7.529018878936768,
          0.18707096576690674,
          2.241278886795044,
          1.5212112665176392,
          6.023962020874023,
          1.076392650604248,
          3.0083627700805664,
          1.4323468208312988,
          5.676547527313232,
          1.6531132459640503,
          9.178657531738281,
          8.779779434204102,
          5.310734748840332,
          3.828892230987549,
          1.2050819396972656,
          8.218986511230469,
          9.190311431884766,
          6.477302551269531,
          7.90917444229126,
          9.221646308898926,
          -0.7896884083747864,
          -0.4054757356643677,
          6.818125247955322,
          7.41748571395874,
          0.4529605507850647,
          3.6559579372406006,
          5.219569683074951,
          6.674627304077148,
          1.4421056509017944,
          3.7391865253448486,
          9.019554138183594,
          4.108667373657227,
          0.8773282766342163,
          3.021259069442749,
          3.438290596008301,
          5.171987533569336,
          -0.5001410245895386,
          0.6857007145881653,
          7.146927833557129,
          2.604241132736206,
          4.002078056335449,
          9.182116508483887,
          2.9141130447387695,
          2.901047468185425,
          8.400264739990234,
          1.0698045492172241,
          7.477649688720703,
          8.488255500793457
         ],
         "y": [
          5.808762550354004,
          6.239432334899902,
          -2.3837811946868896,
          -3.0072824954986572,
          -0.7981831431388855,
          1.591714859008789,
          -0.3648129999637604,
          -0.5867143273353577,
          -1.4086517095565796,
          -3.0063424110412598,
          -2.3633809089660645,
          3.159707546234131,
          3.368834972381592,
          -0.49201759696006775,
          -0.14570966362953186,
          -2.477721929550171,
          -0.32473888993263245,
          6.745227336883545,
          -2.9939496517181396,
          -2.0908162593841553,
          -2.2281644344329834,
          1.643841028213501,
          -3.4856045246124268,
          -0.8842345476150513,
          1.2743935585021973,
          -0.8741940855979919,
          6.86446475982666,
          -0.9906503558158875,
          5.867846965789795,
          6.389345169067383,
          4.50343132019043,
          2.672576427459717,
          6.621419429779053,
          -3.311889886856079,
          3.3397390842437744,
          3.0815417766571045,
          0.9005675911903381,
          0.2645382583141327,
          6.255304336547852,
          6.820999622344971,
          0.4931872487068176,
          -2.9926748275756836,
          -1.9619301557540894,
          4.497517108917236,
          4.90941858291626,
          -3.4193246364593506,
          2.763615608215332,
          6.914708137512207,
          -0.6665121912956238,
          1.9332176446914673,
          6.705198287963867,
          -1.1481027603149414,
          -2.5445148944854736,
          -2.68562912940979,
          6.570293426513672,
          -0.007584882900118828,
          4.2915873527526855,
          -3.7088468074798584,
          3.5108449459075928,
          1.2952380180358887,
          -2.5363171100616455,
          6.381092071533203,
          6.247439861297607,
          6.28664493560791,
          5.750047206878662,
          2.0629827976226807,
          2.6369125843048096,
          1.1271177530288696,
          -3.239887237548828,
          -1.8242524862289429,
          -2.5124990940093994,
          0.9893637299537659,
          -1.263866901397705,
          1.909135103225708,
          -0.7246679663658142,
          3.2431540489196777,
          -2.347534418106079,
          2.907482624053955,
          -1.4991002082824707,
          4.423244476318359,
          -3.0399770736694336,
          6.585493564605713,
          -2.1591696739196777,
          4.279353141784668,
          0.04802471771836281,
          6.322165012359619,
          0.3112316429615021,
          -3.860686779022217,
          2.6964616775512695,
          6.113035202026367,
          6.371188163757324,
          1.2968474626541138,
          0.16229702532291412,
          6.468591690063477,
          3.3225581645965576,
          1.334752082824707,
          -2.61983323097229,
          6.458726406097412,
          -2.7798964977264404,
          1.3635488748550415,
          0.5341542363166809,
          2.4615089893341064,
          4.0413818359375,
          -2.226982593536377,
          -2.8169760704040527,
          -0.8819466829299927,
          -2.3879220485687256,
          2.14660906791687,
          2.3015360832214355,
          6.252988815307617,
          -2.3964481353759766,
          2.0986409187316895,
          6.518454074859619,
          6.902678966522217,
          6.246117115020752,
          -2.45269775390625,
          6.720210552215576,
          -3.2727766036987305,
          5.572961807250977,
          -2.296987533569336,
          -3.2351977825164795,
          6.878807067871094,
          -1.8644734621047974,
          -2.9011683464050293,
          5.097560405731201,
          1.1020859479904175,
          6.770041465759277,
          -2.372251272201538,
          6.861089706420898,
          -2.4715592861175537,
          0.8038615584373474,
          6.415645599365234,
          5.990024089813232,
          6.435670852661133,
          6.891602516174316,
          -0.2576502561569214,
          5.327912330627441,
          -1.013606071472168,
          1.2202370166778564,
          -2.0724124908447266,
          4.4691548347473145,
          -3.3842837810516357,
          -2.657060384750366,
          4.637874603271484,
          2.7652101516723633,
          0.8950307369232178,
          5.971033096313477,
          6.792863845825195,
          -2.237492799758911,
          1.2328860759735107,
          -2.7275936603546143,
          6.502296447753906,
          3.0205624103546143,
          -1.8977227210998535,
          -2.4738264083862305,
          -2.35526442527771,
          1.6431925296783447,
          -3.228870153427124,
          -2.7996931076049805,
          -2.6409404277801514,
          5.994089126586914,
          -2.223461151123047,
          -1.69937264919281,
          4.931704521179199,
          -2.582684278488159,
          6.87971305847168,
          -0.35339510440826416,
          -3.4002978801727295,
          -2.2778069972991943,
          -2.407935380935669,
          -3.4639742374420166,
          2.239764928817749,
          0.38455456495285034,
          6.892614364624023,
          3.8097424507141113,
          -2.4784352779388428,
          -2.301192283630371,
          0.4046076834201813,
          6.30656623840332,
          6.320433616638184,
          2.8367202281951904,
          2.1989128589630127,
          6.869163990020752,
          -3.009575128555298,
          0.7817097306251526,
          -2.9618401527404785,
          -3.0779471397399902,
          2.5763020515441895,
          4.55790901184082,
          6.684431552886963,
          -3.2385125160217285,
          1.2862931489944458,
          0.2076180875301361,
          -1.604408860206604,
          -1.8127453327178955,
          -3.471517562866211,
          -2.747767210006714,
          -2.5368893146514893,
          -2.8685238361358643,
          -3.014883041381836,
          6.829400062561035,
          -2.916055202484131,
          -1.4128507375717163,
          0.6801188588142395,
          -2.8526413440704346,
          3.256624937057495,
          -3.0099854469299316,
          -2.9770240783691406,
          -1.0293545722961426,
          -0.045570872724056244,
          6.983434677124023,
          -2.1850085258483887,
          -2.82547926902771,
          6.145847320556641,
          -2.464740753173828,
          6.277835369110107,
          6.710779666900635,
          2.8413243293762207,
          1.8911267518997192,
          5.989702224731445,
          -2.4116175174713135,
          6.2368927001953125,
          4.530154705047607,
          6.650958061218262,
          -2.9987130165100098,
          0.6668293476104736,
          6.918834686279297,
          5.141761302947998,
          -0.37402746081352234,
          -3.0374011993408203,
          -2.8792614936828613,
          0.36760056018829346,
          4.534499168395996,
          -3.041167974472046,
          -0.5036383867263794,
          0.6693882346153259,
          -2.154168128967285,
          -2.390444040298462,
          -2.577735185623169,
          1.6887965202331543,
          0.9405027627944946,
          5.089147090911865,
          4.78932523727417,
          -2.786221981048584,
          6.344799518585205,
          3.5137577056884766,
          6.304255962371826,
          6.657617092132568,
          -2.301015853881836,
          6.898446083068848,
          -1.8991079330444336,
          4.97320032119751,
          1.8168319463729858,
          -3.5033559799194336,
          -2.838005542755127,
          -1.1156116724014282,
          -2.3153629302978516,
          -2.9867138862609863,
          -2.527512788772583,
          -3.0140578746795654,
          0.7836495637893677,
          6.286472797393799,
          -2.5883047580718994,
          6.005547046661377,
          4.4796552658081055,
          6.719882965087891,
          -2.8036623001098633,
          1.3315619230270386,
          -1.9617419242858887,
          -3.0290894508361816,
          -1.7278125286102295,
          -3.8808224201202393,
          5.855006694793701,
          2.961437225341797,
          -2.982743978500366,
          5.934350490570068,
          -1.614930510520935,
          5.957250595092773,
          6.987402439117432,
          -2.808551788330078,
          6.334743022918701,
          -2.7476329803466797,
          5.010113716125488,
          5.958727836608887,
          6.199950695037842,
          2.3786981105804443,
          0.9829303622245789,
          -2.424712896347046,
          -2.1692416667938232,
          2.0428388118743896,
          4.632343769073486,
          -2.226123571395874,
          1.5925159454345703,
          -2.4160845279693604,
          -2.454014778137207,
          6.084066867828369,
          -3.2710907459259033,
          -3.033573627471924,
          -2.8114662170410156,
          -2.155893087387085,
          1.2156957387924194,
          -2.816931962966919,
          4.887124061584473,
          -1.2882263660430908,
          -2.810732126235962,
          -2.0576658248901367,
          6.598869323730469,
          3.0594098567962646,
          -2.0780787467956543,
          1.2189304828643799,
          -3.389373779296875,
          -2.8072707653045654,
          3.7186498641967773,
          -0.036677464842796326,
          2.5227508544921875,
          -2.652294158935547,
          6.963287353515625,
          -3.1957943439483643,
          1.6802207231521606,
          -1.188882827758789,
          -2.7058804035186768,
          -1.0323189496994019,
          -2.674348831176758,
          -3.359689235687256,
          3.9611306190490723,
          6.981777667999268,
          6.469643592834473,
          6.65331506729126,
          6.922566890716553,
          -0.18538999557495117,
          6.334403038024902,
          0.31748464703559875,
          -0.1128443032503128,
          -1.5065747499465942,
          1.8876370191574097,
          -2.789879083633423,
          4.7727885246276855,
          1.1056512594223022,
          1.0033425092697144,
          6.24745512008667,
          -0.7937808036804199,
          0.5521234273910522,
          6.210696697235107,
          -3.5943033695220947,
          -2.900556802749634,
          -0.4488045275211334,
          5.111774444580078,
          -2.777000665664673,
          5.892215251922607,
          1.1898537874221802,
          -2.5288290977478027,
          -0.6662319898605347,
          -1.1714622974395752,
          -0.159418523311615,
          -2.843165159225464,
          -1.5963146686553955,
          -2.8267557621002197,
          1.6741418838500977,
          -3.641522169113159,
          6.5774006843566895,
          -2.8150391578674316,
          6.899616241455078,
          6.849176406860352,
          0.18556690216064453,
          1.4089714288711548,
          -1.9444221258163452,
          2.3447256088256836,
          -2.4471731185913086,
          1.6939324140548706,
          2.213797092437744
         ],
         "z": [
          -9.658689498901367,
          -10.157979965209961,
          1.1273655891418457,
          0.4758869707584381,
          -4.063656330108643,
          -10.582257270812988,
          -9.361018180847168,
          -6.095658779144287,
          -3.384572982788086,
          -0.318199098110199,
          -2.0019919872283936,
          -11.140876770019531,
          -7.490933418273926,
          -6.979759216308594,
          -5.34920072555542,
          1.0925583839416504,
          -4.5271687507629395,
          -11.478592872619629,
          0.5391553640365601,
          -5.087768077850342,
          -3.0422656536102295,
          -7.79694938659668,
          -8.874454498291016,
          -6.701418399810791,
          -10.42867374420166,
          -9.271864891052246,
          -12.305447578430176,
          -3.86250376701355,
          -12.841798782348633,
          -12.740748405456543,
          -8.374181747436523,
          -6.92566442489624,
          -11.067814826965332,
          -7.743572235107422,
          -10.590540885925293,
          -11.106521606445312,
          -9.494070053100586,
          -10.009184837341309,
          -10.200750350952148,
          -11.627766609191895,
          -9.551997184753418,
          -0.3940023183822632,
          -5.880224704742432,
          -8.407134056091309,
          -12.097969055175781,
          -4.9400153160095215,
          -7.364839553833008,
          -12.154797554016113,
          -4.1782073974609375,
          -6.3544087409973145,
          -12.433621406555176,
          -3.681607246398926,
          1.0870708227157593,
          1.0191080570220947,
          -12.346766471862793,
          -9.844204902648926,
          -8.700458526611328,
          -4.940221786499023,
          -10.586305618286133,
          -5.874302387237549,
          -1.9674094915390015,
          -10.424088478088379,
          -10.167606353759766,
          -12.712069511413574,
          -9.811799049377441,
          -10.721833229064941,
          -9.960602760314941,
          -7.2639994621276855,
          -5.953670024871826,
          -3.866133213043213,
          0.8539276719093323,
          -5.625511169433594,
          -3.6656994819641113,
          -6.342426776885986,
          -4.210791110992432,
          -7.4551310539245605,
          -2.482147693634033,
          -9.647472381591797,
          -5.629772663116455,
          -9.281973838806152,
          -0.07372355461120605,
          -12.520838737487793,
          -3.1710829734802246,
          -8.214248657226562,
          -4.822480201721191,
          -12.838445663452148,
          -5.056807994842529,
          -8.777236938476562,
          -7.101271629333496,
          -13.104808807373047,
          -13.128206253051758,
          -10.488409996032715,
          -9.953778266906738,
          -10.61116886138916,
          -7.733694553375244,
          -6.250964164733887,
          -2.0167171955108643,
          -11.385096549987793,
          0.7186680436134338,
          -2.988644599914551,
          -6.583897590637207,
          -9.54189682006836,
          -8.026378631591797,
          1.1619102954864502,
          0.46052342653274536,
          -3.9789795875549316,
          -2.0729117393493652,
          -8.10538101196289,
          -9.634513854980469,
          -10.178586959838867,
          -3.1313869953155518,
          -8.271018981933594,
          -11.169828414916992,
          -12.071891784667969,
          -12.70622444152832,
          -1.8539388179779053,
          -12.401871681213379,
          -8.673904418945312,
          -10.89704418182373,
          -2.8111519813537598,
          -3.9047610759735107,
          -12.281452178955078,
          -8.827950477600098,
          0.7639296650886536,
          -12.197514533996582,
          -6.441033363342285,
          -12.167207717895508,
          -2.806400775909424,
          -12.324172973632812,
          -1.276313066482544,
          -8.881147384643555,
          -12.568814277648926,
          -13.002053260803223,
          -12.716500282287598,
          -9.068622589111328,
          -5.46435546875,
          -9.158870697021484,
          -3.92594838142395,
          -7.461014747619629,
          -4.801481246948242,
          -8.359790802001953,
          -8.026571273803711,
          -1.4494714736938477,
          -8.511943817138672,
          -6.999270439147949,
          -6.989664554595947,
          -12.207975387573242,
          -11.672179222106934,
          -2.201711416244507,
          -7.304466724395752,
          -1.3021082878112793,
          -10.7030029296875,
          -7.314871311187744,
          -3.7360384464263916,
          -2.1884238719940186,
          -2.9500439167022705,
          -9.825298309326172,
          -3.860170602798462,
          0.8120368123054504,
          -8.010897636413574,
          -9.848692893981934,
          -8.191006660461426,
          -9.170053482055664,
          -10.731636047363281,
          -0.9950003027915955,
          -11.943577766418457,
          -6.3675923347473145,
          -7.140517234802246,
          -2.1696155071258545,
          -2.670513153076172,
          -5.649349689483643,
          -9.667655944824219,
          -5.1211042404174805,
          -11.970757484436035,
          -11.409504890441895,
          -1.17716646194458,
          -2.7572507858276367,
          -6.475000381469727,
          -12.809207916259766,
          -11.34913158416748,
          -7.061853885650635,
          -6.5566840171813965,
          -8.877562522888184,
          0.4517919719219208,
          -5.51675271987915,
          0.6744695901870728,
          -7.852466106414795,
          -9.89608383178711,
          -8.441120147705078,
          -11.39098834991455,
          -8.897502899169922,
          -10.47960376739502,
          -9.16316032409668,
          -5.833363056182861,
          -5.171818733215332,
          -8.6353178024292,
          -1.303643822669983,
          -1.9861799478530884,
          -7.894979953765869,
          -0.2736045718193054,
          -11.82152271270752,
          -8.452959060668945,
          -4.572785377502441,
          -6.610853672027588,
          -8.995141983032227,
          -11.096991539001465,
          -6.603458404541016,
          0.5894099473953247,
          -9.374348640441895,
          -4.7405195236206055,
          -9.951225280761719,
          -2.5584003925323486,
          -5.834309101104736,
          -13.214780807495117,
          -0.5084406137466431,
          -12.71599292755127,
          -12.30622386932373,
          -10.846614837646484,
          -6.324733734130859,
          -13.212848663330078,
          -3.0525193214416504,
          -12.80504035949707,
          -11.789475440979004,
          -11.235391616821289,
          -0.35641413927078247,
          -5.475767612457275,
          -12.22583293914795,
          -9.006952285766602,
          -5.2768120765686035,
          0.1905481070280075,
          0.8416686654090881,
          -6.943475246429443,
          -8.408961296081543,
          -0.01365274004638195,
          -9.612764358520508,
          -5.416668891906738,
          -2.331702709197998,
          -2.1762170791625977,
          -6.489850044250488,
          -6.175634384155273,
          -7.301611423492432,
          -8.914645195007324,
          -8.919270515441895,
          0.15291030704975128,
          -12.751147270202637,
          -11.2782621383667,
          -12.806809425354004,
          -12.526090621948242,
          -6.094531059265137,
          -9.769697189331055,
          -9.040501594543457,
          -8.805015563964844,
          -6.268978595733643,
          -8.922110557556152,
          0.8969805836677551,
          -6.248871803283691,
          -2.710645914077759,
          -0.21240758895874023,
          -2.992952585220337,
          0.42243891954421997,
          -5.462689399719238,
          -10.24094009399414,
          -7.677295207977295,
          -12.841400146484375,
          -8.370406150817871,
          -11.54982852935791,
          -8.81893539428711,
          -10.403912544250488,
          -3.6832168102264404,
          -0.15758861601352692,
          -3.091850519180298,
          -5.223514080047607,
          -13.054120063781738,
          -10.565418243408203,
          -3.685938596725464,
          -12.962179183959961,
          -5.669806957244873,
          -9.805282592773438,
          -9.916709899902344,
          -1.056281328201294,
          -12.992562294006348,
          -1.2105278968811035,
          -8.845697402954102,
          -9.809296607971191,
          -10.091755867004395,
          -6.684962749481201,
          -7.084333896636963,
          -6.707191467285156,
          -3.7082760334014893,
          -8.195887565612793,
          -11.611327171325684,
          -2.2460811138153076,
          -3.1787526607513428,
          -6.427023410797119,
          -1.0931764841079712,
          -13.105047225952148,
          -4.083400249481201,
          -0.10933458805084229,
          -1.0571213960647583,
          -2.3469581604003906,
          -10.448694229125977,
          -0.6162553429603577,
          -12.075942993164062,
          -3.5398499965667725,
          0.3065415322780609,
          -2.9082279205322266,
          -11.024349212646484,
          -10.105093955993652,
          -2.273423910140991,
          -9.669437408447266,
          -5.005654811859131,
          -1.0879361629486084,
          -7.7604451179504395,
          -9.880321502685547,
          -10.718966484069824,
          1.0392130613327026,
          -9.621971130371094,
          -3.883378744125366,
          -6.691081523895264,
          -5.5842084884643555,
          -6.656487464904785,
          -3.859856128692627,
          -1.391960859298706,
          -8.25993537902832,
          -10.9434814453125,
          -9.939181327819824,
          -10.60580825805664,
          -12.521888732910156,
          -12.12161636352539,
          -9.809122085571289,
          -10.612667083740234,
          -9.886988639831543,
          -4.681735515594482,
          -3.2531683444976807,
          -7.84807014465332,
          -0.6551368236541748,
          -11.683900833129883,
          -3.9363019466400146,
          -5.638227462768555,
          -10.18619155883789,
          -4.519076824188232,
          -5.267477035522461,
          -12.783449172973633,
          -5.626227855682373,
          -0.7741889953613281,
          -5.041965961456299,
          -12.042651176452637,
          -0.6507841348648071,
          -10.600415229797363,
          -6.661856651306152,
          -2.4284143447875977,
          -6.251405715942383,
          -3.6580495834350586,
          -6.647693157196045,
          -8.685933113098145,
          -5.242152214050293,
          0.9013681411743164,
          -7.7503461837768555,
          -5.499108791351318,
          -12.585647583007812,
          -1.0338821411132812,
          -12.224967956542969,
          -11.755328178405762,
          -4.9461164474487305,
          -9.338421821594238,
          -4.417792797088623,
          -5.663669109344482,
          -0.9941065311431885,
          -3.2420949935913086,
          -6.6251020431518555
         ]
        },
        {
         "hoverlabel": {
          "namelength": 0
         },
         "hovertemplate": "Dominant_Topic=Topic 1<br>0=%{x}<br>1=%{y}<br>2=%{z}",
         "legendgroup": "Dominant_Topic=Topic 1",
         "marker": {
          "color": "#EF553B",
          "opacity": 0.7,
          "symbol": "circle"
         },
         "mode": "markers",
         "name": "Dominant_Topic=Topic 1",
         "scene": "scene",
         "showlegend": true,
         "type": "scatter3d",
         "x": [
          -11.657877922058105,
          -8.071904182434082,
          3.8630757331848145,
          -0.30449432134628296,
          5.8635382652282715,
          6.179755687713623,
          -5.323461055755615,
          -11.411335945129395,
          -5.649744033813477,
          -5.145335674285889,
          -9.614151954650879,
          -5.987328052520752,
          -9.61916446685791,
          -8.433679580688477,
          -5.5057525634765625,
          -4.6157684326171875,
          10.827621459960938,
          -7.401271343231201,
          -6.787652492523193,
          -10.464324951171875,
          -6.110249042510986,
          8.620885848999023,
          -9.783740043640137,
          -0.059266384690999985,
          -10.393325805664062,
          -0.25524449348449707,
          -9.315638542175293,
          -9.46217155456543,
          -9.856846809387207,
          2.6753053665161133,
          -11.698369026184082,
          -2.472536325454712,
          -1.4525768756866455,
          -10.85434341430664,
          -10.362272262573242,
          -5.522078990936279,
          -10.161629676818848,
          -4.990802764892578,
          3.000187873840332,
          -7.72091007232666,
          -7.415791034698486,
          0.4339149296283722,
          -8.111157417297363,
          10.309886932373047,
          -8.787813186645508,
          -0.8394588828086853,
          -9.563273429870605,
          -11.24916934967041,
          -5.268601894378662,
          -7.326413154602051,
          10.76576042175293,
          -0.2760562598705292,
          -8.103403091430664,
          -6.985119342803955,
          -3.540294885635376,
          9.589700698852539,
          0.14990313351154327,
          2.085827589035034,
          -10.564420700073242,
          9.333446502685547,
          -9.404845237731934,
          1.2273796796798706,
          7.708189487457275,
          -9.915287017822266,
          -7.063389301300049,
          -10.057489395141602,
          -4.921130180358887,
          -5.964868068695068,
          -11.115730285644531,
          -10.721391677856445,
          -7.562085151672363,
          5.944945812225342,
          -6.059459686279297,
          -7.307398319244385,
          4.382637977600098,
          -10.764763832092285,
          7.1552605628967285,
          -10.543302536010742,
          -7.871924877166748,
          -9.298524856567383,
          7.405799865722656,
          -8.09378433227539,
          5.737487316131592,
          -6.447643280029297,
          -8.177375793457031,
          -7.316241264343262,
          -6.523495197296143,
          -4.712684631347656,
          -8.748663902282715,
          -6.718002796173096,
          0.24886296689510345,
          3.0722005367279053,
          9.787505149841309,
          -8.214401245117188,
          5.940895080566406,
          -6.946715354919434,
          -6.7874064445495605,
          10.586272239685059,
          -4.339911460876465,
          -10.530817031860352,
          -7.942657947540283,
          -9.42187213897705,
          -4.524717807769775,
          -8.930177688598633,
          -4.514899253845215,
          6.7988691329956055,
          -4.823651313781738,
          -8.196067810058594,
          -0.20835117995738983,
          -11.125816345214844,
          -7.242247104644775,
          -4.866647720336914,
          10.71269416809082,
          -9.087079048156738,
          -4.20871639251709,
          -11.147257804870605,
          -10.210957527160645,
          10.440217971801758,
          -5.692404270172119,
          8.36823558807373,
          -4.717248916625977,
          -9.99504280090332,
          -4.367788314819336,
          6.88814640045166,
          -9.56031608581543,
          -10.071576118469238,
          3.6279008388519287,
          -6.350156307220459,
          10.093585968017578,
          6.185273170471191,
          -2.5389626026153564,
          -9.615195274353027,
          10.58681869506836,
          -6.936297416687012,
          -11.272199630737305,
          -8.0816650390625,
          -4.417845726013184,
          -2.513559341430664,
          -2.0340723991394043,
          5.241861820220947,
          0.8139770030975342,
          10.259732246398926,
          -3.02705454826355,
          -9.780799865722656,
          -11.640483856201172,
          -5.525937557220459,
          -7.082874774932861,
          5.736917972564697,
          -8.025259017944336,
          7.034488201141357,
          -2.605581760406494,
          -8.102253913879395,
          -7.680788040161133,
          -7.206593990325928,
          -5.808258056640625,
          -8.141463279724121,
          -5.067938327789307,
          -5.176978588104248,
          -10.185505867004395,
          -6.788511276245117,
          -4.053110599517822,
          -8.160181045532227,
          -6.480649948120117,
          -5.185962677001953,
          -7.749504089355469,
          -3.9404687881469727,
          -6.459936141967773,
          -7.2962117195129395,
          -7.0470733642578125,
          -0.5523678660392761,
          -10.312030792236328,
          -0.039400357753038406,
          9.13814640045166,
          -8.787395477294922,
          9.73060417175293,
          -11.290799140930176,
          -10.688522338867188,
          -9.375100135803223,
          11.150761604309082,
          -9.649487495422363,
          -3.160980701446533,
          4.7793426513671875,
          10.402426719665527,
          -3.0241177082061768,
          -8.967025756835938,
          -4.255775451660156,
          -11.686018943786621,
          -10.063004493713379,
          -8.005059242248535,
          -2.740363597869873,
          -9.849912643432617,
          -2.500030517578125,
          -9.425154685974121,
          -10.601676940917969,
          -10.495745658874512,
          -7.4668049812316895,
          8.924274444580078,
          -3.9694275856018066,
          -6.116913795471191,
          -4.662150859832764,
          -5.698837757110596,
          -11.005058288574219,
          -9.173588752746582,
          -8.220484733581543,
          -8.014908790588379,
          -5.144785404205322,
          -7.136298656463623,
          -11.22471809387207,
          0.6962175965309143,
          -10.20860767364502,
          -6.5847954750061035,
          -10.871689796447754,
          1.4400050640106201,
          -4.592525005340576,
          -4.836756229400635,
          -3.7791149616241455,
          -11.632243156433105,
          6.586228370666504,
          1.191338300704956,
          1.6574786901474,
          -5.752719879150391,
          -10.054529190063477,
          -11.65197467803955,
          -5.840046405792236,
          -9.4839506149292,
          -3.738670587539673,
          -6.106595516204834,
          -7.139838218688965,
          -10.514996528625488,
          -7.056455612182617,
          -1.3497673273086548,
          -1.1480258703231812,
          8.644659996032715,
          -8.222519874572754,
          -6.62970495223999,
          -1.7090673446655273,
          -0.48488715291023254,
          -4.891446113586426,
          6.413858413696289,
          -8.208041191101074,
          -3.832974910736084,
          -5.287513732910156,
          1.7552015781402588,
          -10.043209075927734,
          8.647537231445312,
          -5.07725715637207,
          -10.196585655212402,
          -6.646487236022949,
          -7.5324387550354,
          -3.844278335571289,
          6.71614933013916,
          -8.950567245483398,
          -6.715699672698975,
          9.063273429870605,
          -10.108399391174316,
          -8.025822639465332,
          -8.210053443908691,
          -3.5876846313476562,
          -1.1356613636016846,
          -0.12593960762023926,
          -7.653319358825684,
          -7.652247428894043,
          -9.614364624023438,
          -9.921515464782715,
          -5.76041841506958,
          3.54415225982666,
          -5.149466514587402,
          -4.8948235511779785,
          10.562779426574707,
          10.240962982177734,
          -4.701785564422607,
          -2.4421396255493164,
          -8.19789981842041,
          -10.783764839172363,
          -6.946328639984131,
          -1.2505486011505127,
          -6.461813926696777,
          -9.5475435256958,
          -8.173826217651367,
          -8.133522987365723,
          -9.744845390319824,
          -4.92445182800293,
          -2.241015672683716,
          1.3211545944213867,
          -7.2820611000061035,
          -7.659392833709717,
          -1.0294020175933838,
          -6.600506782531738,
          -7.150054454803467,
          -7.277937412261963,
          -7.282858371734619,
          -9.095010757446289,
          -10.161788940429688,
          -11.700056076049805,
          10.053564071655273,
          -10.111173629760742,
          -4.410075664520264,
          9.051337242126465,
          -7.6112446784973145,
          -9.091083526611328,
          -7.833521366119385,
          -11.608202934265137,
          3.3945233821868896,
          -7.635708808898926,
          -11.459240913391113,
          -2.8472378253936768,
          -10.466747283935547,
          -10.346138000488281,
          -10.739498138427734,
          8.51905345916748,
          -7.161206245422363,
          -5.4681620597839355,
          -7.56730318069458,
          -8.826428413391113,
          -10.721753120422363,
          -8.618800163269043,
          -5.148845195770264,
          -6.904531955718994,
          0.4664490222930908,
          -10.061450004577637,
          -3.232565402984619,
          4.446547985076904,
          -1.4370684623718262,
          3.3622000217437744,
          2.843926191329956,
          -11.612833976745605,
          -7.013932228088379,
          8.530826568603516,
          0.28539934754371643,
          -10.560098648071289,
          -10.757983207702637,
          0.5360495448112488,
          -5.279412269592285,
          -5.567434310913086,
          -4.375507354736328,
          -4.6796793937683105,
          -11.658035278320312,
          -8.400371551513672,
          -7.235644817352295,
          -5.431648254394531,
          -4.891928195953369,
          3.872816324234009,
          9.743658065795898,
          -5.660002708435059,
          8.3149995803833,
          -9.979686737060547,
          -5.134409427642822,
          -7.366535186767578,
          -7.698017120361328,
          -4.337553024291992,
          7.572920322418213,
          -6.989894390106201,
          -8.11786937713623,
          -9.415031433105469,
          -4.512475490570068,
          -6.363352298736572,
          -10.372653007507324,
          0.44194963574409485,
          -9.098013877868652,
          8.890287399291992,
          -1.7454419136047363,
          5.687682151794434,
          -8.559040069580078,
          -4.372679233551025,
          -10.28357219696045,
          -7.294632911682129,
          -5.60594367980957,
          -9.184677124023438,
          -8.006272315979004,
          -11.530714988708496,
          -5.389647483825684,
          -1.2925776243209839,
          -10.522647857666016,
          -3.7734785079956055,
          -9.403714179992676,
          4.417755603790283,
          10.052148818969727,
          -0.6887379884719849,
          0.0803389921784401,
          -4.578099727630615,
          -1.092305064201355,
          -8.170831680297852,
          2.547454595565796,
          -4.245856761932373,
          -6.477381229400635,
          -0.021046232432127,
          -3.2140560150146484,
          9.374834060668945,
          -8.111413955688477,
          -2.36564040184021,
          -7.313510417938232,
          -5.701019287109375,
          10.802138328552246,
          -6.9037184715271,
          -8.205583572387695,
          -6.983983993530273,
          -4.779041290283203,
          8.540251731872559,
          -6.055135250091553,
          -7.747001647949219,
          -3.9417061805725098,
          -4.0218305587768555,
          -0.49927622079849243,
          -9.781218528747559,
          -3.297166109085083,
          -0.29886120557785034,
          -6.608169078826904,
          9.10799503326416,
          -11.550020217895508,
          1.0004959106445312,
          -3.825075387954712,
          -1.8363802433013916,
          -6.686452388763428,
          -8.636260032653809,
          -8.041962623596191,
          -9.814642906188965,
          -0.6403760313987732,
          -8.332856178283691,
          -9.772698402404785,
          -2.562185049057007,
          -9.706633567810059,
          5.968245029449463,
          -4.462400913238525,
          -9.63072681427002,
          1.7427313327789307,
          6.5131378173828125,
          0.6128489375114441,
          -6.808786869049072,
          -5.066539287567139,
          -3.6055145263671875,
          6.445770263671875,
          -6.773366451263428,
          -5.649369716644287,
          0.10372752696275711,
          0.4833245873451233,
          -1.9620587825775146,
          -5.079387664794922,
          -1.7543059587478638,
          -6.626208305358887,
          9.107816696166992,
          -11.402641296386719,
          -9.57630443572998,
          -2.7723450660705566,
          -6.959630489349365,
          -5.649410724639893,
          -3.1505379676818848,
          10.373373031616211,
          -10.004626274108887,
          -8.296138763427734,
          -6.284543991088867,
          -6.937047004699707,
          -3.8492512702941895,
          8.233728408813477,
          -5.037236213684082,
          -5.493073463439941,
          -7.7363362312316895,
          -9.972518920898438,
          -10.185441970825195,
          -3.6786673069000244,
          -9.584577560424805,
          9.909160614013672,
          10.078827857971191,
          2.5008976459503174,
          -11.537619590759277,
          -4.970836639404297,
          -8.060046195983887,
          -10.131819725036621,
          -10.978692054748535,
          5.491421699523926,
          10.036261558532715,
          -9.045190811157227,
          -7.618664741516113,
          -4.909840106964111,
          8.79845905303955,
          -0.38063812255859375,
          -11.612205505371094,
          -8.023455619812012,
          -7.996223449707031,
          -8.534709930419922,
          -1.7437256574630737,
          -10.539558410644531,
          -11.571255683898926,
          -6.479048252105713,
          -9.71662425994873,
          8.549789428710938,
          -7.966231822967529,
          -9.389936447143555,
          -0.27640897035598755,
          -2.144318103790283,
          -7.119009494781494,
          -10.229788780212402,
          -7.0826826095581055,
          -10.959372520446777,
          -5.902871131896973,
          -2.863213062286377,
          -4.081291198730469,
          -9.896973609924316,
          10.03737735748291,
          -7.915853023529053,
          -5.807917594909668,
          5.182036399841309,
          -7.883401393890381,
          -7.869917869567871,
          -4.049961090087891,
          -10.98512077331543,
          -10.043282508850098,
          -2.7093591690063477,
          -7.281919956207275,
          11.23676872253418,
          1.1038856506347656,
          -7.988487720489502,
          -11.47309398651123,
          -11.570130348205566,
          10.920201301574707,
          -6.899672508239746,
          -11.632059097290039,
          0.846181333065033,
          4.588109016418457,
          -3.2016782760620117,
          2.1809473037719727,
          -10.123458862304688,
          -2.8583226203918457,
          9.981576919555664,
          -4.941658973693848,
          -6.448408126831055,
          -4.566605091094971,
          -0.9140563011169434,
          -9.662166595458984,
          -8.234807014465332,
          9.08847427368164,
          -8.957152366638184,
          -11.01909065246582,
          -6.785813331604004,
          10.663614273071289,
          4.163111686706543,
          -7.534207820892334,
          -9.996707916259766,
          4.811893463134766,
          -10.499414443969727,
          -7.2742390632629395,
          -6.300541877746582,
          11.006477355957031,
          -3.82405424118042,
          9.43311882019043,
          -10.204312324523926,
          -7.770477771759033,
          -8.691478729248047,
          3.360729217529297,
          -5.987059116363525,
          3.4810848236083984,
          -7.911064624786377,
          -5.530282497406006,
          -3.6192188262939453,
          8.258943557739258,
          -3.863442897796631
         ],
         "y": [
          -3.330474853515625,
          3.9003045558929443,
          1.571771264076233,
          -1.486703634262085,
          1.7320340871810913,
          2.152236223220825,
          -4.948817253112793,
          -3.9903483390808105,
          3.4274659156799316,
          -5.689384937286377,
          1.1412111520767212,
          2.64389705657959,
          1.8853148221969604,
          -5.300563335418701,
          -6.681723594665527,
          0.970881462097168,
          5.727785587310791,
          4.974668025970459,
          -5.003918170928955,
          -4.815476894378662,
          4.6318864822387695,
          3.157191276550293,
          1.138719081878662,
          -1.53812575340271,
          -0.18009790778160095,
          -1.45099675655365,
          -4.541477680206299,
          -3.2810068130493164,
          1.2642312049865723,
          1.4775527715682983,
          -3.442525863647461,
          -0.7669992446899414,
          -3.3878238201141357,
          -3.054967164993286,
          -4.569647789001465,
          3.4332306385040283,
          -4.7092204093933105,
          -5.487048149108887,
          1.4263650178909302,
          -5.894916534423828,
          -6.111310005187988,
          -1.7576565742492676,
          5.236241340637207,
          5.106828689575195,
          -4.97537088394165,
          1.858515739440918,
          -2.6296310424804688,
          -3.1755151748657227,
          -4.364880561828613,
          4.9023261070251465,
          5.819636821746826,
          -1.5085151195526123,
          5.21182107925415,
          -6.106420993804932,
          -0.8614007830619812,
          4.284358024597168,
          -2.0831186771392822,
          1.5241326093673706,
          -3.32133150100708,
          4.002741813659668,
          -2.568222761154175,
          1.5487931966781616,
          2.7431583404541016,
          -3.8802413940429688,
          4.138147354125977,
          0.8697364330291748,
          -4.400854587554932,
          -6.248819351196289,
          -4.1773834228515625,
          -3.018833637237549,
          -6.019176959991455,
          1.8625268936157227,
          2.75600528717041,
          -4.671854019165039,
          1.6410188674926758,
          -4.431570053100586,
          2.4325273036956787,
          -0.6758859157562256,
          5.018004417419434,
          -4.737340450286865,
          2.572390079498291,
          5.243160724639893,
          1.8983958959579468,
          4.631798267364502,
          5.193892955780029,
          -5.038238048553467,
          -4.976066589355469,
          3.9211528301239014,
          -3.929309606552124,
          3.5701584815979004,
          1.653517723083496,
          1.5984700918197632,
          4.503513336181641,
          5.270408630371094,
          2.052232265472412,
          4.730931758880615,
          0.8902257084846497,
          5.721008777618408,
          -5.035102844238281,
          -0.3646917939186096,
          5.125041961669922,
          -4.886749267578125,
          -3.389207124710083,
          -4.888382434844971,
          -3.42524790763855,
          2.2618985176086426,
          4.005070209503174,
          5.273483753204346,
          -1.8445571660995483,
          -2.992913246154785,
          4.255415439605713,
          1.190487027168274,
          5.5402374267578125,
          -4.8781843185424805,
          -3.302624464035034,
          -4.1636786460876465,
          0.24060973525047302,
          5.355142116546631,
          4.38676643371582,
          3.2027370929718018,
          -5.3110551834106445,
          0.5396984815597534,
          0.8851691484451294,
          2.306476354598999,
          1.7237775325775146,
          0.5611415505409241,
          1.3795700073242188,
          3.1594040393829346,
          4.938538551330566,
          1.8562159538269043,
          -0.2771884500980377,
          -3.9973807334899902,
          5.4822587966918945,
          2.7887423038482666,
          -3.0059263706207275,
          5.149888515472412,
          -2.625905752182007,
          -0.8208683133125305,
          2.517328977584839,
          1.783961534500122,
          1.5890216827392578,
          4.941379070281982,
          3.1245508193969727,
          -1.9738284349441528,
          -3.2542295455932617,
          4.284551620483398,
          -4.295175552368164,
          1.8769423961639404,
          5.193001747131348,
          2.3790059089660645,
          -0.2540363073348999,
          5.148410797119141,
          4.793262481689453,
          0.40506476163864136,
          -2.6085493564605713,
          -4.998810291290283,
          -4.664924621582031,
          4.1150360107421875,
          -2.360442638397217,
          3.743009090423584,
          -4.40070104598999,
          5.23787784576416,
          3.290095806121826,
          -6.246261119842529,
          4.8658905029296875,
          0.5922804474830627,
          4.800961494445801,
          -5.029846668243408,
          -3.8311188220977783,
          1.7884960174560547,
          -3.5983541011810303,
          -1.9176784753799438,
          3.599215030670166,
          -5.017181396484375,
          4.443069934844971,
          -2.9826302528381348,
          -3.213575601577759,
          -4.5407490730285645,
          5.922451019287109,
          -4.222832202911377,
          -3.024219274520874,
          1.692097544670105,
          5.309593200683594,
          0.007098506670445204,
          -2.424337387084961,
          3.7313432693481445,
          -3.606865882873535,
          -4.22595739364624,
          3.6107017993927,
          -3.0722413063049316,
          1.6834179162979126,
          2.785597085952759,
          -3.2764105796813965,
          -3.240010976791382,
          -0.34560513496398926,
          -6.084659099578857,
          3.5085461139678955,
          0.539616048336029,
          0.8964169025421143,
          3.908107280731201,
          4.412038326263428,
          -2.9723663330078125,
          -4.829458713531494,
          5.25886344909668,
          -5.551098823547363,
          4.142457008361816,
          -6.243419647216797,
          -4.0981364250183105,
          1.5980055332183838,
          0.18832220137119293,
          1.1356490850448608,
          -2.9802095890045166,
          -2.1750118732452393,
          -5.263244152069092,
          1.2540206909179688,
          -4.296223163604736,
          -3.693822145462036,
          2.205030679702759,
          1.5607839822769165,
          1.5295331478118896,
          4.422293663024902,
          0.9219689965248108,
          -3.3229997158050537,
          2.48221492767334,
          -4.40185022354126,
          -4.2864861488342285,
          3.4763693809509277,
          -4.481107234954834,
          -3.246636390686035,
          3.930917978286743,
          -3.2932894229888916,
          1.9835976362228394,
          3.2316958904266357,
          5.256746292114258,
          0.8974236249923706,
          2.3143274784088135,
          -1.339298963546753,
          -4.608316898345947,
          2.03753399848938,
          5.281035900115967,
          -3.0649187564849854,
          -6.772951126098633,
          1.5277000665664673,
          -4.63758659362793,
          3.388455629348755,
          -4.52097749710083,
          0.44424474239349365,
          2.0047507286071777,
          4.586697101593018,
          -2.9851763248443604,
          2.052253484725952,
          -2.897803544998169,
          4.760979652404785,
          3.5402956008911133,
          0.6637263894081116,
          5.177323341369629,
          5.24891996383667,
          -3.2184696197509766,
          1.9773050546646118,
          -1.5094335079193115,
          -5.0260009765625,
          5.024924278259277,
          1.573146104812622,
          -2.0206799507141113,
          4.4787445068359375,
          1.5919911861419678,
          -3.2473456859588623,
          1.221466064453125,
          5.685029029846191,
          4.897256851196289,
          -4.698300838470459,
          -4.408919334411621,
          5.2643256187438965,
          -3.0945792198181152,
          3.8705973625183105,
          2.0313003063201904,
          -6.385528564453125,
          -4.279151439666748,
          -0.2827090620994568,
          5.26577615737915,
          -4.971815586090088,
          -4.6347527503967285,
          -0.4571022689342499,
          1.5491070747375488,
          -4.648013114929199,
          4.751739025115967,
          1.9320976734161377,
          4.589201927185059,
          4.163776397705078,
          4.349879741668701,
          3.773768424987793,
          -4.7382097244262695,
          0.25564470887184143,
          -3.4432504177093506,
          4.874770164489746,
          -4.6556501388549805,
          0.9253671765327454,
          3.7577943801879883,
          4.987374305725098,
          -2.9898874759674072,
          -5.036773681640625,
          -3.2071762084960938,
          1.516684889793396,
          -5.048288345336914,
          -3.0518486499786377,
          -4.4399638175964355,
          -2.851130723953247,
          -4.498169422149658,
          -4.485565662384033,
          3.160004138946533,
          4.233591079711914,
          -4.924796104431152,
          -4.601055145263672,
          -3.617307186126709,
          -2.8872952461242676,
          -5.122818946838379,
          -4.905181884765625,
          3.9287049770355225,
          1.6250888109207153,
          -4.968520164489746,
          -2.7129905223846436,
          1.6090929508209229,
          2.1371772289276123,
          1.5125552415847778,
          1.5257444381713867,
          -3.2306811809539795,
          -6.282617092132568,
          3.5348808765411377,
          -1.6948928833007812,
          -3.328638792037964,
          -4.29530143737793,
          -1.9362596273422241,
          -5.944958686828613,
          -4.826918125152588,
          3.63275408744812,
          3.941958427429199,
          -3.6080641746520996,
          -3.67012357711792,
          0.6779937744140625,
          3.4582512378692627,
          -5.1131205558776855,
          1.5746797323226929,
          4.4586944580078125,
          -6.58579158782959,
          3.1323297023773193,
          1.1899423599243164,
          -5.0262885093688965,
          3.8400819301605225,
          -5.0554962158203125,
          -4.060656547546387,
          2.6666793823242188,
          4.000960350036621,
          5.126226902008057,
          -4.372081279754639,
          -4.592663288116455,
          -6.408169269561768,
          -4.3414835929870605,
          1.626083493232727,
          -2.883176565170288,
          3.6192729473114014,
          2.3380651473999023,
          1.9840656518936157,
          -4.899962902069092,
          -4.191641330718994,
          -0.5989089608192444,
          0.8348327279090881,
          -4.852574348449707,
          -4.8927741050720215,
          5.167728424072266,
          -3.8440237045288086,
          -6.282046318054199,
          2.0539040565490723,
          -3.37665057182312,
          -4.298792839050293,
          -3.130794048309326,
          1.6271250247955322,
          4.911002159118652,
          -1.3656911849975586,
          -1.6058673858642578,
          -3.252481698989868,
          -1.3397444486618042,
          5.280623435974121,
          1.526044249534607,
          -3.0913429260253906,
          -4.974602222442627,
          -1.563356876373291,
          0.11956845223903656,
          4.041181564331055,
          5.254027366638184,
          -0.37751904129981995,
          4.34405517578125,
          -4.857153415679932,
          5.804003715515137,
          4.753450393676758,
          5.241739273071289,
          4.866042613983154,
          1.2007204294204712,
          3.548201560974121,
          2.743706226348877,
          5.038581848144531,
          0.6047173738479614,
          0.4758613407611847,
          1.7837722301483154,
          1.513828158378601,
          0.1581602841615677,
          1.742034912109375,
          4.850388526916504,
          3.7909412384033203,
          -3.83669376373291,
          -1.994751214981079,
          0.5189177393913269,
          -3.3425114154815674,
          1.085940957069397,
          -4.951425552368164,
          5.199566841125488,
          1.7349151372909546,
          1.8118101358413696,
          -5.391432762145996,
          -3.392782688140869,
          2.8215548992156982,
          -4.189645767211914,
          1.8282233476638794,
          -4.541591167449951,
          -4.693632125854492,
          1.5282341241836548,
          2.182025194168091,
          1.6074448823928833,
          -3.14882230758667,
          -4.494534969329834,
          -3.5503690242767334,
          2.080393075942993,
          4.705091953277588,
          3.4273288249969482,
          -1.6187841892242432,
          1.6229647397994995,
          2.4756181240081787,
          -6.2651777267456055,
          -3.344954252243042,
          3.4918618202209473,
          3.790834426879883,
          -3.003416061401367,
          -4.926218509674072,
          2.9285831451416016,
          4.840981960296631,
          3.42730975151062,
          -4.568817138671875,
          5.250024318695068,
          1.1785306930541992,
          3.583737850189209,
          3.032301425933838,
          -6.290955543518066,
          -4.4650163650512695,
          3.06862735748291,
          -3.705496311187744,
          -4.715285778045654,
          -5.0418381690979,
          -4.794609069824219,
          -2.1486895084381104,
          -4.444383144378662,
          -1.9401379823684692,
          4.652947902679443,
          4.941216468811035,
          1.521642804145813,
          -3.1270592212677,
          4.079883575439453,
          -5.537543773651123,
          -2.1629691123962402,
          -2.9767515659332275,
          1.8217415809631348,
          4.954373359680176,
          -4.685574054718018,
          4.710949420928955,
          -5.145477771759033,
          3.2310357093811035,
          1.7586638927459717,
          -3.501044273376465,
          -5.505692481994629,
          5.094118118286133,
          -2.756150484085083,
          -3.269803762435913,
          -0.9007560610771179,
          -3.7813313007354736,
          4.814540863037109,
          -4.146148681640625,
          3.1656296253204346,
          5.129236221313477,
          -4.813555717468262,
          -1.5080230236053467,
          -0.5038015246391296,
          -4.5901570320129395,
          0.46584808826446533,
          4.81054162979126,
          -2.9753620624542236,
          -4.445426940917969,
          -3.291097402572632,
          -3.2916269302368164,
          1.5039170980453491,
          4.9536237716674805,
          -5.027863502502441,
          1.8883594274520874,
          1.7498350143432617,
          -5.772810935974121,
          -5.0262980461120605,
          -4.4117584228515625,
          -2.968207836151123,
          0.9415853023529053,
          -0.24427922070026398,
          3.109625816345215,
          5.959941387176514,
          1.5641109943389893,
          5.154956340789795,
          -3.0383265018463135,
          -3.756791830062866,
          5.81857967376709,
          1.456568717956543,
          -3.7017476558685303,
          -2.292955160140991,
          1.6580395698547363,
          3.208228588104248,
          1.5254685878753662,
          0.6002940535545349,
          -4.636744022369385,
          4.717353343963623,
          -4.990499019622803,
          -3.2365562915802,
          -4.649909496307373,
          1.8863681554794312,
          -4.200137615203857,
          -4.981372356414795,
          3.778132915496826,
          -4.289545059204102,
          -4.230165481567383,
          4.885863780975342,
          5.52543830871582,
          1.6540342569351196,
          -6.050337791442871,
          -2.0354738235473633,
          1.7003494501113892,
          -0.3761584460735321,
          -6.1915178298950195,
          3.040026903152466,
          5.869860649108887,
          -4.323200702667236,
          4.115550518035889,
          -4.382266521453857,
          3.1678459644317627,
          -5.062495708465576,
          1.6620384454727173,
          4.435607433319092,
          1.4349347352981567,
          5.072144031524658,
          -4.844119071960449,
          0.3756963610649109,
          3.0917422771453857,
          -4.3342461585998535
         ],
         "z": [
          6.428999423980713,
          10.721532821655273,
          14.081095695495605,
          1.0620824098587036,
          13.19481372833252,
          12.766441345214844,
          13.472286224365234,
          8.2366304397583,
          12.409948348999023,
          -3.5830788612365723,
          8.590184211730957,
          1.412758231163025,
          7.561297416687012,
          -1.7601804733276367,
          -4.632389068603516,
          0.970434844493866,
          6.4612812995910645,
          9.11882209777832,
          12.479655265808105,
          9.83301830291748,
          10.770800590515137,
          10.523164749145508,
          7.978837490081787,
          1.2497211694717407,
          5.401684284210205,
          1.2181533575057983,
          -0.5783655643463135,
          0.6932882070541382,
          7.493348598480225,
          14.528973579406738,
          6.739909648895264,
          0.4620632231235504,
          -3.3015644550323486,
          3.0196564197540283,
          9.848262786865234,
          12.458976745605469,
          10.257396697998047,
          -2.664377450942993,
          14.484720230102539,
          -2.623944044113159,
          -2.950979709625244,
          1.238806962966919,
          5.3149943351745605,
          7.564925193786621,
          -1.2851955890655518,
          14.951319694519043,
          1.3687208890914917,
          6.19987678527832,
          -2.1885581016540527,
          9.32293701171875,
          6.581091403961182,
          1.044600009918213,
          7.576600074768066,
          -3.109930992126465,
          0.07483264803886414,
          8.85374927520752,
          -0.38520804047584534,
          14.649805068969727,
          2.0695509910583496,
          9.307929992675781,
          1.248541235923767,
          14.861518859863281,
          11.453293800354004,
          0.6002871990203857,
          2.4743010997772217,
          7.140077590942383,
          -2.3632733821868896,
          -3.777780532836914,
          8.747997283935547,
          2.742067813873291,
          -2.803490161895752,
          13.107999801635742,
          1.4525505304336548,
          -1.7038930654525757,
          13.843771934509277,
          9.344005584716797,
          12.010435104370117,
          5.371362686157227,
          4.329740047454834,
          10.799519538879395,
          11.758025169372559,
          5.274130821228027,
          13.11513900756836,
          10.502405166625977,
          7.377846717834473,
          12.182415008544922,
          12.632028579711914,
          12.209054946899414,
          -0.3811010718345642,
          1.9402796030044556,
          14.98017692565918,
          14.291727066040039,
          8.50797176361084,
          6.586806774139404,
          12.94398021697998,
          9.966813087463379,
          1.2972078323364258,
          6.737934589385986,
          -3.4005649089813232,
          6.454702854156494,
          8.046923637390137,
          10.731996536254883,
          2.076310873031616,
          -1.128322958946228,
          2.0412819385528564,
          12.336273193359375,
          12.083284378051758,
          5.993771076202393,
          0.08206478506326675,
          4.029336929321289,
          2.7034454345703125,
          1.027538776397705,
          6.554200172424316,
          10.988598823547363,
          -1.6595085859298706,
          8.704346656799316,
          5.046636581420898,
          7.080756664276123,
          11.274585723876953,
          10.652281761169434,
          -3.429699182510376,
          4.582722187042236,
          0.9385998249053955,
          12.253388404846191,
          8.044520378112793,
          4.860166072845459,
          14.364469528198242,
          1.6477336883544922,
          7.841041564941406,
          12.972957611083984,
          0.7782304883003235,
          10.362778663635254,
          6.8937177658081055,
          1.7742111682891846,
          4.536575794219971,
          7.713519096374512,
          1.9189165830612183,
          0.406907320022583,
          14.117873191833496,
          13.41648006439209,
          14.921063423156738,
          7.757106781005859,
          13.343997955322266,
          2.2140462398529053,
          6.079237937927246,
          11.477215766906738,
          -1.4716997146606445,
          13.132164001464844,
          7.796437740325928,
          12.115829467773438,
          0.7645009756088257,
          7.661374092102051,
          3.742013931274414,
          1.3103649616241455,
          -0.7227206826210022,
          11.661120414733887,
          13.662773132324219,
          11.82949447631836,
          2.450737237930298,
          2.0704052448272705,
          13.878290176391602,
          7.358780860900879,
          1.7384995222091675,
          -2.604856014251709,
          3.93046236038208,
          0.8606805205345154,
          10.333202362060547,
          12.19330883026123,
          -1.1048641204833984,
          14.990946769714355,
          1.4022854566574097,
          0.0031567371916025877,
          9.961506843566895,
          -1.323475956916809,
          8.601630210876465,
          4.681065559387207,
          6.735174179077148,
          -0.5371996164321899,
          6.276788711547852,
          -0.023559797555208206,
          -1.7484312057495117,
          13.652206420898438,
          7.2173027992248535,
          0.776147186756134,
          0.964940071105957,
          12.520881652832031,
          7.214116096496582,
          9.99459457397461,
          2.981057643890381,
          -1.9971117973327637,
          6.6967573165893555,
          13.739233016967773,
          7.400522708892822,
          2.2274158000946045,
          5.9267354011535645,
          -2.9059293270111084,
          10.345063209533691,
          0.8743872046470642,
          1.1552159786224365,
          12.236773490905762,
          11.243114471435547,
          3.6529171466827393,
          10.910550117492676,
          6.487749099731445,
          -2.1837399005889893,
          11.81176471710205,
          -3.2029387950897217,
          8.55220890045166,
          14.93773078918457,
          4.951542377471924,
          1.2906290292739868,
          3.296889066696167,
          1.1732624769210815,
          -3.4748947620391846,
          1.031407117843628,
          14.000685691833496,
          7.508453845977783,
          12.489187240600586,
          14.857287406921387,
          14.761902809143066,
          11.19986343383789,
          7.026902675628662,
          6.430405616760254,
          1.3501931428909302,
          -0.3297322690486908,
          14.016778945922852,
          12.086748123168945,
          -1.6060082912445068,
          2.0690205097198486,
          10.407475471496582,
          -3.1777265071868896,
          14.827037811279297,
          10.712047576904297,
          6.591056823730469,
          1.2564525604248047,
          14.404973983764648,
          1.1897609233856201,
          -2.5622434616088867,
          12.702935218811035,
          6.447641849517822,
          1.6735299825668335,
          -4.912102222442627,
          14.733882904052734,
          9.887227058410645,
          10.049882888793945,
          13.625373840332031,
          5.45799446105957,
          1.4715105295181274,
          3.3214030265808105,
          1.6184945106506348,
          12.548913955688477,
          6.745689868927002,
          10.176733016967773,
          9.935946464538574,
          5.294552803039551,
          4.916720390319824,
          6.867286682128906,
          -1.7783215045928955,
          14.834285736083984,
          1.2398427724838257,
          11.981947898864746,
          8.688831329345703,
          8.050962448120117,
          2.3707034587860107,
          11.135263442993164,
          14.14288330078125,
          -1.340947151184082,
          1.0348600149154663,
          6.697983741760254,
          7.832834243774414,
          13.570566177368164,
          -4.263110637664795,
          7.04158878326416,
          2.7860636711120605,
          2.2155375480651855,
          14.773943901062012,
          -3.688051462173462,
          -0.16244956851005554,
          1.6860995292663574,
          5.515383720397949,
          10.507949829101562,
          13.252004623413086,
          0.7932959198951721,
          14.833144187927246,
          -1.6933894157409668,
          3.660635232925415,
          14.88073444366455,
          10.412309646606445,
          2.5553078651428223,
          2.8215250968933105,
          2.3885371685028076,
          -0.8963662981987,
          4.829938888549805,
          6.738290309906006,
          7.9511399269104,
          10.328659057617188,
          0.9471906423568726,
          9.708475112915039,
          8.802766799926758,
          6.906827449798584,
          11.8711576461792,
          5.9961090087890625,
          14.284157752990723,
          12.00070858001709,
          5.261452674865723,
          -3.9129703044891357,
          5.280338764190674,
          9.900179862976074,
          9.408086776733398,
          10.779842376708984,
          2.621061325073242,
          13.126119613647461,
          -1.5296810865402222,
          -0.056264959275722504,
          4.739845275878906,
          -1.5052990913391113,
          13.08547592163086,
          2.237722635269165,
          14.961882591247559,
          10.246567726135254,
          -1.4069863557815552,
          13.853019714355469,
          14.643753051757812,
          14.296416282653809,
          14.433161735534668,
          6.159121036529541,
          -3.2999205589294434,
          10.21518611907959,
          1.2482600212097168,
          2.0544791221618652,
          9.255260467529297,
          0.7279333472251892,
          -3.809509038925171,
          13.169197082519531,
          12.586710929870605,
          12.197057723999023,
          7.276113510131836,
          -0.3373425602912903,
          1.4138071537017822,
          12.467172622680664,
          -3.0592894554138184,
          14.068048477172852,
          8.579399108886719,
          -4.402141094207764,
          10.75427532196045,
          6.924252033233643,
          13.423807144165039,
          1.2945109605789185,
          11.967058181762695,
          -2.3205370903015137,
          11.58895492553711,
          2.3256404399871826,
          7.6563496589660645,
          10.628198623657227,
          13.656161308288574,
          -3.768784284591675,
          9.705191612243652,
          14.967650413513184,
          0.7191884517669678,
          10.275296211242676,
          14.371254920959473,
          13.091769218444824,
          11.364463806152344,
          -2.441521406173706,
          4.39892053604126,
          1.4787734746932983,
          13.143563270568848,
          10.916781425476074,
          4.851142406463623,
          7.886951446533203,
          -4.1651740074157715,
          14.747579574584961,
          1.9425677061080933,
          14.0021390914917,
          0.7699301838874817,
          13.844472885131836,
          7.907032489776611,
          0.8871166110038757,
          1.247930645942688,
          2.098130702972412,
          0.551525890827179,
          5.803437232971191,
          14.524659156799316,
          1.8756768703460693,
          12.657127380371094,
          1.234199047088623,
          0.7847422957420349,
          9.247831344604492,
          5.377020835876465,
          0.7864672541618347,
          2.8499562740325928,
          13.106050491333008,
          6.5463995933532715,
          9.985223770141602,
          7.004085063934326,
          9.79563045501709,
          1.0189542770385742,
          10.389479637145996,
          1.4489623308181763,
          8.523214340209961,
          0.8757969737052917,
          0.803301990032196,
          14.978482246398926,
          7.438506603240967,
          0.7821800708770752,
          14.989145278930664,
          10.189303398132324,
          9.625603675842285,
          7.853309631347656,
          1.21058189868927,
          0.8501525521278381,
          -2.9219295978546143,
          1.3074780702590942,
          11.322907447814941,
          5.009809970855713,
          6.844253063201904,
          14.970365524291992,
          -1.8913427591323853,
          0.9195883274078369,
          13.69271183013916,
          0.061153993010520935,
          12.951544761657715,
          13.697269439697266,
          10.535810470581055,
          14.73689079284668,
          12.541325569152832,
          14.948493957519531,
          -0.6637269854545593,
          13.376513481140137,
          -1.408482313156128,
          12.649820327758789,
          10.182413101196289,
          12.41032886505127,
          1.2397820949554443,
          14.959457397460938,
          14.175248146057129,
          -4.366996765136719,
          -2.982741594314575,
          1.8721635341644287,
          9.625758171081543,
          5.096644878387451,
          10.63984203338623,
          13.547115325927734,
          9.851329803466797,
          12.410274505615234,
          -3.839513063430786,
          7.319751262664795,
          6.609557628631592,
          11.12077522277832,
          1.586775779724121,
          -3.341871976852417,
          -3.105586528778076,
          10.855460166931152,
          -1.7352243661880493,
          13.28449535369873,
          11.935791015625,
          10.057892799377441,
          2.685117244720459,
          -3.2097086906433105,
          1.9860410690307617,
          8.27780532836914,
          7.836406230926514,
          14.540253639221191,
          5.473649501800537,
          11.94796371459961,
          -2.150390386581421,
          2.569007158279419,
          3.5378754138946533,
          13.276045799255371,
          7.841729640960693,
          -0.8784443736076355,
          3.568288803100586,
          -3.083029270172119,
          10.176004409790039,
          14.983010292053223,
          7.256579399108887,
          -2.138561248779297,
          7.97999906539917,
          6.429562568664551,
          -2.8487637042999268,
          4.955971717834473,
          7.754419803619385,
          10.312932968139648,
          0.11473405361175537,
          10.339484214782715,
          4.684146404266357,
          10.754777908325195,
          1.0445595979690552,
          0.8079347610473633,
          -1.7071794271469116,
          6.7186808586120605,
          9.74844741821289,
          3.474653959274292,
          -2.0125179290771484,
          -2.2119362354278564,
          1.8724653720855713,
          6.790532112121582,
          7.841394901275635,
          11.816277503967285,
          1.2530646324157715,
          13.45882797241211,
          -2.4423186779022217,
          11.843430519104004,
          13.873595237731934,
          3.586627960205078,
          7.067846775054932,
          0.7302122116088867,
          2.0707366466522217,
          6.240566730499268,
          14.876794815063477,
          7.913595676422119,
          5.40362024307251,
          7.720667362213135,
          6.4177446365356445,
          1.4435789585113525,
          7.510241985321045,
          -0.45816922187805176,
          13.75250244140625,
          13.229740142822266,
          14.619000434875488,
          5.238983631134033,
          -4.221045017242432,
          8.167561531066895,
          13.300422668457031,
          -0.8850671648979187,
          13.607807159423828,
          14.919184684753418,
          0.01055279839783907,
          11.595107078552246,
          9.653260231018066,
          -0.5808190703392029,
          8.902950286865234,
          9.969114303588867,
          6.584689140319824,
          13.899327278137207,
          -2.8445839881896973,
          2.470938205718994,
          13.636716842651367,
          5.834266662597656,
          -3.0929057598114014,
          1.5934034585952759,
          6.35442590713501,
          13.977362632751465,
          9.1279296875,
          9.96097469329834,
          2.4788684844970703,
          -1.4133819341659546,
          14.135095596313477,
          11.03397274017334,
          14.342585563659668,
          4.485259056091309,
          13.16711139678955,
          0.8215452432632446,
          10.812642097473145,
          13.961434364318848
         ]
        },
        {
         "hoverlabel": {
          "namelength": 0
         },
         "hovertemplate": "Dominant_Topic=Topic 2<br>0=%{x}<br>1=%{y}<br>2=%{z}",
         "legendgroup": "Dominant_Topic=Topic 2",
         "marker": {
          "color": "#00cc96",
          "opacity": 0.7,
          "symbol": "circle"
         },
         "mode": "markers",
         "name": "Dominant_Topic=Topic 2",
         "scene": "scene",
         "showlegend": true,
         "type": "scatter3d",
         "x": [
          -2.387605667114258,
          -1.9108402729034424,
          -1.8481510877609253,
          -4.326601505279541,
          -1.5155587196350098,
          -1.64456307888031,
          -3.798546552658081,
          -4.413025379180908,
          -1.4282146692276,
          -4.210532188415527,
          -2.052931785583496,
          -1.4079047441482544,
          -1.4671528339385986,
          -2.3025498390197754,
          -4.81240701675415,
          -1.2973147630691528,
          -2.327714681625366,
          -4.02753210067749,
          -4.313789367675781,
          -4.811666965484619,
          -1.3490647077560425,
          -1.6594178676605225,
          -2.1677324771881104,
          -4.853743076324463,
          -1.9826997518539429,
          -5.1501851081848145,
          -1.8030498027801514,
          -2.761385679244995,
          -4.225184440612793,
          -4.501712322235107,
          -1.637510895729065,
          -0.9473825693130493,
          -5.093934535980225,
          -2.0627880096435547,
          -2.9066264629364014,
          -1.0854769945144653,
          -1.3468552827835083,
          -1.9259597063064575,
          -3.0855093002319336,
          -4.874942779541016,
          -4.836203098297119,
          -1.9691075086593628,
          -2.0218470096588135,
          -1.2537258863449097,
          -2.884289026260376
         ],
         "y": [
          -5.639321804046631,
          -5.805271148681641,
          -5.757498741149902,
          -6.981154441833496,
          -4.155077934265137,
          -5.504645347595215,
          -6.788403511047363,
          -6.993880748748779,
          -5.313110828399658,
          -6.967766761779785,
          -5.255690574645996,
          -5.288356304168701,
          -5.2136101722717285,
          -6.1309027671813965,
          -6.964077949523926,
          -5.174577236175537,
          -5.687077522277832,
          -6.944852352142334,
          -6.842715263366699,
          -6.9641900062561035,
          -5.175515651702881,
          -5.579782485961914,
          -5.055723667144775,
          -6.746843338012695,
          -5.800830364227295,
          -6.850273609161377,
          -4.273431301116943,
          -5.98061466217041,
          -6.974977016448975,
          -6.995486259460449,
          -5.562605857849121,
          -4.745577335357666,
          -6.868544101715088,
          -6.146137714385986,
          -4.945793628692627,
          -4.2488813400268555,
          -5.224298477172852,
          -5.434756278991699,
          -6.667042255401611,
          -6.698606491088867,
          -6.963113307952881,
          -4.333036422729492,
          -5.609878063201904,
          -4.019861221313477,
          -5.871075630187988
         ],
         "z": [
          -6.656591415405273,
          -8.456427574157715,
          -8.514544486999512,
          -6.167787075042725,
          -4.732696533203125,
          -8.374486923217773,
          -6.580112934112549,
          -6.0836968421936035,
          -8.541719436645508,
          -6.293794631958008,
          -6.409460544586182,
          -8.326577186584473,
          -8.03222942352295,
          -8.303936958312988,
          -5.602488994598389,
          -8.619149208068848,
          -6.911370754241943,
          -6.511515140533447,
          -5.97766637802124,
          -5.602149963378906,
          -8.371221542358398,
          -8.605881690979004,
          -5.780210494995117,
          -5.228642463684082,
          -7.999138355255127,
          -5.130465030670166,
          -4.749085426330566,
          -6.709420680999756,
          -6.286401748657227,
          -5.982266902923584,
          -8.36833667755127,
          -8.67314338684082,
          -5.2044806480407715,
          -8.15674114227295,
          -4.661651611328125,
          -5.854422092437744,
          -8.580958366394043,
          -7.240941047668457,
          -7.844585418701172,
          -5.137121200561523,
          -5.57993221282959,
          -4.6599202156066895,
          -7.478504657745361,
          -4.970792770385742,
          -6.26338529586792
         ]
        },
        {
         "hoverlabel": {
          "namelength": 0
         },
         "hovertemplate": "Dominant_Topic=Topic 3<br>0=%{x}<br>1=%{y}<br>2=%{z}",
         "legendgroup": "Dominant_Topic=Topic 3",
         "marker": {
          "color": "#ab63fa",
          "opacity": 0.7,
          "symbol": "circle"
         },
         "mode": "markers",
         "name": "Dominant_Topic=Topic 3",
         "scene": "scene",
         "showlegend": true,
         "type": "scatter3d",
         "x": [
          1.8769416809082031,
          2.301684856414795,
          2.012871026992798,
          1.6977760791778564,
          2.4372215270996094,
          1.919164776802063,
          1.9809927940368652,
          2.099531888961792,
          2.2550504207611084,
          2.0247583389282227,
          2.554694175720215,
          2.2849926948547363,
          -3.663747787475586,
          2.230443239212036,
          1.5777970552444458,
          2.740126371383667,
          2.76633882522583,
          2.0366485118865967,
          1.657133936882019,
          1.917659878730774,
          2.2908742427825928,
          1.683853030204773,
          2.487816572189331,
          1.6209582090377808,
          2.414382219314575,
          1.929458737373352,
          1.769785761833191,
          2.013363838195801,
          2.7638328075408936,
          2.3183846473693848
         ],
         "y": [
          -14.853020668029785,
          -15.693946838378906,
          -15.755318641662598,
          -15.371500968933105,
          -14.938002586364746,
          -15.13341999053955,
          -15.28717041015625,
          -15.05319595336914,
          -14.983159065246582,
          -14.766111373901367,
          -15.444759368896484,
          -15.503015518188477,
          -3.626511335372925,
          -14.982757568359375,
          -15.285975456237793,
          -14.864843368530273,
          -14.867609977722168,
          -14.767010688781738,
          -15.062586784362793,
          -15.588580131530762,
          -15.683506965637207,
          -15.619158744812012,
          -15.114211082458496,
          -15.146056175231934,
          -15.278434753417969,
          -15.550962448120117,
          -15.657367706298828,
          -15.004080772399902,
          -14.857518196105957,
          -15.53298568725586
         ],
         "z": [
          -3.4593966007232666,
          -3.7731497287750244,
          -3.942364454269409,
          -4.146940231323242,
          -3.652207851409912,
          -4.2308244705200195,
          -3.139728307723999,
          -4.17152214050293,
          -2.9069955348968506,
          -3.780249834060669,
          -3.60783314704895,
          -4.134693622589111,
          1.8740384578704834,
          -2.9962918758392334,
          -3.680013418197632,
          -3.15096378326416,
          -3.1806962490081787,
          -3.771582841873169,
          -3.935856342315674,
          -4.1719465255737305,
          -3.529320001602173,
          -3.784960985183716,
          -3.901895523071289,
          -3.5142390727996826,
          -4.107481479644775,
          -3.289597988128662,
          -3.6126067638397217,
          -3.0927207469940186,
          -3.14709210395813,
          -3.319870948791504
         ]
        }
       ],
       "layout": {
        "height": 800,
        "legend": {
         "tracegroupgap": 0
        },
        "scene": {
         "domain": {
          "x": [
           0,
           1
          ],
          "y": [
           0,
           1
          ]
         },
         "xaxis": {
          "title": {
           "text": "0"
          }
         },
         "yaxis": {
          "title": {
           "text": "1"
          }
         },
         "zaxis": {
          "title": {
           "text": "2"
          }
         }
        },
        "template": {
         "data": {
          "bar": [
           {
            "error_x": {
             "color": "#2a3f5f"
            },
            "error_y": {
             "color": "#2a3f5f"
            },
            "marker": {
             "line": {
              "color": "#E5ECF6",
              "width": 0.5
             }
            },
            "type": "bar"
           }
          ],
          "barpolar": [
           {
            "marker": {
             "line": {
              "color": "#E5ECF6",
              "width": 0.5
             }
            },
            "type": "barpolar"
           }
          ],
          "carpet": [
           {
            "aaxis": {
             "endlinecolor": "#2a3f5f",
             "gridcolor": "white",
             "linecolor": "white",
             "minorgridcolor": "white",
             "startlinecolor": "#2a3f5f"
            },
            "baxis": {
             "endlinecolor": "#2a3f5f",
             "gridcolor": "white",
             "linecolor": "white",
             "minorgridcolor": "white",
             "startlinecolor": "#2a3f5f"
            },
            "type": "carpet"
           }
          ],
          "choropleth": [
           {
            "colorbar": {
             "outlinewidth": 0,
             "ticks": ""
            },
            "type": "choropleth"
           }
          ],
          "contour": [
           {
            "colorbar": {
             "outlinewidth": 0,
             "ticks": ""
            },
            "colorscale": [
             [
              0,
              "#0d0887"
             ],
             [
              0.1111111111111111,
              "#46039f"
             ],
             [
              0.2222222222222222,
              "#7201a8"
             ],
             [
              0.3333333333333333,
              "#9c179e"
             ],
             [
              0.4444444444444444,
              "#bd3786"
             ],
             [
              0.5555555555555556,
              "#d8576b"
             ],
             [
              0.6666666666666666,
              "#ed7953"
             ],
             [
              0.7777777777777778,
              "#fb9f3a"
             ],
             [
              0.8888888888888888,
              "#fdca26"
             ],
             [
              1,
              "#f0f921"
             ]
            ],
            "type": "contour"
           }
          ],
          "contourcarpet": [
           {
            "colorbar": {
             "outlinewidth": 0,
             "ticks": ""
            },
            "type": "contourcarpet"
           }
          ],
          "heatmap": [
           {
            "colorbar": {
             "outlinewidth": 0,
             "ticks": ""
            },
            "colorscale": [
             [
              0,
              "#0d0887"
             ],
             [
              0.1111111111111111,
              "#46039f"
             ],
             [
              0.2222222222222222,
              "#7201a8"
             ],
             [
              0.3333333333333333,
              "#9c179e"
             ],
             [
              0.4444444444444444,
              "#bd3786"
             ],
             [
              0.5555555555555556,
              "#d8576b"
             ],
             [
              0.6666666666666666,
              "#ed7953"
             ],
             [
              0.7777777777777778,
              "#fb9f3a"
             ],
             [
              0.8888888888888888,
              "#fdca26"
             ],
             [
              1,
              "#f0f921"
             ]
            ],
            "type": "heatmap"
           }
          ],
          "heatmapgl": [
           {
            "colorbar": {
             "outlinewidth": 0,
             "ticks": ""
            },
            "colorscale": [
             [
              0,
              "#0d0887"
             ],
             [
              0.1111111111111111,
              "#46039f"
             ],
             [
              0.2222222222222222,
              "#7201a8"
             ],
             [
              0.3333333333333333,
              "#9c179e"
             ],
             [
              0.4444444444444444,
              "#bd3786"
             ],
             [
              0.5555555555555556,
              "#d8576b"
             ],
             [
              0.6666666666666666,
              "#ed7953"
             ],
             [
              0.7777777777777778,
              "#fb9f3a"
             ],
             [
              0.8888888888888888,
              "#fdca26"
             ],
             [
              1,
              "#f0f921"
             ]
            ],
            "type": "heatmapgl"
           }
          ],
          "histogram": [
           {
            "marker": {
             "colorbar": {
              "outlinewidth": 0,
              "ticks": ""
             }
            },
            "type": "histogram"
           }
          ],
          "histogram2d": [
           {
            "colorbar": {
             "outlinewidth": 0,
             "ticks": ""
            },
            "colorscale": [
             [
              0,
              "#0d0887"
             ],
             [
              0.1111111111111111,
              "#46039f"
             ],
             [
              0.2222222222222222,
              "#7201a8"
             ],
             [
              0.3333333333333333,
              "#9c179e"
             ],
             [
              0.4444444444444444,
              "#bd3786"
             ],
             [
              0.5555555555555556,
              "#d8576b"
             ],
             [
              0.6666666666666666,
              "#ed7953"
             ],
             [
              0.7777777777777778,
              "#fb9f3a"
             ],
             [
              0.8888888888888888,
              "#fdca26"
             ],
             [
              1,
              "#f0f921"
             ]
            ],
            "type": "histogram2d"
           }
          ],
          "histogram2dcontour": [
           {
            "colorbar": {
             "outlinewidth": 0,
             "ticks": ""
            },
            "colorscale": [
             [
              0,
              "#0d0887"
             ],
             [
              0.1111111111111111,
              "#46039f"
             ],
             [
              0.2222222222222222,
              "#7201a8"
             ],
             [
              0.3333333333333333,
              "#9c179e"
             ],
             [
              0.4444444444444444,
              "#bd3786"
             ],
             [
              0.5555555555555556,
              "#d8576b"
             ],
             [
              0.6666666666666666,
              "#ed7953"
             ],
             [
              0.7777777777777778,
              "#fb9f3a"
             ],
             [
              0.8888888888888888,
              "#fdca26"
             ],
             [
              1,
              "#f0f921"
             ]
            ],
            "type": "histogram2dcontour"
           }
          ],
          "mesh3d": [
           {
            "colorbar": {
             "outlinewidth": 0,
             "ticks": ""
            },
            "type": "mesh3d"
           }
          ],
          "parcoords": [
           {
            "line": {
             "colorbar": {
              "outlinewidth": 0,
              "ticks": ""
             }
            },
            "type": "parcoords"
           }
          ],
          "pie": [
           {
            "automargin": true,
            "type": "pie"
           }
          ],
          "scatter": [
           {
            "marker": {
             "colorbar": {
              "outlinewidth": 0,
              "ticks": ""
             }
            },
            "type": "scatter"
           }
          ],
          "scatter3d": [
           {
            "line": {
             "colorbar": {
              "outlinewidth": 0,
              "ticks": ""
             }
            },
            "marker": {
             "colorbar": {
              "outlinewidth": 0,
              "ticks": ""
             }
            },
            "type": "scatter3d"
           }
          ],
          "scattercarpet": [
           {
            "marker": {
             "colorbar": {
              "outlinewidth": 0,
              "ticks": ""
             }
            },
            "type": "scattercarpet"
           }
          ],
          "scattergeo": [
           {
            "marker": {
             "colorbar": {
              "outlinewidth": 0,
              "ticks": ""
             }
            },
            "type": "scattergeo"
           }
          ],
          "scattergl": [
           {
            "marker": {
             "colorbar": {
              "outlinewidth": 0,
              "ticks": ""
             }
            },
            "type": "scattergl"
           }
          ],
          "scattermapbox": [
           {
            "marker": {
             "colorbar": {
              "outlinewidth": 0,
              "ticks": ""
             }
            },
            "type": "scattermapbox"
           }
          ],
          "scatterpolar": [
           {
            "marker": {
             "colorbar": {
              "outlinewidth": 0,
              "ticks": ""
             }
            },
            "type": "scatterpolar"
           }
          ],
          "scatterpolargl": [
           {
            "marker": {
             "colorbar": {
              "outlinewidth": 0,
              "ticks": ""
             }
            },
            "type": "scatterpolargl"
           }
          ],
          "scatterternary": [
           {
            "marker": {
             "colorbar": {
              "outlinewidth": 0,
              "ticks": ""
             }
            },
            "type": "scatterternary"
           }
          ],
          "surface": [
           {
            "colorbar": {
             "outlinewidth": 0,
             "ticks": ""
            },
            "colorscale": [
             [
              0,
              "#0d0887"
             ],
             [
              0.1111111111111111,
              "#46039f"
             ],
             [
              0.2222222222222222,
              "#7201a8"
             ],
             [
              0.3333333333333333,
              "#9c179e"
             ],
             [
              0.4444444444444444,
              "#bd3786"
             ],
             [
              0.5555555555555556,
              "#d8576b"
             ],
             [
              0.6666666666666666,
              "#ed7953"
             ],
             [
              0.7777777777777778,
              "#fb9f3a"
             ],
             [
              0.8888888888888888,
              "#fdca26"
             ],
             [
              1,
              "#f0f921"
             ]
            ],
            "type": "surface"
           }
          ],
          "table": [
           {
            "cells": {
             "fill": {
              "color": "#EBF0F8"
             },
             "line": {
              "color": "white"
             }
            },
            "header": {
             "fill": {
              "color": "#C8D4E3"
             },
             "line": {
              "color": "white"
             }
            },
            "type": "table"
           }
          ]
         },
         "layout": {
          "annotationdefaults": {
           "arrowcolor": "#2a3f5f",
           "arrowhead": 0,
           "arrowwidth": 1
          },
          "coloraxis": {
           "colorbar": {
            "outlinewidth": 0,
            "ticks": ""
           }
          },
          "colorscale": {
           "diverging": [
            [
             0,
             "#8e0152"
            ],
            [
             0.1,
             "#c51b7d"
            ],
            [
             0.2,
             "#de77ae"
            ],
            [
             0.3,
             "#f1b6da"
            ],
            [
             0.4,
             "#fde0ef"
            ],
            [
             0.5,
             "#f7f7f7"
            ],
            [
             0.6,
             "#e6f5d0"
            ],
            [
             0.7,
             "#b8e186"
            ],
            [
             0.8,
             "#7fbc41"
            ],
            [
             0.9,
             "#4d9221"
            ],
            [
             1,
             "#276419"
            ]
           ],
           "sequential": [
            [
             0,
             "#0d0887"
            ],
            [
             0.1111111111111111,
             "#46039f"
            ],
            [
             0.2222222222222222,
             "#7201a8"
            ],
            [
             0.3333333333333333,
             "#9c179e"
            ],
            [
             0.4444444444444444,
             "#bd3786"
            ],
            [
             0.5555555555555556,
             "#d8576b"
            ],
            [
             0.6666666666666666,
             "#ed7953"
            ],
            [
             0.7777777777777778,
             "#fb9f3a"
            ],
            [
             0.8888888888888888,
             "#fdca26"
            ],
            [
             1,
             "#f0f921"
            ]
           ],
           "sequentialminus": [
            [
             0,
             "#0d0887"
            ],
            [
             0.1111111111111111,
             "#46039f"
            ],
            [
             0.2222222222222222,
             "#7201a8"
            ],
            [
             0.3333333333333333,
             "#9c179e"
            ],
            [
             0.4444444444444444,
             "#bd3786"
            ],
            [
             0.5555555555555556,
             "#d8576b"
            ],
            [
             0.6666666666666666,
             "#ed7953"
            ],
            [
             0.7777777777777778,
             "#fb9f3a"
            ],
            [
             0.8888888888888888,
             "#fdca26"
            ],
            [
             1,
             "#f0f921"
            ]
           ]
          },
          "colorway": [
           "#636efa",
           "#EF553B",
           "#00cc96",
           "#ab63fa",
           "#FFA15A",
           "#19d3f3",
           "#FF6692",
           "#B6E880",
           "#FF97FF",
           "#FECB52"
          ],
          "font": {
           "color": "#2a3f5f"
          },
          "geo": {
           "bgcolor": "white",
           "lakecolor": "white",
           "landcolor": "#E5ECF6",
           "showlakes": true,
           "showland": true,
           "subunitcolor": "white"
          },
          "hoverlabel": {
           "align": "left"
          },
          "hovermode": "closest",
          "mapbox": {
           "style": "light"
          },
          "paper_bgcolor": "white",
          "plot_bgcolor": "#E5ECF6",
          "polar": {
           "angularaxis": {
            "gridcolor": "white",
            "linecolor": "white",
            "ticks": ""
           },
           "bgcolor": "#E5ECF6",
           "radialaxis": {
            "gridcolor": "white",
            "linecolor": "white",
            "ticks": ""
           }
          },
          "scene": {
           "xaxis": {
            "backgroundcolor": "#E5ECF6",
            "gridcolor": "white",
            "gridwidth": 2,
            "linecolor": "white",
            "showbackground": true,
            "ticks": "",
            "zerolinecolor": "white"
           },
           "yaxis": {
            "backgroundcolor": "#E5ECF6",
            "gridcolor": "white",
            "gridwidth": 2,
            "linecolor": "white",
            "showbackground": true,
            "ticks": "",
            "zerolinecolor": "white"
           },
           "zaxis": {
            "backgroundcolor": "#E5ECF6",
            "gridcolor": "white",
            "gridwidth": 2,
            "linecolor": "white",
            "showbackground": true,
            "ticks": "",
            "zerolinecolor": "white"
           }
          },
          "shapedefaults": {
           "line": {
            "color": "#2a3f5f"
           }
          },
          "ternary": {
           "aaxis": {
            "gridcolor": "white",
            "linecolor": "white",
            "ticks": ""
           },
           "baxis": {
            "gridcolor": "white",
            "linecolor": "white",
            "ticks": ""
           },
           "bgcolor": "#E5ECF6",
           "caxis": {
            "gridcolor": "white",
            "linecolor": "white",
            "ticks": ""
           }
          },
          "title": {
           "x": 0.05
          },
          "xaxis": {
           "automargin": true,
           "gridcolor": "white",
           "linecolor": "white",
           "ticks": "",
           "title": {
            "standoff": 15
           },
           "zerolinecolor": "white",
           "zerolinewidth": 2
          },
          "yaxis": {
           "automargin": true,
           "gridcolor": "white",
           "linecolor": "white",
           "ticks": "",
           "title": {
            "standoff": 15
           },
           "zerolinecolor": "white",
           "zerolinewidth": 2
          }
         }
        },
        "title": {
         "text": "3d TSNE Plot for Topic Model"
        },
        "width": 900
       }
      },
      "text/html": [
       "<div>\n",
       "        \n",
       "        \n",
       "            <div id=\"5ad7ce4c-44af-43c5-bc52-42173f98ccf1\" class=\"plotly-graph-div\" style=\"height:800px; width:900px;\"></div>\n",
       "            <script type=\"text/javascript\">\n",
       "                require([\"plotly\"], function(Plotly) {\n",
       "                    window.PLOTLYENV=window.PLOTLYENV || {};\n",
       "                    \n",
       "                if (document.getElementById(\"5ad7ce4c-44af-43c5-bc52-42173f98ccf1\")) {\n",
       "                    Plotly.newPlot(\n",
       "                        '5ad7ce4c-44af-43c5-bc52-42173f98ccf1',\n",
       "                        [{\"hoverlabel\": {\"namelength\": 0}, \"hovertemplate\": \"Dominant_Topic=Topic 0<br>0=%{x}<br>1=%{y}<br>2=%{z}\", \"legendgroup\": \"Dominant_Topic=Topic 0\", \"marker\": {\"color\": \"#636efa\", \"opacity\": 0.7, \"symbol\": \"circle\"}, \"mode\": \"markers\", \"name\": \"Dominant_Topic=Topic 0\", \"scene\": \"scene\", \"showlegend\": true, \"type\": \"scatter3d\", \"x\": [7.053063869476318, 6.558353900909424, 1.9877070188522339, 4.646115303039551, 9.120402336120605, 1.519485354423523, 1.7297816276550293, 4.084320545196533, 8.826656341552734, 6.134588718414307, 8.030576705932617, 1.3525525331497192, 8.381407737731934, 3.285348415374756, 7.31822395324707, 2.24601411819458, 8.951757431030273, 4.54672908782959, 4.493456840515137, 0.9936066269874573, 4.479258060455322, 5.024648189544678, 0.022148847579956055, 3.002436399459839, 1.559126853942871, 1.577924132347107, 2.263366460800171, 9.102282524108887, -1.512367844581604, -0.2205590456724167, 8.026413917541504, 8.634143829345703, 5.263862609863281, 0.334359347820282, 2.4672598838806152, 1.3793010711669922, 2.413492202758789, 1.4952691793441772, 6.471972942352295, 4.300720691680908, 2.1029324531555176, 6.277258396148682, 2.1006994247436523, 7.9853973388671875, -0.021784139797091484, -0.3676498532295227, 7.697486400604248, 2.8799917697906494, 9.18256664276123, 8.903286933898926, 1.488759994506836, 9.041994094848633, 2.4475326538085938, 2.8936874866485596, 1.5371276140213013, 1.5073171854019165, 7.295436859130859, -0.7940815687179565, 2.609588861465454, 9.106216430664062, 4.4395270347595215, 6.2713422775268555, 6.5661187171936035, -1.1782132387161255, 6.300302505493164, 1.538939118385315, 2.8173866271972656, 5.230616092681885, 0.1056043952703476, 4.843777179718018, 2.2153215408325195, 9.216448783874512, 8.64117431640625, 8.866440773010254, 8.82355785369873, 8.266502380371094, 6.563072204589844, 3.64381742477417, 2.9068984985351562, 8.104161262512207, 5.77927827835083, 0.9451544880867004, 4.700770378112793, 8.095481872558594, 9.223134994506836, -1.656143307685852, 9.271489143371582, -0.25001606345176697, 8.194125175476074, -1.8547742366790771, -1.5412160158157349, 1.5001161098480225, 1.4942084550857544, 6.003311634063721, 7.772985935211182, 8.016533851623535, 0.7420654892921448, 4.404661655426025, 3.13171648979187, 7.422083854675293, 5.580757141113281, 3.426302433013916, 8.164430618286133, 1.5693645477294922, 3.2629387378692627, 9.113212585449219, 7.757998943328857, 5.227792739868164, 3.1802423000335693, 6.542876720428467, 2.2223808765411377, 4.8834919929504395, 4.906094551086426, 3.1125845909118652, -0.3550984561443329, 7.893769264221191, 1.631803274154663, 0.2018328607082367, 4.397491931915283, 4.550929546356201, -0.4553290903568268, 2.3762240409851074, 0.9719667434692383, 3.7948801517486572, -0.13941630721092224, 7.057028293609619, 2.4793753623962402, 3.848674774169922, 2.1942760944366455, 0.997204065322876, 2.935905694961548, 0.467641144990921, -1.0843608379364014, -0.05112496763467789, 2.280252456665039, 6.724576950073242, 7.4730329513549805, 8.8087739944458, 5.01632022857666, 2.2112693786621094, 8.029534339904785, 0.1759779304265976, 7.5123419761657715, 7.931038856506348, 8.609344482421875, 5.3886919021606445, -1.3157140016555786, 4.135657787322998, 8.18471622467041, 5.327916622161865, 7.275993824005127, 5.860598564147949, 8.228081703186035, 4.8034563064575195, 4.865518569946289, 3.5521464347839355, 2.5012192726135254, -0.4689188301563263, 3.268010377883911, 0.7136157751083374, 6.887424468994141, 0.9284431338310242, 0.955657958984375, 3.9986977577209473, 1.7278159856796265, 3.497136354446411, 4.141244888305664, 0.09005321562290192, 8.080721855163574, 3.8583202362060547, -0.23950450122356415, 3.0906360149383545, 9.242867469787598, 3.438474655151367, 1.1272594928741455, 1.115728497505188, 5.230917453765869, 5.563546657562256, -0.5791503190994263, 4.315652370452881, 8.567503929138184, 8.772027969360352, 2.407390832901001, 4.684851169586182, 8.903624534606934, 4.187480926513672, 0.42481184005737305, 3.003182888031006, 7.9756340980529785, 4.665838241577148, 0.18484915792942047, 1.5054055452346802, 2.273592472076416, 2.6226303577423096, 2.6230227947235107, 0.06720956414937973, 7.013244152069092, 4.2715044021606445, 0.5778474807739258, 6.096981525421143, 3.782493829727173, 0.45803511142730713, 4.799919128417969, 5.8191142082214355, 0.383584588766098, 1.4856091737747192, 0.4748866856098175, 4.332545280456543, 1.2369822263717651, 9.189558029174805, 1.6303431987762451, 7.691367149353027, 0.6886730194091797, -1.7326476573944092, 1.3669102191925049, -0.3338339328765869, 1.9163973331451416, 1.7204114198684692, 8.903459548950195, -1.3858816623687744, 2.1921603679656982, -0.855586051940918, 0.6163409948348999, 4.946388244628906, 6.171464443206787, 8.844127655029297, 2.6569747924804688, 7.576679229736328, 6.956993103027344, 5.221012115478516, 3.6856460571289062, 4.534834384918213, 8.001938819885254, 5.637176036834717, 1.4030526876449585, 8.920035362243652, 8.265707015991211, 7.504887104034424, 1.0596925020217896, 8.975191116333008, 4.868480682373047, 7.662945747375488, 7.484078407287598, 3.065389394760132, -0.3355637192726135, 1.2566052675247192, -1.6423965692520142, 1.0645569562911987, 1.5362601280212402, 5.86750602722168, 0.8910378813743591, 7.738369464874268, 8.944744110107422, 0.0016230273758992553, 3.491960287094116, 3.031428098678589, 4.746972560882568, 5.257223129272461, 1.5928056240081787, 4.749638557434082, 9.218496322631836, 6.503338813781738, 0.8177285194396973, -1.7328417301177979, 8.01872730255127, 4.345350742340088, 0.44981732964515686, 1.6196125745773315, 4.527320861816406, 5.877325534820557, 8.327923774719238, -0.9168788194656372, -1.4979041814804077, 2.251307487487793, 0.1968730390071869, -1.1458696126937866, 2.6985888481140137, 6.946079254150391, 1.7465507984161377, 7.135509967803955, -1.1234418153762817, 7.331822872161865, 7.7098774909973145, 6.931975841522217, 6.65686559677124, 8.773303985595703, 5.348268032073975, 1.111246109008789, 2.9429469108581543, 4.931722164154053, 1.2538200616836548, 8.146151542663574, 7.478183269500732, 1.3039885759353638, 1.0409306287765503, -1.8377726078033447, -0.43624722957611084, 5.777039051055908, 7.087909698486328, 8.226943016052246, 1.5061416625976562, 4.062352657318115, 0.03134145960211754, 8.89890193939209, 3.2226877212524414, 7.46294641494751, 5.3242902755737305, 3.055055618286133, 5.069754600524902, 2.422987699508667, -0.3059808909893036, 7.027273178100586, 8.285571098327637, 1.4494094848632812, 1.7638084888458252, 2.7822747230529785, 1.9031909704208374, -0.3589229881763458, 7.456543445587158, 3.5392117500305176, 0.8705608248710632, 8.94362735748291, 7.529018878936768, 0.18707096576690674, 2.241278886795044, 1.5212112665176392, 6.023962020874023, 1.076392650604248, 3.0083627700805664, 1.4323468208312988, 5.676547527313232, 1.6531132459640503, 9.178657531738281, 8.779779434204102, 5.310734748840332, 3.828892230987549, 1.2050819396972656, 8.218986511230469, 9.190311431884766, 6.477302551269531, 7.90917444229126, 9.221646308898926, -0.7896884083747864, -0.4054757356643677, 6.818125247955322, 7.41748571395874, 0.4529605507850647, 3.6559579372406006, 5.219569683074951, 6.674627304077148, 1.4421056509017944, 3.7391865253448486, 9.019554138183594, 4.108667373657227, 0.8773282766342163, 3.021259069442749, 3.438290596008301, 5.171987533569336, -0.5001410245895386, 0.6857007145881653, 7.146927833557129, 2.604241132736206, 4.002078056335449, 9.182116508483887, 2.9141130447387695, 2.901047468185425, 8.400264739990234, 1.0698045492172241, 7.477649688720703, 8.488255500793457], \"y\": [5.808762550354004, 6.239432334899902, -2.3837811946868896, -3.0072824954986572, -0.7981831431388855, 1.591714859008789, -0.3648129999637604, -0.5867143273353577, -1.4086517095565796, -3.0063424110412598, -2.3633809089660645, 3.159707546234131, 3.368834972381592, -0.49201759696006775, -0.14570966362953186, -2.477721929550171, -0.32473888993263245, 6.745227336883545, -2.9939496517181396, -2.0908162593841553, -2.2281644344329834, 1.643841028213501, -3.4856045246124268, -0.8842345476150513, 1.2743935585021973, -0.8741940855979919, 6.86446475982666, -0.9906503558158875, 5.867846965789795, 6.389345169067383, 4.50343132019043, 2.672576427459717, 6.621419429779053, -3.311889886856079, 3.3397390842437744, 3.0815417766571045, 0.9005675911903381, 0.2645382583141327, 6.255304336547852, 6.820999622344971, 0.4931872487068176, -2.9926748275756836, -1.9619301557540894, 4.497517108917236, 4.90941858291626, -3.4193246364593506, 2.763615608215332, 6.914708137512207, -0.6665121912956238, 1.9332176446914673, 6.705198287963867, -1.1481027603149414, -2.5445148944854736, -2.68562912940979, 6.570293426513672, -0.007584882900118828, 4.2915873527526855, -3.7088468074798584, 3.5108449459075928, 1.2952380180358887, -2.5363171100616455, 6.381092071533203, 6.247439861297607, 6.28664493560791, 5.750047206878662, 2.0629827976226807, 2.6369125843048096, 1.1271177530288696, -3.239887237548828, -1.8242524862289429, -2.5124990940093994, 0.9893637299537659, -1.263866901397705, 1.909135103225708, -0.7246679663658142, 3.2431540489196777, -2.347534418106079, 2.907482624053955, -1.4991002082824707, 4.423244476318359, -3.0399770736694336, 6.585493564605713, -2.1591696739196777, 4.279353141784668, 0.04802471771836281, 6.322165012359619, 0.3112316429615021, -3.860686779022217, 2.6964616775512695, 6.113035202026367, 6.371188163757324, 1.2968474626541138, 0.16229702532291412, 6.468591690063477, 3.3225581645965576, 1.334752082824707, -2.61983323097229, 6.458726406097412, -2.7798964977264404, 1.3635488748550415, 0.5341542363166809, 2.4615089893341064, 4.0413818359375, -2.226982593536377, -2.8169760704040527, -0.8819466829299927, -2.3879220485687256, 2.14660906791687, 2.3015360832214355, 6.252988815307617, -2.3964481353759766, 2.0986409187316895, 6.518454074859619, 6.902678966522217, 6.246117115020752, -2.45269775390625, 6.720210552215576, -3.2727766036987305, 5.572961807250977, -2.296987533569336, -3.2351977825164795, 6.878807067871094, -1.8644734621047974, -2.9011683464050293, 5.097560405731201, 1.1020859479904175, 6.770041465759277, -2.372251272201538, 6.861089706420898, -2.4715592861175537, 0.8038615584373474, 6.415645599365234, 5.990024089813232, 6.435670852661133, 6.891602516174316, -0.2576502561569214, 5.327912330627441, -1.013606071472168, 1.2202370166778564, -2.0724124908447266, 4.4691548347473145, -3.3842837810516357, -2.657060384750366, 4.637874603271484, 2.7652101516723633, 0.8950307369232178, 5.971033096313477, 6.792863845825195, -2.237492799758911, 1.2328860759735107, -2.7275936603546143, 6.502296447753906, 3.0205624103546143, -1.8977227210998535, -2.4738264083862305, -2.35526442527771, 1.6431925296783447, -3.228870153427124, -2.7996931076049805, -2.6409404277801514, 5.994089126586914, -2.223461151123047, -1.69937264919281, 4.931704521179199, -2.582684278488159, 6.87971305847168, -0.35339510440826416, -3.4002978801727295, -2.2778069972991943, -2.407935380935669, -3.4639742374420166, 2.239764928817749, 0.38455456495285034, 6.892614364624023, 3.8097424507141113, -2.4784352779388428, -2.301192283630371, 0.4046076834201813, 6.30656623840332, 6.320433616638184, 2.8367202281951904, 2.1989128589630127, 6.869163990020752, -3.009575128555298, 0.7817097306251526, -2.9618401527404785, -3.0779471397399902, 2.5763020515441895, 4.55790901184082, 6.684431552886963, -3.2385125160217285, 1.2862931489944458, 0.2076180875301361, -1.604408860206604, -1.8127453327178955, -3.471517562866211, -2.747767210006714, -2.5368893146514893, -2.8685238361358643, -3.014883041381836, 6.829400062561035, -2.916055202484131, -1.4128507375717163, 0.6801188588142395, -2.8526413440704346, 3.256624937057495, -3.0099854469299316, -2.9770240783691406, -1.0293545722961426, -0.045570872724056244, 6.983434677124023, -2.1850085258483887, -2.82547926902771, 6.145847320556641, -2.464740753173828, 6.277835369110107, 6.710779666900635, 2.8413243293762207, 1.8911267518997192, 5.989702224731445, -2.4116175174713135, 6.2368927001953125, 4.530154705047607, 6.650958061218262, -2.9987130165100098, 0.6668293476104736, 6.918834686279297, 5.141761302947998, -0.37402746081352234, -3.0374011993408203, -2.8792614936828613, 0.36760056018829346, 4.534499168395996, -3.041167974472046, -0.5036383867263794, 0.6693882346153259, -2.154168128967285, -2.390444040298462, -2.577735185623169, 1.6887965202331543, 0.9405027627944946, 5.089147090911865, 4.78932523727417, -2.786221981048584, 6.344799518585205, 3.5137577056884766, 6.304255962371826, 6.657617092132568, -2.301015853881836, 6.898446083068848, -1.8991079330444336, 4.97320032119751, 1.8168319463729858, -3.5033559799194336, -2.838005542755127, -1.1156116724014282, -2.3153629302978516, -2.9867138862609863, -2.527512788772583, -3.0140578746795654, 0.7836495637893677, 6.286472797393799, -2.5883047580718994, 6.005547046661377, 4.4796552658081055, 6.719882965087891, -2.8036623001098633, 1.3315619230270386, -1.9617419242858887, -3.0290894508361816, -1.7278125286102295, -3.8808224201202393, 5.855006694793701, 2.961437225341797, -2.982743978500366, 5.934350490570068, -1.614930510520935, 5.957250595092773, 6.987402439117432, -2.808551788330078, 6.334743022918701, -2.7476329803466797, 5.010113716125488, 5.958727836608887, 6.199950695037842, 2.3786981105804443, 0.9829303622245789, -2.424712896347046, -2.1692416667938232, 2.0428388118743896, 4.632343769073486, -2.226123571395874, 1.5925159454345703, -2.4160845279693604, -2.454014778137207, 6.084066867828369, -3.2710907459259033, -3.033573627471924, -2.8114662170410156, -2.155893087387085, 1.2156957387924194, -2.816931962966919, 4.887124061584473, -1.2882263660430908, -2.810732126235962, -2.0576658248901367, 6.598869323730469, 3.0594098567962646, -2.0780787467956543, 1.2189304828643799, -3.389373779296875, -2.8072707653045654, 3.7186498641967773, -0.036677464842796326, 2.5227508544921875, -2.652294158935547, 6.963287353515625, -3.1957943439483643, 1.6802207231521606, -1.188882827758789, -2.7058804035186768, -1.0323189496994019, -2.674348831176758, -3.359689235687256, 3.9611306190490723, 6.981777667999268, 6.469643592834473, 6.65331506729126, 6.922566890716553, -0.18538999557495117, 6.334403038024902, 0.31748464703559875, -0.1128443032503128, -1.5065747499465942, 1.8876370191574097, -2.789879083633423, 4.7727885246276855, 1.1056512594223022, 1.0033425092697144, 6.24745512008667, -0.7937808036804199, 0.5521234273910522, 6.210696697235107, -3.5943033695220947, -2.900556802749634, -0.4488045275211334, 5.111774444580078, -2.777000665664673, 5.892215251922607, 1.1898537874221802, -2.5288290977478027, -0.6662319898605347, -1.1714622974395752, -0.159418523311615, -2.843165159225464, -1.5963146686553955, -2.8267557621002197, 1.6741418838500977, -3.641522169113159, 6.5774006843566895, -2.8150391578674316, 6.899616241455078, 6.849176406860352, 0.18556690216064453, 1.4089714288711548, -1.9444221258163452, 2.3447256088256836, -2.4471731185913086, 1.6939324140548706, 2.213797092437744], \"z\": [-9.658689498901367, -10.157979965209961, 1.1273655891418457, 0.4758869707584381, -4.063656330108643, -10.582257270812988, -9.361018180847168, -6.095658779144287, -3.384572982788086, -0.318199098110199, -2.0019919872283936, -11.140876770019531, -7.490933418273926, -6.979759216308594, -5.34920072555542, 1.0925583839416504, -4.5271687507629395, -11.478592872619629, 0.5391553640365601, -5.087768077850342, -3.0422656536102295, -7.79694938659668, -8.874454498291016, -6.701418399810791, -10.42867374420166, -9.271864891052246, -12.305447578430176, -3.86250376701355, -12.841798782348633, -12.740748405456543, -8.374181747436523, -6.92566442489624, -11.067814826965332, -7.743572235107422, -10.590540885925293, -11.106521606445312, -9.494070053100586, -10.009184837341309, -10.200750350952148, -11.627766609191895, -9.551997184753418, -0.3940023183822632, -5.880224704742432, -8.407134056091309, -12.097969055175781, -4.9400153160095215, -7.364839553833008, -12.154797554016113, -4.1782073974609375, -6.3544087409973145, -12.433621406555176, -3.681607246398926, 1.0870708227157593, 1.0191080570220947, -12.346766471862793, -9.844204902648926, -8.700458526611328, -4.940221786499023, -10.586305618286133, -5.874302387237549, -1.9674094915390015, -10.424088478088379, -10.167606353759766, -12.712069511413574, -9.811799049377441, -10.721833229064941, -9.960602760314941, -7.2639994621276855, -5.953670024871826, -3.866133213043213, 0.8539276719093323, -5.625511169433594, -3.6656994819641113, -6.342426776885986, -4.210791110992432, -7.4551310539245605, -2.482147693634033, -9.647472381591797, -5.629772663116455, -9.281973838806152, -0.07372355461120605, -12.520838737487793, -3.1710829734802246, -8.214248657226562, -4.822480201721191, -12.838445663452148, -5.056807994842529, -8.777236938476562, -7.101271629333496, -13.104808807373047, -13.128206253051758, -10.488409996032715, -9.953778266906738, -10.61116886138916, -7.733694553375244, -6.250964164733887, -2.0167171955108643, -11.385096549987793, 0.7186680436134338, -2.988644599914551, -6.583897590637207, -9.54189682006836, -8.026378631591797, 1.1619102954864502, 0.46052342653274536, -3.9789795875549316, -2.0729117393493652, -8.10538101196289, -9.634513854980469, -10.178586959838867, -3.1313869953155518, -8.271018981933594, -11.169828414916992, -12.071891784667969, -12.70622444152832, -1.8539388179779053, -12.401871681213379, -8.673904418945312, -10.89704418182373, -2.8111519813537598, -3.9047610759735107, -12.281452178955078, -8.827950477600098, 0.7639296650886536, -12.197514533996582, -6.441033363342285, -12.167207717895508, -2.806400775909424, -12.324172973632812, -1.276313066482544, -8.881147384643555, -12.568814277648926, -13.002053260803223, -12.716500282287598, -9.068622589111328, -5.46435546875, -9.158870697021484, -3.92594838142395, -7.461014747619629, -4.801481246948242, -8.359790802001953, -8.026571273803711, -1.4494714736938477, -8.511943817138672, -6.999270439147949, -6.989664554595947, -12.207975387573242, -11.672179222106934, -2.201711416244507, -7.304466724395752, -1.3021082878112793, -10.7030029296875, -7.314871311187744, -3.7360384464263916, -2.1884238719940186, -2.9500439167022705, -9.825298309326172, -3.860170602798462, 0.8120368123054504, -8.010897636413574, -9.848692893981934, -8.191006660461426, -9.170053482055664, -10.731636047363281, -0.9950003027915955, -11.943577766418457, -6.3675923347473145, -7.140517234802246, -2.1696155071258545, -2.670513153076172, -5.649349689483643, -9.667655944824219, -5.1211042404174805, -11.970757484436035, -11.409504890441895, -1.17716646194458, -2.7572507858276367, -6.475000381469727, -12.809207916259766, -11.34913158416748, -7.061853885650635, -6.5566840171813965, -8.877562522888184, 0.4517919719219208, -5.51675271987915, 0.6744695901870728, -7.852466106414795, -9.89608383178711, -8.441120147705078, -11.39098834991455, -8.897502899169922, -10.47960376739502, -9.16316032409668, -5.833363056182861, -5.171818733215332, -8.6353178024292, -1.303643822669983, -1.9861799478530884, -7.894979953765869, -0.2736045718193054, -11.82152271270752, -8.452959060668945, -4.572785377502441, -6.610853672027588, -8.995141983032227, -11.096991539001465, -6.603458404541016, 0.5894099473953247, -9.374348640441895, -4.7405195236206055, -9.951225280761719, -2.5584003925323486, -5.834309101104736, -13.214780807495117, -0.5084406137466431, -12.71599292755127, -12.30622386932373, -10.846614837646484, -6.324733734130859, -13.212848663330078, -3.0525193214416504, -12.80504035949707, -11.789475440979004, -11.235391616821289, -0.35641413927078247, -5.475767612457275, -12.22583293914795, -9.006952285766602, -5.2768120765686035, 0.1905481070280075, 0.8416686654090881, -6.943475246429443, -8.408961296081543, -0.01365274004638195, -9.612764358520508, -5.416668891906738, -2.331702709197998, -2.1762170791625977, -6.489850044250488, -6.175634384155273, -7.301611423492432, -8.914645195007324, -8.919270515441895, 0.15291030704975128, -12.751147270202637, -11.2782621383667, -12.806809425354004, -12.526090621948242, -6.094531059265137, -9.769697189331055, -9.040501594543457, -8.805015563964844, -6.268978595733643, -8.922110557556152, 0.8969805836677551, -6.248871803283691, -2.710645914077759, -0.21240758895874023, -2.992952585220337, 0.42243891954421997, -5.462689399719238, -10.24094009399414, -7.677295207977295, -12.841400146484375, -8.370406150817871, -11.54982852935791, -8.81893539428711, -10.403912544250488, -3.6832168102264404, -0.15758861601352692, -3.091850519180298, -5.223514080047607, -13.054120063781738, -10.565418243408203, -3.685938596725464, -12.962179183959961, -5.669806957244873, -9.805282592773438, -9.916709899902344, -1.056281328201294, -12.992562294006348, -1.2105278968811035, -8.845697402954102, -9.809296607971191, -10.091755867004395, -6.684962749481201, -7.084333896636963, -6.707191467285156, -3.7082760334014893, -8.195887565612793, -11.611327171325684, -2.2460811138153076, -3.1787526607513428, -6.427023410797119, -1.0931764841079712, -13.105047225952148, -4.083400249481201, -0.10933458805084229, -1.0571213960647583, -2.3469581604003906, -10.448694229125977, -0.6162553429603577, -12.075942993164062, -3.5398499965667725, 0.3065415322780609, -2.9082279205322266, -11.024349212646484, -10.105093955993652, -2.273423910140991, -9.669437408447266, -5.005654811859131, -1.0879361629486084, -7.7604451179504395, -9.880321502685547, -10.718966484069824, 1.0392130613327026, -9.621971130371094, -3.883378744125366, -6.691081523895264, -5.5842084884643555, -6.656487464904785, -3.859856128692627, -1.391960859298706, -8.25993537902832, -10.9434814453125, -9.939181327819824, -10.60580825805664, -12.521888732910156, -12.12161636352539, -9.809122085571289, -10.612667083740234, -9.886988639831543, -4.681735515594482, -3.2531683444976807, -7.84807014465332, -0.6551368236541748, -11.683900833129883, -3.9363019466400146, -5.638227462768555, -10.18619155883789, -4.519076824188232, -5.267477035522461, -12.783449172973633, -5.626227855682373, -0.7741889953613281, -5.041965961456299, -12.042651176452637, -0.6507841348648071, -10.600415229797363, -6.661856651306152, -2.4284143447875977, -6.251405715942383, -3.6580495834350586, -6.647693157196045, -8.685933113098145, -5.242152214050293, 0.9013681411743164, -7.7503461837768555, -5.499108791351318, -12.585647583007812, -1.0338821411132812, -12.224967956542969, -11.755328178405762, -4.9461164474487305, -9.338421821594238, -4.417792797088623, -5.663669109344482, -0.9941065311431885, -3.2420949935913086, -6.6251020431518555]}, {\"hoverlabel\": {\"namelength\": 0}, \"hovertemplate\": \"Dominant_Topic=Topic 1<br>0=%{x}<br>1=%{y}<br>2=%{z}\", \"legendgroup\": \"Dominant_Topic=Topic 1\", \"marker\": {\"color\": \"#EF553B\", \"opacity\": 0.7, \"symbol\": \"circle\"}, \"mode\": \"markers\", \"name\": \"Dominant_Topic=Topic 1\", \"scene\": \"scene\", \"showlegend\": true, \"type\": \"scatter3d\", \"x\": [-11.657877922058105, -8.071904182434082, 3.8630757331848145, -0.30449432134628296, 5.8635382652282715, 6.179755687713623, -5.323461055755615, -11.411335945129395, -5.649744033813477, -5.145335674285889, -9.614151954650879, -5.987328052520752, -9.61916446685791, -8.433679580688477, -5.5057525634765625, -4.6157684326171875, 10.827621459960938, -7.401271343231201, -6.787652492523193, -10.464324951171875, -6.110249042510986, 8.620885848999023, -9.783740043640137, -0.059266384690999985, -10.393325805664062, -0.25524449348449707, -9.315638542175293, -9.46217155456543, -9.856846809387207, 2.6753053665161133, -11.698369026184082, -2.472536325454712, -1.4525768756866455, -10.85434341430664, -10.362272262573242, -5.522078990936279, -10.161629676818848, -4.990802764892578, 3.000187873840332, -7.72091007232666, -7.415791034698486, 0.4339149296283722, -8.111157417297363, 10.309886932373047, -8.787813186645508, -0.8394588828086853, -9.563273429870605, -11.24916934967041, -5.268601894378662, -7.326413154602051, 10.76576042175293, -0.2760562598705292, -8.103403091430664, -6.985119342803955, -3.540294885635376, 9.589700698852539, 0.14990313351154327, 2.085827589035034, -10.564420700073242, 9.333446502685547, -9.404845237731934, 1.2273796796798706, 7.708189487457275, -9.915287017822266, -7.063389301300049, -10.057489395141602, -4.921130180358887, -5.964868068695068, -11.115730285644531, -10.721391677856445, -7.562085151672363, 5.944945812225342, -6.059459686279297, -7.307398319244385, 4.382637977600098, -10.764763832092285, 7.1552605628967285, -10.543302536010742, -7.871924877166748, -9.298524856567383, 7.405799865722656, -8.09378433227539, 5.737487316131592, -6.447643280029297, -8.177375793457031, -7.316241264343262, -6.523495197296143, -4.712684631347656, -8.748663902282715, -6.718002796173096, 0.24886296689510345, 3.0722005367279053, 9.787505149841309, -8.214401245117188, 5.940895080566406, -6.946715354919434, -6.7874064445495605, 10.586272239685059, -4.339911460876465, -10.530817031860352, -7.942657947540283, -9.42187213897705, -4.524717807769775, -8.930177688598633, -4.514899253845215, 6.7988691329956055, -4.823651313781738, -8.196067810058594, -0.20835117995738983, -11.125816345214844, -7.242247104644775, -4.866647720336914, 10.71269416809082, -9.087079048156738, -4.20871639251709, -11.147257804870605, -10.210957527160645, 10.440217971801758, -5.692404270172119, 8.36823558807373, -4.717248916625977, -9.99504280090332, -4.367788314819336, 6.88814640045166, -9.56031608581543, -10.071576118469238, 3.6279008388519287, -6.350156307220459, 10.093585968017578, 6.185273170471191, -2.5389626026153564, -9.615195274353027, 10.58681869506836, -6.936297416687012, -11.272199630737305, -8.0816650390625, -4.417845726013184, -2.513559341430664, -2.0340723991394043, 5.241861820220947, 0.8139770030975342, 10.259732246398926, -3.02705454826355, -9.780799865722656, -11.640483856201172, -5.525937557220459, -7.082874774932861, 5.736917972564697, -8.025259017944336, 7.034488201141357, -2.605581760406494, -8.102253913879395, -7.680788040161133, -7.206593990325928, -5.808258056640625, -8.141463279724121, -5.067938327789307, -5.176978588104248, -10.185505867004395, -6.788511276245117, -4.053110599517822, -8.160181045532227, -6.480649948120117, -5.185962677001953, -7.749504089355469, -3.9404687881469727, -6.459936141967773, -7.2962117195129395, -7.0470733642578125, -0.5523678660392761, -10.312030792236328, -0.039400357753038406, 9.13814640045166, -8.787395477294922, 9.73060417175293, -11.290799140930176, -10.688522338867188, -9.375100135803223, 11.150761604309082, -9.649487495422363, -3.160980701446533, 4.7793426513671875, 10.402426719665527, -3.0241177082061768, -8.967025756835938, -4.255775451660156, -11.686018943786621, -10.063004493713379, -8.005059242248535, -2.740363597869873, -9.849912643432617, -2.500030517578125, -9.425154685974121, -10.601676940917969, -10.495745658874512, -7.4668049812316895, 8.924274444580078, -3.9694275856018066, -6.116913795471191, -4.662150859832764, -5.698837757110596, -11.005058288574219, -9.173588752746582, -8.220484733581543, -8.014908790588379, -5.144785404205322, -7.136298656463623, -11.22471809387207, 0.6962175965309143, -10.20860767364502, -6.5847954750061035, -10.871689796447754, 1.4400050640106201, -4.592525005340576, -4.836756229400635, -3.7791149616241455, -11.632243156433105, 6.586228370666504, 1.191338300704956, 1.6574786901474, -5.752719879150391, -10.054529190063477, -11.65197467803955, -5.840046405792236, -9.4839506149292, -3.738670587539673, -6.106595516204834, -7.139838218688965, -10.514996528625488, -7.056455612182617, -1.3497673273086548, -1.1480258703231812, 8.644659996032715, -8.222519874572754, -6.62970495223999, -1.7090673446655273, -0.48488715291023254, -4.891446113586426, 6.413858413696289, -8.208041191101074, -3.832974910736084, -5.287513732910156, 1.7552015781402588, -10.043209075927734, 8.647537231445312, -5.07725715637207, -10.196585655212402, -6.646487236022949, -7.5324387550354, -3.844278335571289, 6.71614933013916, -8.950567245483398, -6.715699672698975, 9.063273429870605, -10.108399391174316, -8.025822639465332, -8.210053443908691, -3.5876846313476562, -1.1356613636016846, -0.12593960762023926, -7.653319358825684, -7.652247428894043, -9.614364624023438, -9.921515464782715, -5.76041841506958, 3.54415225982666, -5.149466514587402, -4.8948235511779785, 10.562779426574707, 10.240962982177734, -4.701785564422607, -2.4421396255493164, -8.19789981842041, -10.783764839172363, -6.946328639984131, -1.2505486011505127, -6.461813926696777, -9.5475435256958, -8.173826217651367, -8.133522987365723, -9.744845390319824, -4.92445182800293, -2.241015672683716, 1.3211545944213867, -7.2820611000061035, -7.659392833709717, -1.0294020175933838, -6.600506782531738, -7.150054454803467, -7.277937412261963, -7.282858371734619, -9.095010757446289, -10.161788940429688, -11.700056076049805, 10.053564071655273, -10.111173629760742, -4.410075664520264, 9.051337242126465, -7.6112446784973145, -9.091083526611328, -7.833521366119385, -11.608202934265137, 3.3945233821868896, -7.635708808898926, -11.459240913391113, -2.8472378253936768, -10.466747283935547, -10.346138000488281, -10.739498138427734, 8.51905345916748, -7.161206245422363, -5.4681620597839355, -7.56730318069458, -8.826428413391113, -10.721753120422363, -8.618800163269043, -5.148845195770264, -6.904531955718994, 0.4664490222930908, -10.061450004577637, -3.232565402984619, 4.446547985076904, -1.4370684623718262, 3.3622000217437744, 2.843926191329956, -11.612833976745605, -7.013932228088379, 8.530826568603516, 0.28539934754371643, -10.560098648071289, -10.757983207702637, 0.5360495448112488, -5.279412269592285, -5.567434310913086, -4.375507354736328, -4.6796793937683105, -11.658035278320312, -8.400371551513672, -7.235644817352295, -5.431648254394531, -4.891928195953369, 3.872816324234009, 9.743658065795898, -5.660002708435059, 8.3149995803833, -9.979686737060547, -5.134409427642822, -7.366535186767578, -7.698017120361328, -4.337553024291992, 7.572920322418213, -6.989894390106201, -8.11786937713623, -9.415031433105469, -4.512475490570068, -6.363352298736572, -10.372653007507324, 0.44194963574409485, -9.098013877868652, 8.890287399291992, -1.7454419136047363, 5.687682151794434, -8.559040069580078, -4.372679233551025, -10.28357219696045, -7.294632911682129, -5.60594367980957, -9.184677124023438, -8.006272315979004, -11.530714988708496, -5.389647483825684, -1.2925776243209839, -10.522647857666016, -3.7734785079956055, -9.403714179992676, 4.417755603790283, 10.052148818969727, -0.6887379884719849, 0.0803389921784401, -4.578099727630615, -1.092305064201355, -8.170831680297852, 2.547454595565796, -4.245856761932373, -6.477381229400635, -0.021046232432127, -3.2140560150146484, 9.374834060668945, -8.111413955688477, -2.36564040184021, -7.313510417938232, -5.701019287109375, 10.802138328552246, -6.9037184715271, -8.205583572387695, -6.983983993530273, -4.779041290283203, 8.540251731872559, -6.055135250091553, -7.747001647949219, -3.9417061805725098, -4.0218305587768555, -0.49927622079849243, -9.781218528747559, -3.297166109085083, -0.29886120557785034, -6.608169078826904, 9.10799503326416, -11.550020217895508, 1.0004959106445312, -3.825075387954712, -1.8363802433013916, -6.686452388763428, -8.636260032653809, -8.041962623596191, -9.814642906188965, -0.6403760313987732, -8.332856178283691, -9.772698402404785, -2.562185049057007, -9.706633567810059, 5.968245029449463, -4.462400913238525, -9.63072681427002, 1.7427313327789307, 6.5131378173828125, 0.6128489375114441, -6.808786869049072, -5.066539287567139, -3.6055145263671875, 6.445770263671875, -6.773366451263428, -5.649369716644287, 0.10372752696275711, 0.4833245873451233, -1.9620587825775146, -5.079387664794922, -1.7543059587478638, -6.626208305358887, 9.107816696166992, -11.402641296386719, -9.57630443572998, -2.7723450660705566, -6.959630489349365, -5.649410724639893, -3.1505379676818848, 10.373373031616211, -10.004626274108887, -8.296138763427734, -6.284543991088867, -6.937047004699707, -3.8492512702941895, 8.233728408813477, -5.037236213684082, -5.493073463439941, -7.7363362312316895, -9.972518920898438, -10.185441970825195, -3.6786673069000244, -9.584577560424805, 9.909160614013672, 10.078827857971191, 2.5008976459503174, -11.537619590759277, -4.970836639404297, -8.060046195983887, -10.131819725036621, -10.978692054748535, 5.491421699523926, 10.036261558532715, -9.045190811157227, -7.618664741516113, -4.909840106964111, 8.79845905303955, -0.38063812255859375, -11.612205505371094, -8.023455619812012, -7.996223449707031, -8.534709930419922, -1.7437256574630737, -10.539558410644531, -11.571255683898926, -6.479048252105713, -9.71662425994873, 8.549789428710938, -7.966231822967529, -9.389936447143555, -0.27640897035598755, -2.144318103790283, -7.119009494781494, -10.229788780212402, -7.0826826095581055, -10.959372520446777, -5.902871131896973, -2.863213062286377, -4.081291198730469, -9.896973609924316, 10.03737735748291, -7.915853023529053, -5.807917594909668, 5.182036399841309, -7.883401393890381, -7.869917869567871, -4.049961090087891, -10.98512077331543, -10.043282508850098, -2.7093591690063477, -7.281919956207275, 11.23676872253418, 1.1038856506347656, -7.988487720489502, -11.47309398651123, -11.570130348205566, 10.920201301574707, -6.899672508239746, -11.632059097290039, 0.846181333065033, 4.588109016418457, -3.2016782760620117, 2.1809473037719727, -10.123458862304688, -2.8583226203918457, 9.981576919555664, -4.941658973693848, -6.448408126831055, -4.566605091094971, -0.9140563011169434, -9.662166595458984, -8.234807014465332, 9.08847427368164, -8.957152366638184, -11.01909065246582, -6.785813331604004, 10.663614273071289, 4.163111686706543, -7.534207820892334, -9.996707916259766, 4.811893463134766, -10.499414443969727, -7.2742390632629395, -6.300541877746582, 11.006477355957031, -3.82405424118042, 9.43311882019043, -10.204312324523926, -7.770477771759033, -8.691478729248047, 3.360729217529297, -5.987059116363525, 3.4810848236083984, -7.911064624786377, -5.530282497406006, -3.6192188262939453, 8.258943557739258, -3.863442897796631], \"y\": [-3.330474853515625, 3.9003045558929443, 1.571771264076233, -1.486703634262085, 1.7320340871810913, 2.152236223220825, -4.948817253112793, -3.9903483390808105, 3.4274659156799316, -5.689384937286377, 1.1412111520767212, 2.64389705657959, 1.8853148221969604, -5.300563335418701, -6.681723594665527, 0.970881462097168, 5.727785587310791, 4.974668025970459, -5.003918170928955, -4.815476894378662, 4.6318864822387695, 3.157191276550293, 1.138719081878662, -1.53812575340271, -0.18009790778160095, -1.45099675655365, -4.541477680206299, -3.2810068130493164, 1.2642312049865723, 1.4775527715682983, -3.442525863647461, -0.7669992446899414, -3.3878238201141357, -3.054967164993286, -4.569647789001465, 3.4332306385040283, -4.7092204093933105, -5.487048149108887, 1.4263650178909302, -5.894916534423828, -6.111310005187988, -1.7576565742492676, 5.236241340637207, 5.106828689575195, -4.97537088394165, 1.858515739440918, -2.6296310424804688, -3.1755151748657227, -4.364880561828613, 4.9023261070251465, 5.819636821746826, -1.5085151195526123, 5.21182107925415, -6.106420993804932, -0.8614007830619812, 4.284358024597168, -2.0831186771392822, 1.5241326093673706, -3.32133150100708, 4.002741813659668, -2.568222761154175, 1.5487931966781616, 2.7431583404541016, -3.8802413940429688, 4.138147354125977, 0.8697364330291748, -4.400854587554932, -6.248819351196289, -4.1773834228515625, -3.018833637237549, -6.019176959991455, 1.8625268936157227, 2.75600528717041, -4.671854019165039, 1.6410188674926758, -4.431570053100586, 2.4325273036956787, -0.6758859157562256, 5.018004417419434, -4.737340450286865, 2.572390079498291, 5.243160724639893, 1.8983958959579468, 4.631798267364502, 5.193892955780029, -5.038238048553467, -4.976066589355469, 3.9211528301239014, -3.929309606552124, 3.5701584815979004, 1.653517723083496, 1.5984700918197632, 4.503513336181641, 5.270408630371094, 2.052232265472412, 4.730931758880615, 0.8902257084846497, 5.721008777618408, -5.035102844238281, -0.3646917939186096, 5.125041961669922, -4.886749267578125, -3.389207124710083, -4.888382434844971, -3.42524790763855, 2.2618985176086426, 4.005070209503174, 5.273483753204346, -1.8445571660995483, -2.992913246154785, 4.255415439605713, 1.190487027168274, 5.5402374267578125, -4.8781843185424805, -3.302624464035034, -4.1636786460876465, 0.24060973525047302, 5.355142116546631, 4.38676643371582, 3.2027370929718018, -5.3110551834106445, 0.5396984815597534, 0.8851691484451294, 2.306476354598999, 1.7237775325775146, 0.5611415505409241, 1.3795700073242188, 3.1594040393829346, 4.938538551330566, 1.8562159538269043, -0.2771884500980377, -3.9973807334899902, 5.4822587966918945, 2.7887423038482666, -3.0059263706207275, 5.149888515472412, -2.625905752182007, -0.8208683133125305, 2.517328977584839, 1.783961534500122, 1.5890216827392578, 4.941379070281982, 3.1245508193969727, -1.9738284349441528, -3.2542295455932617, 4.284551620483398, -4.295175552368164, 1.8769423961639404, 5.193001747131348, 2.3790059089660645, -0.2540363073348999, 5.148410797119141, 4.793262481689453, 0.40506476163864136, -2.6085493564605713, -4.998810291290283, -4.664924621582031, 4.1150360107421875, -2.360442638397217, 3.743009090423584, -4.40070104598999, 5.23787784576416, 3.290095806121826, -6.246261119842529, 4.8658905029296875, 0.5922804474830627, 4.800961494445801, -5.029846668243408, -3.8311188220977783, 1.7884960174560547, -3.5983541011810303, -1.9176784753799438, 3.599215030670166, -5.017181396484375, 4.443069934844971, -2.9826302528381348, -3.213575601577759, -4.5407490730285645, 5.922451019287109, -4.222832202911377, -3.024219274520874, 1.692097544670105, 5.309593200683594, 0.007098506670445204, -2.424337387084961, 3.7313432693481445, -3.606865882873535, -4.22595739364624, 3.6107017993927, -3.0722413063049316, 1.6834179162979126, 2.785597085952759, -3.2764105796813965, -3.240010976791382, -0.34560513496398926, -6.084659099578857, 3.5085461139678955, 0.539616048336029, 0.8964169025421143, 3.908107280731201, 4.412038326263428, -2.9723663330078125, -4.829458713531494, 5.25886344909668, -5.551098823547363, 4.142457008361816, -6.243419647216797, -4.0981364250183105, 1.5980055332183838, 0.18832220137119293, 1.1356490850448608, -2.9802095890045166, -2.1750118732452393, -5.263244152069092, 1.2540206909179688, -4.296223163604736, -3.693822145462036, 2.205030679702759, 1.5607839822769165, 1.5295331478118896, 4.422293663024902, 0.9219689965248108, -3.3229997158050537, 2.48221492767334, -4.40185022354126, -4.2864861488342285, 3.4763693809509277, -4.481107234954834, -3.246636390686035, 3.930917978286743, -3.2932894229888916, 1.9835976362228394, 3.2316958904266357, 5.256746292114258, 0.8974236249923706, 2.3143274784088135, -1.339298963546753, -4.608316898345947, 2.03753399848938, 5.281035900115967, -3.0649187564849854, -6.772951126098633, 1.5277000665664673, -4.63758659362793, 3.388455629348755, -4.52097749710083, 0.44424474239349365, 2.0047507286071777, 4.586697101593018, -2.9851763248443604, 2.052253484725952, -2.897803544998169, 4.760979652404785, 3.5402956008911133, 0.6637263894081116, 5.177323341369629, 5.24891996383667, -3.2184696197509766, 1.9773050546646118, -1.5094335079193115, -5.0260009765625, 5.024924278259277, 1.573146104812622, -2.0206799507141113, 4.4787445068359375, 1.5919911861419678, -3.2473456859588623, 1.221466064453125, 5.685029029846191, 4.897256851196289, -4.698300838470459, -4.408919334411621, 5.2643256187438965, -3.0945792198181152, 3.8705973625183105, 2.0313003063201904, -6.385528564453125, -4.279151439666748, -0.2827090620994568, 5.26577615737915, -4.971815586090088, -4.6347527503967285, -0.4571022689342499, 1.5491070747375488, -4.648013114929199, 4.751739025115967, 1.9320976734161377, 4.589201927185059, 4.163776397705078, 4.349879741668701, 3.773768424987793, -4.7382097244262695, 0.25564470887184143, -3.4432504177093506, 4.874770164489746, -4.6556501388549805, 0.9253671765327454, 3.7577943801879883, 4.987374305725098, -2.9898874759674072, -5.036773681640625, -3.2071762084960938, 1.516684889793396, -5.048288345336914, -3.0518486499786377, -4.4399638175964355, -2.851130723953247, -4.498169422149658, -4.485565662384033, 3.160004138946533, 4.233591079711914, -4.924796104431152, -4.601055145263672, -3.617307186126709, -2.8872952461242676, -5.122818946838379, -4.905181884765625, 3.9287049770355225, 1.6250888109207153, -4.968520164489746, -2.7129905223846436, 1.6090929508209229, 2.1371772289276123, 1.5125552415847778, 1.5257444381713867, -3.2306811809539795, -6.282617092132568, 3.5348808765411377, -1.6948928833007812, -3.328638792037964, -4.29530143737793, -1.9362596273422241, -5.944958686828613, -4.826918125152588, 3.63275408744812, 3.941958427429199, -3.6080641746520996, -3.67012357711792, 0.6779937744140625, 3.4582512378692627, -5.1131205558776855, 1.5746797323226929, 4.4586944580078125, -6.58579158782959, 3.1323297023773193, 1.1899423599243164, -5.0262885093688965, 3.8400819301605225, -5.0554962158203125, -4.060656547546387, 2.6666793823242188, 4.000960350036621, 5.126226902008057, -4.372081279754639, -4.592663288116455, -6.408169269561768, -4.3414835929870605, 1.626083493232727, -2.883176565170288, 3.6192729473114014, 2.3380651473999023, 1.9840656518936157, -4.899962902069092, -4.191641330718994, -0.5989089608192444, 0.8348327279090881, -4.852574348449707, -4.8927741050720215, 5.167728424072266, -3.8440237045288086, -6.282046318054199, 2.0539040565490723, -3.37665057182312, -4.298792839050293, -3.130794048309326, 1.6271250247955322, 4.911002159118652, -1.3656911849975586, -1.6058673858642578, -3.252481698989868, -1.3397444486618042, 5.280623435974121, 1.526044249534607, -3.0913429260253906, -4.974602222442627, -1.563356876373291, 0.11956845223903656, 4.041181564331055, 5.254027366638184, -0.37751904129981995, 4.34405517578125, -4.857153415679932, 5.804003715515137, 4.753450393676758, 5.241739273071289, 4.866042613983154, 1.2007204294204712, 3.548201560974121, 2.743706226348877, 5.038581848144531, 0.6047173738479614, 0.4758613407611847, 1.7837722301483154, 1.513828158378601, 0.1581602841615677, 1.742034912109375, 4.850388526916504, 3.7909412384033203, -3.83669376373291, -1.994751214981079, 0.5189177393913269, -3.3425114154815674, 1.085940957069397, -4.951425552368164, 5.199566841125488, 1.7349151372909546, 1.8118101358413696, -5.391432762145996, -3.392782688140869, 2.8215548992156982, -4.189645767211914, 1.8282233476638794, -4.541591167449951, -4.693632125854492, 1.5282341241836548, 2.182025194168091, 1.6074448823928833, -3.14882230758667, -4.494534969329834, -3.5503690242767334, 2.080393075942993, 4.705091953277588, 3.4273288249969482, -1.6187841892242432, 1.6229647397994995, 2.4756181240081787, -6.2651777267456055, -3.344954252243042, 3.4918618202209473, 3.790834426879883, -3.003416061401367, -4.926218509674072, 2.9285831451416016, 4.840981960296631, 3.42730975151062, -4.568817138671875, 5.250024318695068, 1.1785306930541992, 3.583737850189209, 3.032301425933838, -6.290955543518066, -4.4650163650512695, 3.06862735748291, -3.705496311187744, -4.715285778045654, -5.0418381690979, -4.794609069824219, -2.1486895084381104, -4.444383144378662, -1.9401379823684692, 4.652947902679443, 4.941216468811035, 1.521642804145813, -3.1270592212677, 4.079883575439453, -5.537543773651123, -2.1629691123962402, -2.9767515659332275, 1.8217415809631348, 4.954373359680176, -4.685574054718018, 4.710949420928955, -5.145477771759033, 3.2310357093811035, 1.7586638927459717, -3.501044273376465, -5.505692481994629, 5.094118118286133, -2.756150484085083, -3.269803762435913, -0.9007560610771179, -3.7813313007354736, 4.814540863037109, -4.146148681640625, 3.1656296253204346, 5.129236221313477, -4.813555717468262, -1.5080230236053467, -0.5038015246391296, -4.5901570320129395, 0.46584808826446533, 4.81054162979126, -2.9753620624542236, -4.445426940917969, -3.291097402572632, -3.2916269302368164, 1.5039170980453491, 4.9536237716674805, -5.027863502502441, 1.8883594274520874, 1.7498350143432617, -5.772810935974121, -5.0262980461120605, -4.4117584228515625, -2.968207836151123, 0.9415853023529053, -0.24427922070026398, 3.109625816345215, 5.959941387176514, 1.5641109943389893, 5.154956340789795, -3.0383265018463135, -3.756791830062866, 5.81857967376709, 1.456568717956543, -3.7017476558685303, -2.292955160140991, 1.6580395698547363, 3.208228588104248, 1.5254685878753662, 0.6002940535545349, -4.636744022369385, 4.717353343963623, -4.990499019622803, -3.2365562915802, -4.649909496307373, 1.8863681554794312, -4.200137615203857, -4.981372356414795, 3.778132915496826, -4.289545059204102, -4.230165481567383, 4.885863780975342, 5.52543830871582, 1.6540342569351196, -6.050337791442871, -2.0354738235473633, 1.7003494501113892, -0.3761584460735321, -6.1915178298950195, 3.040026903152466, 5.869860649108887, -4.323200702667236, 4.115550518035889, -4.382266521453857, 3.1678459644317627, -5.062495708465576, 1.6620384454727173, 4.435607433319092, 1.4349347352981567, 5.072144031524658, -4.844119071960449, 0.3756963610649109, 3.0917422771453857, -4.3342461585998535], \"z\": [6.428999423980713, 10.721532821655273, 14.081095695495605, 1.0620824098587036, 13.19481372833252, 12.766441345214844, 13.472286224365234, 8.2366304397583, 12.409948348999023, -3.5830788612365723, 8.590184211730957, 1.412758231163025, 7.561297416687012, -1.7601804733276367, -4.632389068603516, 0.970434844493866, 6.4612812995910645, 9.11882209777832, 12.479655265808105, 9.83301830291748, 10.770800590515137, 10.523164749145508, 7.978837490081787, 1.2497211694717407, 5.401684284210205, 1.2181533575057983, -0.5783655643463135, 0.6932882070541382, 7.493348598480225, 14.528973579406738, 6.739909648895264, 0.4620632231235504, -3.3015644550323486, 3.0196564197540283, 9.848262786865234, 12.458976745605469, 10.257396697998047, -2.664377450942993, 14.484720230102539, -2.623944044113159, -2.950979709625244, 1.238806962966919, 5.3149943351745605, 7.564925193786621, -1.2851955890655518, 14.951319694519043, 1.3687208890914917, 6.19987678527832, -2.1885581016540527, 9.32293701171875, 6.581091403961182, 1.044600009918213, 7.576600074768066, -3.109930992126465, 0.07483264803886414, 8.85374927520752, -0.38520804047584534, 14.649805068969727, 2.0695509910583496, 9.307929992675781, 1.248541235923767, 14.861518859863281, 11.453293800354004, 0.6002871990203857, 2.4743010997772217, 7.140077590942383, -2.3632733821868896, -3.777780532836914, 8.747997283935547, 2.742067813873291, -2.803490161895752, 13.107999801635742, 1.4525505304336548, -1.7038930654525757, 13.843771934509277, 9.344005584716797, 12.010435104370117, 5.371362686157227, 4.329740047454834, 10.799519538879395, 11.758025169372559, 5.274130821228027, 13.11513900756836, 10.502405166625977, 7.377846717834473, 12.182415008544922, 12.632028579711914, 12.209054946899414, -0.3811010718345642, 1.9402796030044556, 14.98017692565918, 14.291727066040039, 8.50797176361084, 6.586806774139404, 12.94398021697998, 9.966813087463379, 1.2972078323364258, 6.737934589385986, -3.4005649089813232, 6.454702854156494, 8.046923637390137, 10.731996536254883, 2.076310873031616, -1.128322958946228, 2.0412819385528564, 12.336273193359375, 12.083284378051758, 5.993771076202393, 0.08206478506326675, 4.029336929321289, 2.7034454345703125, 1.027538776397705, 6.554200172424316, 10.988598823547363, -1.6595085859298706, 8.704346656799316, 5.046636581420898, 7.080756664276123, 11.274585723876953, 10.652281761169434, -3.429699182510376, 4.582722187042236, 0.9385998249053955, 12.253388404846191, 8.044520378112793, 4.860166072845459, 14.364469528198242, 1.6477336883544922, 7.841041564941406, 12.972957611083984, 0.7782304883003235, 10.362778663635254, 6.8937177658081055, 1.7742111682891846, 4.536575794219971, 7.713519096374512, 1.9189165830612183, 0.406907320022583, 14.117873191833496, 13.41648006439209, 14.921063423156738, 7.757106781005859, 13.343997955322266, 2.2140462398529053, 6.079237937927246, 11.477215766906738, -1.4716997146606445, 13.132164001464844, 7.796437740325928, 12.115829467773438, 0.7645009756088257, 7.661374092102051, 3.742013931274414, 1.3103649616241455, -0.7227206826210022, 11.661120414733887, 13.662773132324219, 11.82949447631836, 2.450737237930298, 2.0704052448272705, 13.878290176391602, 7.358780860900879, 1.7384995222091675, -2.604856014251709, 3.93046236038208, 0.8606805205345154, 10.333202362060547, 12.19330883026123, -1.1048641204833984, 14.990946769714355, 1.4022854566574097, 0.0031567371916025877, 9.961506843566895, -1.323475956916809, 8.601630210876465, 4.681065559387207, 6.735174179077148, -0.5371996164321899, 6.276788711547852, -0.023559797555208206, -1.7484312057495117, 13.652206420898438, 7.2173027992248535, 0.776147186756134, 0.964940071105957, 12.520881652832031, 7.214116096496582, 9.99459457397461, 2.981057643890381, -1.9971117973327637, 6.6967573165893555, 13.739233016967773, 7.400522708892822, 2.2274158000946045, 5.9267354011535645, -2.9059293270111084, 10.345063209533691, 0.8743872046470642, 1.1552159786224365, 12.236773490905762, 11.243114471435547, 3.6529171466827393, 10.910550117492676, 6.487749099731445, -2.1837399005889893, 11.81176471710205, -3.2029387950897217, 8.55220890045166, 14.93773078918457, 4.951542377471924, 1.2906290292739868, 3.296889066696167, 1.1732624769210815, -3.4748947620391846, 1.031407117843628, 14.000685691833496, 7.508453845977783, 12.489187240600586, 14.857287406921387, 14.761902809143066, 11.19986343383789, 7.026902675628662, 6.430405616760254, 1.3501931428909302, -0.3297322690486908, 14.016778945922852, 12.086748123168945, -1.6060082912445068, 2.0690205097198486, 10.407475471496582, -3.1777265071868896, 14.827037811279297, 10.712047576904297, 6.591056823730469, 1.2564525604248047, 14.404973983764648, 1.1897609233856201, -2.5622434616088867, 12.702935218811035, 6.447641849517822, 1.6735299825668335, -4.912102222442627, 14.733882904052734, 9.887227058410645, 10.049882888793945, 13.625373840332031, 5.45799446105957, 1.4715105295181274, 3.3214030265808105, 1.6184945106506348, 12.548913955688477, 6.745689868927002, 10.176733016967773, 9.935946464538574, 5.294552803039551, 4.916720390319824, 6.867286682128906, -1.7783215045928955, 14.834285736083984, 1.2398427724838257, 11.981947898864746, 8.688831329345703, 8.050962448120117, 2.3707034587860107, 11.135263442993164, 14.14288330078125, -1.340947151184082, 1.0348600149154663, 6.697983741760254, 7.832834243774414, 13.570566177368164, -4.263110637664795, 7.04158878326416, 2.7860636711120605, 2.2155375480651855, 14.773943901062012, -3.688051462173462, -0.16244956851005554, 1.6860995292663574, 5.515383720397949, 10.507949829101562, 13.252004623413086, 0.7932959198951721, 14.833144187927246, -1.6933894157409668, 3.660635232925415, 14.88073444366455, 10.412309646606445, 2.5553078651428223, 2.8215250968933105, 2.3885371685028076, -0.8963662981987, 4.829938888549805, 6.738290309906006, 7.9511399269104, 10.328659057617188, 0.9471906423568726, 9.708475112915039, 8.802766799926758, 6.906827449798584, 11.8711576461792, 5.9961090087890625, 14.284157752990723, 12.00070858001709, 5.261452674865723, -3.9129703044891357, 5.280338764190674, 9.900179862976074, 9.408086776733398, 10.779842376708984, 2.621061325073242, 13.126119613647461, -1.5296810865402222, -0.056264959275722504, 4.739845275878906, -1.5052990913391113, 13.08547592163086, 2.237722635269165, 14.961882591247559, 10.246567726135254, -1.4069863557815552, 13.853019714355469, 14.643753051757812, 14.296416282653809, 14.433161735534668, 6.159121036529541, -3.2999205589294434, 10.21518611907959, 1.2482600212097168, 2.0544791221618652, 9.255260467529297, 0.7279333472251892, -3.809509038925171, 13.169197082519531, 12.586710929870605, 12.197057723999023, 7.276113510131836, -0.3373425602912903, 1.4138071537017822, 12.467172622680664, -3.0592894554138184, 14.068048477172852, 8.579399108886719, -4.402141094207764, 10.75427532196045, 6.924252033233643, 13.423807144165039, 1.2945109605789185, 11.967058181762695, -2.3205370903015137, 11.58895492553711, 2.3256404399871826, 7.6563496589660645, 10.628198623657227, 13.656161308288574, -3.768784284591675, 9.705191612243652, 14.967650413513184, 0.7191884517669678, 10.275296211242676, 14.371254920959473, 13.091769218444824, 11.364463806152344, -2.441521406173706, 4.39892053604126, 1.4787734746932983, 13.143563270568848, 10.916781425476074, 4.851142406463623, 7.886951446533203, -4.1651740074157715, 14.747579574584961, 1.9425677061080933, 14.0021390914917, 0.7699301838874817, 13.844472885131836, 7.907032489776611, 0.8871166110038757, 1.247930645942688, 2.098130702972412, 0.551525890827179, 5.803437232971191, 14.524659156799316, 1.8756768703460693, 12.657127380371094, 1.234199047088623, 0.7847422957420349, 9.247831344604492, 5.377020835876465, 0.7864672541618347, 2.8499562740325928, 13.106050491333008, 6.5463995933532715, 9.985223770141602, 7.004085063934326, 9.79563045501709, 1.0189542770385742, 10.389479637145996, 1.4489623308181763, 8.523214340209961, 0.8757969737052917, 0.803301990032196, 14.978482246398926, 7.438506603240967, 0.7821800708770752, 14.989145278930664, 10.189303398132324, 9.625603675842285, 7.853309631347656, 1.21058189868927, 0.8501525521278381, -2.9219295978546143, 1.3074780702590942, 11.322907447814941, 5.009809970855713, 6.844253063201904, 14.970365524291992, -1.8913427591323853, 0.9195883274078369, 13.69271183013916, 0.061153993010520935, 12.951544761657715, 13.697269439697266, 10.535810470581055, 14.73689079284668, 12.541325569152832, 14.948493957519531, -0.6637269854545593, 13.376513481140137, -1.408482313156128, 12.649820327758789, 10.182413101196289, 12.41032886505127, 1.2397820949554443, 14.959457397460938, 14.175248146057129, -4.366996765136719, -2.982741594314575, 1.8721635341644287, 9.625758171081543, 5.096644878387451, 10.63984203338623, 13.547115325927734, 9.851329803466797, 12.410274505615234, -3.839513063430786, 7.319751262664795, 6.609557628631592, 11.12077522277832, 1.586775779724121, -3.341871976852417, -3.105586528778076, 10.855460166931152, -1.7352243661880493, 13.28449535369873, 11.935791015625, 10.057892799377441, 2.685117244720459, -3.2097086906433105, 1.9860410690307617, 8.27780532836914, 7.836406230926514, 14.540253639221191, 5.473649501800537, 11.94796371459961, -2.150390386581421, 2.569007158279419, 3.5378754138946533, 13.276045799255371, 7.841729640960693, -0.8784443736076355, 3.568288803100586, -3.083029270172119, 10.176004409790039, 14.983010292053223, 7.256579399108887, -2.138561248779297, 7.97999906539917, 6.429562568664551, -2.8487637042999268, 4.955971717834473, 7.754419803619385, 10.312932968139648, 0.11473405361175537, 10.339484214782715, 4.684146404266357, 10.754777908325195, 1.0445595979690552, 0.8079347610473633, -1.7071794271469116, 6.7186808586120605, 9.74844741821289, 3.474653959274292, -2.0125179290771484, -2.2119362354278564, 1.8724653720855713, 6.790532112121582, 7.841394901275635, 11.816277503967285, 1.2530646324157715, 13.45882797241211, -2.4423186779022217, 11.843430519104004, 13.873595237731934, 3.586627960205078, 7.067846775054932, 0.7302122116088867, 2.0707366466522217, 6.240566730499268, 14.876794815063477, 7.913595676422119, 5.40362024307251, 7.720667362213135, 6.4177446365356445, 1.4435789585113525, 7.510241985321045, -0.45816922187805176, 13.75250244140625, 13.229740142822266, 14.619000434875488, 5.238983631134033, -4.221045017242432, 8.167561531066895, 13.300422668457031, -0.8850671648979187, 13.607807159423828, 14.919184684753418, 0.01055279839783907, 11.595107078552246, 9.653260231018066, -0.5808190703392029, 8.902950286865234, 9.969114303588867, 6.584689140319824, 13.899327278137207, -2.8445839881896973, 2.470938205718994, 13.636716842651367, 5.834266662597656, -3.0929057598114014, 1.5934034585952759, 6.35442590713501, 13.977362632751465, 9.1279296875, 9.96097469329834, 2.4788684844970703, -1.4133819341659546, 14.135095596313477, 11.03397274017334, 14.342585563659668, 4.485259056091309, 13.16711139678955, 0.8215452432632446, 10.812642097473145, 13.961434364318848]}, {\"hoverlabel\": {\"namelength\": 0}, \"hovertemplate\": \"Dominant_Topic=Topic 2<br>0=%{x}<br>1=%{y}<br>2=%{z}\", \"legendgroup\": \"Dominant_Topic=Topic 2\", \"marker\": {\"color\": \"#00cc96\", \"opacity\": 0.7, \"symbol\": \"circle\"}, \"mode\": \"markers\", \"name\": \"Dominant_Topic=Topic 2\", \"scene\": \"scene\", \"showlegend\": true, \"type\": \"scatter3d\", \"x\": [-2.387605667114258, -1.9108402729034424, -1.8481510877609253, -4.326601505279541, -1.5155587196350098, -1.64456307888031, -3.798546552658081, -4.413025379180908, -1.4282146692276, -4.210532188415527, -2.052931785583496, -1.4079047441482544, -1.4671528339385986, -2.3025498390197754, -4.81240701675415, -1.2973147630691528, -2.327714681625366, -4.02753210067749, -4.313789367675781, -4.811666965484619, -1.3490647077560425, -1.6594178676605225, -2.1677324771881104, -4.853743076324463, -1.9826997518539429, -5.1501851081848145, -1.8030498027801514, -2.761385679244995, -4.225184440612793, -4.501712322235107, -1.637510895729065, -0.9473825693130493, -5.093934535980225, -2.0627880096435547, -2.9066264629364014, -1.0854769945144653, -1.3468552827835083, -1.9259597063064575, -3.0855093002319336, -4.874942779541016, -4.836203098297119, -1.9691075086593628, -2.0218470096588135, -1.2537258863449097, -2.884289026260376], \"y\": [-5.639321804046631, -5.805271148681641, -5.757498741149902, -6.981154441833496, -4.155077934265137, -5.504645347595215, -6.788403511047363, -6.993880748748779, -5.313110828399658, -6.967766761779785, -5.255690574645996, -5.288356304168701, -5.2136101722717285, -6.1309027671813965, -6.964077949523926, -5.174577236175537, -5.687077522277832, -6.944852352142334, -6.842715263366699, -6.9641900062561035, -5.175515651702881, -5.579782485961914, -5.055723667144775, -6.746843338012695, -5.800830364227295, -6.850273609161377, -4.273431301116943, -5.98061466217041, -6.974977016448975, -6.995486259460449, -5.562605857849121, -4.745577335357666, -6.868544101715088, -6.146137714385986, -4.945793628692627, -4.2488813400268555, -5.224298477172852, -5.434756278991699, -6.667042255401611, -6.698606491088867, -6.963113307952881, -4.333036422729492, -5.609878063201904, -4.019861221313477, -5.871075630187988], \"z\": [-6.656591415405273, -8.456427574157715, -8.514544486999512, -6.167787075042725, -4.732696533203125, -8.374486923217773, -6.580112934112549, -6.0836968421936035, -8.541719436645508, -6.293794631958008, -6.409460544586182, -8.326577186584473, -8.03222942352295, -8.303936958312988, -5.602488994598389, -8.619149208068848, -6.911370754241943, -6.511515140533447, -5.97766637802124, -5.602149963378906, -8.371221542358398, -8.605881690979004, -5.780210494995117, -5.228642463684082, -7.999138355255127, -5.130465030670166, -4.749085426330566, -6.709420680999756, -6.286401748657227, -5.982266902923584, -8.36833667755127, -8.67314338684082, -5.2044806480407715, -8.15674114227295, -4.661651611328125, -5.854422092437744, -8.580958366394043, -7.240941047668457, -7.844585418701172, -5.137121200561523, -5.57993221282959, -4.6599202156066895, -7.478504657745361, -4.970792770385742, -6.26338529586792]}, {\"hoverlabel\": {\"namelength\": 0}, \"hovertemplate\": \"Dominant_Topic=Topic 3<br>0=%{x}<br>1=%{y}<br>2=%{z}\", \"legendgroup\": \"Dominant_Topic=Topic 3\", \"marker\": {\"color\": \"#ab63fa\", \"opacity\": 0.7, \"symbol\": \"circle\"}, \"mode\": \"markers\", \"name\": \"Dominant_Topic=Topic 3\", \"scene\": \"scene\", \"showlegend\": true, \"type\": \"scatter3d\", \"x\": [1.8769416809082031, 2.301684856414795, 2.012871026992798, 1.6977760791778564, 2.4372215270996094, 1.919164776802063, 1.9809927940368652, 2.099531888961792, 2.2550504207611084, 2.0247583389282227, 2.554694175720215, 2.2849926948547363, -3.663747787475586, 2.230443239212036, 1.5777970552444458, 2.740126371383667, 2.76633882522583, 2.0366485118865967, 1.657133936882019, 1.917659878730774, 2.2908742427825928, 1.683853030204773, 2.487816572189331, 1.6209582090377808, 2.414382219314575, 1.929458737373352, 1.769785761833191, 2.013363838195801, 2.7638328075408936, 2.3183846473693848], \"y\": [-14.853020668029785, -15.693946838378906, -15.755318641662598, -15.371500968933105, -14.938002586364746, -15.13341999053955, -15.28717041015625, -15.05319595336914, -14.983159065246582, -14.766111373901367, -15.444759368896484, -15.503015518188477, -3.626511335372925, -14.982757568359375, -15.285975456237793, -14.864843368530273, -14.867609977722168, -14.767010688781738, -15.062586784362793, -15.588580131530762, -15.683506965637207, -15.619158744812012, -15.114211082458496, -15.146056175231934, -15.278434753417969, -15.550962448120117, -15.657367706298828, -15.004080772399902, -14.857518196105957, -15.53298568725586], \"z\": [-3.4593966007232666, -3.7731497287750244, -3.942364454269409, -4.146940231323242, -3.652207851409912, -4.2308244705200195, -3.139728307723999, -4.17152214050293, -2.9069955348968506, -3.780249834060669, -3.60783314704895, -4.134693622589111, 1.8740384578704834, -2.9962918758392334, -3.680013418197632, -3.15096378326416, -3.1806962490081787, -3.771582841873169, -3.935856342315674, -4.1719465255737305, -3.529320001602173, -3.784960985183716, -3.901895523071289, -3.5142390727996826, -4.107481479644775, -3.289597988128662, -3.6126067638397217, -3.0927207469940186, -3.14709210395813, -3.319870948791504]}],\n",
       "                        {\"height\": 800, \"legend\": {\"tracegroupgap\": 0}, \"scene\": {\"domain\": {\"x\": [0.0, 1.0], \"y\": [0.0, 1.0]}, \"xaxis\": {\"title\": {\"text\": \"0\"}}, \"yaxis\": {\"title\": {\"text\": \"1\"}}, \"zaxis\": {\"title\": {\"text\": \"2\"}}}, \"template\": {\"data\": {\"bar\": [{\"error_x\": {\"color\": \"#2a3f5f\"}, \"error_y\": {\"color\": \"#2a3f5f\"}, \"marker\": {\"line\": {\"color\": \"#E5ECF6\", \"width\": 0.5}}, \"type\": \"bar\"}], \"barpolar\": [{\"marker\": {\"line\": {\"color\": \"#E5ECF6\", \"width\": 0.5}}, \"type\": \"barpolar\"}], \"carpet\": [{\"aaxis\": {\"endlinecolor\": \"#2a3f5f\", \"gridcolor\": \"white\", \"linecolor\": \"white\", \"minorgridcolor\": \"white\", \"startlinecolor\": \"#2a3f5f\"}, \"baxis\": {\"endlinecolor\": \"#2a3f5f\", \"gridcolor\": \"white\", \"linecolor\": \"white\", \"minorgridcolor\": \"white\", \"startlinecolor\": \"#2a3f5f\"}, \"type\": \"carpet\"}], \"choropleth\": [{\"colorbar\": {\"outlinewidth\": 0, \"ticks\": \"\"}, \"type\": \"choropleth\"}], \"contour\": [{\"colorbar\": {\"outlinewidth\": 0, \"ticks\": \"\"}, \"colorscale\": [[0.0, \"#0d0887\"], [0.1111111111111111, \"#46039f\"], [0.2222222222222222, \"#7201a8\"], [0.3333333333333333, \"#9c179e\"], [0.4444444444444444, \"#bd3786\"], [0.5555555555555556, \"#d8576b\"], [0.6666666666666666, \"#ed7953\"], [0.7777777777777778, \"#fb9f3a\"], [0.8888888888888888, \"#fdca26\"], [1.0, \"#f0f921\"]], \"type\": \"contour\"}], \"contourcarpet\": [{\"colorbar\": {\"outlinewidth\": 0, \"ticks\": \"\"}, \"type\": \"contourcarpet\"}], \"heatmap\": [{\"colorbar\": {\"outlinewidth\": 0, \"ticks\": \"\"}, \"colorscale\": [[0.0, \"#0d0887\"], [0.1111111111111111, \"#46039f\"], [0.2222222222222222, \"#7201a8\"], [0.3333333333333333, \"#9c179e\"], [0.4444444444444444, \"#bd3786\"], [0.5555555555555556, \"#d8576b\"], [0.6666666666666666, \"#ed7953\"], [0.7777777777777778, \"#fb9f3a\"], [0.8888888888888888, \"#fdca26\"], [1.0, \"#f0f921\"]], \"type\": \"heatmap\"}], \"heatmapgl\": [{\"colorbar\": {\"outlinewidth\": 0, \"ticks\": \"\"}, \"colorscale\": [[0.0, \"#0d0887\"], [0.1111111111111111, \"#46039f\"], [0.2222222222222222, \"#7201a8\"], [0.3333333333333333, \"#9c179e\"], [0.4444444444444444, \"#bd3786\"], [0.5555555555555556, \"#d8576b\"], [0.6666666666666666, \"#ed7953\"], [0.7777777777777778, \"#fb9f3a\"], [0.8888888888888888, \"#fdca26\"], [1.0, \"#f0f921\"]], \"type\": \"heatmapgl\"}], \"histogram\": [{\"marker\": {\"colorbar\": {\"outlinewidth\": 0, \"ticks\": \"\"}}, \"type\": \"histogram\"}], \"histogram2d\": [{\"colorbar\": {\"outlinewidth\": 0, \"ticks\": \"\"}, \"colorscale\": [[0.0, \"#0d0887\"], [0.1111111111111111, \"#46039f\"], [0.2222222222222222, \"#7201a8\"], [0.3333333333333333, \"#9c179e\"], [0.4444444444444444, \"#bd3786\"], [0.5555555555555556, \"#d8576b\"], [0.6666666666666666, \"#ed7953\"], [0.7777777777777778, \"#fb9f3a\"], [0.8888888888888888, \"#fdca26\"], [1.0, \"#f0f921\"]], \"type\": \"histogram2d\"}], \"histogram2dcontour\": [{\"colorbar\": {\"outlinewidth\": 0, \"ticks\": \"\"}, \"colorscale\": [[0.0, \"#0d0887\"], [0.1111111111111111, \"#46039f\"], [0.2222222222222222, \"#7201a8\"], [0.3333333333333333, \"#9c179e\"], [0.4444444444444444, \"#bd3786\"], [0.5555555555555556, \"#d8576b\"], [0.6666666666666666, \"#ed7953\"], [0.7777777777777778, \"#fb9f3a\"], [0.8888888888888888, \"#fdca26\"], [1.0, \"#f0f921\"]], \"type\": \"histogram2dcontour\"}], \"mesh3d\": [{\"colorbar\": {\"outlinewidth\": 0, \"ticks\": \"\"}, \"type\": \"mesh3d\"}], \"parcoords\": [{\"line\": {\"colorbar\": {\"outlinewidth\": 0, \"ticks\": \"\"}}, \"type\": \"parcoords\"}], \"pie\": [{\"automargin\": true, \"type\": \"pie\"}], \"scatter\": [{\"marker\": {\"colorbar\": {\"outlinewidth\": 0, \"ticks\": \"\"}}, \"type\": \"scatter\"}], \"scatter3d\": [{\"line\": {\"colorbar\": {\"outlinewidth\": 0, \"ticks\": \"\"}}, \"marker\": {\"colorbar\": {\"outlinewidth\": 0, \"ticks\": \"\"}}, \"type\": \"scatter3d\"}], \"scattercarpet\": [{\"marker\": {\"colorbar\": {\"outlinewidth\": 0, \"ticks\": \"\"}}, \"type\": \"scattercarpet\"}], \"scattergeo\": [{\"marker\": {\"colorbar\": {\"outlinewidth\": 0, \"ticks\": \"\"}}, \"type\": \"scattergeo\"}], \"scattergl\": [{\"marker\": {\"colorbar\": {\"outlinewidth\": 0, \"ticks\": \"\"}}, \"type\": \"scattergl\"}], \"scattermapbox\": [{\"marker\": {\"colorbar\": {\"outlinewidth\": 0, \"ticks\": \"\"}}, \"type\": \"scattermapbox\"}], \"scatterpolar\": [{\"marker\": {\"colorbar\": {\"outlinewidth\": 0, \"ticks\": \"\"}}, \"type\": \"scatterpolar\"}], \"scatterpolargl\": [{\"marker\": {\"colorbar\": {\"outlinewidth\": 0, \"ticks\": \"\"}}, \"type\": \"scatterpolargl\"}], \"scatterternary\": [{\"marker\": {\"colorbar\": {\"outlinewidth\": 0, \"ticks\": \"\"}}, \"type\": \"scatterternary\"}], \"surface\": [{\"colorbar\": {\"outlinewidth\": 0, \"ticks\": \"\"}, \"colorscale\": [[0.0, \"#0d0887\"], [0.1111111111111111, \"#46039f\"], [0.2222222222222222, \"#7201a8\"], [0.3333333333333333, \"#9c179e\"], [0.4444444444444444, \"#bd3786\"], [0.5555555555555556, \"#d8576b\"], [0.6666666666666666, \"#ed7953\"], [0.7777777777777778, \"#fb9f3a\"], [0.8888888888888888, \"#fdca26\"], [1.0, \"#f0f921\"]], \"type\": \"surface\"}], \"table\": [{\"cells\": {\"fill\": {\"color\": \"#EBF0F8\"}, \"line\": {\"color\": \"white\"}}, \"header\": {\"fill\": {\"color\": \"#C8D4E3\"}, \"line\": {\"color\": \"white\"}}, \"type\": \"table\"}]}, \"layout\": {\"annotationdefaults\": {\"arrowcolor\": \"#2a3f5f\", \"arrowhead\": 0, \"arrowwidth\": 1}, \"coloraxis\": {\"colorbar\": {\"outlinewidth\": 0, \"ticks\": \"\"}}, \"colorscale\": {\"diverging\": [[0, \"#8e0152\"], [0.1, \"#c51b7d\"], [0.2, \"#de77ae\"], [0.3, \"#f1b6da\"], [0.4, \"#fde0ef\"], [0.5, \"#f7f7f7\"], [0.6, \"#e6f5d0\"], [0.7, \"#b8e186\"], [0.8, \"#7fbc41\"], [0.9, \"#4d9221\"], [1, \"#276419\"]], \"sequential\": [[0.0, \"#0d0887\"], [0.1111111111111111, \"#46039f\"], [0.2222222222222222, \"#7201a8\"], [0.3333333333333333, \"#9c179e\"], [0.4444444444444444, \"#bd3786\"], [0.5555555555555556, \"#d8576b\"], [0.6666666666666666, \"#ed7953\"], [0.7777777777777778, \"#fb9f3a\"], [0.8888888888888888, \"#fdca26\"], [1.0, \"#f0f921\"]], \"sequentialminus\": [[0.0, \"#0d0887\"], [0.1111111111111111, \"#46039f\"], [0.2222222222222222, \"#7201a8\"], [0.3333333333333333, \"#9c179e\"], [0.4444444444444444, \"#bd3786\"], [0.5555555555555556, \"#d8576b\"], [0.6666666666666666, \"#ed7953\"], [0.7777777777777778, \"#fb9f3a\"], [0.8888888888888888, \"#fdca26\"], [1.0, \"#f0f921\"]]}, \"colorway\": [\"#636efa\", \"#EF553B\", \"#00cc96\", \"#ab63fa\", \"#FFA15A\", \"#19d3f3\", \"#FF6692\", \"#B6E880\", \"#FF97FF\", \"#FECB52\"], \"font\": {\"color\": \"#2a3f5f\"}, \"geo\": {\"bgcolor\": \"white\", \"lakecolor\": \"white\", \"landcolor\": \"#E5ECF6\", \"showlakes\": true, \"showland\": true, \"subunitcolor\": \"white\"}, \"hoverlabel\": {\"align\": \"left\"}, \"hovermode\": \"closest\", \"mapbox\": {\"style\": \"light\"}, \"paper_bgcolor\": \"white\", \"plot_bgcolor\": \"#E5ECF6\", \"polar\": {\"angularaxis\": {\"gridcolor\": \"white\", \"linecolor\": \"white\", \"ticks\": \"\"}, \"bgcolor\": \"#E5ECF6\", \"radialaxis\": {\"gridcolor\": \"white\", \"linecolor\": \"white\", \"ticks\": \"\"}}, \"scene\": {\"xaxis\": {\"backgroundcolor\": \"#E5ECF6\", \"gridcolor\": \"white\", \"gridwidth\": 2, \"linecolor\": \"white\", \"showbackground\": true, \"ticks\": \"\", \"zerolinecolor\": \"white\"}, \"yaxis\": {\"backgroundcolor\": \"#E5ECF6\", \"gridcolor\": \"white\", \"gridwidth\": 2, \"linecolor\": \"white\", \"showbackground\": true, \"ticks\": \"\", \"zerolinecolor\": \"white\"}, \"zaxis\": {\"backgroundcolor\": \"#E5ECF6\", \"gridcolor\": \"white\", \"gridwidth\": 2, \"linecolor\": \"white\", \"showbackground\": true, \"ticks\": \"\", \"zerolinecolor\": \"white\"}}, \"shapedefaults\": {\"line\": {\"color\": \"#2a3f5f\"}}, \"ternary\": {\"aaxis\": {\"gridcolor\": \"white\", \"linecolor\": \"white\", \"ticks\": \"\"}, \"baxis\": {\"gridcolor\": \"white\", \"linecolor\": \"white\", \"ticks\": \"\"}, \"bgcolor\": \"#E5ECF6\", \"caxis\": {\"gridcolor\": \"white\", \"linecolor\": \"white\", \"ticks\": \"\"}}, \"title\": {\"x\": 0.05}, \"xaxis\": {\"automargin\": true, \"gridcolor\": \"white\", \"linecolor\": \"white\", \"ticks\": \"\", \"title\": {\"standoff\": 15}, \"zerolinecolor\": \"white\", \"zerolinewidth\": 2}, \"yaxis\": {\"automargin\": true, \"gridcolor\": \"white\", \"linecolor\": \"white\", \"ticks\": \"\", \"title\": {\"standoff\": 15}, \"zerolinecolor\": \"white\", \"zerolinewidth\": 2}}}, \"title\": {\"text\": \"3d TSNE Plot for Topic Model\"}, \"width\": 900},\n",
       "                        {\"responsive\": true}\n",
       "                    ).then(function(){\n",
       "                            \n",
       "var gd = document.getElementById('5ad7ce4c-44af-43c5-bc52-42173f98ccf1');\n",
       "var x = new MutationObserver(function (mutations, observer) {{\n",
       "        var display = window.getComputedStyle(gd).display;\n",
       "        if (!display || display === 'none') {{\n",
       "            console.log([gd, 'removed!']);\n",
       "            Plotly.purge(gd);\n",
       "            observer.disconnect();\n",
       "        }}\n",
       "}});\n",
       "\n",
       "// Listen for the removal of the full notebook cells\n",
       "var notebookContainer = gd.closest('#notebook-container');\n",
       "if (notebookContainer) {{\n",
       "    x.observe(notebookContainer, {childList: true});\n",
       "}}\n",
       "\n",
       "// Listen for the clearing of the current output cell\n",
       "var outputEl = gd.closest('.output');\n",
       "if (outputEl) {{\n",
       "    x.observe(outputEl, {childList: true});\n",
       "}}\n",
       "\n",
       "                        })\n",
       "                };\n",
       "                });\n",
       "            </script>\n",
       "        </div>"
      ]
     },
     "metadata": {},
     "output_type": "display_data"
    }
   ],
   "source": [
    "plot_model(lda, plot='tsne')"
   ]
  },
  {
   "cell_type": "code",
   "execution_count": 15,
   "metadata": {},
   "outputs": [
    {
     "data": {
      "text/html": [
       "        <script type=\"text/javascript\">\n",
       "        window.PlotlyConfig = {MathJaxConfig: 'local'};\n",
       "        if (window.MathJax) {MathJax.Hub.Config({SVG: {font: \"STIX-Web\"}});}\n",
       "        if (typeof require !== 'undefined') {\n",
       "        require.undef(\"plotly\");\n",
       "        requirejs.config({\n",
       "            paths: {\n",
       "                'plotly': ['https://cdn.plot.ly/plotly-latest.min']\n",
       "            }\n",
       "        });\n",
       "        require(['plotly'], function(Plotly) {\n",
       "            window._Plotly = Plotly;\n",
       "        });\n",
       "        }\n",
       "        </script>\n",
       "        "
      ]
     },
     "metadata": {},
     "output_type": "display_data"
    },
    {
     "data": {
      "image/png": "[encoded data removed]",
      "text/plain": [
       "<Figure size 720x432 with 1 Axes>"
      ]
     },
     "metadata": {},
     "output_type": "display_data"
    }
   ],
   "source": [
    "plot_model(lda, plot='umap')"
   ]
  },
  {
   "cell_type": "code",
   "execution_count": 16,
   "metadata": {},
   "outputs": [
    {
     "data": {
      "application/vnd.jupyter.widget-view+json": {
       "model_id": "48e5dac09b28485280685088c1d39ab4",
       "version_major": 2,
       "version_minor": 0
      },
      "text/plain": [
       "interactive(children=(ToggleButtons(description='Plot Type:', icons=('',), options=(('Frequency Plot', 'freque…"
      ]
     },
     "metadata": {},
     "output_type": "display_data"
    }
   ],
   "source": [
    "evaluate_model(lda)"
   ]
  },
  {
   "cell_type": "code",
   "execution_count": 17,
   "metadata": {},
   "outputs": [
    {
     "name": "stdout",
     "output_type": "stream",
     "text": [
      "Model Succesfully Saved\n"
     ]
    },
    {
     "data": {
      "text/plain": [
       "(<gensim.models.ldamodel.LdaModel at 0x20683ba0608>,\n",
       " 'final_models/Final NLP LDA Model 28Nov2020.pkl')"
      ]
     },
     "execution_count": 17,
     "metadata": {},
     "output_type": "execute_result"
    }
   ],
   "source": [
    "save_model(lda, 'final_models/Final NLP LDA Model 28Nov2020')"
   ]
  },
  {
   "cell_type": "code",
   "execution_count": null,
   "metadata": {},
   "outputs": [],
   "source": []
  }
 ],
 "metadata": {
  "kernelspec": {
   "display_name": "Python 3",
   "language": "python",
   "name": "python3"
  },
  "language_info": {
   "codemirror_mode": {
    "name": "ipython",
    "version": 3
   },
   "file_extension": ".py",
   "mimetype": "text/x-python",
   "name": "python",
   "nbconvert_exporter": "python",
   "pygments_lexer": "ipython3",
   "version": "3.7.6"
  }
 },
 "nbformat": 4,
 "nbformat_minor": 4
}
