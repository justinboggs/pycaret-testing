{
 "cells": [
  {
   "cell_type": "code",
   "execution_count": 7,
   "metadata": {},
   "outputs": [
    {
     "data": {
      "text/html": [
       "<div>\n",
       "<style scoped>\n",
       "    .dataframe tbody tr th:only-of-type {\n",
       "        vertical-align: middle;\n",
       "    }\n",
       "\n",
       "    .dataframe tbody tr th {\n",
       "        vertical-align: top;\n",
       "    }\n",
       "\n",
       "    .dataframe thead th {\n",
       "        text-align: right;\n",
       "    }\n",
       "</style>\n",
       "<table border=\"1\" class=\"dataframe\">\n",
       "  <thead>\n",
       "    <tr style=\"text-align: right;\">\n",
       "      <th></th>\n",
       "      <th>country</th>\n",
       "      <th>en</th>\n",
       "      <th>gender</th>\n",
       "      <th>loan_amount</th>\n",
       "      <th>nonpayment</th>\n",
       "      <th>sector</th>\n",
       "      <th>status</th>\n",
       "    </tr>\n",
       "  </thead>\n",
       "  <tbody>\n",
       "    <tr>\n",
       "      <th>0</th>\n",
       "      <td>Dominican Republic</td>\n",
       "      <td>\"Banco Esperanza\" is a group of 10 women looki...</td>\n",
       "      <td>F</td>\n",
       "      <td>1225</td>\n",
       "      <td>partner</td>\n",
       "      <td>Retail</td>\n",
       "      <td>0</td>\n",
       "    </tr>\n",
       "    <tr>\n",
       "      <th>1</th>\n",
       "      <td>Dominican Republic</td>\n",
       "      <td>\"Caminemos Hacia Adelante\" or \"Walking Forward...</td>\n",
       "      <td>F</td>\n",
       "      <td>1975</td>\n",
       "      <td>lender</td>\n",
       "      <td>Clothing</td>\n",
       "      <td>0</td>\n",
       "    </tr>\n",
       "    <tr>\n",
       "      <th>2</th>\n",
       "      <td>Dominican Republic</td>\n",
       "      <td>\"Creciendo Por La Union\" is a group of 10 peop...</td>\n",
       "      <td>F</td>\n",
       "      <td>2175</td>\n",
       "      <td>partner</td>\n",
       "      <td>Clothing</td>\n",
       "      <td>0</td>\n",
       "    </tr>\n",
       "    <tr>\n",
       "      <th>3</th>\n",
       "      <td>Dominican Republic</td>\n",
       "      <td>\"Cristo Vive\" (\"Christ lives\" is a group of 10...</td>\n",
       "      <td>F</td>\n",
       "      <td>1425</td>\n",
       "      <td>partner</td>\n",
       "      <td>Clothing</td>\n",
       "      <td>0</td>\n",
       "    </tr>\n",
       "    <tr>\n",
       "      <th>4</th>\n",
       "      <td>Dominican Republic</td>\n",
       "      <td>\"Cristo Vive\" is a large group of 35 people, 2...</td>\n",
       "      <td>F</td>\n",
       "      <td>4025</td>\n",
       "      <td>partner</td>\n",
       "      <td>Food</td>\n",
       "      <td>0</td>\n",
       "    </tr>\n",
       "  </tbody>\n",
       "</table>\n",
       "</div>"
      ],
      "text/plain": [
       "              country                                                 en  \\\n",
       "0  Dominican Republic  \"Banco Esperanza\" is a group of 10 women looki...   \n",
       "1  Dominican Republic  \"Caminemos Hacia Adelante\" or \"Walking Forward...   \n",
       "2  Dominican Republic  \"Creciendo Por La Union\" is a group of 10 peop...   \n",
       "3  Dominican Republic  \"Cristo Vive\" (\"Christ lives\" is a group of 10...   \n",
       "4  Dominican Republic  \"Cristo Vive\" is a large group of 35 people, 2...   \n",
       "\n",
       "  gender  loan_amount nonpayment    sector  status  \n",
       "0      F         1225    partner    Retail       0  \n",
       "1      F         1975     lender  Clothing       0  \n",
       "2      F         2175    partner  Clothing       0  \n",
       "3      F         1425    partner  Clothing       0  \n",
       "4      F         4025    partner      Food       0  "
      ]
     },
     "metadata": {},
     "output_type": "display_data"
    }
   ],
   "source": [
    "from pycaret.datasets import get_data\n",
    "data = get_data('kiva')"
   ]
  },
  {
   "cell_type": "code",
   "execution_count": 8,
   "metadata": {},
   "outputs": [
    {
     "data": {
      "text/plain": [
       "(6818, 7)"
      ]
     },
     "execution_count": 8,
     "metadata": {},
     "output_type": "execute_result"
    }
   ],
   "source": [
    "data.shape"
   ]
  },
  {
   "cell_type": "code",
   "execution_count": 9,
   "metadata": {},
   "outputs": [
    {
     "data": {
      "text/plain": [
       "(1000, 7)"
      ]
     },
     "execution_count": 9,
     "metadata": {},
     "output_type": "execute_result"
    }
   ],
   "source": [
    "data = data.sample(1000, random_state=786).reset_index(drop=True)\n",
    "data.shape"
   ]
  },
  {
   "cell_type": "code",
   "execution_count": 11,
   "metadata": {},
   "outputs": [
    {
     "data": {
      "text/html": [
       "<style  type=\"text/css\" >\n",
       "</style><table id=\"T_b943ff54_31b1_11eb_873e_e45e37cb2ced\" ><thead>    <tr>        <th class=\"col_heading level0 col0\" >Description</th>        <th class=\"col_heading level0 col1\" >Value</th>    </tr></thead><tbody>\n",
       "                <tr>\n",
       "                                <td id=\"T_b943ff54_31b1_11eb_873e_e45e37cb2cedrow0_col0\" class=\"data row0 col0\" >session_id</td>\n",
       "                        <td id=\"T_b943ff54_31b1_11eb_873e_e45e37cb2cedrow0_col1\" class=\"data row0 col1\" >123</td>\n",
       "            </tr>\n",
       "            <tr>\n",
       "                                <td id=\"T_b943ff54_31b1_11eb_873e_e45e37cb2cedrow1_col0\" class=\"data row1 col0\" >Documents</td>\n",
       "                        <td id=\"T_b943ff54_31b1_11eb_873e_e45e37cb2cedrow1_col1\" class=\"data row1 col1\" >1000</td>\n",
       "            </tr>\n",
       "            <tr>\n",
       "                                <td id=\"T_b943ff54_31b1_11eb_873e_e45e37cb2cedrow2_col0\" class=\"data row2 col0\" >Vocab Size</td>\n",
       "                        <td id=\"T_b943ff54_31b1_11eb_873e_e45e37cb2cedrow2_col1\" class=\"data row2 col1\" >4654</td>\n",
       "            </tr>\n",
       "            <tr>\n",
       "                                <td id=\"T_b943ff54_31b1_11eb_873e_e45e37cb2cedrow3_col0\" class=\"data row3 col0\" >Custom Stopwords</td>\n",
       "                        <td id=\"T_b943ff54_31b1_11eb_873e_e45e37cb2cedrow3_col1\" class=\"data row3 col1\" >False</td>\n",
       "            </tr>\n",
       "    </tbody></table>"
      ],
      "text/plain": [
       "<pandas.io.formats.style.Styler at 0x2373f9b3388>"
      ]
     },
     "metadata": {},
     "output_type": "display_data"
    }
   ],
   "source": [
    "from pycaret.nlp import *\n",
    "exp_nlp101 = setup(data=data, target='en', session_id=123)"
   ]
  },
  {
   "cell_type": "code",
   "execution_count": 13,
   "metadata": {},
   "outputs": [],
   "source": [
    "lda = create_model('lda')"
   ]
  },
  {
   "cell_type": "code",
   "execution_count": 14,
   "metadata": {},
   "outputs": [
    {
     "name": "stdout",
     "output_type": "stream",
     "text": [
      "LdaModel(num_terms=4654, num_topics=4, decay=0.5, chunksize=100)\n"
     ]
    }
   ],
   "source": [
    "print(lda)"
   ]
  },
  {
   "cell_type": "code",
   "execution_count": 16,
   "metadata": {},
   "outputs": [],
   "source": [
    "lda2 = create_model('lda', num_topics=6, multi_core=True)"
   ]
  },
  {
   "cell_type": "code",
   "execution_count": 17,
   "metadata": {},
   "outputs": [
    {
     "name": "stdout",
     "output_type": "stream",
     "text": [
      "LdaModel(num_terms=4654, num_topics=6, decay=0.5, chunksize=100)\n"
     ]
    }
   ],
   "source": [
    "print(lda2)"
   ]
  },
  {
   "cell_type": "code",
   "execution_count": 18,
   "metadata": {},
   "outputs": [
    {
     "data": {
      "text/html": [
       "<div>\n",
       "<style scoped>\n",
       "    .dataframe tbody tr th:only-of-type {\n",
       "        vertical-align: middle;\n",
       "    }\n",
       "\n",
       "    .dataframe tbody tr th {\n",
       "        vertical-align: top;\n",
       "    }\n",
       "\n",
       "    .dataframe thead th {\n",
       "        text-align: right;\n",
       "    }\n",
       "</style>\n",
       "<table border=\"1\" class=\"dataframe\">\n",
       "  <thead>\n",
       "    <tr style=\"text-align: right;\">\n",
       "      <th></th>\n",
       "      <th>country</th>\n",
       "      <th>en</th>\n",
       "      <th>gender</th>\n",
       "      <th>loan_amount</th>\n",
       "      <th>nonpayment</th>\n",
       "      <th>sector</th>\n",
       "      <th>status</th>\n",
       "      <th>Topic_0</th>\n",
       "      <th>Topic_1</th>\n",
       "      <th>Topic_2</th>\n",
       "      <th>Topic_3</th>\n",
       "      <th>Dominant_Topic</th>\n",
       "      <th>Perc_Dominant_Topic</th>\n",
       "    </tr>\n",
       "  </thead>\n",
       "  <tbody>\n",
       "    <tr>\n",
       "      <th>0</th>\n",
       "      <td>Kenya</td>\n",
       "      <td>praxide marry child primary school train tailo...</td>\n",
       "      <td>F</td>\n",
       "      <td>75</td>\n",
       "      <td>partner</td>\n",
       "      <td>Services</td>\n",
       "      <td>0</td>\n",
       "      <td>0.824200</td>\n",
       "      <td>0.172317</td>\n",
       "      <td>0.003055</td>\n",
       "      <td>0.000429</td>\n",
       "      <td>Topic 0</td>\n",
       "      <td>0.82</td>\n",
       "    </tr>\n",
       "    <tr>\n",
       "      <th>1</th>\n",
       "      <td>Kenya</td>\n",
       "      <td>run year old life wife child biological adopt ...</td>\n",
       "      <td>M</td>\n",
       "      <td>1200</td>\n",
       "      <td>partner</td>\n",
       "      <td>Health</td>\n",
       "      <td>0</td>\n",
       "      <td>0.664231</td>\n",
       "      <td>0.332275</td>\n",
       "      <td>0.003065</td>\n",
       "      <td>0.000429</td>\n",
       "      <td>Topic 0</td>\n",
       "      <td>0.66</td>\n",
       "    </tr>\n",
       "    <tr>\n",
       "      <th>2</th>\n",
       "      <td>Dominican Republic</td>\n",
       "      <td>live child boy girl range year old sell use cl...</td>\n",
       "      <td>F</td>\n",
       "      <td>150</td>\n",
       "      <td>partner</td>\n",
       "      <td>Clothing</td>\n",
       "      <td>0</td>\n",
       "      <td>0.125461</td>\n",
       "      <td>0.792853</td>\n",
       "      <td>0.081170</td>\n",
       "      <td>0.000517</td>\n",
       "      <td>Topic 1</td>\n",
       "      <td>0.79</td>\n",
       "    </tr>\n",
       "    <tr>\n",
       "      <th>3</th>\n",
       "      <td>Kenya</td>\n",
       "      <td>phanice marry child daughter secondary school ...</td>\n",
       "      <td>F</td>\n",
       "      <td>150</td>\n",
       "      <td>lender</td>\n",
       "      <td>Services</td>\n",
       "      <td>1</td>\n",
       "      <td>0.635879</td>\n",
       "      <td>0.359823</td>\n",
       "      <td>0.003771</td>\n",
       "      <td>0.000528</td>\n",
       "      <td>Topic 0</td>\n",
       "      <td>0.64</td>\n",
       "    </tr>\n",
       "    <tr>\n",
       "      <th>4</th>\n",
       "      <td>Kenya</td>\n",
       "      <td>fredrice year old hotel operate hotel last yea...</td>\n",
       "      <td>F</td>\n",
       "      <td>300</td>\n",
       "      <td>lender</td>\n",
       "      <td>Food</td>\n",
       "      <td>1</td>\n",
       "      <td>0.608233</td>\n",
       "      <td>0.388068</td>\n",
       "      <td>0.003244</td>\n",
       "      <td>0.000455</td>\n",
       "      <td>Topic 0</td>\n",
       "      <td>0.61</td>\n",
       "    </tr>\n",
       "  </tbody>\n",
       "</table>\n",
       "</div>"
      ],
      "text/plain": [
       "              country                                                 en  \\\n",
       "0               Kenya  praxide marry child primary school train tailo...   \n",
       "1               Kenya  run year old life wife child biological adopt ...   \n",
       "2  Dominican Republic  live child boy girl range year old sell use cl...   \n",
       "3               Kenya  phanice marry child daughter secondary school ...   \n",
       "4               Kenya  fredrice year old hotel operate hotel last yea...   \n",
       "\n",
       "  gender  loan_amount nonpayment    sector  status   Topic_0   Topic_1  \\\n",
       "0      F           75    partner  Services       0  0.824200  0.172317   \n",
       "1      M         1200    partner    Health       0  0.664231  0.332275   \n",
       "2      F          150    partner  Clothing       0  0.125461  0.792853   \n",
       "3      F          150     lender  Services       1  0.635879  0.359823   \n",
       "4      F          300     lender      Food       1  0.608233  0.388068   \n",
       "\n",
       "    Topic_2   Topic_3 Dominant_Topic  Perc_Dominant_Topic  \n",
       "0  0.003055  0.000429        Topic 0                 0.82  \n",
       "1  0.003065  0.000429        Topic 0                 0.66  \n",
       "2  0.081170  0.000517        Topic 1                 0.79  \n",
       "3  0.003771  0.000528        Topic 0                 0.64  \n",
       "4  0.003244  0.000455        Topic 0                 0.61  "
      ]
     },
     "execution_count": 18,
     "metadata": {},
     "output_type": "execute_result"
    }
   ],
   "source": [
    "lda_results = assign_model(lda)\n",
    "lda_results.head()"
   ]
  },
  {
   "cell_type": "code",
   "execution_count": 19,
   "metadata": {},
   "outputs": [
    {
     "data": {
      "text/html": [
       "        <script type=\"text/javascript\">\n",
       "        window.PlotlyConfig = {MathJaxConfig: 'local'};\n",
       "        if (window.MathJax) {MathJax.Hub.Config({SVG: {font: \"STIX-Web\"}});}\n",
       "        if (typeof require !== 'undefined') {\n",
       "        require.undef(\"plotly\");\n",
       "        requirejs.config({\n",
       "            paths: {\n",
       "                'plotly': ['https://cdn.plot.ly/plotly-latest.min']\n",
       "            }\n",
       "        });\n",
       "        require(['plotly'], function(Plotly) {\n",
       "            window._Plotly = Plotly;\n",
       "        });\n",
       "        }\n",
       "        </script>\n",
       "        "
      ]
     },
     "metadata": {},
     "output_type": "display_data"
    },
    {
     "data": {
      "application/vnd.plotly.v1+json": {
       "config": {
        "linkText": "Export to plot.ly",
        "plotlyServerURL": "https://plot.ly",
        "showLink": true
       },
       "data": [
        {
         "marker": {
          "color": "rgba(255, 153, 51, 0.6)",
          "line": {
           "color": "rgba(255, 153, 51, 1.0)",
           "width": 1
          }
         },
         "name": "count",
         "orientation": "v",
         "text": "",
         "type": "bar",
         "x": [
          "loan",
          "business",
          "child",
          "sell",
          "year",
          "buy",
          "school",
          "also",
          "work",
          "use",
          "old",
          "family",
          "make",
          "able",
          "start",
          "help",
          "small",
          "group",
          "husband",
          "live",
          "purchase",
          "product",
          "well",
          "income",
          "increase",
          "home",
          "woman",
          "customer",
          "community",
          "good",
          "marry",
          "order",
          "need",
          "hope",
          "request",
          "pay",
          "member",
          "stock",
          "expand",
          "grow",
          "new",
          "want",
          "time",
          "store",
          "people",
          "provide",
          "get",
          "many",
          "client",
          "go",
          "first",
          "farmer",
          "money",
          "clothing",
          "area",
          "support",
          "improve",
          "give",
          "rice",
          "market",
          "entrepreneur",
          "hard",
          "sale",
          "life",
          "food",
          "shop",
          "ago",
          "invest",
          "plan",
          "run",
          "take",
          "profit",
          "mother",
          "education",
          "high",
          "service",
          "continue",
          "capital",
          "clothe",
          "enable",
          "farm",
          "young",
          "month",
          "house",
          "local",
          "item",
          "fee",
          "demand",
          "part",
          "large",
          "wife",
          "operate",
          "day",
          "receive",
          "say",
          "meet",
          "supply",
          "offer",
          "still",
          "age"
         ],
         "y": [
          1928,
          1861,
          1195,
          1085,
          1072,
          807,
          653,
          646,
          609,
          590,
          566,
          564,
          528,
          524,
          485,
          472,
          464,
          438,
          429,
          422,
          388,
          385,
          362,
          361,
          353,
          336,
          332,
          315,
          310,
          305,
          295,
          289,
          282,
          271,
          271,
          264,
          260,
          255,
          253,
          253,
          249,
          246,
          241,
          237,
          235,
          234,
          223,
          216,
          216,
          211,
          211,
          210,
          209,
          207,
          205,
          204,
          203,
          200,
          197,
          195,
          189,
          188,
          187,
          184,
          179,
          178,
          178,
          177,
          176,
          173,
          171,
          171,
          170,
          166,
          163,
          159,
          158,
          157,
          157,
          154,
          151,
          149,
          149,
          149,
          146,
          142,
          141,
          139,
          139,
          136,
          135,
          135,
          132,
          132,
          132,
          131,
          127,
          126,
          126,
          122
         ]
        }
       ],
       "layout": {
        "legend": {
         "bgcolor": "#F5F6F9",
         "font": {
          "color": "#4D5663"
         }
        },
        "paper_bgcolor": "#F5F6F9",
        "plot_bgcolor": "#F5F6F9",
        "template": {
         "data": {
          "bar": [
           {
            "error_x": {
             "color": "#2a3f5f"
            },
            "error_y": {
             "color": "#2a3f5f"
            },
            "marker": {
             "line": {
              "color": "#E5ECF6",
              "width": 0.5
             }
            },
            "type": "bar"
           }
          ],
          "barpolar": [
           {
            "marker": {
             "line": {
              "color": "#E5ECF6",
              "width": 0.5
             }
            },
            "type": "barpolar"
           }
          ],
          "carpet": [
           {
            "aaxis": {
             "endlinecolor": "#2a3f5f",
             "gridcolor": "white",
             "linecolor": "white",
             "minorgridcolor": "white",
             "startlinecolor": "#2a3f5f"
            },
            "baxis": {
             "endlinecolor": "#2a3f5f",
             "gridcolor": "white",
             "linecolor": "white",
             "minorgridcolor": "white",
             "startlinecolor": "#2a3f5f"
            },
            "type": "carpet"
           }
          ],
          "choropleth": [
           {
            "colorbar": {
             "outlinewidth": 0,
             "ticks": ""
            },
            "type": "choropleth"
           }
          ],
          "contour": [
           {
            "colorbar": {
             "outlinewidth": 0,
             "ticks": ""
            },
            "colorscale": [
             [
              0,
              "#0d0887"
             ],
             [
              0.1111111111111111,
              "#46039f"
             ],
             [
              0.2222222222222222,
              "#7201a8"
             ],
             [
              0.3333333333333333,
              "#9c179e"
             ],
             [
              0.4444444444444444,
              "#bd3786"
             ],
             [
              0.5555555555555556,
              "#d8576b"
             ],
             [
              0.6666666666666666,
              "#ed7953"
             ],
             [
              0.7777777777777778,
              "#fb9f3a"
             ],
             [
              0.8888888888888888,
              "#fdca26"
             ],
             [
              1,
              "#f0f921"
             ]
            ],
            "type": "contour"
           }
          ],
          "contourcarpet": [
           {
            "colorbar": {
             "outlinewidth": 0,
             "ticks": ""
            },
            "type": "contourcarpet"
           }
          ],
          "heatmap": [
           {
            "colorbar": {
             "outlinewidth": 0,
             "ticks": ""
            },
            "colorscale": [
             [
              0,
              "#0d0887"
             ],
             [
              0.1111111111111111,
              "#46039f"
             ],
             [
              0.2222222222222222,
              "#7201a8"
             ],
             [
              0.3333333333333333,
              "#9c179e"
             ],
             [
              0.4444444444444444,
              "#bd3786"
             ],
             [
              0.5555555555555556,
              "#d8576b"
             ],
             [
              0.6666666666666666,
              "#ed7953"
             ],
             [
              0.7777777777777778,
              "#fb9f3a"
             ],
             [
              0.8888888888888888,
              "#fdca26"
             ],
             [
              1,
              "#f0f921"
             ]
            ],
            "type": "heatmap"
           }
          ],
          "heatmapgl": [
           {
            "colorbar": {
             "outlinewidth": 0,
             "ticks": ""
            },
            "colorscale": [
             [
              0,
              "#0d0887"
             ],
             [
              0.1111111111111111,
              "#46039f"
             ],
             [
              0.2222222222222222,
              "#7201a8"
             ],
             [
              0.3333333333333333,
              "#9c179e"
             ],
             [
              0.4444444444444444,
              "#bd3786"
             ],
             [
              0.5555555555555556,
              "#d8576b"
             ],
             [
              0.6666666666666666,
              "#ed7953"
             ],
             [
              0.7777777777777778,
              "#fb9f3a"
             ],
             [
              0.8888888888888888,
              "#fdca26"
             ],
             [
              1,
              "#f0f921"
             ]
            ],
            "type": "heatmapgl"
           }
          ],
          "histogram": [
           {
            "marker": {
             "colorbar": {
              "outlinewidth": 0,
              "ticks": ""
             }
            },
            "type": "histogram"
           }
          ],
          "histogram2d": [
           {
            "colorbar": {
             "outlinewidth": 0,
             "ticks": ""
            },
            "colorscale": [
             [
              0,
              "#0d0887"
             ],
             [
              0.1111111111111111,
              "#46039f"
             ],
             [
              0.2222222222222222,
              "#7201a8"
             ],
             [
              0.3333333333333333,
              "#9c179e"
             ],
             [
              0.4444444444444444,
              "#bd3786"
             ],
             [
              0.5555555555555556,
              "#d8576b"
             ],
             [
              0.6666666666666666,
              "#ed7953"
             ],
             [
              0.7777777777777778,
              "#fb9f3a"
             ],
             [
              0.8888888888888888,
              "#fdca26"
             ],
             [
              1,
              "#f0f921"
             ]
            ],
            "type": "histogram2d"
           }
          ],
          "histogram2dcontour": [
           {
            "colorbar": {
             "outlinewidth": 0,
             "ticks": ""
            },
            "colorscale": [
             [
              0,
              "#0d0887"
             ],
             [
              0.1111111111111111,
              "#46039f"
             ],
             [
              0.2222222222222222,
              "#7201a8"
             ],
             [
              0.3333333333333333,
              "#9c179e"
             ],
             [
              0.4444444444444444,
              "#bd3786"
             ],
             [
              0.5555555555555556,
              "#d8576b"
             ],
             [
              0.6666666666666666,
              "#ed7953"
             ],
             [
              0.7777777777777778,
              "#fb9f3a"
             ],
             [
              0.8888888888888888,
              "#fdca26"
             ],
             [
              1,
              "#f0f921"
             ]
            ],
            "type": "histogram2dcontour"
           }
          ],
          "mesh3d": [
           {
            "colorbar": {
             "outlinewidth": 0,
             "ticks": ""
            },
            "type": "mesh3d"
           }
          ],
          "parcoords": [
           {
            "line": {
             "colorbar": {
              "outlinewidth": 0,
              "ticks": ""
             }
            },
            "type": "parcoords"
           }
          ],
          "pie": [
           {
            "automargin": true,
            "type": "pie"
           }
          ],
          "scatter": [
           {
            "marker": {
             "colorbar": {
              "outlinewidth": 0,
              "ticks": ""
             }
            },
            "type": "scatter"
           }
          ],
          "scatter3d": [
           {
            "line": {
             "colorbar": {
              "outlinewidth": 0,
              "ticks": ""
             }
            },
            "marker": {
             "colorbar": {
              "outlinewidth": 0,
              "ticks": ""
             }
            },
            "type": "scatter3d"
           }
          ],
          "scattercarpet": [
           {
            "marker": {
             "colorbar": {
              "outlinewidth": 0,
              "ticks": ""
             }
            },
            "type": "scattercarpet"
           }
          ],
          "scattergeo": [
           {
            "marker": {
             "colorbar": {
              "outlinewidth": 0,
              "ticks": ""
             }
            },
            "type": "scattergeo"
           }
          ],
          "scattergl": [
           {
            "marker": {
             "colorbar": {
              "outlinewidth": 0,
              "ticks": ""
             }
            },
            "type": "scattergl"
           }
          ],
          "scattermapbox": [
           {
            "marker": {
             "colorbar": {
              "outlinewidth": 0,
              "ticks": ""
             }
            },
            "type": "scattermapbox"
           }
          ],
          "scatterpolar": [
           {
            "marker": {
             "colorbar": {
              "outlinewidth": 0,
              "ticks": ""
             }
            },
            "type": "scatterpolar"
           }
          ],
          "scatterpolargl": [
           {
            "marker": {
             "colorbar": {
              "outlinewidth": 0,
              "ticks": ""
             }
            },
            "type": "scatterpolargl"
           }
          ],
          "scatterternary": [
           {
            "marker": {
             "colorbar": {
              "outlinewidth": 0,
              "ticks": ""
             }
            },
            "type": "scatterternary"
           }
          ],
          "surface": [
           {
            "colorbar": {
             "outlinewidth": 0,
             "ticks": ""
            },
            "colorscale": [
             [
              0,
              "#0d0887"
             ],
             [
              0.1111111111111111,
              "#46039f"
             ],
             [
              0.2222222222222222,
              "#7201a8"
             ],
             [
              0.3333333333333333,
              "#9c179e"
             ],
             [
              0.4444444444444444,
              "#bd3786"
             ],
             [
              0.5555555555555556,
              "#d8576b"
             ],
             [
              0.6666666666666666,
              "#ed7953"
             ],
             [
              0.7777777777777778,
              "#fb9f3a"
             ],
             [
              0.8888888888888888,
              "#fdca26"
             ],
             [
              1,
              "#f0f921"
             ]
            ],
            "type": "surface"
           }
          ],
          "table": [
           {
            "cells": {
             "fill": {
              "color": "#EBF0F8"
             },
             "line": {
              "color": "white"
             }
            },
            "header": {
             "fill": {
              "color": "#C8D4E3"
             },
             "line": {
              "color": "white"
             }
            },
            "type": "table"
           }
          ]
         },
         "layout": {
          "annotationdefaults": {
           "arrowcolor": "#2a3f5f",
           "arrowhead": 0,
           "arrowwidth": 1
          },
          "coloraxis": {
           "colorbar": {
            "outlinewidth": 0,
            "ticks": ""
           }
          },
          "colorscale": {
           "diverging": [
            [
             0,
             "#8e0152"
            ],
            [
             0.1,
             "#c51b7d"
            ],
            [
             0.2,
             "#de77ae"
            ],
            [
             0.3,
             "#f1b6da"
            ],
            [
             0.4,
             "#fde0ef"
            ],
            [
             0.5,
             "#f7f7f7"
            ],
            [
             0.6,
             "#e6f5d0"
            ],
            [
             0.7,
             "#b8e186"
            ],
            [
             0.8,
             "#7fbc41"
            ],
            [
             0.9,
             "#4d9221"
            ],
            [
             1,
             "#276419"
            ]
           ],
           "sequential": [
            [
             0,
             "#0d0887"
            ],
            [
             0.1111111111111111,
             "#46039f"
            ],
            [
             0.2222222222222222,
             "#7201a8"
            ],
            [
             0.3333333333333333,
             "#9c179e"
            ],
            [
             0.4444444444444444,
             "#bd3786"
            ],
            [
             0.5555555555555556,
             "#d8576b"
            ],
            [
             0.6666666666666666,
             "#ed7953"
            ],
            [
             0.7777777777777778,
             "#fb9f3a"
            ],
            [
             0.8888888888888888,
             "#fdca26"
            ],
            [
             1,
             "#f0f921"
            ]
           ],
           "sequentialminus": [
            [
             0,
             "#0d0887"
            ],
            [
             0.1111111111111111,
             "#46039f"
            ],
            [
             0.2222222222222222,
             "#7201a8"
            ],
            [
             0.3333333333333333,
             "#9c179e"
            ],
            [
             0.4444444444444444,
             "#bd3786"
            ],
            [
             0.5555555555555556,
             "#d8576b"
            ],
            [
             0.6666666666666666,
             "#ed7953"
            ],
            [
             0.7777777777777778,
             "#fb9f3a"
            ],
            [
             0.8888888888888888,
             "#fdca26"
            ],
            [
             1,
             "#f0f921"
            ]
           ]
          },
          "colorway": [
           "#636efa",
           "#EF553B",
           "#00cc96",
           "#ab63fa",
           "#FFA15A",
           "#19d3f3",
           "#FF6692",
           "#B6E880",
           "#FF97FF",
           "#FECB52"
          ],
          "font": {
           "color": "#2a3f5f"
          },
          "geo": {
           "bgcolor": "white",
           "lakecolor": "white",
           "landcolor": "#E5ECF6",
           "showlakes": true,
           "showland": true,
           "subunitcolor": "white"
          },
          "hoverlabel": {
           "align": "left"
          },
          "hovermode": "closest",
          "mapbox": {
           "style": "light"
          },
          "paper_bgcolor": "white",
          "plot_bgcolor": "#E5ECF6",
          "polar": {
           "angularaxis": {
            "gridcolor": "white",
            "linecolor": "white",
            "ticks": ""
           },
           "bgcolor": "#E5ECF6",
           "radialaxis": {
            "gridcolor": "white",
            "linecolor": "white",
            "ticks": ""
           }
          },
          "scene": {
           "xaxis": {
            "backgroundcolor": "#E5ECF6",
            "gridcolor": "white",
            "gridwidth": 2,
            "linecolor": "white",
            "showbackground": true,
            "ticks": "",
            "zerolinecolor": "white"
           },
           "yaxis": {
            "backgroundcolor": "#E5ECF6",
            "gridcolor": "white",
            "gridwidth": 2,
            "linecolor": "white",
            "showbackground": true,
            "ticks": "",
            "zerolinecolor": "white"
           },
           "zaxis": {
            "backgroundcolor": "#E5ECF6",
            "gridcolor": "white",
            "gridwidth": 2,
            "linecolor": "white",
            "showbackground": true,
            "ticks": "",
            "zerolinecolor": "white"
           }
          },
          "shapedefaults": {
           "line": {
            "color": "#2a3f5f"
           }
          },
          "ternary": {
           "aaxis": {
            "gridcolor": "white",
            "linecolor": "white",
            "ticks": ""
           },
           "baxis": {
            "gridcolor": "white",
            "linecolor": "white",
            "ticks": ""
           },
           "bgcolor": "#E5ECF6",
           "caxis": {
            "gridcolor": "white",
            "linecolor": "white",
            "ticks": ""
           }
          },
          "title": {
           "x": 0.05
          },
          "xaxis": {
           "automargin": true,
           "gridcolor": "white",
           "linecolor": "white",
           "ticks": "",
           "title": {
            "standoff": 15
           },
           "zerolinecolor": "white",
           "zerolinewidth": 2
          },
          "yaxis": {
           "automargin": true,
           "gridcolor": "white",
           "linecolor": "white",
           "ticks": "",
           "title": {
            "standoff": 15
           },
           "zerolinecolor": "white",
           "zerolinewidth": 2
          }
         }
        },
        "title": {
         "font": {
          "color": "#4D5663"
         },
         "text": "Top 100 words after removing stop words"
        },
        "xaxis": {
         "gridcolor": "#E1E5ED",
         "linecolor": "black",
         "showgrid": true,
         "tickfont": {
          "color": "#4D5663"
         },
         "title": {
          "font": {
           "color": "#4D5663"
          },
          "text": ""
         },
         "zerolinecolor": "#E1E5ED"
        },
        "yaxis": {
         "gridcolor": "#E1E5ED",
         "linecolor": "black",
         "showgrid": true,
         "tickfont": {
          "color": "#4D5663"
         },
         "title": {
          "font": {
           "color": "#4D5663"
          },
          "text": "Count"
         },
         "zerolinecolor": "#E1E5ED"
        }
       }
      },
      "text/html": [
       "<div>\n",
       "        \n",
       "        \n",
       "            <div id=\"ea2e5424-29a0-43c3-9d03-9cf6b203471f\" class=\"plotly-graph-div\" style=\"height:525px; width:100%;\"></div>\n",
       "            <script type=\"text/javascript\">\n",
       "                require([\"plotly\"], function(Plotly) {\n",
       "                    window.PLOTLYENV=window.PLOTLYENV || {};\n",
       "                    window.PLOTLYENV.BASE_URL='https://plot.ly';\n",
       "                    \n",
       "                if (document.getElementById(\"ea2e5424-29a0-43c3-9d03-9cf6b203471f\")) {\n",
       "                    Plotly.newPlot(\n",
       "                        'ea2e5424-29a0-43c3-9d03-9cf6b203471f',\n",
       "                        [{\"marker\": {\"color\": \"rgba(255, 153, 51, 0.6)\", \"line\": {\"color\": \"rgba(255, 153, 51, 1.0)\", \"width\": 1}}, \"name\": \"count\", \"orientation\": \"v\", \"text\": \"\", \"type\": \"bar\", \"x\": [\"loan\", \"business\", \"child\", \"sell\", \"year\", \"buy\", \"school\", \"also\", \"work\", \"use\", \"old\", \"family\", \"make\", \"able\", \"start\", \"help\", \"small\", \"group\", \"husband\", \"live\", \"purchase\", \"product\", \"well\", \"income\", \"increase\", \"home\", \"woman\", \"customer\", \"community\", \"good\", \"marry\", \"order\", \"need\", \"hope\", \"request\", \"pay\", \"member\", \"stock\", \"expand\", \"grow\", \"new\", \"want\", \"time\", \"store\", \"people\", \"provide\", \"get\", \"many\", \"client\", \"go\", \"first\", \"farmer\", \"money\", \"clothing\", \"area\", \"support\", \"improve\", \"give\", \"rice\", \"market\", \"entrepreneur\", \"hard\", \"sale\", \"life\", \"food\", \"shop\", \"ago\", \"invest\", \"plan\", \"run\", \"take\", \"profit\", \"mother\", \"education\", \"high\", \"service\", \"continue\", \"capital\", \"clothe\", \"enable\", \"farm\", \"young\", \"month\", \"house\", \"local\", \"item\", \"fee\", \"demand\", \"part\", \"large\", \"wife\", \"operate\", \"day\", \"receive\", \"say\", \"meet\", \"supply\", \"offer\", \"still\", \"age\"], \"y\": [1928, 1861, 1195, 1085, 1072, 807, 653, 646, 609, 590, 566, 564, 528, 524, 485, 472, 464, 438, 429, 422, 388, 385, 362, 361, 353, 336, 332, 315, 310, 305, 295, 289, 282, 271, 271, 264, 260, 255, 253, 253, 249, 246, 241, 237, 235, 234, 223, 216, 216, 211, 211, 210, 209, 207, 205, 204, 203, 200, 197, 195, 189, 188, 187, 184, 179, 178, 178, 177, 176, 173, 171, 171, 170, 166, 163, 159, 158, 157, 157, 154, 151, 149, 149, 149, 146, 142, 141, 139, 139, 136, 135, 135, 132, 132, 132, 131, 127, 126, 126, 122]}],\n",
       "                        {\"legend\": {\"bgcolor\": \"#F5F6F9\", \"font\": {\"color\": \"#4D5663\"}}, \"paper_bgcolor\": \"#F5F6F9\", \"plot_bgcolor\": \"#F5F6F9\", \"template\": {\"data\": {\"bar\": [{\"error_x\": {\"color\": \"#2a3f5f\"}, \"error_y\": {\"color\": \"#2a3f5f\"}, \"marker\": {\"line\": {\"color\": \"#E5ECF6\", \"width\": 0.5}}, \"type\": \"bar\"}], \"barpolar\": [{\"marker\": {\"line\": {\"color\": \"#E5ECF6\", \"width\": 0.5}}, \"type\": \"barpolar\"}], \"carpet\": [{\"aaxis\": {\"endlinecolor\": \"#2a3f5f\", \"gridcolor\": \"white\", \"linecolor\": \"white\", \"minorgridcolor\": \"white\", \"startlinecolor\": \"#2a3f5f\"}, \"baxis\": {\"endlinecolor\": \"#2a3f5f\", \"gridcolor\": \"white\", \"linecolor\": \"white\", \"minorgridcolor\": \"white\", \"startlinecolor\": \"#2a3f5f\"}, \"type\": \"carpet\"}], \"choropleth\": [{\"colorbar\": {\"outlinewidth\": 0, \"ticks\": \"\"}, \"type\": \"choropleth\"}], \"contour\": [{\"colorbar\": {\"outlinewidth\": 0, \"ticks\": \"\"}, \"colorscale\": [[0.0, \"#0d0887\"], [0.1111111111111111, \"#46039f\"], [0.2222222222222222, \"#7201a8\"], [0.3333333333333333, \"#9c179e\"], [0.4444444444444444, \"#bd3786\"], [0.5555555555555556, \"#d8576b\"], [0.6666666666666666, \"#ed7953\"], [0.7777777777777778, \"#fb9f3a\"], [0.8888888888888888, \"#fdca26\"], [1.0, \"#f0f921\"]], \"type\": \"contour\"}], \"contourcarpet\": [{\"colorbar\": {\"outlinewidth\": 0, \"ticks\": \"\"}, \"type\": \"contourcarpet\"}], \"heatmap\": [{\"colorbar\": {\"outlinewidth\": 0, \"ticks\": \"\"}, \"colorscale\": [[0.0, \"#0d0887\"], [0.1111111111111111, \"#46039f\"], [0.2222222222222222, \"#7201a8\"], [0.3333333333333333, \"#9c179e\"], [0.4444444444444444, \"#bd3786\"], [0.5555555555555556, \"#d8576b\"], [0.6666666666666666, \"#ed7953\"], [0.7777777777777778, \"#fb9f3a\"], [0.8888888888888888, \"#fdca26\"], [1.0, \"#f0f921\"]], \"type\": \"heatmap\"}], \"heatmapgl\": [{\"colorbar\": {\"outlinewidth\": 0, \"ticks\": \"\"}, \"colorscale\": [[0.0, \"#0d0887\"], [0.1111111111111111, \"#46039f\"], [0.2222222222222222, \"#7201a8\"], [0.3333333333333333, \"#9c179e\"], [0.4444444444444444, \"#bd3786\"], [0.5555555555555556, \"#d8576b\"], [0.6666666666666666, \"#ed7953\"], [0.7777777777777778, \"#fb9f3a\"], [0.8888888888888888, \"#fdca26\"], [1.0, \"#f0f921\"]], \"type\": \"heatmapgl\"}], \"histogram\": [{\"marker\": {\"colorbar\": {\"outlinewidth\": 0, \"ticks\": \"\"}}, \"type\": \"histogram\"}], \"histogram2d\": [{\"colorbar\": {\"outlinewidth\": 0, \"ticks\": \"\"}, \"colorscale\": [[0.0, \"#0d0887\"], [0.1111111111111111, \"#46039f\"], [0.2222222222222222, \"#7201a8\"], [0.3333333333333333, \"#9c179e\"], [0.4444444444444444, \"#bd3786\"], [0.5555555555555556, \"#d8576b\"], [0.6666666666666666, \"#ed7953\"], [0.7777777777777778, \"#fb9f3a\"], [0.8888888888888888, \"#fdca26\"], [1.0, \"#f0f921\"]], \"type\": \"histogram2d\"}], \"histogram2dcontour\": [{\"colorbar\": {\"outlinewidth\": 0, \"ticks\": \"\"}, \"colorscale\": [[0.0, \"#0d0887\"], [0.1111111111111111, \"#46039f\"], [0.2222222222222222, \"#7201a8\"], [0.3333333333333333, \"#9c179e\"], [0.4444444444444444, \"#bd3786\"], [0.5555555555555556, \"#d8576b\"], [0.6666666666666666, \"#ed7953\"], [0.7777777777777778, \"#fb9f3a\"], [0.8888888888888888, \"#fdca26\"], [1.0, \"#f0f921\"]], \"type\": \"histogram2dcontour\"}], \"mesh3d\": [{\"colorbar\": {\"outlinewidth\": 0, \"ticks\": \"\"}, \"type\": \"mesh3d\"}], \"parcoords\": [{\"line\": {\"colorbar\": {\"outlinewidth\": 0, \"ticks\": \"\"}}, \"type\": \"parcoords\"}], \"pie\": [{\"automargin\": true, \"type\": \"pie\"}], \"scatter\": [{\"marker\": {\"colorbar\": {\"outlinewidth\": 0, \"ticks\": \"\"}}, \"type\": \"scatter\"}], \"scatter3d\": [{\"line\": {\"colorbar\": {\"outlinewidth\": 0, \"ticks\": \"\"}}, \"marker\": {\"colorbar\": {\"outlinewidth\": 0, \"ticks\": \"\"}}, \"type\": \"scatter3d\"}], \"scattercarpet\": [{\"marker\": {\"colorbar\": {\"outlinewidth\": 0, \"ticks\": \"\"}}, \"type\": \"scattercarpet\"}], \"scattergeo\": [{\"marker\": {\"colorbar\": {\"outlinewidth\": 0, \"ticks\": \"\"}}, \"type\": \"scattergeo\"}], \"scattergl\": [{\"marker\": {\"colorbar\": {\"outlinewidth\": 0, \"ticks\": \"\"}}, \"type\": \"scattergl\"}], \"scattermapbox\": [{\"marker\": {\"colorbar\": {\"outlinewidth\": 0, \"ticks\": \"\"}}, \"type\": \"scattermapbox\"}], \"scatterpolar\": [{\"marker\": {\"colorbar\": {\"outlinewidth\": 0, \"ticks\": \"\"}}, \"type\": \"scatterpolar\"}], \"scatterpolargl\": [{\"marker\": {\"colorbar\": {\"outlinewidth\": 0, \"ticks\": \"\"}}, \"type\": \"scatterpolargl\"}], \"scatterternary\": [{\"marker\": {\"colorbar\": {\"outlinewidth\": 0, \"ticks\": \"\"}}, \"type\": \"scatterternary\"}], \"surface\": [{\"colorbar\": {\"outlinewidth\": 0, \"ticks\": \"\"}, \"colorscale\": [[0.0, \"#0d0887\"], [0.1111111111111111, \"#46039f\"], [0.2222222222222222, \"#7201a8\"], [0.3333333333333333, \"#9c179e\"], [0.4444444444444444, \"#bd3786\"], [0.5555555555555556, \"#d8576b\"], [0.6666666666666666, \"#ed7953\"], [0.7777777777777778, \"#fb9f3a\"], [0.8888888888888888, \"#fdca26\"], [1.0, \"#f0f921\"]], \"type\": \"surface\"}], \"table\": [{\"cells\": {\"fill\": {\"color\": \"#EBF0F8\"}, \"line\": {\"color\": \"white\"}}, \"header\": {\"fill\": {\"color\": \"#C8D4E3\"}, \"line\": {\"color\": \"white\"}}, \"type\": \"table\"}]}, \"layout\": {\"annotationdefaults\": {\"arrowcolor\": \"#2a3f5f\", \"arrowhead\": 0, \"arrowwidth\": 1}, \"coloraxis\": {\"colorbar\": {\"outlinewidth\": 0, \"ticks\": \"\"}}, \"colorscale\": {\"diverging\": [[0, \"#8e0152\"], [0.1, \"#c51b7d\"], [0.2, \"#de77ae\"], [0.3, \"#f1b6da\"], [0.4, \"#fde0ef\"], [0.5, \"#f7f7f7\"], [0.6, \"#e6f5d0\"], [0.7, \"#b8e186\"], [0.8, \"#7fbc41\"], [0.9, \"#4d9221\"], [1, \"#276419\"]], \"sequential\": [[0.0, \"#0d0887\"], [0.1111111111111111, \"#46039f\"], [0.2222222222222222, \"#7201a8\"], [0.3333333333333333, \"#9c179e\"], [0.4444444444444444, \"#bd3786\"], [0.5555555555555556, \"#d8576b\"], [0.6666666666666666, \"#ed7953\"], [0.7777777777777778, \"#fb9f3a\"], [0.8888888888888888, \"#fdca26\"], [1.0, \"#f0f921\"]], \"sequentialminus\": [[0.0, \"#0d0887\"], [0.1111111111111111, \"#46039f\"], [0.2222222222222222, \"#7201a8\"], [0.3333333333333333, \"#9c179e\"], [0.4444444444444444, \"#bd3786\"], [0.5555555555555556, \"#d8576b\"], [0.6666666666666666, \"#ed7953\"], [0.7777777777777778, \"#fb9f3a\"], [0.8888888888888888, \"#fdca26\"], [1.0, \"#f0f921\"]]}, \"colorway\": [\"#636efa\", \"#EF553B\", \"#00cc96\", \"#ab63fa\", \"#FFA15A\", \"#19d3f3\", \"#FF6692\", \"#B6E880\", \"#FF97FF\", \"#FECB52\"], \"font\": {\"color\": \"#2a3f5f\"}, \"geo\": {\"bgcolor\": \"white\", \"lakecolor\": \"white\", \"landcolor\": \"#E5ECF6\", \"showlakes\": true, \"showland\": true, \"subunitcolor\": \"white\"}, \"hoverlabel\": {\"align\": \"left\"}, \"hovermode\": \"closest\", \"mapbox\": {\"style\": \"light\"}, \"paper_bgcolor\": \"white\", \"plot_bgcolor\": \"#E5ECF6\", \"polar\": {\"angularaxis\": {\"gridcolor\": \"white\", \"linecolor\": \"white\", \"ticks\": \"\"}, \"bgcolor\": \"#E5ECF6\", \"radialaxis\": {\"gridcolor\": \"white\", \"linecolor\": \"white\", \"ticks\": \"\"}}, \"scene\": {\"xaxis\": {\"backgroundcolor\": \"#E5ECF6\", \"gridcolor\": \"white\", \"gridwidth\": 2, \"linecolor\": \"white\", \"showbackground\": true, \"ticks\": \"\", \"zerolinecolor\": \"white\"}, \"yaxis\": {\"backgroundcolor\": \"#E5ECF6\", \"gridcolor\": \"white\", \"gridwidth\": 2, \"linecolor\": \"white\", \"showbackground\": true, \"ticks\": \"\", \"zerolinecolor\": \"white\"}, \"zaxis\": {\"backgroundcolor\": \"#E5ECF6\", \"gridcolor\": \"white\", \"gridwidth\": 2, \"linecolor\": \"white\", \"showbackground\": true, \"ticks\": \"\", \"zerolinecolor\": \"white\"}}, \"shapedefaults\": {\"line\": {\"color\": \"#2a3f5f\"}}, \"ternary\": {\"aaxis\": {\"gridcolor\": \"white\", \"linecolor\": \"white\", \"ticks\": \"\"}, \"baxis\": {\"gridcolor\": \"white\", \"linecolor\": \"white\", \"ticks\": \"\"}, \"bgcolor\": \"#E5ECF6\", \"caxis\": {\"gridcolor\": \"white\", \"linecolor\": \"white\", \"ticks\": \"\"}}, \"title\": {\"x\": 0.05}, \"xaxis\": {\"automargin\": true, \"gridcolor\": \"white\", \"linecolor\": \"white\", \"ticks\": \"\", \"title\": {\"standoff\": 15}, \"zerolinecolor\": \"white\", \"zerolinewidth\": 2}, \"yaxis\": {\"automargin\": true, \"gridcolor\": \"white\", \"linecolor\": \"white\", \"ticks\": \"\", \"title\": {\"standoff\": 15}, \"zerolinecolor\": \"white\", \"zerolinewidth\": 2}}}, \"title\": {\"font\": {\"color\": \"#4D5663\"}, \"text\": \"Top 100 words after removing stop words\"}, \"xaxis\": {\"gridcolor\": \"#E1E5ED\", \"linecolor\": \"black\", \"showgrid\": true, \"tickfont\": {\"color\": \"#4D5663\"}, \"title\": {\"font\": {\"color\": \"#4D5663\"}, \"text\": \"\"}, \"zerolinecolor\": \"#E1E5ED\"}, \"yaxis\": {\"gridcolor\": \"#E1E5ED\", \"linecolor\": \"black\", \"showgrid\": true, \"tickfont\": {\"color\": \"#4D5663\"}, \"title\": {\"font\": {\"color\": \"#4D5663\"}, \"text\": \"Count\"}, \"zerolinecolor\": \"#E1E5ED\"}},\n",
       "                        {\"showLink\": true, \"linkText\": \"Export to plot.ly\", \"plotlyServerURL\": \"https://plot.ly\", \"responsive\": true}\n",
       "                    ).then(function(){\n",
       "                            \n",
       "var gd = document.getElementById('ea2e5424-29a0-43c3-9d03-9cf6b203471f');\n",
       "var x = new MutationObserver(function (mutations, observer) {{\n",
       "        var display = window.getComputedStyle(gd).display;\n",
       "        if (!display || display === 'none') {{\n",
       "            console.log([gd, 'removed!']);\n",
       "            Plotly.purge(gd);\n",
       "            observer.disconnect();\n",
       "        }}\n",
       "}});\n",
       "\n",
       "// Listen for the removal of the full notebook cells\n",
       "var notebookContainer = gd.closest('#notebook-container');\n",
       "if (notebookContainer) {{\n",
       "    x.observe(notebookContainer, {childList: true});\n",
       "}}\n",
       "\n",
       "// Listen for the clearing of the current output cell\n",
       "var outputEl = gd.closest('.output');\n",
       "if (outputEl) {{\n",
       "    x.observe(outputEl, {childList: true});\n",
       "}}\n",
       "\n",
       "                        })\n",
       "                };\n",
       "                });\n",
       "            </script>\n",
       "        </div>"
      ]
     },
     "metadata": {},
     "output_type": "display_data"
    }
   ],
   "source": [
    "plot_model()"
   ]
  },
  {
   "cell_type": "code",
   "execution_count": 20,
   "metadata": {},
   "outputs": [
    {
     "data": {
      "text/html": [
       "        <script type=\"text/javascript\">\n",
       "        window.PlotlyConfig = {MathJaxConfig: 'local'};\n",
       "        if (window.MathJax) {MathJax.Hub.Config({SVG: {font: \"STIX-Web\"}});}\n",
       "        if (typeof require !== 'undefined') {\n",
       "        require.undef(\"plotly\");\n",
       "        requirejs.config({\n",
       "            paths: {\n",
       "                'plotly': ['https://cdn.plot.ly/plotly-latest.min']\n",
       "            }\n",
       "        });\n",
       "        require(['plotly'], function(Plotly) {\n",
       "            window._Plotly = Plotly;\n",
       "        });\n",
       "        }\n",
       "        </script>\n",
       "        "
      ]
     },
     "metadata": {},
     "output_type": "display_data"
    },
    {
     "data": {
      "application/vnd.plotly.v1+json": {
       "config": {
        "linkText": "Export to plot.ly",
        "plotlyServerURL": "https://plot.ly",
        "showLink": true
       },
       "data": [
        {
         "marker": {
          "color": "rgba(255, 153, 51, 0.6)",
          "line": {
           "color": "rgba(255, 153, 51, 1.0)",
           "width": 1
          }
         },
         "name": "count",
         "orientation": "v",
         "text": "",
         "type": "bar",
         "x": [
          "year old",
          "request loan",
          "marry child",
          "start business",
          "loan buy",
          "year ago",
          "expand business",
          "use loan",
          "business year",
          "school fee",
          "loan use",
          "first loan",
          "child school",
          "old child",
          "old marry",
          "business sell",
          "second loan",
          "work hard",
          "loan purchase",
          "hard work",
          "small business",
          "repay loan",
          "primary school",
          "mother child",
          "woman group",
          "pay school",
          "old married",
          "educate child",
          "use buy",
          "business able",
          "increase stock",
          "increase income",
          "loan order",
          "secondary school",
          "child live",
          "married child",
          "loan able",
          "husband work",
          "start small",
          "last year",
          "business grow",
          "business training_educational_programs_information",
          "support family",
          "training_educational_programs_information microfinance_ecuador_services_please",
          "group member",
          "apply loan",
          "run business",
          "microfinance_ecuador_services_please visit_href_http_www",
          "mifex_org_www_mifex org",
          "start sell",
          "visit_href_http_www mifex_org_www_mifex",
          "help business",
          "able buy",
          "husband child",
          "mifex_offers_client business",
          "also sell",
          "sell product",
          "high school",
          "need loan",
          "sell clothing",
          "farmer also",
          "child age",
          "receive loan",
          "give loan",
          "business help",
          "child child",
          "operate business",
          "begin business",
          "go school",
          "loan help",
          "attend school",
          "loan intend",
          "provide family",
          "year experience",
          "loan group",
          "loan invest",
          "loan loan",
          "person group",
          "loan enable",
          "risk_willing_accept_additional risk_making",
          "may_represent_higher_default risk_willing_accept_additional",
          "pay loan",
          "many local_businesses_lender",
          "loan may_represent_higher_default",
          "risk_making loan",
          "local_businesses_lender loan",
          "loan usd",
          "communities_remains_unsettled_affecte many",
          "able provide",
          "child primary",
          "fee child",
          "loan month",
          "plan use",
          "run small",
          "high demand",
          "grow business",
          "child also",
          "live husband",
          "buy new",
          "loan together"
         ],
         "y": [
          400,
          192,
          181,
          173,
          169,
          156,
          145,
          140,
          107,
          104,
          97,
          97,
          91,
          89,
          89,
          78,
          78,
          70,
          65,
          64,
          63,
          62,
          59,
          59,
          58,
          58,
          58,
          57,
          57,
          57,
          53,
          52,
          52,
          51,
          51,
          49,
          49,
          49,
          47,
          47,
          47,
          46,
          46,
          46,
          46,
          46,
          45,
          44,
          44,
          44,
          44,
          44,
          44,
          43,
          43,
          42,
          42,
          41,
          41,
          41,
          40,
          40,
          40,
          40,
          39,
          39,
          39,
          38,
          38,
          37,
          37,
          37,
          35,
          34,
          34,
          33,
          33,
          32,
          32,
          32,
          32,
          32,
          32,
          32,
          32,
          32,
          32,
          32,
          31,
          31,
          31,
          30,
          29,
          29,
          28,
          28,
          28,
          28,
          27,
          27
         ]
        }
       ],
       "layout": {
        "legend": {
         "bgcolor": "#F5F6F9",
         "font": {
          "color": "#4D5663"
         }
        },
        "paper_bgcolor": "#F5F6F9",
        "plot_bgcolor": "#F5F6F9",
        "template": {
         "data": {
          "bar": [
           {
            "error_x": {
             "color": "#2a3f5f"
            },
            "error_y": {
             "color": "#2a3f5f"
            },
            "marker": {
             "line": {
              "color": "#E5ECF6",
              "width": 0.5
             }
            },
            "type": "bar"
           }
          ],
          "barpolar": [
           {
            "marker": {
             "line": {
              "color": "#E5ECF6",
              "width": 0.5
             }
            },
            "type": "barpolar"
           }
          ],
          "carpet": [
           {
            "aaxis": {
             "endlinecolor": "#2a3f5f",
             "gridcolor": "white",
             "linecolor": "white",
             "minorgridcolor": "white",
             "startlinecolor": "#2a3f5f"
            },
            "baxis": {
             "endlinecolor": "#2a3f5f",
             "gridcolor": "white",
             "linecolor": "white",
             "minorgridcolor": "white",
             "startlinecolor": "#2a3f5f"
            },
            "type": "carpet"
           }
          ],
          "choropleth": [
           {
            "colorbar": {
             "outlinewidth": 0,
             "ticks": ""
            },
            "type": "choropleth"
           }
          ],
          "contour": [
           {
            "colorbar": {
             "outlinewidth": 0,
             "ticks": ""
            },
            "colorscale": [
             [
              0,
              "#0d0887"
             ],
             [
              0.1111111111111111,
              "#46039f"
             ],
             [
              0.2222222222222222,
              "#7201a8"
             ],
             [
              0.3333333333333333,
              "#9c179e"
             ],
             [
              0.4444444444444444,
              "#bd3786"
             ],
             [
              0.5555555555555556,
              "#d8576b"
             ],
             [
              0.6666666666666666,
              "#ed7953"
             ],
             [
              0.7777777777777778,
              "#fb9f3a"
             ],
             [
              0.8888888888888888,
              "#fdca26"
             ],
             [
              1,
              "#f0f921"
             ]
            ],
            "type": "contour"
           }
          ],
          "contourcarpet": [
           {
            "colorbar": {
             "outlinewidth": 0,
             "ticks": ""
            },
            "type": "contourcarpet"
           }
          ],
          "heatmap": [
           {
            "colorbar": {
             "outlinewidth": 0,
             "ticks": ""
            },
            "colorscale": [
             [
              0,
              "#0d0887"
             ],
             [
              0.1111111111111111,
              "#46039f"
             ],
             [
              0.2222222222222222,
              "#7201a8"
             ],
             [
              0.3333333333333333,
              "#9c179e"
             ],
             [
              0.4444444444444444,
              "#bd3786"
             ],
             [
              0.5555555555555556,
              "#d8576b"
             ],
             [
              0.6666666666666666,
              "#ed7953"
             ],
             [
              0.7777777777777778,
              "#fb9f3a"
             ],
             [
              0.8888888888888888,
              "#fdca26"
             ],
             [
              1,
              "#f0f921"
             ]
            ],
            "type": "heatmap"
           }
          ],
          "heatmapgl": [
           {
            "colorbar": {
             "outlinewidth": 0,
             "ticks": ""
            },
            "colorscale": [
             [
              0,
              "#0d0887"
             ],
             [
              0.1111111111111111,
              "#46039f"
             ],
             [
              0.2222222222222222,
              "#7201a8"
             ],
             [
              0.3333333333333333,
              "#9c179e"
             ],
             [
              0.4444444444444444,
              "#bd3786"
             ],
             [
              0.5555555555555556,
              "#d8576b"
             ],
             [
              0.6666666666666666,
              "#ed7953"
             ],
             [
              0.7777777777777778,
              "#fb9f3a"
             ],
             [
              0.8888888888888888,
              "#fdca26"
             ],
             [
              1,
              "#f0f921"
             ]
            ],
            "type": "heatmapgl"
           }
          ],
          "histogram": [
           {
            "marker": {
             "colorbar": {
              "outlinewidth": 0,
              "ticks": ""
             }
            },
            "type": "histogram"
           }
          ],
          "histogram2d": [
           {
            "colorbar": {
             "outlinewidth": 0,
             "ticks": ""
            },
            "colorscale": [
             [
              0,
              "#0d0887"
             ],
             [
              0.1111111111111111,
              "#46039f"
             ],
             [
              0.2222222222222222,
              "#7201a8"
             ],
             [
              0.3333333333333333,
              "#9c179e"
             ],
             [
              0.4444444444444444,
              "#bd3786"
             ],
             [
              0.5555555555555556,
              "#d8576b"
             ],
             [
              0.6666666666666666,
              "#ed7953"
             ],
             [
              0.7777777777777778,
              "#fb9f3a"
             ],
             [
              0.8888888888888888,
              "#fdca26"
             ],
             [
              1,
              "#f0f921"
             ]
            ],
            "type": "histogram2d"
           }
          ],
          "histogram2dcontour": [
           {
            "colorbar": {
             "outlinewidth": 0,
             "ticks": ""
            },
            "colorscale": [
             [
              0,
              "#0d0887"
             ],
             [
              0.1111111111111111,
              "#46039f"
             ],
             [
              0.2222222222222222,
              "#7201a8"
             ],
             [
              0.3333333333333333,
              "#9c179e"
             ],
             [
              0.4444444444444444,
              "#bd3786"
             ],
             [
              0.5555555555555556,
              "#d8576b"
             ],
             [
              0.6666666666666666,
              "#ed7953"
             ],
             [
              0.7777777777777778,
              "#fb9f3a"
             ],
             [
              0.8888888888888888,
              "#fdca26"
             ],
             [
              1,
              "#f0f921"
             ]
            ],
            "type": "histogram2dcontour"
           }
          ],
          "mesh3d": [
           {
            "colorbar": {
             "outlinewidth": 0,
             "ticks": ""
            },
            "type": "mesh3d"
           }
          ],
          "parcoords": [
           {
            "line": {
             "colorbar": {
              "outlinewidth": 0,
              "ticks": ""
             }
            },
            "type": "parcoords"
           }
          ],
          "pie": [
           {
            "automargin": true,
            "type": "pie"
           }
          ],
          "scatter": [
           {
            "marker": {
             "colorbar": {
              "outlinewidth": 0,
              "ticks": ""
             }
            },
            "type": "scatter"
           }
          ],
          "scatter3d": [
           {
            "line": {
             "colorbar": {
              "outlinewidth": 0,
              "ticks": ""
             }
            },
            "marker": {
             "colorbar": {
              "outlinewidth": 0,
              "ticks": ""
             }
            },
            "type": "scatter3d"
           }
          ],
          "scattercarpet": [
           {
            "marker": {
             "colorbar": {
              "outlinewidth": 0,
              "ticks": ""
             }
            },
            "type": "scattercarpet"
           }
          ],
          "scattergeo": [
           {
            "marker": {
             "colorbar": {
              "outlinewidth": 0,
              "ticks": ""
             }
            },
            "type": "scattergeo"
           }
          ],
          "scattergl": [
           {
            "marker": {
             "colorbar": {
              "outlinewidth": 0,
              "ticks": ""
             }
            },
            "type": "scattergl"
           }
          ],
          "scattermapbox": [
           {
            "marker": {
             "colorbar": {
              "outlinewidth": 0,
              "ticks": ""
             }
            },
            "type": "scattermapbox"
           }
          ],
          "scatterpolar": [
           {
            "marker": {
             "colorbar": {
              "outlinewidth": 0,
              "ticks": ""
             }
            },
            "type": "scatterpolar"
           }
          ],
          "scatterpolargl": [
           {
            "marker": {
             "colorbar": {
              "outlinewidth": 0,
              "ticks": ""
             }
            },
            "type": "scatterpolargl"
           }
          ],
          "scatterternary": [
           {
            "marker": {
             "colorbar": {
              "outlinewidth": 0,
              "ticks": ""
             }
            },
            "type": "scatterternary"
           }
          ],
          "surface": [
           {
            "colorbar": {
             "outlinewidth": 0,
             "ticks": ""
            },
            "colorscale": [
             [
              0,
              "#0d0887"
             ],
             [
              0.1111111111111111,
              "#46039f"
             ],
             [
              0.2222222222222222,
              "#7201a8"
             ],
             [
              0.3333333333333333,
              "#9c179e"
             ],
             [
              0.4444444444444444,
              "#bd3786"
             ],
             [
              0.5555555555555556,
              "#d8576b"
             ],
             [
              0.6666666666666666,
              "#ed7953"
             ],
             [
              0.7777777777777778,
              "#fb9f3a"
             ],
             [
              0.8888888888888888,
              "#fdca26"
             ],
             [
              1,
              "#f0f921"
             ]
            ],
            "type": "surface"
           }
          ],
          "table": [
           {
            "cells": {
             "fill": {
              "color": "#EBF0F8"
             },
             "line": {
              "color": "white"
             }
            },
            "header": {
             "fill": {
              "color": "#C8D4E3"
             },
             "line": {
              "color": "white"
             }
            },
            "type": "table"
           }
          ]
         },
         "layout": {
          "annotationdefaults": {
           "arrowcolor": "#2a3f5f",
           "arrowhead": 0,
           "arrowwidth": 1
          },
          "coloraxis": {
           "colorbar": {
            "outlinewidth": 0,
            "ticks": ""
           }
          },
          "colorscale": {
           "diverging": [
            [
             0,
             "#8e0152"
            ],
            [
             0.1,
             "#c51b7d"
            ],
            [
             0.2,
             "#de77ae"
            ],
            [
             0.3,
             "#f1b6da"
            ],
            [
             0.4,
             "#fde0ef"
            ],
            [
             0.5,
             "#f7f7f7"
            ],
            [
             0.6,
             "#e6f5d0"
            ],
            [
             0.7,
             "#b8e186"
            ],
            [
             0.8,
             "#7fbc41"
            ],
            [
             0.9,
             "#4d9221"
            ],
            [
             1,
             "#276419"
            ]
           ],
           "sequential": [
            [
             0,
             "#0d0887"
            ],
            [
             0.1111111111111111,
             "#46039f"
            ],
            [
             0.2222222222222222,
             "#7201a8"
            ],
            [
             0.3333333333333333,
             "#9c179e"
            ],
            [
             0.4444444444444444,
             "#bd3786"
            ],
            [
             0.5555555555555556,
             "#d8576b"
            ],
            [
             0.6666666666666666,
             "#ed7953"
            ],
            [
             0.7777777777777778,
             "#fb9f3a"
            ],
            [
             0.8888888888888888,
             "#fdca26"
            ],
            [
             1,
             "#f0f921"
            ]
           ],
           "sequentialminus": [
            [
             0,
             "#0d0887"
            ],
            [
             0.1111111111111111,
             "#46039f"
            ],
            [
             0.2222222222222222,
             "#7201a8"
            ],
            [
             0.3333333333333333,
             "#9c179e"
            ],
            [
             0.4444444444444444,
             "#bd3786"
            ],
            [
             0.5555555555555556,
             "#d8576b"
            ],
            [
             0.6666666666666666,
             "#ed7953"
            ],
            [
             0.7777777777777778,
             "#fb9f3a"
            ],
            [
             0.8888888888888888,
             "#fdca26"
            ],
            [
             1,
             "#f0f921"
            ]
           ]
          },
          "colorway": [
           "#636efa",
           "#EF553B",
           "#00cc96",
           "#ab63fa",
           "#FFA15A",
           "#19d3f3",
           "#FF6692",
           "#B6E880",
           "#FF97FF",
           "#FECB52"
          ],
          "font": {
           "color": "#2a3f5f"
          },
          "geo": {
           "bgcolor": "white",
           "lakecolor": "white",
           "landcolor": "#E5ECF6",
           "showlakes": true,
           "showland": true,
           "subunitcolor": "white"
          },
          "hoverlabel": {
           "align": "left"
          },
          "hovermode": "closest",
          "mapbox": {
           "style": "light"
          },
          "paper_bgcolor": "white",
          "plot_bgcolor": "#E5ECF6",
          "polar": {
           "angularaxis": {
            "gridcolor": "white",
            "linecolor": "white",
            "ticks": ""
           },
           "bgcolor": "#E5ECF6",
           "radialaxis": {
            "gridcolor": "white",
            "linecolor": "white",
            "ticks": ""
           }
          },
          "scene": {
           "xaxis": {
            "backgroundcolor": "#E5ECF6",
            "gridcolor": "white",
            "gridwidth": 2,
            "linecolor": "white",
            "showbackground": true,
            "ticks": "",
            "zerolinecolor": "white"
           },
           "yaxis": {
            "backgroundcolor": "#E5ECF6",
            "gridcolor": "white",
            "gridwidth": 2,
            "linecolor": "white",
            "showbackground": true,
            "ticks": "",
            "zerolinecolor": "white"
           },
           "zaxis": {
            "backgroundcolor": "#E5ECF6",
            "gridcolor": "white",
            "gridwidth": 2,
            "linecolor": "white",
            "showbackground": true,
            "ticks": "",
            "zerolinecolor": "white"
           }
          },
          "shapedefaults": {
           "line": {
            "color": "#2a3f5f"
           }
          },
          "ternary": {
           "aaxis": {
            "gridcolor": "white",
            "linecolor": "white",
            "ticks": ""
           },
           "baxis": {
            "gridcolor": "white",
            "linecolor": "white",
            "ticks": ""
           },
           "bgcolor": "#E5ECF6",
           "caxis": {
            "gridcolor": "white",
            "linecolor": "white",
            "ticks": ""
           }
          },
          "title": {
           "x": 0.05
          },
          "xaxis": {
           "automargin": true,
           "gridcolor": "white",
           "linecolor": "white",
           "ticks": "",
           "title": {
            "standoff": 15
           },
           "zerolinecolor": "white",
           "zerolinewidth": 2
          },
          "yaxis": {
           "automargin": true,
           "gridcolor": "white",
           "linecolor": "white",
           "ticks": "",
           "title": {
            "standoff": 15
           },
           "zerolinecolor": "white",
           "zerolinewidth": 2
          }
         }
        },
        "title": {
         "font": {
          "color": "#4D5663"
         },
         "text": "Top 100 bigrams after removing stop words"
        },
        "xaxis": {
         "gridcolor": "#E1E5ED",
         "linecolor": "black",
         "showgrid": true,
         "tickfont": {
          "color": "#4D5663"
         },
         "title": {
          "font": {
           "color": "#4D5663"
          },
          "text": ""
         },
         "zerolinecolor": "#E1E5ED"
        },
        "yaxis": {
         "gridcolor": "#E1E5ED",
         "linecolor": "black",
         "showgrid": true,
         "tickfont": {
          "color": "#4D5663"
         },
         "title": {
          "font": {
           "color": "#4D5663"
          },
          "text": "Count"
         },
         "zerolinecolor": "#E1E5ED"
        }
       }
      },
      "text/html": [
       "<div>\n",
       "        \n",
       "        \n",
       "            <div id=\"19a3c778-368e-48e1-84f2-316beb00c5b9\" class=\"plotly-graph-div\" style=\"height:525px; width:100%;\"></div>\n",
       "            <script type=\"text/javascript\">\n",
       "                require([\"plotly\"], function(Plotly) {\n",
       "                    window.PLOTLYENV=window.PLOTLYENV || {};\n",
       "                    window.PLOTLYENV.BASE_URL='https://plot.ly';\n",
       "                    \n",
       "                if (document.getElementById(\"19a3c778-368e-48e1-84f2-316beb00c5b9\")) {\n",
       "                    Plotly.newPlot(\n",
       "                        '19a3c778-368e-48e1-84f2-316beb00c5b9',\n",
       "                        [{\"marker\": {\"color\": \"rgba(255, 153, 51, 0.6)\", \"line\": {\"color\": \"rgba(255, 153, 51, 1.0)\", \"width\": 1}}, \"name\": \"count\", \"orientation\": \"v\", \"text\": \"\", \"type\": \"bar\", \"x\": [\"year old\", \"request loan\", \"marry child\", \"start business\", \"loan buy\", \"year ago\", \"expand business\", \"use loan\", \"business year\", \"school fee\", \"loan use\", \"first loan\", \"child school\", \"old child\", \"old marry\", \"business sell\", \"second loan\", \"work hard\", \"loan purchase\", \"hard work\", \"small business\", \"repay loan\", \"primary school\", \"mother child\", \"woman group\", \"pay school\", \"old married\", \"educate child\", \"use buy\", \"business able\", \"increase stock\", \"increase income\", \"loan order\", \"secondary school\", \"child live\", \"married child\", \"loan able\", \"husband work\", \"start small\", \"last year\", \"business grow\", \"business training_educational_programs_information\", \"support family\", \"training_educational_programs_information microfinance_ecuador_services_please\", \"group member\", \"apply loan\", \"run business\", \"microfinance_ecuador_services_please visit_href_http_www\", \"mifex_org_www_mifex org\", \"start sell\", \"visit_href_http_www mifex_org_www_mifex\", \"help business\", \"able buy\", \"husband child\", \"mifex_offers_client business\", \"also sell\", \"sell product\", \"high school\", \"need loan\", \"sell clothing\", \"farmer also\", \"child age\", \"receive loan\", \"give loan\", \"business help\", \"child child\", \"operate business\", \"begin business\", \"go school\", \"loan help\", \"attend school\", \"loan intend\", \"provide family\", \"year experience\", \"loan group\", \"loan invest\", \"loan loan\", \"person group\", \"loan enable\", \"risk_willing_accept_additional risk_making\", \"may_represent_higher_default risk_willing_accept_additional\", \"pay loan\", \"many local_businesses_lender\", \"loan may_represent_higher_default\", \"risk_making loan\", \"local_businesses_lender loan\", \"loan usd\", \"communities_remains_unsettled_affecte many\", \"able provide\", \"child primary\", \"fee child\", \"loan month\", \"plan use\", \"run small\", \"high demand\", \"grow business\", \"child also\", \"live husband\", \"buy new\", \"loan together\"], \"y\": [400, 192, 181, 173, 169, 156, 145, 140, 107, 104, 97, 97, 91, 89, 89, 78, 78, 70, 65, 64, 63, 62, 59, 59, 58, 58, 58, 57, 57, 57, 53, 52, 52, 51, 51, 49, 49, 49, 47, 47, 47, 46, 46, 46, 46, 46, 45, 44, 44, 44, 44, 44, 44, 43, 43, 42, 42, 41, 41, 41, 40, 40, 40, 40, 39, 39, 39, 38, 38, 37, 37, 37, 35, 34, 34, 33, 33, 32, 32, 32, 32, 32, 32, 32, 32, 32, 32, 32, 31, 31, 31, 30, 29, 29, 28, 28, 28, 28, 27, 27]}],\n",
       "                        {\"legend\": {\"bgcolor\": \"#F5F6F9\", \"font\": {\"color\": \"#4D5663\"}}, \"paper_bgcolor\": \"#F5F6F9\", \"plot_bgcolor\": \"#F5F6F9\", \"template\": {\"data\": {\"bar\": [{\"error_x\": {\"color\": \"#2a3f5f\"}, \"error_y\": {\"color\": \"#2a3f5f\"}, \"marker\": {\"line\": {\"color\": \"#E5ECF6\", \"width\": 0.5}}, \"type\": \"bar\"}], \"barpolar\": [{\"marker\": {\"line\": {\"color\": \"#E5ECF6\", \"width\": 0.5}}, \"type\": \"barpolar\"}], \"carpet\": [{\"aaxis\": {\"endlinecolor\": \"#2a3f5f\", \"gridcolor\": \"white\", \"linecolor\": \"white\", \"minorgridcolor\": \"white\", \"startlinecolor\": \"#2a3f5f\"}, \"baxis\": {\"endlinecolor\": \"#2a3f5f\", \"gridcolor\": \"white\", \"linecolor\": \"white\", \"minorgridcolor\": \"white\", \"startlinecolor\": \"#2a3f5f\"}, \"type\": \"carpet\"}], \"choropleth\": [{\"colorbar\": {\"outlinewidth\": 0, \"ticks\": \"\"}, \"type\": \"choropleth\"}], \"contour\": [{\"colorbar\": {\"outlinewidth\": 0, \"ticks\": \"\"}, \"colorscale\": [[0.0, \"#0d0887\"], [0.1111111111111111, \"#46039f\"], [0.2222222222222222, \"#7201a8\"], [0.3333333333333333, \"#9c179e\"], [0.4444444444444444, \"#bd3786\"], [0.5555555555555556, \"#d8576b\"], [0.6666666666666666, \"#ed7953\"], [0.7777777777777778, \"#fb9f3a\"], [0.8888888888888888, \"#fdca26\"], [1.0, \"#f0f921\"]], \"type\": \"contour\"}], \"contourcarpet\": [{\"colorbar\": {\"outlinewidth\": 0, \"ticks\": \"\"}, \"type\": \"contourcarpet\"}], \"heatmap\": [{\"colorbar\": {\"outlinewidth\": 0, \"ticks\": \"\"}, \"colorscale\": [[0.0, \"#0d0887\"], [0.1111111111111111, \"#46039f\"], [0.2222222222222222, \"#7201a8\"], [0.3333333333333333, \"#9c179e\"], [0.4444444444444444, \"#bd3786\"], [0.5555555555555556, \"#d8576b\"], [0.6666666666666666, \"#ed7953\"], [0.7777777777777778, \"#fb9f3a\"], [0.8888888888888888, \"#fdca26\"], [1.0, \"#f0f921\"]], \"type\": \"heatmap\"}], \"heatmapgl\": [{\"colorbar\": {\"outlinewidth\": 0, \"ticks\": \"\"}, \"colorscale\": [[0.0, \"#0d0887\"], [0.1111111111111111, \"#46039f\"], [0.2222222222222222, \"#7201a8\"], [0.3333333333333333, \"#9c179e\"], [0.4444444444444444, \"#bd3786\"], [0.5555555555555556, \"#d8576b\"], [0.6666666666666666, \"#ed7953\"], [0.7777777777777778, \"#fb9f3a\"], [0.8888888888888888, \"#fdca26\"], [1.0, \"#f0f921\"]], \"type\": \"heatmapgl\"}], \"histogram\": [{\"marker\": {\"colorbar\": {\"outlinewidth\": 0, \"ticks\": \"\"}}, \"type\": \"histogram\"}], \"histogram2d\": [{\"colorbar\": {\"outlinewidth\": 0, \"ticks\": \"\"}, \"colorscale\": [[0.0, \"#0d0887\"], [0.1111111111111111, \"#46039f\"], [0.2222222222222222, \"#7201a8\"], [0.3333333333333333, \"#9c179e\"], [0.4444444444444444, \"#bd3786\"], [0.5555555555555556, \"#d8576b\"], [0.6666666666666666, \"#ed7953\"], [0.7777777777777778, \"#fb9f3a\"], [0.8888888888888888, \"#fdca26\"], [1.0, \"#f0f921\"]], \"type\": \"histogram2d\"}], \"histogram2dcontour\": [{\"colorbar\": {\"outlinewidth\": 0, \"ticks\": \"\"}, \"colorscale\": [[0.0, \"#0d0887\"], [0.1111111111111111, \"#46039f\"], [0.2222222222222222, \"#7201a8\"], [0.3333333333333333, \"#9c179e\"], [0.4444444444444444, \"#bd3786\"], [0.5555555555555556, \"#d8576b\"], [0.6666666666666666, \"#ed7953\"], [0.7777777777777778, \"#fb9f3a\"], [0.8888888888888888, \"#fdca26\"], [1.0, \"#f0f921\"]], \"type\": \"histogram2dcontour\"}], \"mesh3d\": [{\"colorbar\": {\"outlinewidth\": 0, \"ticks\": \"\"}, \"type\": \"mesh3d\"}], \"parcoords\": [{\"line\": {\"colorbar\": {\"outlinewidth\": 0, \"ticks\": \"\"}}, \"type\": \"parcoords\"}], \"pie\": [{\"automargin\": true, \"type\": \"pie\"}], \"scatter\": [{\"marker\": {\"colorbar\": {\"outlinewidth\": 0, \"ticks\": \"\"}}, \"type\": \"scatter\"}], \"scatter3d\": [{\"line\": {\"colorbar\": {\"outlinewidth\": 0, \"ticks\": \"\"}}, \"marker\": {\"colorbar\": {\"outlinewidth\": 0, \"ticks\": \"\"}}, \"type\": \"scatter3d\"}], \"scattercarpet\": [{\"marker\": {\"colorbar\": {\"outlinewidth\": 0, \"ticks\": \"\"}}, \"type\": \"scattercarpet\"}], \"scattergeo\": [{\"marker\": {\"colorbar\": {\"outlinewidth\": 0, \"ticks\": \"\"}}, \"type\": \"scattergeo\"}], \"scattergl\": [{\"marker\": {\"colorbar\": {\"outlinewidth\": 0, \"ticks\": \"\"}}, \"type\": \"scattergl\"}], \"scattermapbox\": [{\"marker\": {\"colorbar\": {\"outlinewidth\": 0, \"ticks\": \"\"}}, \"type\": \"scattermapbox\"}], \"scatterpolar\": [{\"marker\": {\"colorbar\": {\"outlinewidth\": 0, \"ticks\": \"\"}}, \"type\": \"scatterpolar\"}], \"scatterpolargl\": [{\"marker\": {\"colorbar\": {\"outlinewidth\": 0, \"ticks\": \"\"}}, \"type\": \"scatterpolargl\"}], \"scatterternary\": [{\"marker\": {\"colorbar\": {\"outlinewidth\": 0, \"ticks\": \"\"}}, \"type\": \"scatterternary\"}], \"surface\": [{\"colorbar\": {\"outlinewidth\": 0, \"ticks\": \"\"}, \"colorscale\": [[0.0, \"#0d0887\"], [0.1111111111111111, \"#46039f\"], [0.2222222222222222, \"#7201a8\"], [0.3333333333333333, \"#9c179e\"], [0.4444444444444444, \"#bd3786\"], [0.5555555555555556, \"#d8576b\"], [0.6666666666666666, \"#ed7953\"], [0.7777777777777778, \"#fb9f3a\"], [0.8888888888888888, \"#fdca26\"], [1.0, \"#f0f921\"]], \"type\": \"surface\"}], \"table\": [{\"cells\": {\"fill\": {\"color\": \"#EBF0F8\"}, \"line\": {\"color\": \"white\"}}, \"header\": {\"fill\": {\"color\": \"#C8D4E3\"}, \"line\": {\"color\": \"white\"}}, \"type\": \"table\"}]}, \"layout\": {\"annotationdefaults\": {\"arrowcolor\": \"#2a3f5f\", \"arrowhead\": 0, \"arrowwidth\": 1}, \"coloraxis\": {\"colorbar\": {\"outlinewidth\": 0, \"ticks\": \"\"}}, \"colorscale\": {\"diverging\": [[0, \"#8e0152\"], [0.1, \"#c51b7d\"], [0.2, \"#de77ae\"], [0.3, \"#f1b6da\"], [0.4, \"#fde0ef\"], [0.5, \"#f7f7f7\"], [0.6, \"#e6f5d0\"], [0.7, \"#b8e186\"], [0.8, \"#7fbc41\"], [0.9, \"#4d9221\"], [1, \"#276419\"]], \"sequential\": [[0.0, \"#0d0887\"], [0.1111111111111111, \"#46039f\"], [0.2222222222222222, \"#7201a8\"], [0.3333333333333333, \"#9c179e\"], [0.4444444444444444, \"#bd3786\"], [0.5555555555555556, \"#d8576b\"], [0.6666666666666666, \"#ed7953\"], [0.7777777777777778, \"#fb9f3a\"], [0.8888888888888888, \"#fdca26\"], [1.0, \"#f0f921\"]], \"sequentialminus\": [[0.0, \"#0d0887\"], [0.1111111111111111, \"#46039f\"], [0.2222222222222222, \"#7201a8\"], [0.3333333333333333, \"#9c179e\"], [0.4444444444444444, \"#bd3786\"], [0.5555555555555556, \"#d8576b\"], [0.6666666666666666, \"#ed7953\"], [0.7777777777777778, \"#fb9f3a\"], [0.8888888888888888, \"#fdca26\"], [1.0, \"#f0f921\"]]}, \"colorway\": [\"#636efa\", \"#EF553B\", \"#00cc96\", \"#ab63fa\", \"#FFA15A\", \"#19d3f3\", \"#FF6692\", \"#B6E880\", \"#FF97FF\", \"#FECB52\"], \"font\": {\"color\": \"#2a3f5f\"}, \"geo\": {\"bgcolor\": \"white\", \"lakecolor\": \"white\", \"landcolor\": \"#E5ECF6\", \"showlakes\": true, \"showland\": true, \"subunitcolor\": \"white\"}, \"hoverlabel\": {\"align\": \"left\"}, \"hovermode\": \"closest\", \"mapbox\": {\"style\": \"light\"}, \"paper_bgcolor\": \"white\", \"plot_bgcolor\": \"#E5ECF6\", \"polar\": {\"angularaxis\": {\"gridcolor\": \"white\", \"linecolor\": \"white\", \"ticks\": \"\"}, \"bgcolor\": \"#E5ECF6\", \"radialaxis\": {\"gridcolor\": \"white\", \"linecolor\": \"white\", \"ticks\": \"\"}}, \"scene\": {\"xaxis\": {\"backgroundcolor\": \"#E5ECF6\", \"gridcolor\": \"white\", \"gridwidth\": 2, \"linecolor\": \"white\", \"showbackground\": true, \"ticks\": \"\", \"zerolinecolor\": \"white\"}, \"yaxis\": {\"backgroundcolor\": \"#E5ECF6\", \"gridcolor\": \"white\", \"gridwidth\": 2, \"linecolor\": \"white\", \"showbackground\": true, \"ticks\": \"\", \"zerolinecolor\": \"white\"}, \"zaxis\": {\"backgroundcolor\": \"#E5ECF6\", \"gridcolor\": \"white\", \"gridwidth\": 2, \"linecolor\": \"white\", \"showbackground\": true, \"ticks\": \"\", \"zerolinecolor\": \"white\"}}, \"shapedefaults\": {\"line\": {\"color\": \"#2a3f5f\"}}, \"ternary\": {\"aaxis\": {\"gridcolor\": \"white\", \"linecolor\": \"white\", \"ticks\": \"\"}, \"baxis\": {\"gridcolor\": \"white\", \"linecolor\": \"white\", \"ticks\": \"\"}, \"bgcolor\": \"#E5ECF6\", \"caxis\": {\"gridcolor\": \"white\", \"linecolor\": \"white\", \"ticks\": \"\"}}, \"title\": {\"x\": 0.05}, \"xaxis\": {\"automargin\": true, \"gridcolor\": \"white\", \"linecolor\": \"white\", \"ticks\": \"\", \"title\": {\"standoff\": 15}, \"zerolinecolor\": \"white\", \"zerolinewidth\": 2}, \"yaxis\": {\"automargin\": true, \"gridcolor\": \"white\", \"linecolor\": \"white\", \"ticks\": \"\", \"title\": {\"standoff\": 15}, \"zerolinecolor\": \"white\", \"zerolinewidth\": 2}}}, \"title\": {\"font\": {\"color\": \"#4D5663\"}, \"text\": \"Top 100 bigrams after removing stop words\"}, \"xaxis\": {\"gridcolor\": \"#E1E5ED\", \"linecolor\": \"black\", \"showgrid\": true, \"tickfont\": {\"color\": \"#4D5663\"}, \"title\": {\"font\": {\"color\": \"#4D5663\"}, \"text\": \"\"}, \"zerolinecolor\": \"#E1E5ED\"}, \"yaxis\": {\"gridcolor\": \"#E1E5ED\", \"linecolor\": \"black\", \"showgrid\": true, \"tickfont\": {\"color\": \"#4D5663\"}, \"title\": {\"font\": {\"color\": \"#4D5663\"}, \"text\": \"Count\"}, \"zerolinecolor\": \"#E1E5ED\"}},\n",
       "                        {\"showLink\": true, \"linkText\": \"Export to plot.ly\", \"plotlyServerURL\": \"https://plot.ly\", \"responsive\": true}\n",
       "                    ).then(function(){\n",
       "                            \n",
       "var gd = document.getElementById('19a3c778-368e-48e1-84f2-316beb00c5b9');\n",
       "var x = new MutationObserver(function (mutations, observer) {{\n",
       "        var display = window.getComputedStyle(gd).display;\n",
       "        if (!display || display === 'none') {{\n",
       "            console.log([gd, 'removed!']);\n",
       "            Plotly.purge(gd);\n",
       "            observer.disconnect();\n",
       "        }}\n",
       "}});\n",
       "\n",
       "// Listen for the removal of the full notebook cells\n",
       "var notebookContainer = gd.closest('#notebook-container');\n",
       "if (notebookContainer) {{\n",
       "    x.observe(notebookContainer, {childList: true});\n",
       "}}\n",
       "\n",
       "// Listen for the clearing of the current output cell\n",
       "var outputEl = gd.closest('.output');\n",
       "if (outputEl) {{\n",
       "    x.observe(outputEl, {childList: true});\n",
       "}}\n",
       "\n",
       "                        })\n",
       "                };\n",
       "                });\n",
       "            </script>\n",
       "        </div>"
      ]
     },
     "metadata": {},
     "output_type": "display_data"
    }
   ],
   "source": [
    "plot_model(plot='bigram')"
   ]
  },
  {
   "cell_type": "code",
   "execution_count": 21,
   "metadata": {},
   "outputs": [
    {
     "data": {
      "text/html": [
       "        <script type=\"text/javascript\">\n",
       "        window.PlotlyConfig = {MathJaxConfig: 'local'};\n",
       "        if (window.MathJax) {MathJax.Hub.Config({SVG: {font: \"STIX-Web\"}});}\n",
       "        if (typeof require !== 'undefined') {\n",
       "        require.undef(\"plotly\");\n",
       "        requirejs.config({\n",
       "            paths: {\n",
       "                'plotly': ['https://cdn.plot.ly/plotly-latest.min']\n",
       "            }\n",
       "        });\n",
       "        require(['plotly'], function(Plotly) {\n",
       "            window._Plotly = Plotly;\n",
       "        });\n",
       "        }\n",
       "        </script>\n",
       "        "
      ]
     },
     "metadata": {},
     "output_type": "display_data"
    },
    {
     "data": {
      "application/vnd.plotly.v1+json": {
       "config": {
        "linkText": "Export to plot.ly",
        "plotlyServerURL": "https://plot.ly",
        "showLink": true
       },
       "data": [
        {
         "marker": {
          "color": "rgba(255, 153, 51, 0.6)",
          "line": {
           "color": "rgba(255, 153, 51, 1.0)",
           "width": 1
          }
         },
         "name": "count",
         "orientation": "v",
         "text": "",
         "type": "bar",
         "x": [
          "business",
          "loan",
          "sell",
          "year",
          "child",
          "buy",
          "work",
          "make",
          "product",
          "old",
          "help",
          "use",
          "family",
          "husband",
          "start",
          "home",
          "also",
          "live",
          "well",
          "small",
          "able",
          "hope",
          "customer",
          "community",
          "store",
          "purchase",
          "school",
          "good",
          "order",
          "new",
          "woman",
          "clothing",
          "increase",
          "need",
          "want",
          "income",
          "entrepreneur",
          "group",
          "people",
          "improve",
          "time",
          "money",
          "provide",
          "client",
          "first",
          "invest",
          "request",
          "grow",
          "life",
          "item",
          "continue",
          "support",
          "food",
          "go",
          "hard",
          "sale",
          "run",
          "house",
          "ago",
          "take",
          "clothe",
          "expand",
          "mother",
          "day",
          "offer",
          "give",
          "say",
          "education",
          "son",
          "receive",
          "plan",
          "member",
          "merchandise",
          "begin",
          "large",
          "marry",
          "shop",
          "profit",
          "allow",
          "open",
          "second",
          "currently",
          "get",
          "capital",
          "many",
          "keep",
          "wife",
          "shoe",
          "stock",
          "operate",
          "experience",
          "great",
          "goal",
          "young",
          "market",
          "age",
          "area",
          "supply",
          "attend",
          "would"
         ],
         "y": [
          1155,
          959,
          773,
          638,
          583,
          423,
          421,
          351,
          341,
          340,
          330,
          322,
          312,
          310,
          287,
          271,
          270,
          266,
          264,
          261,
          257,
          222,
          219,
          213,
          211,
          209,
          207,
          204,
          203,
          198,
          189,
          188,
          180,
          169,
          163,
          161,
          160,
          154,
          146,
          145,
          142,
          142,
          139,
          137,
          136,
          135,
          133,
          129,
          127,
          125,
          123,
          122,
          122,
          120,
          118,
          118,
          118,
          117,
          115,
          115,
          112,
          112,
          110,
          104,
          103,
          102,
          101,
          98,
          98,
          98,
          97,
          93,
          93,
          91,
          90,
          90,
          90,
          85,
          85,
          85,
          84,
          82,
          82,
          82,
          81,
          81,
          80,
          79,
          79,
          76,
          74,
          71,
          71,
          70,
          69,
          69,
          68,
          67,
          67,
          67
         ]
        }
       ],
       "layout": {
        "legend": {
         "bgcolor": "#F5F6F9",
         "font": {
          "color": "#4D5663"
         }
        },
        "paper_bgcolor": "#F5F6F9",
        "plot_bgcolor": "#F5F6F9",
        "template": {
         "data": {
          "bar": [
           {
            "error_x": {
             "color": "#2a3f5f"
            },
            "error_y": {
             "color": "#2a3f5f"
            },
            "marker": {
             "line": {
              "color": "#E5ECF6",
              "width": 0.5
             }
            },
            "type": "bar"
           }
          ],
          "barpolar": [
           {
            "marker": {
             "line": {
              "color": "#E5ECF6",
              "width": 0.5
             }
            },
            "type": "barpolar"
           }
          ],
          "carpet": [
           {
            "aaxis": {
             "endlinecolor": "#2a3f5f",
             "gridcolor": "white",
             "linecolor": "white",
             "minorgridcolor": "white",
             "startlinecolor": "#2a3f5f"
            },
            "baxis": {
             "endlinecolor": "#2a3f5f",
             "gridcolor": "white",
             "linecolor": "white",
             "minorgridcolor": "white",
             "startlinecolor": "#2a3f5f"
            },
            "type": "carpet"
           }
          ],
          "choropleth": [
           {
            "colorbar": {
             "outlinewidth": 0,
             "ticks": ""
            },
            "type": "choropleth"
           }
          ],
          "contour": [
           {
            "colorbar": {
             "outlinewidth": 0,
             "ticks": ""
            },
            "colorscale": [
             [
              0,
              "#0d0887"
             ],
             [
              0.1111111111111111,
              "#46039f"
             ],
             [
              0.2222222222222222,
              "#7201a8"
             ],
             [
              0.3333333333333333,
              "#9c179e"
             ],
             [
              0.4444444444444444,
              "#bd3786"
             ],
             [
              0.5555555555555556,
              "#d8576b"
             ],
             [
              0.6666666666666666,
              "#ed7953"
             ],
             [
              0.7777777777777778,
              "#fb9f3a"
             ],
             [
              0.8888888888888888,
              "#fdca26"
             ],
             [
              1,
              "#f0f921"
             ]
            ],
            "type": "contour"
           }
          ],
          "contourcarpet": [
           {
            "colorbar": {
             "outlinewidth": 0,
             "ticks": ""
            },
            "type": "contourcarpet"
           }
          ],
          "heatmap": [
           {
            "colorbar": {
             "outlinewidth": 0,
             "ticks": ""
            },
            "colorscale": [
             [
              0,
              "#0d0887"
             ],
             [
              0.1111111111111111,
              "#46039f"
             ],
             [
              0.2222222222222222,
              "#7201a8"
             ],
             [
              0.3333333333333333,
              "#9c179e"
             ],
             [
              0.4444444444444444,
              "#bd3786"
             ],
             [
              0.5555555555555556,
              "#d8576b"
             ],
             [
              0.6666666666666666,
              "#ed7953"
             ],
             [
              0.7777777777777778,
              "#fb9f3a"
             ],
             [
              0.8888888888888888,
              "#fdca26"
             ],
             [
              1,
              "#f0f921"
             ]
            ],
            "type": "heatmap"
           }
          ],
          "heatmapgl": [
           {
            "colorbar": {
             "outlinewidth": 0,
             "ticks": ""
            },
            "colorscale": [
             [
              0,
              "#0d0887"
             ],
             [
              0.1111111111111111,
              "#46039f"
             ],
             [
              0.2222222222222222,
              "#7201a8"
             ],
             [
              0.3333333333333333,
              "#9c179e"
             ],
             [
              0.4444444444444444,
              "#bd3786"
             ],
             [
              0.5555555555555556,
              "#d8576b"
             ],
             [
              0.6666666666666666,
              "#ed7953"
             ],
             [
              0.7777777777777778,
              "#fb9f3a"
             ],
             [
              0.8888888888888888,
              "#fdca26"
             ],
             [
              1,
              "#f0f921"
             ]
            ],
            "type": "heatmapgl"
           }
          ],
          "histogram": [
           {
            "marker": {
             "colorbar": {
              "outlinewidth": 0,
              "ticks": ""
             }
            },
            "type": "histogram"
           }
          ],
          "histogram2d": [
           {
            "colorbar": {
             "outlinewidth": 0,
             "ticks": ""
            },
            "colorscale": [
             [
              0,
              "#0d0887"
             ],
             [
              0.1111111111111111,
              "#46039f"
             ],
             [
              0.2222222222222222,
              "#7201a8"
             ],
             [
              0.3333333333333333,
              "#9c179e"
             ],
             [
              0.4444444444444444,
              "#bd3786"
             ],
             [
              0.5555555555555556,
              "#d8576b"
             ],
             [
              0.6666666666666666,
              "#ed7953"
             ],
             [
              0.7777777777777778,
              "#fb9f3a"
             ],
             [
              0.8888888888888888,
              "#fdca26"
             ],
             [
              1,
              "#f0f921"
             ]
            ],
            "type": "histogram2d"
           }
          ],
          "histogram2dcontour": [
           {
            "colorbar": {
             "outlinewidth": 0,
             "ticks": ""
            },
            "colorscale": [
             [
              0,
              "#0d0887"
             ],
             [
              0.1111111111111111,
              "#46039f"
             ],
             [
              0.2222222222222222,
              "#7201a8"
             ],
             [
              0.3333333333333333,
              "#9c179e"
             ],
             [
              0.4444444444444444,
              "#bd3786"
             ],
             [
              0.5555555555555556,
              "#d8576b"
             ],
             [
              0.6666666666666666,
              "#ed7953"
             ],
             [
              0.7777777777777778,
              "#fb9f3a"
             ],
             [
              0.8888888888888888,
              "#fdca26"
             ],
             [
              1,
              "#f0f921"
             ]
            ],
            "type": "histogram2dcontour"
           }
          ],
          "mesh3d": [
           {
            "colorbar": {
             "outlinewidth": 0,
             "ticks": ""
            },
            "type": "mesh3d"
           }
          ],
          "parcoords": [
           {
            "line": {
             "colorbar": {
              "outlinewidth": 0,
              "ticks": ""
             }
            },
            "type": "parcoords"
           }
          ],
          "pie": [
           {
            "automargin": true,
            "type": "pie"
           }
          ],
          "scatter": [
           {
            "marker": {
             "colorbar": {
              "outlinewidth": 0,
              "ticks": ""
             }
            },
            "type": "scatter"
           }
          ],
          "scatter3d": [
           {
            "line": {
             "colorbar": {
              "outlinewidth": 0,
              "ticks": ""
             }
            },
            "marker": {
             "colorbar": {
              "outlinewidth": 0,
              "ticks": ""
             }
            },
            "type": "scatter3d"
           }
          ],
          "scattercarpet": [
           {
            "marker": {
             "colorbar": {
              "outlinewidth": 0,
              "ticks": ""
             }
            },
            "type": "scattercarpet"
           }
          ],
          "scattergeo": [
           {
            "marker": {
             "colorbar": {
              "outlinewidth": 0,
              "ticks": ""
             }
            },
            "type": "scattergeo"
           }
          ],
          "scattergl": [
           {
            "marker": {
             "colorbar": {
              "outlinewidth": 0,
              "ticks": ""
             }
            },
            "type": "scattergl"
           }
          ],
          "scattermapbox": [
           {
            "marker": {
             "colorbar": {
              "outlinewidth": 0,
              "ticks": ""
             }
            },
            "type": "scattermapbox"
           }
          ],
          "scatterpolar": [
           {
            "marker": {
             "colorbar": {
              "outlinewidth": 0,
              "ticks": ""
             }
            },
            "type": "scatterpolar"
           }
          ],
          "scatterpolargl": [
           {
            "marker": {
             "colorbar": {
              "outlinewidth": 0,
              "ticks": ""
             }
            },
            "type": "scatterpolargl"
           }
          ],
          "scatterternary": [
           {
            "marker": {
             "colorbar": {
              "outlinewidth": 0,
              "ticks": ""
             }
            },
            "type": "scatterternary"
           }
          ],
          "surface": [
           {
            "colorbar": {
             "outlinewidth": 0,
             "ticks": ""
            },
            "colorscale": [
             [
              0,
              "#0d0887"
             ],
             [
              0.1111111111111111,
              "#46039f"
             ],
             [
              0.2222222222222222,
              "#7201a8"
             ],
             [
              0.3333333333333333,
              "#9c179e"
             ],
             [
              0.4444444444444444,
              "#bd3786"
             ],
             [
              0.5555555555555556,
              "#d8576b"
             ],
             [
              0.6666666666666666,
              "#ed7953"
             ],
             [
              0.7777777777777778,
              "#fb9f3a"
             ],
             [
              0.8888888888888888,
              "#fdca26"
             ],
             [
              1,
              "#f0f921"
             ]
            ],
            "type": "surface"
           }
          ],
          "table": [
           {
            "cells": {
             "fill": {
              "color": "#EBF0F8"
             },
             "line": {
              "color": "white"
             }
            },
            "header": {
             "fill": {
              "color": "#C8D4E3"
             },
             "line": {
              "color": "white"
             }
            },
            "type": "table"
           }
          ]
         },
         "layout": {
          "annotationdefaults": {
           "arrowcolor": "#2a3f5f",
           "arrowhead": 0,
           "arrowwidth": 1
          },
          "coloraxis": {
           "colorbar": {
            "outlinewidth": 0,
            "ticks": ""
           }
          },
          "colorscale": {
           "diverging": [
            [
             0,
             "#8e0152"
            ],
            [
             0.1,
             "#c51b7d"
            ],
            [
             0.2,
             "#de77ae"
            ],
            [
             0.3,
             "#f1b6da"
            ],
            [
             0.4,
             "#fde0ef"
            ],
            [
             0.5,
             "#f7f7f7"
            ],
            [
             0.6,
             "#e6f5d0"
            ],
            [
             0.7,
             "#b8e186"
            ],
            [
             0.8,
             "#7fbc41"
            ],
            [
             0.9,
             "#4d9221"
            ],
            [
             1,
             "#276419"
            ]
           ],
           "sequential": [
            [
             0,
             "#0d0887"
            ],
            [
             0.1111111111111111,
             "#46039f"
            ],
            [
             0.2222222222222222,
             "#7201a8"
            ],
            [
             0.3333333333333333,
             "#9c179e"
            ],
            [
             0.4444444444444444,
             "#bd3786"
            ],
            [
             0.5555555555555556,
             "#d8576b"
            ],
            [
             0.6666666666666666,
             "#ed7953"
            ],
            [
             0.7777777777777778,
             "#fb9f3a"
            ],
            [
             0.8888888888888888,
             "#fdca26"
            ],
            [
             1,
             "#f0f921"
            ]
           ],
           "sequentialminus": [
            [
             0,
             "#0d0887"
            ],
            [
             0.1111111111111111,
             "#46039f"
            ],
            [
             0.2222222222222222,
             "#7201a8"
            ],
            [
             0.3333333333333333,
             "#9c179e"
            ],
            [
             0.4444444444444444,
             "#bd3786"
            ],
            [
             0.5555555555555556,
             "#d8576b"
            ],
            [
             0.6666666666666666,
             "#ed7953"
            ],
            [
             0.7777777777777778,
             "#fb9f3a"
            ],
            [
             0.8888888888888888,
             "#fdca26"
            ],
            [
             1,
             "#f0f921"
            ]
           ]
          },
          "colorway": [
           "#636efa",
           "#EF553B",
           "#00cc96",
           "#ab63fa",
           "#FFA15A",
           "#19d3f3",
           "#FF6692",
           "#B6E880",
           "#FF97FF",
           "#FECB52"
          ],
          "font": {
           "color": "#2a3f5f"
          },
          "geo": {
           "bgcolor": "white",
           "lakecolor": "white",
           "landcolor": "#E5ECF6",
           "showlakes": true,
           "showland": true,
           "subunitcolor": "white"
          },
          "hoverlabel": {
           "align": "left"
          },
          "hovermode": "closest",
          "mapbox": {
           "style": "light"
          },
          "paper_bgcolor": "white",
          "plot_bgcolor": "#E5ECF6",
          "polar": {
           "angularaxis": {
            "gridcolor": "white",
            "linecolor": "white",
            "ticks": ""
           },
           "bgcolor": "#E5ECF6",
           "radialaxis": {
            "gridcolor": "white",
            "linecolor": "white",
            "ticks": ""
           }
          },
          "scene": {
           "xaxis": {
            "backgroundcolor": "#E5ECF6",
            "gridcolor": "white",
            "gridwidth": 2,
            "linecolor": "white",
            "showbackground": true,
            "ticks": "",
            "zerolinecolor": "white"
           },
           "yaxis": {
            "backgroundcolor": "#E5ECF6",
            "gridcolor": "white",
            "gridwidth": 2,
            "linecolor": "white",
            "showbackground": true,
            "ticks": "",
            "zerolinecolor": "white"
           },
           "zaxis": {
            "backgroundcolor": "#E5ECF6",
            "gridcolor": "white",
            "gridwidth": 2,
            "linecolor": "white",
            "showbackground": true,
            "ticks": "",
            "zerolinecolor": "white"
           }
          },
          "shapedefaults": {
           "line": {
            "color": "#2a3f5f"
           }
          },
          "ternary": {
           "aaxis": {
            "gridcolor": "white",
            "linecolor": "white",
            "ticks": ""
           },
           "baxis": {
            "gridcolor": "white",
            "linecolor": "white",
            "ticks": ""
           },
           "bgcolor": "#E5ECF6",
           "caxis": {
            "gridcolor": "white",
            "linecolor": "white",
            "ticks": ""
           }
          },
          "title": {
           "x": 0.05
          },
          "xaxis": {
           "automargin": true,
           "gridcolor": "white",
           "linecolor": "white",
           "ticks": "",
           "title": {
            "standoff": 15
           },
           "zerolinecolor": "white",
           "zerolinewidth": 2
          },
          "yaxis": {
           "automargin": true,
           "gridcolor": "white",
           "linecolor": "white",
           "ticks": "",
           "title": {
            "standoff": 15
           },
           "zerolinecolor": "white",
           "zerolinewidth": 2
          }
         }
        },
        "title": {
         "font": {
          "color": "#4D5663"
         },
         "text": "Topic 1: Top 100 words after removing stop words"
        },
        "xaxis": {
         "gridcolor": "#E1E5ED",
         "linecolor": "black",
         "showgrid": true,
         "tickfont": {
          "color": "#4D5663"
         },
         "title": {
          "font": {
           "color": "#4D5663"
          },
          "text": ""
         },
         "zerolinecolor": "#E1E5ED"
        },
        "yaxis": {
         "gridcolor": "#E1E5ED",
         "linecolor": "black",
         "showgrid": true,
         "tickfont": {
          "color": "#4D5663"
         },
         "title": {
          "font": {
           "color": "#4D5663"
          },
          "text": "Count"
         },
         "zerolinecolor": "#E1E5ED"
        }
       }
      },
      "text/html": [
       "<div>\n",
       "        \n",
       "        \n",
       "            <div id=\"a666fbf2-7eb8-4fd8-a9bd-48092a666449\" class=\"plotly-graph-div\" style=\"height:525px; width:100%;\"></div>\n",
       "            <script type=\"text/javascript\">\n",
       "                require([\"plotly\"], function(Plotly) {\n",
       "                    window.PLOTLYENV=window.PLOTLYENV || {};\n",
       "                    window.PLOTLYENV.BASE_URL='https://plot.ly';\n",
       "                    \n",
       "                if (document.getElementById(\"a666fbf2-7eb8-4fd8-a9bd-48092a666449\")) {\n",
       "                    Plotly.newPlot(\n",
       "                        'a666fbf2-7eb8-4fd8-a9bd-48092a666449',\n",
       "                        [{\"marker\": {\"color\": \"rgba(255, 153, 51, 0.6)\", \"line\": {\"color\": \"rgba(255, 153, 51, 1.0)\", \"width\": 1}}, \"name\": \"count\", \"orientation\": \"v\", \"text\": \"\", \"type\": \"bar\", \"x\": [\"business\", \"loan\", \"sell\", \"year\", \"child\", \"buy\", \"work\", \"make\", \"product\", \"old\", \"help\", \"use\", \"family\", \"husband\", \"start\", \"home\", \"also\", \"live\", \"well\", \"small\", \"able\", \"hope\", \"customer\", \"community\", \"store\", \"purchase\", \"school\", \"good\", \"order\", \"new\", \"woman\", \"clothing\", \"increase\", \"need\", \"want\", \"income\", \"entrepreneur\", \"group\", \"people\", \"improve\", \"time\", \"money\", \"provide\", \"client\", \"first\", \"invest\", \"request\", \"grow\", \"life\", \"item\", \"continue\", \"support\", \"food\", \"go\", \"hard\", \"sale\", \"run\", \"house\", \"ago\", \"take\", \"clothe\", \"expand\", \"mother\", \"day\", \"offer\", \"give\", \"say\", \"education\", \"son\", \"receive\", \"plan\", \"member\", \"merchandise\", \"begin\", \"large\", \"marry\", \"shop\", \"profit\", \"allow\", \"open\", \"second\", \"currently\", \"get\", \"capital\", \"many\", \"keep\", \"wife\", \"shoe\", \"stock\", \"operate\", \"experience\", \"great\", \"goal\", \"young\", \"market\", \"age\", \"area\", \"supply\", \"attend\", \"would\"], \"y\": [1155, 959, 773, 638, 583, 423, 421, 351, 341, 340, 330, 322, 312, 310, 287, 271, 270, 266, 264, 261, 257, 222, 219, 213, 211, 209, 207, 204, 203, 198, 189, 188, 180, 169, 163, 161, 160, 154, 146, 145, 142, 142, 139, 137, 136, 135, 133, 129, 127, 125, 123, 122, 122, 120, 118, 118, 118, 117, 115, 115, 112, 112, 110, 104, 103, 102, 101, 98, 98, 98, 97, 93, 93, 91, 90, 90, 90, 85, 85, 85, 84, 82, 82, 82, 81, 81, 80, 79, 79, 76, 74, 71, 71, 70, 69, 69, 68, 67, 67, 67]}],\n",
       "                        {\"legend\": {\"bgcolor\": \"#F5F6F9\", \"font\": {\"color\": \"#4D5663\"}}, \"paper_bgcolor\": \"#F5F6F9\", \"plot_bgcolor\": \"#F5F6F9\", \"template\": {\"data\": {\"bar\": [{\"error_x\": {\"color\": \"#2a3f5f\"}, \"error_y\": {\"color\": \"#2a3f5f\"}, \"marker\": {\"line\": {\"color\": \"#E5ECF6\", \"width\": 0.5}}, \"type\": \"bar\"}], \"barpolar\": [{\"marker\": {\"line\": {\"color\": \"#E5ECF6\", \"width\": 0.5}}, \"type\": \"barpolar\"}], \"carpet\": [{\"aaxis\": {\"endlinecolor\": \"#2a3f5f\", \"gridcolor\": \"white\", \"linecolor\": \"white\", \"minorgridcolor\": \"white\", \"startlinecolor\": \"#2a3f5f\"}, \"baxis\": {\"endlinecolor\": \"#2a3f5f\", \"gridcolor\": \"white\", \"linecolor\": \"white\", \"minorgridcolor\": \"white\", \"startlinecolor\": \"#2a3f5f\"}, \"type\": \"carpet\"}], \"choropleth\": [{\"colorbar\": {\"outlinewidth\": 0, \"ticks\": \"\"}, \"type\": \"choropleth\"}], \"contour\": [{\"colorbar\": {\"outlinewidth\": 0, \"ticks\": \"\"}, \"colorscale\": [[0.0, \"#0d0887\"], [0.1111111111111111, \"#46039f\"], [0.2222222222222222, \"#7201a8\"], [0.3333333333333333, \"#9c179e\"], [0.4444444444444444, \"#bd3786\"], [0.5555555555555556, \"#d8576b\"], [0.6666666666666666, \"#ed7953\"], [0.7777777777777778, \"#fb9f3a\"], [0.8888888888888888, \"#fdca26\"], [1.0, \"#f0f921\"]], \"type\": \"contour\"}], \"contourcarpet\": [{\"colorbar\": {\"outlinewidth\": 0, \"ticks\": \"\"}, \"type\": \"contourcarpet\"}], \"heatmap\": [{\"colorbar\": {\"outlinewidth\": 0, \"ticks\": \"\"}, \"colorscale\": [[0.0, \"#0d0887\"], [0.1111111111111111, \"#46039f\"], [0.2222222222222222, \"#7201a8\"], [0.3333333333333333, \"#9c179e\"], [0.4444444444444444, \"#bd3786\"], [0.5555555555555556, \"#d8576b\"], [0.6666666666666666, \"#ed7953\"], [0.7777777777777778, \"#fb9f3a\"], [0.8888888888888888, \"#fdca26\"], [1.0, \"#f0f921\"]], \"type\": \"heatmap\"}], \"heatmapgl\": [{\"colorbar\": {\"outlinewidth\": 0, \"ticks\": \"\"}, \"colorscale\": [[0.0, \"#0d0887\"], [0.1111111111111111, \"#46039f\"], [0.2222222222222222, \"#7201a8\"], [0.3333333333333333, \"#9c179e\"], [0.4444444444444444, \"#bd3786\"], [0.5555555555555556, \"#d8576b\"], [0.6666666666666666, \"#ed7953\"], [0.7777777777777778, \"#fb9f3a\"], [0.8888888888888888, \"#fdca26\"], [1.0, \"#f0f921\"]], \"type\": \"heatmapgl\"}], \"histogram\": [{\"marker\": {\"colorbar\": {\"outlinewidth\": 0, \"ticks\": \"\"}}, \"type\": \"histogram\"}], \"histogram2d\": [{\"colorbar\": {\"outlinewidth\": 0, \"ticks\": \"\"}, \"colorscale\": [[0.0, \"#0d0887\"], [0.1111111111111111, \"#46039f\"], [0.2222222222222222, \"#7201a8\"], [0.3333333333333333, \"#9c179e\"], [0.4444444444444444, \"#bd3786\"], [0.5555555555555556, \"#d8576b\"], [0.6666666666666666, \"#ed7953\"], [0.7777777777777778, \"#fb9f3a\"], [0.8888888888888888, \"#fdca26\"], [1.0, \"#f0f921\"]], \"type\": \"histogram2d\"}], \"histogram2dcontour\": [{\"colorbar\": {\"outlinewidth\": 0, \"ticks\": \"\"}, \"colorscale\": [[0.0, \"#0d0887\"], [0.1111111111111111, \"#46039f\"], [0.2222222222222222, \"#7201a8\"], [0.3333333333333333, \"#9c179e\"], [0.4444444444444444, \"#bd3786\"], [0.5555555555555556, \"#d8576b\"], [0.6666666666666666, \"#ed7953\"], [0.7777777777777778, \"#fb9f3a\"], [0.8888888888888888, \"#fdca26\"], [1.0, \"#f0f921\"]], \"type\": \"histogram2dcontour\"}], \"mesh3d\": [{\"colorbar\": {\"outlinewidth\": 0, \"ticks\": \"\"}, \"type\": \"mesh3d\"}], \"parcoords\": [{\"line\": {\"colorbar\": {\"outlinewidth\": 0, \"ticks\": \"\"}}, \"type\": \"parcoords\"}], \"pie\": [{\"automargin\": true, \"type\": \"pie\"}], \"scatter\": [{\"marker\": {\"colorbar\": {\"outlinewidth\": 0, \"ticks\": \"\"}}, \"type\": \"scatter\"}], \"scatter3d\": [{\"line\": {\"colorbar\": {\"outlinewidth\": 0, \"ticks\": \"\"}}, \"marker\": {\"colorbar\": {\"outlinewidth\": 0, \"ticks\": \"\"}}, \"type\": \"scatter3d\"}], \"scattercarpet\": [{\"marker\": {\"colorbar\": {\"outlinewidth\": 0, \"ticks\": \"\"}}, \"type\": \"scattercarpet\"}], \"scattergeo\": [{\"marker\": {\"colorbar\": {\"outlinewidth\": 0, \"ticks\": \"\"}}, \"type\": \"scattergeo\"}], \"scattergl\": [{\"marker\": {\"colorbar\": {\"outlinewidth\": 0, \"ticks\": \"\"}}, \"type\": \"scattergl\"}], \"scattermapbox\": [{\"marker\": {\"colorbar\": {\"outlinewidth\": 0, \"ticks\": \"\"}}, \"type\": \"scattermapbox\"}], \"scatterpolar\": [{\"marker\": {\"colorbar\": {\"outlinewidth\": 0, \"ticks\": \"\"}}, \"type\": \"scatterpolar\"}], \"scatterpolargl\": [{\"marker\": {\"colorbar\": {\"outlinewidth\": 0, \"ticks\": \"\"}}, \"type\": \"scatterpolargl\"}], \"scatterternary\": [{\"marker\": {\"colorbar\": {\"outlinewidth\": 0, \"ticks\": \"\"}}, \"type\": \"scatterternary\"}], \"surface\": [{\"colorbar\": {\"outlinewidth\": 0, \"ticks\": \"\"}, \"colorscale\": [[0.0, \"#0d0887\"], [0.1111111111111111, \"#46039f\"], [0.2222222222222222, \"#7201a8\"], [0.3333333333333333, \"#9c179e\"], [0.4444444444444444, \"#bd3786\"], [0.5555555555555556, \"#d8576b\"], [0.6666666666666666, \"#ed7953\"], [0.7777777777777778, \"#fb9f3a\"], [0.8888888888888888, \"#fdca26\"], [1.0, \"#f0f921\"]], \"type\": \"surface\"}], \"table\": [{\"cells\": {\"fill\": {\"color\": \"#EBF0F8\"}, \"line\": {\"color\": \"white\"}}, \"header\": {\"fill\": {\"color\": \"#C8D4E3\"}, \"line\": {\"color\": \"white\"}}, \"type\": \"table\"}]}, \"layout\": {\"annotationdefaults\": {\"arrowcolor\": \"#2a3f5f\", \"arrowhead\": 0, \"arrowwidth\": 1}, \"coloraxis\": {\"colorbar\": {\"outlinewidth\": 0, \"ticks\": \"\"}}, \"colorscale\": {\"diverging\": [[0, \"#8e0152\"], [0.1, \"#c51b7d\"], [0.2, \"#de77ae\"], [0.3, \"#f1b6da\"], [0.4, \"#fde0ef\"], [0.5, \"#f7f7f7\"], [0.6, \"#e6f5d0\"], [0.7, \"#b8e186\"], [0.8, \"#7fbc41\"], [0.9, \"#4d9221\"], [1, \"#276419\"]], \"sequential\": [[0.0, \"#0d0887\"], [0.1111111111111111, \"#46039f\"], [0.2222222222222222, \"#7201a8\"], [0.3333333333333333, \"#9c179e\"], [0.4444444444444444, \"#bd3786\"], [0.5555555555555556, \"#d8576b\"], [0.6666666666666666, \"#ed7953\"], [0.7777777777777778, \"#fb9f3a\"], [0.8888888888888888, \"#fdca26\"], [1.0, \"#f0f921\"]], \"sequentialminus\": [[0.0, \"#0d0887\"], [0.1111111111111111, \"#46039f\"], [0.2222222222222222, \"#7201a8\"], [0.3333333333333333, \"#9c179e\"], [0.4444444444444444, \"#bd3786\"], [0.5555555555555556, \"#d8576b\"], [0.6666666666666666, \"#ed7953\"], [0.7777777777777778, \"#fb9f3a\"], [0.8888888888888888, \"#fdca26\"], [1.0, \"#f0f921\"]]}, \"colorway\": [\"#636efa\", \"#EF553B\", \"#00cc96\", \"#ab63fa\", \"#FFA15A\", \"#19d3f3\", \"#FF6692\", \"#B6E880\", \"#FF97FF\", \"#FECB52\"], \"font\": {\"color\": \"#2a3f5f\"}, \"geo\": {\"bgcolor\": \"white\", \"lakecolor\": \"white\", \"landcolor\": \"#E5ECF6\", \"showlakes\": true, \"showland\": true, \"subunitcolor\": \"white\"}, \"hoverlabel\": {\"align\": \"left\"}, \"hovermode\": \"closest\", \"mapbox\": {\"style\": \"light\"}, \"paper_bgcolor\": \"white\", \"plot_bgcolor\": \"#E5ECF6\", \"polar\": {\"angularaxis\": {\"gridcolor\": \"white\", \"linecolor\": \"white\", \"ticks\": \"\"}, \"bgcolor\": \"#E5ECF6\", \"radialaxis\": {\"gridcolor\": \"white\", \"linecolor\": \"white\", \"ticks\": \"\"}}, \"scene\": {\"xaxis\": {\"backgroundcolor\": \"#E5ECF6\", \"gridcolor\": \"white\", \"gridwidth\": 2, \"linecolor\": \"white\", \"showbackground\": true, \"ticks\": \"\", \"zerolinecolor\": \"white\"}, \"yaxis\": {\"backgroundcolor\": \"#E5ECF6\", \"gridcolor\": \"white\", \"gridwidth\": 2, \"linecolor\": \"white\", \"showbackground\": true, \"ticks\": \"\", \"zerolinecolor\": \"white\"}, \"zaxis\": {\"backgroundcolor\": \"#E5ECF6\", \"gridcolor\": \"white\", \"gridwidth\": 2, \"linecolor\": \"white\", \"showbackground\": true, \"ticks\": \"\", \"zerolinecolor\": \"white\"}}, \"shapedefaults\": {\"line\": {\"color\": \"#2a3f5f\"}}, \"ternary\": {\"aaxis\": {\"gridcolor\": \"white\", \"linecolor\": \"white\", \"ticks\": \"\"}, \"baxis\": {\"gridcolor\": \"white\", \"linecolor\": \"white\", \"ticks\": \"\"}, \"bgcolor\": \"#E5ECF6\", \"caxis\": {\"gridcolor\": \"white\", \"linecolor\": \"white\", \"ticks\": \"\"}}, \"title\": {\"x\": 0.05}, \"xaxis\": {\"automargin\": true, \"gridcolor\": \"white\", \"linecolor\": \"white\", \"ticks\": \"\", \"title\": {\"standoff\": 15}, \"zerolinecolor\": \"white\", \"zerolinewidth\": 2}, \"yaxis\": {\"automargin\": true, \"gridcolor\": \"white\", \"linecolor\": \"white\", \"ticks\": \"\", \"title\": {\"standoff\": 15}, \"zerolinecolor\": \"white\", \"zerolinewidth\": 2}}}, \"title\": {\"font\": {\"color\": \"#4D5663\"}, \"text\": \"Topic 1: Top 100 words after removing stop words\"}, \"xaxis\": {\"gridcolor\": \"#E1E5ED\", \"linecolor\": \"black\", \"showgrid\": true, \"tickfont\": {\"color\": \"#4D5663\"}, \"title\": {\"font\": {\"color\": \"#4D5663\"}, \"text\": \"\"}, \"zerolinecolor\": \"#E1E5ED\"}, \"yaxis\": {\"gridcolor\": \"#E1E5ED\", \"linecolor\": \"black\", \"showgrid\": true, \"tickfont\": {\"color\": \"#4D5663\"}, \"title\": {\"font\": {\"color\": \"#4D5663\"}, \"text\": \"Count\"}, \"zerolinecolor\": \"#E1E5ED\"}},\n",
       "                        {\"showLink\": true, \"linkText\": \"Export to plot.ly\", \"plotlyServerURL\": \"https://plot.ly\", \"responsive\": true}\n",
       "                    ).then(function(){\n",
       "                            \n",
       "var gd = document.getElementById('a666fbf2-7eb8-4fd8-a9bd-48092a666449');\n",
       "var x = new MutationObserver(function (mutations, observer) {{\n",
       "        var display = window.getComputedStyle(gd).display;\n",
       "        if (!display || display === 'none') {{\n",
       "            console.log([gd, 'removed!']);\n",
       "            Plotly.purge(gd);\n",
       "            observer.disconnect();\n",
       "        }}\n",
       "}});\n",
       "\n",
       "// Listen for the removal of the full notebook cells\n",
       "var notebookContainer = gd.closest('#notebook-container');\n",
       "if (notebookContainer) {{\n",
       "    x.observe(notebookContainer, {childList: true});\n",
       "}}\n",
       "\n",
       "// Listen for the clearing of the current output cell\n",
       "var outputEl = gd.closest('.output');\n",
       "if (outputEl) {{\n",
       "    x.observe(outputEl, {childList: true});\n",
       "}}\n",
       "\n",
       "                        })\n",
       "                };\n",
       "                });\n",
       "            </script>\n",
       "        </div>"
      ]
     },
     "metadata": {},
     "output_type": "display_data"
    }
   ],
   "source": [
    "plot_model(lda, plot='frequency', topic_num='Topic 1')"
   ]
  },
  {
   "cell_type": "code",
   "execution_count": 22,
   "metadata": {},
   "outputs": [
    {
     "data": {
      "text/html": [
       "        <script type=\"text/javascript\">\n",
       "        window.PlotlyConfig = {MathJaxConfig: 'local'};\n",
       "        if (window.MathJax) {MathJax.Hub.Config({SVG: {font: \"STIX-Web\"}});}\n",
       "        if (typeof require !== 'undefined') {\n",
       "        require.undef(\"plotly\");\n",
       "        requirejs.config({\n",
       "            paths: {\n",
       "                'plotly': ['https://cdn.plot.ly/plotly-latest.min']\n",
       "            }\n",
       "        });\n",
       "        require(['plotly'], function(Plotly) {\n",
       "            window._Plotly = Plotly;\n",
       "        });\n",
       "        }\n",
       "        </script>\n",
       "        "
      ]
     },
     "metadata": {},
     "output_type": "display_data"
    },
    {
     "data": {
      "application/vnd.plotly.v1+json": {
       "config": {
        "plotlyServerURL": "https://plot.ly"
       },
       "data": [
        {
         "alignmentgroup": "True",
         "customdata": [
          [
           "loan, child, business, school, year, buy, able, stock, pay, marry"
          ],
          [
           "business, loan, sell, year, child, work, buy, product, make, help"
          ],
          [
           "group, loan, member, water, woman, sell, make, come, must, strong"
          ],
          [
           "loan, rice, also, farmer, land, use, small, sector, many, area"
          ]
         ],
         "hoverlabel": {
          "namelength": 0
         },
         "hovertemplate": "Topic=%{x}<br>Documents=%{y}<br>Keyword=%{customdata[0]}",
         "legendgroup": "",
         "marker": {
          "color": "#636efa"
         },
         "name": "",
         "offsetgroup": "",
         "orientation": "v",
         "showlegend": false,
         "textposition": "auto",
         "type": "bar",
         "x": [
          "Topic 0",
          "Topic 1",
          "Topic 2",
          "Topic 3"
         ],
         "xaxis": "x",
         "y": [
          370,
          555,
          45,
          30
         ],
         "yaxis": "y"
        }
       ],
       "layout": {
        "barmode": "relative",
        "legend": {
         "tracegroupgap": 0
        },
        "template": {
         "data": {
          "bar": [
           {
            "error_x": {
             "color": "#2a3f5f"
            },
            "error_y": {
             "color": "#2a3f5f"
            },
            "marker": {
             "line": {
              "color": "#E5ECF6",
              "width": 0.5
             }
            },
            "type": "bar"
           }
          ],
          "barpolar": [
           {
            "marker": {
             "line": {
              "color": "#E5ECF6",
              "width": 0.5
             }
            },
            "type": "barpolar"
           }
          ],
          "carpet": [
           {
            "aaxis": {
             "endlinecolor": "#2a3f5f",
             "gridcolor": "white",
             "linecolor": "white",
             "minorgridcolor": "white",
             "startlinecolor": "#2a3f5f"
            },
            "baxis": {
             "endlinecolor": "#2a3f5f",
             "gridcolor": "white",
             "linecolor": "white",
             "minorgridcolor": "white",
             "startlinecolor": "#2a3f5f"
            },
            "type": "carpet"
           }
          ],
          "choropleth": [
           {
            "colorbar": {
             "outlinewidth": 0,
             "ticks": ""
            },
            "type": "choropleth"
           }
          ],
          "contour": [
           {
            "colorbar": {
             "outlinewidth": 0,
             "ticks": ""
            },
            "colorscale": [
             [
              0,
              "#0d0887"
             ],
             [
              0.1111111111111111,
              "#46039f"
             ],
             [
              0.2222222222222222,
              "#7201a8"
             ],
             [
              0.3333333333333333,
              "#9c179e"
             ],
             [
              0.4444444444444444,
              "#bd3786"
             ],
             [
              0.5555555555555556,
              "#d8576b"
             ],
             [
              0.6666666666666666,
              "#ed7953"
             ],
             [
              0.7777777777777778,
              "#fb9f3a"
             ],
             [
              0.8888888888888888,
              "#fdca26"
             ],
             [
              1,
              "#f0f921"
             ]
            ],
            "type": "contour"
           }
          ],
          "contourcarpet": [
           {
            "colorbar": {
             "outlinewidth": 0,
             "ticks": ""
            },
            "type": "contourcarpet"
           }
          ],
          "heatmap": [
           {
            "colorbar": {
             "outlinewidth": 0,
             "ticks": ""
            },
            "colorscale": [
             [
              0,
              "#0d0887"
             ],
             [
              0.1111111111111111,
              "#46039f"
             ],
             [
              0.2222222222222222,
              "#7201a8"
             ],
             [
              0.3333333333333333,
              "#9c179e"
             ],
             [
              0.4444444444444444,
              "#bd3786"
             ],
             [
              0.5555555555555556,
              "#d8576b"
             ],
             [
              0.6666666666666666,
              "#ed7953"
             ],
             [
              0.7777777777777778,
              "#fb9f3a"
             ],
             [
              0.8888888888888888,
              "#fdca26"
             ],
             [
              1,
              "#f0f921"
             ]
            ],
            "type": "heatmap"
           }
          ],
          "heatmapgl": [
           {
            "colorbar": {
             "outlinewidth": 0,
             "ticks": ""
            },
            "colorscale": [
             [
              0,
              "#0d0887"
             ],
             [
              0.1111111111111111,
              "#46039f"
             ],
             [
              0.2222222222222222,
              "#7201a8"
             ],
             [
              0.3333333333333333,
              "#9c179e"
             ],
             [
              0.4444444444444444,
              "#bd3786"
             ],
             [
              0.5555555555555556,
              "#d8576b"
             ],
             [
              0.6666666666666666,
              "#ed7953"
             ],
             [
              0.7777777777777778,
              "#fb9f3a"
             ],
             [
              0.8888888888888888,
              "#fdca26"
             ],
             [
              1,
              "#f0f921"
             ]
            ],
            "type": "heatmapgl"
           }
          ],
          "histogram": [
           {
            "marker": {
             "colorbar": {
              "outlinewidth": 0,
              "ticks": ""
             }
            },
            "type": "histogram"
           }
          ],
          "histogram2d": [
           {
            "colorbar": {
             "outlinewidth": 0,
             "ticks": ""
            },
            "colorscale": [
             [
              0,
              "#0d0887"
             ],
             [
              0.1111111111111111,
              "#46039f"
             ],
             [
              0.2222222222222222,
              "#7201a8"
             ],
             [
              0.3333333333333333,
              "#9c179e"
             ],
             [
              0.4444444444444444,
              "#bd3786"
             ],
             [
              0.5555555555555556,
              "#d8576b"
             ],
             [
              0.6666666666666666,
              "#ed7953"
             ],
             [
              0.7777777777777778,
              "#fb9f3a"
             ],
             [
              0.8888888888888888,
              "#fdca26"
             ],
             [
              1,
              "#f0f921"
             ]
            ],
            "type": "histogram2d"
           }
          ],
          "histogram2dcontour": [
           {
            "colorbar": {
             "outlinewidth": 0,
             "ticks": ""
            },
            "colorscale": [
             [
              0,
              "#0d0887"
             ],
             [
              0.1111111111111111,
              "#46039f"
             ],
             [
              0.2222222222222222,
              "#7201a8"
             ],
             [
              0.3333333333333333,
              "#9c179e"
             ],
             [
              0.4444444444444444,
              "#bd3786"
             ],
             [
              0.5555555555555556,
              "#d8576b"
             ],
             [
              0.6666666666666666,
              "#ed7953"
             ],
             [
              0.7777777777777778,
              "#fb9f3a"
             ],
             [
              0.8888888888888888,
              "#fdca26"
             ],
             [
              1,
              "#f0f921"
             ]
            ],
            "type": "histogram2dcontour"
           }
          ],
          "mesh3d": [
           {
            "colorbar": {
             "outlinewidth": 0,
             "ticks": ""
            },
            "type": "mesh3d"
           }
          ],
          "parcoords": [
           {
            "line": {
             "colorbar": {
              "outlinewidth": 0,
              "ticks": ""
             }
            },
            "type": "parcoords"
           }
          ],
          "pie": [
           {
            "automargin": true,
            "type": "pie"
           }
          ],
          "scatter": [
           {
            "marker": {
             "colorbar": {
              "outlinewidth": 0,
              "ticks": ""
             }
            },
            "type": "scatter"
           }
          ],
          "scatter3d": [
           {
            "line": {
             "colorbar": {
              "outlinewidth": 0,
              "ticks": ""
             }
            },
            "marker": {
             "colorbar": {
              "outlinewidth": 0,
              "ticks": ""
             }
            },
            "type": "scatter3d"
           }
          ],
          "scattercarpet": [
           {
            "marker": {
             "colorbar": {
              "outlinewidth": 0,
              "ticks": ""
             }
            },
            "type": "scattercarpet"
           }
          ],
          "scattergeo": [
           {
            "marker": {
             "colorbar": {
              "outlinewidth": 0,
              "ticks": ""
             }
            },
            "type": "scattergeo"
           }
          ],
          "scattergl": [
           {
            "marker": {
             "colorbar": {
              "outlinewidth": 0,
              "ticks": ""
             }
            },
            "type": "scattergl"
           }
          ],
          "scattermapbox": [
           {
            "marker": {
             "colorbar": {
              "outlinewidth": 0,
              "ticks": ""
             }
            },
            "type": "scattermapbox"
           }
          ],
          "scatterpolar": [
           {
            "marker": {
             "colorbar": {
              "outlinewidth": 0,
              "ticks": ""
             }
            },
            "type": "scatterpolar"
           }
          ],
          "scatterpolargl": [
           {
            "marker": {
             "colorbar": {
              "outlinewidth": 0,
              "ticks": ""
             }
            },
            "type": "scatterpolargl"
           }
          ],
          "scatterternary": [
           {
            "marker": {
             "colorbar": {
              "outlinewidth": 0,
              "ticks": ""
             }
            },
            "type": "scatterternary"
           }
          ],
          "surface": [
           {
            "colorbar": {
             "outlinewidth": 0,
             "ticks": ""
            },
            "colorscale": [
             [
              0,
              "#0d0887"
             ],
             [
              0.1111111111111111,
              "#46039f"
             ],
             [
              0.2222222222222222,
              "#7201a8"
             ],
             [
              0.3333333333333333,
              "#9c179e"
             ],
             [
              0.4444444444444444,
              "#bd3786"
             ],
             [
              0.5555555555555556,
              "#d8576b"
             ],
             [
              0.6666666666666666,
              "#ed7953"
             ],
             [
              0.7777777777777778,
              "#fb9f3a"
             ],
             [
              0.8888888888888888,
              "#fdca26"
             ],
             [
              1,
              "#f0f921"
             ]
            ],
            "type": "surface"
           }
          ],
          "table": [
           {
            "cells": {
             "fill": {
              "color": "#EBF0F8"
             },
             "line": {
              "color": "white"
             }
            },
            "header": {
             "fill": {
              "color": "#C8D4E3"
             },
             "line": {
              "color": "white"
             }
            },
            "type": "table"
           }
          ]
         },
         "layout": {
          "annotationdefaults": {
           "arrowcolor": "#2a3f5f",
           "arrowhead": 0,
           "arrowwidth": 1
          },
          "coloraxis": {
           "colorbar": {
            "outlinewidth": 0,
            "ticks": ""
           }
          },
          "colorscale": {
           "diverging": [
            [
             0,
             "#8e0152"
            ],
            [
             0.1,
             "#c51b7d"
            ],
            [
             0.2,
             "#de77ae"
            ],
            [
             0.3,
             "#f1b6da"
            ],
            [
             0.4,
             "#fde0ef"
            ],
            [
             0.5,
             "#f7f7f7"
            ],
            [
             0.6,
             "#e6f5d0"
            ],
            [
             0.7,
             "#b8e186"
            ],
            [
             0.8,
             "#7fbc41"
            ],
            [
             0.9,
             "#4d9221"
            ],
            [
             1,
             "#276419"
            ]
           ],
           "sequential": [
            [
             0,
             "#0d0887"
            ],
            [
             0.1111111111111111,
             "#46039f"
            ],
            [
             0.2222222222222222,
             "#7201a8"
            ],
            [
             0.3333333333333333,
             "#9c179e"
            ],
            [
             0.4444444444444444,
             "#bd3786"
            ],
            [
             0.5555555555555556,
             "#d8576b"
            ],
            [
             0.6666666666666666,
             "#ed7953"
            ],
            [
             0.7777777777777778,
             "#fb9f3a"
            ],
            [
             0.8888888888888888,
             "#fdca26"
            ],
            [
             1,
             "#f0f921"
            ]
           ],
           "sequentialminus": [
            [
             0,
             "#0d0887"
            ],
            [
             0.1111111111111111,
             "#46039f"
            ],
            [
             0.2222222222222222,
             "#7201a8"
            ],
            [
             0.3333333333333333,
             "#9c179e"
            ],
            [
             0.4444444444444444,
             "#bd3786"
            ],
            [
             0.5555555555555556,
             "#d8576b"
            ],
            [
             0.6666666666666666,
             "#ed7953"
            ],
            [
             0.7777777777777778,
             "#fb9f3a"
            ],
            [
             0.8888888888888888,
             "#fdca26"
            ],
            [
             1,
             "#f0f921"
            ]
           ]
          },
          "colorway": [
           "#636efa",
           "#EF553B",
           "#00cc96",
           "#ab63fa",
           "#FFA15A",
           "#19d3f3",
           "#FF6692",
           "#B6E880",
           "#FF97FF",
           "#FECB52"
          ],
          "font": {
           "color": "#2a3f5f"
          },
          "geo": {
           "bgcolor": "white",
           "lakecolor": "white",
           "landcolor": "#E5ECF6",
           "showlakes": true,
           "showland": true,
           "subunitcolor": "white"
          },
          "hoverlabel": {
           "align": "left"
          },
          "hovermode": "closest",
          "mapbox": {
           "style": "light"
          },
          "paper_bgcolor": "white",
          "plot_bgcolor": "#E5ECF6",
          "polar": {
           "angularaxis": {
            "gridcolor": "white",
            "linecolor": "white",
            "ticks": ""
           },
           "bgcolor": "#E5ECF6",
           "radialaxis": {
            "gridcolor": "white",
            "linecolor": "white",
            "ticks": ""
           }
          },
          "scene": {
           "xaxis": {
            "backgroundcolor": "#E5ECF6",
            "gridcolor": "white",
            "gridwidth": 2,
            "linecolor": "white",
            "showbackground": true,
            "ticks": "",
            "zerolinecolor": "white"
           },
           "yaxis": {
            "backgroundcolor": "#E5ECF6",
            "gridcolor": "white",
            "gridwidth": 2,
            "linecolor": "white",
            "showbackground": true,
            "ticks": "",
            "zerolinecolor": "white"
           },
           "zaxis": {
            "backgroundcolor": "#E5ECF6",
            "gridcolor": "white",
            "gridwidth": 2,
            "linecolor": "white",
            "showbackground": true,
            "ticks": "",
            "zerolinecolor": "white"
           }
          },
          "shapedefaults": {
           "line": {
            "color": "#2a3f5f"
           }
          },
          "ternary": {
           "aaxis": {
            "gridcolor": "white",
            "linecolor": "white",
            "ticks": ""
           },
           "baxis": {
            "gridcolor": "white",
            "linecolor": "white",
            "ticks": ""
           },
           "bgcolor": "#E5ECF6",
           "caxis": {
            "gridcolor": "white",
            "linecolor": "white",
            "ticks": ""
           }
          },
          "title": {
           "x": 0.05
          },
          "xaxis": {
           "automargin": true,
           "gridcolor": "white",
           "linecolor": "white",
           "ticks": "",
           "title": {
            "standoff": 15
           },
           "zerolinecolor": "white",
           "zerolinewidth": 2
          },
          "yaxis": {
           "automargin": true,
           "gridcolor": "white",
           "linecolor": "white",
           "ticks": "",
           "title": {
            "standoff": 15
           },
           "zerolinecolor": "white",
           "zerolinewidth": 2
          }
         }
        },
        "title": {
         "text": "Document Distribution by Topics"
        },
        "xaxis": {
         "anchor": "y",
         "domain": [
          0,
          1
         ],
         "title": {
          "text": "Topic"
         }
        },
        "yaxis": {
         "anchor": "x",
         "domain": [
          0,
          1
         ],
         "title": {
          "text": "Documents"
         }
        }
       }
      },
      "text/html": [
       "<div>\n",
       "        \n",
       "        \n",
       "            <div id=\"7947832f-0bc1-49d2-9a3a-66263bd1717c\" class=\"plotly-graph-div\" style=\"height:525px; width:100%;\"></div>\n",
       "            <script type=\"text/javascript\">\n",
       "                require([\"plotly\"], function(Plotly) {\n",
       "                    window.PLOTLYENV=window.PLOTLYENV || {};\n",
       "                    \n",
       "                if (document.getElementById(\"7947832f-0bc1-49d2-9a3a-66263bd1717c\")) {\n",
       "                    Plotly.newPlot(\n",
       "                        '7947832f-0bc1-49d2-9a3a-66263bd1717c',\n",
       "                        [{\"alignmentgroup\": \"True\", \"customdata\": [[\"loan, child, business, school, year, buy, able, stock, pay, marry\"], [\"business, loan, sell, year, child, work, buy, product, make, help\"], [\"group, loan, member, water, woman, sell, make, come, must, strong\"], [\"loan, rice, also, farmer, land, use, small, sector, many, area\"]], \"hoverlabel\": {\"namelength\": 0}, \"hovertemplate\": \"Topic=%{x}<br>Documents=%{y}<br>Keyword=%{customdata[0]}\", \"legendgroup\": \"\", \"marker\": {\"color\": \"#636efa\"}, \"name\": \"\", \"offsetgroup\": \"\", \"orientation\": \"v\", \"showlegend\": false, \"textposition\": \"auto\", \"type\": \"bar\", \"x\": [\"Topic 0\", \"Topic 1\", \"Topic 2\", \"Topic 3\"], \"xaxis\": \"x\", \"y\": [370, 555, 45, 30], \"yaxis\": \"y\"}],\n",
       "                        {\"barmode\": \"relative\", \"legend\": {\"tracegroupgap\": 0}, \"template\": {\"data\": {\"bar\": [{\"error_x\": {\"color\": \"#2a3f5f\"}, \"error_y\": {\"color\": \"#2a3f5f\"}, \"marker\": {\"line\": {\"color\": \"#E5ECF6\", \"width\": 0.5}}, \"type\": \"bar\"}], \"barpolar\": [{\"marker\": {\"line\": {\"color\": \"#E5ECF6\", \"width\": 0.5}}, \"type\": \"barpolar\"}], \"carpet\": [{\"aaxis\": {\"endlinecolor\": \"#2a3f5f\", \"gridcolor\": \"white\", \"linecolor\": \"white\", \"minorgridcolor\": \"white\", \"startlinecolor\": \"#2a3f5f\"}, \"baxis\": {\"endlinecolor\": \"#2a3f5f\", \"gridcolor\": \"white\", \"linecolor\": \"white\", \"minorgridcolor\": \"white\", \"startlinecolor\": \"#2a3f5f\"}, \"type\": \"carpet\"}], \"choropleth\": [{\"colorbar\": {\"outlinewidth\": 0, \"ticks\": \"\"}, \"type\": \"choropleth\"}], \"contour\": [{\"colorbar\": {\"outlinewidth\": 0, \"ticks\": \"\"}, \"colorscale\": [[0.0, \"#0d0887\"], [0.1111111111111111, \"#46039f\"], [0.2222222222222222, \"#7201a8\"], [0.3333333333333333, \"#9c179e\"], [0.4444444444444444, \"#bd3786\"], [0.5555555555555556, \"#d8576b\"], [0.6666666666666666, \"#ed7953\"], [0.7777777777777778, \"#fb9f3a\"], [0.8888888888888888, \"#fdca26\"], [1.0, \"#f0f921\"]], \"type\": \"contour\"}], \"contourcarpet\": [{\"colorbar\": {\"outlinewidth\": 0, \"ticks\": \"\"}, \"type\": \"contourcarpet\"}], \"heatmap\": [{\"colorbar\": {\"outlinewidth\": 0, \"ticks\": \"\"}, \"colorscale\": [[0.0, \"#0d0887\"], [0.1111111111111111, \"#46039f\"], [0.2222222222222222, \"#7201a8\"], [0.3333333333333333, \"#9c179e\"], [0.4444444444444444, \"#bd3786\"], [0.5555555555555556, \"#d8576b\"], [0.6666666666666666, \"#ed7953\"], [0.7777777777777778, \"#fb9f3a\"], [0.8888888888888888, \"#fdca26\"], [1.0, \"#f0f921\"]], \"type\": \"heatmap\"}], \"heatmapgl\": [{\"colorbar\": {\"outlinewidth\": 0, \"ticks\": \"\"}, \"colorscale\": [[0.0, \"#0d0887\"], [0.1111111111111111, \"#46039f\"], [0.2222222222222222, \"#7201a8\"], [0.3333333333333333, \"#9c179e\"], [0.4444444444444444, \"#bd3786\"], [0.5555555555555556, \"#d8576b\"], [0.6666666666666666, \"#ed7953\"], [0.7777777777777778, \"#fb9f3a\"], [0.8888888888888888, \"#fdca26\"], [1.0, \"#f0f921\"]], \"type\": \"heatmapgl\"}], \"histogram\": [{\"marker\": {\"colorbar\": {\"outlinewidth\": 0, \"ticks\": \"\"}}, \"type\": \"histogram\"}], \"histogram2d\": [{\"colorbar\": {\"outlinewidth\": 0, \"ticks\": \"\"}, \"colorscale\": [[0.0, \"#0d0887\"], [0.1111111111111111, \"#46039f\"], [0.2222222222222222, \"#7201a8\"], [0.3333333333333333, \"#9c179e\"], [0.4444444444444444, \"#bd3786\"], [0.5555555555555556, \"#d8576b\"], [0.6666666666666666, \"#ed7953\"], [0.7777777777777778, \"#fb9f3a\"], [0.8888888888888888, \"#fdca26\"], [1.0, \"#f0f921\"]], \"type\": \"histogram2d\"}], \"histogram2dcontour\": [{\"colorbar\": {\"outlinewidth\": 0, \"ticks\": \"\"}, \"colorscale\": [[0.0, \"#0d0887\"], [0.1111111111111111, \"#46039f\"], [0.2222222222222222, \"#7201a8\"], [0.3333333333333333, \"#9c179e\"], [0.4444444444444444, \"#bd3786\"], [0.5555555555555556, \"#d8576b\"], [0.6666666666666666, \"#ed7953\"], [0.7777777777777778, \"#fb9f3a\"], [0.8888888888888888, \"#fdca26\"], [1.0, \"#f0f921\"]], \"type\": \"histogram2dcontour\"}], \"mesh3d\": [{\"colorbar\": {\"outlinewidth\": 0, \"ticks\": \"\"}, \"type\": \"mesh3d\"}], \"parcoords\": [{\"line\": {\"colorbar\": {\"outlinewidth\": 0, \"ticks\": \"\"}}, \"type\": \"parcoords\"}], \"pie\": [{\"automargin\": true, \"type\": \"pie\"}], \"scatter\": [{\"marker\": {\"colorbar\": {\"outlinewidth\": 0, \"ticks\": \"\"}}, \"type\": \"scatter\"}], \"scatter3d\": [{\"line\": {\"colorbar\": {\"outlinewidth\": 0, \"ticks\": \"\"}}, \"marker\": {\"colorbar\": {\"outlinewidth\": 0, \"ticks\": \"\"}}, \"type\": \"scatter3d\"}], \"scattercarpet\": [{\"marker\": {\"colorbar\": {\"outlinewidth\": 0, \"ticks\": \"\"}}, \"type\": \"scattercarpet\"}], \"scattergeo\": [{\"marker\": {\"colorbar\": {\"outlinewidth\": 0, \"ticks\": \"\"}}, \"type\": \"scattergeo\"}], \"scattergl\": [{\"marker\": {\"colorbar\": {\"outlinewidth\": 0, \"ticks\": \"\"}}, \"type\": \"scattergl\"}], \"scattermapbox\": [{\"marker\": {\"colorbar\": {\"outlinewidth\": 0, \"ticks\": \"\"}}, \"type\": \"scattermapbox\"}], \"scatterpolar\": [{\"marker\": {\"colorbar\": {\"outlinewidth\": 0, \"ticks\": \"\"}}, \"type\": \"scatterpolar\"}], \"scatterpolargl\": [{\"marker\": {\"colorbar\": {\"outlinewidth\": 0, \"ticks\": \"\"}}, \"type\": \"scatterpolargl\"}], \"scatterternary\": [{\"marker\": {\"colorbar\": {\"outlinewidth\": 0, \"ticks\": \"\"}}, \"type\": \"scatterternary\"}], \"surface\": [{\"colorbar\": {\"outlinewidth\": 0, \"ticks\": \"\"}, \"colorscale\": [[0.0, \"#0d0887\"], [0.1111111111111111, \"#46039f\"], [0.2222222222222222, \"#7201a8\"], [0.3333333333333333, \"#9c179e\"], [0.4444444444444444, \"#bd3786\"], [0.5555555555555556, \"#d8576b\"], [0.6666666666666666, \"#ed7953\"], [0.7777777777777778, \"#fb9f3a\"], [0.8888888888888888, \"#fdca26\"], [1.0, \"#f0f921\"]], \"type\": \"surface\"}], \"table\": [{\"cells\": {\"fill\": {\"color\": \"#EBF0F8\"}, \"line\": {\"color\": \"white\"}}, \"header\": {\"fill\": {\"color\": \"#C8D4E3\"}, \"line\": {\"color\": \"white\"}}, \"type\": \"table\"}]}, \"layout\": {\"annotationdefaults\": {\"arrowcolor\": \"#2a3f5f\", \"arrowhead\": 0, \"arrowwidth\": 1}, \"coloraxis\": {\"colorbar\": {\"outlinewidth\": 0, \"ticks\": \"\"}}, \"colorscale\": {\"diverging\": [[0, \"#8e0152\"], [0.1, \"#c51b7d\"], [0.2, \"#de77ae\"], [0.3, \"#f1b6da\"], [0.4, \"#fde0ef\"], [0.5, \"#f7f7f7\"], [0.6, \"#e6f5d0\"], [0.7, \"#b8e186\"], [0.8, \"#7fbc41\"], [0.9, \"#4d9221\"], [1, \"#276419\"]], \"sequential\": [[0.0, \"#0d0887\"], [0.1111111111111111, \"#46039f\"], [0.2222222222222222, \"#7201a8\"], [0.3333333333333333, \"#9c179e\"], [0.4444444444444444, \"#bd3786\"], [0.5555555555555556, \"#d8576b\"], [0.6666666666666666, \"#ed7953\"], [0.7777777777777778, \"#fb9f3a\"], [0.8888888888888888, \"#fdca26\"], [1.0, \"#f0f921\"]], \"sequentialminus\": [[0.0, \"#0d0887\"], [0.1111111111111111, \"#46039f\"], [0.2222222222222222, \"#7201a8\"], [0.3333333333333333, \"#9c179e\"], [0.4444444444444444, \"#bd3786\"], [0.5555555555555556, \"#d8576b\"], [0.6666666666666666, \"#ed7953\"], [0.7777777777777778, \"#fb9f3a\"], [0.8888888888888888, \"#fdca26\"], [1.0, \"#f0f921\"]]}, \"colorway\": [\"#636efa\", \"#EF553B\", \"#00cc96\", \"#ab63fa\", \"#FFA15A\", \"#19d3f3\", \"#FF6692\", \"#B6E880\", \"#FF97FF\", \"#FECB52\"], \"font\": {\"color\": \"#2a3f5f\"}, \"geo\": {\"bgcolor\": \"white\", \"lakecolor\": \"white\", \"landcolor\": \"#E5ECF6\", \"showlakes\": true, \"showland\": true, \"subunitcolor\": \"white\"}, \"hoverlabel\": {\"align\": \"left\"}, \"hovermode\": \"closest\", \"mapbox\": {\"style\": \"light\"}, \"paper_bgcolor\": \"white\", \"plot_bgcolor\": \"#E5ECF6\", \"polar\": {\"angularaxis\": {\"gridcolor\": \"white\", \"linecolor\": \"white\", \"ticks\": \"\"}, \"bgcolor\": \"#E5ECF6\", \"radialaxis\": {\"gridcolor\": \"white\", \"linecolor\": \"white\", \"ticks\": \"\"}}, \"scene\": {\"xaxis\": {\"backgroundcolor\": \"#E5ECF6\", \"gridcolor\": \"white\", \"gridwidth\": 2, \"linecolor\": \"white\", \"showbackground\": true, \"ticks\": \"\", \"zerolinecolor\": \"white\"}, \"yaxis\": {\"backgroundcolor\": \"#E5ECF6\", \"gridcolor\": \"white\", \"gridwidth\": 2, \"linecolor\": \"white\", \"showbackground\": true, \"ticks\": \"\", \"zerolinecolor\": \"white\"}, \"zaxis\": {\"backgroundcolor\": \"#E5ECF6\", \"gridcolor\": \"white\", \"gridwidth\": 2, \"linecolor\": \"white\", \"showbackground\": true, \"ticks\": \"\", \"zerolinecolor\": \"white\"}}, \"shapedefaults\": {\"line\": {\"color\": \"#2a3f5f\"}}, \"ternary\": {\"aaxis\": {\"gridcolor\": \"white\", \"linecolor\": \"white\", \"ticks\": \"\"}, \"baxis\": {\"gridcolor\": \"white\", \"linecolor\": \"white\", \"ticks\": \"\"}, \"bgcolor\": \"#E5ECF6\", \"caxis\": {\"gridcolor\": \"white\", \"linecolor\": \"white\", \"ticks\": \"\"}}, \"title\": {\"x\": 0.05}, \"xaxis\": {\"automargin\": true, \"gridcolor\": \"white\", \"linecolor\": \"white\", \"ticks\": \"\", \"title\": {\"standoff\": 15}, \"zerolinecolor\": \"white\", \"zerolinewidth\": 2}, \"yaxis\": {\"automargin\": true, \"gridcolor\": \"white\", \"linecolor\": \"white\", \"ticks\": \"\", \"title\": {\"standoff\": 15}, \"zerolinecolor\": \"white\", \"zerolinewidth\": 2}}}, \"title\": {\"text\": \"Document Distribution by Topics\"}, \"xaxis\": {\"anchor\": \"y\", \"domain\": [0.0, 1.0], \"title\": {\"text\": \"Topic\"}}, \"yaxis\": {\"anchor\": \"x\", \"domain\": [0.0, 1.0], \"title\": {\"text\": \"Documents\"}}},\n",
       "                        {\"responsive\": true}\n",
       "                    ).then(function(){\n",
       "                            \n",
       "var gd = document.getElementById('7947832f-0bc1-49d2-9a3a-66263bd1717c');\n",
       "var x = new MutationObserver(function (mutations, observer) {{\n",
       "        var display = window.getComputedStyle(gd).display;\n",
       "        if (!display || display === 'none') {{\n",
       "            console.log([gd, 'removed!']);\n",
       "            Plotly.purge(gd);\n",
       "            observer.disconnect();\n",
       "        }}\n",
       "}});\n",
       "\n",
       "// Listen for the removal of the full notebook cells\n",
       "var notebookContainer = gd.closest('#notebook-container');\n",
       "if (notebookContainer) {{\n",
       "    x.observe(notebookContainer, {childList: true});\n",
       "}}\n",
       "\n",
       "// Listen for the clearing of the current output cell\n",
       "var outputEl = gd.closest('.output');\n",
       "if (outputEl) {{\n",
       "    x.observe(outputEl, {childList: true});\n",
       "}}\n",
       "\n",
       "                        })\n",
       "                };\n",
       "                });\n",
       "            </script>\n",
       "        </div>"
      ]
     },
     "metadata": {},
     "output_type": "display_data"
    }
   ],
   "source": [
    "plot_model(lda, plot='topic_distribution')"
   ]
  },
  {
   "cell_type": "code",
   "execution_count": 24,
   "metadata": {},
   "outputs": [
    {
     "data": {
      "text/html": [
       "        <script type=\"text/javascript\">\n",
       "        window.PlotlyConfig = {MathJaxConfig: 'local'};\n",
       "        if (window.MathJax) {MathJax.Hub.Config({SVG: {font: \"STIX-Web\"}});}\n",
       "        if (typeof require !== 'undefined') {\n",
       "        require.undef(\"plotly\");\n",
       "        requirejs.config({\n",
       "            paths: {\n",
       "                'plotly': ['https://cdn.plot.ly/plotly-latest.min']\n",
       "            }\n",
       "        });\n",
       "        require(['plotly'], function(Plotly) {\n",
       "            window._Plotly = Plotly;\n",
       "        });\n",
       "        }\n",
       "        </script>\n",
       "        "
      ]
     },
     "metadata": {},
     "output_type": "display_data"
    },
    {
     "data": {
      "application/vnd.plotly.v1+json": {
       "config": {
        "plotlyServerURL": "https://plot.ly"
       },
       "data": [
        {
         "hoverlabel": {
          "namelength": 0
         },
         "hovertemplate": "Dominant_Topic=Topic 0<br>0=%{x}<br>1=%{y}<br>2=%{z}",
         "legendgroup": "Dominant_Topic=Topic 0",
         "marker": {
          "color": "#636efa",
          "opacity": 0.7,
          "symbol": "circle"
         },
         "mode": "markers",
         "name": "Dominant_Topic=Topic 0",
         "scene": "scene",
         "showlegend": true,
         "type": "scatter3d",
         "x": [
          8.82410717010498,
          8.309319496154785,
          4.961167812347412,
          7.421757698059082,
          11.200614929199219,
          2.711590528488159,
          2.9687957763671875,
          5.914923191070557,
          10.964273452758789,
          8.71554183959961,
          10.353028297424316,
          2.693427562713623,
          10.179801940917969,
          4.967187404632568,
          9.236762046813965,
          5.208815097808838,
          10.97789192199707,
          6.193351745605469,
          7.286085605621338,
          3.0200726985931396,
          6.666998863220215,
          6.689754962921143,
          1.4015027284622192,
          4.719844341278076,
          2.7352402210235596,
          2.802651882171631,
          3.838789463043213,
          11.196527481079102,
          -0.016460822895169258,
          1.311339259147644,
          9.831135749816895,
          10.447000503540039,
          6.944450855255127,
          1.8762608766555786,
          3.898258686065674,
          2.7130215167999268,
          3.72021484375,
          2.6386027336120605,
          8.225456237792969,
          5.944087028503418,
          3.3596949577331543,
          8.8402099609375,
          3.9574878215789795,
          9.781208992004395,
          1.4246619939804077,
          1.833988904953003,
          9.463788032531738,
          4.480719089508057,
          11.242729187011719,
          10.741313934326172,
          3.0456438064575195,
          11.154220581054688,
          5.399024486541748,
          5.823671340942383,
          3.092833995819092,
          2.6661436557769775,
          9.008825302124023,
          1.4700485467910767,
          4.062566757202148,
          11.00787353515625,
          6.799977779388428,
          8.010839462280273,
          8.314674377441406,
          0.36007997393608093,
          8.052845001220703,
          2.773956298828125,
          4.253849029541016,
          6.939769268035889,
          2.0748491287231445,
          6.890140533447266,
          5.135485649108887,
          11.14472484588623,
          10.735639572143555,
          10.704865455627441,
          10.865797996520996,
          10.05664348602295,
          8.813084602355957,
          5.162111759185791,
          4.781247615814209,
          9.523787498474121,
          8.415671348571777,
          2.494384288787842,
          6.862563610076904,
          9.889816284179688,
          11.238642692565918,
          -0.04609274864196777,
          11.257458686828613,
          1.1989390850067139,
          9.98659610748291,
          -0.3565630614757538,
          -0.026824040338397026,
          2.6677792072296143,
          2.6394999027252197,
          7.720433712005615,
          9.526719093322754,
          9.867914199829102,
          3.260362386703491,
          6.031311511993408,
          5.996923446655273,
          9.654133796691895,
          7.369534015655518,
          4.91148042678833,
          9.965354919433594,
          4.5526652336120605,
          6.074493408203125,
          11.19654655456543,
          10.071627616882324,
          6.877246379852295,
          4.630281448364258,
          8.291478157043457,
          4.484450817108154,
          6.517310619354248,
          6.5598978996276855,
          4.716686725616455,
          1.167924404144287,
          10.228923797607422,
          3.1955466270446777,
          1.5889201164245605,
          5.986622333526611,
          6.773880481719971,
          1.923329472541809,
          3.9595255851745605,
          2.3011255264282227,
          6.646480083465576,
          1.3203399181365967,
          8.868813514709473,
          4.066174507141113,
          6.097874164581299,
          3.7836761474609375,
          3.587463855743408,
          4.338183879852295,
          2.0130507946014404,
          0.4056202471256256,
          1.4878144264221191,
          4.342586994171143,
          8.630208969116211,
          9.266424179077148,
          10.893470764160156,
          6.704528331756592,
          4.2444024085998535,
          9.828404426574707,
          1.6870813369750977,
          9.905821800231934,
          9.742351531982422,
          10.419532775878906,
          7.129923343658447,
          0.24782611429691315,
          5.767327308654785,
          10.477930068969727,
          7.038433074951172,
          9.69041633605957,
          7.569849014282227,
          10.017340660095215,
          6.870863914489746,
          7.182999134063721,
          5.791673183441162,
          3.838064670562744,
          1.9176535606384277,
          6.145909309387207,
          2.1888489723205566,
          8.653667449951172,
          2.3702070713043213,
          2.216547727584839,
          5.5533881187438965,
          4.33357572555542,
          5.109400749206543,
          5.935574531555176,
          1.7954325675964355,
          10.379338264465332,
          6.127901554107666,
          1.8268412351608276,
          4.528600692749023,
          11.21944808959961,
          5.050381183624268,
          2.5209414958953857,
          3.7150657176971436,
          7.4493842124938965,
          7.3632917404174805,
          0.9443365931510925,
          5.931511402130127,
          10.375480651855469,
          10.597367286682129,
          4.491952419281006,
          7.453882217407227,
          10.831893920898438,
          7.010751724243164,
          1.9480007886886597,
          4.447561740875244,
          9.784039497375488,
          6.312600135803223,
          1.5378084182739258,
          2.673339366912842,
          3.5764849185943604,
          4.4766411781311035,
          4.576615810394287,
          1.4809092283248901,
          9.42802619934082,
          6.634059429168701,
          2.0817127227783203,
          8.689494132995605,
          5.399964332580566,
          1.8608072996139526,
          6.749382019042969,
          7.60881233215332,
          1.6999684572219849,
          2.8415307998657227,
          2.273165225982666,
          7.135018348693848,
          2.471137523651123,
          11.217622756958008,
          3.587085247039795,
          9.933597564697266,
          2.6422088146209717,
          -0.3192973732948303,
          4.0628814697265625,
          1.1891812086105347,
          3.4893007278442383,
          3.0532913208007812,
          10.74231243133545,
          -0.01397608406841755,
          4.467550277709961,
          0.6655360460281372,
          2.0461745262145996,
          6.6070027351379395,
          8.7445068359375,
          10.774161338806152,
          4.255800247192383,
          9.368828773498535,
          8.883033752441406,
          7.925760269165039,
          6.562544345855713,
          6.262261867523193,
          9.805136680603027,
          8.288801193237305,
          2.59009051322937,
          10.85799789428711,
          10.54041576385498,
          9.805486679077148,
          2.848710775375366,
          10.836246490478516,
          6.56464958190918,
          9.468474388122559,
          9.236072540283203,
          5.825530529022217,
          1.191416621208191,
          2.6270666122436523,
          -0.10706476122140884,
          2.6168806552886963,
          3.3772292137145996,
          7.774252891540527,
          2.1780834197998047,
          9.551562309265137,
          10.787214279174805,
          1.3752957582473755,
          6.380014896392822,
          4.819633960723877,
          6.980767726898193,
          7.878673553466797,
          3.915391206741333,
          7.50518798828125,
          11.160761833190918,
          8.253643989562988,
          2.3580455780029297,
          -0.23764266073703766,
          9.820134162902832,
          5.9777750968933105,
          1.793005347251892,
          2.807830572128296,
          6.614719867706299,
          8.496551513671875,
          10.495515823364258,
          1.3190010786056519,
          -0.025107668712735176,
          3.6393542289733887,
          2.517735481262207,
          0.34228208661079407,
          4.576102256774902,
          8.71423625946045,
          3.706097364425659,
          9.583868980407715,
          0.37221571803092957,
          9.754319190979004,
          9.51834487915039,
          8.699806213378906,
          8.417315483093262,
          10.598440170288086,
          7.078758716583252,
          2.827573776245117,
          5.095713138580322,
          6.571194648742676,
          2.704270601272583,
          10.432149887084961,
          9.6844482421875,
          3.0892140865325928,
          3.6551525592803955,
          -0.3471086621284485,
          1.9095921516418457,
          8.407166481018066,
          9.544635772705078,
          10.499943733215332,
          2.671177387237549,
          6.648931980133057,
          1.478679895401001,
          11.02088737487793,
          6.005920886993408,
          9.657723426818848,
          7.007462024688721,
          4.521332263946533,
          7.307207107543945,
          3.734584331512451,
          1.8775814771652222,
          9.479947090148926,
          10.088310241699219,
          2.599712371826172,
          3.072499990463257,
          5.717290878295898,
          3.8998115062713623,
          2.0086536407470703,
          9.253521919250488,
          5.416729927062988,
          2.631688356399536,
          11.037273406982422,
          9.934475898742676,
          1.6504756212234497,
          3.7061851024627686,
          3.4823694229125977,
          7.741614818572998,
          2.6280717849731445,
          4.609633445739746,
          2.5895514488220215,
          7.3811187744140625,
          2.823949098587036,
          11.207195281982422,
          10.932147026062012,
          6.982499599456787,
          6.418025493621826,
          2.659371852874756,
          10.328536033630371,
          11.115960121154785,
          8.231454849243164,
          9.912346839904785,
          11.185443878173828,
          0.7317898869514465,
          1.6875953674316406,
          9.305863380432129,
          9.365468978881836,
          1.922045350074768,
          6.251404285430908,
          6.878777503967285,
          8.458678245544434,
          3.854861259460449,
          5.544915199279785,
          11.13257884979248,
          5.864721775054932,
          2.2262959480285645,
          4.955519676208496,
          6.328942775726318,
          6.84535551071167,
          1.6300997734069824,
          2.2343897819519043,
          9.603089332580566,
          4.199207305908203,
          5.6295928955078125,
          11.179983139038086,
          4.309057235717773,
          4.955770492553711,
          10.353679656982422,
          3.6975138187408447,
          9.67634105682373,
          10.308103561401367
         ],
         "y": [
          -0.21885861456394196,
          -0.10568636655807495,
          -2.6307942867279053,
          -2.60749888420105,
          -2.743386745452881,
          -2.764094114303589,
          -3.822183609008789,
          -3.186875104904175,
          -2.863901376724243,
          -2.7162537574768066,
          -2.893860101699829,
          -1.8890652656555176,
          -1.1524224281311035,
          -3.3639259338378906,
          -2.703000068664551,
          -2.621915817260742,
          -2.584930181503296,
          -0.12980110943317413,
          -2.600703477859497,
          -4.1265387535095215,
          -3.1985507011413574,
          -2.1444828510284424,
          -6.373300075531006,
          -3.5800912380218506,
          -2.9419305324554443,
          -4.133612155914307,
          -0.08911313861608505,
          -2.794517993927002,
          -0.5969489216804504,
          -0.29657959938049316,
          -0.6763954162597656,
          -1.4424346685409546,
          -0.11601835489273071,
          -5.904057502746582,
          -1.6832802295684814,
          -1.9309682846069336,
          -2.9636573791503906,
          -3.5397024154663086,
          -0.10553900897502899,
          -0.11188776791095734,
          -3.2523996829986572,
          -2.727163314819336,
          -4.221286773681641,
          -0.66326904296875,
          -1.0027951002120972,
          -5.512798309326172,
          -1.4492548704147339,
          -0.0819268450140953,
          -2.7076244354248047,
          -1.7648309469223022,
          -0.14604702591896057,
          -2.8282456398010254,
          -2.608541250228882,
          -2.5905675888061523,
          -0.19805173575878143,
          -3.6885859966278076,
          -0.6348230242729187,
          -5.840754508972168,
          -1.5857819318771362,
          -2.0334813594818115,
          -3.0241918563842773,
          -0.10483304411172867,
          -0.11201140284538269,
          -0.2494964450597763,
          -0.18239763379096985,
          -2.4946436882019043,
          -1.8913975954055786,
          -2.367022752761841,
          -5.506759166717529,
          -3.2105014324188232,
          -2.7022087574005127,
          -2.156181573867798,
          -2.86811900138855,
          -1.7722923755645752,
          -2.7330398559570312,
          -1.2071391344070435,
          -3.0235280990600586,
          -1.7584620714187622,
          -3.744374990463257,
          0.1974489688873291,
          -2.6783175468444824,
          -0.19390271604061127,
          -3.180192470550537,
          -0.7631083726882935,
          -2.472438097000122,
          -0.737692654132843,
          -2.3933663368225098,
          -6.719705581665039,
          -1.4491608142852783,
          -0.6477434635162354,
          -0.5217288732528687,
          -2.9406983852386475,
          -3.5951387882232666,
          -0.10732603073120117,
          -1.1804269552230835,
          -2.0747158527374268,
          -3.921741008758545,
          -0.24633963406085968,
          -2.650186061859131,
          -0.21547789871692657,
          -2.5915112495422363,
          -1.99057137966156,
          -0.8620947599411011,
          -2.6523048877716064,
          -2.697852611541748,
          -2.764801263809204,
          -2.9234492778778076,
          -1.9053380489349365,
          -2.104253053665161,
          -0.11260942369699478,
          -3.7368195056915283,
          -1.9634606838226318,
          -0.18347251415252686,
          -0.0879465788602829,
          -0.3577701151371002,
          -2.887418746948242,
          -0.13986729085445404,
          -6.112513542175293,
          -0.6027210354804993,
          -3.1492342948913574,
          -5.163956642150879,
          -0.08465985953807831,
          -4.878759860992432,
          -2.589812755584717,
          -0.9109728932380676,
          -2.2427613735198975,
          -0.11220604181289673,
          -3.290335178375244,
          -0.09072477370500565,
          -3.547070264816284,
          -2.8783411979675293,
          -0.2714966833591461,
          -0.6583713293075562,
          -0.26365044713020325,
          1.94045889377594,
          -2.793220043182373,
          -0.3707592487335205,
          -2.816488265991211,
          -2.344601631164551,
          -3.9881227016448975,
          -0.6835309863090515,
          -6.0536699295043945,
          -2.861680030822754,
          -0.6126558184623718,
          -1.4030299186706543,
          -2.454345226287842,
          -0.07282882183790207,
          -0.1272587776184082,
          -2.898344039916992,
          -2.3096296787261963,
          -2.8506340980529785,
          -0.10436228662729263,
          -1.3035515546798706,
          -3.212395429611206,
          -3.01421856880188,
          -3.3790459632873535,
          -2.554433584213257,
          -5.152784824371338,
          -2.6159985065460205,
          -5.348681926727295,
          -0.1680273711681366,
          -5.008111476898193,
          -4.85215425491333,
          -0.8954676389694214,
          -3.327259063720703,
          -0.10038986802101135,
          -3.1089658737182617,
          -5.891420841217041,
          -2.904805898666382,
          -3.2643585205078125,
          -5.680474758148193,
          -2.14894700050354,
          -2.368642807006836,
          -0.09597654640674591,
          -1.548464298248291,
          -3.488020420074463,
          -3.0937321186065674,
          -2.6457602977752686,
          -0.3419015407562256,
          -0.30663344264030457,
          -1.3751680850982666,
          -1.642191767692566,
          2.0185985565185547,
          -2.6110126972198486,
          -2.228595018386841,
          -2.5872721672058105,
          -5.71545934677124,
          -1.9921422004699707,
          -0.6460891962051392,
          -0.14514684677124023,
          -6.138225078582764,
          -2.9449050426483154,
          -3.354423999786377,
          -3.90082049369812,
          -3.8536324501037598,
          -6.295762062072754,
          -2.855086326599121,
          -3.053325891494751,
          -5.531124591827393,
          -2.709416627883911,
          -0.11738477647304535,
          -5.717696666717529,
          -3.203793525695801,
          -2.5104801654815674,
          -5.80576229095459,
          -1.8235337734222412,
          -5.398240566253662,
          -2.5975732803344727,
          -4.353074073791504,
          -2.5035319328308105,
          1.5850327014923096,
          -2.9780197143554688,
          -5.055413246154785,
          -0.4680136442184448,
          -3.2357561588287354,
          -0.3467806577682495,
          -0.13907626271247864,
          -2.0290420055389404,
          -1.7831058502197266,
          -0.21331238746643066,
          -3.731107473373413,
          -0.38187360763549805,
          -1.1839946508407593,
          -0.1342254877090454,
          -2.7221410274505615,
          -2.292341947555542,
          -0.07742899656295776,
          -0.4191831350326538,
          -2.8155808448791504,
          -2.6434412002563477,
          -2.576944589614868,
          -2.775380849838257,
          -0.6601805686950684,
          -2.6706972122192383,
          -4.006194114685059,
          -2.2633471488952637,
          -2.9001080989837646,
          -2.9544320106506348,
          -4.941598415374756,
          -1.859145164489746,
          -2.4875552654266357,
          -0.454198956489563,
          -0.4463680386543274,
          -2.7951526641845703,
          -0.3194209337234497,
          -1.7002723217010498,
          -0.27856844663619995,
          -0.16454970836639404,
          -4.589409351348877,
          0.7740446329116821,
          -4.978855133056641,
          -0.4907671809196472,
          -1.81867516040802,
          -6.403515815734863,
          -2.57867693901062,
          -3.634580135345459,
          -3.105081558227539,
          -2.714590072631836,
          -3.925774097442627,
          -2.613135814666748,
          -2.2298688888549805,
          -0.11412312090396881,
          -5.21644401550293,
          -0.38759201765060425,
          -0.678281307220459,
          -0.14635919034481049,
          -5.716259479522705,
          -2.8950300216674805,
          -3.257577419281006,
          -2.692460536956787,
          -2.924907684326172,
          -6.072697639465332,
          -0.7337989807128906,
          -1.8990973234176636,
          -4.777779579162598,
          -0.6825284361839294,
          -3.853868007659912,
          -0.1822148710489273,
          1.588021159172058,
          -2.816538095474243,
          -0.2878483533859253,
          -2.8351004123687744,
          -0.4750426113605499,
          -0.17960479855537415,
          -0.11815490573644638,
          -1.574151873588562,
          -2.4193124771118164,
          -4.832515716552734,
          -3.6095004081726074,
          -1.9827433824539185,
          -1.1103242635726929,
          -2.9055957794189453,
          -0.1350213587284088,
          -4.772877216339111,
          -3.473067045211792,
          -0.6413726210594177,
          -5.228152751922607,
          -2.6843903064727783,
          -2.8160972595214844,
          -2.904975414276123,
          -2.986755847930908,
          -2.8433330059051514,
          -1.0126010179519653,
          -2.851686716079712,
          -2.7375454902648926,
          -3.0199248790740967,
          -0.11740043014287949,
          -1.753574013710022,
          -2.641530752182007,
          -2.7930495738983154,
          -5.489764213562012,
          -2.8223628997802734,
          -1.006974697113037,
          -3.722127914428711,
          -2.1994266510009766,
          -2.5933635234832764,
          1.7228012084960938,
          -5.10524320602417,
          -1.9605668783187866,
          -3.4697020053863525,
          -5.100385665893555,
          -2.811432361602783,
          -2.853163957595825,
          -6.087239742279053,
          -1.3885444402694702,
          1.6114407777786255,
          -0.10726834833621979,
          -0.16588646173477173,
          -0.08262845128774643,
          -3.8144803047180176,
          -0.1358555108308792,
          -3.4671478271484375,
          -2.525454521179199,
          -2.8753788471221924,
          -2.0143015384674072,
          -2.8689699172973633,
          -1.0412180423736572,
          -1.0004277229309082,
          -2.150002956390381,
          -0.10473655164241791,
          -2.853369951248169,
          -2.310725450515747,
          -0.3986722230911255,
          -5.814965724945068,
          -2.781654119491577,
          -2.797010660171509,
          -0.8879826664924622,
          -2.8883371353149414,
          -0.35093796253204346,
          -2.23417329788208,
          -3.7991886138916016,
          -3.2951903343200684,
          -2.833019495010376,
          -3.0525901317596436,
          -5.718318462371826,
          -3.6823537349700928,
          -2.581913471221924,
          -2.123380661010742,
          -5.844059944152832,
          -0.20038355886936188,
          -2.8123068809509277,
          -0.08124464750289917,
          -0.1099967360496521,
          -2.4214584827423096,
          -2.5936172008514404,
          -3.6791188716888428,
          -0.9908480644226074,
          -3.4340291023254395,
          -0.08605038374662399,
          -1.6314762830734253
         ],
         "z": [
          -10.167276382446289,
          -10.798048973083496,
          4.862066745758057,
          3.7102768421173096,
          -2.0232813358306885,
          -7.950824737548828,
          -5.910313606262207,
          -3.215888500213623,
          -1.1008702516555786,
          2.666887044906616,
          0.6345434188842773,
          -9.367552757263184,
          -7.085784912109375,
          -3.9020140171051025,
          -3.248774290084839,
          4.765902042388916,
          -2.6532530784606934,
          -12.071934700012207,
          3.7969634532928467,
          -1.0673025846481323,
          0.213941752910614,
          -5.946970462799072,
          -4.153405666351318,
          -3.446296453475952,
          -7.64422607421875,
          -5.5355634689331055,
          -12.750557899475098,
          -1.7516255378723145,
          -12.407687187194824,
          -12.689138412475586,
          -8.419417381286621,
          -6.255326271057129,
          -11.688456535339355,
          -3.156538486480713,
          -9.079239845275879,
          -9.291572570800781,
          -6.7469024658203125,
          -6.747938632965088,
          -10.838142395019531,
          -12.228277206420898,
          -6.548720359802246,
          2.56677508354187,
          -2.118975877761841,
          -8.428776741027832,
          -11.234508514404297,
          -0.27942559123039246,
          -6.569131374359131,
          -12.679231643676758,
          -2.1893374919891357,
          -5.3915581703186035,
          -12.715824127197266,
          -1.5047818422317505,
          4.7123494148254395,
          4.5504889488220215,
          -12.561038970947266,
          -6.470556735992432,
          -8.423818588256836,
          -0.14007674157619476,
          -9.191988945007324,
          -4.667805194854736,
          1.3162710666656494,
          -11.072875022888184,
          -10.806563377380371,
          -12.636374473571777,
          -10.200224876403809,
          -8.35324764251709,
          -8.133493423461914,
          -5.245298862457275,
          -1.4115965366363525,
          -0.7566038370132446,
          4.53838586807251,
          -4.303232669830322,
          -1.3970597982406616,
          -5.363292217254639,
          -2.150157928466797,
          -6.973674774169922,
          0.4037455916404724,
          -8.103734016418457,
          -2.196563720703125,
          -8.55554485321045,
          2.9816970825195312,
          -12.680389404296875,
          0.025990407913923264,
          -8.146056175231934,
          -3.1207115650177,
          -12.862385749816895,
          -3.456470012664795,
          -3.9430201053619385,
          -6.366147041320801,
          -12.73766803741455,
          -12.987573623657227,
          -7.700069427490234,
          -6.648594856262207,
          -11.261286735534668,
          -7.188261032104492,
          -4.867506980895996,
          2.1765213012695312,
          -11.819252967834473,
          4.195925712585449,
          -2.132128953933716,
          -4.403949737548828,
          -7.7375383377075195,
          -7.870619297027588,
          5.004217147827148,
          3.918604612350464,
          -1.9034011363983154,
          0.6157827377319336,
          -6.496036529541016,
          -7.703509330749512,
          -10.81791877746582,
          0.6874529719352722,
          -6.577886581420898,
          -11.693615913391113,
          -12.61192512512207,
          -12.571029663085938,
          0.8233974575996399,
          -12.705015182495117,
          -4.037768840789795,
          -10.865852355957031,
          0.435380220413208,
          0.7048237919807434,
          -12.746026992797852,
          -4.726919174194336,
          4.129283905029297,
          -11.432998657226562,
          -4.777305603027344,
          -12.592509269714355,
          0.6021731495857239,
          -12.762568473815918,
          2.8247294425964355,
          -6.24978494644165,
          -12.584245681762695,
          -12.668116569519043,
          -12.701372146606445,
          -10.254895210266113,
          -3.2146339416503906,
          -9.50406551361084,
          -1.7626807689666748,
          -5.439660549163818,
          -1.1069337129592896,
          -8.384345054626465,
          -3.3839502334594727,
          1.3071378469467163,
          -8.603147506713867,
          -6.364005088806152,
          -4.912252902984619,
          -12.049187660217285,
          -12.246935844421387,
          0.3825138211250305,
          -5.348503589630127,
          1.4907399415969849,
          -11.353740692138672,
          -6.72801399230957,
          -0.6057978272438049,
          1.0165529251098633,
          0.5274304151535034,
          -7.434991836547852,
          0.7524124979972839,
          4.262394905090332,
          -3.651306629180908,
          -10.422077178955078,
          -4.000415325164795,
          -5.104001045227051,
          -10.317306518554688,
          2.902628183364868,
          -12.5031099319458,
          -3.576003074645996,
          -2.5156123638153076,
          0.44209709763526917,
          0.7375739216804504,
          -0.9866940379142761,
          -7.687882423400879,
          -3.5450894832611084,
          -12.531281471252441,
          -9.990704536437988,
          2.8883111476898193,
          0.36981087923049927,
          -4.241252899169922,
          -12.687830924987793,
          -11.697473526000977,
          -6.451513290405273,
          -5.696202754974365,
          -10.097237586975098,
          3.6803483963012695,
          -4.06060266494751,
          3.977384567260742,
          -3.336906909942627,
          -8.06813907623291,
          -8.501934051513672,
          -11.966379165649414,
          -4.261340141296387,
          -7.6871514320373535,
          -6.094344615936279,
          -2.2971181869506836,
          -1.6116975545883179,
          -3.929283380508423,
          1.5409234762191772,
          1.3278862237930298,
          -3.460247039794922,
          2.718017578125,
          -12.387423515319824,
          -3.9591236114501953,
          -1.5542856454849243,
          -4.534023284912109,
          -4.493526935577393,
          -9.395608901977539,
          -2.170250177383423,
          3.873300552368164,
          -5.5692596435546875,
          -2.99924898147583,
          -10.976037979125977,
          0.10402554273605347,
          -1.53111732006073,
          -12.758950233459473,
          3.4536876678466797,
          -12.597352027893066,
          -12.639558792114258,
          -8.941018104553223,
          -5.342801570892334,
          -12.650014877319336,
          0.7729106545448303,
          -12.66683578491211,
          -10.756562232971191,
          -11.830764770507812,
          2.620774030685425,
          -3.9554176330566406,
          -12.735983848571777,
          -9.267873764038086,
          -3.023491859436035,
          3.3316292762756348,
          4.228102207183838,
          -4.494756698608398,
          -8.459681510925293,
          3.0627517700195312,
          -6.023484706878662,
          -3.916311025619507,
          0.22099822759628296,
          0.5497100949287415,
          -2.2962849140167236,
          -5.130746841430664,
          -5.140656471252441,
          -9.176605224609375,
          -8.928152084350586,
          3.66159725189209,
          -12.66856575012207,
          -9.699261665344238,
          -12.827737808227539,
          -12.733030319213867,
          -2.101705312728882,
          -10.836122512817383,
          -4.908748626708984,
          -9.031607627868652,
          -5.261141777038574,
          -4.194152355194092,
          4.311075210571289,
          -2.9376094341278076,
          0.49990060925483704,
          2.918764591217041,
          0.9993206262588501,
          3.645820140838623,
          -4.051113128662109,
          -10.891682624816895,
          -3.369103193283081,
          -12.522714614868164,
          -8.39930248260498,
          -12.11689281463623,
          -4.344176292419434,
          -7.661634922027588,
          -0.48810115456581116,
          2.8715572357177734,
          -0.6478803753852844,
          -0.3586796820163727,
          -12.523061752319336,
          -8.811081886291504,
          0.7135205268859863,
          -12.573223114013672,
          -2.150739908218384,
          -10.368602752685547,
          -10.955413818359375,
          1.7698482275009155,
          -12.78801155090332,
          1.5788276195526123,
          -9.081825256347656,
          -10.371843338012695,
          -10.72996997833252,
          -5.898662090301514,
          -5.033750057220459,
          -2.550427198410034,
          -0.13614949584007263,
          -6.489133358001709,
          -10.697978973388672,
          0.3421829640865326,
          -2.4178028106689453,
          -2.3294425010681152,
          2.988687038421631,
          -12.711994171142578,
          0.5319547653198242,
          2.9453673362731934,
          1.783228874206543,
          0.2131044715642929,
          -7.622145652770996,
          2.721083879470825,
          -11.201213836669922,
          -1.3008774518966675,
          3.775261402130127,
          -0.2327924519777298,
          -11.6414155960083,
          -8.538895606994629,
          0.7373154163360596,
          -7.065563678741455,
          -0.36297255754470825,
          1.7605652809143066,
          -7.486588478088379,
          -6.481492519378662,
          -8.642751693725586,
          4.595792770385742,
          -10.717439651489258,
          0.6954137682914734,
          -5.354928016662598,
          -2.3896384239196777,
          -2.3852357864379883,
          -1.7114086151123047,
          1.3634107112884521,
          -3.615450620651245,
          -9.750340461730957,
          -10.962425231933594,
          -11.258820533752441,
          -12.727099418640137,
          -12.656368255615234,
          -6.342774391174316,
          -11.168567657470703,
          -6.688138484954834,
          -2.915064811706543,
          -0.9301745891571045,
          -6.152567386627197,
          2.7277088165283203,
          -10.848551750183105,
          -2.8726162910461426,
          -4.318057537078857,
          -10.82082462310791,
          -2.2666780948638916,
          -3.759817600250244,
          -12.630515098571777,
          -0.9072294235229492,
          2.1049418449401855,
          -2.8422091007232666,
          -11.334453582763672,
          2.763843297958374,
          -10.854471206665039,
          -4.959771156311035,
          1.5847316980361938,
          -3.2665083408355713,
          -1.4699320793151855,
          -3.907179832458496,
          -4.2668776512146,
          -1.821939468383789,
          4.324041366577148,
          -5.941822052001953,
          -0.7549761533737183,
          -12.714302062988281,
          1.795551061630249,
          -12.719477653503418,
          -12.346028327941895,
          -3.292701244354248,
          -6.943973064422607,
          -0.897915780544281,
          -5.0018181800842285,
          3.0750484466552734,
          -2.5253260135650635,
          -5.730936527252197
         ]
        },
        {
         "hoverlabel": {
          "namelength": 0
         },
         "hovertemplate": "Dominant_Topic=Topic 1<br>0=%{x}<br>1=%{y}<br>2=%{z}",
         "legendgroup": "Dominant_Topic=Topic 1",
         "marker": {
          "color": "#EF553B",
          "opacity": 0.7,
          "symbol": "circle"
         },
         "mode": "markers",
         "name": "Dominant_Topic=Topic 1",
         "scene": "scene",
         "showlegend": true,
         "type": "scatter3d",
         "x": [
          -11.55018424987793,
          -8.817596435546875,
          -5.6139631271362305,
          2.687701940536499,
          -3.966167449951172,
          -3.5674538612365723,
          -14.556097984313965,
          -12.964178085327148,
          -8.57508659362793,
          -2.11358380317688,
          -9.731685638427734,
          -2.4437448978424072,
          -8.757333755493164,
          -5.081756114959717,
          -2.5399882793426514,
          -1.3428899049758911,
          3.999952793121338,
          -6.940581321716309,
          -14.611662864685059,
          -14.070124626159668,
          -7.216699600219727,
          -0.6264462471008301,
          -9.457959175109863,
          2.962477445602417,
          -8.800002098083496,
          2.7708022594451904,
          -6.036209583282471,
          -6.38962984085083,
          -9.137238502502441,
          -6.492361068725586,
          -11.8395414352417,
          0.539630651473999,
          1.1484941244125366,
          -8.688438415527344,
          -13.889801025390625,
          -8.526272773742676,
          -14.028076171875,
          -1.8050190210342407,
          -6.3061676025390625,
          -4.408044338226318,
          -4.153497695922852,
          3.462768793106079,
          -5.249627113342285,
          2.8628807067871094,
          -5.422433853149414,
          -8.505546569824219,
          -6.619961738586426,
          -11.087580680847168,
          -2.1296980381011963,
          -7.041783809661865,
          3.9478864669799805,
          2.713421106338501,
          -6.443336486816406,
          -3.752082586288452,
          -0.514627993106842,
          1.383396029472351,
          2.886354684829712,
          -6.86026668548584,
          -8.01537799835205,
          0.8689855337142944,
          -6.4145965576171875,
          -7.4362263679504395,
          -1.720983862876892,
          -6.889980792999268,
          -3.453690528869629,
          -9.210894584655762,
          -1.8203647136688232,
          -2.8772990703582764,
          -13.254499435424805,
          -8.416230201721191,
          -4.282068729400635,
          -3.8943865299224854,
          -2.5005269050598145,
          -3.994004964828491,
          -5.201251983642578,
          -13.638689994812012,
          -2.4396908283233643,
          -9.080188751220703,
          -4.66796875,
          -14.335562705993652,
          -2.113267421722412,
          -5.212068557739258,
          -4.012118816375732,
          -7.27891731262207,
          -6.367221832275391,
          -14.671004295349121,
          -14.577879905700684,
          -7.651648998260498,
          -5.487302780151367,
          -3.081204891204834,
          -8.002127647399902,
          -6.138457775115967,
          1.772322416305542,
          -5.955493450164795,
          -3.8202526569366455,
          -7.23805570602417,
          -3.4879515171051025,
          3.7494821548461914,
          -1.3877285718917847,
          -9.621060371398926,
          -6.631076335906982,
          -14.407330513000488,
          -0.22012443840503693,
          -5.579107761383057,
          -0.22150853276252747,
          -2.882526397705078,
          -7.591142177581787,
          -5.634181022644043,
          2.606330633163452,
          -9.504802703857422,
          -3.6749794483184814,
          -1.5591779947280884,
          3.9127349853515625,
          -14.449075698852539,
          -1.1154195070266724,
          -13.23122787475586,
          -8.298014640808105,
          3.3644144535064697,
          -7.39473295211792,
          -0.7409750819206238,
          -1.7186040878295898,
          -7.759223461151123,
          -1.1145820617675781,
          -2.7700366973876953,
          -9.0955810546875,
          -7.9643354415893555,
          -5.9296135902404785,
          -2.7416703701019287,
          2.512601613998413,
          -3.650184154510498,
          0.5249730944633484,
          -13.80446720123291,
          3.60920786857605,
          -3.4025933742523193,
          -9.940539360046387,
          -6.516648292541504,
          -0.28689315915107727,
          0.496797114610672,
          -8.302512168884277,
          -4.472800254821777,
          -7.679698944091797,
          2.6460845470428467,
          -7.947443008422852,
          -7.043381214141846,
          -11.277986526489258,
          -7.482354164123535,
          -3.7857325077056885,
          -4.018794536590576,
          -6.510465621948242,
          -2.591885805130005,
          0.4569101929664612,
          -6.508802890777588,
          -4.324162006378174,
          -3.9769692420959473,
          -2.5448944568634033,
          -14.644705772399902,
          -14.434191703796387,
          -7.57884407043457,
          -7.624847412109375,
          -3.153794050216675,
          -13.884394645690918,
          -6.333747386932373,
          -2.8607921600341797,
          -1.8841524124145508,
          -4.441542148590088,
          -0.7446991801261902,
          -7.089768886566162,
          -14.66309928894043,
          -3.760451555252075,
          -8.405075073242188,
          -7.536470413208008,
          2.761052370071411,
          0.22740422189235687,
          -5.441272258758545,
          1.6646140813827515,
          -10.042060852050781,
          -11.167130470275879,
          -6.103580474853516,
          4.2018256187438965,
          -6.460872650146484,
          -0.17581768333911896,
          -4.8644490242004395,
          3.2287352085113525,
          0.06686922907829285,
          -5.882025241851807,
          -7.7124176025390625,
          -12.237333297729492,
          -13.757441520690918,
          -4.630037784576416,
          0.17362597584724426,
          -8.456490516662598,
          -8.129971504211426,
          -11.015507698059082,
          -8.107305526733398,
          -9.259064674377441,
          -4.197809219360352,
          -0.1847125142812729,
          -0.7611514329910278,
          -2.8154807090759277,
          -7.649529457092285,
          -7.366872310638428,
          -9.170767784118652,
          -14.411040306091309,
          -5.916006088256836,
          -4.67814826965332,
          -7.535569667816162,
          -3.900648832321167,
          -13.133369445800781,
          -7.753945350646973,
          -8.259090423583984,
          -3.2549636363983154,
          -8.852374076843262,
          4.43254280090332,
          -1.614986777305603,
          -1.5252797603607178,
          -13.7587890625,
          -12.45775318145752,
          -3.112384557723999,
          -7.447413921356201,
          -7.15338134765625,
          -7.366334438323975,
          -9.117215156555176,
          -11.544554710388184,
          -2.3170323371887207,
          -6.230734348297119,
          -13.743528366088867,
          -8.637593269348145,
          -3.84625506401062,
          -7.951613426208496,
          -7.993383884429932,
          1.2573217153549194,
          -8.545538902282715,
          -0.6512656807899475,
          -5.969139575958252,
          -3.3296687602996826,
          -8.432588577270508,
          2.53304386138916,
          -1.8030976057052612,
          -3.3448708057403564,
          -5.8762288093566895,
          0.26163890957832336,
          -2.3721272945404053,
          -7.0835442543029785,
          -14.089133262634277,
          -0.2544483244419098,
          -14.4031400680542,
          -8.448859214782715,
          -3.203298807144165,
          -4.07887601852417,
          0.21860133111476898,
          -3.0619893074035645,
          -10.149864196777344,
          -7.1719770431518555,
          0.2256026268005371,
          -8.206181526184082,
          -5.014869689941406,
          -6.134641170501709,
          -0.5576708316802979,
          -8.551255226135254,
          2.893148899078369,
          -14.672292709350586,
          -6.83435583114624,
          -9.202518463134766,
          -7.256400108337402,
          -7.300678253173828,
          -5.8116631507873535,
          -1.9709408283233643,
          -1.5827986001968384,
          3.7582249641418457,
          2.572690963745117,
          -14.18287467956543,
          0.15076562762260437,
          -6.192141532897949,
          -8.512838363647461,
          -3.3243517875671387,
          -8.541829109191895,
          -3.319126605987549,
          -6.3269243240356445,
          -5.17136812210083,
          -5.352751731872559,
          -14.3839111328125,
          -14.061504364013672,
          0.8106730580329895,
          -7.365076541900635,
          -3.97027587890625,
          -4.285722732543945,
          -8.542377471923828,
          -7.352262020111084,
          -3.558397054672241,
          -3.725299119949341,
          -3.7145886421203613,
          -5.7752275466918945,
          -8.127869606018066,
          -11.83957576751709,
          2.395935297012329,
          -14.245610237121582,
          -1.1485693454742432,
          0.39143112301826477,
          -6.891138076782227,
          -10.373607635498047,
          -14.680736541748047,
          -11.18187141418457,
          -5.9853973388671875,
          -14.690353393554688,
          -10.569149017333984,
          -0.153492271900177,
          -9.849320411682129,
          -13.85058307647705,
          -13.70189094543457,
          -0.7780154943466187,
          -3.5748403072357178,
          -14.37092399597168,
          -4.243900299072266,
          -5.610076904296875,
          -9.667818069458008,
          -5.269223690032959,
          -14.161709785461426,
          -3.278634548187256,
          -7.884632587432861,
          -14.338661193847656,
          -0.2216990888118744,
          -5.170334339141846,
          -8.536330223083496,
          -6.009779453277588,
          -6.340380668640137,
          -11.30497932434082,
          -3.793398380279541,
          -0.2885865569114685,
          3.309406042098999,
          -8.006280899047852,
          -13.510238647460938,
          3.4575157165527344,
          -2.2593154907226562,
          -14.445670127868652,
          -7.873413562774658,
          -7.614891529083252,
          -12.266488075256348,
          -5.154059410095215,
          -3.9813013076782227,
          -8.466300010681152,
          -1.8347785472869873,
          -5.603607177734375,
          1.6909234523773193,
          -2.6573095321655273,
          -0.8643367290496826,
          -8.889532089233398,
          -14.426833152770996,
          -3.3537845611572266,
          -14.698861122131348,
          -1.2869230508804321,
          -1.8913321495056152,
          -3.3717169761657715,
          -6.525131702423096,
          -14.101788520812988,
          -14.0856351852417,
          -3.23604679107666,
          -13.722221374511719,
          -7.902768135070801,
          -5.999510288238525,
          -0.16715531051158905,
          -8.417688369750977,
          -4.0302839279174805,
          -14.551618576049805,
          -1.329917073249817,
          -8.27051067352295,
          -4.023509979248047,
          -14.40843677520752,
          -14.447473526000977,
          -4.973093509674072,
          -12.725425720214844,
          -2.3916730880737305,
          -8.53821849822998,
          -7.93190336227417,
          -13.757380485534668,
          -6.340043067932129,
          -5.180172920227051,
          2.438746213912964,
          2.26279878616333,
          3.1037487983703613,
          -0.28704342246055603,
          1.798122763633728,
          -5.522237777709961,
          -6.556457996368408,
          -0.06372927129268646,
          -14.571017265319824,
          2.9982476234436035,
          -0.10525009036064148,
          0.9421424865722656,
          -5.275690078735352,
          0.6862956881523132,
          -3.76637864112854,
          -14.447855949401855,
          3.98445200920105,
          -7.209146499633789,
          -6.190173149108887,
          -7.08718729019165,
          -1.475799560546875,
          -0.2926323115825653,
          -2.4969756603240967,
          -6.790938854217529,
          -0.7541263103485107,
          -0.8379690051078796,
          -8.373319625854492,
          -8.94524097442627,
          -0.18612182140350342,
          -8.287065505981445,
          -7.060129642486572,
          0.4811761975288391,
          -12.71085262298584,
          4.012420654296875,
          -0.645159900188446,
          0.8684778213500977,
          -3.3636248111724854,
          -14.567699432373047,
          -5.067055702209473,
          -8.499834060668945,
          -8.431334495544434,
          -4.982392311096191,
          -6.790769100189209,
          -8.110529899597168,
          -6.538589954376221,
          -3.7471063137054443,
          -14.068304061889648,
          -14.236544609069824,
          -7.092417240142822,
          -3.1874170303344727,
          -7.795440196990967,
          -3.532909631729126,
          -14.226316452026367,
          -0.39329445362091064,
          -3.286031723022461,
          -7.251571178436279,
          -8.574820518493652,
          3.125079870223999,
          -7.875037670135498,
          -8.332240104675293,
          -2.1335601806640625,
          0.93172287940979,
          -3.000579357147217,
          0.4801485240459442,
          -10.406925201416016,
          -14.371082305908203,
          -8.061882972717285,
          -7.12416934967041,
          -8.574808120727539,
          -0.4041082561016083,
          3.110605001449585,
          -8.7164945602417,
          -9.35515308380127,
          -2.6949303150177,
          -3.7275028228759766,
          -0.936468780040741,
          -0.9845582842826843,
          -1.8835270404815674,
          -14.461721420288086,
          -14.684247016906738,
          -14.051697731018066,
          -7.690661907196045,
          -0.8026665449142456,
          -6.749546051025391,
          2.026249647140503,
          2.5137486457824707,
          -6.593689441680908,
          -10.767674446105957,
          -7.551492214202881,
          -4.722202301025391,
          -7.586643218994141,
          -9.082469940185547,
          -4.253937244415283,
          2.493894338607788,
          -5.725607872009277,
          -4.221755027770996,
          -1.8528673648834229,
          -0.12103903293609619,
          -8.319047927856445,
          -12.177956581115723,
          -4.685767650604248,
          -6.6418538093566895,
          -9.70272445678711,
          0.959953248500824,
          -8.90168285369873,
          -12.62506103515625,
          -7.07905387878418,
          -6.560467720031738,
          -0.37509989738464355,
          -4.870885848999023,
          -14.369917869567871,
          2.712812662124634,
          0.9040731191635132,
          -3.819601058959961,
          -9.228924751281738,
          -7.15360164642334,
          -9.029977798461914,
          -2.7088327407836914,
          0.04071485251188278,
          0.12998798489570618,
          -8.619022369384766,
          2.5121374130249023,
          -14.67129898071289,
          -2.3860957622528076,
          -4.529171466827393,
          -4.563892364501953,
          -14.671545028686523,
          -13.882793426513672,
          -9.116018295288086,
          -9.12804126739502,
          0.3569014072418213,
          -3.7530336380004883,
          4.226726055145264,
          -7.512822151184082,
          -6.567656993865967,
          -10.644660949707031,
          -12.591917037963867,
          4.052438259124756,
          -3.530880928039551,
          -12.46772289276123,
          3.560971736907959,
          -5.02889347076416,
          -7.917495250701904,
          -6.794741153717041,
          -8.209480285644531,
          -0.1974504441022873,
          2.154927968978882,
          -14.190122604370117,
          -3.1879453659057617,
          -14.126604080200195,
          -8.521923065185547,
          -6.480794429779053,
          -14.627508163452148,
          0.449780136346817,
          -5.664792537689209,
          -13.350872993469238,
          -7.048557281494141,
          3.8741157054901123,
          -5.35670280456543,
          -4.259861946105957,
          -7.381673336029053,
          -4.833415985107422,
          -9.217535018920898,
          -4.021737575531006,
          -2.7106614112854004,
          4.115939140319824,
          -13.784186363220215,
          1.0674701929092407,
          -13.800847053527832,
          -4.335188388824463,
          -5.343990802764893,
          -5.894629955291748,
          -7.392264366149902,
          -5.991024971008301,
          -4.7515058517456055,
          -14.418027877807617,
          -0.4655141532421112,
          -0.936617374420166,
          -13.80086612701416
         ],
         "y": [
          -2.039944887161255,
          6.78684663772583,
          8.34851360321045,
          -2.8156957626342773,
          7.885438919067383,
          8.248779296875,
          4.4135661125183105,
          -1.0046696662902832,
          8.536603927612305,
          -8.33134937286377,
          2.9255099296569824,
          -1.0451682806015015,
          2.569138765335083,
          -8.030439376831055,
          -9.482873916625977,
          -2.3133912086486816,
          11.613203048706055,
          6.238224983215332,
          3.2826881408691406,
          0.11933586001396179,
          7.644184589385986,
          9.179863929748535,
          2.4066014289855957,
          -2.7254092693328857,
          -0.475693017244339,
          -2.7420904636383057,
          -7.062407493591309,
          -5.5090250968933105,
          2.084489107131958,
          8.600698471069336,
          -1.9014285802841187,
          -3.0859522819519043,
          -5.408781051635742,
          -4.098734378814697,
          0.32659241557121277,
          8.586456298828125,
          0.5472619533538818,
          -8.002922058105469,
          8.455662727355957,
          -8.703208923339844,
          -8.929443359375,
          -2.709789991378784,
          3.2590737342834473,
          10.884597778320312,
          -7.651477336883545,
          9.632566452026367,
          -4.687056541442871,
          -1.9210610389709473,
          -6.862607479095459,
          6.370068550109863,
          11.597025871276855,
          -2.823206663131714,
          5.007199764251709,
          -8.902454376220703,
          -3.454932928085327,
          10.063995361328125,
          -3.3502719402313232,
          8.8230562210083,
          -4.842103004455566,
          9.771799087524414,
          -4.698690891265869,
          9.02804183959961,
          8.607085227966309,
          -6.03145694732666,
          0.5757462978363037,
          1.5288140773773193,
          -6.8829169273376465,
          -9.0170316696167,
          -0.6009801030158997,
          -4.238951683044434,
          -8.830004692077637,
          7.999058723449707,
          -0.9497175812721252,
          -7.31733512878418,
          8.231934547424316,
          -0.143562912940979,
          8.364097595214844,
          -0.8373643755912781,
          2.406174659729004,
          1.360990047454834,
          8.47600269317627,
          3.2395241260528564,
          8.114864349365234,
          7.376051425933838,
          4.829245090484619,
          2.880011558532715,
          3.495680093765259,
          8.61508846282959,
          -6.438482761383057,
          -0.13723260164260864,
          9.327649116516113,
          8.630403518676758,
          10.286531448364258,
          4.24681282043457,
          8.220678329467773,
          6.894624710083008,
          -2.3422906398773193,
          11.454500198364258,
          -7.539243221282959,
          0.14104780554771423,
          5.364780426025391,
          1.1657947301864624,
          -6.492626667022705,
          -7.532321453094482,
          -6.521054267883301,
          8.2556791305542,
          8.547359466552734,
          3.7873477935791016,
          -3.211869239807129,
          -3.4135963916778564,
          0.7985442280769348,
          -2.1695315837860107,
          11.374288558959961,
          1.4911679029464722,
          -5.678743362426758,
          -0.641518235206604,
          -0.4435070753097534,
          11.111868858337402,
          8.000252723693848,
          9.007040977478027,
          -7.877884864807129,
          -0.5570241212844849,
          -2.3614821434020996,
          8.28666877746582,
          2.8609941005706787,
          -0.35591739416122437,
          8.158906936645508,
          -0.5720312595367432,
          10.699519157409668,
          7.936498165130615,
          -2.7426469326019287,
          1.3940837383270264,
          11.222031593322754,
          -0.7896854877471924,
          -3.0969114303588867,
          5.091028213500977,
          -5.704000473022461,
          -3.1370813846588135,
          9.477849006652832,
          8.121779441833496,
          9.162110328674316,
          10.760886192321777,
          9.156959533691406,
          -3.7808661460876465,
          -2.237529754638672,
          8.137435913085938,
          -6.879269599914551,
          8.091699600219727,
          5.187274932861328,
          8.332660675048828,
          -2.748504877090454,
          5.045542240142822,
          1.8556302785873413,
          -2.6662704944610596,
          -5.163390159606934,
          2.243567705154419,
          4.815391540527344,
          8.372511863708496,
          -3.929515838623047,
          0.06494171917438507,
          5.387901782989502,
          4.841544151306152,
          -0.4375789761543274,
          -8.768929481506348,
          2.0416953563690186,
          -2.4920880794525146,
          7.336832046508789,
          2.8985939025878906,
          -6.371374607086182,
          9.563632011413574,
          -5.408016204833984,
          -3.2200019359588623,
          9.309402465820312,
          -7.694674491882324,
          10.22690200805664,
          -2.9799816608428955,
          -1.2719995975494385,
          -7.047926902770996,
          11.976360321044922,
          -6.594113826751709,
          -5.289351940155029,
          8.153562545776367,
          11.061233520507812,
          -2.6845452785491943,
          -4.712597846984863,
          8.788790702819824,
          -1.6587401628494263,
          0.77623051404953,
          0.4782875180244446,
          -5.2585673332214355,
          1.7207269668579102,
          9.30757999420166,
          -0.1658545285463333,
          -4.692534446716309,
          -0.22106972336769104,
          -8.90067195892334,
          9.16064167022705,
          -2.558253049850464,
          -2.377575397491455,
          8.634723663330078,
          7.985424995422363,
          -3.6419363021850586,
          1.425459623336792,
          4.160708427429199,
          -8.324009895324707,
          8.370796203613281,
          -9.06099796295166,
          -0.7548463344573975,
          9.19286060333252,
          -0.5441074967384338,
          -2.1728484630584717,
          -3.848599910736084,
          -2.65755033493042,
          -7.816515922546387,
          -2.1279547214508057,
          5.600602626800537,
          -1.4674067497253418,
          8.235540390014648,
          9.049291610717773,
          8.900343894958496,
          7.9480671882629395,
          1.473414421081543,
          -2.0327658653259277,
          -1.1876829862594604,
          -6.874542713165283,
          5.629328727722168,
          8.23927116394043,
          -7.09091854095459,
          -4.786377906799316,
          6.777083873748779,
          -5.280429840087891,
          9.668980598449707,
          8.941182136535645,
          4.238924980163574,
          -2.3511905670166016,
          9.589364051818848,
          -2.750279426574707,
          -7.104429721832275,
          8.083626747131348,
          4.1467437744140625,
          -5.935978889465332,
          -9.575831413269043,
          8.898219108581543,
          0.5745304226875305,
          9.441628456115723,
          4.888138771057129,
          -0.016616124659776688,
          -1.480218768119812,
          1.4240238666534424,
          -5.852342128753662,
          8.012458801269531,
          -0.1460248976945877,
          7.12734842300415,
          9.313855171203613,
          0.016462141647934914,
          2.931597948074341,
          4.451989650726318,
          -5.532237529754639,
          9.66739273071289,
          -2.7317824363708496,
          2.632762908935547,
          5.882256507873535,
          2.762162208557129,
          -3.729532241821289,
          7.919631481170654,
          8.495489120483398,
          -5.696263313293457,
          -2.1482160091400146,
          11.442699432373047,
          10.715301513671875,
          4.8323798179626465,
          -6.689698219299316,
          4.600009918212891,
          -4.266617298126221,
          0.23105643689632416,
          9.669100761413574,
          -9.189743995666504,
          -6.699018478393555,
          -2.9805634021759033,
          3.4291388988494873,
          0.80563884973526,
          4.674182891845703,
          -2.7765259742736816,
          9.009530067443848,
          -7.289148807525635,
          1.7691195011138916,
          9.658659934997559,
          7.2520246505737305,
          0.6450698971748352,
          0.9427160024642944,
          0.251261442899704,
          -7.333289623260498,
          -0.5821639895439148,
          -1.9038540124893188,
          10.646985054016113,
          0.7131704688072205,
          -2.3372671604156494,
          9.542314529418945,
          5.959892749786377,
          -0.16348853707313538,
          2.485036611557007,
          -2.2577497959136963,
          8.40501594543457,
          2.640850067138672,
          -2.642385721206665,
          -6.748481273651123,
          -2.127887010574341,
          0.39924466609954834,
          -0.12480684369802475,
          8.90034008026123,
          0.7337409853935242,
          4.193140029907227,
          -7.241266250610352,
          -6.0521955490112305,
          -2.666510820388794,
          -7.819904327392578,
          4.267190456390381,
          0.289838969707489,
          9.26457691192627,
          0.5086142420768738,
          -5.0384202003479,
          8.174843788146973,
          9.665067672729492,
          8.409529685974121,
          8.61723804473877,
          -2.1555941104888916,
          -9.103116035461426,
          9.362702369689941,
          -2.7111430168151855,
          -4.854430198669434,
          -0.12770240008831024,
          -2.8929357528686523,
          -8.633905410766602,
          4.2564568519592285,
          8.79840087890625,
          8.616193771362305,
          -1.601438283920288,
          -6.1557416915893555,
          -2.4402730464935303,
          8.607738494873047,
          -7.6622633934021,
          8.354499816894531,
          10.242585182189941,
          -9.384650230407715,
          8.934134483337402,
          1.5713378190994263,
          4.379700660705566,
          -0.5604602694511414,
          2.591008424758911,
          -6.478562831878662,
          8.55146598815918,
          0.39041605591773987,
          5.029366970062256,
          1.4275585412979126,
          5.00924015045166,
          -9.21214485168457,
          0.3536170721054077,
          9.274090766906738,
          -5.169814109802246,
          9.32256031036377,
          9.577316284179688,
          8.244939804077148,
          1.9309329986572266,
          -6.6226115226745605,
          -1.4245622158050537,
          -2.303978204727173,
          4.210026264190674,
          1.3818267583847046,
          2.8781754970550537,
          -1.2406376600265503,
          -9.02581787109375,
          9.667184829711914,
          -4.9532389640808105,
          5.602309226989746,
          -5.358125686645508,
          8.205594062805176,
          10.671833038330078,
          -2.8955342769622803,
          -2.7216458320617676,
          -6.3700737953186035,
          -3.066685438156128,
          3.6559946537017822,
          8.674001693725586,
          -6.102838039398193,
          3.531122922897339,
          -2.731902837753296,
          -2.655888080596924,
          9.808777809143066,
          3.321178436279297,
          -2.7606778144836426,
          0.9514855146408081,
          4.14949893951416,
          11.597517013549805,
          6.925993919372559,
          4.553607940673828,
          6.817254066467285,
          -2.1650936603546143,
          9.138394355773926,
          -0.9592365026473999,
          5.743159294128418,
          -2.4873549938201904,
          -2.595804452896118,
          9.547988891601562,
          2.208805561065674,
          -2.6539053916931152,
          9.491948127746582,
          7.1959004402160645,
          9.579695701599121,
          -1.270768642425537,
          -2.678107738494873,
          -2.520850419998169,
          -5.3973612785339355,
          -2.20205020904541,
          1.8362196683883667,
          3.015709161758423,
          1.8745250701904297,
          9.5810546875,
          -8.13846206665039,
          -5.49373722076416,
          9.287568092346191,
          -6.5301103591918945,
          8.033133506774902,
          5.092579364776611,
          1.0549640655517578,
          8.901840209960938,
          8.214787483215332,
          9.219449996948242,
          -5.644626617431641,
          4.80087947845459,
          -5.918938636779785,
          8.103955268859863,
          7.085123538970947,
          8.5369291305542,
          -2.7243523597717285,
          9.25920295715332,
          9.506019592285156,
          -8.988715171813965,
          -5.3895158767700195,
          -0.2198496311903,
          9.581259727478027,
          -2.7124319076538086,
          0.9964488744735718,
          9.224889755249023,
          6.853113174438477,
          8.536885261535645,
          -6.917057514190674,
          11.015965461730957,
          1.3232202529907227,
          6.885713577270508,
          -0.6953712105751038,
          -9.107311248779297,
          -6.867580413818359,
          8.883149147033691,
          -6.154140472412109,
          4.43950080871582,
          2.5618014335632324,
          0.5420046448707581,
          -3.6402437686920166,
          -6.830626964569092,
          -3.8714547157287598,
          10.434030532836914,
          10.70052719116211,
          8.684130668640137,
          -2.5613832473754883,
          8.464502334594727,
          -8.307164192199707,
          -3.7182130813598633,
          -3.716630697250366,
          8.111985206604004,
          10.707161903381348,
          -7.2785444259643555,
          1.673978567123413,
          -7.6979827880859375,
          9.021894454956055,
          9.50833511352539,
          -1.5327050685882568,
          -8.272810935974121,
          5.285065174102783,
          -0.060792870819568634,
          -5.29986047744751,
          -1.2778031826019287,
          -1.320164442062378,
          7.319215297698975,
          -6.470070838928223,
          8.93839168548584,
          2.7228238582611084,
          1.2359249591827393,
          -2.823174476623535,
          -2.7781479358673096,
          -7.216765403747559,
          0.9225969910621643,
          6.7274699211120605,
          -3.753525733947754,
          -6.979951858520508,
          -5.499226093292236,
          -6.258340835571289,
          1.6743555068969727,
          10.672978401184082,
          2.4186248779296875,
          -1.647698998451233,
          8.107181549072266,
          -8.57247543334961,
          2.4557993412017822,
          5.378330707550049,
          -3.6801369190216064,
          1.518836259841919,
          -2.7746524810791016,
          -0.4149836301803589,
          12.061859130859375,
          9.071969032287598,
          5.265114784240723,
          -2.541078567504883,
          -1.3321728706359863,
          11.726186752319336,
          -1.8882778882980347,
          -1.473479151725769,
          -3.2785093784332275,
          8.193257331848145,
          9.106767654418945,
          8.802908897399902,
          -0.06601604074239731,
          -6.973396301269531,
          10.5079984664917,
          4.3959455490112305,
          -5.7409186363220215,
          4.908613204956055,
          9.641438484191895,
          -6.560321807861328,
          2.1725499629974365,
          9.562926292419434,
          -6.826458930969238,
          -0.4611367881298065,
          7.003224849700928,
          11.338624000549316,
          8.30364990234375,
          -8.862236976623535,
          -3.685147285461426,
          8.172015190124512,
          -0.30275845527648926,
          -9.011059761047363,
          -0.6866966485977173,
          11.813872337341309,
          5.557326316833496,
          9.887116432189941,
          0.568173348903656,
          -0.14041553437709808,
          -7.745096206665039,
          8.622694969177246,
          7.794460296630859,
          8.277263641357422,
          2.5484049320220947,
          4.263552665710449,
          -2.5768167972564697,
          8.903878211975098,
          5.531332015991211
         ],
         "z": [
          6.475325107574463,
          8.297120094299316,
          -3.1658859252929688,
          5.5185017585754395,
          -4.5319504737854,
          -4.948880672454834,
          -0.15607188642024994,
          5.646609783172607,
          5.9382829666137695,
          2.377199411392212,
          7.852348804473877,
          9.580880165100098,
          8.535612106323242,
          4.629718780517578,
          1.5179433822631836,
          8.141910552978516,
          -6.802692413330078,
          8.791695594787598,
          1.2193708419799805,
          4.392520904541016,
          7.242483139038086,
          -6.393589496612549,
          8.055581092834473,
          5.597931385040283,
          8.111542701721191,
          5.654616832733154,
          5.533538818359375,
          6.378170967102051,
          8.279590606689453,
          -2.3032119274139404,
          6.370541095733643,
          6.199230670928955,
          1.569901704788208,
          6.829254627227783,
          4.455869197845459,
          5.82128381729126,
          4.052122592926025,
          3.2249412536621094,
          -2.524872064590454,
          3.8253531455993652,
          3.489180564880371,
          5.390901565551758,
          10.613387107849121,
          -6.759496212005615,
          5.000472068786621,
          0.44411808252334595,
          6.818396091461182,
          6.362761497497559,
          3.64508318901062,
          8.648865699768066,
          -6.776308059692383,
          5.486377239227295,
          9.815067291259766,
          3.256901502609253,
          6.262142181396484,
          -6.695329666137695,
          3.949827194213867,
          -1.8820068836212158,
          6.643700122833252,
          -6.632227897644043,
          6.8122429847717285,
          -1.2495445013046265,
          -5.849918842315674,
          6.155277729034424,
          10.51333236694336,
          8.21227741241455,
          3.4080846309661865,
          2.4093494415283203,
          5.3069939613342285,
          6.837491035461426,
          3.649526357650757,
          -4.661026477813721,
          9.663280487060547,
          4.531059741973877,
          -3.555732011795044,
          4.8486328125,
          -5.5055646896362305,
          7.856081962585449,
          10.707959175109863,
          3.5407581329345703,
          -5.666275978088379,
          10.62259578704834,
          -4.553394317626953,
          7.562900543212891,
          9.907258987426758,
          1.6754125356674194,
          0.9967736601829529,
          5.401791572570801,
          5.683820724487305,
          10.221084594726562,
          -0.4950706362724304,
          -2.6205389499664307,
          -6.733633518218994,
          10.250439643859863,
          -4.77327299118042,
          8.122758865356445,
          8.613966941833496,
          -6.659643173217773,
          2.322688579559326,
          7.810336589813232,
          9.522109031677246,
          3.544090509414673,
          7.398952960968018,
          5.1311936378479,
          7.35798454284668,
          -5.276043891906738,
          5.559627056121826,
          10.433551788330078,
          4.532837867736816,
          6.8331170082092285,
          10.561676979064941,
          8.36446475982666,
          -6.891190528869629,
          3.273529291152954,
          3.9149582386016846,
          5.338939189910889,
          8.390445709228516,
          -6.750693321228027,
          6.660068035125732,
          -6.230438709259033,
          2.400405168533325,
          8.621244430541992,
          8.00447940826416,
          -5.335663795471191,
          8.28583812713623,
          8.59365463256836,
          -2.9560348987579346,
          9.948240280151367,
          -6.861189842224121,
          -4.796385288238525,
          6.671273708343506,
          4.2984113693237305,
          -6.724696159362793,
          9.825209617614746,
          6.808379173278809,
          9.71263599395752,
          7.460076332092285,
          6.151246070861816,
          2.015835762023926,
          -4.187735557556152,
          -0.9319409728050232,
          -6.7343010902404785,
          3.304887533187866,
          7.267695903778076,
          6.572120666503906,
          6.429635047912598,
          4.681112766265869,
          -4.535831451416016,
          9.676457405090332,
          -5.429330348968506,
          6.699390411376953,
          9.747475624084473,
          10.696127891540527,
          8.35988998413086,
          5.235377788543701,
          2.4001870155334473,
          -0.2508482336997986,
          5.974806308746338,
          7.116524696350098,
          10.311273574829102,
          -0.9702498316764832,
          9.942464828491211,
          10.044172286987305,
          3.3913211822509766,
          10.705556869506836,
          7.677900791168213,
          7.709680557250977,
          1.6611613035202026,
          4.9636664390563965,
          0.1695321947336197,
          6.42384672164917,
          4.39279317855835,
          -6.63821268081665,
          4.981094837188721,
          -6.719930171966553,
          6.8088250160217285,
          5.9085469245910645,
          5.560096263885498,
          -7.043333530426025,
          5.862370491027832,
          3.574833631515503,
          -3.8412961959838867,
          -6.7700934410095215,
          6.991423606872559,
          6.776331901550293,
          4.839398384094238,
          6.193487644195557,
          4.473127365112305,
          10.266597747802734,
          3.2094063758850098,
          8.741467475891113,
          2.6187613010406494,
          5.02517557144165,
          6.698132038116455,
          7.926089286804199,
          3.539217233657837,
          -6.639426231384277,
          7.67779541015625,
          8.473061561584473,
          5.346043586730957,
          6.683575630187988,
          6.854498386383057,
          3.371469259262085,
          10.278895378112793,
          4.243201732635498,
          5.963333606719971,
          3.2072176933288574,
          5.447429656982422,
          -0.8443810343742371,
          8.376516342163086,
          8.737398147583008,
          6.848100662231445,
          5.04794979095459,
          2.324558734893799,
          8.399272918701172,
          -1.1651074886322021,
          6.06334114074707,
          -5.147387504577637,
          -1.2197438478469849,
          -1.5647183656692505,
          6.748491287231445,
          8.271261215209961,
          6.475172996520996,
          9.440545082092285,
          5.676320552825928,
          -1.1975473165512085,
          6.411283493041992,
          4.587735176086426,
          6.677213668823242,
          7.65831184387207,
          1.653144359588623,
          0.793729841709137,
          -6.479771137237549,
          10.243632316589355,
          8.58776569366455,
          1.5679093599319458,
          5.749042510986328,
          3.2245736122131348,
          -4.988501071929932,
          10.300724029541016,
          6.988126277923584,
          1.2037162780761719,
          -1.6323069334030151,
          4.429381370544434,
          -6.4602861404418945,
          -0.18852925300598145,
          8.41993236541748,
          9.310517311096191,
          10.656586647033691,
          6.956632137298584,
          -5.156961441040039,
          5.105149269104004,
          7.912333965301514,
          -6.502729892730713,
          8.564184188842773,
          10.672001838684082,
          10.139131546020508,
          3.6532459259033203,
          0.778012216091156,
          5.616770267486572,
          1.9667484760284424,
          9.095845222473145,
          8.22057056427002,
          7.263237953186035,
          6.798007488250732,
          -2.959308624267578,
          4.420781135559082,
          8.392037391662598,
          -6.660516738891602,
          -6.73712158203125,
          -0.5111545920372009,
          0.9912261366844177,
          10.080544471740723,
          6.801344871520996,
          10.396073341369629,
          0.9195875525474548,
          2.6189048290252686,
          5.78848934173584,
          8.036523818969727,
          10.572128295898438,
          3.736236572265625,
          -0.17021983861923218,
          6.484470367431641,
          -1.3164865970611572,
          4.534990310668945,
          10.687589645385742,
          0.6582107543945312,
          7.6756978034973145,
          10.529637336730957,
          10.595742225646973,
          10.372173309326172,
          5.308618545532227,
          8.431970596313477,
          6.3712477684021,
          -6.755666732788086,
          4.226393699645996,
          8.045148849487305,
          -6.545037746429443,
          9.015801429748535,
          5.0942463874816895,
          2.1182520389556885,
          6.596114158630371,
          -2.826550245285034,
          1.9410778284072876,
          6.745827674865723,
          1.4335973262786865,
          6.311794281005859,
          4.455869674682617,
          4.787720680236816,
          -6.374902248382568,
          10.5523681640625,
          0.0955948680639267,
          4.7045979499816895,
          5.916323661804199,
          6.544081211090088,
          4.840813636779785,
          -0.14182615280151367,
          10.413562774658203,
          -0.6699555516242981,
          4.016727924346924,
          3.9490537643432617,
          -3.58371639251709,
          1.1762254238128662,
          -2.803694009780884,
          -2.434743642807007,
          6.560532569885254,
          3.0904712677001953,
          -6.246373176574707,
          5.4615397453308105,
          6.6387858390808105,
          4.938570022583008,
          4.870832920074463,
          2.207899570465088,
          0.2010938674211502,
          4.884244441986084,
          5.386573791503906,
          6.168885231018066,
          5.695803165435791,
          8.550558090209961,
          5.753012180328369,
          2.7825095653533936,
          -3.174875497817993,
          -6.722488880157471,
          1.7648372650146484,
          -6.203973770141602,
          8.43124771118164,
          -0.31702661514282227,
          11.049121856689453,
          1.991037368774414,
          3.3120758533477783,
          -5.766360759735107,
          10.45423412322998,
          9.743834495544434,
          3.887761354446411,
          -0.6524343490600586,
          2.5206069946289062,
          4.637599945068359,
          -0.6532235145568848,
          6.506479740142822,
          -6.640244483947754,
          1.6199744939804077,
          -4.560681343078613,
          2.8107635974884033,
          3.2063541412353516,
          8.002960205078125,
          8.662968635559082,
          0.23906448483467102,
          3.3362069129943848,
          10.680681228637695,
          5.866244792938232,
          1.9112730026245117,
          0.9735518097877502,
          6.603058338165283,
          -1.1715798377990723,
          6.451325416564941,
          -3.570948600769043,
          -6.770994186401367,
          5.5617876052856445,
          5.537481307983398,
          7.446108818054199,
          5.471792697906494,
          10.503484725952148,
          -2.2189066410064697,
          7.249453067779541,
          0.953552782535553,
          5.564276695251465,
          7.1206374168396,
          -6.646740913391113,
          10.601162910461426,
          6.56575870513916,
          10.592045783996582,
          0.31384289264678955,
          -6.844028472900391,
          8.107617378234863,
          10.082764625549316,
          8.257853507995605,
          8.34616470336914,
          -6.170773029327393,
          9.655046463012695,
          9.207620620727539,
          7.68765926361084,
          7.606031894683838,
          0.13295294344425201,
          8.412012100219727,
          7.167999267578125,
          -0.04314432293176651,
          7.87434720993042,
          -6.566838264465332,
          5.885264873504639,
          5.1990275382995605,
          7.58854341506958,
          2.03908109664917,
          8.724584579467773,
          2.837831974029541,
          10.660414695739746,
          8.719549179077148,
          0.2583310008049011,
          4.515625953674316,
          6.40843391418457,
          2.6997933387756348,
          5.904242515563965,
          -4.6116042137146,
          -0.6717919707298279,
          3.8253915309906006,
          -1.623725175857544,
          -5.113884449005127,
          -0.7856168746948242,
          5.2852654457092285,
          -0.06457692384719849,
          4.036919116973877,
          -5.040442943572998,
          7.917225360870361,
          5.93789005279541,
          5.520381927490234,
          -0.6834582686424255,
          1.919439673423767,
          1.6472399234771729,
          1.9575225114822388,
          10.172148704528809,
          -6.567196369171143,
          6.77518892288208,
          3.6192290782928467,
          2.963028907775879,
          8.21115779876709,
          5.937928199768066,
          1.5884631872177124,
          -6.713961601257324,
          8.512604713439941,
          8.190773963928223,
          9.867595672607422,
          3.0356178283691406,
          2.4623985290527344,
          -6.145771503448486,
          4.007162570953369,
          0.16941624879837036,
          2.031555652618408,
          4.045424461364746,
          7.229255676269531,
          2.322787046432495,
          7.255868911743164,
          -6.744154453277588,
          -6.747258186340332,
          -2.181752920150757,
          6.701816082000732,
          5.752689361572266,
          4.2766337394714355,
          7.216250419616699,
          6.857424736022949,
          -4.363133430480957,
          -6.75123405456543,
          5.320975303649902,
          10.6797456741333,
          2.7678933143615723,
          -6.371994972229004,
          0.03430981934070587,
          6.217135906219482,
          4.282270908355713,
          9.555625915527344,
          5.049768447875977,
          2.0805068016052246,
          7.792749404907227,
          5.943560600280762,
          7.734982490539551,
          5.933141231536865,
          -6.297987937927246,
          10.693130493164062,
          3.5582830905914307,
          5.486746788024902,
          6.436079025268555,
          4.4931721687316895,
          8.137686729431152,
          8.309768676757812,
          6.860726833343506,
          3.941826343536377,
          3.0377540588378906,
          7.1727375984191895,
          8.6251220703125,
          -6.739013671875,
          2.1975555419921875,
          9.05688190460205,
          -4.129078388214111,
          4.006214618682861,
          2.1584298610687256,
          -0.9761335849761963,
          6.85850715637207,
          8.26852035522461,
          6.717447280883789,
          10.03792667388916,
          -7.086287498474121,
          -1.1503171920776367,
          9.59965705871582,
          6.735711574554443,
          5.965847492218018,
          -6.886505126953125,
          9.003151893615723,
          6.060479164123535,
          3.6509506702423096,
          -3.702252149581909,
          3.5214452743530273,
          -1.9505014419555664,
          8.543376922607422,
          1.1530938148498535,
          -6.758156776428223,
          -0.38621437549591064,
          5.063078880310059,
          -0.6273078918457031,
          0.5293458700180054,
          5.880974292755127,
          2.492141008377075,
          -6.557806015014648,
          5.544003486633301,
          5.185130596160889,
          8.093135833740234,
          -6.875669002532959,
          -3.415635108947754,
          3.6085052490234375,
          7.265205383300781,
          -3.8645591735839844,
          7.929930686950684,
          3.336254119873047,
          9.874643325805664,
          -6.9411749839782715,
          -1.1381760835647583,
          -6.654801845550537,
          4.4193925857543945,
          10.079505920410156,
          4.915665626525879,
          -2.848668098449707,
          6.993187427520752,
          -2.8774728775024414,
          10.705794334411621,
          0.17621156573295593,
          7.422466278076172,
          -6.155304908752441,
          -1.1088390350341797
         ]
        },
        {
         "hoverlabel": {
          "namelength": 0
         },
         "hovertemplate": "Dominant_Topic=Topic 2<br>0=%{x}<br>1=%{y}<br>2=%{z}",
         "legendgroup": "Dominant_Topic=Topic 2",
         "marker": {
          "color": "#00cc96",
          "opacity": 0.7,
          "symbol": "circle"
         },
         "mode": "markers",
         "name": "Dominant_Topic=Topic 2",
         "scene": "scene",
         "showlegend": true,
         "type": "scatter3d",
         "x": [
          -0.14756831526756287,
          -0.0505615659058094,
          -0.01115615013986826,
          -1.65913987159729,
          0.8741622567176819,
          0.17154936492443085,
          -1.2714735269546509,
          -1.72276771068573,
          0.31146255135536194,
          -1.5767101049423218,
          0.171701118350029,
          0.3677608072757721,
          0.3586994409561157,
          -0.33663782477378845,
          -2.0185298919677734,
          0.4032098054885864,
          -0.14047639071941376,
          -1.4494976997375488,
          -1.626657485961914,
          -2.0185256004333496,
          0.4010125696659088,
          0.1262645125389099,
          0.17284493148326874,
          -2.0208046436309814,
          -0.03032074123620987,
          -2.270197629928589,
          0.632294237613678,
          -0.46349409222602844,
          -1.5874934196472168,
          -1.7898387908935547,
          0.1874537169933319,
          0.6755288243293762,
          -2.2279207706451416,
          -0.07355441898107529,
          -0.28954198956489563,
          1.078935980796814,
          0.3704478144645691,
          0.12855197489261627,
          -0.9017371535301208,
          -2.030730962753296,
          -2.0367133617401123,
          0.507144033908844,
          0.014114991761744022,
          1.070827841758728,
          -0.49674785137176514
         ],
         "y": [
          -8.228943824768066,
          -8.65985107421875,
          -8.615218162536621,
          -9.763655662536621,
          -6.32763671875,
          -8.318754196166992,
          -9.54700756072998,
          -9.780837059020996,
          -8.138769149780273,
          -9.749181747436523,
          -7.762007713317871,
          -8.063970565795898,
          -7.949896812438965,
          -9.004667282104492,
          -9.764427185058594,
          -8.006479263305664,
          -8.314696311950684,
          -9.726310729980469,
          -9.605838775634766,
          -9.764427185058594,
          -7.9598493576049805,
          -8.437373161315918,
          -7.483688831329346,
          -9.525300979614258,
          -8.584135055541992,
          -9.655253410339355,
          -6.513001441955566,
          -8.630062103271484,
          -9.757012367248535,
          -9.786001205444336,
          -8.368964195251465,
          -7.568821430206299,
          -9.67357349395752,
          -8.957797050476074,
          -7.3359808921813965,
          -6.555339813232422,
          -8.051079750061035,
          -8.078631401062012,
          -9.55760383605957,
          -9.472599029541016,
          -9.7644681930542,
          -6.583161354064941,
          -8.304435729980469,
          -6.213379859924316,
          -8.464804649353027
         ],
         "z": [
          -1.1971043348312378,
          -3.0211069583892822,
          -3.0941386222839355,
          -0.21609221398830414,
          0.2787047028541565,
          -3.0287587642669678,
          -0.733805775642395,
          -0.11544385552406311,
          -3.2665364742279053,
          -0.36217668652534485,
          -1.0797326564788818,
          -3.054929494857788,
          -2.7709953784942627,
          -2.7564778327941895,
          0.439867228269577,
          -3.3941543102264404,
          -1.450676679611206,
          -0.609865665435791,
          -0.044268205761909485,
          0.4398593306541443,
          -3.129371404647827,
          -3.2459659576416016,
          -0.4741937816143036,
          0.8006772398948669,
          -2.5587096214294434,
          0.9686212539672852,
          0.35513195395469666,
          -1.1321313381195068,
          -0.35101649165153503,
          0.0068723419681191444,
          -3.016845703125,
          -3.5822389125823975,
          0.8853825926780701,
          -2.651202440261841,
          0.7637391090393066,
          -0.8854179382324219,
          -3.336496353149414,
          -1.8903638124465942,
          -2.060034990310669,
          0.8910771012306213,
          0.4679552912712097,
          0.4811857342720032,
          -2.0795412063598633,
          -0.02100038342177868,
          -0.6892936825752258
         ]
        },
        {
         "hoverlabel": {
          "namelength": 0
         },
         "hovertemplate": "Dominant_Topic=Topic 3<br>0=%{x}<br>1=%{y}<br>2=%{z}",
         "legendgroup": "Dominant_Topic=Topic 3",
         "marker": {
          "color": "#ab63fa",
          "opacity": 0.7,
          "symbol": "circle"
         },
         "mode": "markers",
         "name": "Dominant_Topic=Topic 3",
         "scene": "scene",
         "showlegend": true,
         "type": "scatter3d",
         "x": [
          6.075883865356445,
          6.616571426391602,
          7.014714241027832,
          7.00909423828125,
          6.35902738571167,
          6.960289478302002,
          6.1553473472595215,
          6.7702789306640625,
          5.697738170623779,
          6.254508972167969,
          6.339889049530029,
          6.671625137329102,
          0.6239796876907349,
          5.797996997833252,
          6.8366570472717285,
          5.716220855712891,
          5.7361836433410645,
          6.504956245422363,
          6.7256855964660645,
          7.078441143035889,
          6.338418006896973,
          6.710880279541016,
          6.566467761993408,
          6.3440117835998535,
          6.765968322753906,
          6.179849147796631,
          6.873176097869873,
          5.917463302612305,
          5.706745624542236,
          6.367976665496826
         ],
         "y": [
          -11.157122611999512,
          -11.41886043548584,
          -11.567245483398438,
          -11.100503921508789,
          -11.850228309631348,
          -11.363524436950684,
          -11.721847534179688,
          -11.142714500427246,
          -11.66779899597168,
          -11.031258583068848,
          -11.386364936828613,
          -10.888053894042969,
          -6.494659423828125,
          -11.65805435180664,
          -11.773335456848145,
          -11.754469871520996,
          -11.759657859802246,
          -11.798745155334473,
          -11.226177215576172,
          -11.250518798828125,
          -11.057785987854004,
          -10.969311714172363,
          -11.684253692626953,
          -11.211688041687012,
          -11.45377254486084,
          -11.038199424743652,
          -11.76630973815918,
          -11.546934127807617,
          -11.765195846557617,
          -11.896509170532227
         ],
         "z": [
          9.589146614074707,
          9.915238380432129,
          9.277289390563965,
          9.395242691040039,
          9.165048599243164,
          9.763504028320312,
          9.764768600463867,
          9.045673370361328,
          9.564291000366211,
          9.241719245910645,
          8.947765350341797,
          9.386907577514648,
          7.061636924743652,
          9.549626350402832,
          9.56782341003418,
          9.023418426513672,
          8.988247871398926,
          9.728264808654785,
          9.865645408630371,
          9.355332374572754,
          9.129358291625977,
          9.66943645477295,
          9.021461486816406,
          9.86022663116455,
          8.965506553649902,
          9.480535507202148,
          9.44958782196045,
          9.68407154083252,
          9.00323486328125,
          9.529685020446777
         ]
        }
       ],
       "layout": {
        "height": 800,
        "legend": {
         "tracegroupgap": 0
        },
        "scene": {
         "domain": {
          "x": [
           0,
           1
          ],
          "y": [
           0,
           1
          ]
         },
         "xaxis": {
          "title": {
           "text": "0"
          }
         },
         "yaxis": {
          "title": {
           "text": "1"
          }
         },
         "zaxis": {
          "title": {
           "text": "2"
          }
         }
        },
        "template": {
         "data": {
          "bar": [
           {
            "error_x": {
             "color": "#2a3f5f"
            },
            "error_y": {
             "color": "#2a3f5f"
            },
            "marker": {
             "line": {
              "color": "#E5ECF6",
              "width": 0.5
             }
            },
            "type": "bar"
           }
          ],
          "barpolar": [
           {
            "marker": {
             "line": {
              "color": "#E5ECF6",
              "width": 0.5
             }
            },
            "type": "barpolar"
           }
          ],
          "carpet": [
           {
            "aaxis": {
             "endlinecolor": "#2a3f5f",
             "gridcolor": "white",
             "linecolor": "white",
             "minorgridcolor": "white",
             "startlinecolor": "#2a3f5f"
            },
            "baxis": {
             "endlinecolor": "#2a3f5f",
             "gridcolor": "white",
             "linecolor": "white",
             "minorgridcolor": "white",
             "startlinecolor": "#2a3f5f"
            },
            "type": "carpet"
           }
          ],
          "choropleth": [
           {
            "colorbar": {
             "outlinewidth": 0,
             "ticks": ""
            },
            "type": "choropleth"
           }
          ],
          "contour": [
           {
            "colorbar": {
             "outlinewidth": 0,
             "ticks": ""
            },
            "colorscale": [
             [
              0,
              "#0d0887"
             ],
             [
              0.1111111111111111,
              "#46039f"
             ],
             [
              0.2222222222222222,
              "#7201a8"
             ],
             [
              0.3333333333333333,
              "#9c179e"
             ],
             [
              0.4444444444444444,
              "#bd3786"
             ],
             [
              0.5555555555555556,
              "#d8576b"
             ],
             [
              0.6666666666666666,
              "#ed7953"
             ],
             [
              0.7777777777777778,
              "#fb9f3a"
             ],
             [
              0.8888888888888888,
              "#fdca26"
             ],
             [
              1,
              "#f0f921"
             ]
            ],
            "type": "contour"
           }
          ],
          "contourcarpet": [
           {
            "colorbar": {
             "outlinewidth": 0,
             "ticks": ""
            },
            "type": "contourcarpet"
           }
          ],
          "heatmap": [
           {
            "colorbar": {
             "outlinewidth": 0,
             "ticks": ""
            },
            "colorscale": [
             [
              0,
              "#0d0887"
             ],
             [
              0.1111111111111111,
              "#46039f"
             ],
             [
              0.2222222222222222,
              "#7201a8"
             ],
             [
              0.3333333333333333,
              "#9c179e"
             ],
             [
              0.4444444444444444,
              "#bd3786"
             ],
             [
              0.5555555555555556,
              "#d8576b"
             ],
             [
              0.6666666666666666,
              "#ed7953"
             ],
             [
              0.7777777777777778,
              "#fb9f3a"
             ],
             [
              0.8888888888888888,
              "#fdca26"
             ],
             [
              1,
              "#f0f921"
             ]
            ],
            "type": "heatmap"
           }
          ],
          "heatmapgl": [
           {
            "colorbar": {
             "outlinewidth": 0,
             "ticks": ""
            },
            "colorscale": [
             [
              0,
              "#0d0887"
             ],
             [
              0.1111111111111111,
              "#46039f"
             ],
             [
              0.2222222222222222,
              "#7201a8"
             ],
             [
              0.3333333333333333,
              "#9c179e"
             ],
             [
              0.4444444444444444,
              "#bd3786"
             ],
             [
              0.5555555555555556,
              "#d8576b"
             ],
             [
              0.6666666666666666,
              "#ed7953"
             ],
             [
              0.7777777777777778,
              "#fb9f3a"
             ],
             [
              0.8888888888888888,
              "#fdca26"
             ],
             [
              1,
              "#f0f921"
             ]
            ],
            "type": "heatmapgl"
           }
          ],
          "histogram": [
           {
            "marker": {
             "colorbar": {
              "outlinewidth": 0,
              "ticks": ""
             }
            },
            "type": "histogram"
           }
          ],
          "histogram2d": [
           {
            "colorbar": {
             "outlinewidth": 0,
             "ticks": ""
            },
            "colorscale": [
             [
              0,
              "#0d0887"
             ],
             [
              0.1111111111111111,
              "#46039f"
             ],
             [
              0.2222222222222222,
              "#7201a8"
             ],
             [
              0.3333333333333333,
              "#9c179e"
             ],
             [
              0.4444444444444444,
              "#bd3786"
             ],
             [
              0.5555555555555556,
              "#d8576b"
             ],
             [
              0.6666666666666666,
              "#ed7953"
             ],
             [
              0.7777777777777778,
              "#fb9f3a"
             ],
             [
              0.8888888888888888,
              "#fdca26"
             ],
             [
              1,
              "#f0f921"
             ]
            ],
            "type": "histogram2d"
           }
          ],
          "histogram2dcontour": [
           {
            "colorbar": {
             "outlinewidth": 0,
             "ticks": ""
            },
            "colorscale": [
             [
              0,
              "#0d0887"
             ],
             [
              0.1111111111111111,
              "#46039f"
             ],
             [
              0.2222222222222222,
              "#7201a8"
             ],
             [
              0.3333333333333333,
              "#9c179e"
             ],
             [
              0.4444444444444444,
              "#bd3786"
             ],
             [
              0.5555555555555556,
              "#d8576b"
             ],
             [
              0.6666666666666666,
              "#ed7953"
             ],
             [
              0.7777777777777778,
              "#fb9f3a"
             ],
             [
              0.8888888888888888,
              "#fdca26"
             ],
             [
              1,
              "#f0f921"
             ]
            ],
            "type": "histogram2dcontour"
           }
          ],
          "mesh3d": [
           {
            "colorbar": {
             "outlinewidth": 0,
             "ticks": ""
            },
            "type": "mesh3d"
           }
          ],
          "parcoords": [
           {
            "line": {
             "colorbar": {
              "outlinewidth": 0,
              "ticks": ""
             }
            },
            "type": "parcoords"
           }
          ],
          "pie": [
           {
            "automargin": true,
            "type": "pie"
           }
          ],
          "scatter": [
           {
            "marker": {
             "colorbar": {
              "outlinewidth": 0,
              "ticks": ""
             }
            },
            "type": "scatter"
           }
          ],
          "scatter3d": [
           {
            "line": {
             "colorbar": {
              "outlinewidth": 0,
              "ticks": ""
             }
            },
            "marker": {
             "colorbar": {
              "outlinewidth": 0,
              "ticks": ""
             }
            },
            "type": "scatter3d"
           }
          ],
          "scattercarpet": [
           {
            "marker": {
             "colorbar": {
              "outlinewidth": 0,
              "ticks": ""
             }
            },
            "type": "scattercarpet"
           }
          ],
          "scattergeo": [
           {
            "marker": {
             "colorbar": {
              "outlinewidth": 0,
              "ticks": ""
             }
            },
            "type": "scattergeo"
           }
          ],
          "scattergl": [
           {
            "marker": {
             "colorbar": {
              "outlinewidth": 0,
              "ticks": ""
             }
            },
            "type": "scattergl"
           }
          ],
          "scattermapbox": [
           {
            "marker": {
             "colorbar": {
              "outlinewidth": 0,
              "ticks": ""
             }
            },
            "type": "scattermapbox"
           }
          ],
          "scatterpolar": [
           {
            "marker": {
             "colorbar": {
              "outlinewidth": 0,
              "ticks": ""
             }
            },
            "type": "scatterpolar"
           }
          ],
          "scatterpolargl": [
           {
            "marker": {
             "colorbar": {
              "outlinewidth": 0,
              "ticks": ""
             }
            },
            "type": "scatterpolargl"
           }
          ],
          "scatterternary": [
           {
            "marker": {
             "colorbar": {
              "outlinewidth": 0,
              "ticks": ""
             }
            },
            "type": "scatterternary"
           }
          ],
          "surface": [
           {
            "colorbar": {
             "outlinewidth": 0,
             "ticks": ""
            },
            "colorscale": [
             [
              0,
              "#0d0887"
             ],
             [
              0.1111111111111111,
              "#46039f"
             ],
             [
              0.2222222222222222,
              "#7201a8"
             ],
             [
              0.3333333333333333,
              "#9c179e"
             ],
             [
              0.4444444444444444,
              "#bd3786"
             ],
             [
              0.5555555555555556,
              "#d8576b"
             ],
             [
              0.6666666666666666,
              "#ed7953"
             ],
             [
              0.7777777777777778,
              "#fb9f3a"
             ],
             [
              0.8888888888888888,
              "#fdca26"
             ],
             [
              1,
              "#f0f921"
             ]
            ],
            "type": "surface"
           }
          ],
          "table": [
           {
            "cells": {
             "fill": {
              "color": "#EBF0F8"
             },
             "line": {
              "color": "white"
             }
            },
            "header": {
             "fill": {
              "color": "#C8D4E3"
             },
             "line": {
              "color": "white"
             }
            },
            "type": "table"
           }
          ]
         },
         "layout": {
          "annotationdefaults": {
           "arrowcolor": "#2a3f5f",
           "arrowhead": 0,
           "arrowwidth": 1
          },
          "coloraxis": {
           "colorbar": {
            "outlinewidth": 0,
            "ticks": ""
           }
          },
          "colorscale": {
           "diverging": [
            [
             0,
             "#8e0152"
            ],
            [
             0.1,
             "#c51b7d"
            ],
            [
             0.2,
             "#de77ae"
            ],
            [
             0.3,
             "#f1b6da"
            ],
            [
             0.4,
             "#fde0ef"
            ],
            [
             0.5,
             "#f7f7f7"
            ],
            [
             0.6,
             "#e6f5d0"
            ],
            [
             0.7,
             "#b8e186"
            ],
            [
             0.8,
             "#7fbc41"
            ],
            [
             0.9,
             "#4d9221"
            ],
            [
             1,
             "#276419"
            ]
           ],
           "sequential": [
            [
             0,
             "#0d0887"
            ],
            [
             0.1111111111111111,
             "#46039f"
            ],
            [
             0.2222222222222222,
             "#7201a8"
            ],
            [
             0.3333333333333333,
             "#9c179e"
            ],
            [
             0.4444444444444444,
             "#bd3786"
            ],
            [
             0.5555555555555556,
             "#d8576b"
            ],
            [
             0.6666666666666666,
             "#ed7953"
            ],
            [
             0.7777777777777778,
             "#fb9f3a"
            ],
            [
             0.8888888888888888,
             "#fdca26"
            ],
            [
             1,
             "#f0f921"
            ]
           ],
           "sequentialminus": [
            [
             0,
             "#0d0887"
            ],
            [
             0.1111111111111111,
             "#46039f"
            ],
            [
             0.2222222222222222,
             "#7201a8"
            ],
            [
             0.3333333333333333,
             "#9c179e"
            ],
            [
             0.4444444444444444,
             "#bd3786"
            ],
            [
             0.5555555555555556,
             "#d8576b"
            ],
            [
             0.6666666666666666,
             "#ed7953"
            ],
            [
             0.7777777777777778,
             "#fb9f3a"
            ],
            [
             0.8888888888888888,
             "#fdca26"
            ],
            [
             1,
             "#f0f921"
            ]
           ]
          },
          "colorway": [
           "#636efa",
           "#EF553B",
           "#00cc96",
           "#ab63fa",
           "#FFA15A",
           "#19d3f3",
           "#FF6692",
           "#B6E880",
           "#FF97FF",
           "#FECB52"
          ],
          "font": {
           "color": "#2a3f5f"
          },
          "geo": {
           "bgcolor": "white",
           "lakecolor": "white",
           "landcolor": "#E5ECF6",
           "showlakes": true,
           "showland": true,
           "subunitcolor": "white"
          },
          "hoverlabel": {
           "align": "left"
          },
          "hovermode": "closest",
          "mapbox": {
           "style": "light"
          },
          "paper_bgcolor": "white",
          "plot_bgcolor": "#E5ECF6",
          "polar": {
           "angularaxis": {
            "gridcolor": "white",
            "linecolor": "white",
            "ticks": ""
           },
           "bgcolor": "#E5ECF6",
           "radialaxis": {
            "gridcolor": "white",
            "linecolor": "white",
            "ticks": ""
           }
          },
          "scene": {
           "xaxis": {
            "backgroundcolor": "#E5ECF6",
            "gridcolor": "white",
            "gridwidth": 2,
            "linecolor": "white",
            "showbackground": true,
            "ticks": "",
            "zerolinecolor": "white"
           },
           "yaxis": {
            "backgroundcolor": "#E5ECF6",
            "gridcolor": "white",
            "gridwidth": 2,
            "linecolor": "white",
            "showbackground": true,
            "ticks": "",
            "zerolinecolor": "white"
           },
           "zaxis": {
            "backgroundcolor": "#E5ECF6",
            "gridcolor": "white",
            "gridwidth": 2,
            "linecolor": "white",
            "showbackground": true,
            "ticks": "",
            "zerolinecolor": "white"
           }
          },
          "shapedefaults": {
           "line": {
            "color": "#2a3f5f"
           }
          },
          "ternary": {
           "aaxis": {
            "gridcolor": "white",
            "linecolor": "white",
            "ticks": ""
           },
           "baxis": {
            "gridcolor": "white",
            "linecolor": "white",
            "ticks": ""
           },
           "bgcolor": "#E5ECF6",
           "caxis": {
            "gridcolor": "white",
            "linecolor": "white",
            "ticks": ""
           }
          },
          "title": {
           "x": 0.05
          },
          "xaxis": {
           "automargin": true,
           "gridcolor": "white",
           "linecolor": "white",
           "ticks": "",
           "title": {
            "standoff": 15
           },
           "zerolinecolor": "white",
           "zerolinewidth": 2
          },
          "yaxis": {
           "automargin": true,
           "gridcolor": "white",
           "linecolor": "white",
           "ticks": "",
           "title": {
            "standoff": 15
           },
           "zerolinecolor": "white",
           "zerolinewidth": 2
          }
         }
        },
        "title": {
         "text": "3d TSNE Plot for Topic Model"
        },
        "width": 900
       }
      },
      "text/html": [
       "<div>\n",
       "        \n",
       "        \n",
       "            <div id=\"6289f66c-78b8-41af-8e71-498cc042f78e\" class=\"plotly-graph-div\" style=\"height:800px; width:900px;\"></div>\n",
       "            <script type=\"text/javascript\">\n",
       "                require([\"plotly\"], function(Plotly) {\n",
       "                    window.PLOTLYENV=window.PLOTLYENV || {};\n",
       "                    \n",
       "                if (document.getElementById(\"6289f66c-78b8-41af-8e71-498cc042f78e\")) {\n",
       "                    Plotly.newPlot(\n",
       "                        '6289f66c-78b8-41af-8e71-498cc042f78e',\n",
       "                        [{\"hoverlabel\": {\"namelength\": 0}, \"hovertemplate\": \"Dominant_Topic=Topic 0<br>0=%{x}<br>1=%{y}<br>2=%{z}\", \"legendgroup\": \"Dominant_Topic=Topic 0\", \"marker\": {\"color\": \"#636efa\", \"opacity\": 0.7, \"symbol\": \"circle\"}, \"mode\": \"markers\", \"name\": \"Dominant_Topic=Topic 0\", \"scene\": \"scene\", \"showlegend\": true, \"type\": \"scatter3d\", \"x\": [8.82410717010498, 8.309319496154785, 4.961167812347412, 7.421757698059082, 11.200614929199219, 2.711590528488159, 2.9687957763671875, 5.914923191070557, 10.964273452758789, 8.71554183959961, 10.353028297424316, 2.693427562713623, 10.179801940917969, 4.967187404632568, 9.236762046813965, 5.208815097808838, 10.97789192199707, 6.193351745605469, 7.286085605621338, 3.0200726985931396, 6.666998863220215, 6.689754962921143, 1.4015027284622192, 4.719844341278076, 2.7352402210235596, 2.802651882171631, 3.838789463043213, 11.196527481079102, -0.016460822895169258, 1.311339259147644, 9.831135749816895, 10.447000503540039, 6.944450855255127, 1.8762608766555786, 3.898258686065674, 2.7130215167999268, 3.72021484375, 2.6386027336120605, 8.225456237792969, 5.944087028503418, 3.3596949577331543, 8.8402099609375, 3.9574878215789795, 9.781208992004395, 1.4246619939804077, 1.833988904953003, 9.463788032531738, 4.480719089508057, 11.242729187011719, 10.741313934326172, 3.0456438064575195, 11.154220581054688, 5.399024486541748, 5.823671340942383, 3.092833995819092, 2.6661436557769775, 9.008825302124023, 1.4700485467910767, 4.062566757202148, 11.00787353515625, 6.799977779388428, 8.010839462280273, 8.314674377441406, 0.36007997393608093, 8.052845001220703, 2.773956298828125, 4.253849029541016, 6.939769268035889, 2.0748491287231445, 6.890140533447266, 5.135485649108887, 11.14472484588623, 10.735639572143555, 10.704865455627441, 10.865797996520996, 10.05664348602295, 8.813084602355957, 5.162111759185791, 4.781247615814209, 9.523787498474121, 8.415671348571777, 2.494384288787842, 6.862563610076904, 9.889816284179688, 11.238642692565918, -0.04609274864196777, 11.257458686828613, 1.1989390850067139, 9.98659610748291, -0.3565630614757538, -0.026824040338397026, 2.6677792072296143, 2.6394999027252197, 7.720433712005615, 9.526719093322754, 9.867914199829102, 3.260362386703491, 6.031311511993408, 5.996923446655273, 9.654133796691895, 7.369534015655518, 4.91148042678833, 9.965354919433594, 4.5526652336120605, 6.074493408203125, 11.19654655456543, 10.071627616882324, 6.877246379852295, 4.630281448364258, 8.291478157043457, 4.484450817108154, 6.517310619354248, 6.5598978996276855, 4.716686725616455, 1.167924404144287, 10.228923797607422, 3.1955466270446777, 1.5889201164245605, 5.986622333526611, 6.773880481719971, 1.923329472541809, 3.9595255851745605, 2.3011255264282227, 6.646480083465576, 1.3203399181365967, 8.868813514709473, 4.066174507141113, 6.097874164581299, 3.7836761474609375, 3.587463855743408, 4.338183879852295, 2.0130507946014404, 0.4056202471256256, 1.4878144264221191, 4.342586994171143, 8.630208969116211, 9.266424179077148, 10.893470764160156, 6.704528331756592, 4.2444024085998535, 9.828404426574707, 1.6870813369750977, 9.905821800231934, 9.742351531982422, 10.419532775878906, 7.129923343658447, 0.24782611429691315, 5.767327308654785, 10.477930068969727, 7.038433074951172, 9.69041633605957, 7.569849014282227, 10.017340660095215, 6.870863914489746, 7.182999134063721, 5.791673183441162, 3.838064670562744, 1.9176535606384277, 6.145909309387207, 2.1888489723205566, 8.653667449951172, 2.3702070713043213, 2.216547727584839, 5.5533881187438965, 4.33357572555542, 5.109400749206543, 5.935574531555176, 1.7954325675964355, 10.379338264465332, 6.127901554107666, 1.8268412351608276, 4.528600692749023, 11.21944808959961, 5.050381183624268, 2.5209414958953857, 3.7150657176971436, 7.4493842124938965, 7.3632917404174805, 0.9443365931510925, 5.931511402130127, 10.375480651855469, 10.597367286682129, 4.491952419281006, 7.453882217407227, 10.831893920898438, 7.010751724243164, 1.9480007886886597, 4.447561740875244, 9.784039497375488, 6.312600135803223, 1.5378084182739258, 2.673339366912842, 3.5764849185943604, 4.4766411781311035, 4.576615810394287, 1.4809092283248901, 9.42802619934082, 6.634059429168701, 2.0817127227783203, 8.689494132995605, 5.399964332580566, 1.8608072996139526, 6.749382019042969, 7.60881233215332, 1.6999684572219849, 2.8415307998657227, 2.273165225982666, 7.135018348693848, 2.471137523651123, 11.217622756958008, 3.587085247039795, 9.933597564697266, 2.6422088146209717, -0.3192973732948303, 4.0628814697265625, 1.1891812086105347, 3.4893007278442383, 3.0532913208007812, 10.74231243133545, -0.01397608406841755, 4.467550277709961, 0.6655360460281372, 2.0461745262145996, 6.6070027351379395, 8.7445068359375, 10.774161338806152, 4.255800247192383, 9.368828773498535, 8.883033752441406, 7.925760269165039, 6.562544345855713, 6.262261867523193, 9.805136680603027, 8.288801193237305, 2.59009051322937, 10.85799789428711, 10.54041576385498, 9.805486679077148, 2.848710775375366, 10.836246490478516, 6.56464958190918, 9.468474388122559, 9.236072540283203, 5.825530529022217, 1.191416621208191, 2.6270666122436523, -0.10706476122140884, 2.6168806552886963, 3.3772292137145996, 7.774252891540527, 2.1780834197998047, 9.551562309265137, 10.787214279174805, 1.3752957582473755, 6.380014896392822, 4.819633960723877, 6.980767726898193, 7.878673553466797, 3.915391206741333, 7.50518798828125, 11.160761833190918, 8.253643989562988, 2.3580455780029297, -0.23764266073703766, 9.820134162902832, 5.9777750968933105, 1.793005347251892, 2.807830572128296, 6.614719867706299, 8.496551513671875, 10.495515823364258, 1.3190010786056519, -0.025107668712735176, 3.6393542289733887, 2.517735481262207, 0.34228208661079407, 4.576102256774902, 8.71423625946045, 3.706097364425659, 9.583868980407715, 0.37221571803092957, 9.754319190979004, 9.51834487915039, 8.699806213378906, 8.417315483093262, 10.598440170288086, 7.078758716583252, 2.827573776245117, 5.095713138580322, 6.571194648742676, 2.704270601272583, 10.432149887084961, 9.6844482421875, 3.0892140865325928, 3.6551525592803955, -0.3471086621284485, 1.9095921516418457, 8.407166481018066, 9.544635772705078, 10.499943733215332, 2.671177387237549, 6.648931980133057, 1.478679895401001, 11.02088737487793, 6.005920886993408, 9.657723426818848, 7.007462024688721, 4.521332263946533, 7.307207107543945, 3.734584331512451, 1.8775814771652222, 9.479947090148926, 10.088310241699219, 2.599712371826172, 3.072499990463257, 5.717290878295898, 3.8998115062713623, 2.0086536407470703, 9.253521919250488, 5.416729927062988, 2.631688356399536, 11.037273406982422, 9.934475898742676, 1.6504756212234497, 3.7061851024627686, 3.4823694229125977, 7.741614818572998, 2.6280717849731445, 4.609633445739746, 2.5895514488220215, 7.3811187744140625, 2.823949098587036, 11.207195281982422, 10.932147026062012, 6.982499599456787, 6.418025493621826, 2.659371852874756, 10.328536033630371, 11.115960121154785, 8.231454849243164, 9.912346839904785, 11.185443878173828, 0.7317898869514465, 1.6875953674316406, 9.305863380432129, 9.365468978881836, 1.922045350074768, 6.251404285430908, 6.878777503967285, 8.458678245544434, 3.854861259460449, 5.544915199279785, 11.13257884979248, 5.864721775054932, 2.2262959480285645, 4.955519676208496, 6.328942775726318, 6.84535551071167, 1.6300997734069824, 2.2343897819519043, 9.603089332580566, 4.199207305908203, 5.6295928955078125, 11.179983139038086, 4.309057235717773, 4.955770492553711, 10.353679656982422, 3.6975138187408447, 9.67634105682373, 10.308103561401367], \"y\": [-0.21885861456394196, -0.10568636655807495, -2.6307942867279053, -2.60749888420105, -2.743386745452881, -2.764094114303589, -3.822183609008789, -3.186875104904175, -2.863901376724243, -2.7162537574768066, -2.893860101699829, -1.8890652656555176, -1.1524224281311035, -3.3639259338378906, -2.703000068664551, -2.621915817260742, -2.584930181503296, -0.12980110943317413, -2.600703477859497, -4.1265387535095215, -3.1985507011413574, -2.1444828510284424, -6.373300075531006, -3.5800912380218506, -2.9419305324554443, -4.133612155914307, -0.08911313861608505, -2.794517993927002, -0.5969489216804504, -0.29657959938049316, -0.6763954162597656, -1.4424346685409546, -0.11601835489273071, -5.904057502746582, -1.6832802295684814, -1.9309682846069336, -2.9636573791503906, -3.5397024154663086, -0.10553900897502899, -0.11188776791095734, -3.2523996829986572, -2.727163314819336, -4.221286773681641, -0.66326904296875, -1.0027951002120972, -5.512798309326172, -1.4492548704147339, -0.0819268450140953, -2.7076244354248047, -1.7648309469223022, -0.14604702591896057, -2.8282456398010254, -2.608541250228882, -2.5905675888061523, -0.19805173575878143, -3.6885859966278076, -0.6348230242729187, -5.840754508972168, -1.5857819318771362, -2.0334813594818115, -3.0241918563842773, -0.10483304411172867, -0.11201140284538269, -0.2494964450597763, -0.18239763379096985, -2.4946436882019043, -1.8913975954055786, -2.367022752761841, -5.506759166717529, -3.2105014324188232, -2.7022087574005127, -2.156181573867798, -2.86811900138855, -1.7722923755645752, -2.7330398559570312, -1.2071391344070435, -3.0235280990600586, -1.7584620714187622, -3.744374990463257, 0.1974489688873291, -2.6783175468444824, -0.19390271604061127, -3.180192470550537, -0.7631083726882935, -2.472438097000122, -0.737692654132843, -2.3933663368225098, -6.719705581665039, -1.4491608142852783, -0.6477434635162354, -0.5217288732528687, -2.9406983852386475, -3.5951387882232666, -0.10732603073120117, -1.1804269552230835, -2.0747158527374268, -3.921741008758545, -0.24633963406085968, -2.650186061859131, -0.21547789871692657, -2.5915112495422363, -1.99057137966156, -0.8620947599411011, -2.6523048877716064, -2.697852611541748, -2.764801263809204, -2.9234492778778076, -1.9053380489349365, -2.104253053665161, -0.11260942369699478, -3.7368195056915283, -1.9634606838226318, -0.18347251415252686, -0.0879465788602829, -0.3577701151371002, -2.887418746948242, -0.13986729085445404, -6.112513542175293, -0.6027210354804993, -3.1492342948913574, -5.163956642150879, -0.08465985953807831, -4.878759860992432, -2.589812755584717, -0.9109728932380676, -2.2427613735198975, -0.11220604181289673, -3.290335178375244, -0.09072477370500565, -3.547070264816284, -2.8783411979675293, -0.2714966833591461, -0.6583713293075562, -0.26365044713020325, 1.94045889377594, -2.793220043182373, -0.3707592487335205, -2.816488265991211, -2.344601631164551, -3.9881227016448975, -0.6835309863090515, -6.0536699295043945, -2.861680030822754, -0.6126558184623718, -1.4030299186706543, -2.454345226287842, -0.07282882183790207, -0.1272587776184082, -2.898344039916992, -2.3096296787261963, -2.8506340980529785, -0.10436228662729263, -1.3035515546798706, -3.212395429611206, -3.01421856880188, -3.3790459632873535, -2.554433584213257, -5.152784824371338, -2.6159985065460205, -5.348681926727295, -0.1680273711681366, -5.008111476898193, -4.85215425491333, -0.8954676389694214, -3.327259063720703, -0.10038986802101135, -3.1089658737182617, -5.891420841217041, -2.904805898666382, -3.2643585205078125, -5.680474758148193, -2.14894700050354, -2.368642807006836, -0.09597654640674591, -1.548464298248291, -3.488020420074463, -3.0937321186065674, -2.6457602977752686, -0.3419015407562256, -0.30663344264030457, -1.3751680850982666, -1.642191767692566, 2.0185985565185547, -2.6110126972198486, -2.228595018386841, -2.5872721672058105, -5.71545934677124, -1.9921422004699707, -0.6460891962051392, -0.14514684677124023, -6.138225078582764, -2.9449050426483154, -3.354423999786377, -3.90082049369812, -3.8536324501037598, -6.295762062072754, -2.855086326599121, -3.053325891494751, -5.531124591827393, -2.709416627883911, -0.11738477647304535, -5.717696666717529, -3.203793525695801, -2.5104801654815674, -5.80576229095459, -1.8235337734222412, -5.398240566253662, -2.5975732803344727, -4.353074073791504, -2.5035319328308105, 1.5850327014923096, -2.9780197143554688, -5.055413246154785, -0.4680136442184448, -3.2357561588287354, -0.3467806577682495, -0.13907626271247864, -2.0290420055389404, -1.7831058502197266, -0.21331238746643066, -3.731107473373413, -0.38187360763549805, -1.1839946508407593, -0.1342254877090454, -2.7221410274505615, -2.292341947555542, -0.07742899656295776, -0.4191831350326538, -2.8155808448791504, -2.6434412002563477, -2.576944589614868, -2.775380849838257, -0.6601805686950684, -2.6706972122192383, -4.006194114685059, -2.2633471488952637, -2.9001080989837646, -2.9544320106506348, -4.941598415374756, -1.859145164489746, -2.4875552654266357, -0.454198956489563, -0.4463680386543274, -2.7951526641845703, -0.3194209337234497, -1.7002723217010498, -0.27856844663619995, -0.16454970836639404, -4.589409351348877, 0.7740446329116821, -4.978855133056641, -0.4907671809196472, -1.81867516040802, -6.403515815734863, -2.57867693901062, -3.634580135345459, -3.105081558227539, -2.714590072631836, -3.925774097442627, -2.613135814666748, -2.2298688888549805, -0.11412312090396881, -5.21644401550293, -0.38759201765060425, -0.678281307220459, -0.14635919034481049, -5.716259479522705, -2.8950300216674805, -3.257577419281006, -2.692460536956787, -2.924907684326172, -6.072697639465332, -0.7337989807128906, -1.8990973234176636, -4.777779579162598, -0.6825284361839294, -3.853868007659912, -0.1822148710489273, 1.588021159172058, -2.816538095474243, -0.2878483533859253, -2.8351004123687744, -0.4750426113605499, -0.17960479855537415, -0.11815490573644638, -1.574151873588562, -2.4193124771118164, -4.832515716552734, -3.6095004081726074, -1.9827433824539185, -1.1103242635726929, -2.9055957794189453, -0.1350213587284088, -4.772877216339111, -3.473067045211792, -0.6413726210594177, -5.228152751922607, -2.6843903064727783, -2.8160972595214844, -2.904975414276123, -2.986755847930908, -2.8433330059051514, -1.0126010179519653, -2.851686716079712, -2.7375454902648926, -3.0199248790740967, -0.11740043014287949, -1.753574013710022, -2.641530752182007, -2.7930495738983154, -5.489764213562012, -2.8223628997802734, -1.006974697113037, -3.722127914428711, -2.1994266510009766, -2.5933635234832764, 1.7228012084960938, -5.10524320602417, -1.9605668783187866, -3.4697020053863525, -5.100385665893555, -2.811432361602783, -2.853163957595825, -6.087239742279053, -1.3885444402694702, 1.6114407777786255, -0.10726834833621979, -0.16588646173477173, -0.08262845128774643, -3.8144803047180176, -0.1358555108308792, -3.4671478271484375, -2.525454521179199, -2.8753788471221924, -2.0143015384674072, -2.8689699172973633, -1.0412180423736572, -1.0004277229309082, -2.150002956390381, -0.10473655164241791, -2.853369951248169, -2.310725450515747, -0.3986722230911255, -5.814965724945068, -2.781654119491577, -2.797010660171509, -0.8879826664924622, -2.8883371353149414, -0.35093796253204346, -2.23417329788208, -3.7991886138916016, -3.2951903343200684, -2.833019495010376, -3.0525901317596436, -5.718318462371826, -3.6823537349700928, -2.581913471221924, -2.123380661010742, -5.844059944152832, -0.20038355886936188, -2.8123068809509277, -0.08124464750289917, -0.1099967360496521, -2.4214584827423096, -2.5936172008514404, -3.6791188716888428, -0.9908480644226074, -3.4340291023254395, -0.08605038374662399, -1.6314762830734253], \"z\": [-10.167276382446289, -10.798048973083496, 4.862066745758057, 3.7102768421173096, -2.0232813358306885, -7.950824737548828, -5.910313606262207, -3.215888500213623, -1.1008702516555786, 2.666887044906616, 0.6345434188842773, -9.367552757263184, -7.085784912109375, -3.9020140171051025, -3.248774290084839, 4.765902042388916, -2.6532530784606934, -12.071934700012207, 3.7969634532928467, -1.0673025846481323, 0.213941752910614, -5.946970462799072, -4.153405666351318, -3.446296453475952, -7.64422607421875, -5.5355634689331055, -12.750557899475098, -1.7516255378723145, -12.407687187194824, -12.689138412475586, -8.419417381286621, -6.255326271057129, -11.688456535339355, -3.156538486480713, -9.079239845275879, -9.291572570800781, -6.7469024658203125, -6.747938632965088, -10.838142395019531, -12.228277206420898, -6.548720359802246, 2.56677508354187, -2.118975877761841, -8.428776741027832, -11.234508514404297, -0.27942559123039246, -6.569131374359131, -12.679231643676758, -2.1893374919891357, -5.3915581703186035, -12.715824127197266, -1.5047818422317505, 4.7123494148254395, 4.5504889488220215, -12.561038970947266, -6.470556735992432, -8.423818588256836, -0.14007674157619476, -9.191988945007324, -4.667805194854736, 1.3162710666656494, -11.072875022888184, -10.806563377380371, -12.636374473571777, -10.200224876403809, -8.35324764251709, -8.133493423461914, -5.245298862457275, -1.4115965366363525, -0.7566038370132446, 4.53838586807251, -4.303232669830322, -1.3970597982406616, -5.363292217254639, -2.150157928466797, -6.973674774169922, 0.4037455916404724, -8.103734016418457, -2.196563720703125, -8.55554485321045, 2.9816970825195312, -12.680389404296875, 0.025990407913923264, -8.146056175231934, -3.1207115650177, -12.862385749816895, -3.456470012664795, -3.9430201053619385, -6.366147041320801, -12.73766803741455, -12.987573623657227, -7.700069427490234, -6.648594856262207, -11.261286735534668, -7.188261032104492, -4.867506980895996, 2.1765213012695312, -11.819252967834473, 4.195925712585449, -2.132128953933716, -4.403949737548828, -7.7375383377075195, -7.870619297027588, 5.004217147827148, 3.918604612350464, -1.9034011363983154, 0.6157827377319336, -6.496036529541016, -7.703509330749512, -10.81791877746582, 0.6874529719352722, -6.577886581420898, -11.693615913391113, -12.61192512512207, -12.571029663085938, 0.8233974575996399, -12.705015182495117, -4.037768840789795, -10.865852355957031, 0.435380220413208, 0.7048237919807434, -12.746026992797852, -4.726919174194336, 4.129283905029297, -11.432998657226562, -4.777305603027344, -12.592509269714355, 0.6021731495857239, -12.762568473815918, 2.8247294425964355, -6.24978494644165, -12.584245681762695, -12.668116569519043, -12.701372146606445, -10.254895210266113, -3.2146339416503906, -9.50406551361084, -1.7626807689666748, -5.439660549163818, -1.1069337129592896, -8.384345054626465, -3.3839502334594727, 1.3071378469467163, -8.603147506713867, -6.364005088806152, -4.912252902984619, -12.049187660217285, -12.246935844421387, 0.3825138211250305, -5.348503589630127, 1.4907399415969849, -11.353740692138672, -6.72801399230957, -0.6057978272438049, 1.0165529251098633, 0.5274304151535034, -7.434991836547852, 0.7524124979972839, 4.262394905090332, -3.651306629180908, -10.422077178955078, -4.000415325164795, -5.104001045227051, -10.317306518554688, 2.902628183364868, -12.5031099319458, -3.576003074645996, -2.5156123638153076, 0.44209709763526917, 0.7375739216804504, -0.9866940379142761, -7.687882423400879, -3.5450894832611084, -12.531281471252441, -9.990704536437988, 2.8883111476898193, 0.36981087923049927, -4.241252899169922, -12.687830924987793, -11.697473526000977, -6.451513290405273, -5.696202754974365, -10.097237586975098, 3.6803483963012695, -4.06060266494751, 3.977384567260742, -3.336906909942627, -8.06813907623291, -8.501934051513672, -11.966379165649414, -4.261340141296387, -7.6871514320373535, -6.094344615936279, -2.2971181869506836, -1.6116975545883179, -3.929283380508423, 1.5409234762191772, 1.3278862237930298, -3.460247039794922, 2.718017578125, -12.387423515319824, -3.9591236114501953, -1.5542856454849243, -4.534023284912109, -4.493526935577393, -9.395608901977539, -2.170250177383423, 3.873300552368164, -5.5692596435546875, -2.99924898147583, -10.976037979125977, 0.10402554273605347, -1.53111732006073, -12.758950233459473, 3.4536876678466797, -12.597352027893066, -12.639558792114258, -8.941018104553223, -5.342801570892334, -12.650014877319336, 0.7729106545448303, -12.66683578491211, -10.756562232971191, -11.830764770507812, 2.620774030685425, -3.9554176330566406, -12.735983848571777, -9.267873764038086, -3.023491859436035, 3.3316292762756348, 4.228102207183838, -4.494756698608398, -8.459681510925293, 3.0627517700195312, -6.023484706878662, -3.916311025619507, 0.22099822759628296, 0.5497100949287415, -2.2962849140167236, -5.130746841430664, -5.140656471252441, -9.176605224609375, -8.928152084350586, 3.66159725189209, -12.66856575012207, -9.699261665344238, -12.827737808227539, -12.733030319213867, -2.101705312728882, -10.836122512817383, -4.908748626708984, -9.031607627868652, -5.261141777038574, -4.194152355194092, 4.311075210571289, -2.9376094341278076, 0.49990060925483704, 2.918764591217041, 0.9993206262588501, 3.645820140838623, -4.051113128662109, -10.891682624816895, -3.369103193283081, -12.522714614868164, -8.39930248260498, -12.11689281463623, -4.344176292419434, -7.661634922027588, -0.48810115456581116, 2.8715572357177734, -0.6478803753852844, -0.3586796820163727, -12.523061752319336, -8.811081886291504, 0.7135205268859863, -12.573223114013672, -2.150739908218384, -10.368602752685547, -10.955413818359375, 1.7698482275009155, -12.78801155090332, 1.5788276195526123, -9.081825256347656, -10.371843338012695, -10.72996997833252, -5.898662090301514, -5.033750057220459, -2.550427198410034, -0.13614949584007263, -6.489133358001709, -10.697978973388672, 0.3421829640865326, -2.4178028106689453, -2.3294425010681152, 2.988687038421631, -12.711994171142578, 0.5319547653198242, 2.9453673362731934, 1.783228874206543, 0.2131044715642929, -7.622145652770996, 2.721083879470825, -11.201213836669922, -1.3008774518966675, 3.775261402130127, -0.2327924519777298, -11.6414155960083, -8.538895606994629, 0.7373154163360596, -7.065563678741455, -0.36297255754470825, 1.7605652809143066, -7.486588478088379, -6.481492519378662, -8.642751693725586, 4.595792770385742, -10.717439651489258, 0.6954137682914734, -5.354928016662598, -2.3896384239196777, -2.3852357864379883, -1.7114086151123047, 1.3634107112884521, -3.615450620651245, -9.750340461730957, -10.962425231933594, -11.258820533752441, -12.727099418640137, -12.656368255615234, -6.342774391174316, -11.168567657470703, -6.688138484954834, -2.915064811706543, -0.9301745891571045, -6.152567386627197, 2.7277088165283203, -10.848551750183105, -2.8726162910461426, -4.318057537078857, -10.82082462310791, -2.2666780948638916, -3.759817600250244, -12.630515098571777, -0.9072294235229492, 2.1049418449401855, -2.8422091007232666, -11.334453582763672, 2.763843297958374, -10.854471206665039, -4.959771156311035, 1.5847316980361938, -3.2665083408355713, -1.4699320793151855, -3.907179832458496, -4.2668776512146, -1.821939468383789, 4.324041366577148, -5.941822052001953, -0.7549761533737183, -12.714302062988281, 1.795551061630249, -12.719477653503418, -12.346028327941895, -3.292701244354248, -6.943973064422607, -0.897915780544281, -5.0018181800842285, 3.0750484466552734, -2.5253260135650635, -5.730936527252197]}, {\"hoverlabel\": {\"namelength\": 0}, \"hovertemplate\": \"Dominant_Topic=Topic 1<br>0=%{x}<br>1=%{y}<br>2=%{z}\", \"legendgroup\": \"Dominant_Topic=Topic 1\", \"marker\": {\"color\": \"#EF553B\", \"opacity\": 0.7, \"symbol\": \"circle\"}, \"mode\": \"markers\", \"name\": \"Dominant_Topic=Topic 1\", \"scene\": \"scene\", \"showlegend\": true, \"type\": \"scatter3d\", \"x\": [-11.55018424987793, -8.817596435546875, -5.6139631271362305, 2.687701940536499, -3.966167449951172, -3.5674538612365723, -14.556097984313965, -12.964178085327148, -8.57508659362793, -2.11358380317688, -9.731685638427734, -2.4437448978424072, -8.757333755493164, -5.081756114959717, -2.5399882793426514, -1.3428899049758911, 3.999952793121338, -6.940581321716309, -14.611662864685059, -14.070124626159668, -7.216699600219727, -0.6264462471008301, -9.457959175109863, 2.962477445602417, -8.800002098083496, 2.7708022594451904, -6.036209583282471, -6.38962984085083, -9.137238502502441, -6.492361068725586, -11.8395414352417, 0.539630651473999, 1.1484941244125366, -8.688438415527344, -13.889801025390625, -8.526272773742676, -14.028076171875, -1.8050190210342407, -6.3061676025390625, -4.408044338226318, -4.153497695922852, 3.462768793106079, -5.249627113342285, 2.8628807067871094, -5.422433853149414, -8.505546569824219, -6.619961738586426, -11.087580680847168, -2.1296980381011963, -7.041783809661865, 3.9478864669799805, 2.713421106338501, -6.443336486816406, -3.752082586288452, -0.514627993106842, 1.383396029472351, 2.886354684829712, -6.86026668548584, -8.01537799835205, 0.8689855337142944, -6.4145965576171875, -7.4362263679504395, -1.720983862876892, -6.889980792999268, -3.453690528869629, -9.210894584655762, -1.8203647136688232, -2.8772990703582764, -13.254499435424805, -8.416230201721191, -4.282068729400635, -3.8943865299224854, -2.5005269050598145, -3.994004964828491, -5.201251983642578, -13.638689994812012, -2.4396908283233643, -9.080188751220703, -4.66796875, -14.335562705993652, -2.113267421722412, -5.212068557739258, -4.012118816375732, -7.27891731262207, -6.367221832275391, -14.671004295349121, -14.577879905700684, -7.651648998260498, -5.487302780151367, -3.081204891204834, -8.002127647399902, -6.138457775115967, 1.772322416305542, -5.955493450164795, -3.8202526569366455, -7.23805570602417, -3.4879515171051025, 3.7494821548461914, -1.3877285718917847, -9.621060371398926, -6.631076335906982, -14.407330513000488, -0.22012443840503693, -5.579107761383057, -0.22150853276252747, -2.882526397705078, -7.591142177581787, -5.634181022644043, 2.606330633163452, -9.504802703857422, -3.6749794483184814, -1.5591779947280884, 3.9127349853515625, -14.449075698852539, -1.1154195070266724, -13.23122787475586, -8.298014640808105, 3.3644144535064697, -7.39473295211792, -0.7409750819206238, -1.7186040878295898, -7.759223461151123, -1.1145820617675781, -2.7700366973876953, -9.0955810546875, -7.9643354415893555, -5.9296135902404785, -2.7416703701019287, 2.512601613998413, -3.650184154510498, 0.5249730944633484, -13.80446720123291, 3.60920786857605, -3.4025933742523193, -9.940539360046387, -6.516648292541504, -0.28689315915107727, 0.496797114610672, -8.302512168884277, -4.472800254821777, -7.679698944091797, 2.6460845470428467, -7.947443008422852, -7.043381214141846, -11.277986526489258, -7.482354164123535, -3.7857325077056885, -4.018794536590576, -6.510465621948242, -2.591885805130005, 0.4569101929664612, -6.508802890777588, -4.324162006378174, -3.9769692420959473, -2.5448944568634033, -14.644705772399902, -14.434191703796387, -7.57884407043457, -7.624847412109375, -3.153794050216675, -13.884394645690918, -6.333747386932373, -2.8607921600341797, -1.8841524124145508, -4.441542148590088, -0.7446991801261902, -7.089768886566162, -14.66309928894043, -3.760451555252075, -8.405075073242188, -7.536470413208008, 2.761052370071411, 0.22740422189235687, -5.441272258758545, 1.6646140813827515, -10.042060852050781, -11.167130470275879, -6.103580474853516, 4.2018256187438965, -6.460872650146484, -0.17581768333911896, -4.8644490242004395, 3.2287352085113525, 0.06686922907829285, -5.882025241851807, -7.7124176025390625, -12.237333297729492, -13.757441520690918, -4.630037784576416, 0.17362597584724426, -8.456490516662598, -8.129971504211426, -11.015507698059082, -8.107305526733398, -9.259064674377441, -4.197809219360352, -0.1847125142812729, -0.7611514329910278, -2.8154807090759277, -7.649529457092285, -7.366872310638428, -9.170767784118652, -14.411040306091309, -5.916006088256836, -4.67814826965332, -7.535569667816162, -3.900648832321167, -13.133369445800781, -7.753945350646973, -8.259090423583984, -3.2549636363983154, -8.852374076843262, 4.43254280090332, -1.614986777305603, -1.5252797603607178, -13.7587890625, -12.45775318145752, -3.112384557723999, -7.447413921356201, -7.15338134765625, -7.366334438323975, -9.117215156555176, -11.544554710388184, -2.3170323371887207, -6.230734348297119, -13.743528366088867, -8.637593269348145, -3.84625506401062, -7.951613426208496, -7.993383884429932, 1.2573217153549194, -8.545538902282715, -0.6512656807899475, -5.969139575958252, -3.3296687602996826, -8.432588577270508, 2.53304386138916, -1.8030976057052612, -3.3448708057403564, -5.8762288093566895, 0.26163890957832336, -2.3721272945404053, -7.0835442543029785, -14.089133262634277, -0.2544483244419098, -14.4031400680542, -8.448859214782715, -3.203298807144165, -4.07887601852417, 0.21860133111476898, -3.0619893074035645, -10.149864196777344, -7.1719770431518555, 0.2256026268005371, -8.206181526184082, -5.014869689941406, -6.134641170501709, -0.5576708316802979, -8.551255226135254, 2.893148899078369, -14.672292709350586, -6.83435583114624, -9.202518463134766, -7.256400108337402, -7.300678253173828, -5.8116631507873535, -1.9709408283233643, -1.5827986001968384, 3.7582249641418457, 2.572690963745117, -14.18287467956543, 0.15076562762260437, -6.192141532897949, -8.512838363647461, -3.3243517875671387, -8.541829109191895, -3.319126605987549, -6.3269243240356445, -5.17136812210083, -5.352751731872559, -14.3839111328125, -14.061504364013672, 0.8106730580329895, -7.365076541900635, -3.97027587890625, -4.285722732543945, -8.542377471923828, -7.352262020111084, -3.558397054672241, -3.725299119949341, -3.7145886421203613, -5.7752275466918945, -8.127869606018066, -11.83957576751709, 2.395935297012329, -14.245610237121582, -1.1485693454742432, 0.39143112301826477, -6.891138076782227, -10.373607635498047, -14.680736541748047, -11.18187141418457, -5.9853973388671875, -14.690353393554688, -10.569149017333984, -0.153492271900177, -9.849320411682129, -13.85058307647705, -13.70189094543457, -0.7780154943466187, -3.5748403072357178, -14.37092399597168, -4.243900299072266, -5.610076904296875, -9.667818069458008, -5.269223690032959, -14.161709785461426, -3.278634548187256, -7.884632587432861, -14.338661193847656, -0.2216990888118744, -5.170334339141846, -8.536330223083496, -6.009779453277588, -6.340380668640137, -11.30497932434082, -3.793398380279541, -0.2885865569114685, 3.309406042098999, -8.006280899047852, -13.510238647460938, 3.4575157165527344, -2.2593154907226562, -14.445670127868652, -7.873413562774658, -7.614891529083252, -12.266488075256348, -5.154059410095215, -3.9813013076782227, -8.466300010681152, -1.8347785472869873, -5.603607177734375, 1.6909234523773193, -2.6573095321655273, -0.8643367290496826, -8.889532089233398, -14.426833152770996, -3.3537845611572266, -14.698861122131348, -1.2869230508804321, -1.8913321495056152, -3.3717169761657715, -6.525131702423096, -14.101788520812988, -14.0856351852417, -3.23604679107666, -13.722221374511719, -7.902768135070801, -5.999510288238525, -0.16715531051158905, -8.417688369750977, -4.0302839279174805, -14.551618576049805, -1.329917073249817, -8.27051067352295, -4.023509979248047, -14.40843677520752, -14.447473526000977, -4.973093509674072, -12.725425720214844, -2.3916730880737305, -8.53821849822998, -7.93190336227417, -13.757380485534668, -6.340043067932129, -5.180172920227051, 2.438746213912964, 2.26279878616333, 3.1037487983703613, -0.28704342246055603, 1.798122763633728, -5.522237777709961, -6.556457996368408, -0.06372927129268646, -14.571017265319824, 2.9982476234436035, -0.10525009036064148, 0.9421424865722656, -5.275690078735352, 0.6862956881523132, -3.76637864112854, -14.447855949401855, 3.98445200920105, -7.209146499633789, -6.190173149108887, -7.08718729019165, -1.475799560546875, -0.2926323115825653, -2.4969756603240967, -6.790938854217529, -0.7541263103485107, -0.8379690051078796, -8.373319625854492, -8.94524097442627, -0.18612182140350342, -8.287065505981445, -7.060129642486572, 0.4811761975288391, -12.71085262298584, 4.012420654296875, -0.645159900188446, 0.8684778213500977, -3.3636248111724854, -14.567699432373047, -5.067055702209473, -8.499834060668945, -8.431334495544434, -4.982392311096191, -6.790769100189209, -8.110529899597168, -6.538589954376221, -3.7471063137054443, -14.068304061889648, -14.236544609069824, -7.092417240142822, -3.1874170303344727, -7.795440196990967, -3.532909631729126, -14.226316452026367, -0.39329445362091064, -3.286031723022461, -7.251571178436279, -8.574820518493652, 3.125079870223999, -7.875037670135498, -8.332240104675293, -2.1335601806640625, 0.93172287940979, -3.000579357147217, 0.4801485240459442, -10.406925201416016, -14.371082305908203, -8.061882972717285, -7.12416934967041, -8.574808120727539, -0.4041082561016083, 3.110605001449585, -8.7164945602417, -9.35515308380127, -2.6949303150177, -3.7275028228759766, -0.936468780040741, -0.9845582842826843, -1.8835270404815674, -14.461721420288086, -14.684247016906738, -14.051697731018066, -7.690661907196045, -0.8026665449142456, -6.749546051025391, 2.026249647140503, 2.5137486457824707, -6.593689441680908, -10.767674446105957, -7.551492214202881, -4.722202301025391, -7.586643218994141, -9.082469940185547, -4.253937244415283, 2.493894338607788, -5.725607872009277, -4.221755027770996, -1.8528673648834229, -0.12103903293609619, -8.319047927856445, -12.177956581115723, -4.685767650604248, -6.6418538093566895, -9.70272445678711, 0.959953248500824, -8.90168285369873, -12.62506103515625, -7.07905387878418, -6.560467720031738, -0.37509989738464355, -4.870885848999023, -14.369917869567871, 2.712812662124634, 0.9040731191635132, -3.819601058959961, -9.228924751281738, -7.15360164642334, -9.029977798461914, -2.7088327407836914, 0.04071485251188278, 0.12998798489570618, -8.619022369384766, 2.5121374130249023, -14.67129898071289, -2.3860957622528076, -4.529171466827393, -4.563892364501953, -14.671545028686523, -13.882793426513672, -9.116018295288086, -9.12804126739502, 0.3569014072418213, -3.7530336380004883, 4.226726055145264, -7.512822151184082, -6.567656993865967, -10.644660949707031, -12.591917037963867, 4.052438259124756, -3.530880928039551, -12.46772289276123, 3.560971736907959, -5.02889347076416, -7.917495250701904, -6.794741153717041, -8.209480285644531, -0.1974504441022873, 2.154927968978882, -14.190122604370117, -3.1879453659057617, -14.126604080200195, -8.521923065185547, -6.480794429779053, -14.627508163452148, 0.449780136346817, -5.664792537689209, -13.350872993469238, -7.048557281494141, 3.8741157054901123, -5.35670280456543, -4.259861946105957, -7.381673336029053, -4.833415985107422, -9.217535018920898, -4.021737575531006, -2.7106614112854004, 4.115939140319824, -13.784186363220215, 1.0674701929092407, -13.800847053527832, -4.335188388824463, -5.343990802764893, -5.894629955291748, -7.392264366149902, -5.991024971008301, -4.7515058517456055, -14.418027877807617, -0.4655141532421112, -0.936617374420166, -13.80086612701416], \"y\": [-2.039944887161255, 6.78684663772583, 8.34851360321045, -2.8156957626342773, 7.885438919067383, 8.248779296875, 4.4135661125183105, -1.0046696662902832, 8.536603927612305, -8.33134937286377, 2.9255099296569824, -1.0451682806015015, 2.569138765335083, -8.030439376831055, -9.482873916625977, -2.3133912086486816, 11.613203048706055, 6.238224983215332, 3.2826881408691406, 0.11933586001396179, 7.644184589385986, 9.179863929748535, 2.4066014289855957, -2.7254092693328857, -0.475693017244339, -2.7420904636383057, -7.062407493591309, -5.5090250968933105, 2.084489107131958, 8.600698471069336, -1.9014285802841187, -3.0859522819519043, -5.408781051635742, -4.098734378814697, 0.32659241557121277, 8.586456298828125, 0.5472619533538818, -8.002922058105469, 8.455662727355957, -8.703208923339844, -8.929443359375, -2.709789991378784, 3.2590737342834473, 10.884597778320312, -7.651477336883545, 9.632566452026367, -4.687056541442871, -1.9210610389709473, -6.862607479095459, 6.370068550109863, 11.597025871276855, -2.823206663131714, 5.007199764251709, -8.902454376220703, -3.454932928085327, 10.063995361328125, -3.3502719402313232, 8.8230562210083, -4.842103004455566, 9.771799087524414, -4.698690891265869, 9.02804183959961, 8.607085227966309, -6.03145694732666, 0.5757462978363037, 1.5288140773773193, -6.8829169273376465, -9.0170316696167, -0.6009801030158997, -4.238951683044434, -8.830004692077637, 7.999058723449707, -0.9497175812721252, -7.31733512878418, 8.231934547424316, -0.143562912940979, 8.364097595214844, -0.8373643755912781, 2.406174659729004, 1.360990047454834, 8.47600269317627, 3.2395241260528564, 8.114864349365234, 7.376051425933838, 4.829245090484619, 2.880011558532715, 3.495680093765259, 8.61508846282959, -6.438482761383057, -0.13723260164260864, 9.327649116516113, 8.630403518676758, 10.286531448364258, 4.24681282043457, 8.220678329467773, 6.894624710083008, -2.3422906398773193, 11.454500198364258, -7.539243221282959, 0.14104780554771423, 5.364780426025391, 1.1657947301864624, -6.492626667022705, -7.532321453094482, -6.521054267883301, 8.2556791305542, 8.547359466552734, 3.7873477935791016, -3.211869239807129, -3.4135963916778564, 0.7985442280769348, -2.1695315837860107, 11.374288558959961, 1.4911679029464722, -5.678743362426758, -0.641518235206604, -0.4435070753097534, 11.111868858337402, 8.000252723693848, 9.007040977478027, -7.877884864807129, -0.5570241212844849, -2.3614821434020996, 8.28666877746582, 2.8609941005706787, -0.35591739416122437, 8.158906936645508, -0.5720312595367432, 10.699519157409668, 7.936498165130615, -2.7426469326019287, 1.3940837383270264, 11.222031593322754, -0.7896854877471924, -3.0969114303588867, 5.091028213500977, -5.704000473022461, -3.1370813846588135, 9.477849006652832, 8.121779441833496, 9.162110328674316, 10.760886192321777, 9.156959533691406, -3.7808661460876465, -2.237529754638672, 8.137435913085938, -6.879269599914551, 8.091699600219727, 5.187274932861328, 8.332660675048828, -2.748504877090454, 5.045542240142822, 1.8556302785873413, -2.6662704944610596, -5.163390159606934, 2.243567705154419, 4.815391540527344, 8.372511863708496, -3.929515838623047, 0.06494171917438507, 5.387901782989502, 4.841544151306152, -0.4375789761543274, -8.768929481506348, 2.0416953563690186, -2.4920880794525146, 7.336832046508789, 2.8985939025878906, -6.371374607086182, 9.563632011413574, -5.408016204833984, -3.2200019359588623, 9.309402465820312, -7.694674491882324, 10.22690200805664, -2.9799816608428955, -1.2719995975494385, -7.047926902770996, 11.976360321044922, -6.594113826751709, -5.289351940155029, 8.153562545776367, 11.061233520507812, -2.6845452785491943, -4.712597846984863, 8.788790702819824, -1.6587401628494263, 0.77623051404953, 0.4782875180244446, -5.2585673332214355, 1.7207269668579102, 9.30757999420166, -0.1658545285463333, -4.692534446716309, -0.22106972336769104, -8.90067195892334, 9.16064167022705, -2.558253049850464, -2.377575397491455, 8.634723663330078, 7.985424995422363, -3.6419363021850586, 1.425459623336792, 4.160708427429199, -8.324009895324707, 8.370796203613281, -9.06099796295166, -0.7548463344573975, 9.19286060333252, -0.5441074967384338, -2.1728484630584717, -3.848599910736084, -2.65755033493042, -7.816515922546387, -2.1279547214508057, 5.600602626800537, -1.4674067497253418, 8.235540390014648, 9.049291610717773, 8.900343894958496, 7.9480671882629395, 1.473414421081543, -2.0327658653259277, -1.1876829862594604, -6.874542713165283, 5.629328727722168, 8.23927116394043, -7.09091854095459, -4.786377906799316, 6.777083873748779, -5.280429840087891, 9.668980598449707, 8.941182136535645, 4.238924980163574, -2.3511905670166016, 9.589364051818848, -2.750279426574707, -7.104429721832275, 8.083626747131348, 4.1467437744140625, -5.935978889465332, -9.575831413269043, 8.898219108581543, 0.5745304226875305, 9.441628456115723, 4.888138771057129, -0.016616124659776688, -1.480218768119812, 1.4240238666534424, -5.852342128753662, 8.012458801269531, -0.1460248976945877, 7.12734842300415, 9.313855171203613, 0.016462141647934914, 2.931597948074341, 4.451989650726318, -5.532237529754639, 9.66739273071289, -2.7317824363708496, 2.632762908935547, 5.882256507873535, 2.762162208557129, -3.729532241821289, 7.919631481170654, 8.495489120483398, -5.696263313293457, -2.1482160091400146, 11.442699432373047, 10.715301513671875, 4.8323798179626465, -6.689698219299316, 4.600009918212891, -4.266617298126221, 0.23105643689632416, 9.669100761413574, -9.189743995666504, -6.699018478393555, -2.9805634021759033, 3.4291388988494873, 0.80563884973526, 4.674182891845703, -2.7765259742736816, 9.009530067443848, -7.289148807525635, 1.7691195011138916, 9.658659934997559, 7.2520246505737305, 0.6450698971748352, 0.9427160024642944, 0.251261442899704, -7.333289623260498, -0.5821639895439148, -1.9038540124893188, 10.646985054016113, 0.7131704688072205, -2.3372671604156494, 9.542314529418945, 5.959892749786377, -0.16348853707313538, 2.485036611557007, -2.2577497959136963, 8.40501594543457, 2.640850067138672, -2.642385721206665, -6.748481273651123, -2.127887010574341, 0.39924466609954834, -0.12480684369802475, 8.90034008026123, 0.7337409853935242, 4.193140029907227, -7.241266250610352, -6.0521955490112305, -2.666510820388794, -7.819904327392578, 4.267190456390381, 0.289838969707489, 9.26457691192627, 0.5086142420768738, -5.0384202003479, 8.174843788146973, 9.665067672729492, 8.409529685974121, 8.61723804473877, -2.1555941104888916, -9.103116035461426, 9.362702369689941, -2.7111430168151855, -4.854430198669434, -0.12770240008831024, -2.8929357528686523, -8.633905410766602, 4.2564568519592285, 8.79840087890625, 8.616193771362305, -1.601438283920288, -6.1557416915893555, -2.4402730464935303, 8.607738494873047, -7.6622633934021, 8.354499816894531, 10.242585182189941, -9.384650230407715, 8.934134483337402, 1.5713378190994263, 4.379700660705566, -0.5604602694511414, 2.591008424758911, -6.478562831878662, 8.55146598815918, 0.39041605591773987, 5.029366970062256, 1.4275585412979126, 5.00924015045166, -9.21214485168457, 0.3536170721054077, 9.274090766906738, -5.169814109802246, 9.32256031036377, 9.577316284179688, 8.244939804077148, 1.9309329986572266, -6.6226115226745605, -1.4245622158050537, -2.303978204727173, 4.210026264190674, 1.3818267583847046, 2.8781754970550537, -1.2406376600265503, -9.02581787109375, 9.667184829711914, -4.9532389640808105, 5.602309226989746, -5.358125686645508, 8.205594062805176, 10.671833038330078, -2.8955342769622803, -2.7216458320617676, -6.3700737953186035, -3.066685438156128, 3.6559946537017822, 8.674001693725586, -6.102838039398193, 3.531122922897339, -2.731902837753296, -2.655888080596924, 9.808777809143066, 3.321178436279297, -2.7606778144836426, 0.9514855146408081, 4.14949893951416, 11.597517013549805, 6.925993919372559, 4.553607940673828, 6.817254066467285, -2.1650936603546143, 9.138394355773926, -0.9592365026473999, 5.743159294128418, -2.4873549938201904, -2.595804452896118, 9.547988891601562, 2.208805561065674, -2.6539053916931152, 9.491948127746582, 7.1959004402160645, 9.579695701599121, -1.270768642425537, -2.678107738494873, -2.520850419998169, -5.3973612785339355, -2.20205020904541, 1.8362196683883667, 3.015709161758423, 1.8745250701904297, 9.5810546875, -8.13846206665039, -5.49373722076416, 9.287568092346191, -6.5301103591918945, 8.033133506774902, 5.092579364776611, 1.0549640655517578, 8.901840209960938, 8.214787483215332, 9.219449996948242, -5.644626617431641, 4.80087947845459, -5.918938636779785, 8.103955268859863, 7.085123538970947, 8.5369291305542, -2.7243523597717285, 9.25920295715332, 9.506019592285156, -8.988715171813965, -5.3895158767700195, -0.2198496311903, 9.581259727478027, -2.7124319076538086, 0.9964488744735718, 9.224889755249023, 6.853113174438477, 8.536885261535645, -6.917057514190674, 11.015965461730957, 1.3232202529907227, 6.885713577270508, -0.6953712105751038, -9.107311248779297, -6.867580413818359, 8.883149147033691, -6.154140472412109, 4.43950080871582, 2.5618014335632324, 0.5420046448707581, -3.6402437686920166, -6.830626964569092, -3.8714547157287598, 10.434030532836914, 10.70052719116211, 8.684130668640137, -2.5613832473754883, 8.464502334594727, -8.307164192199707, -3.7182130813598633, -3.716630697250366, 8.111985206604004, 10.707161903381348, -7.2785444259643555, 1.673978567123413, -7.6979827880859375, 9.021894454956055, 9.50833511352539, -1.5327050685882568, -8.272810935974121, 5.285065174102783, -0.060792870819568634, -5.29986047744751, -1.2778031826019287, -1.320164442062378, 7.319215297698975, -6.470070838928223, 8.93839168548584, 2.7228238582611084, 1.2359249591827393, -2.823174476623535, -2.7781479358673096, -7.216765403747559, 0.9225969910621643, 6.7274699211120605, -3.753525733947754, -6.979951858520508, -5.499226093292236, -6.258340835571289, 1.6743555068969727, 10.672978401184082, 2.4186248779296875, -1.647698998451233, 8.107181549072266, -8.57247543334961, 2.4557993412017822, 5.378330707550049, -3.6801369190216064, 1.518836259841919, -2.7746524810791016, -0.4149836301803589, 12.061859130859375, 9.071969032287598, 5.265114784240723, -2.541078567504883, -1.3321728706359863, 11.726186752319336, -1.8882778882980347, -1.473479151725769, -3.2785093784332275, 8.193257331848145, 9.106767654418945, 8.802908897399902, -0.06601604074239731, -6.973396301269531, 10.5079984664917, 4.3959455490112305, -5.7409186363220215, 4.908613204956055, 9.641438484191895, -6.560321807861328, 2.1725499629974365, 9.562926292419434, -6.826458930969238, -0.4611367881298065, 7.003224849700928, 11.338624000549316, 8.30364990234375, -8.862236976623535, -3.685147285461426, 8.172015190124512, -0.30275845527648926, -9.011059761047363, -0.6866966485977173, 11.813872337341309, 5.557326316833496, 9.887116432189941, 0.568173348903656, -0.14041553437709808, -7.745096206665039, 8.622694969177246, 7.794460296630859, 8.277263641357422, 2.5484049320220947, 4.263552665710449, -2.5768167972564697, 8.903878211975098, 5.531332015991211], \"z\": [6.475325107574463, 8.297120094299316, -3.1658859252929688, 5.5185017585754395, -4.5319504737854, -4.948880672454834, -0.15607188642024994, 5.646609783172607, 5.9382829666137695, 2.377199411392212, 7.852348804473877, 9.580880165100098, 8.535612106323242, 4.629718780517578, 1.5179433822631836, 8.141910552978516, -6.802692413330078, 8.791695594787598, 1.2193708419799805, 4.392520904541016, 7.242483139038086, -6.393589496612549, 8.055581092834473, 5.597931385040283, 8.111542701721191, 5.654616832733154, 5.533538818359375, 6.378170967102051, 8.279590606689453, -2.3032119274139404, 6.370541095733643, 6.199230670928955, 1.569901704788208, 6.829254627227783, 4.455869197845459, 5.82128381729126, 4.052122592926025, 3.2249412536621094, -2.524872064590454, 3.8253531455993652, 3.489180564880371, 5.390901565551758, 10.613387107849121, -6.759496212005615, 5.000472068786621, 0.44411808252334595, 6.818396091461182, 6.362761497497559, 3.64508318901062, 8.648865699768066, -6.776308059692383, 5.486377239227295, 9.815067291259766, 3.256901502609253, 6.262142181396484, -6.695329666137695, 3.949827194213867, -1.8820068836212158, 6.643700122833252, -6.632227897644043, 6.8122429847717285, -1.2495445013046265, -5.849918842315674, 6.155277729034424, 10.51333236694336, 8.21227741241455, 3.4080846309661865, 2.4093494415283203, 5.3069939613342285, 6.837491035461426, 3.649526357650757, -4.661026477813721, 9.663280487060547, 4.531059741973877, -3.555732011795044, 4.8486328125, -5.5055646896362305, 7.856081962585449, 10.707959175109863, 3.5407581329345703, -5.666275978088379, 10.62259578704834, -4.553394317626953, 7.562900543212891, 9.907258987426758, 1.6754125356674194, 0.9967736601829529, 5.401791572570801, 5.683820724487305, 10.221084594726562, -0.4950706362724304, -2.6205389499664307, -6.733633518218994, 10.250439643859863, -4.77327299118042, 8.122758865356445, 8.613966941833496, -6.659643173217773, 2.322688579559326, 7.810336589813232, 9.522109031677246, 3.544090509414673, 7.398952960968018, 5.1311936378479, 7.35798454284668, -5.276043891906738, 5.559627056121826, 10.433551788330078, 4.532837867736816, 6.8331170082092285, 10.561676979064941, 8.36446475982666, -6.891190528869629, 3.273529291152954, 3.9149582386016846, 5.338939189910889, 8.390445709228516, -6.750693321228027, 6.660068035125732, -6.230438709259033, 2.400405168533325, 8.621244430541992, 8.00447940826416, -5.335663795471191, 8.28583812713623, 8.59365463256836, -2.9560348987579346, 9.948240280151367, -6.861189842224121, -4.796385288238525, 6.671273708343506, 4.2984113693237305, -6.724696159362793, 9.825209617614746, 6.808379173278809, 9.71263599395752, 7.460076332092285, 6.151246070861816, 2.015835762023926, -4.187735557556152, -0.9319409728050232, -6.7343010902404785, 3.304887533187866, 7.267695903778076, 6.572120666503906, 6.429635047912598, 4.681112766265869, -4.535831451416016, 9.676457405090332, -5.429330348968506, 6.699390411376953, 9.747475624084473, 10.696127891540527, 8.35988998413086, 5.235377788543701, 2.4001870155334473, -0.2508482336997986, 5.974806308746338, 7.116524696350098, 10.311273574829102, -0.9702498316764832, 9.942464828491211, 10.044172286987305, 3.3913211822509766, 10.705556869506836, 7.677900791168213, 7.709680557250977, 1.6611613035202026, 4.9636664390563965, 0.1695321947336197, 6.42384672164917, 4.39279317855835, -6.63821268081665, 4.981094837188721, -6.719930171966553, 6.8088250160217285, 5.9085469245910645, 5.560096263885498, -7.043333530426025, 5.862370491027832, 3.574833631515503, -3.8412961959838867, -6.7700934410095215, 6.991423606872559, 6.776331901550293, 4.839398384094238, 6.193487644195557, 4.473127365112305, 10.266597747802734, 3.2094063758850098, 8.741467475891113, 2.6187613010406494, 5.02517557144165, 6.698132038116455, 7.926089286804199, 3.539217233657837, -6.639426231384277, 7.67779541015625, 8.473061561584473, 5.346043586730957, 6.683575630187988, 6.854498386383057, 3.371469259262085, 10.278895378112793, 4.243201732635498, 5.963333606719971, 3.2072176933288574, 5.447429656982422, -0.8443810343742371, 8.376516342163086, 8.737398147583008, 6.848100662231445, 5.04794979095459, 2.324558734893799, 8.399272918701172, -1.1651074886322021, 6.06334114074707, -5.147387504577637, -1.2197438478469849, -1.5647183656692505, 6.748491287231445, 8.271261215209961, 6.475172996520996, 9.440545082092285, 5.676320552825928, -1.1975473165512085, 6.411283493041992, 4.587735176086426, 6.677213668823242, 7.65831184387207, 1.653144359588623, 0.793729841709137, -6.479771137237549, 10.243632316589355, 8.58776569366455, 1.5679093599319458, 5.749042510986328, 3.2245736122131348, -4.988501071929932, 10.300724029541016, 6.988126277923584, 1.2037162780761719, -1.6323069334030151, 4.429381370544434, -6.4602861404418945, -0.18852925300598145, 8.41993236541748, 9.310517311096191, 10.656586647033691, 6.956632137298584, -5.156961441040039, 5.105149269104004, 7.912333965301514, -6.502729892730713, 8.564184188842773, 10.672001838684082, 10.139131546020508, 3.6532459259033203, 0.778012216091156, 5.616770267486572, 1.9667484760284424, 9.095845222473145, 8.22057056427002, 7.263237953186035, 6.798007488250732, -2.959308624267578, 4.420781135559082, 8.392037391662598, -6.660516738891602, -6.73712158203125, -0.5111545920372009, 0.9912261366844177, 10.080544471740723, 6.801344871520996, 10.396073341369629, 0.9195875525474548, 2.6189048290252686, 5.78848934173584, 8.036523818969727, 10.572128295898438, 3.736236572265625, -0.17021983861923218, 6.484470367431641, -1.3164865970611572, 4.534990310668945, 10.687589645385742, 0.6582107543945312, 7.6756978034973145, 10.529637336730957, 10.595742225646973, 10.372173309326172, 5.308618545532227, 8.431970596313477, 6.3712477684021, -6.755666732788086, 4.226393699645996, 8.045148849487305, -6.545037746429443, 9.015801429748535, 5.0942463874816895, 2.1182520389556885, 6.596114158630371, -2.826550245285034, 1.9410778284072876, 6.745827674865723, 1.4335973262786865, 6.311794281005859, 4.455869674682617, 4.787720680236816, -6.374902248382568, 10.5523681640625, 0.0955948680639267, 4.7045979499816895, 5.916323661804199, 6.544081211090088, 4.840813636779785, -0.14182615280151367, 10.413562774658203, -0.6699555516242981, 4.016727924346924, 3.9490537643432617, -3.58371639251709, 1.1762254238128662, -2.803694009780884, -2.434743642807007, 6.560532569885254, 3.0904712677001953, -6.246373176574707, 5.4615397453308105, 6.6387858390808105, 4.938570022583008, 4.870832920074463, 2.207899570465088, 0.2010938674211502, 4.884244441986084, 5.386573791503906, 6.168885231018066, 5.695803165435791, 8.550558090209961, 5.753012180328369, 2.7825095653533936, -3.174875497817993, -6.722488880157471, 1.7648372650146484, -6.203973770141602, 8.43124771118164, -0.31702661514282227, 11.049121856689453, 1.991037368774414, 3.3120758533477783, -5.766360759735107, 10.45423412322998, 9.743834495544434, 3.887761354446411, -0.6524343490600586, 2.5206069946289062, 4.637599945068359, -0.6532235145568848, 6.506479740142822, -6.640244483947754, 1.6199744939804077, -4.560681343078613, 2.8107635974884033, 3.2063541412353516, 8.002960205078125, 8.662968635559082, 0.23906448483467102, 3.3362069129943848, 10.680681228637695, 5.866244792938232, 1.9112730026245117, 0.9735518097877502, 6.603058338165283, -1.1715798377990723, 6.451325416564941, -3.570948600769043, -6.770994186401367, 5.5617876052856445, 5.537481307983398, 7.446108818054199, 5.471792697906494, 10.503484725952148, -2.2189066410064697, 7.249453067779541, 0.953552782535553, 5.564276695251465, 7.1206374168396, -6.646740913391113, 10.601162910461426, 6.56575870513916, 10.592045783996582, 0.31384289264678955, -6.844028472900391, 8.107617378234863, 10.082764625549316, 8.257853507995605, 8.34616470336914, -6.170773029327393, 9.655046463012695, 9.207620620727539, 7.68765926361084, 7.606031894683838, 0.13295294344425201, 8.412012100219727, 7.167999267578125, -0.04314432293176651, 7.87434720993042, -6.566838264465332, 5.885264873504639, 5.1990275382995605, 7.58854341506958, 2.03908109664917, 8.724584579467773, 2.837831974029541, 10.660414695739746, 8.719549179077148, 0.2583310008049011, 4.515625953674316, 6.40843391418457, 2.6997933387756348, 5.904242515563965, -4.6116042137146, -0.6717919707298279, 3.8253915309906006, -1.623725175857544, -5.113884449005127, -0.7856168746948242, 5.2852654457092285, -0.06457692384719849, 4.036919116973877, -5.040442943572998, 7.917225360870361, 5.93789005279541, 5.520381927490234, -0.6834582686424255, 1.919439673423767, 1.6472399234771729, 1.9575225114822388, 10.172148704528809, -6.567196369171143, 6.77518892288208, 3.6192290782928467, 2.963028907775879, 8.21115779876709, 5.937928199768066, 1.5884631872177124, -6.713961601257324, 8.512604713439941, 8.190773963928223, 9.867595672607422, 3.0356178283691406, 2.4623985290527344, -6.145771503448486, 4.007162570953369, 0.16941624879837036, 2.031555652618408, 4.045424461364746, 7.229255676269531, 2.322787046432495, 7.255868911743164, -6.744154453277588, -6.747258186340332, -2.181752920150757, 6.701816082000732, 5.752689361572266, 4.2766337394714355, 7.216250419616699, 6.857424736022949, -4.363133430480957, -6.75123405456543, 5.320975303649902, 10.6797456741333, 2.7678933143615723, -6.371994972229004, 0.03430981934070587, 6.217135906219482, 4.282270908355713, 9.555625915527344, 5.049768447875977, 2.0805068016052246, 7.792749404907227, 5.943560600280762, 7.734982490539551, 5.933141231536865, -6.297987937927246, 10.693130493164062, 3.5582830905914307, 5.486746788024902, 6.436079025268555, 4.4931721687316895, 8.137686729431152, 8.309768676757812, 6.860726833343506, 3.941826343536377, 3.0377540588378906, 7.1727375984191895, 8.6251220703125, -6.739013671875, 2.1975555419921875, 9.05688190460205, -4.129078388214111, 4.006214618682861, 2.1584298610687256, -0.9761335849761963, 6.85850715637207, 8.26852035522461, 6.717447280883789, 10.03792667388916, -7.086287498474121, -1.1503171920776367, 9.59965705871582, 6.735711574554443, 5.965847492218018, -6.886505126953125, 9.003151893615723, 6.060479164123535, 3.6509506702423096, -3.702252149581909, 3.5214452743530273, -1.9505014419555664, 8.543376922607422, 1.1530938148498535, -6.758156776428223, -0.38621437549591064, 5.063078880310059, -0.6273078918457031, 0.5293458700180054, 5.880974292755127, 2.492141008377075, -6.557806015014648, 5.544003486633301, 5.185130596160889, 8.093135833740234, -6.875669002532959, -3.415635108947754, 3.6085052490234375, 7.265205383300781, -3.8645591735839844, 7.929930686950684, 3.336254119873047, 9.874643325805664, -6.9411749839782715, -1.1381760835647583, -6.654801845550537, 4.4193925857543945, 10.079505920410156, 4.915665626525879, -2.848668098449707, 6.993187427520752, -2.8774728775024414, 10.705794334411621, 0.17621156573295593, 7.422466278076172, -6.155304908752441, -1.1088390350341797]}, {\"hoverlabel\": {\"namelength\": 0}, \"hovertemplate\": \"Dominant_Topic=Topic 2<br>0=%{x}<br>1=%{y}<br>2=%{z}\", \"legendgroup\": \"Dominant_Topic=Topic 2\", \"marker\": {\"color\": \"#00cc96\", \"opacity\": 0.7, \"symbol\": \"circle\"}, \"mode\": \"markers\", \"name\": \"Dominant_Topic=Topic 2\", \"scene\": \"scene\", \"showlegend\": true, \"type\": \"scatter3d\", \"x\": [-0.14756831526756287, -0.0505615659058094, -0.01115615013986826, -1.65913987159729, 0.8741622567176819, 0.17154936492443085, -1.2714735269546509, -1.72276771068573, 0.31146255135536194, -1.5767101049423218, 0.171701118350029, 0.3677608072757721, 0.3586994409561157, -0.33663782477378845, -2.0185298919677734, 0.4032098054885864, -0.14047639071941376, -1.4494976997375488, -1.626657485961914, -2.0185256004333496, 0.4010125696659088, 0.1262645125389099, 0.17284493148326874, -2.0208046436309814, -0.03032074123620987, -2.270197629928589, 0.632294237613678, -0.46349409222602844, -1.5874934196472168, -1.7898387908935547, 0.1874537169933319, 0.6755288243293762, -2.2279207706451416, -0.07355441898107529, -0.28954198956489563, 1.078935980796814, 0.3704478144645691, 0.12855197489261627, -0.9017371535301208, -2.030730962753296, -2.0367133617401123, 0.507144033908844, 0.014114991761744022, 1.070827841758728, -0.49674785137176514], \"y\": [-8.228943824768066, -8.65985107421875, -8.615218162536621, -9.763655662536621, -6.32763671875, -8.318754196166992, -9.54700756072998, -9.780837059020996, -8.138769149780273, -9.749181747436523, -7.762007713317871, -8.063970565795898, -7.949896812438965, -9.004667282104492, -9.764427185058594, -8.006479263305664, -8.314696311950684, -9.726310729980469, -9.605838775634766, -9.764427185058594, -7.9598493576049805, -8.437373161315918, -7.483688831329346, -9.525300979614258, -8.584135055541992, -9.655253410339355, -6.513001441955566, -8.630062103271484, -9.757012367248535, -9.786001205444336, -8.368964195251465, -7.568821430206299, -9.67357349395752, -8.957797050476074, -7.3359808921813965, -6.555339813232422, -8.051079750061035, -8.078631401062012, -9.55760383605957, -9.472599029541016, -9.7644681930542, -6.583161354064941, -8.304435729980469, -6.213379859924316, -8.464804649353027], \"z\": [-1.1971043348312378, -3.0211069583892822, -3.0941386222839355, -0.21609221398830414, 0.2787047028541565, -3.0287587642669678, -0.733805775642395, -0.11544385552406311, -3.2665364742279053, -0.36217668652534485, -1.0797326564788818, -3.054929494857788, -2.7709953784942627, -2.7564778327941895, 0.439867228269577, -3.3941543102264404, -1.450676679611206, -0.609865665435791, -0.044268205761909485, 0.4398593306541443, -3.129371404647827, -3.2459659576416016, -0.4741937816143036, 0.8006772398948669, -2.5587096214294434, 0.9686212539672852, 0.35513195395469666, -1.1321313381195068, -0.35101649165153503, 0.0068723419681191444, -3.016845703125, -3.5822389125823975, 0.8853825926780701, -2.651202440261841, 0.7637391090393066, -0.8854179382324219, -3.336496353149414, -1.8903638124465942, -2.060034990310669, 0.8910771012306213, 0.4679552912712097, 0.4811857342720032, -2.0795412063598633, -0.02100038342177868, -0.6892936825752258]}, {\"hoverlabel\": {\"namelength\": 0}, \"hovertemplate\": \"Dominant_Topic=Topic 3<br>0=%{x}<br>1=%{y}<br>2=%{z}\", \"legendgroup\": \"Dominant_Topic=Topic 3\", \"marker\": {\"color\": \"#ab63fa\", \"opacity\": 0.7, \"symbol\": \"circle\"}, \"mode\": \"markers\", \"name\": \"Dominant_Topic=Topic 3\", \"scene\": \"scene\", \"showlegend\": true, \"type\": \"scatter3d\", \"x\": [6.075883865356445, 6.616571426391602, 7.014714241027832, 7.00909423828125, 6.35902738571167, 6.960289478302002, 6.1553473472595215, 6.7702789306640625, 5.697738170623779, 6.254508972167969, 6.339889049530029, 6.671625137329102, 0.6239796876907349, 5.797996997833252, 6.8366570472717285, 5.716220855712891, 5.7361836433410645, 6.504956245422363, 6.7256855964660645, 7.078441143035889, 6.338418006896973, 6.710880279541016, 6.566467761993408, 6.3440117835998535, 6.765968322753906, 6.179849147796631, 6.873176097869873, 5.917463302612305, 5.706745624542236, 6.367976665496826], \"y\": [-11.157122611999512, -11.41886043548584, -11.567245483398438, -11.100503921508789, -11.850228309631348, -11.363524436950684, -11.721847534179688, -11.142714500427246, -11.66779899597168, -11.031258583068848, -11.386364936828613, -10.888053894042969, -6.494659423828125, -11.65805435180664, -11.773335456848145, -11.754469871520996, -11.759657859802246, -11.798745155334473, -11.226177215576172, -11.250518798828125, -11.057785987854004, -10.969311714172363, -11.684253692626953, -11.211688041687012, -11.45377254486084, -11.038199424743652, -11.76630973815918, -11.546934127807617, -11.765195846557617, -11.896509170532227], \"z\": [9.589146614074707, 9.915238380432129, 9.277289390563965, 9.395242691040039, 9.165048599243164, 9.763504028320312, 9.764768600463867, 9.045673370361328, 9.564291000366211, 9.241719245910645, 8.947765350341797, 9.386907577514648, 7.061636924743652, 9.549626350402832, 9.56782341003418, 9.023418426513672, 8.988247871398926, 9.728264808654785, 9.865645408630371, 9.355332374572754, 9.129358291625977, 9.66943645477295, 9.021461486816406, 9.86022663116455, 8.965506553649902, 9.480535507202148, 9.44958782196045, 9.68407154083252, 9.00323486328125, 9.529685020446777]}],\n",
       "                        {\"height\": 800, \"legend\": {\"tracegroupgap\": 0}, \"scene\": {\"domain\": {\"x\": [0.0, 1.0], \"y\": [0.0, 1.0]}, \"xaxis\": {\"title\": {\"text\": \"0\"}}, \"yaxis\": {\"title\": {\"text\": \"1\"}}, \"zaxis\": {\"title\": {\"text\": \"2\"}}}, \"template\": {\"data\": {\"bar\": [{\"error_x\": {\"color\": \"#2a3f5f\"}, \"error_y\": {\"color\": \"#2a3f5f\"}, \"marker\": {\"line\": {\"color\": \"#E5ECF6\", \"width\": 0.5}}, \"type\": \"bar\"}], \"barpolar\": [{\"marker\": {\"line\": {\"color\": \"#E5ECF6\", \"width\": 0.5}}, \"type\": \"barpolar\"}], \"carpet\": [{\"aaxis\": {\"endlinecolor\": \"#2a3f5f\", \"gridcolor\": \"white\", \"linecolor\": \"white\", \"minorgridcolor\": \"white\", \"startlinecolor\": \"#2a3f5f\"}, \"baxis\": {\"endlinecolor\": \"#2a3f5f\", \"gridcolor\": \"white\", \"linecolor\": \"white\", \"minorgridcolor\": \"white\", \"startlinecolor\": \"#2a3f5f\"}, \"type\": \"carpet\"}], \"choropleth\": [{\"colorbar\": {\"outlinewidth\": 0, \"ticks\": \"\"}, \"type\": \"choropleth\"}], \"contour\": [{\"colorbar\": {\"outlinewidth\": 0, \"ticks\": \"\"}, \"colorscale\": [[0.0, \"#0d0887\"], [0.1111111111111111, \"#46039f\"], [0.2222222222222222, \"#7201a8\"], [0.3333333333333333, \"#9c179e\"], [0.4444444444444444, \"#bd3786\"], [0.5555555555555556, \"#d8576b\"], [0.6666666666666666, \"#ed7953\"], [0.7777777777777778, \"#fb9f3a\"], [0.8888888888888888, \"#fdca26\"], [1.0, \"#f0f921\"]], \"type\": \"contour\"}], \"contourcarpet\": [{\"colorbar\": {\"outlinewidth\": 0, \"ticks\": \"\"}, \"type\": \"contourcarpet\"}], \"heatmap\": [{\"colorbar\": {\"outlinewidth\": 0, \"ticks\": \"\"}, \"colorscale\": [[0.0, \"#0d0887\"], [0.1111111111111111, \"#46039f\"], [0.2222222222222222, \"#7201a8\"], [0.3333333333333333, \"#9c179e\"], [0.4444444444444444, \"#bd3786\"], [0.5555555555555556, \"#d8576b\"], [0.6666666666666666, \"#ed7953\"], [0.7777777777777778, \"#fb9f3a\"], [0.8888888888888888, \"#fdca26\"], [1.0, \"#f0f921\"]], \"type\": \"heatmap\"}], \"heatmapgl\": [{\"colorbar\": {\"outlinewidth\": 0, \"ticks\": \"\"}, \"colorscale\": [[0.0, \"#0d0887\"], [0.1111111111111111, \"#46039f\"], [0.2222222222222222, \"#7201a8\"], [0.3333333333333333, \"#9c179e\"], [0.4444444444444444, \"#bd3786\"], [0.5555555555555556, \"#d8576b\"], [0.6666666666666666, \"#ed7953\"], [0.7777777777777778, \"#fb9f3a\"], [0.8888888888888888, \"#fdca26\"], [1.0, \"#f0f921\"]], \"type\": \"heatmapgl\"}], \"histogram\": [{\"marker\": {\"colorbar\": {\"outlinewidth\": 0, \"ticks\": \"\"}}, \"type\": \"histogram\"}], \"histogram2d\": [{\"colorbar\": {\"outlinewidth\": 0, \"ticks\": \"\"}, \"colorscale\": [[0.0, \"#0d0887\"], [0.1111111111111111, \"#46039f\"], [0.2222222222222222, \"#7201a8\"], [0.3333333333333333, \"#9c179e\"], [0.4444444444444444, \"#bd3786\"], [0.5555555555555556, \"#d8576b\"], [0.6666666666666666, \"#ed7953\"], [0.7777777777777778, \"#fb9f3a\"], [0.8888888888888888, \"#fdca26\"], [1.0, \"#f0f921\"]], \"type\": \"histogram2d\"}], \"histogram2dcontour\": [{\"colorbar\": {\"outlinewidth\": 0, \"ticks\": \"\"}, \"colorscale\": [[0.0, \"#0d0887\"], [0.1111111111111111, \"#46039f\"], [0.2222222222222222, \"#7201a8\"], [0.3333333333333333, \"#9c179e\"], [0.4444444444444444, \"#bd3786\"], [0.5555555555555556, \"#d8576b\"], [0.6666666666666666, \"#ed7953\"], [0.7777777777777778, \"#fb9f3a\"], [0.8888888888888888, \"#fdca26\"], [1.0, \"#f0f921\"]], \"type\": \"histogram2dcontour\"}], \"mesh3d\": [{\"colorbar\": {\"outlinewidth\": 0, \"ticks\": \"\"}, \"type\": \"mesh3d\"}], \"parcoords\": [{\"line\": {\"colorbar\": {\"outlinewidth\": 0, \"ticks\": \"\"}}, \"type\": \"parcoords\"}], \"pie\": [{\"automargin\": true, \"type\": \"pie\"}], \"scatter\": [{\"marker\": {\"colorbar\": {\"outlinewidth\": 0, \"ticks\": \"\"}}, \"type\": \"scatter\"}], \"scatter3d\": [{\"line\": {\"colorbar\": {\"outlinewidth\": 0, \"ticks\": \"\"}}, \"marker\": {\"colorbar\": {\"outlinewidth\": 0, \"ticks\": \"\"}}, \"type\": \"scatter3d\"}], \"scattercarpet\": [{\"marker\": {\"colorbar\": {\"outlinewidth\": 0, \"ticks\": \"\"}}, \"type\": \"scattercarpet\"}], \"scattergeo\": [{\"marker\": {\"colorbar\": {\"outlinewidth\": 0, \"ticks\": \"\"}}, \"type\": \"scattergeo\"}], \"scattergl\": [{\"marker\": {\"colorbar\": {\"outlinewidth\": 0, \"ticks\": \"\"}}, \"type\": \"scattergl\"}], \"scattermapbox\": [{\"marker\": {\"colorbar\": {\"outlinewidth\": 0, \"ticks\": \"\"}}, \"type\": \"scattermapbox\"}], \"scatterpolar\": [{\"marker\": {\"colorbar\": {\"outlinewidth\": 0, \"ticks\": \"\"}}, \"type\": \"scatterpolar\"}], \"scatterpolargl\": [{\"marker\": {\"colorbar\": {\"outlinewidth\": 0, \"ticks\": \"\"}}, \"type\": \"scatterpolargl\"}], \"scatterternary\": [{\"marker\": {\"colorbar\": {\"outlinewidth\": 0, \"ticks\": \"\"}}, \"type\": \"scatterternary\"}], \"surface\": [{\"colorbar\": {\"outlinewidth\": 0, \"ticks\": \"\"}, \"colorscale\": [[0.0, \"#0d0887\"], [0.1111111111111111, \"#46039f\"], [0.2222222222222222, \"#7201a8\"], [0.3333333333333333, \"#9c179e\"], [0.4444444444444444, \"#bd3786\"], [0.5555555555555556, \"#d8576b\"], [0.6666666666666666, \"#ed7953\"], [0.7777777777777778, \"#fb9f3a\"], [0.8888888888888888, \"#fdca26\"], [1.0, \"#f0f921\"]], \"type\": \"surface\"}], \"table\": [{\"cells\": {\"fill\": {\"color\": \"#EBF0F8\"}, \"line\": {\"color\": \"white\"}}, \"header\": {\"fill\": {\"color\": \"#C8D4E3\"}, \"line\": {\"color\": \"white\"}}, \"type\": \"table\"}]}, \"layout\": {\"annotationdefaults\": {\"arrowcolor\": \"#2a3f5f\", \"arrowhead\": 0, \"arrowwidth\": 1}, \"coloraxis\": {\"colorbar\": {\"outlinewidth\": 0, \"ticks\": \"\"}}, \"colorscale\": {\"diverging\": [[0, \"#8e0152\"], [0.1, \"#c51b7d\"], [0.2, \"#de77ae\"], [0.3, \"#f1b6da\"], [0.4, \"#fde0ef\"], [0.5, \"#f7f7f7\"], [0.6, \"#e6f5d0\"], [0.7, \"#b8e186\"], [0.8, \"#7fbc41\"], [0.9, \"#4d9221\"], [1, \"#276419\"]], \"sequential\": [[0.0, \"#0d0887\"], [0.1111111111111111, \"#46039f\"], [0.2222222222222222, \"#7201a8\"], [0.3333333333333333, \"#9c179e\"], [0.4444444444444444, \"#bd3786\"], [0.5555555555555556, \"#d8576b\"], [0.6666666666666666, \"#ed7953\"], [0.7777777777777778, \"#fb9f3a\"], [0.8888888888888888, \"#fdca26\"], [1.0, \"#f0f921\"]], \"sequentialminus\": [[0.0, \"#0d0887\"], [0.1111111111111111, \"#46039f\"], [0.2222222222222222, \"#7201a8\"], [0.3333333333333333, \"#9c179e\"], [0.4444444444444444, \"#bd3786\"], [0.5555555555555556, \"#d8576b\"], [0.6666666666666666, \"#ed7953\"], [0.7777777777777778, \"#fb9f3a\"], [0.8888888888888888, \"#fdca26\"], [1.0, \"#f0f921\"]]}, \"colorway\": [\"#636efa\", \"#EF553B\", \"#00cc96\", \"#ab63fa\", \"#FFA15A\", \"#19d3f3\", \"#FF6692\", \"#B6E880\", \"#FF97FF\", \"#FECB52\"], \"font\": {\"color\": \"#2a3f5f\"}, \"geo\": {\"bgcolor\": \"white\", \"lakecolor\": \"white\", \"landcolor\": \"#E5ECF6\", \"showlakes\": true, \"showland\": true, \"subunitcolor\": \"white\"}, \"hoverlabel\": {\"align\": \"left\"}, \"hovermode\": \"closest\", \"mapbox\": {\"style\": \"light\"}, \"paper_bgcolor\": \"white\", \"plot_bgcolor\": \"#E5ECF6\", \"polar\": {\"angularaxis\": {\"gridcolor\": \"white\", \"linecolor\": \"white\", \"ticks\": \"\"}, \"bgcolor\": \"#E5ECF6\", \"radialaxis\": {\"gridcolor\": \"white\", \"linecolor\": \"white\", \"ticks\": \"\"}}, \"scene\": {\"xaxis\": {\"backgroundcolor\": \"#E5ECF6\", \"gridcolor\": \"white\", \"gridwidth\": 2, \"linecolor\": \"white\", \"showbackground\": true, \"ticks\": \"\", \"zerolinecolor\": \"white\"}, \"yaxis\": {\"backgroundcolor\": \"#E5ECF6\", \"gridcolor\": \"white\", \"gridwidth\": 2, \"linecolor\": \"white\", \"showbackground\": true, \"ticks\": \"\", \"zerolinecolor\": \"white\"}, \"zaxis\": {\"backgroundcolor\": \"#E5ECF6\", \"gridcolor\": \"white\", \"gridwidth\": 2, \"linecolor\": \"white\", \"showbackground\": true, \"ticks\": \"\", \"zerolinecolor\": \"white\"}}, \"shapedefaults\": {\"line\": {\"color\": \"#2a3f5f\"}}, \"ternary\": {\"aaxis\": {\"gridcolor\": \"white\", \"linecolor\": \"white\", \"ticks\": \"\"}, \"baxis\": {\"gridcolor\": \"white\", \"linecolor\": \"white\", \"ticks\": \"\"}, \"bgcolor\": \"#E5ECF6\", \"caxis\": {\"gridcolor\": \"white\", \"linecolor\": \"white\", \"ticks\": \"\"}}, \"title\": {\"x\": 0.05}, \"xaxis\": {\"automargin\": true, \"gridcolor\": \"white\", \"linecolor\": \"white\", \"ticks\": \"\", \"title\": {\"standoff\": 15}, \"zerolinecolor\": \"white\", \"zerolinewidth\": 2}, \"yaxis\": {\"automargin\": true, \"gridcolor\": \"white\", \"linecolor\": \"white\", \"ticks\": \"\", \"title\": {\"standoff\": 15}, \"zerolinecolor\": \"white\", \"zerolinewidth\": 2}}}, \"title\": {\"text\": \"3d TSNE Plot for Topic Model\"}, \"width\": 900},\n",
       "                        {\"responsive\": true}\n",
       "                    ).then(function(){\n",
       "                            \n",
       "var gd = document.getElementById('6289f66c-78b8-41af-8e71-498cc042f78e');\n",
       "var x = new MutationObserver(function (mutations, observer) {{\n",
       "        var display = window.getComputedStyle(gd).display;\n",
       "        if (!display || display === 'none') {{\n",
       "            console.log([gd, 'removed!']);\n",
       "            Plotly.purge(gd);\n",
       "            observer.disconnect();\n",
       "        }}\n",
       "}});\n",
       "\n",
       "// Listen for the removal of the full notebook cells\n",
       "var notebookContainer = gd.closest('#notebook-container');\n",
       "if (notebookContainer) {{\n",
       "    x.observe(notebookContainer, {childList: true});\n",
       "}}\n",
       "\n",
       "// Listen for the clearing of the current output cell\n",
       "var outputEl = gd.closest('.output');\n",
       "if (outputEl) {{\n",
       "    x.observe(outputEl, {childList: true});\n",
       "}}\n",
       "\n",
       "                        })\n",
       "                };\n",
       "                });\n",
       "            </script>\n",
       "        </div>"
      ]
     },
     "metadata": {},
     "output_type": "display_data"
    }
   ],
   "source": [
    "plot_model(lda, plot='tsne')"
   ]
  },
  {
   "cell_type": "code",
   "execution_count": 25,
   "metadata": {},
   "outputs": [
    {
     "data": {
      "text/html": [
       "        <script type=\"text/javascript\">\n",
       "        window.PlotlyConfig = {MathJaxConfig: 'local'};\n",
       "        if (window.MathJax) {MathJax.Hub.Config({SVG: {font: \"STIX-Web\"}});}\n",
       "        if (typeof require !== 'undefined') {\n",
       "        require.undef(\"plotly\");\n",
       "        requirejs.config({\n",
       "            paths: {\n",
       "                'plotly': ['https://cdn.plot.ly/plotly-latest.min']\n",
       "            }\n",
       "        });\n",
       "        require(['plotly'], function(Plotly) {\n",
       "            window._Plotly = Plotly;\n",
       "        });\n",
       "        }\n",
       "        </script>\n",
       "        "
      ]
     },
     "metadata": {},
     "output_type": "display_data"
    },
    {
     "data": {
      "image/png": "[encoded data removed]",
      "text/plain": [
       "<Figure size 720x432 with 1 Axes>"
      ]
     },
     "metadata": {},
     "output_type": "display_data"
    }
   ],
   "source": [
    "plot_model(lda, plot='umap')"
   ]
  },
  {
   "cell_type": "code",
   "execution_count": 27,
   "metadata": {},
   "outputs": [
    {
     "data": {
      "application/vnd.jupyter.widget-view+json": {
       "model_id": "4b38c2a2b0d8433c91ef3dad34afc313",
       "version_major": 2,
       "version_minor": 0
      },
      "text/plain": [
       "interactive(children=(ToggleButtons(description='Plot Type:', icons=('',), options=(('Frequency Plot', 'freque…"
      ]
     },
     "metadata": {},
     "output_type": "display_data"
    }
   ],
   "source": [
    "evaluate_model(lda)"
   ]
  },
  {
   "cell_type": "code",
   "execution_count": 28,
   "metadata": {},
   "outputs": [
    {
     "name": "stdout",
     "output_type": "stream",
     "text": [
      "Model Succesfully Saved\n"
     ]
    },
    {
     "data": {
      "text/plain": [
       "(<gensim.models.ldamodel.LdaModel at 0x2374f5e71c8>,\n",
       " 'final_models/Final NLP LDA Model 28Nov2020.pkl')"
      ]
     },
     "execution_count": 28,
     "metadata": {},
     "output_type": "execute_result"
    }
   ],
   "source": [
    "save_model(lda, 'final_models/Final NLP LDA Model 28Nov2020')"
   ]
  },
  {
   "cell_type": "code",
   "execution_count": null,
   "metadata": {},
   "outputs": [],
   "source": []
  }
 ],
 "metadata": {
  "kernelspec": {
   "display_name": "Python 3",
   "language": "python",
   "name": "python3"
  },
  "language_info": {
   "codemirror_mode": {
    "name": "ipython",
    "version": 3
   },
   "file_extension": ".py",
   "mimetype": "text/x-python",
   "name": "python",
   "nbconvert_exporter": "python",
   "pygments_lexer": "ipython3",
   "version": "3.7.6"
  }
 },
 "nbformat": 4,
 "nbformat_minor": 4
}
